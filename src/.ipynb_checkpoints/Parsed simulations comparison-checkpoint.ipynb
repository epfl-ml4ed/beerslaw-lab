{
 "cells": [
  {
   "cell_type": "markdown",
   "metadata": {},
   "source": [
    "# Imports"
   ]
  },
  {
   "cell_type": "code",
   "execution_count": 1,
   "metadata": {
    "ExecuteTime": {
     "end_time": "2021-09-27T08:48:56.679747Z",
     "start_time": "2021-09-27T08:48:54.671089Z"
    }
   },
   "outputs": [],
   "source": [
    "import os\n",
    "import pickle\n",
    "import dill\n",
    "import json\n",
    "\n",
    "import numpy as np\n",
    "import pandas as pd\n",
    "\n",
    "from matplotlib import pyplot as plt\n",
    "import seaborn as sns"
   ]
  },
  {
   "cell_type": "markdown",
   "metadata": {},
   "source": [
    "# Data"
   ]
  },
  {
   "cell_type": "code",
   "execution_count": 2,
   "metadata": {
    "ExecuteTime": {
     "end_time": "2021-09-27T08:49:29.405465Z",
     "start_time": "2021-09-27T08:48:56.686272Z"
    }
   },
   "outputs": [],
   "source": [
    "# Data from parsed simulations\n",
    "parsed_simulations = '../data/parsed simulations/'\n",
    "files = os.listdir(parsed_simulations)\n",
    "files_info = {}\n",
    "\n",
    "for file in files:\n",
    "    with open(parsed_simulations + file, 'rb') as fp:\n",
    "        ps = dill.load(fp)\n",
    "    files_info[file] = {\n",
    "        'learner_id': ps.get_learner_id(),\n",
    "        'permutation': ps.get_permutation()\n",
    "    }\n",
    "    "
   ]
  },
  {
   "cell_type": "code",
   "execution_count": 3,
   "metadata": {
    "ExecuteTime": {
     "end_time": "2021-09-27T08:49:35.356058Z",
     "start_time": "2021-09-27T08:49:35.138648Z"
    }
   },
   "outputs": [],
   "source": [
    "# Data from processed file\n",
    "with open('//ic1files.epfl.ch/D-VET/Projects/ChemLab/04_Processing/Processing/Data/PostTest/post_test.pkl', 'rb') as fp:\n",
    "    post_test = pickle.load(fp)\n",
    "    ranks = pd.DataFrame()\n",
    "    ranks['lid'] = post_test[0, 'username']\n",
    "    ranks['gender'] = post_test[0, 'gender']\n",
    "    ranks['year'] = post_test[0, 'year']\n",
    "    ranks['ranks'] = post_test[6, 'ranks']\n",
    "\n",
    "    ranks = ranks[ranks['ranks'].notna()]\n",
    "    ranks['permutation'] = ranks['ranks'].apply(lambda x: ''.join([str(r) for r in x]))\n",
    "    ranks = ranks.set_index('lid')"
   ]
  },
  {
   "cell_type": "code",
   "execution_count": 4,
   "metadata": {
    "ExecuteTime": {
     "end_time": "2021-09-27T08:49:37.147879Z",
     "start_time": "2021-09-27T08:49:37.129927Z"
    }
   },
   "outputs": [
    {
     "name": "stdout",
     "output_type": "stream",
     "text": [
      "{'57nwt7qa', 'c6tpxq9a', 'etxwsdtx', 'pt2nbb4w', 'ydws5xx9', 'e22ppyf7', 'u4zu9xxc', 'dmdc53tx', 'xdxyjh8j', 'f5wa2gzf', 'htf3xwbw', 'ddu7y6bv', 'vhsgf3xa', 'sqrqdsge', 'kcv4kfm2', 'w6az39g6', 'dk43m2pe', '4e438nww', '3se7z466', '5zrt4f8z', 'wbvxv9ju', 'n977pem4', 'xj86wyup', 'cb6wcvyn', 'u5ebbg3v', 'qfu6r8c7', 'p5ac3mu7', 'h8624awf', 'ebt3e6ae', 'da4vrrwz', 'jukxh9s4', '2dfxa5he', 'mvhzrv2y', 'a3tffvsb', 'vvtfq98r', '7sfwehhm', 'txg5vjzw', 'fw2ajjmt', 'hrhu4yph', 'nyyfpabq', '8p35t5qs', 'u9gxp77h', 'usa5gyb9', 'fjwcmt6y', 'pbxyuw7u', 'nsj6k2rg', '9x24tp6b', 'r8n3bcnu', 'k2erarrf', 'ww2m3qch', 'eq6xvgmg', 'qbf3sp76', '6hbvyq5m', '5278s35u', 'suz5fszu', 'urwu33jd', 'wef64erj', 'qyz6cdae', 'aj47uhb9', '786zpupn', 'n238pypu', 'mjh6emdj', 'tt5n8d2r', 'e2825x2d', 'rg4fgfyh', 'u2ntt4wv', 'bw2rzucq', '45dr5g22', '3gqs3sgc', 'rrykpeqz', 'rwu8yjw9', 'kj5abt7s', 'cb3z5rjs', 'habxmccr', '6z8t3mxa', 'ktd99zh9', '2pqdkrkw', 'drccqhk4', '39ggtzcu', 's43ut7tg', 'enqtt86p', 'g2vjxfvw', 'caq55qe8', 'srmr7pcp', 'rqpdjumr', 'xtxat8eg', 'xe7c36dk', 'r7pyyp9n', 'tbdn5up8', 's3ufctgg', 'uthx49rq', 'nmptx7nj', '4rxkb9bc', 'eru7f2dt', 'bbdd557u', 'abqwb5km', '84khcu2r', '8n8w8zkd', 'sx3vqc32', '84nmc3df', 'zxmtbzda', '9sgu2tbg', '2kk326rj', 'zbabnwym', 'aweu2ac8', 'mgr68u6f', 's78drqcg', 'qdp9ant4', 'prr8qsns', 'uqven68r', '8rtwmb8t', 'uekptbwk', 'addf7f7d', 'bm89te3c', 'ujp9fgpn', 'akgpua6j', 'mwwddfvg', 'sbjxmaqm', '2crhmbq7', 'ft5xsvy4', 'f3h5amf9', 'jkbx6axr', 'g6z8qykr', 'akzsmgnj', 'rqyaqs75', 'mb8mn3zx', 'xq567sht', 'pqd874qd', '6mrsnksc', 'h9t9mxtx', 'du727jdw', '7cm9kver', 'ur9sxzx7', 'puzxz678', '9aagpn4d', 'nemddmx6', '3pz22p3a', 'phcrjd9q', 'hkvk9vt9', 'mxh6jugj'}\n"
     ]
    }
   ],
   "source": [
    "learner_ids_parsed = [files_info[file]['learner_id'] for file in files_info]\n",
    "learner_ids_parsed = list(set(learner_ids_parsed))\n",
    "learner_ids_post = list(ranks.index)\n",
    "learner_ids_post = list(set(learner_ids_post))\n",
    "\n",
    "missing_ids = set(learner_ids_parsed).difference(set(learner_ids_post))\n",
    "\n",
    "print(missing_ids)"
   ]
  },
  {
   "cell_type": "code",
   "execution_count": 5,
   "metadata": {
    "ExecuteTime": {
     "end_time": "2021-09-27T08:49:45.480293Z",
     "start_time": "2021-09-27T08:49:45.465420Z"
    }
   },
   "outputs": [
    {
     "data": {
      "text/plain": [
       "140"
      ]
     },
     "execution_count": 5,
     "metadata": {},
     "output_type": "execute_result"
    }
   ],
   "source": [
    "missing_ids = set(learner_ids_post).difference(set(learner_ids_parsed))"
   ]
  },
  {
   "cell_type": "code",
   "execution_count": null,
   "metadata": {},
   "outputs": [],
   "source": []
  },
  {
   "cell_type": "code",
   "execution_count": null,
   "metadata": {},
   "outputs": [],
   "source": []
  },
  {
   "cell_type": "code",
   "execution_count": null,
   "metadata": {},
   "outputs": [],
   "source": []
  },
  {
   "cell_type": "code",
   "execution_count": null,
   "metadata": {},
   "outputs": [],
   "source": []
  },
  {
   "cell_type": "code",
   "execution_count": null,
   "metadata": {},
   "outputs": [],
   "source": []
  },
  {
   "cell_type": "code",
   "execution_count": null,
   "metadata": {},
   "outputs": [],
   "source": []
  },
  {
   "cell_type": "code",
   "execution_count": null,
   "metadata": {},
   "outputs": [],
   "source": []
  },
  {
   "cell_type": "code",
   "execution_count": null,
   "metadata": {},
   "outputs": [],
   "source": []
  },
  {
   "cell_type": "code",
   "execution_count": null,
   "metadata": {},
   "outputs": [],
   "source": []
  },
  {
   "cell_type": "code",
   "execution_count": null,
   "metadata": {},
   "outputs": [],
   "source": []
  },
  {
   "cell_type": "code",
   "execution_count": null,
   "metadata": {},
   "outputs": [],
   "source": []
  },
  {
   "cell_type": "code",
   "execution_count": null,
   "metadata": {},
   "outputs": [],
   "source": []
  },
  {
   "cell_type": "code",
   "execution_count": null,
   "metadata": {},
   "outputs": [],
   "source": []
  },
  {
   "cell_type": "code",
   "execution_count": null,
   "metadata": {},
   "outputs": [],
   "source": []
  },
  {
   "cell_type": "code",
   "execution_count": null,
   "metadata": {},
   "outputs": [],
   "source": []
  },
  {
   "cell_type": "code",
   "execution_count": null,
   "metadata": {},
   "outputs": [],
   "source": []
  },
  {
   "cell_type": "code",
   "execution_count": null,
   "metadata": {},
   "outputs": [],
   "source": []
  },
  {
   "cell_type": "code",
   "execution_count": null,
   "metadata": {},
   "outputs": [],
   "source": []
  },
  {
   "cell_type": "code",
   "execution_count": null,
   "metadata": {},
   "outputs": [],
   "source": []
  },
  {
   "cell_type": "code",
   "execution_count": null,
   "metadata": {},
   "outputs": [],
   "source": []
  },
  {
   "cell_type": "code",
   "execution_count": null,
   "metadata": {},
   "outputs": [],
   "source": []
  },
  {
   "cell_type": "code",
   "execution_count": null,
   "metadata": {},
   "outputs": [],
   "source": []
  },
  {
   "cell_type": "code",
   "execution_count": null,
   "metadata": {},
   "outputs": [],
   "source": []
  },
  {
   "cell_type": "code",
   "execution_count": null,
   "metadata": {},
   "outputs": [],
   "source": []
  },
  {
   "cell_type": "code",
   "execution_count": null,
   "metadata": {},
   "outputs": [],
   "source": []
  },
  {
   "cell_type": "code",
   "execution_count": null,
   "metadata": {},
   "outputs": [],
   "source": []
  },
  {
   "cell_type": "code",
   "execution_count": null,
   "metadata": {},
   "outputs": [],
   "source": []
  },
  {
   "cell_type": "code",
   "execution_count": null,
   "metadata": {},
   "outputs": [],
   "source": []
  },
  {
   "cell_type": "code",
   "execution_count": null,
   "metadata": {},
   "outputs": [],
   "source": []
  }
 ],
 "metadata": {
  "kernelspec": {
   "display_name": "Python 3",
   "language": "python",
   "name": "python3"
  },
  "language_info": {
   "codemirror_mode": {
    "name": "ipython",
    "version": 3
   },
   "file_extension": ".py",
   "mimetype": "text/x-python",
   "name": "python",
   "nbconvert_exporter": "python",
   "pygments_lexer": "ipython3",
   "version": "3.6.12"
  },
  "toc": {
   "base_numbering": 1,
   "nav_menu": {},
   "number_sections": true,
   "sideBar": true,
   "skip_h1_title": false,
   "title_cell": "Table of Contents",
   "title_sidebar": "Contents",
   "toc_cell": false,
   "toc_position": {},
   "toc_section_display": true,
   "toc_window_display": false
  }
 },
 "nbformat": 4,
 "nbformat_minor": 4
}
