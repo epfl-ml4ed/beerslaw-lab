{
 "cells": [
  {
   "cell_type": "code",
   "execution_count": 1,
   "metadata": {
    "ExecuteTime": {
     "end_time": "2020-10-19T21:03:12.509874Z",
     "start_time": "2020-10-19T21:03:10.451457Z"
    }
   },
   "outputs": [],
   "source": [
    "import json\n",
    "import pickle\n",
    "\n",
    "import numpy as np\n",
    "import pandas as pd\n",
    "from datetime import datetime\n",
    "\n",
    "import seaborn as sns\n",
    "from matplotlib import pyplot as plt"
   ]
  },
  {
   "cell_type": "markdown",
   "metadata": {},
   "source": [
    "# Read Data"
   ]
  },
  {
   "cell_type": "code",
   "execution_count": 2,
   "metadata": {
    "ExecuteTime": {
     "end_time": "2020-10-19T21:03:13.287406Z",
     "start_time": "2020-10-19T21:03:12.643076Z"
    }
   },
   "outputs": [],
   "source": [
    "phys1120 = pd.read_excel('../Data/CapacitorLab/Phys1120+Capacitor+Lab+Homework_withMetacogIDs_Consenting_Text.xlsx')\n",
    "phys1125 = pd.read_excel('../Data/CapacitorLab/Phys1125+Capacitor+Lab+Homework_withMetacogIDs_Consenting_Text.xlsx')\n",
    "\n",
    "columns = [\n",
    "    'start_date', 'end_date', 'status', 'ip_address', 'progress', 'duration', 'finished', \n",
    "    'recorded_date', 'response_id', 'recipient_last_name', 'recipient_first_name', \n",
    "    'recipient_email', 'external_reference', 'location_latitude', 'location_longitude', \n",
    "    'distribution_channel', 'user_language', 'metadata_browser', 'metadata_version',\n",
    "    'metadata_operating_system', 'metadata_resolution', 'consent', 'metacog_id', \n",
    "    'eq1', 'eq2', 'cq1_1', 'cq1_2', 'cq1_3', 'cq1_4', 'cq2', 'pq1c', 'pq1e', 'pq2', 'pq21_text',\n",
    "    'pq23_text', 'pq3', 'pq31_text', 'pq_3_3_text', 'pq_4', 'pq41_text', 'pq43_text',\n",
    "    'pq5', 'pq51_text', 'pq53_text', 'pq6', 'pq61_text', 'pq63_text', 'pq7'\n",
    "]\n",
    "phys1120.columns = columns\n",
    "phys1120 = phys1120.iloc[2:]\n",
    "phys1120['group'] = '1120'\n",
    "\n",
    "phys1125.columns = columns\n",
    "phys1125 = phys1125.iloc[2:]\n",
    "phys1125['group'] = '1125'\n",
    "\n",
    "phys = phys1120.append(phys1125)"
   ]
  },
  {
   "cell_type": "markdown",
   "metadata": {
    "ExecuteTime": {
     "end_time": "2020-09-29T09:34:45.793122Z",
     "start_time": "2020-09-29T09:34:45.729662Z"
    }
   },
   "source": [
    "# Ranking"
   ]
  },
  {
   "cell_type": "code",
   "execution_count": 14,
   "metadata": {
    "ExecuteTime": {
     "end_time": "2020-10-19T21:09:44.405015Z",
     "start_time": "2020-10-19T21:09:44.366118Z"
    }
   },
   "outputs": [],
   "source": [
    "ranking_columns = [\n",
    "    'recorded_date', 'response_id', 'metacog_id', 'cq1_1', 'cq1_2', 'cq1_3', 'cq1_4'\n",
    "]\n",
    "rank_df = phys[ranking_columns]\n",
    "\n",
    "ranks = [\n",
    "    '1 (greatest amount of stored energy)', \n",
    "    '2',\n",
    "    '3', \n",
    "    '4 (least amount of stored energy)'       \n",
    "]\n",
    "rank_df = rank_df[rank_df['cq1_1'].isin(ranks)]\n",
    "renaming = {\n",
    "    'cq1_1' : 'rank_param1', 'cq1_2' : 'rank_param2', 'cq1_3' : 'rank_param3', 'cq1_4' : 'rank_param4'\n",
    "}\n",
    "rank_df = rank_df.rename(columns=renaming)\n",
    "\n",
    "rank_df['rank_param1'] = rank_df['rank_param1'].replace('1 (greatest amount of stored energy)', '1')\n",
    "rank_df['rank_param1'] = rank_df['rank_param1'].replace('4 (least amount of stored energy)', '4')\n",
    "rank_df['rank_param1'] = rank_df['rank_param1'].astype(int)\n",
    "rank_df['rank_param2'] = rank_df['rank_param2'].replace('1 (greatest amount of stored energy)', '1')\n",
    "rank_df['rank_param2'] = rank_df['rank_param2'].replace('4 (least amount of stored energy)', '4')\n",
    "rank_df['rank_param2'] = rank_df['rank_param2'].astype(int)\n",
    "rank_df['rank_param3'] = rank_df['rank_param3'].replace('1 (greatest amount of stored energy)', '1')\n",
    "rank_df['rank_param3'] = rank_df['rank_param3'].replace('4 (least amount of stored energy)', '4')\n",
    "rank_df['rank_param3'] = rank_df['rank_param3'].astype(int)\n",
    "rank_df['rank_param4'] = rank_df['rank_param4'].replace('1 (greatest amount of stored energy)', '1')\n",
    "rank_df['rank_param4'] = rank_df['rank_param4'].replace('4 (least amount of stored energy)', '4')\n",
    "rank_df['rank_param4'] = rank_df['rank_param4'].astype(int)"
   ]
  },
  {
   "cell_type": "code",
   "execution_count": 15,
   "metadata": {
    "ExecuteTime": {
     "end_time": "2020-10-19T21:09:45.482276Z",
     "start_time": "2020-10-19T21:09:45.440393Z"
    }
   },
   "outputs": [],
   "source": [
    "def createDicScores(row):\n",
    "    dic = {\n",
    "        '1' : row['rank_param1'],\n",
    "        '2' : row['rank_param2'],\n",
    "        '3' : row['rank_param3'],\n",
    "        '4' : row['rank_param4']\n",
    "    }\n",
    "    return dic\n",
    "\n",
    "def createSequence(dic):\n",
    "    revert = {value : key for (key, value) in dic.items()}\n",
    "    seq = []\n",
    "    if 1 in revert:\n",
    "        seq.append(revert[1])\n",
    "    if 2 in revert:\n",
    "        seq.append(revert[2])\n",
    "    if 3 in revert:\n",
    "        seq.append(revert[3])\n",
    "    if 4 in revert:\n",
    "        seq.append(revert[4])\n",
    "    return seq\n",
    "\n",
    "\n",
    "\n",
    "def getScores1(dic):\n",
    "    # order = 3, 2, 4, 1\n",
    "    score = 0\n",
    "    if dic['4'] < dic['2']:\n",
    "        score += 1\n",
    "    if dic['4'] < dic['1']:\n",
    "        score += 1\n",
    "    if dic['4'] < dic['3']:\n",
    "        score += 1\n",
    "        \n",
    "    if dic['2'] < dic['1']:\n",
    "        score += 1\n",
    "    if dic['2'] < dic['3']:\n",
    "        score += 1\n",
    "    \n",
    "    if dic['1'] < dic['3']:\n",
    "        score += 1\n",
    "        \n",
    "    score /= 6\n",
    "    return score\n",
    "\n",
    "def getScores2(dic):\n",
    "    score = 0\n",
    "    if dic['3'] > dic['1']:\n",
    "        score += 1\n",
    "    if dic['3'] > dic['2']:\n",
    "        score += 1\n",
    "    if dic['3'] > dic['4']:\n",
    "        score += 1\n",
    "        \n",
    "    if dic['1'] > dic['2']:\n",
    "        score += 1\n",
    "    if dic['1'] > dic['4']:\n",
    "        score += 1\n",
    "        \n",
    "    if dic['2'] > dic['4']:\n",
    "        score += 1\n",
    "        \n",
    "    if dic['4'] < dic['2']:\n",
    "        score += 1\n",
    "    if dic['4'] < dic['1']:\n",
    "        score += 1\n",
    "    if dic['4'] < dic['3']:\n",
    "        score += 1\n",
    "        \n",
    "    if dic['2'] < dic['1']:\n",
    "        score += 1\n",
    "    if dic['2'] < dic['3']:\n",
    "        score += 1\n",
    "    \n",
    "    if dic['1'] < dic['3']:\n",
    "        score += 1\n",
    "        \n",
    "    score /= 12\n",
    "    return score"
   ]
  },
  {
   "cell_type": "code",
   "execution_count": 35,
   "metadata": {
    "ExecuteTime": {
     "end_time": "2020-10-20T08:18:55.605273Z",
     "start_time": "2020-10-20T08:18:55.595301Z"
    }
   },
   "outputs": [],
   "source": [
    "def prettyScores(score):\n",
    "    return int(score * 6)"
   ]
  },
  {
   "cell_type": "code",
   "execution_count": 40,
   "metadata": {
    "ExecuteTime": {
     "end_time": "2020-10-20T08:19:44.949078Z",
     "start_time": "2020-10-20T08:19:44.940101Z"
    }
   },
   "outputs": [],
   "source": [
    "rank_df['pretty_score'] = rank_df['score_ranking6'].apply(prettyScores)"
   ]
  },
  {
   "cell_type": "code",
   "execution_count": 41,
   "metadata": {
    "ExecuteTime": {
     "end_time": "2020-10-20T08:19:45.198371Z",
     "start_time": "2020-10-20T08:19:45.127766Z"
    }
   },
   "outputs": [],
   "source": [
    "rank_df['dic_ranking'] = rank_df.apply(createDicScores, axis=1)\n",
    "rank_df['sequence'] = rank_df['dic_ranking'].apply(createSequence)\n",
    "rank_df['score_ranking6'] = rank_df['dic_ranking'].apply(getScores1)\n",
    "rank_df['score_ranking12'] = rank_df['dic_ranking'].apply(getScores2)\n"
   ]
  },
  {
   "cell_type": "code",
   "execution_count": 37,
   "metadata": {
    "ExecuteTime": {
     "end_time": "2020-10-20T08:19:17.686836Z",
     "start_time": "2020-10-20T08:19:17.654921Z"
    }
   },
   "outputs": [
    {
     "data": {
      "text/html": [
       "<div>\n",
       "<style scoped>\n",
       "    .dataframe tbody tr th:only-of-type {\n",
       "        vertical-align: middle;\n",
       "    }\n",
       "\n",
       "    .dataframe tbody tr th {\n",
       "        vertical-align: top;\n",
       "    }\n",
       "\n",
       "    .dataframe thead th {\n",
       "        text-align: right;\n",
       "    }\n",
       "</style>\n",
       "<table border=\"1\" class=\"dataframe\">\n",
       "  <thead>\n",
       "    <tr style=\"text-align: right;\">\n",
       "      <th></th>\n",
       "      <th>recorded_date</th>\n",
       "      <th>response_id</th>\n",
       "      <th>metacog_id</th>\n",
       "      <th>rank_param1</th>\n",
       "      <th>rank_param2</th>\n",
       "      <th>rank_param3</th>\n",
       "      <th>rank_param4</th>\n",
       "      <th>dic_ranking</th>\n",
       "      <th>sequence</th>\n",
       "      <th>score_ranking6</th>\n",
       "      <th>score_ranking12</th>\n",
       "      <th>pretty_score</th>\n",
       "    </tr>\n",
       "  </thead>\n",
       "  <tbody>\n",
       "    <tr>\n",
       "      <th>119</th>\n",
       "      <td>2018-02-06 00:07:07</td>\n",
       "      <td>R_8v2EdtEbV46o7qp</td>\n",
       "      <td>395072298.0</td>\n",
       "      <td>3</td>\n",
       "      <td>1</td>\n",
       "      <td>4</td>\n",
       "      <td>2</td>\n",
       "      <td>{'1': 3, '2': 1, '3': 4, '4': 2}</td>\n",
       "      <td>[2, 4, 1, 3]</td>\n",
       "      <td>0.833333</td>\n",
       "      <td>0.833333</td>\n",
       "      <td>5</td>\n",
       "    </tr>\n",
       "  </tbody>\n",
       "</table>\n",
       "</div>"
      ],
      "text/plain": [
       "           recorded_date        response_id   metacog_id  rank_param1  \\\n",
       "119  2018-02-06 00:07:07  R_8v2EdtEbV46o7qp  395072298.0            3   \n",
       "\n",
       "     rank_param2  rank_param3  rank_param4                       dic_ranking  \\\n",
       "119            1            4            2  {'1': 3, '2': 1, '3': 4, '4': 2}   \n",
       "\n",
       "         sequence  score_ranking6  score_ranking12  pretty_score  \n",
       "119  [2, 4, 1, 3]        0.833333         0.833333             5  "
      ]
     },
     "execution_count": 37,
     "metadata": {},
     "output_type": "execute_result"
    }
   ],
   "source": [
    "rank_df[rank_df['metacog_id'] == 395072298]"
   ]
  },
  {
   "cell_type": "code",
   "execution_count": 39,
   "metadata": {
    "ExecuteTime": {
     "end_time": "2020-10-20T08:19:31.964015Z",
     "start_time": "2020-10-20T08:19:31.805144Z"
    }
   },
   "outputs": [
    {
     "ename": "KeyError",
     "evalue": "'pretty_score'",
     "output_type": "error",
     "traceback": [
      "\u001b[1;31m---------------------------------------------------------------------------\u001b[0m",
      "\u001b[1;31mTypeError\u001b[0m                                 Traceback (most recent call last)",
      "\u001b[1;32m~\\anaconda3\\envs\\ChiliModels\\lib\\site-packages\\pandas\\core\\indexes\\base.py\u001b[0m in \u001b[0;36mget_value\u001b[1;34m(self, series, key)\u001b[0m\n\u001b[0;32m   4410\u001b[0m             \u001b[1;32mtry\u001b[0m\u001b[1;33m:\u001b[0m\u001b[1;33m\u001b[0m\u001b[1;33m\u001b[0m\u001b[0m\n\u001b[1;32m-> 4411\u001b[1;33m                 \u001b[1;32mreturn\u001b[0m \u001b[0mlibindex\u001b[0m\u001b[1;33m.\u001b[0m\u001b[0mget_value_at\u001b[0m\u001b[1;33m(\u001b[0m\u001b[0ms\u001b[0m\u001b[1;33m,\u001b[0m \u001b[0mkey\u001b[0m\u001b[1;33m)\u001b[0m\u001b[1;33m\u001b[0m\u001b[1;33m\u001b[0m\u001b[0m\n\u001b[0m\u001b[0;32m   4412\u001b[0m             \u001b[1;32mexcept\u001b[0m \u001b[0mIndexError\u001b[0m\u001b[1;33m:\u001b[0m\u001b[1;33m\u001b[0m\u001b[1;33m\u001b[0m\u001b[0m\n",
      "\u001b[1;32mpandas\\_libs\\index.pyx\u001b[0m in \u001b[0;36mpandas._libs.index.get_value_at\u001b[1;34m()\u001b[0m\n",
      "\u001b[1;32mpandas\\_libs\\index.pyx\u001b[0m in \u001b[0;36mpandas._libs.index.get_value_at\u001b[1;34m()\u001b[0m\n",
      "\u001b[1;32mpandas\\_libs\\util.pxd\u001b[0m in \u001b[0;36mpandas._libs.util.get_value_at\u001b[1;34m()\u001b[0m\n",
      "\u001b[1;32mpandas\\_libs\\util.pxd\u001b[0m in \u001b[0;36mpandas._libs.util.validate_indexer\u001b[1;34m()\u001b[0m\n",
      "\u001b[1;31mTypeError\u001b[0m: 'str' object cannot be interpreted as an integer",
      "\nDuring handling of the above exception, another exception occurred:\n",
      "\u001b[1;31mKeyError\u001b[0m                                  Traceback (most recent call last)",
      "\u001b[1;32m<ipython-input-39-569b249b3482>\u001b[0m in \u001b[0;36m<module>\u001b[1;34m\u001b[0m\n\u001b[0;32m      7\u001b[0m         \u001b[1;34m'rank_param3'\u001b[0m \u001b[1;33m:\u001b[0m \u001b[0mrow\u001b[0m\u001b[1;33m[\u001b[0m\u001b[1;34m'rank_param3'\u001b[0m\u001b[1;33m]\u001b[0m\u001b[1;33m,\u001b[0m\u001b[1;33m\u001b[0m\u001b[1;33m\u001b[0m\u001b[0m\n\u001b[0;32m      8\u001b[0m         \u001b[1;34m'rank_param4'\u001b[0m \u001b[1;33m:\u001b[0m \u001b[0mrow\u001b[0m\u001b[1;33m[\u001b[0m\u001b[1;34m'rank_param4'\u001b[0m\u001b[1;33m]\u001b[0m\u001b[1;33m,\u001b[0m\u001b[1;33m\u001b[0m\u001b[1;33m\u001b[0m\u001b[0m\n\u001b[1;32m----> 9\u001b[1;33m         \u001b[1;34m'score'\u001b[0m \u001b[1;33m:\u001b[0m \u001b[0mrow\u001b[0m\u001b[1;33m[\u001b[0m\u001b[1;34m'pretty_score'\u001b[0m\u001b[1;33m]\u001b[0m\u001b[1;33m\u001b[0m\u001b[1;33m\u001b[0m\u001b[0m\n\u001b[0m\u001b[0;32m     10\u001b[0m     }\n",
      "\u001b[1;32m~\\anaconda3\\envs\\ChiliModels\\lib\\site-packages\\pandas\\core\\series.py\u001b[0m in \u001b[0;36m__getitem__\u001b[1;34m(self, key)\u001b[0m\n\u001b[0;32m    869\u001b[0m         \u001b[0mkey\u001b[0m \u001b[1;33m=\u001b[0m \u001b[0mcom\u001b[0m\u001b[1;33m.\u001b[0m\u001b[0mapply_if_callable\u001b[0m\u001b[1;33m(\u001b[0m\u001b[0mkey\u001b[0m\u001b[1;33m,\u001b[0m \u001b[0mself\u001b[0m\u001b[1;33m)\u001b[0m\u001b[1;33m\u001b[0m\u001b[1;33m\u001b[0m\u001b[0m\n\u001b[0;32m    870\u001b[0m         \u001b[1;32mtry\u001b[0m\u001b[1;33m:\u001b[0m\u001b[1;33m\u001b[0m\u001b[1;33m\u001b[0m\u001b[0m\n\u001b[1;32m--> 871\u001b[1;33m             \u001b[0mresult\u001b[0m \u001b[1;33m=\u001b[0m \u001b[0mself\u001b[0m\u001b[1;33m.\u001b[0m\u001b[0mindex\u001b[0m\u001b[1;33m.\u001b[0m\u001b[0mget_value\u001b[0m\u001b[1;33m(\u001b[0m\u001b[0mself\u001b[0m\u001b[1;33m,\u001b[0m \u001b[0mkey\u001b[0m\u001b[1;33m)\u001b[0m\u001b[1;33m\u001b[0m\u001b[1;33m\u001b[0m\u001b[0m\n\u001b[0m\u001b[0;32m    872\u001b[0m \u001b[1;33m\u001b[0m\u001b[0m\n\u001b[0;32m    873\u001b[0m             \u001b[1;32mif\u001b[0m \u001b[1;32mnot\u001b[0m \u001b[0mis_scalar\u001b[0m\u001b[1;33m(\u001b[0m\u001b[0mresult\u001b[0m\u001b[1;33m)\u001b[0m\u001b[1;33m:\u001b[0m\u001b[1;33m\u001b[0m\u001b[1;33m\u001b[0m\u001b[0m\n",
      "\u001b[1;32m~\\anaconda3\\envs\\ChiliModels\\lib\\site-packages\\pandas\\core\\indexes\\base.py\u001b[0m in \u001b[0;36mget_value\u001b[1;34m(self, series, key)\u001b[0m\n\u001b[0;32m   4417\u001b[0m                     \u001b[1;32mraise\u001b[0m \u001b[0mInvalidIndexError\u001b[0m\u001b[1;33m(\u001b[0m\u001b[0mkey\u001b[0m\u001b[1;33m)\u001b[0m\u001b[1;33m\u001b[0m\u001b[1;33m\u001b[0m\u001b[0m\n\u001b[0;32m   4418\u001b[0m                 \u001b[1;32melse\u001b[0m\u001b[1;33m:\u001b[0m\u001b[1;33m\u001b[0m\u001b[1;33m\u001b[0m\u001b[0m\n\u001b[1;32m-> 4419\u001b[1;33m                     \u001b[1;32mraise\u001b[0m \u001b[0me1\u001b[0m\u001b[1;33m\u001b[0m\u001b[1;33m\u001b[0m\u001b[0m\n\u001b[0m\u001b[0;32m   4420\u001b[0m             \u001b[1;32mexcept\u001b[0m \u001b[0mException\u001b[0m\u001b[1;33m:\u001b[0m\u001b[1;33m\u001b[0m\u001b[1;33m\u001b[0m\u001b[0m\n\u001b[0;32m   4421\u001b[0m                 \u001b[1;32mraise\u001b[0m \u001b[0me1\u001b[0m\u001b[1;33m\u001b[0m\u001b[1;33m\u001b[0m\u001b[0m\n",
      "\u001b[1;32m~\\anaconda3\\envs\\ChiliModels\\lib\\site-packages\\pandas\\core\\indexes\\base.py\u001b[0m in \u001b[0;36mget_value\u001b[1;34m(self, series, key)\u001b[0m\n\u001b[0;32m   4403\u001b[0m         \u001b[0mk\u001b[0m \u001b[1;33m=\u001b[0m \u001b[0mself\u001b[0m\u001b[1;33m.\u001b[0m\u001b[0m_convert_scalar_indexer\u001b[0m\u001b[1;33m(\u001b[0m\u001b[0mk\u001b[0m\u001b[1;33m,\u001b[0m \u001b[0mkind\u001b[0m\u001b[1;33m=\u001b[0m\u001b[1;34m\"getitem\"\u001b[0m\u001b[1;33m)\u001b[0m\u001b[1;33m\u001b[0m\u001b[1;33m\u001b[0m\u001b[0m\n\u001b[0;32m   4404\u001b[0m         \u001b[1;32mtry\u001b[0m\u001b[1;33m:\u001b[0m\u001b[1;33m\u001b[0m\u001b[1;33m\u001b[0m\u001b[0m\n\u001b[1;32m-> 4405\u001b[1;33m             \u001b[1;32mreturn\u001b[0m \u001b[0mself\u001b[0m\u001b[1;33m.\u001b[0m\u001b[0m_engine\u001b[0m\u001b[1;33m.\u001b[0m\u001b[0mget_value\u001b[0m\u001b[1;33m(\u001b[0m\u001b[0ms\u001b[0m\u001b[1;33m,\u001b[0m \u001b[0mk\u001b[0m\u001b[1;33m,\u001b[0m \u001b[0mtz\u001b[0m\u001b[1;33m=\u001b[0m\u001b[0mgetattr\u001b[0m\u001b[1;33m(\u001b[0m\u001b[0mseries\u001b[0m\u001b[1;33m.\u001b[0m\u001b[0mdtype\u001b[0m\u001b[1;33m,\u001b[0m \u001b[1;34m\"tz\"\u001b[0m\u001b[1;33m,\u001b[0m \u001b[1;32mNone\u001b[0m\u001b[1;33m)\u001b[0m\u001b[1;33m)\u001b[0m\u001b[1;33m\u001b[0m\u001b[1;33m\u001b[0m\u001b[0m\n\u001b[0m\u001b[0;32m   4406\u001b[0m         \u001b[1;32mexcept\u001b[0m \u001b[0mKeyError\u001b[0m \u001b[1;32mas\u001b[0m \u001b[0me1\u001b[0m\u001b[1;33m:\u001b[0m\u001b[1;33m\u001b[0m\u001b[1;33m\u001b[0m\u001b[0m\n\u001b[0;32m   4407\u001b[0m             \u001b[1;32mif\u001b[0m \u001b[0mlen\u001b[0m\u001b[1;33m(\u001b[0m\u001b[0mself\u001b[0m\u001b[1;33m)\u001b[0m \u001b[1;33m>\u001b[0m \u001b[1;36m0\u001b[0m \u001b[1;32mand\u001b[0m \u001b[1;33m(\u001b[0m\u001b[0mself\u001b[0m\u001b[1;33m.\u001b[0m\u001b[0mholds_integer\u001b[0m\u001b[1;33m(\u001b[0m\u001b[1;33m)\u001b[0m \u001b[1;32mor\u001b[0m \u001b[0mself\u001b[0m\u001b[1;33m.\u001b[0m\u001b[0mis_boolean\u001b[0m\u001b[1;33m(\u001b[0m\u001b[1;33m)\u001b[0m\u001b[1;33m)\u001b[0m\u001b[1;33m:\u001b[0m\u001b[1;33m\u001b[0m\u001b[1;33m\u001b[0m\u001b[0m\n",
      "\u001b[1;32mpandas\\_libs\\index.pyx\u001b[0m in \u001b[0;36mpandas._libs.index.IndexEngine.get_value\u001b[1;34m()\u001b[0m\n",
      "\u001b[1;32mpandas\\_libs\\index.pyx\u001b[0m in \u001b[0;36mpandas._libs.index.IndexEngine.get_value\u001b[1;34m()\u001b[0m\n",
      "\u001b[1;32mpandas\\_libs\\index.pyx\u001b[0m in \u001b[0;36mpandas._libs.index.IndexEngine.get_loc\u001b[1;34m()\u001b[0m\n",
      "\u001b[1;32mpandas\\_libs\\hashtable_class_helper.pxi\u001b[0m in \u001b[0;36mpandas._libs.hashtable.PyObjectHashTable.get_item\u001b[1;34m()\u001b[0m\n",
      "\u001b[1;32mpandas\\_libs\\hashtable_class_helper.pxi\u001b[0m in \u001b[0;36mpandas._libs.hashtable.PyObjectHashTable.get_item\u001b[1;34m()\u001b[0m\n",
      "\u001b[1;31mKeyError\u001b[0m: 'pretty_score'"
     ]
    }
   ],
   "source": [
    "rankjson = rank_df[['metacog_id', 'rank_param1', 'rank_param2', 'rank_param3', 'rank_param4', 'pretty_score']]\n",
    "for i in range(len(rankjson)):\n",
    "    row = rankjson.iloc[i]\n",
    "    rank_dic[row['metacog_id']] = {\n",
    "        'rank_param1' : row['rank_param1'],\n",
    "        'rank_param2' : row['rank_param2'],\n",
    "        'rank_param3' : row['rank_param3'],\n",
    "        'rank_param4' : row['rank_param4'],\n",
    "        'score' : row['pretty_score']\n",
    "    }"
   ]
  },
  {
   "cell_type": "code",
   "execution_count": null,
   "metadata": {},
   "outputs": [],
   "source": [
    "395072298"
   ]
  },
  {
   "cell_type": "code",
   "execution_count": 34,
   "metadata": {
    "ExecuteTime": {
     "end_time": "2020-10-20T08:12:38.787858Z",
     "start_time": "2020-10-20T08:12:38.778650Z"
    }
   },
   "outputs": [
    {
     "data": {
      "text/plain": [
       "numpy.float64"
      ]
     },
     "execution_count": 34,
     "metadata": {},
     "output_type": "execute_result"
    }
   ],
   "source": [
    "type(list(rank_dic.keys())[0])"
   ]
  },
  {
   "cell_type": "code",
   "execution_count": 31,
   "metadata": {
    "ExecuteTime": {
     "end_time": "2020-10-20T08:11:19.167907Z",
     "start_time": "2020-10-20T08:11:19.158933Z"
    }
   },
   "outputs": [
    {
     "data": {
      "text/plain": [
       "True"
      ]
     },
     "execution_count": 31,
     "metadata": {},
     "output_type": "execute_result"
    }
   ],
   "source": [
    "395072298 in rank_dic.keys()"
   ]
  },
  {
   "cell_type": "code",
   "execution_count": 32,
   "metadata": {
    "ExecuteTime": {
     "end_time": "2020-10-20T08:11:26.145129Z",
     "start_time": "2020-10-20T08:11:26.137152Z"
    }
   },
   "outputs": [
    {
     "data": {
      "text/plain": [
       "{'rank_param1': 3.0,\n",
       " 'rank_param2': 1.0,\n",
       " 'rank_param3': 4.0,\n",
       " 'rank_param4': 2.0,\n",
       " 'score': 0.8333333333333334}"
      ]
     },
     "execution_count": 32,
     "metadata": {},
     "output_type": "execute_result"
    }
   ],
   "source": [
    "rank_dic[395072298]"
   ]
  },
  {
   "cell_type": "code",
   "execution_count": 22,
   "metadata": {
    "ExecuteTime": {
     "end_time": "2020-10-19T21:16:15.854414Z",
     "start_time": "2020-10-19T21:16:15.837204Z"
    }
   },
   "outputs": [],
   "source": [
    "with open('./rank_params.pkl', 'wb') as fp:\n",
    "    pickle.dump(rank_dic, fp)"
   ]
  },
  {
   "cell_type": "code",
   "execution_count": 24,
   "metadata": {
    "ExecuteTime": {
     "end_time": "2020-10-20T08:10:23.201741Z",
     "start_time": "2020-10-20T08:10:23.051589Z"
    }
   },
   "outputs": [
    {
     "ename": "KeyError",
     "evalue": "'395072298'",
     "output_type": "error",
     "traceback": [
      "\u001b[1;31m---------------------------------------------------------------------------\u001b[0m",
      "\u001b[1;31mKeyError\u001b[0m                                  Traceback (most recent call last)",
      "\u001b[1;32m~\\anaconda3\\envs\\ChiliModels\\lib\\site-packages\\pandas\\core\\indexes\\base.py\u001b[0m in \u001b[0;36mget_loc\u001b[1;34m(self, key, method, tolerance)\u001b[0m\n\u001b[0;32m   2645\u001b[0m             \u001b[1;32mtry\u001b[0m\u001b[1;33m:\u001b[0m\u001b[1;33m\u001b[0m\u001b[1;33m\u001b[0m\u001b[0m\n\u001b[1;32m-> 2646\u001b[1;33m                 \u001b[1;32mreturn\u001b[0m \u001b[0mself\u001b[0m\u001b[1;33m.\u001b[0m\u001b[0m_engine\u001b[0m\u001b[1;33m.\u001b[0m\u001b[0mget_loc\u001b[0m\u001b[1;33m(\u001b[0m\u001b[0mkey\u001b[0m\u001b[1;33m)\u001b[0m\u001b[1;33m\u001b[0m\u001b[1;33m\u001b[0m\u001b[0m\n\u001b[0m\u001b[0;32m   2647\u001b[0m             \u001b[1;32mexcept\u001b[0m \u001b[0mKeyError\u001b[0m\u001b[1;33m:\u001b[0m\u001b[1;33m\u001b[0m\u001b[1;33m\u001b[0m\u001b[0m\n",
      "\u001b[1;32mpandas\\_libs\\index.pyx\u001b[0m in \u001b[0;36mpandas._libs.index.IndexEngine.get_loc\u001b[1;34m()\u001b[0m\n",
      "\u001b[1;32mpandas\\_libs\\index.pyx\u001b[0m in \u001b[0;36mpandas._libs.index.IndexEngine.get_loc\u001b[1;34m()\u001b[0m\n",
      "\u001b[1;32mpandas\\_libs\\hashtable_class_helper.pxi\u001b[0m in \u001b[0;36mpandas._libs.hashtable.PyObjectHashTable.get_item\u001b[1;34m()\u001b[0m\n",
      "\u001b[1;32mpandas\\_libs\\hashtable_class_helper.pxi\u001b[0m in \u001b[0;36mpandas._libs.hashtable.PyObjectHashTable.get_item\u001b[1;34m()\u001b[0m\n",
      "\u001b[1;31mKeyError\u001b[0m: '395072298'",
      "\nDuring handling of the above exception, another exception occurred:\n",
      "\u001b[1;31mKeyError\u001b[0m                                  Traceback (most recent call last)",
      "\u001b[1;32m<ipython-input-24-82a4ec1e9c9b>\u001b[0m in \u001b[0;36m<module>\u001b[1;34m\u001b[0m\n\u001b[1;32m----> 1\u001b[1;33m \u001b[0mrank_df\u001b[0m\u001b[1;33m[\u001b[0m\u001b[1;34m'395072298'\u001b[0m\u001b[1;33m]\u001b[0m\u001b[1;33m\u001b[0m\u001b[1;33m\u001b[0m\u001b[0m\n\u001b[0m",
      "\u001b[1;32m~\\anaconda3\\envs\\ChiliModels\\lib\\site-packages\\pandas\\core\\frame.py\u001b[0m in \u001b[0;36m__getitem__\u001b[1;34m(self, key)\u001b[0m\n\u001b[0;32m   2798\u001b[0m             \u001b[1;32mif\u001b[0m \u001b[0mself\u001b[0m\u001b[1;33m.\u001b[0m\u001b[0mcolumns\u001b[0m\u001b[1;33m.\u001b[0m\u001b[0mnlevels\u001b[0m \u001b[1;33m>\u001b[0m \u001b[1;36m1\u001b[0m\u001b[1;33m:\u001b[0m\u001b[1;33m\u001b[0m\u001b[1;33m\u001b[0m\u001b[0m\n\u001b[0;32m   2799\u001b[0m                 \u001b[1;32mreturn\u001b[0m \u001b[0mself\u001b[0m\u001b[1;33m.\u001b[0m\u001b[0m_getitem_multilevel\u001b[0m\u001b[1;33m(\u001b[0m\u001b[0mkey\u001b[0m\u001b[1;33m)\u001b[0m\u001b[1;33m\u001b[0m\u001b[1;33m\u001b[0m\u001b[0m\n\u001b[1;32m-> 2800\u001b[1;33m             \u001b[0mindexer\u001b[0m \u001b[1;33m=\u001b[0m \u001b[0mself\u001b[0m\u001b[1;33m.\u001b[0m\u001b[0mcolumns\u001b[0m\u001b[1;33m.\u001b[0m\u001b[0mget_loc\u001b[0m\u001b[1;33m(\u001b[0m\u001b[0mkey\u001b[0m\u001b[1;33m)\u001b[0m\u001b[1;33m\u001b[0m\u001b[1;33m\u001b[0m\u001b[0m\n\u001b[0m\u001b[0;32m   2801\u001b[0m             \u001b[1;32mif\u001b[0m \u001b[0mis_integer\u001b[0m\u001b[1;33m(\u001b[0m\u001b[0mindexer\u001b[0m\u001b[1;33m)\u001b[0m\u001b[1;33m:\u001b[0m\u001b[1;33m\u001b[0m\u001b[1;33m\u001b[0m\u001b[0m\n\u001b[0;32m   2802\u001b[0m                 \u001b[0mindexer\u001b[0m \u001b[1;33m=\u001b[0m \u001b[1;33m[\u001b[0m\u001b[0mindexer\u001b[0m\u001b[1;33m]\u001b[0m\u001b[1;33m\u001b[0m\u001b[1;33m\u001b[0m\u001b[0m\n",
      "\u001b[1;32m~\\anaconda3\\envs\\ChiliModels\\lib\\site-packages\\pandas\\core\\indexes\\base.py\u001b[0m in \u001b[0;36mget_loc\u001b[1;34m(self, key, method, tolerance)\u001b[0m\n\u001b[0;32m   2646\u001b[0m                 \u001b[1;32mreturn\u001b[0m \u001b[0mself\u001b[0m\u001b[1;33m.\u001b[0m\u001b[0m_engine\u001b[0m\u001b[1;33m.\u001b[0m\u001b[0mget_loc\u001b[0m\u001b[1;33m(\u001b[0m\u001b[0mkey\u001b[0m\u001b[1;33m)\u001b[0m\u001b[1;33m\u001b[0m\u001b[1;33m\u001b[0m\u001b[0m\n\u001b[0;32m   2647\u001b[0m             \u001b[1;32mexcept\u001b[0m \u001b[0mKeyError\u001b[0m\u001b[1;33m:\u001b[0m\u001b[1;33m\u001b[0m\u001b[1;33m\u001b[0m\u001b[0m\n\u001b[1;32m-> 2648\u001b[1;33m                 \u001b[1;32mreturn\u001b[0m \u001b[0mself\u001b[0m\u001b[1;33m.\u001b[0m\u001b[0m_engine\u001b[0m\u001b[1;33m.\u001b[0m\u001b[0mget_loc\u001b[0m\u001b[1;33m(\u001b[0m\u001b[0mself\u001b[0m\u001b[1;33m.\u001b[0m\u001b[0m_maybe_cast_indexer\u001b[0m\u001b[1;33m(\u001b[0m\u001b[0mkey\u001b[0m\u001b[1;33m)\u001b[0m\u001b[1;33m)\u001b[0m\u001b[1;33m\u001b[0m\u001b[1;33m\u001b[0m\u001b[0m\n\u001b[0m\u001b[0;32m   2649\u001b[0m         \u001b[0mindexer\u001b[0m \u001b[1;33m=\u001b[0m \u001b[0mself\u001b[0m\u001b[1;33m.\u001b[0m\u001b[0mget_indexer\u001b[0m\u001b[1;33m(\u001b[0m\u001b[1;33m[\u001b[0m\u001b[0mkey\u001b[0m\u001b[1;33m]\u001b[0m\u001b[1;33m,\u001b[0m \u001b[0mmethod\u001b[0m\u001b[1;33m=\u001b[0m\u001b[0mmethod\u001b[0m\u001b[1;33m,\u001b[0m \u001b[0mtolerance\u001b[0m\u001b[1;33m=\u001b[0m\u001b[0mtolerance\u001b[0m\u001b[1;33m)\u001b[0m\u001b[1;33m\u001b[0m\u001b[1;33m\u001b[0m\u001b[0m\n\u001b[0;32m   2650\u001b[0m         \u001b[1;32mif\u001b[0m \u001b[0mindexer\u001b[0m\u001b[1;33m.\u001b[0m\u001b[0mndim\u001b[0m \u001b[1;33m>\u001b[0m \u001b[1;36m1\u001b[0m \u001b[1;32mor\u001b[0m \u001b[0mindexer\u001b[0m\u001b[1;33m.\u001b[0m\u001b[0msize\u001b[0m \u001b[1;33m>\u001b[0m \u001b[1;36m1\u001b[0m\u001b[1;33m:\u001b[0m\u001b[1;33m\u001b[0m\u001b[1;33m\u001b[0m\u001b[0m\n",
      "\u001b[1;32mpandas\\_libs\\index.pyx\u001b[0m in \u001b[0;36mpandas._libs.index.IndexEngine.get_loc\u001b[1;34m()\u001b[0m\n",
      "\u001b[1;32mpandas\\_libs\\index.pyx\u001b[0m in \u001b[0;36mpandas._libs.index.IndexEngine.get_loc\u001b[1;34m()\u001b[0m\n",
      "\u001b[1;32mpandas\\_libs\\hashtable_class_helper.pxi\u001b[0m in \u001b[0;36mpandas._libs.hashtable.PyObjectHashTable.get_item\u001b[1;34m()\u001b[0m\n",
      "\u001b[1;32mpandas\\_libs\\hashtable_class_helper.pxi\u001b[0m in \u001b[0;36mpandas._libs.hashtable.PyObjectHashTable.get_item\u001b[1;34m()\u001b[0m\n",
      "\u001b[1;31mKeyError\u001b[0m: '395072298'"
     ]
    }
   ],
   "source": [
    "rank_df['395072298']"
   ]
  },
  {
   "cell_type": "code",
   "execution_count": 20,
   "metadata": {
    "ExecuteTime": {
     "end_time": "2020-10-19T21:09:59.780556Z",
     "start_time": "2020-10-19T21:09:59.028089Z"
    }
   },
   "outputs": [
    {
     "data": {
      "image/png": "[encoded data removed]",
      "text/plain": [
       "<Figure size 648x288 with 1 Axes>"
      ]
     },
     "metadata": {
      "needs_background": "light"
     },
     "output_type": "display_data"
    },
    {
     "data": {
      "image/png": "[encoded data removed]",
      "text/plain": [
       "<Figure size 648x288 with 1 Axes>"
      ]
     },
     "metadata": {
      "needs_background": "light"
     },
     "output_type": "display_data"
    }
   ],
   "source": [
    "plt.figure(figsize=(9, 4))\n",
    "plt.title('Score distribution')\n",
    "sns.countplot(rank_df['score_ranking6'], palette=sns.color_palette(\"hls\", 8))\n",
    "plt.xlabel('score out of six')\n",
    "plt.xticks([x for x in range(7)], [str(x) + '/6' for x in range(7)], rotation=30)\n",
    "plt.ylabel('amount of students')\n",
    "plt.show()\n",
    "\n",
    "plt.figure(figsize=(9, 4))\n",
    "plt.title('Score distribution')\n",
    "sns.countplot(rank_df['score_ranking12'], palette=sns.color_palette(\"hls\", 8))\n",
    "plt.xlabel('score out of six')\n",
    "plt.xticks(rotation=30)\n",
    "plt.ylabel('amount of students')\n",
    "plt.show()"
   ]
  },
  {
   "cell_type": "code",
   "execution_count": 122,
   "metadata": {
    "ExecuteTime": {
     "end_time": "2020-09-29T11:45:00.577911Z",
     "start_time": "2020-09-29T11:45:00.569933Z"
    }
   },
   "outputs": [],
   "source": [
    "min_date = niceTime(min(rank_df['recorded_date']))\n",
    "\n",
    "def deltaBeginning(date, min_date):\n",
    "    return (date - min_date).total_seconds() / 60\n",
    "def niceTime(time):\n",
    "    return datetime.strptime(time, '%Y-%m-%d %H:%M:%S')"
   ]
  },
  {
   "cell_type": "code",
   "execution_count": 123,
   "metadata": {
    "ExecuteTime": {
     "end_time": "2020-09-29T11:45:01.246528Z",
     "start_time": "2020-09-29T11:45:01.220597Z"
    }
   },
   "outputs": [],
   "source": [
    "rank_df['timestamp'] = rank_df['recorded_date'].apply(niceTime)\n",
    "rank_df['interval'] = rank_df['timestamp'].apply(lambda x : deltaBeginning(x, min_date))"
   ]
  },
  {
   "cell_type": "code",
   "execution_count": 129,
   "metadata": {
    "ExecuteTime": {
     "end_time": "2020-09-29T11:46:18.721975Z",
     "start_time": "2020-09-29T11:46:18.696010Z"
    }
   },
   "outputs": [
    {
     "data": {
      "text/html": [
       "<div>\n",
       "<style scoped>\n",
       "    .dataframe tbody tr th:only-of-type {\n",
       "        vertical-align: middle;\n",
       "    }\n",
       "\n",
       "    .dataframe tbody tr th {\n",
       "        vertical-align: top;\n",
       "    }\n",
       "\n",
       "    .dataframe thead th {\n",
       "        text-align: right;\n",
       "    }\n",
       "</style>\n",
       "<table border=\"1\" class=\"dataframe\">\n",
       "  <thead>\n",
       "    <tr style=\"text-align: right;\">\n",
       "      <th></th>\n",
       "      <th>recorded_date</th>\n",
       "      <th>response_id</th>\n",
       "      <th>metacog_id</th>\n",
       "      <th>rank_param1</th>\n",
       "      <th>rank_param2</th>\n",
       "      <th>rank_param3</th>\n",
       "      <th>rank_param4</th>\n",
       "      <th>dic_ranking</th>\n",
       "      <th>score_ranking</th>\n",
       "      <th>sequence</th>\n",
       "      <th>timestamp</th>\n",
       "      <th>interval</th>\n",
       "    </tr>\n",
       "  </thead>\n",
       "  <tbody>\n",
       "    <tr>\n",
       "      <th>30</th>\n",
       "      <td>2018-02-06 13:19:12</td>\n",
       "      <td>R_2eV87IvYYdTOWg5</td>\n",
       "      <td>723563298.0</td>\n",
       "      <td>1</td>\n",
       "      <td>2</td>\n",
       "      <td>2</td>\n",
       "      <td>2</td>\n",
       "      <td>{'1': 1, '2': 2, '3': 2, '4': 2}</td>\n",
       "      <td>0</td>\n",
       "      <td>[1, 4]</td>\n",
       "      <td>2018-02-06 13:19:12</td>\n",
       "      <td>8612.9</td>\n",
       "    </tr>\n",
       "  </tbody>\n",
       "</table>\n",
       "</div>"
      ],
      "text/plain": [
       "          recorded_date        response_id   metacog_id  rank_param1  \\\n",
       "30  2018-02-06 13:19:12  R_2eV87IvYYdTOWg5  723563298.0            1   \n",
       "\n",
       "    rank_param2  rank_param3  rank_param4                       dic_ranking  \\\n",
       "30            2            2            2  {'1': 1, '2': 2, '3': 2, '4': 2}   \n",
       "\n",
       "    score_ranking sequence           timestamp  interval  \n",
       "30              0   [1, 4] 2018-02-06 13:19:12    8612.9  "
      ]
     },
     "execution_count": 129,
     "metadata": {},
     "output_type": "execute_result"
    }
   ],
   "source": [
    "score0"
   ]
  },
  {
   "cell_type": "code",
   "execution_count": null,
   "metadata": {},
   "outputs": [],
   "source": []
  },
  {
   "cell_type": "code",
   "execution_count": 161,
   "metadata": {
    "ExecuteTime": {
     "end_time": "2020-09-30T07:30:34.984030Z",
     "start_time": "2020-09-30T07:30:33.806576Z"
    },
    "scrolled": true
   },
   "outputs": [
    {
     "data": {
      "text/plain": [
       "Text(0, 0.5, 'amount of students')"
      ]
     },
     "execution_count": 161,
     "metadata": {},
     "output_type": "execute_result"
    },
    {
     "data": {
      "image/png": "[encoded data removed]",
      "text/plain": [
       "<Figure size 432x288 with 1 Axes>"
      ]
     },
     "metadata": {
      "needs_background": "light"
     },
     "output_type": "display_data"
    }
   ],
   "source": [
    "plt.title('Distribution of Paper Score')\n",
    "palette = {'strong' : 'darkgoldenrod', 'accept':'orange', 'weak':'tan'}\n",
    "sns.countplot(['strong', 'strong', 'strong', 'strong', 'accept', 'accept', 'weak'], palette=palette)\n",
    "plt.xlabel('chosen acceptance rate')\n",
    "plt.ylabel('amount of students')"
   ]
  },
  {
   "cell_type": "code",
   "execution_count": null,
   "metadata": {},
   "outputs": [],
   "source": []
  },
  {
   "cell_type": "code",
   "execution_count": null,
   "metadata": {},
   "outputs": [],
   "source": []
  },
  {
   "cell_type": "code",
   "execution_count": null,
   "metadata": {},
   "outputs": [],
   "source": []
  },
  {
   "cell_type": "code",
   "execution_count": null,
   "metadata": {},
   "outputs": [],
   "source": []
  },
  {
   "cell_type": "code",
   "execution_count": null,
   "metadata": {},
   "outputs": [],
   "source": []
  },
  {
   "cell_type": "code",
   "execution_count": 148,
   "metadata": {
    "ExecuteTime": {
     "end_time": "2020-09-29T14:08:14.916717Z",
     "start_time": "2020-09-29T14:08:14.873724Z"
    }
   },
   "outputs": [
    {
     "name": "stderr",
     "output_type": "stream",
     "text": [
      "C:\\Users\\jadec\\anaconda3\\envs\\ChiliModels\\lib\\site-packages\\pandas\\core\\ops\\array_ops.py:253: FutureWarning: elementwise comparison failed; returning scalar instead, but in the future will perform elementwise comparison\n",
      "  res_values = method(rvalues)\n"
     ]
    },
    {
     "data": {
      "text/html": [
       "<div>\n",
       "<style scoped>\n",
       "    .dataframe tbody tr th:only-of-type {\n",
       "        vertical-align: middle;\n",
       "    }\n",
       "\n",
       "    .dataframe tbody tr th {\n",
       "        vertical-align: top;\n",
       "    }\n",
       "\n",
       "    .dataframe thead th {\n",
       "        text-align: right;\n",
       "    }\n",
       "</style>\n",
       "<table border=\"1\" class=\"dataframe\">\n",
       "  <thead>\n",
       "    <tr style=\"text-align: right;\">\n",
       "      <th></th>\n",
       "      <th>start_date</th>\n",
       "      <th>end_date</th>\n",
       "      <th>status</th>\n",
       "      <th>ip_address</th>\n",
       "      <th>progress</th>\n",
       "      <th>duration</th>\n",
       "      <th>finished</th>\n",
       "      <th>recorded_date</th>\n",
       "      <th>response_id</th>\n",
       "      <th>recipient_last_name</th>\n",
       "      <th>...</th>\n",
       "      <th>pq41_text</th>\n",
       "      <th>pq43_text</th>\n",
       "      <th>pq5</th>\n",
       "      <th>pq51_text</th>\n",
       "      <th>pq53_text</th>\n",
       "      <th>pq6</th>\n",
       "      <th>pq61_text</th>\n",
       "      <th>pq63_text</th>\n",
       "      <th>pq7</th>\n",
       "      <th>group</th>\n",
       "    </tr>\n",
       "  </thead>\n",
       "  <tbody>\n",
       "  </tbody>\n",
       "</table>\n",
       "<p>0 rows × 49 columns</p>\n",
       "</div>"
      ],
      "text/plain": [
       "Empty DataFrame\n",
       "Columns: [start_date, end_date, status, ip_address, progress, duration, finished, recorded_date, response_id, recipient_last_name, recipient_first_name, recipient_email, external_reference, location_latitude, location_longitude, distribution_channel, user_language, metadata_browser, metadata_version, metadata_operating_system, metadata_resolution, consent, metacog_id, eq1, eq2, cq1_1, cq1_2, cq1_3, cq1_4, cq2, pq1c, pq1e, pq2, pq21_text, pq23_text, pq3, pq31_text, pq_3_3_text, pq_4, pq41_text, pq43_text, pq5, pq51_text, pq53_text, pq6, pq61_text, pq63_text, pq7, group]\n",
       "Index: []\n",
       "\n",
       "[0 rows x 49 columns]"
      ]
     },
     "execution_count": 148,
     "metadata": {},
     "output_type": "execute_result"
    }
   ],
   "source": [
    "phys[phys['metacog_id']== '404213198']"
   ]
  },
  {
   "cell_type": "code",
   "execution_count": 149,
   "metadata": {
    "ExecuteTime": {
     "end_time": "2020-09-29T14:10:47.415895Z",
     "start_time": "2020-09-29T14:10:47.332024Z"
    }
   },
   "outputs": [
    {
     "data": {
      "text/html": [
       "<div>\n",
       "<style scoped>\n",
       "    .dataframe tbody tr th:only-of-type {\n",
       "        vertical-align: middle;\n",
       "    }\n",
       "\n",
       "    .dataframe tbody tr th {\n",
       "        vertical-align: top;\n",
       "    }\n",
       "\n",
       "    .dataframe thead th {\n",
       "        text-align: right;\n",
       "    }\n",
       "</style>\n",
       "<table border=\"1\" class=\"dataframe\">\n",
       "  <thead>\n",
       "    <tr style=\"text-align: right;\">\n",
       "      <th></th>\n",
       "      <th>start_date</th>\n",
       "      <th>end_date</th>\n",
       "      <th>status</th>\n",
       "      <th>ip_address</th>\n",
       "      <th>progress</th>\n",
       "      <th>duration</th>\n",
       "      <th>finished</th>\n",
       "      <th>recorded_date</th>\n",
       "      <th>response_id</th>\n",
       "      <th>recipient_last_name</th>\n",
       "      <th>...</th>\n",
       "      <th>pq41_text</th>\n",
       "      <th>pq43_text</th>\n",
       "      <th>pq5</th>\n",
       "      <th>pq51_text</th>\n",
       "      <th>pq53_text</th>\n",
       "      <th>pq6</th>\n",
       "      <th>pq61_text</th>\n",
       "      <th>pq63_text</th>\n",
       "      <th>pq7</th>\n",
       "      <th>group</th>\n",
       "    </tr>\n",
       "  </thead>\n",
       "  <tbody>\n",
       "    <tr>\n",
       "      <th>2</th>\n",
       "      <td>2018-02-01 10:53:27</td>\n",
       "      <td>2018-02-01 11:04:56</td>\n",
       "      <td>IP Address</td>\n",
       "      <td>128.138.224.234</td>\n",
       "      <td>100</td>\n",
       "      <td>688</td>\n",
       "      <td>True</td>\n",
       "      <td>2018-02-01 11:04:56</td>\n",
       "      <td>R_2RP7aN5k1zN4JyA</td>\n",
       "      <td>NaN</td>\n",
       "      <td>...</td>\n",
       "      <td>2</td>\n",
       "      <td>NaN</td>\n",
       "      <td>The disconnected Configuration H (right) store...</td>\n",
       "      <td>NaN</td>\n",
       "      <td>2</td>\n",
       "      <td>The connected Configuration I (left) stores mo...</td>\n",
       "      <td>2</td>\n",
       "      <td>NaN</td>\n",
       "      <td>NaN</td>\n",
       "      <td>1120</td>\n",
       "    </tr>\n",
       "    <tr>\n",
       "      <th>3</th>\n",
       "      <td>2018-02-01 11:26:06</td>\n",
       "      <td>2018-02-01 11:44:08</td>\n",
       "      <td>IP Address</td>\n",
       "      <td>128.138.65.111</td>\n",
       "      <td>100</td>\n",
       "      <td>1081</td>\n",
       "      <td>True</td>\n",
       "      <td>2018-02-01 11:44:08</td>\n",
       "      <td>R_1pySQfsN715aFdY</td>\n",
       "      <td>NaN</td>\n",
       "      <td>...</td>\n",
       "      <td>NaN</td>\n",
       "      <td>NaN</td>\n",
       "      <td>The connected Configuration G (left) stores mo...</td>\n",
       "      <td>NaN</td>\n",
       "      <td>NaN</td>\n",
       "      <td>The connected Configuration I (left) stores mo...</td>\n",
       "      <td>NaN</td>\n",
       "      <td>NaN</td>\n",
       "      <td>NaN</td>\n",
       "      <td>1120</td>\n",
       "    </tr>\n",
       "    <tr>\n",
       "      <th>4</th>\n",
       "      <td>2018-02-01 13:24:57</td>\n",
       "      <td>2018-02-04 16:52:15</td>\n",
       "      <td>IP Address</td>\n",
       "      <td>73.229.137.248</td>\n",
       "      <td>100</td>\n",
       "      <td>271638</td>\n",
       "      <td>True</td>\n",
       "      <td>2018-02-04 16:52:16</td>\n",
       "      <td>R_We2JYAOIDr6U9lD</td>\n",
       "      <td>NaN</td>\n",
       "      <td>...</td>\n",
       "      <td>1.5</td>\n",
       "      <td>NaN</td>\n",
       "      <td>The connected Configuration G (left) stores mo...</td>\n",
       "      <td>1.5</td>\n",
       "      <td>NaN</td>\n",
       "      <td>The connected Configuration I (left) stores mo...</td>\n",
       "      <td>1.36</td>\n",
       "      <td>NaN</td>\n",
       "      <td>NaN</td>\n",
       "      <td>1120</td>\n",
       "    </tr>\n",
       "    <tr>\n",
       "      <th>5</th>\n",
       "      <td>2018-02-01 14:37:29</td>\n",
       "      <td>2018-02-01 14:46:24</td>\n",
       "      <td>IP Address</td>\n",
       "      <td>67.190.86.199</td>\n",
       "      <td>100</td>\n",
       "      <td>535</td>\n",
       "      <td>True</td>\n",
       "      <td>2018-02-01 14:46:25</td>\n",
       "      <td>R_1ETc4UtjUCmcYb7</td>\n",
       "      <td>NaN</td>\n",
       "      <td>...</td>\n",
       "      <td>4</td>\n",
       "      <td>NaN</td>\n",
       "      <td>The connected Configuration G (left) stores mo...</td>\n",
       "      <td>2</td>\n",
       "      <td>NaN</td>\n",
       "      <td>The disconnected Configuration J (right) store...</td>\n",
       "      <td>NaN</td>\n",
       "      <td>2</td>\n",
       "      <td>NaN</td>\n",
       "      <td>1120</td>\n",
       "    </tr>\n",
       "    <tr>\n",
       "      <th>6</th>\n",
       "      <td>2018-02-01 15:05:24</td>\n",
       "      <td>2018-02-01 15:15:54</td>\n",
       "      <td>IP Address</td>\n",
       "      <td>128.138.65.70</td>\n",
       "      <td>100</td>\n",
       "      <td>629</td>\n",
       "      <td>True</td>\n",
       "      <td>2018-02-01 15:15:54</td>\n",
       "      <td>R_3ssOdbaHPmUYsFb</td>\n",
       "      <td>NaN</td>\n",
       "      <td>...</td>\n",
       "      <td>NaN</td>\n",
       "      <td>NaN</td>\n",
       "      <td>The connected Configuration G (left) stores mo...</td>\n",
       "      <td>NaN</td>\n",
       "      <td>NaN</td>\n",
       "      <td>The connected Configuration I (left) stores mo...</td>\n",
       "      <td>NaN</td>\n",
       "      <td>NaN</td>\n",
       "      <td>NaN</td>\n",
       "      <td>1120</td>\n",
       "    </tr>\n",
       "    <tr>\n",
       "      <th>...</th>\n",
       "      <td>...</td>\n",
       "      <td>...</td>\n",
       "      <td>...</td>\n",
       "      <td>...</td>\n",
       "      <td>...</td>\n",
       "      <td>...</td>\n",
       "      <td>...</td>\n",
       "      <td>...</td>\n",
       "      <td>...</td>\n",
       "      <td>...</td>\n",
       "      <td>...</td>\n",
       "      <td>...</td>\n",
       "      <td>...</td>\n",
       "      <td>...</td>\n",
       "      <td>...</td>\n",
       "      <td>...</td>\n",
       "      <td>...</td>\n",
       "      <td>...</td>\n",
       "      <td>...</td>\n",
       "      <td>...</td>\n",
       "      <td>...</td>\n",
       "    </tr>\n",
       "    <tr>\n",
       "      <th>83</th>\n",
       "      <td>2018-02-06 23:52:10</td>\n",
       "      <td>2018-02-06 23:54:39</td>\n",
       "      <td>IP Address</td>\n",
       "      <td>128.138.65.69</td>\n",
       "      <td>30</td>\n",
       "      <td>149</td>\n",
       "      <td>False</td>\n",
       "      <td>2018-02-12 13:57:31</td>\n",
       "      <td>R_3hyjjF7iyGuvxPE</td>\n",
       "      <td>NaN</td>\n",
       "      <td>...</td>\n",
       "      <td>NaN</td>\n",
       "      <td>NaN</td>\n",
       "      <td>NaN</td>\n",
       "      <td>NaN</td>\n",
       "      <td>NaN</td>\n",
       "      <td>NaN</td>\n",
       "      <td>NaN</td>\n",
       "      <td>NaN</td>\n",
       "      <td>NaN</td>\n",
       "      <td>1125</td>\n",
       "    </tr>\n",
       "    <tr>\n",
       "      <th>84</th>\n",
       "      <td>2018-02-07 00:37:15</td>\n",
       "      <td>2018-02-07 00:44:49</td>\n",
       "      <td>IP Address</td>\n",
       "      <td>128.138.18.61</td>\n",
       "      <td>76</td>\n",
       "      <td>454</td>\n",
       "      <td>False</td>\n",
       "      <td>2018-02-12 13:54:57</td>\n",
       "      <td>R_SUAvo7sBRU9890J</td>\n",
       "      <td>NaN</td>\n",
       "      <td>...</td>\n",
       "      <td>NaN</td>\n",
       "      <td>NaN</td>\n",
       "      <td>NaN</td>\n",
       "      <td>NaN</td>\n",
       "      <td>NaN</td>\n",
       "      <td>NaN</td>\n",
       "      <td>NaN</td>\n",
       "      <td>NaN</td>\n",
       "      <td>NaN</td>\n",
       "      <td>1125</td>\n",
       "    </tr>\n",
       "    <tr>\n",
       "      <th>85</th>\n",
       "      <td>2018-02-07 02:03:39</td>\n",
       "      <td>2018-02-07 17:37:08</td>\n",
       "      <td>IP Address</td>\n",
       "      <td>128.138.65.62</td>\n",
       "      <td>30</td>\n",
       "      <td>56008</td>\n",
       "      <td>False</td>\n",
       "      <td>2018-02-12 13:57:46</td>\n",
       "      <td>R_22tbwlt8Riv08SI</td>\n",
       "      <td>NaN</td>\n",
       "      <td>...</td>\n",
       "      <td>NaN</td>\n",
       "      <td>NaN</td>\n",
       "      <td>NaN</td>\n",
       "      <td>NaN</td>\n",
       "      <td>NaN</td>\n",
       "      <td>NaN</td>\n",
       "      <td>NaN</td>\n",
       "      <td>NaN</td>\n",
       "      <td>NaN</td>\n",
       "      <td>1125</td>\n",
       "    </tr>\n",
       "    <tr>\n",
       "      <th>86</th>\n",
       "      <td>2018-02-07 05:09:46</td>\n",
       "      <td>2018-02-07 05:11:16</td>\n",
       "      <td>IP Address</td>\n",
       "      <td>128.138.65.138</td>\n",
       "      <td>32</td>\n",
       "      <td>90</td>\n",
       "      <td>False</td>\n",
       "      <td>2018-02-12 13:52:45</td>\n",
       "      <td>R_yVGldb5sotV0GMF</td>\n",
       "      <td>NaN</td>\n",
       "      <td>...</td>\n",
       "      <td>NaN</td>\n",
       "      <td>NaN</td>\n",
       "      <td>NaN</td>\n",
       "      <td>NaN</td>\n",
       "      <td>NaN</td>\n",
       "      <td>NaN</td>\n",
       "      <td>NaN</td>\n",
       "      <td>NaN</td>\n",
       "      <td>NaN</td>\n",
       "      <td>1125</td>\n",
       "    </tr>\n",
       "    <tr>\n",
       "      <th>87</th>\n",
       "      <td>2018-02-07 07:47:57</td>\n",
       "      <td>2018-02-07 16:54:45</td>\n",
       "      <td>IP Address</td>\n",
       "      <td>140.172.3.196</td>\n",
       "      <td>76</td>\n",
       "      <td>32808</td>\n",
       "      <td>False</td>\n",
       "      <td>2018-02-12 13:57:31</td>\n",
       "      <td>R_WkUCkHGzaF4gryp</td>\n",
       "      <td>NaN</td>\n",
       "      <td>...</td>\n",
       "      <td>NaN</td>\n",
       "      <td>NaN</td>\n",
       "      <td>NaN</td>\n",
       "      <td>NaN</td>\n",
       "      <td>NaN</td>\n",
       "      <td>NaN</td>\n",
       "      <td>NaN</td>\n",
       "      <td>NaN</td>\n",
       "      <td>NaN</td>\n",
       "      <td>1125</td>\n",
       "    </tr>\n",
       "  </tbody>\n",
       "</table>\n",
       "<p>580 rows × 49 columns</p>\n",
       "</div>"
      ],
      "text/plain": [
       "             start_date             end_date      status       ip_address  \\\n",
       "2   2018-02-01 10:53:27  2018-02-01 11:04:56  IP Address  128.138.224.234   \n",
       "3   2018-02-01 11:26:06  2018-02-01 11:44:08  IP Address   128.138.65.111   \n",
       "4   2018-02-01 13:24:57  2018-02-04 16:52:15  IP Address   73.229.137.248   \n",
       "5   2018-02-01 14:37:29  2018-02-01 14:46:24  IP Address    67.190.86.199   \n",
       "6   2018-02-01 15:05:24  2018-02-01 15:15:54  IP Address    128.138.65.70   \n",
       "..                  ...                  ...         ...              ...   \n",
       "83  2018-02-06 23:52:10  2018-02-06 23:54:39  IP Address    128.138.65.69   \n",
       "84  2018-02-07 00:37:15  2018-02-07 00:44:49  IP Address    128.138.18.61   \n",
       "85  2018-02-07 02:03:39  2018-02-07 17:37:08  IP Address    128.138.65.62   \n",
       "86  2018-02-07 05:09:46  2018-02-07 05:11:16  IP Address   128.138.65.138   \n",
       "87  2018-02-07 07:47:57  2018-02-07 16:54:45  IP Address    140.172.3.196   \n",
       "\n",
       "   progress duration finished        recorded_date        response_id  \\\n",
       "2       100      688     True  2018-02-01 11:04:56  R_2RP7aN5k1zN4JyA   \n",
       "3       100     1081     True  2018-02-01 11:44:08  R_1pySQfsN715aFdY   \n",
       "4       100   271638     True  2018-02-04 16:52:16  R_We2JYAOIDr6U9lD   \n",
       "5       100      535     True  2018-02-01 14:46:25  R_1ETc4UtjUCmcYb7   \n",
       "6       100      629     True  2018-02-01 15:15:54  R_3ssOdbaHPmUYsFb   \n",
       "..      ...      ...      ...                  ...                ...   \n",
       "83       30      149    False  2018-02-12 13:57:31  R_3hyjjF7iyGuvxPE   \n",
       "84       76      454    False  2018-02-12 13:54:57  R_SUAvo7sBRU9890J   \n",
       "85       30    56008    False  2018-02-12 13:57:46  R_22tbwlt8Riv08SI   \n",
       "86       32       90    False  2018-02-12 13:52:45  R_yVGldb5sotV0GMF   \n",
       "87       76    32808    False  2018-02-12 13:57:31  R_WkUCkHGzaF4gryp   \n",
       "\n",
       "   recipient_last_name  ... pq41_text pq43_text  \\\n",
       "2                  NaN  ...         2       NaN   \n",
       "3                  NaN  ...       NaN       NaN   \n",
       "4                  NaN  ...       1.5       NaN   \n",
       "5                  NaN  ...         4       NaN   \n",
       "6                  NaN  ...       NaN       NaN   \n",
       "..                 ...  ...       ...       ...   \n",
       "83                 NaN  ...       NaN       NaN   \n",
       "84                 NaN  ...       NaN       NaN   \n",
       "85                 NaN  ...       NaN       NaN   \n",
       "86                 NaN  ...       NaN       NaN   \n",
       "87                 NaN  ...       NaN       NaN   \n",
       "\n",
       "                                                  pq5 pq51_text pq53_text  \\\n",
       "2   The disconnected Configuration H (right) store...       NaN         2   \n",
       "3   The connected Configuration G (left) stores mo...       NaN       NaN   \n",
       "4   The connected Configuration G (left) stores mo...       1.5       NaN   \n",
       "5   The connected Configuration G (left) stores mo...         2       NaN   \n",
       "6   The connected Configuration G (left) stores mo...       NaN       NaN   \n",
       "..                                                ...       ...       ...   \n",
       "83                                                NaN       NaN       NaN   \n",
       "84                                                NaN       NaN       NaN   \n",
       "85                                                NaN       NaN       NaN   \n",
       "86                                                NaN       NaN       NaN   \n",
       "87                                                NaN       NaN       NaN   \n",
       "\n",
       "                                                  pq6 pq61_text pq63_text  \\\n",
       "2   The connected Configuration I (left) stores mo...         2       NaN   \n",
       "3   The connected Configuration I (left) stores mo...       NaN       NaN   \n",
       "4   The connected Configuration I (left) stores mo...      1.36       NaN   \n",
       "5   The disconnected Configuration J (right) store...       NaN         2   \n",
       "6   The connected Configuration I (left) stores mo...       NaN       NaN   \n",
       "..                                                ...       ...       ...   \n",
       "83                                                NaN       NaN       NaN   \n",
       "84                                                NaN       NaN       NaN   \n",
       "85                                                NaN       NaN       NaN   \n",
       "86                                                NaN       NaN       NaN   \n",
       "87                                                NaN       NaN       NaN   \n",
       "\n",
       "    pq7 group  \n",
       "2   NaN  1120  \n",
       "3   NaN  1120  \n",
       "4   NaN  1120  \n",
       "5   NaN  1120  \n",
       "6   NaN  1120  \n",
       "..  ...   ...  \n",
       "83  NaN  1125  \n",
       "84  NaN  1125  \n",
       "85  NaN  1125  \n",
       "86  NaN  1125  \n",
       "87  NaN  1125  \n",
       "\n",
       "[580 rows x 49 columns]"
      ]
     },
     "execution_count": 149,
     "metadata": {},
     "output_type": "execute_result"
    }
   ],
   "source": [
    "phys"
   ]
  },
  {
   "cell_type": "code",
   "execution_count": 156,
   "metadata": {
    "ExecuteTime": {
     "end_time": "2020-09-29T14:15:18.226596Z",
     "start_time": "2020-09-29T14:15:18.192679Z"
    }
   },
   "outputs": [
    {
     "data": {
      "text/html": [
       "<div>\n",
       "<style scoped>\n",
       "    .dataframe tbody tr th:only-of-type {\n",
       "        vertical-align: middle;\n",
       "    }\n",
       "\n",
       "    .dataframe tbody tr th {\n",
       "        vertical-align: top;\n",
       "    }\n",
       "\n",
       "    .dataframe thead th {\n",
       "        text-align: right;\n",
       "    }\n",
       "</style>\n",
       "<table border=\"1\" class=\"dataframe\">\n",
       "  <thead>\n",
       "    <tr style=\"text-align: right;\">\n",
       "      <th></th>\n",
       "      <th>recorded_date</th>\n",
       "      <th>response_id</th>\n",
       "      <th>metacog_id</th>\n",
       "      <th>rank_param1</th>\n",
       "      <th>rank_param2</th>\n",
       "      <th>rank_param3</th>\n",
       "      <th>rank_param4</th>\n",
       "      <th>dic_ranking</th>\n",
       "      <th>score_ranking</th>\n",
       "      <th>sequence</th>\n",
       "      <th>timestamp</th>\n",
       "      <th>interval</th>\n",
       "      <th>score_ranking6</th>\n",
       "      <th>score_ranking12</th>\n",
       "    </tr>\n",
       "  </thead>\n",
       "  <tbody>\n",
       "    <tr>\n",
       "      <th>59</th>\n",
       "      <td>2018-02-04 19:06:16</td>\n",
       "      <td>R_1rO2Q90WGSJT1Em</td>\n",
       "      <td>901519398.0</td>\n",
       "      <td>3</td>\n",
       "      <td>2</td>\n",
       "      <td>4</td>\n",
       "      <td>1</td>\n",
       "      <td>{'1': 3, '2': 2, '3': 4, '4': 1}</td>\n",
       "      <td>0.333333</td>\n",
       "      <td>[4, 2, 1, 3]</td>\n",
       "      <td>2018-02-04 19:06:16</td>\n",
       "      <td>6079.966667</td>\n",
       "      <td>0.333333</td>\n",
       "      <td>0.333333</td>\n",
       "    </tr>\n",
       "  </tbody>\n",
       "</table>\n",
       "</div>"
      ],
      "text/plain": [
       "          recorded_date        response_id   metacog_id  rank_param1  \\\n",
       "59  2018-02-04 19:06:16  R_1rO2Q90WGSJT1Em  901519398.0            3   \n",
       "\n",
       "    rank_param2  rank_param3  rank_param4                       dic_ranking  \\\n",
       "59            2            4            1  {'1': 3, '2': 2, '3': 4, '4': 1}   \n",
       "\n",
       "    score_ranking      sequence           timestamp     interval  \\\n",
       "59       0.333333  [4, 2, 1, 3] 2018-02-04 19:06:16  6079.966667   \n",
       "\n",
       "    score_ranking6  score_ranking12  \n",
       "59        0.333333         0.333333  "
      ]
     },
     "execution_count": 156,
     "metadata": {},
     "output_type": "execute_result"
    }
   ],
   "source": [
    "rank_df[rank_df['metacog_id'] == 901519398]"
   ]
  },
  {
   "cell_type": "code",
   "execution_count": 160,
   "metadata": {
    "ExecuteTime": {
     "end_time": "2020-09-29T14:16:40.251638Z",
     "start_time": "2020-09-29T14:16:40.223711Z"
    }
   },
   "outputs": [
    {
     "data": {
      "text/html": [
       "<div>\n",
       "<style scoped>\n",
       "    .dataframe tbody tr th:only-of-type {\n",
       "        vertical-align: middle;\n",
       "    }\n",
       "\n",
       "    .dataframe tbody tr th {\n",
       "        vertical-align: top;\n",
       "    }\n",
       "\n",
       "    .dataframe thead th {\n",
       "        text-align: right;\n",
       "    }\n",
       "</style>\n",
       "<table border=\"1\" class=\"dataframe\">\n",
       "  <thead>\n",
       "    <tr style=\"text-align: right;\">\n",
       "      <th></th>\n",
       "      <th>recorded_date</th>\n",
       "      <th>response_id</th>\n",
       "      <th>metacog_id</th>\n",
       "      <th>cq1_1</th>\n",
       "      <th>cq1_2</th>\n",
       "      <th>cq1_3</th>\n",
       "      <th>cq1_4</th>\n",
       "    </tr>\n",
       "  </thead>\n",
       "  <tbody>\n",
       "    <tr>\n",
       "      <th>59</th>\n",
       "      <td>2018-02-04 19:06:16</td>\n",
       "      <td>R_1rO2Q90WGSJT1Em</td>\n",
       "      <td>901519398.0</td>\n",
       "      <td>3</td>\n",
       "      <td>2</td>\n",
       "      <td>4 (least amount of stored energy)</td>\n",
       "      <td>1 (greatest amount of stored energy)</td>\n",
       "    </tr>\n",
       "  </tbody>\n",
       "</table>\n",
       "</div>"
      ],
      "text/plain": [
       "          recorded_date        response_id   metacog_id cq1_1 cq1_2  \\\n",
       "59  2018-02-04 19:06:16  R_1rO2Q90WGSJT1Em  901519398.0     3     2   \n",
       "\n",
       "                                cq1_3                                 cq1_4  \n",
       "59  4 (least amount of stored energy)  1 (greatest amount of stored energy)  "
      ]
     },
     "execution_count": 160,
     "metadata": {},
     "output_type": "execute_result"
    }
   ],
   "source": [
    "phys[phys['metacog_id'] == 901519398][ranking_columns]"
   ]
  },
  {
   "cell_type": "code",
   "execution_count": null,
   "metadata": {},
   "outputs": [],
   "source": []
  },
  {
   "cell_type": "code",
   "execution_count": null,
   "metadata": {},
   "outputs": [],
   "source": []
  },
  {
   "cell_type": "code",
   "execution_count": null,
   "metadata": {},
   "outputs": [],
   "source": []
  }
 ],
 "metadata": {
  "kernelspec": {
   "display_name": "Python 3",
   "language": "python",
   "name": "python3"
  },
  "language_info": {
   "codemirror_mode": {
    "name": "ipython",
    "version": 3
   },
   "file_extension": ".py",
   "mimetype": "text/x-python",
   "name": "python",
   "nbconvert_exporter": "python",
   "pygments_lexer": "ipython3",
   "version": "3.6.10"
  },
  "toc": {
   "base_numbering": 1,
   "nav_menu": {},
   "number_sections": true,
   "sideBar": true,
   "skip_h1_title": false,
   "title_cell": "Table of Contents",
   "title_sidebar": "Contents",
   "toc_cell": false,
   "toc_position": {
    "height": "calc(100% - 180px)",
    "left": "10px",
    "top": "150px",
    "width": "165px"
   },
   "toc_section_display": true,
   "toc_window_display": true
  }
 },
 "nbformat": 4,
 "nbformat_minor": 4
}
