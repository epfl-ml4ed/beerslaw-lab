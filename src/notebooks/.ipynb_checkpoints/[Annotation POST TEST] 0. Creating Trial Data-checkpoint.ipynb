{
 "cells": [
  {
   "cell_type": "markdown",
   "id": "bea66c64",
   "metadata": {},
   "source": [
    "This notebook was created to find a trial of 20 people and test out our annotations"
   ]
  },
  {
   "cell_type": "code",
   "execution_count": 3,
   "id": "9d218bb6",
   "metadata": {
    "ExecuteTime": {
     "end_time": "2021-11-03T23:16:55.852203Z",
     "start_time": "2021-11-03T23:16:55.849312Z"
    }
   },
   "outputs": [],
   "source": [
    "import os\n",
    "import pickle\n",
    "import json\n",
    "\n",
    "import numpy as np\n",
    "import pandas as pd"
   ]
  },
  {
   "cell_type": "code",
   "execution_count": 4,
   "id": "6a28e5ca",
   "metadata": {
    "ExecuteTime": {
     "end_time": "2021-11-03T23:16:56.801370Z",
     "start_time": "2021-11-03T23:16:56.793294Z"
    }
   },
   "outputs": [],
   "source": [
    "with open('../../data/post_test/some_questions.pkl', 'rb') as fp:\n",
    "    some_questions = pickle.load(fp)"
   ]
  },
  {
   "cell_type": "markdown",
   "id": "fd1ff3b8",
   "metadata": {},
   "source": [
    "# Busy samples"
   ]
  },
  {
   "cell_type": "code",
   "execution_count": null,
   "id": "24de6c6f",
   "metadata": {},
   "outputs": [],
   "source": [
    "# Reading indices from sample 0\n",
    "with open('../../data/post_test/trial_questionsv0.pkl', 'rb') as fp:\n",
    "    v0 = pickle.load(fp)\n",
    "indices0 = list(v0.index)\n",
    "\n",
    "# Reading indices from sample 1\n",
    "with open('../../data/post_test/trial_questionsv1.pkl', 'rb') as fp:\n",
    "    v1 = pickle.load(fp)\n",
    "indices1 = list(v1.index)"
   ]
  },
  {
   "cell_type": "markdown",
   "id": "ea314100",
   "metadata": {},
   "source": [
    "# Creation of samples"
   ]
  },
  {
   "cell_type": "markdown",
   "id": "93eee577",
   "metadata": {},
   "source": [
    "## sample 1"
   ]
  },
  {
   "cell_type": "code",
   "execution_count": 4,
   "id": "9df5298d",
   "metadata": {
    "ExecuteTime": {
     "end_time": "2021-10-27T19:37:54.146880Z",
     "start_time": "2021-10-27T19:37:54.126504Z"
    }
   },
   "outputs": [
    {
     "name": "stdout",
     "output_type": "stream",
     "text": [
      "[236 151 168 241 217 418  78  26 290  70 294 179 214 299 340 253 311   0\n",
      " 303 379]\n"
     ]
    },
    {
     "data": {
      "text/html": [
       "<div>\n",
       "<style scoped>\n",
       "    .dataframe tbody tr th:only-of-type {\n",
       "        vertical-align: middle;\n",
       "    }\n",
       "\n",
       "    .dataframe tbody tr th {\n",
       "        vertical-align: top;\n",
       "    }\n",
       "\n",
       "    .dataframe thead th {\n",
       "        text-align: right;\n",
       "    }\n",
       "</style>\n",
       "<table border=\"1\" class=\"dataframe\">\n",
       "  <thead>\n",
       "    <tr style=\"text-align: right;\">\n",
       "      <th></th>\n",
       "      <th>beerslaw</th>\n",
       "      <th>formula</th>\n",
       "    </tr>\n",
       "  </thead>\n",
       "  <tbody>\n",
       "    <tr>\n",
       "      <th>236</th>\n",
       "      <td>garnicht</td>\n",
       "      <td>die Konzentration der Lösung wird beeinflusst,...</td>\n",
       "    </tr>\n",
       "    <tr>\n",
       "      <th>151</th>\n",
       "      <td>Oui, mais je ne l'ai pas revu récemment.</td>\n",
       "      <td>La concentration de la solution est proportion...</td>\n",
       "    </tr>\n",
       "    <tr>\n",
       "      <th>168</th>\n",
       "      <td>Ab und zu mit dem UV/VIS Photometer Gerät Glyc...</td>\n",
       "      <td>Je konzentrierter die Lösung, desto mehr absor...</td>\n",
       "    </tr>\n",
       "    <tr>\n",
       "      <th>241</th>\n",
       "      <td>garnicht\\r\\n</td>\n",
       "      <td>Die Konzentration der Lösung wird beeinflusst,...</td>\n",
       "    </tr>\n",
       "    <tr>\n",
       "      <th>217</th>\n",
       "      <td>oui.</td>\n",
       "      <td>absorbtion = c X L X longeur onde \\r\\n\\r\\nabso...</td>\n",
       "    </tr>\n",
       "    <tr>\n",
       "      <th>418</th>\n",
       "      <td>oui\\r\\n</td>\n",
       "      <td>loi de lambert-beer prend en compte la longueu...</td>\n",
       "    </tr>\n",
       "    <tr>\n",
       "      <th>78</th>\n",
       "      <td>gar nicht</td>\n",
       "      <td>Je höher die Konzentration, desto höher die Ex...</td>\n",
       "    </tr>\n",
       "    <tr>\n",
       "      <th>26</th>\n",
       "      <td>gar nicht</td>\n",
       "      <td>je höher konzentriert es ist, desto grössere e...</td>\n",
       "    </tr>\n",
       "    <tr>\n",
       "      <th>290</th>\n",
       "      <td>oui</td>\n",
       "      <td>l'absorbance dépend de la nature et du nombre ...</td>\n",
       "    </tr>\n",
       "    <tr>\n",
       "      <th>70</th>\n",
       "      <td>Eher wenig. Das Gesetz war mir unbekannt, jedo...</td>\n",
       "      <td>Je grösser die konzentration ist, desto stärke...</td>\n",
       "    </tr>\n",
       "    <tr>\n",
       "      <th>294</th>\n",
       "      <td>Oui, je l'ai utilisé durant ma formation et mo...</td>\n",
       "      <td>La formule de Lambert-Beer dit que l'absorbanc...</td>\n",
       "    </tr>\n",
       "    <tr>\n",
       "      <th>179</th>\n",
       "      <td>Grundsätzlich gut aber das Problem war, dass d...</td>\n",
       "      <td>E = Ɛ / (c*d)\\r\\n</td>\n",
       "    </tr>\n",
       "    <tr>\n",
       "      <th>214</th>\n",
       "      <td>Oui\\r\\nA = E * d * c\\r\\nMais je ne l'utilise p...</td>\n",
       "      <td>A = E * d * c\\r\\nAbsorbance = coefficient d'ab...</td>\n",
       "    </tr>\n",
       "    <tr>\n",
       "      <th>299</th>\n",
       "      <td>oui</td>\n",
       "      <td>Absorbance = concentration * distance * coeffi...</td>\n",
       "    </tr>\n",
       "    <tr>\n",
       "      <th>340</th>\n",
       "      <td>Un petit peu oui</td>\n",
       "      <td>Plus la solution est concentrée, donc colorée,...</td>\n",
       "    </tr>\n",
       "    <tr>\n",
       "      <th>253</th>\n",
       "      <td>Eigentlich sehr gut. In der Berufsschule wurde...</td>\n",
       "      <td>E= (griechisches Zeichen weiss nicht wie es he...</td>\n",
       "    </tr>\n",
       "    <tr>\n",
       "      <th>311</th>\n",
       "      <td>So halb. Ist sehr lange her, seit der letzten ...</td>\n",
       "      <td>-Je grösser die Konzentration der Lösung, dest...</td>\n",
       "    </tr>\n",
       "    <tr>\n",
       "      <th>0</th>\n",
       "      <td>Gar nicht.</td>\n",
       "      <td>Breite des Bechers * Wellenlänge / Konzentrati...</td>\n",
       "    </tr>\n",
       "    <tr>\n",
       "      <th>303</th>\n",
       "      <td>ich habe es schon mal gehört aber bin mir nich...</td>\n",
       "      <td>Konzentration: je konz. desto mehr wird absorb...</td>\n",
       "    </tr>\n",
       "    <tr>\n",
       "      <th>379</th>\n",
       "      <td>Gar nicht vertraut. Komplettes Neuland.</td>\n",
       "      <td>Je stärker die Konzentration, desto mehr Absor...</td>\n",
       "    </tr>\n",
       "  </tbody>\n",
       "</table>\n",
       "</div>"
      ],
      "text/plain": [
       "                                              beerslaw  \\\n",
       "236                                           garnicht   \n",
       "151           Oui, mais je ne l'ai pas revu récemment.   \n",
       "168  Ab und zu mit dem UV/VIS Photometer Gerät Glyc...   \n",
       "241                                       garnicht\\r\\n   \n",
       "217                                               oui.   \n",
       "418                                            oui\\r\\n   \n",
       "78                                           gar nicht   \n",
       "26                                           gar nicht   \n",
       "290                                                oui   \n",
       "70   Eher wenig. Das Gesetz war mir unbekannt, jedo...   \n",
       "294  Oui, je l'ai utilisé durant ma formation et mo...   \n",
       "179  Grundsätzlich gut aber das Problem war, dass d...   \n",
       "214  Oui\\r\\nA = E * d * c\\r\\nMais je ne l'utilise p...   \n",
       "299                                                oui   \n",
       "340                                  Un petit peu oui    \n",
       "253  Eigentlich sehr gut. In der Berufsschule wurde...   \n",
       "311  So halb. Ist sehr lange her, seit der letzten ...   \n",
       "0                                          Gar nicht.    \n",
       "303  ich habe es schon mal gehört aber bin mir nich...   \n",
       "379            Gar nicht vertraut. Komplettes Neuland.   \n",
       "\n",
       "                                               formula  \n",
       "236  die Konzentration der Lösung wird beeinflusst,...  \n",
       "151  La concentration de la solution est proportion...  \n",
       "168  Je konzentrierter die Lösung, desto mehr absor...  \n",
       "241  Die Konzentration der Lösung wird beeinflusst,...  \n",
       "217  absorbtion = c X L X longeur onde \\r\\n\\r\\nabso...  \n",
       "418  loi de lambert-beer prend en compte la longueu...  \n",
       "78   Je höher die Konzentration, desto höher die Ex...  \n",
       "26   je höher konzentriert es ist, desto grössere e...  \n",
       "290  l'absorbance dépend de la nature et du nombre ...  \n",
       "70   Je grösser die konzentration ist, desto stärke...  \n",
       "294  La formule de Lambert-Beer dit que l'absorbanc...  \n",
       "179                                  E = Ɛ / (c*d)\\r\\n  \n",
       "214  A = E * d * c\\r\\nAbsorbance = coefficient d'ab...  \n",
       "299  Absorbance = concentration * distance * coeffi...  \n",
       "340  Plus la solution est concentrée, donc colorée,...  \n",
       "253  E= (griechisches Zeichen weiss nicht wie es he...  \n",
       "311  -Je grösser die Konzentration der Lösung, dest...  \n",
       "0    Breite des Bechers * Wellenlänge / Konzentrati...  \n",
       "303  Konzentration: je konz. desto mehr wird absorb...  \n",
       "379  Je stärker die Konzentration, desto mehr Absor...  "
      ]
     },
     "execution_count": 4,
     "metadata": {},
     "output_type": "execute_result"
    }
   ],
   "source": [
    "n = 20  # samples to label for a trial\n",
    "indices = np.random.randint((len(some_questions)), size=(n))\n",
    "print(indices)\n",
    "\n",
    "trial = some_questions.iloc[indices]\n",
    "with open('../../data/post_test/trial_questions.pkl', 'wb') as fp:\n",
    "    pickle.dump(trial, fp)\n",
    "    \n",
    "trial[['beerslaw', 'formula']]"
   ]
  },
  {
   "cell_type": "markdown",
   "id": "b6ac2357",
   "metadata": {},
   "source": [
    "# sample 2"
   ]
  },
  {
   "cell_type": "code",
   "execution_count": 6,
   "id": "4d64d706",
   "metadata": {
    "ExecuteTime": {
     "end_time": "2021-11-03T23:19:09.560539Z",
     "start_time": "2021-11-03T23:19:09.537945Z"
    }
   },
   "outputs": [
    {
     "name": "stdout",
     "output_type": "stream",
     "text": [
      "[331 392 222 220 116 269 234  98  90 229  33  44 197 301  41 315 391 177\n",
      " 224  76]\n"
     ]
    },
    {
     "data": {
      "text/html": [
       "<div>\n",
       "<style scoped>\n",
       "    .dataframe tbody tr th:only-of-type {\n",
       "        vertical-align: middle;\n",
       "    }\n",
       "\n",
       "    .dataframe tbody tr th {\n",
       "        vertical-align: top;\n",
       "    }\n",
       "\n",
       "    .dataframe thead th {\n",
       "        text-align: right;\n",
       "    }\n",
       "</style>\n",
       "<table border=\"1\" class=\"dataframe\">\n",
       "  <thead>\n",
       "    <tr style=\"text-align: right;\">\n",
       "      <th></th>\n",
       "      <th>beerslaw</th>\n",
       "      <th>formula</th>\n",
       "    </tr>\n",
       "  </thead>\n",
       "  <tbody>\n",
       "    <tr>\n",
       "      <th>331</th>\n",
       "      <td>oui</td>\n",
       "      <td>la concentration de la solution va affecter l'...</td>\n",
       "    </tr>\n",
       "    <tr>\n",
       "      <th>392</th>\n",
       "      <td>Gar nicht. Ich kannte nur was Wellenlängen sind.</td>\n",
       "      <td>mit höherer Konzentration wird mehr absorbiert...</td>\n",
       "    </tr>\n",
       "    <tr>\n",
       "      <th>222</th>\n",
       "      <td>Bien sure, pas à fond vu que je ne sais pas ce...</td>\n",
       "      <td>J'ai répondu aux questions en appliquant la lo...</td>\n",
       "    </tr>\n",
       "    <tr>\n",
       "      <th>220</th>\n",
       "      <td>nope</td>\n",
       "      <td>- la concentration de la solution: plus elle e...</td>\n",
       "    </tr>\n",
       "    <tr>\n",
       "      <th>116</th>\n",
       "      <td>A=Elc</td>\n",
       "      <td>A=Elc\\r\\nA =  absorbance mesurée\\r\\nE = coef d...</td>\n",
       "    </tr>\n",
       "    <tr>\n",
       "      <th>269</th>\n",
       "      <td>ziemlich gut</td>\n",
       "      <td>A= Epsilon * c * d\\r\\nAbsorbance = extinktions...</td>\n",
       "    </tr>\n",
       "    <tr>\n",
       "      <th>234</th>\n",
       "      <td>Gar nicht.  Keinen Formeln vorhanden!!! Keine ...</td>\n",
       "      <td>jjejiejoejoerjreqjgeroqerojero\\r\\n</td>\n",
       "    </tr>\n",
       "    <tr>\n",
       "      <th>98</th>\n",
       "      <td>Im Unterricht wurde Optik thematisiert. Zusätz...</td>\n",
       "      <td>Je konzentrierter, desto höher die Absorption....</td>\n",
       "    </tr>\n",
       "    <tr>\n",
       "      <th>90</th>\n",
       "      <td>Noch nie davongehört,, bzw. in der Schule noch...</td>\n",
       "      <td>Je höher die Konzentration im Becher, desto me...</td>\n",
       "    </tr>\n",
       "    <tr>\n",
       "      <th>229</th>\n",
       "      <td>Garnicht bis heute noch nie davon gehört.\\r\\n</td>\n",
       "      <td>https://wikimedia.org/api/rest_v1/media/math/r...</td>\n",
       "    </tr>\n",
       "    <tr>\n",
       "      <th>33</th>\n",
       "      <td>Garnicht, habe nochnie davon gehört.</td>\n",
       "      <td>Die konzentration der lösung bestimmt wie die ...</td>\n",
       "    </tr>\n",
       "    <tr>\n",
       "      <th>44</th>\n",
       "      <td>oui</td>\n",
       "      <td>Absorbance de l'entité chimique + longueur du ...</td>\n",
       "    </tr>\n",
       "    <tr>\n",
       "      <th>197</th>\n",
       "      <td>Hatte noch nichts davon gehört.</td>\n",
       "      <td>Konzentration: Die Konzentration beinflusst wi...</td>\n",
       "    </tr>\n",
       "    <tr>\n",
       "      <th>301</th>\n",
       "      <td>Oui, nous en avions parlé en cours ainsi que v...</td>\n",
       "      <td>Lorsqu'on parle de la relation entre l'absorba...</td>\n",
       "    </tr>\n",
       "    <tr>\n",
       "      <th>41</th>\n",
       "      <td>Oui</td>\n",
       "      <td>concentration: plus la concentration est élevé...</td>\n",
       "    </tr>\n",
       "    <tr>\n",
       "      <th>315</th>\n",
       "      <td>Non pas vraiment, au talent.</td>\n",
       "      <td>plus le becher est large &amp; plus la concentrati...</td>\n",
       "    </tr>\n",
       "    <tr>\n",
       "      <th>391</th>\n",
       "      <td>Noch gar nicht</td>\n",
       "      <td>Ein Lichtstrahl kann unterschiedliche Wellenlä...</td>\n",
       "    </tr>\n",
       "    <tr>\n",
       "      <th>177</th>\n",
       "      <td>keine Ahnung</td>\n",
       "      <td>E=ε⋅c⋅d</td>\n",
       "    </tr>\n",
       "    <tr>\n",
       "      <th>224</th>\n",
       "      <td>oui</td>\n",
       "      <td>plus c'est concentré moins la lumière passe \\r...</td>\n",
       "    </tr>\n",
       "    <tr>\n",
       "      <th>76</th>\n",
       "      <td>Ich habe vom Gesetz an sich noch nie gehört, j...</td>\n",
       "      <td>Je höher die Konzentration ist, desto höher is...</td>\n",
       "    </tr>\n",
       "  </tbody>\n",
       "</table>\n",
       "</div>"
      ],
      "text/plain": [
       "                                              beerslaw  \\\n",
       "331                                                oui   \n",
       "392   Gar nicht. Ich kannte nur was Wellenlängen sind.   \n",
       "222  Bien sure, pas à fond vu que je ne sais pas ce...   \n",
       "220                                               nope   \n",
       "116                                              A=Elc   \n",
       "269                                       ziemlich gut   \n",
       "234  Gar nicht.  Keinen Formeln vorhanden!!! Keine ...   \n",
       "98   Im Unterricht wurde Optik thematisiert. Zusätz...   \n",
       "90   Noch nie davongehört,, bzw. in der Schule noch...   \n",
       "229      Garnicht bis heute noch nie davon gehört.\\r\\n   \n",
       "33                Garnicht, habe nochnie davon gehört.   \n",
       "44                                                 oui   \n",
       "197                    Hatte noch nichts davon gehört.   \n",
       "301  Oui, nous en avions parlé en cours ainsi que v...   \n",
       "41                                                Oui    \n",
       "315                      Non pas vraiment, au talent.    \n",
       "391                                     Noch gar nicht   \n",
       "177                                       keine Ahnung   \n",
       "224                                                oui   \n",
       "76   Ich habe vom Gesetz an sich noch nie gehört, j...   \n",
       "\n",
       "                                               formula  \n",
       "331  la concentration de la solution va affecter l'...  \n",
       "392  mit höherer Konzentration wird mehr absorbiert...  \n",
       "222  J'ai répondu aux questions en appliquant la lo...  \n",
       "220  - la concentration de la solution: plus elle e...  \n",
       "116  A=Elc\\r\\nA =  absorbance mesurée\\r\\nE = coef d...  \n",
       "269  A= Epsilon * c * d\\r\\nAbsorbance = extinktions...  \n",
       "234                 jjejiejoejoerjreqjgeroqerojero\\r\\n  \n",
       "98   Je konzentrierter, desto höher die Absorption....  \n",
       "90   Je höher die Konzentration im Becher, desto me...  \n",
       "229  https://wikimedia.org/api/rest_v1/media/math/r...  \n",
       "33   Die konzentration der lösung bestimmt wie die ...  \n",
       "44   Absorbance de l'entité chimique + longueur du ...  \n",
       "197  Konzentration: Die Konzentration beinflusst wi...  \n",
       "301  Lorsqu'on parle de la relation entre l'absorba...  \n",
       "41   concentration: plus la concentration est élevé...  \n",
       "315  plus le becher est large & plus la concentrati...  \n",
       "391  Ein Lichtstrahl kann unterschiedliche Wellenlä...  \n",
       "177                                            E=ε⋅c⋅d  \n",
       "224  plus c'est concentré moins la lumière passe \\r...  \n",
       "76   Je höher die Konzentration ist, desto höher is...  "
      ]
     },
     "execution_count": 6,
     "metadata": {},
     "output_type": "execute_result"
    }
   ],
   "source": [
    "n = 20  # samples to label for a trial\n",
    "indices = np.random.choice(list(range(len(some_questions))), size=(n), replace=False)\n",
    "print(indices)\n",
    "\n",
    "trial = some_questions.iloc[indices]\n",
    "with open('../../data/post_test/trial_questionsv2.pkl', 'wb') as fp:\n",
    "    pickle.dump(trial, fp)\n",
    "    \n",
    "trial[['beerslaw', 'formula']]"
   ]
  },
  {
   "cell_type": "code",
   "execution_count": 13,
   "id": "d2566b43",
   "metadata": {
    "ExecuteTime": {
     "end_time": "2021-11-03T23:21:31.824015Z",
     "start_time": "2021-11-03T23:21:31.820211Z"
    }
   },
   "outputs": [],
   "source": [
    "with open('../../data/post_test/trial_questionsv0.pkl', 'rb') as fp:\n",
    "    v0 = pickle.load(fp)\n",
    "list(v0.index)"
   ]
  },
  {
   "cell_type": "code",
   "execution_count": 15,
   "id": "264beff2",
   "metadata": {
    "ExecuteTime": {
     "end_time": "2021-11-03T23:21:34.500324Z",
     "start_time": "2021-11-03T23:21:34.495728Z"
    }
   },
   "outputs": [
    {
     "data": {
      "text/plain": [
       "[174,\n",
       " 125,\n",
       " 326,\n",
       " 360,\n",
       " 166,\n",
       " 212,\n",
       " 106,\n",
       " 386,\n",
       " 29,\n",
       " 42,\n",
       " 335,\n",
       " 405,\n",
       " 60,\n",
       " 33,\n",
       " 412,\n",
       " 149,\n",
       " 50,\n",
       " 315,\n",
       " 27,\n",
       " 48]"
      ]
     },
     "execution_count": 15,
     "metadata": {},
     "output_type": "execute_result"
    }
   ],
   "source": [
    "list(v0.index)"
   ]
  },
  {
   "cell_type": "code",
   "execution_count": 17,
   "id": "f627420b",
   "metadata": {
    "ExecuteTime": {
     "end_time": "2021-11-03T23:21:44.967586Z",
     "start_time": "2021-11-03T23:21:44.960310Z"
    }
   },
   "outputs": [
    {
     "ename": "TypeError",
     "evalue": "unsupported operand type(s) for -: 'list' and 'list'",
     "output_type": "error",
     "traceback": [
      "\u001b[0;31m---------------------------------------------------------------------------\u001b[0m",
      "\u001b[0;31mTypeError\u001b[0m                                 Traceback (most recent call last)",
      "\u001b[0;32m/var/folders/jy/0pp1md9x1358dt8g8k69srhr0000gp/T/ipykernel_9944/3508236980.py\u001b[0m in \u001b[0;36m<module>\u001b[0;34m\u001b[0m\n\u001b[0;32m----> 1\u001b[0;31m \u001b[0;34m[\u001b[0m\u001b[0;34m'apple'\u001b[0m\u001b[0;34m]\u001b[0m \u001b[0;34m-\u001b[0m \u001b[0;34m[\u001b[0m\u001b[0;34m'apple'\u001b[0m\u001b[0;34m]\u001b[0m\u001b[0;34m\u001b[0m\u001b[0;34m\u001b[0m\u001b[0m\n\u001b[0m",
      "\u001b[0;31mTypeError\u001b[0m: unsupported operand type(s) for -: 'list' and 'list'"
     ]
    }
   ],
   "source": []
  },
  {
   "cell_type": "code",
   "execution_count": null,
   "id": "ab98061f",
   "metadata": {},
   "outputs": [],
   "source": []
  },
  {
   "cell_type": "code",
   "execution_count": null,
   "id": "b1d04434",
   "metadata": {},
   "outputs": [],
   "source": []
  },
  {
   "cell_type": "code",
   "execution_count": null,
   "id": "bc8194ac",
   "metadata": {},
   "outputs": [],
   "source": []
  },
  {
   "cell_type": "code",
   "execution_count": null,
   "id": "9f9a0576",
   "metadata": {},
   "outputs": [],
   "source": []
  },
  {
   "cell_type": "code",
   "execution_count": null,
   "id": "6bb170f1",
   "metadata": {},
   "outputs": [],
   "source": []
  },
  {
   "cell_type": "code",
   "execution_count": null,
   "id": "c0710f51",
   "metadata": {},
   "outputs": [],
   "source": []
  },
  {
   "cell_type": "code",
   "execution_count": null,
   "id": "f051a885",
   "metadata": {},
   "outputs": [],
   "source": []
  },
  {
   "cell_type": "code",
   "execution_count": null,
   "id": "22803d7e",
   "metadata": {},
   "outputs": [],
   "source": []
  },
  {
   "cell_type": "code",
   "execution_count": null,
   "id": "c2aedd99",
   "metadata": {},
   "outputs": [],
   "source": []
  },
  {
   "cell_type": "code",
   "execution_count": null,
   "id": "666a0ac1",
   "metadata": {},
   "outputs": [],
   "source": []
  },
  {
   "cell_type": "code",
   "execution_count": null,
   "id": "ac4c9b77",
   "metadata": {},
   "outputs": [],
   "source": []
  },
  {
   "cell_type": "code",
   "execution_count": null,
   "id": "dfbb3db5",
   "metadata": {},
   "outputs": [],
   "source": []
  },
  {
   "cell_type": "code",
   "execution_count": null,
   "id": "e90f037e",
   "metadata": {},
   "outputs": [],
   "source": []
  }
 ],
 "metadata": {
  "kernelspec": {
   "display_name": "Python 3 (ipykernel)",
   "language": "python",
   "name": "python3"
  },
  "language_info": {
   "codemirror_mode": {
    "name": "ipython",
    "version": 3
   },
   "file_extension": ".py",
   "mimetype": "text/x-python",
   "name": "python",
   "nbconvert_exporter": "python",
   "pygments_lexer": "ipython3",
   "version": "3.7.11"
  },
  "toc": {
   "base_numbering": 1,
   "nav_menu": {},
   "number_sections": true,
   "sideBar": true,
   "skip_h1_title": false,
   "title_cell": "Table of Contents",
   "title_sidebar": "Contents",
   "toc_cell": false,
   "toc_position": {},
   "toc_section_display": true,
   "toc_window_display": true
  }
 },
 "nbformat": 4,
 "nbformat_minor": 5
}
