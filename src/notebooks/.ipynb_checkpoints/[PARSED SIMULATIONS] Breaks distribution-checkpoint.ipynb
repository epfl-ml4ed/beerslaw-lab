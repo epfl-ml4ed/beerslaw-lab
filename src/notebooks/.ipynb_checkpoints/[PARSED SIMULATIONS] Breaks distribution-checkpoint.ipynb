{
 "cells": [
  {
   "cell_type": "code",
   "execution_count": 1,
   "id": "6420d4f4",
   "metadata": {
    "ExecuteTime": {
     "end_time": "2021-11-10T18:18:01.790458Z",
     "start_time": "2021-11-10T18:18:00.780639Z"
    }
   },
   "outputs": [],
   "source": [
    "import os\n",
    "import pickle\n",
    "import numpy as np\n",
    "import pandas as pd\n",
    "import seaborn as sns\n",
    "from matplotlib import pyplot as plt"
   ]
  },
  {
   "cell_type": "code",
   "execution_count": 2,
   "id": "fb6407ed",
   "metadata": {
    "ExecuteTime": {
     "end_time": "2021-11-10T18:18:01.796537Z",
     "start_time": "2021-11-10T18:18:01.792319Z"
    }
   },
   "outputs": [
    {
     "name": "stdout",
     "output_type": "stream",
     "text": [
      "/Users/cock/kDrive/PhD/Projects/Labs/beerslaw-lab/src\n"
     ]
    }
   ],
   "source": [
    "cd .."
   ]
  },
  {
   "cell_type": "code",
   "execution_count": 3,
   "id": "4b2458b8",
   "metadata": {
    "ExecuteTime": {
     "end_time": "2021-11-10T18:18:02.154475Z",
     "start_time": "2021-11-10T18:18:01.798442Z"
    }
   },
   "outputs": [],
   "source": [
    "from extractors.sequencer.plotter_sequencer import PlotterSequencing\n",
    "from extractors.cleaners.break_filter import BreakFilter"
   ]
  },
  {
   "cell_type": "markdown",
   "id": "98a3fc48",
   "metadata": {},
   "source": [
    "# Data"
   ]
  },
  {
   "cell_type": "code",
   "execution_count": 4,
   "id": "a6fff068",
   "metadata": {
    "ExecuteTime": {
     "end_time": "2021-11-10T18:18:02.714382Z",
     "start_time": "2021-11-10T18:18:02.709041Z"
    }
   },
   "outputs": [],
   "source": [
    "root = '../data/parsed simulations/'\n",
    "files = os.listdir(root)\n",
    "files = [f for f in files if 'simulation.pkl' in f]"
   ]
  },
  {
   "cell_type": "code",
   "execution_count": 5,
   "id": "fe03f6f3",
   "metadata": {
    "ExecuteTime": {
     "end_time": "2021-11-10T18:18:20.247534Z",
     "start_time": "2021-11-10T18:18:03.398169Z"
    }
   },
   "outputs": [],
   "source": [
    "breaks = {}\n",
    "sequencer = PlotterSequencing()\n",
    "br_filter = BreakFilter(sequencer)\n",
    "for f in files:\n",
    "    path = root + f\n",
    "    with open(path, 'rb') as fp:\n",
    "        sim = pickle.load(fp)\n",
    "        begins, ends, labels = sequencer.get_sequences(sim)\n",
    "        break_distribution = br_filter._get_all_breaks(begins, ends)\n",
    "        breaks[f] = {\n",
    "            'distribution': break_distribution,\n",
    "            'permutation': sim.get_permutation()\n",
    "        }\n",
    "    "
   ]
  },
  {
   "cell_type": "markdown",
   "id": "1ee7b599",
   "metadata": {
    "ExecuteTime": {
     "end_time": "2021-11-10T17:52:30.671885Z",
     "start_time": "2021-11-10T17:52:29.837193Z"
    }
   },
   "source": [
    "## definition"
   ]
  },
  {
   "cell_type": "code",
   "execution_count": 23,
   "id": "595b407a",
   "metadata": {
    "ExecuteTime": {
     "end_time": "2021-11-10T19:09:35.915489Z",
     "start_time": "2021-11-10T19:09:35.912284Z"
    }
   },
   "outputs": [],
   "source": [
    "def plot_breaks(break_distributions: list):\n",
    "    \"\"\"\n",
    "    plot all the break distribution for the people in df\n",
    "    \"\"\"\n",
    "    plt.figure(figsize=(12, 4))\n",
    "    for student in break_distributions:\n",
    "        plt.hist(break_distributions[student]['distribution'], density=True, color='dodgerblue', alpha=0.1)\n",
    "        \n",
    "    plt.xlim([0, 60])\n",
    "    plt.show()"
   ]
  },
  {
   "cell_type": "code",
   "execution_count": 24,
   "id": "a0885447",
   "metadata": {
    "ExecuteTime": {
     "end_time": "2021-11-10T19:09:56.784657Z",
     "start_time": "2021-11-10T19:09:36.384399Z"
    }
   },
   "outputs": [
    {
     "data": {
      "image/png": "[encoded data removed]",
      "text/plain": [
       "<Figure size 864x288 with 1 Axes>"
      ]
     },
     "metadata": {
      "needs_background": "light"
     },
     "output_type": "display_data"
    }
   ],
   "source": [
    "plot_breaks(breaks)"
   ]
  },
  {
   "cell_type": "code",
   "execution_count": 29,
   "id": "eda0d1fc",
   "metadata": {
    "ExecuteTime": {
     "end_time": "2021-11-10T19:15:55.255694Z",
     "start_time": "2021-11-10T19:15:55.250493Z"
    }
   },
   "outputs": [],
   "source": [
    "def plot_cumulative(break_distributions: list, n:int, threshold:float):\n",
    "    \"\"\"\n",
    "    plot for n students:\n",
    "    - plot the distribution of breaks, and a vertical line at the *threshold* % lower breaks\n",
    "    \"\"\"\n",
    "    for i, student in enumerate(break_distributions):\n",
    "        if i >= n:\n",
    "            break\n",
    "        elif len(break_distribution[student]) < 2:\n",
    "            n+=1\n",
    "            continue\n",
    "        else:\n",
    "            # compute threshold\n",
    "            breaks = [br for br in break_distributions[student]['distribution']]\n",
    "            breaks.sort()\n",
    "            threshold = int(threshold * len(breaks))\n",
    "            print(breaks)\n",
    "            print(threshold)\n",
    "            threshold = breaks[threshold]\n",
    "            \n",
    "            plt.figure(figsize=(12, 4))\n",
    "            plt.hist(break_distributions[student]['distribution'], color='dodgerblue')\n",
    "            plt.axvline(x=threshold)\n",
    "            plt.show()\n",
    "            "
   ]
  },
  {
   "cell_type": "code",
   "execution_count": 30,
   "id": "784cf737",
   "metadata": {
    "ExecuteTime": {
     "end_time": "2021-11-10T19:15:55.645722Z",
     "start_time": "2021-11-10T19:15:55.504857Z"
    }
   },
   "outputs": [
    {
     "name": "stdout",
     "output_type": "stream",
     "text": [
      "[0.09699999999997999, 0.10800000000000409, 0.11899999999997135, 0.1190000000000282, 0.12999999999999545, 0.12999999999999545, 0.12999999999999545, 0.12999999999999545, 0.132000000000005, 0.1409999999999627, 0.1409999999999627, 0.14099999999999113, 0.14100000000000534, 0.15100000000001046, 0.1519999999999868, 0.1519999999999868, 0.1519999999999868, 0.16199999999997772, 0.16399999999998727, 0.16399999999998727, 0.16399999999998727, 0.16399999999998727, 0.16399999999998727, 0.16399999999998727, 0.16399999999998727, 0.16400000000000148, 0.17499999999995453, 0.17500000000001137, 0.17500000000001137, 0.17500000000001137, 0.19799999999997908, 0.20800000000002683, 0.23099999999999454, 0.2319999999999709, 0.242999999999995, 0.26400000000001, 0.28700000000000614, 0.3100000000000023, 0.31100000000003547, 0.34399999999996567, 0.36600000000001387, 0.3739999999999952, 0.3879999999999768, 0.38800000000000523, 0.38900000000001, 0.4109999999999445, 0.41100000000000136, 0.4110000000000156, 0.46699999999998454, 0.46699999999998454, 0.5029999999999859, 0.5099999999999909, 0.5230000000000246, 0.5349999999999682, 0.5470000000000255, 0.5840000000000032, 0.6720000000000255, 0.6809999999999263, 0.6910000000000025, 0.7160000000000082, 0.7270000000000323, 0.7609999999999957, 0.7710000000000008, 0.771000000000015, 0.7920000000000016, 0.8160000000000309, 0.8859999999999673, 0.9019999999999868, 0.9289999999999736, 0.9470000000000027, 0.9480000000000075, 1.0019999999999811, 1.1370000000000005, 1.2069999999999936, 1.231999999999971, 1.2450000000000045, 1.281000000000006, 1.295000000000016, 1.318000000000012, 1.350999999999999, 1.4849999999999852, 1.5039999999999907, 1.5529999999999973, 1.615000000000009, 1.625, 1.641999999999996, 1.7280000000000086, 1.7280000000000086, 1.8740000000000236, 1.9180000000000064, 1.9869999999999663, 1.9939999999999714, 2.0420000000000016, 2.1639999999999873, 2.266999999999996, 2.2900000000000205, 2.2910000000000537, 2.783999999999992, 2.8139999999999645, 3.068000000000012, 3.1389999999999816, 3.1499999999999773, 3.25, 3.3500000000000227, 3.359999999999957, 4.168000000000006, 4.867000000000019, 5.875999999999991, 5.906999999999982, 6.6889999999999645, 7.889, 8.040999999999997, 8.413000000000011, 10.036000000000001, 22.928999999999974, 28.876000000000033]\n",
      "69\n"
     ]
    },
    {
     "data": {
      "image/png": "[encoded data removed]",
      "text/plain": [
       "<Figure size 864x288 with 1 Axes>"
      ]
     },
     "metadata": {
      "needs_background": "light"
     },
     "output_type": "display_data"
    },
    {
     "name": "stdout",
     "output_type": "stream",
     "text": [
      "[]\n",
      "0\n"
     ]
    },
    {
     "ename": "IndexError",
     "evalue": "list index out of range",
     "output_type": "error",
     "traceback": [
      "\u001b[0;31m---------------------------------------------------------------------------\u001b[0m",
      "\u001b[0;31mIndexError\u001b[0m                                Traceback (most recent call last)",
      "\u001b[0;32m/var/folders/jy/0pp1md9x1358dt8g8k69srhr0000gp/T/ipykernel_6015/2133523746.py\u001b[0m in \u001b[0;36m<module>\u001b[0;34m\u001b[0m\n\u001b[0;32m----> 1\u001b[0;31m \u001b[0mplot_cumulative\u001b[0m\u001b[0;34m(\u001b[0m\u001b[0mbreaks\u001b[0m\u001b[0;34m,\u001b[0m \u001b[0;36m50\u001b[0m\u001b[0;34m,\u001b[0m \u001b[0;36m0.6\u001b[0m\u001b[0;34m)\u001b[0m\u001b[0;34m\u001b[0m\u001b[0;34m\u001b[0m\u001b[0m\n\u001b[0m",
      "\u001b[0;32m/var/folders/jy/0pp1md9x1358dt8g8k69srhr0000gp/T/ipykernel_6015/2031706564.py\u001b[0m in \u001b[0;36mplot_cumulative\u001b[0;34m(break_distributions, n, threshold)\u001b[0m\n\u001b[1;32m     14\u001b[0m             \u001b[0mprint\u001b[0m\u001b[0;34m(\u001b[0m\u001b[0mbreaks\u001b[0m\u001b[0;34m)\u001b[0m\u001b[0;34m\u001b[0m\u001b[0;34m\u001b[0m\u001b[0m\n\u001b[1;32m     15\u001b[0m             \u001b[0mprint\u001b[0m\u001b[0;34m(\u001b[0m\u001b[0mthreshold\u001b[0m\u001b[0;34m)\u001b[0m\u001b[0;34m\u001b[0m\u001b[0;34m\u001b[0m\u001b[0m\n\u001b[0;32m---> 16\u001b[0;31m             \u001b[0mthreshold\u001b[0m \u001b[0;34m=\u001b[0m \u001b[0mbreaks\u001b[0m\u001b[0;34m[\u001b[0m\u001b[0mthreshold\u001b[0m\u001b[0;34m]\u001b[0m\u001b[0;34m\u001b[0m\u001b[0;34m\u001b[0m\u001b[0m\n\u001b[0m\u001b[1;32m     17\u001b[0m \u001b[0;34m\u001b[0m\u001b[0m\n\u001b[1;32m     18\u001b[0m             \u001b[0mplt\u001b[0m\u001b[0;34m.\u001b[0m\u001b[0mfigure\u001b[0m\u001b[0;34m(\u001b[0m\u001b[0mfigsize\u001b[0m\u001b[0;34m=\u001b[0m\u001b[0;34m(\u001b[0m\u001b[0;36m12\u001b[0m\u001b[0;34m,\u001b[0m \u001b[0;36m4\u001b[0m\u001b[0;34m)\u001b[0m\u001b[0;34m)\u001b[0m\u001b[0;34m\u001b[0m\u001b[0;34m\u001b[0m\u001b[0m\n",
      "\u001b[0;31mIndexError\u001b[0m: list index out of range"
     ]
    }
   ],
   "source": [
    "plot_cumulative(breaks, 50, 0.6)"
   ]
  },
  {
   "cell_type": "code",
   "execution_count": null,
   "id": "9b3d7f6a",
   "metadata": {},
   "outputs": [],
   "source": []
  },
  {
   "cell_type": "code",
   "execution_count": null,
   "id": "874e6753",
   "metadata": {},
   "outputs": [],
   "source": []
  },
  {
   "cell_type": "code",
   "execution_count": null,
   "id": "c3130aae",
   "metadata": {},
   "outputs": [],
   "source": []
  },
  {
   "cell_type": "code",
   "execution_count": null,
   "id": "f13dc7ac",
   "metadata": {},
   "outputs": [],
   "source": []
  },
  {
   "cell_type": "code",
   "execution_count": null,
   "id": "433c005b",
   "metadata": {},
   "outputs": [],
   "source": []
  },
  {
   "cell_type": "code",
   "execution_count": null,
   "id": "f924af58",
   "metadata": {},
   "outputs": [],
   "source": []
  },
  {
   "cell_type": "code",
   "execution_count": null,
   "id": "a4b6fdcf",
   "metadata": {},
   "outputs": [],
   "source": []
  },
  {
   "cell_type": "code",
   "execution_count": null,
   "id": "b47f01ba",
   "metadata": {},
   "outputs": [],
   "source": []
  },
  {
   "cell_type": "code",
   "execution_count": null,
   "id": "de6f8317",
   "metadata": {},
   "outputs": [],
   "source": []
  },
  {
   "cell_type": "code",
   "execution_count": null,
   "id": "3df3161f",
   "metadata": {},
   "outputs": [],
   "source": []
  },
  {
   "cell_type": "code",
   "execution_count": null,
   "id": "d3c9b669",
   "metadata": {},
   "outputs": [],
   "source": []
  },
  {
   "cell_type": "code",
   "execution_count": null,
   "id": "8883cb98",
   "metadata": {},
   "outputs": [],
   "source": []
  },
  {
   "cell_type": "code",
   "execution_count": null,
   "id": "ab421e70",
   "metadata": {},
   "outputs": [],
   "source": []
  },
  {
   "cell_type": "code",
   "execution_count": null,
   "id": "421df1cb",
   "metadata": {},
   "outputs": [],
   "source": []
  },
  {
   "cell_type": "code",
   "execution_count": null,
   "id": "67835b23",
   "metadata": {},
   "outputs": [],
   "source": []
  },
  {
   "cell_type": "code",
   "execution_count": null,
   "id": "c8de9e7d",
   "metadata": {},
   "outputs": [],
   "source": []
  },
  {
   "cell_type": "code",
   "execution_count": null,
   "id": "18589781",
   "metadata": {},
   "outputs": [],
   "source": []
  }
 ],
 "metadata": {
  "kernelspec": {
   "display_name": "Python 3 (ipykernel)",
   "language": "python",
   "name": "python3"
  },
  "language_info": {
   "codemirror_mode": {
    "name": "ipython",
    "version": 3
   },
   "file_extension": ".py",
   "mimetype": "text/x-python",
   "name": "python",
   "nbconvert_exporter": "python",
   "pygments_lexer": "ipython3",
   "version": "3.8.12"
  },
  "toc": {
   "base_numbering": 1,
   "nav_menu": {},
   "number_sections": true,
   "sideBar": true,
   "skip_h1_title": false,
   "title_cell": "Table of Contents",
   "title_sidebar": "Contents",
   "toc_cell": false,
   "toc_position": {},
   "toc_section_display": true,
   "toc_window_display": false
  }
 },
 "nbformat": 4,
 "nbformat_minor": 5
}
