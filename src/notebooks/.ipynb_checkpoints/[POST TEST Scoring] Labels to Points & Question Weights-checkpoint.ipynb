{
 "cells": [
  {
   "cell_type": "code",
   "execution_count": 1,
   "id": "e8447c45",
   "metadata": {
    "ExecuteTime": {
     "end_time": "2021-11-05T10:39:32.810755Z",
     "start_time": "2021-11-05T10:39:31.706830Z"
    }
   },
   "outputs": [],
   "source": [
    "import os\n",
    "import yaml\n",
    "import pickle\n",
    "\n",
    "import numpy as np\n",
    "import pandas as pd\n",
    "\n",
    "from matplotlib import pyplot as plt\n",
    "import seaborn as sns"
   ]
  },
  {
   "cell_type": "markdown",
   "id": "5a0ae68a",
   "metadata": {},
   "source": [
    "# Data"
   ]
  },
  {
   "cell_type": "code",
   "execution_count": 2,
   "id": "576642e8",
   "metadata": {
    "ExecuteTime": {
     "end_time": "2021-11-05T10:39:34.708801Z",
     "start_time": "2021-11-05T10:39:34.685296Z"
    }
   },
   "outputs": [],
   "source": [
    "with open('../../data/post_test/some_annotated.pkl', 'rb') as fp:\n",
    "    some = pickle.load(fp)\n",
    "    \n",
    "with open('../../data/post_test/some_questions_annotated.pkl', 'rb') as fp:\n",
    "    some_questions = pickle.load(fp)\n",
    "    \n",
    "with open('../../data/post_test/questions_annotated.pkl', 'rb') as fp:\n",
    "    questions = pickle.load(fp)\n",
    "    \n",
    "with open('../../data/post_test/rankings_annotated.pkl', 'rb') as fp:\n",
    "    rankings = pickle.load(fp)"
   ]
  },
  {
   "cell_type": "code",
   "execution_count": 3,
   "id": "a2b9215e",
   "metadata": {
    "ExecuteTime": {
     "end_time": "2021-11-05T10:39:34.985846Z",
     "start_time": "2021-11-05T10:39:34.978159Z"
    }
   },
   "outputs": [],
   "source": [
    "def process_q1(label):\n",
    "    \"\"\"\n",
    "    processes the q1 labels (about width change) and returns the label 1 for correct, and 0 for anything else\n",
    "    \"\"\"\n",
    "    correct = ['correct']\n",
    "    wrong = [\n",
    "        'none', 'unrelated', 'inverse', 'to check', 'larger', 'smaller', 'nans', 'same'\n",
    "    ]\n",
    "    if label in correct:\n",
    "        return 1\n",
    "    else:\n",
    "        return 0\n",
    "    \n",
    "def process_q2(label):\n",
    "    \"\"\"\n",
    "    processes the q1 labels (about concentration change) and returns the label 1 for correct, and 0 for anything else\n",
    "    \"\"\"\n",
    "    correct = ['correct']\n",
    "    wrong = [\n",
    "        'nans', 'larger', 'inverse', 'unrelated', 'mathematical', 'smaller', 'same'\n",
    "    ]\n",
    "    if label in correct:\n",
    "        return 1\n",
    "    else:\n",
    "        return 0\n",
    "    \n",
    "def process_q3(label):\n",
    "    \"\"\"\n",
    "    processes the q1 labels (about width and concentration change) and returns the label 1 for correct, and 0 for anything else\n",
    "    \"\"\"\n",
    "    correct = ['correct', 'same']\n",
    "    wrong = [\n",
    "        'nans', 'half', 'double', 'unrelated', 'larger', 'smaller', 'quadruple'\n",
    "    ]\n",
    "    if label in correct:\n",
    "        return 1\n",
    "    else:\n",
    "        return 0\n",
    "    \n",
    "def process_q4(label):\n",
    "    \"\"\"\n",
    "    processes the q1 labels (about width and concentration change) and returns the label 1 for correct, and 0 for anything else\n",
    "    \"\"\"\n",
    "    correct = ['correct']\n",
    "    wrong = [\n",
    "        'nans', 'smaller', 'fourth', 'larger', 'same', 'inverse', 'half', 'unrelated', 'quadruple', \n",
    "        'double', 'third', 'to check', 'triple'\n",
    "    ]\n",
    "    if label in correct:\n",
    "        return 1\n",
    "    else:\n",
    "        return 0"
   ]
  },
  {
   "cell_type": "code",
   "execution_count": 4,
   "id": "1ca05f1e",
   "metadata": {
    "ExecuteTime": {
     "end_time": "2021-11-05T10:39:35.309924Z",
     "start_time": "2021-11-05T10:39:35.306351Z"
    }
   },
   "outputs": [],
   "source": [
    "def process_scores(df):\n",
    "    df['q1_score'] = df['label_q1'].apply(process_q1)\n",
    "    df['q2_score'] = df['q2_label'].apply(process_q2)\n",
    "    df['q3_score'] = df['label_q3'].apply(process_q3)\n",
    "    df['q4_score'] = df['label_q4'].apply(process_q4)\n",
    "    return df"
   ]
  },
  {
   "cell_type": "code",
   "execution_count": 5,
   "id": "07004170",
   "metadata": {
    "ExecuteTime": {
     "end_time": "2021-11-05T10:39:36.465256Z",
     "start_time": "2021-11-05T10:39:36.447279Z"
    }
   },
   "outputs": [],
   "source": [
    "some = process_scores(some)\n",
    "some_questions = process_scores(some_questions)\n",
    "questions = process_scores(questions)\n",
    "rankings = process_scores(rankings)"
   ]
  },
  {
   "cell_type": "code",
   "execution_count": 6,
   "id": "f925e5dc",
   "metadata": {
    "ExecuteTime": {
     "end_time": "2021-11-05T10:40:40.470990Z",
     "start_time": "2021-11-05T10:40:40.449820Z"
    }
   },
   "outputs": [],
   "source": [
    "with open('../../data/post_test/some_scored.pkl', 'wb') as fp:\n",
    "    pickle.dump(some, fp)\n",
    "    \n",
    "with open('../../data/post_test/some_questions_scored.pkl', 'wb') as fp:\n",
    "    pickle.dump(some_questions, fp)\n",
    "    \n",
    "with open('../../data/post_test/questions_scored.pkl', 'wb') as fp:\n",
    "    pickle.dump(questions, fp)\n",
    "    \n",
    "with open('../../data/post_test/rankings_scored.pkl', 'wb') as fp:\n",
    "    pickle.dump(rankings, fp)"
   ]
  },
  {
   "cell_type": "code",
   "execution_count": null,
   "id": "deaa72eb",
   "metadata": {},
   "outputs": [],
   "source": []
  },
  {
   "cell_type": "code",
   "execution_count": null,
   "id": "2004beae",
   "metadata": {},
   "outputs": [],
   "source": []
  },
  {
   "cell_type": "code",
   "execution_count": null,
   "id": "d1c733a8",
   "metadata": {},
   "outputs": [],
   "source": []
  },
  {
   "cell_type": "code",
   "execution_count": null,
   "id": "42de51d2",
   "metadata": {},
   "outputs": [],
   "source": []
  },
  {
   "cell_type": "code",
   "execution_count": null,
   "id": "f36118bf",
   "metadata": {},
   "outputs": [],
   "source": []
  },
  {
   "cell_type": "code",
   "execution_count": null,
   "id": "b58ba17a",
   "metadata": {},
   "outputs": [],
   "source": []
  },
  {
   "cell_type": "code",
   "execution_count": null,
   "id": "f4ba9502",
   "metadata": {},
   "outputs": [],
   "source": []
  },
  {
   "cell_type": "code",
   "execution_count": null,
   "id": "3606d0a0",
   "metadata": {},
   "outputs": [],
   "source": []
  },
  {
   "cell_type": "code",
   "execution_count": null,
   "id": "a5704694",
   "metadata": {},
   "outputs": [],
   "source": []
  },
  {
   "cell_type": "code",
   "execution_count": null,
   "id": "a72ec099",
   "metadata": {},
   "outputs": [],
   "source": []
  },
  {
   "cell_type": "code",
   "execution_count": null,
   "id": "c0462f10",
   "metadata": {},
   "outputs": [],
   "source": []
  },
  {
   "cell_type": "code",
   "execution_count": null,
   "id": "f2306ad0",
   "metadata": {},
   "outputs": [],
   "source": []
  },
  {
   "cell_type": "code",
   "execution_count": null,
   "id": "c426496d",
   "metadata": {},
   "outputs": [],
   "source": []
  }
 ],
 "metadata": {
  "kernelspec": {
   "display_name": "Python 3 (ipykernel)",
   "language": "python",
   "name": "python3"
  },
  "language_info": {
   "codemirror_mode": {
    "name": "ipython",
    "version": 3
   },
   "file_extension": ".py",
   "mimetype": "text/x-python",
   "name": "python",
   "nbconvert_exporter": "python",
   "pygments_lexer": "ipython3",
   "version": "3.8.12"
  },
  "toc": {
   "base_numbering": 1,
   "nav_menu": {},
   "number_sections": true,
   "sideBar": true,
   "skip_h1_title": false,
   "title_cell": "Table of Contents",
   "title_sidebar": "Contents",
   "toc_cell": false,
   "toc_position": {},
   "toc_section_display": true,
   "toc_window_display": false
  }
 },
 "nbformat": 4,
 "nbformat_minor": 5
}
