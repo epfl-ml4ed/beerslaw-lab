{
 "cells": [
  {
   "cell_type": "code",
   "execution_count": 1,
   "id": "5ad6ce9d",
   "metadata": {
    "ExecuteTime": {
     "end_time": "2021-11-05T18:06:43.201196Z",
     "start_time": "2021-11-05T18:06:42.047249Z"
    }
   },
   "outputs": [],
   "source": [
    "import os\n",
    "import yaml\n",
    "import pickle\n",
    "\n",
    "import numpy as np\n",
    "import pandas as pd\n",
    "pd.set_option('display.max_columns', None)\n",
    "\n",
    "from matplotlib import pyplot as plt\n",
    "import seaborn as sns"
   ]
  },
  {
   "cell_type": "markdown",
   "id": "1cec22cf",
   "metadata": {},
   "source": [
    "# Data"
   ]
  },
  {
   "cell_type": "code",
   "execution_count": 2,
   "id": "6d0a5196",
   "metadata": {
    "ExecuteTime": {
     "end_time": "2021-11-05T18:07:27.284085Z",
     "start_time": "2021-11-05T18:07:27.274587Z"
    }
   },
   "outputs": [],
   "source": [
    "with open('../../data/post_test/rankings_annotated.pkl', 'rb') as fp:\n",
    "    rankings = pickle.load(fp)"
   ]
  },
  {
   "cell_type": "code",
   "execution_count": 3,
   "id": "49adf8b1",
   "metadata": {
    "ExecuteTime": {
     "end_time": "2021-11-05T18:07:43.047660Z",
     "start_time": "2021-11-05T18:07:43.039840Z"
    }
   },
   "outputs": [
    {
     "data": {
      "text/plain": [
       "Index(['username', 'start_time', 'exploration_time', 'ranking_task_time',\n",
       "       'ranking', 'ranking_confidence', 'ranking_time', 'q1', 'q1_conf',\n",
       "       'q1_time', 'q2', 'q2_conf', 'q2_time', 'q3', 'q3_conf', 'q3_time', 'q4',\n",
       "       'q4_conf', 'q4_time', 'q5_colour0', 'q5_colour1', 'q5_colour2',\n",
       "       'q5_colour3', 'q5_time', 'q6_colour0', 'q6_colour1', 'q6_colour2',\n",
       "       'q6_colour3', 'q6_time', 'q7_colour0', 'q7_colour1', 'q7_colour2',\n",
       "       'q7_colour3', 'q7_time', 'q8_colour0', 'q8_colour1', 'q8_colour2',\n",
       "       'q8_colour3', 'q8_time', 'formula', 'fomula_conf', 'formula_time',\n",
       "       'notes_text', 'notes_math', 'notes_table', 'notes_diag', 'notes_time',\n",
       "       'beerslaw', 'beerslaw_conf', 'beerslaw_time', 'problem_ranking',\n",
       "       'problem_conf', 'problem_time', 'feedback_entertain',\n",
       "       'feedback_difficult', 'feedback_good', 'feedback_bad', 'feedback',\n",
       "       'feedback_time', 'experiment_time', 'status', 'session', 'version',\n",
       "       'numerical_status', 'language', 'field', 'level', 'year', 'consent',\n",
       "       'gender', 'label_q1', 'flag_q1_label', 'q2_label', 'flag_q2_label',\n",
       "       'label_q3', 'flag_label_q3', 'label_q4', 'flag_label_q4'],\n",
       "      dtype='object')"
      ]
     },
     "execution_count": 3,
     "metadata": {},
     "output_type": "execute_result"
    }
   ],
   "source": [
    "rankings.columns"
   ]
  },
  {
   "cell_type": "code",
   "execution_count": 10,
   "id": "754655d2",
   "metadata": {
    "ExecuteTime": {
     "end_time": "2021-11-05T18:11:30.422670Z",
     "start_time": "2021-11-05T18:11:30.272517Z"
    }
   },
   "outputs": [
    {
     "data": {
      "image/png": "[encoded data removed]",
      "text/plain": [
       "<Figure size 864x288 with 1 Axes>"
      ]
     },
     "metadata": {
      "needs_background": "light"
     },
     "output_type": "display_data"
    }
   ],
   "source": [
    "plt.figure(figsize=(12, 4))\n",
    "sns.countplot(x=rankings['label_q1'], palette='viridis')\n",
    "plt.title('Labels for Question 1 [width]')\n",
    "plt.show()\n",
    "\n",
    "plt.figure(figsize=(12, 4))\n",
    "sns.countplot(x=rankings['label_q2'], palette='viridis')\n",
    "plt.title('Labels for Question 2 [concentration]')\n",
    "plt.show()\n",
    "\n",
    "plt.figure(figsize=(12, 4))\n",
    "sns.countplot(x=rankings['label_q3'], palette='viridis')\n",
    "plt.title('Labels for Question 3 [width & concentration]')\n",
    "plt.show()\n",
    "\n",
    "plt.figure(figsize=(12, 4))\n",
    "sns.countplot(x=rankings['label_q4'], palette='viridis')\n",
    "plt.title('Labels for Question 4 [width & concentration]')\n",
    "plt.show()"
   ]
  },
  {
   "cell_type": "code",
   "execution_count": null,
   "id": "63c093a5",
   "metadata": {},
   "outputs": [],
   "source": []
  },
  {
   "cell_type": "code",
   "execution_count": null,
   "id": "6a4cd20c",
   "metadata": {},
   "outputs": [],
   "source": []
  },
  {
   "cell_type": "code",
   "execution_count": null,
   "id": "70452659",
   "metadata": {},
   "outputs": [],
   "source": []
  },
  {
   "cell_type": "code",
   "execution_count": null,
   "id": "a37b170b",
   "metadata": {},
   "outputs": [],
   "source": []
  },
  {
   "cell_type": "code",
   "execution_count": null,
   "id": "3df852ba",
   "metadata": {},
   "outputs": [],
   "source": []
  },
  {
   "cell_type": "code",
   "execution_count": null,
   "id": "9674cc95",
   "metadata": {},
   "outputs": [],
   "source": []
  },
  {
   "cell_type": "code",
   "execution_count": null,
   "id": "ee9254a9",
   "metadata": {},
   "outputs": [],
   "source": []
  },
  {
   "cell_type": "code",
   "execution_count": null,
   "id": "6cfb5c4a",
   "metadata": {},
   "outputs": [],
   "source": []
  },
  {
   "cell_type": "code",
   "execution_count": null,
   "id": "14589614",
   "metadata": {},
   "outputs": [],
   "source": []
  },
  {
   "cell_type": "code",
   "execution_count": null,
   "id": "85b704d7",
   "metadata": {},
   "outputs": [],
   "source": []
  },
  {
   "cell_type": "code",
   "execution_count": null,
   "id": "dc4e903a",
   "metadata": {},
   "outputs": [],
   "source": []
  },
  {
   "cell_type": "code",
   "execution_count": null,
   "id": "8dad86c4",
   "metadata": {},
   "outputs": [],
   "source": []
  },
  {
   "cell_type": "code",
   "execution_count": null,
   "id": "dc9043cd",
   "metadata": {},
   "outputs": [],
   "source": []
  },
  {
   "cell_type": "code",
   "execution_count": null,
   "id": "f4351502",
   "metadata": {},
   "outputs": [],
   "source": []
  },
  {
   "cell_type": "code",
   "execution_count": null,
   "id": "b4ee5512",
   "metadata": {},
   "outputs": [],
   "source": []
  },
  {
   "cell_type": "code",
   "execution_count": null,
   "id": "7de3cffc",
   "metadata": {},
   "outputs": [],
   "source": []
  },
  {
   "cell_type": "code",
   "execution_count": null,
   "id": "2159b8f6",
   "metadata": {},
   "outputs": [],
   "source": []
  },
  {
   "cell_type": "code",
   "execution_count": null,
   "id": "d896e4ae",
   "metadata": {},
   "outputs": [],
   "source": []
  },
  {
   "cell_type": "code",
   "execution_count": null,
   "id": "dd2c81f7",
   "metadata": {},
   "outputs": [],
   "source": []
  },
  {
   "cell_type": "code",
   "execution_count": null,
   "id": "afce283c",
   "metadata": {},
   "outputs": [],
   "source": []
  }
 ],
 "metadata": {
  "kernelspec": {
   "display_name": "Python 3 (ipykernel)",
   "language": "python",
   "name": "python3"
  },
  "language_info": {
   "codemirror_mode": {
    "name": "ipython",
    "version": 3
   },
   "file_extension": ".py",
   "mimetype": "text/x-python",
   "name": "python",
   "nbconvert_exporter": "python",
   "pygments_lexer": "ipython3",
   "version": "3.7.11"
  },
  "toc": {
   "base_numbering": 1,
   "nav_menu": {},
   "number_sections": true,
   "sideBar": true,
   "skip_h1_title": false,
   "title_cell": "Table of Contents",
   "title_sidebar": "Contents",
   "toc_cell": false,
   "toc_position": {},
   "toc_section_display": true,
   "toc_window_display": true
  }
 },
 "nbformat": 4,
 "nbformat_minor": 5
}
