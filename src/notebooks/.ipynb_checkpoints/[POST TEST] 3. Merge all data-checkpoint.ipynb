{
 "cells": [
  {
   "cell_type": "markdown",
   "id": "65bc5ee4",
   "metadata": {},
   "source": [
    "This notebook is used to bring the data about the sessions, schools, field, demographics, ... together!"
   ]
  },
  {
   "cell_type": "code",
   "execution_count": 13,
   "id": "5a36b819",
   "metadata": {
    "ExecuteTime": {
     "end_time": "2021-10-20T14:49:00.109250Z",
     "start_time": "2021-10-20T14:49:00.106262Z"
    }
   },
   "outputs": [],
   "source": [
    "import os\n",
    "import re\n",
    "import pickle\n",
    "\n",
    "import numpy as np\n",
    "import pandas as pd\n",
    "pd.set_option('display.max_columns', None)"
   ]
  },
  {
   "cell_type": "markdown",
   "id": "34b8c2b1",
   "metadata": {},
   "source": [
    "# Data"
   ]
  },
  {
   "cell_type": "code",
   "execution_count": 8,
   "id": "7fce90db",
   "metadata": {
    "ExecuteTime": {
     "end_time": "2021-10-20T14:07:38.215569Z",
     "start_time": "2021-10-20T14:07:38.207721Z"
    }
   },
   "outputs": [],
   "source": [
    "schedule = pd.read_csv('../../data/post_test/schedule.csv')\n",
    "schedule['session_nr'] = schedule['Session'].apply(lambda x: re.findall(r'\\d+', x)[0])\n",
    "schedule_columns = [\n",
    "    'Language', 'Field of Study', 'Study Level', 'Year', 'session_nr'\n",
    "]"
   ]
  },
  {
   "cell_type": "code",
   "execution_count": 11,
   "id": "af4ef5e8",
   "metadata": {
    "ExecuteTime": {
     "end_time": "2021-10-20T14:08:10.140929Z",
     "start_time": "2021-10-20T14:08:10.134612Z"
    }
   },
   "outputs": [],
   "source": [
    "users = pd.read_csv('../../data/post_test/users.csv')\n",
    "users_columns = [\n",
    "    'username', 'consent', 'gender'\n",
    "]"
   ]
  },
  {
   "cell_type": "code",
   "execution_count": 12,
   "id": "46935d25",
   "metadata": {
    "ExecuteTime": {
     "end_time": "2021-10-20T14:08:16.301600Z",
     "start_time": "2021-10-20T14:08:16.292344Z"
    }
   },
   "outputs": [
    {
     "data": {
      "text/html": [
       "<div>\n",
       "<style scoped>\n",
       "    .dataframe tbody tr th:only-of-type {\n",
       "        vertical-align: middle;\n",
       "    }\n",
       "\n",
       "    .dataframe tbody tr th {\n",
       "        vertical-align: top;\n",
       "    }\n",
       "\n",
       "    .dataframe thead th {\n",
       "        text-align: right;\n",
       "    }\n",
       "</style>\n",
       "<table border=\"1\" class=\"dataframe\">\n",
       "  <thead>\n",
       "    <tr style=\"text-align: right;\">\n",
       "      <th></th>\n",
       "      <th>id</th>\n",
       "      <th>username</th>\n",
       "      <th>test</th>\n",
       "      <th>consent</th>\n",
       "      <th>gender</th>\n",
       "      <th>progress</th>\n",
       "      <th>attempt</th>\n",
       "      <th>created_at</th>\n",
       "    </tr>\n",
       "  </thead>\n",
       "  <tbody>\n",
       "    <tr>\n",
       "      <th>0</th>\n",
       "      <td>8</td>\n",
       "      <td>x5rn3hat</td>\n",
       "      <td>0</td>\n",
       "      <td>1</td>\n",
       "      <td>1</td>\n",
       "      <td>13</td>\n",
       "      <td>0</td>\n",
       "      <td>2021-04-25 10:27:05</td>\n",
       "    </tr>\n",
       "    <tr>\n",
       "      <th>1</th>\n",
       "      <td>9</td>\n",
       "      <td>efggvryy</td>\n",
       "      <td>0</td>\n",
       "      <td>1</td>\n",
       "      <td>1</td>\n",
       "      <td>13</td>\n",
       "      <td>0</td>\n",
       "      <td>2021-04-25 12:39:11</td>\n",
       "    </tr>\n",
       "    <tr>\n",
       "      <th>2</th>\n",
       "      <td>10</td>\n",
       "      <td>eg6qv9yh</td>\n",
       "      <td>0</td>\n",
       "      <td>0</td>\n",
       "      <td>0</td>\n",
       "      <td>13</td>\n",
       "      <td>0</td>\n",
       "      <td>2021-04-25 13:01:38</td>\n",
       "    </tr>\n",
       "    <tr>\n",
       "      <th>3</th>\n",
       "      <td>11</td>\n",
       "      <td>2v33tuud</td>\n",
       "      <td>0</td>\n",
       "      <td>0</td>\n",
       "      <td>0</td>\n",
       "      <td>1</td>\n",
       "      <td>0</td>\n",
       "      <td>2021-04-25 13:07:00</td>\n",
       "    </tr>\n",
       "    <tr>\n",
       "      <th>4</th>\n",
       "      <td>12</td>\n",
       "      <td>xgctaqxr</td>\n",
       "      <td>0</td>\n",
       "      <td>1</td>\n",
       "      <td>1</td>\n",
       "      <td>3</td>\n",
       "      <td>0</td>\n",
       "      <td>2021-04-25 15:14:13</td>\n",
       "    </tr>\n",
       "  </tbody>\n",
       "</table>\n",
       "</div>"
      ],
      "text/plain": [
       "   id  username  test  consent  gender  progress  attempt           created_at\n",
       "0   8  x5rn3hat     0        1       1        13        0  2021-04-25 10:27:05\n",
       "1   9  efggvryy     0        1       1        13        0  2021-04-25 12:39:11\n",
       "2  10  eg6qv9yh     0        0       0        13        0  2021-04-25 13:01:38\n",
       "3  11  2v33tuud     0        0       0         1        0  2021-04-25 13:07:00\n",
       "4  12  xgctaqxr     0        1       1         3        0  2021-04-25 15:14:13"
      ]
     },
     "execution_count": 12,
     "metadata": {},
     "output_type": "execute_result"
    }
   ],
   "source": [
    "users.head()"
   ]
  },
  {
   "cell_type": "code",
   "execution_count": 14,
   "id": "703f96bf",
   "metadata": {
    "ExecuteTime": {
     "end_time": "2021-10-20T14:49:04.292842Z",
     "start_time": "2021-10-20T14:49:04.273318Z"
    }
   },
   "outputs": [
    {
     "data": {
      "text/html": [
       "<div>\n",
       "<style scoped>\n",
       "    .dataframe tbody tr th:only-of-type {\n",
       "        vertical-align: middle;\n",
       "    }\n",
       "\n",
       "    .dataframe tbody tr th {\n",
       "        vertical-align: top;\n",
       "    }\n",
       "\n",
       "    .dataframe thead th {\n",
       "        text-align: right;\n",
       "    }\n",
       "</style>\n",
       "<table border=\"1\" class=\"dataframe\">\n",
       "  <thead>\n",
       "    <tr style=\"text-align: right;\">\n",
       "      <th></th>\n",
       "      <th>Generated</th>\n",
       "      <th>Inserted</th>\n",
       "      <th>Backup</th>\n",
       "      <th>Status</th>\n",
       "      <th>Session</th>\n",
       "      <th>Day</th>\n",
       "      <th>Teacher</th>\n",
       "      <th>School</th>\n",
       "      <th>Language</th>\n",
       "      <th>Field of Study</th>\n",
       "      <th>Study Level</th>\n",
       "      <th>Year</th>\n",
       "      <th>Planned Student Count</th>\n",
       "      <th>Participants</th>\n",
       "      <th>Deleted Students</th>\n",
       "      <th>Actual Student Count</th>\n",
       "      <th>Sim Version</th>\n",
       "      <th>Notes</th>\n",
       "      <th>Zoom Link</th>\n",
       "      <th>Comments</th>\n",
       "      <th>session_nr</th>\n",
       "    </tr>\n",
       "  </thead>\n",
       "  <tbody>\n",
       "    <tr>\n",
       "      <th>0</th>\n",
       "      <td>Yes</td>\n",
       "      <td>Yes</td>\n",
       "      <td>Yes</td>\n",
       "      <td>✅ Done</td>\n",
       "      <td>Session 1</td>\n",
       "      <td>April 26, 2021 8:50</td>\n",
       "      <td>Marc Witschi</td>\n",
       "      <td>GIBB Bern</td>\n",
       "      <td>Deutsch</td>\n",
       "      <td>Chemistry</td>\n",
       "      <td>Apprenticeship (Low)</td>\n",
       "      <td>3rd</td>\n",
       "      <td>8</td>\n",
       "      <td>9.0</td>\n",
       "      <td>0.0</td>\n",
       "      <td>9</td>\n",
       "      <td>1</td>\n",
       "      <td>Beta version,No answers for Task 3</td>\n",
       "      <td>https://epfl.zoom.us/j/88232641402?pwd=MXhoVDV...</td>\n",
       "      <td>NaN</td>\n",
       "      <td>1</td>\n",
       "    </tr>\n",
       "    <tr>\n",
       "      <th>1</th>\n",
       "      <td>Yes</td>\n",
       "      <td>Yes</td>\n",
       "      <td>Yes</td>\n",
       "      <td>✅ Done</td>\n",
       "      <td>Session 2</td>\n",
       "      <td>April 26, 2021 12:50</td>\n",
       "      <td>Marc Witschi</td>\n",
       "      <td>GIBB Bern</td>\n",
       "      <td>Deutsch</td>\n",
       "      <td>Chemistry</td>\n",
       "      <td>Apprenticeship (Low)</td>\n",
       "      <td>3rd</td>\n",
       "      <td>10</td>\n",
       "      <td>12.0</td>\n",
       "      <td>0.0</td>\n",
       "      <td>12</td>\n",
       "      <td>1</td>\n",
       "      <td>Beta version,Answers for Task 3 on paper</td>\n",
       "      <td>https://epfl.zoom.us/j/84968598934?pwd=MDRFak5...</td>\n",
       "      <td>NaN</td>\n",
       "      <td>2</td>\n",
       "    </tr>\n",
       "    <tr>\n",
       "      <th>2</th>\n",
       "      <td>Yes</td>\n",
       "      <td>Yes</td>\n",
       "      <td>Yes</td>\n",
       "      <td>✅ Done</td>\n",
       "      <td>Session 3</td>\n",
       "      <td>May 4, 2021 13:10</td>\n",
       "      <td>Jasmin Fässler</td>\n",
       "      <td>GBS St. Gallen</td>\n",
       "      <td>Deutsch</td>\n",
       "      <td>Chemistry, Textiles</td>\n",
       "      <td>Apprenticeship (Low)</td>\n",
       "      <td>2nd</td>\n",
       "      <td>15</td>\n",
       "      <td>21.0</td>\n",
       "      <td>0.0</td>\n",
       "      <td>21</td>\n",
       "      <td>2</td>\n",
       "      <td>Students were talking with each other,Problem ...</td>\n",
       "      <td>https://epfl.zoom.us/j/81035415088?pwd=ZFhINFU...</td>\n",
       "      <td>NaN</td>\n",
       "      <td>3</td>\n",
       "    </tr>\n",
       "    <tr>\n",
       "      <th>3</th>\n",
       "      <td>Yes</td>\n",
       "      <td>Yes</td>\n",
       "      <td>Yes</td>\n",
       "      <td>✅ Done</td>\n",
       "      <td>Session 4</td>\n",
       "      <td>May 4, 2021 14:40</td>\n",
       "      <td>Jasmin Fässler</td>\n",
       "      <td>GBS St. Gallen</td>\n",
       "      <td>Deutsch</td>\n",
       "      <td>Chemistry, Textiles</td>\n",
       "      <td>Apprenticeship (Low)</td>\n",
       "      <td>2nd</td>\n",
       "      <td>12</td>\n",
       "      <td>11.0</td>\n",
       "      <td>0.0</td>\n",
       "      <td>11</td>\n",
       "      <td>2</td>\n",
       "      <td>Problem with codes</td>\n",
       "      <td>https://epfl.zoom.us/j/89500727090?pwd=ODNMQVh...</td>\n",
       "      <td>NaN</td>\n",
       "      <td>4</td>\n",
       "    </tr>\n",
       "    <tr>\n",
       "      <th>4</th>\n",
       "      <td>Yes</td>\n",
       "      <td>Yes</td>\n",
       "      <td>Yes</td>\n",
       "      <td>✅ Done</td>\n",
       "      <td>Session 5</td>\n",
       "      <td>May 6, 2021 10:20</td>\n",
       "      <td>Jasmin Fässler</td>\n",
       "      <td>GBS St. Gallen</td>\n",
       "      <td>Deutsch</td>\n",
       "      <td>Chemistry, Textiles</td>\n",
       "      <td>Apprenticeship (Low)</td>\n",
       "      <td>1st</td>\n",
       "      <td>11</td>\n",
       "      <td>11.0</td>\n",
       "      <td>1.0</td>\n",
       "      <td>10</td>\n",
       "      <td>2</td>\n",
       "      <td>NaN</td>\n",
       "      <td>https://epfl.zoom.us/j/81336235403?pwd=NmlDejF...</td>\n",
       "      <td>NaN</td>\n",
       "      <td>5</td>\n",
       "    </tr>\n",
       "  </tbody>\n",
       "</table>\n",
       "</div>"
      ],
      "text/plain": [
       "  Generated Inserted Backup  Status    Session                   Day  \\\n",
       "0       Yes      Yes    Yes  ✅ Done  Session 1   April 26, 2021 8:50   \n",
       "1       Yes      Yes    Yes  ✅ Done  Session 2  April 26, 2021 12:50   \n",
       "2       Yes      Yes    Yes  ✅ Done  Session 3     May 4, 2021 13:10   \n",
       "3       Yes      Yes    Yes  ✅ Done  Session 4     May 4, 2021 14:40   \n",
       "4       Yes      Yes    Yes  ✅ Done  Session 5     May 6, 2021 10:20   \n",
       "\n",
       "          Teacher          School Language       Field of Study  \\\n",
       "0    Marc Witschi       GIBB Bern  Deutsch            Chemistry   \n",
       "1    Marc Witschi       GIBB Bern  Deutsch            Chemistry   \n",
       "2  Jasmin Fässler  GBS St. Gallen  Deutsch  Chemistry, Textiles   \n",
       "3  Jasmin Fässler  GBS St. Gallen  Deutsch  Chemistry, Textiles   \n",
       "4  Jasmin Fässler  GBS St. Gallen  Deutsch  Chemistry, Textiles   \n",
       "\n",
       "            Study Level Year  Planned Student Count  Participants  \\\n",
       "0  Apprenticeship (Low)  3rd                      8           9.0   \n",
       "1  Apprenticeship (Low)  3rd                     10          12.0   \n",
       "2  Apprenticeship (Low)  2nd                     15          21.0   \n",
       "3  Apprenticeship (Low)  2nd                     12          11.0   \n",
       "4  Apprenticeship (Low)  1st                     11          11.0   \n",
       "\n",
       "   Deleted Students  Actual Student Count  Sim Version  \\\n",
       "0               0.0                     9            1   \n",
       "1               0.0                    12            1   \n",
       "2               0.0                    21            2   \n",
       "3               0.0                    11            2   \n",
       "4               1.0                    10            2   \n",
       "\n",
       "                                               Notes  \\\n",
       "0                 Beta version,No answers for Task 3   \n",
       "1           Beta version,Answers for Task 3 on paper   \n",
       "2  Students were talking with each other,Problem ...   \n",
       "3                                 Problem with codes   \n",
       "4                                                NaN   \n",
       "\n",
       "                                           Zoom Link Comments session_nr  \n",
       "0  https://epfl.zoom.us/j/88232641402?pwd=MXhoVDV...      NaN          1  \n",
       "1  https://epfl.zoom.us/j/84968598934?pwd=MDRFak5...      NaN          2  \n",
       "2  https://epfl.zoom.us/j/81035415088?pwd=ZFhINFU...      NaN          3  \n",
       "3  https://epfl.zoom.us/j/89500727090?pwd=ODNMQVh...      NaN          4  \n",
       "4  https://epfl.zoom.us/j/81336235403?pwd=NmlDejF...      NaN          5  "
      ]
     },
     "execution_count": 14,
     "metadata": {},
     "output_type": "execute_result"
    }
   ],
   "source": [
    "schedule.head()"
   ]
  },
  {
   "cell_type": "code",
   "execution_count": 7,
   "id": "ce385acc",
   "metadata": {
    "ExecuteTime": {
     "end_time": "2021-10-20T14:07:11.536024Z",
     "start_time": "2021-10-20T14:07:11.531417Z"
    }
   },
   "outputs": [
    {
     "data": {
      "text/plain": [
       "['42', '32', '30']"
      ]
     },
     "execution_count": 7,
     "metadata": {},
     "output_type": "execute_result"
    }
   ],
   "source": [
    "re.findall(r'\\d+', 'hello 42 I\\'m a 32 string 30')"
   ]
  },
  {
   "cell_type": "code",
   "execution_count": null,
   "id": "6c1f488e",
   "metadata": {},
   "outputs": [],
   "source": []
  },
  {
   "cell_type": "code",
   "execution_count": null,
   "id": "975b155f",
   "metadata": {},
   "outputs": [],
   "source": []
  },
  {
   "cell_type": "code",
   "execution_count": null,
   "id": "a20ff6d3",
   "metadata": {},
   "outputs": [],
   "source": []
  },
  {
   "cell_type": "code",
   "execution_count": null,
   "id": "688364d8",
   "metadata": {},
   "outputs": [],
   "source": []
  },
  {
   "cell_type": "code",
   "execution_count": null,
   "id": "bdcb9d77",
   "metadata": {},
   "outputs": [],
   "source": []
  },
  {
   "cell_type": "code",
   "execution_count": null,
   "id": "6ad8db7f",
   "metadata": {},
   "outputs": [],
   "source": []
  },
  {
   "cell_type": "code",
   "execution_count": null,
   "id": "338373e6",
   "metadata": {},
   "outputs": [],
   "source": []
  },
  {
   "cell_type": "code",
   "execution_count": null,
   "id": "7889fa23",
   "metadata": {},
   "outputs": [],
   "source": []
  },
  {
   "cell_type": "code",
   "execution_count": null,
   "id": "2f5ac965",
   "metadata": {},
   "outputs": [],
   "source": []
  },
  {
   "cell_type": "code",
   "execution_count": null,
   "id": "6b11e9ba",
   "metadata": {},
   "outputs": [],
   "source": []
  },
  {
   "cell_type": "code",
   "execution_count": null,
   "id": "f8bb9c16",
   "metadata": {},
   "outputs": [],
   "source": []
  },
  {
   "cell_type": "code",
   "execution_count": null,
   "id": "5032500b",
   "metadata": {},
   "outputs": [],
   "source": []
  },
  {
   "cell_type": "code",
   "execution_count": null,
   "id": "f3cbd5d1",
   "metadata": {},
   "outputs": [],
   "source": []
  },
  {
   "cell_type": "code",
   "execution_count": null,
   "id": "d04209a3",
   "metadata": {},
   "outputs": [],
   "source": []
  },
  {
   "cell_type": "code",
   "execution_count": null,
   "id": "5c42b63a",
   "metadata": {},
   "outputs": [],
   "source": []
  },
  {
   "cell_type": "code",
   "execution_count": null,
   "id": "1094c54b",
   "metadata": {},
   "outputs": [],
   "source": []
  },
  {
   "cell_type": "code",
   "execution_count": null,
   "id": "0e890a25",
   "metadata": {},
   "outputs": [],
   "source": []
  },
  {
   "cell_type": "code",
   "execution_count": null,
   "id": "aa160beb",
   "metadata": {},
   "outputs": [],
   "source": []
  },
  {
   "cell_type": "code",
   "execution_count": null,
   "id": "a1d03ba1",
   "metadata": {},
   "outputs": [],
   "source": []
  },
  {
   "cell_type": "code",
   "execution_count": null,
   "id": "28d58441",
   "metadata": {},
   "outputs": [],
   "source": []
  },
  {
   "cell_type": "code",
   "execution_count": null,
   "id": "c3e5de5a",
   "metadata": {},
   "outputs": [],
   "source": []
  },
  {
   "cell_type": "code",
   "execution_count": null,
   "id": "33c4b2d2",
   "metadata": {},
   "outputs": [],
   "source": []
  },
  {
   "cell_type": "code",
   "execution_count": null,
   "id": "3565eeb4",
   "metadata": {},
   "outputs": [],
   "source": []
  },
  {
   "cell_type": "code",
   "execution_count": null,
   "id": "fac02592",
   "metadata": {},
   "outputs": [],
   "source": []
  },
  {
   "cell_type": "code",
   "execution_count": null,
   "id": "e3f3a4c5",
   "metadata": {},
   "outputs": [],
   "source": []
  },
  {
   "cell_type": "code",
   "execution_count": null,
   "id": "1916236d",
   "metadata": {},
   "outputs": [],
   "source": []
  },
  {
   "cell_type": "code",
   "execution_count": null,
   "id": "8afe73b8",
   "metadata": {},
   "outputs": [],
   "source": []
  },
  {
   "cell_type": "code",
   "execution_count": null,
   "id": "d782236d",
   "metadata": {},
   "outputs": [],
   "source": []
  },
  {
   "cell_type": "code",
   "execution_count": null,
   "id": "806004e2",
   "metadata": {},
   "outputs": [],
   "source": []
  }
 ],
 "metadata": {
  "kernelspec": {
   "display_name": "Python 3 (ipykernel)",
   "language": "python",
   "name": "python3"
  },
  "language_info": {
   "codemirror_mode": {
    "name": "ipython",
    "version": 3
   },
   "file_extension": ".py",
   "mimetype": "text/x-python",
   "name": "python",
   "nbconvert_exporter": "python",
   "pygments_lexer": "ipython3",
   "version": "3.7.11"
  },
  "toc": {
   "base_numbering": 1,
   "nav_menu": {},
   "number_sections": true,
   "sideBar": true,
   "skip_h1_title": false,
   "title_cell": "Table of Contents",
   "title_sidebar": "Contents",
   "toc_cell": false,
   "toc_position": {},
   "toc_section_display": true,
   "toc_window_display": false
  }
 },
 "nbformat": 4,
 "nbformat_minor": 5
}
