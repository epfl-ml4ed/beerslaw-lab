{
 "cells": [
  {
   "cell_type": "code",
   "execution_count": 1,
   "id": "6420d4f4",
   "metadata": {
    "ExecuteTime": {
     "end_time": "2021-11-12T13:37:05.046239Z",
     "start_time": "2021-11-12T13:37:03.565485Z"
    }
   },
   "outputs": [],
   "source": [
    "import os\n",
    "import pickle\n",
    "import numpy as np\n",
    "import pandas as pd\n",
    "import seaborn as sns\n",
    "from matplotlib import pyplot as plt"
   ]
  },
  {
   "cell_type": "code",
   "execution_count": 2,
   "id": "fb6407ed",
   "metadata": {
    "ExecuteTime": {
     "end_time": "2021-11-12T13:37:05.053459Z",
     "start_time": "2021-11-12T13:37:05.048877Z"
    }
   },
   "outputs": [
    {
     "name": "stdout",
     "output_type": "stream",
     "text": [
      "/Users/cock/kDrive/PhD/Projects/Labs/beerslaw-lab/src\n"
     ]
    }
   ],
   "source": [
    "cd .."
   ]
  },
  {
   "cell_type": "code",
   "execution_count": 3,
   "id": "4b2458b8",
   "metadata": {
    "ExecuteTime": {
     "end_time": "2021-11-12T13:37:07.158017Z",
     "start_time": "2021-11-12T13:37:06.614272Z"
    }
   },
   "outputs": [],
   "source": [
    "from extractors.sequencer.plotter_sequencer import PlotterSequencing\n",
    "from extractors.cleaners.break_filter import BreakFilter"
   ]
  },
  {
   "cell_type": "markdown",
   "id": "98a3fc48",
   "metadata": {},
   "source": [
    "# Data"
   ]
  },
  {
   "cell_type": "code",
   "execution_count": 4,
   "id": "a6fff068",
   "metadata": {
    "ExecuteTime": {
     "end_time": "2021-11-12T13:37:12.459141Z",
     "start_time": "2021-11-12T13:37:12.451761Z"
    }
   },
   "outputs": [],
   "source": [
    "root = '../data/parsed simulations/'\n",
    "files = os.listdir(root)\n",
    "files = [f for f in files if 'simulation.pkl' in f]"
   ]
  },
  {
   "cell_type": "code",
   "execution_count": 5,
   "id": "7348870a",
   "metadata": {
    "ExecuteTime": {
     "end_time": "2021-11-12T13:37:12.934346Z",
     "start_time": "2021-11-12T13:37:12.926740Z"
    }
   },
   "outputs": [],
   "source": [
    "def process_events(begins, ends, labels):\n",
    "    b = [begins[0]]\n",
    "    e = [ends[0]]\n",
    "    l = [labels[0]]\n",
    "    \n",
    "    for i, be, in enumerate(begins[1:]):\n",
    "        if labels[i] == l[-1] and labels[i] != 'other':\n",
    "            e[-1] = ends[i]\n",
    "        else:\n",
    "            l.append(labels[i])\n",
    "            b.append(be)\n",
    "            e.append(ends[i])\n",
    "    return begins, ends, labels"
   ]
  },
  {
   "cell_type": "code",
   "execution_count": 10,
   "id": "fe03f6f3",
   "metadata": {
    "ExecuteTime": {
     "end_time": "2021-11-12T13:38:34.351628Z",
     "start_time": "2021-11-12T13:38:11.816582Z"
    }
   },
   "outputs": [],
   "source": [
    "events = {}\n",
    "sequencer = PlotterSequencing()\n",
    "for f in files:\n",
    "    path = root + f\n",
    "    with open(path, 'rb') as fp:\n",
    "        sim = pickle.load(fp)\n",
    "        begins, ends, labels = sequencer.get_sequences(sim)\n",
    "        if len(begins) > 10:\n",
    "            begins, ends, labels = process_events(begins, ends, labels)\n",
    "            times = np.array(ends) - np.array(begins)\n",
    "            events[f] = {\n",
    "                'distribution':list(times),\n",
    "                'permutation': sim.get_permutation()\n",
    "            }\n"
   ]
  },
  {
   "cell_type": "markdown",
   "id": "1ee7b599",
   "metadata": {
    "ExecuteTime": {
     "end_time": "2021-11-10T17:52:30.671885Z",
     "start_time": "2021-11-10T17:52:29.837193Z"
    }
   },
   "source": [
    "## plot distribution"
   ]
  },
  {
   "cell_type": "code",
   "execution_count": 36,
   "id": "595b407a",
   "metadata": {
    "ExecuteTime": {
     "end_time": "2021-11-12T13:43:49.432640Z",
     "start_time": "2021-11-12T13:43:49.428989Z"
    }
   },
   "outputs": [],
   "source": [
    "def plot_events(event_distributions: list):\n",
    "    \"\"\"\n",
    "    plot all the event distribution for the people in df\n",
    "    \"\"\"\n",
    "    plt.figure(figsize=(12, 4))\n",
    "    for student in event_distributions:\n",
    "        plt.hist(student, density=True, color='dodgerblue', alpha=0.1, bins=np.arange(0, 5, 0.05))\n",
    "        \n",
    "    plt.show()"
   ]
  },
  {
   "cell_type": "code",
   "execution_count": null,
   "id": "38da5aad",
   "metadata": {
    "ExecuteTime": {
     "start_time": "2021-11-12T13:43:49.571Z"
    }
   },
   "outputs": [],
   "source": [
    "ks = list(events.keys())\n",
    "dist = [events[k]['distribution'] for k in ks]\n",
    "plot_events(dist)"
   ]
  },
  {
   "cell_type": "markdown",
   "id": "110dfca3",
   "metadata": {},
   "source": [
    "## smaller sampling"
   ]
  },
  {
   "cell_type": "code",
   "execution_count": null,
   "id": "f13dc7ac",
   "metadata": {},
   "outputs": [],
   "source": [
    "np.min(dist)"
   ]
  },
  {
   "cell_type": "code",
   "execution_count": null,
   "id": "433c005b",
   "metadata": {},
   "outputs": [],
   "source": []
  },
  {
   "cell_type": "code",
   "execution_count": null,
   "id": "f924af58",
   "metadata": {},
   "outputs": [],
   "source": []
  },
  {
   "cell_type": "code",
   "execution_count": null,
   "id": "a4b6fdcf",
   "metadata": {},
   "outputs": [],
   "source": []
  },
  {
   "cell_type": "code",
   "execution_count": null,
   "id": "b47f01ba",
   "metadata": {},
   "outputs": [],
   "source": []
  },
  {
   "cell_type": "code",
   "execution_count": null,
   "id": "de6f8317",
   "metadata": {},
   "outputs": [],
   "source": []
  },
  {
   "cell_type": "code",
   "execution_count": null,
   "id": "3df3161f",
   "metadata": {},
   "outputs": [],
   "source": []
  },
  {
   "cell_type": "code",
   "execution_count": null,
   "id": "d3c9b669",
   "metadata": {},
   "outputs": [],
   "source": []
  },
  {
   "cell_type": "code",
   "execution_count": null,
   "id": "8883cb98",
   "metadata": {},
   "outputs": [],
   "source": []
  },
  {
   "cell_type": "code",
   "execution_count": null,
   "id": "ab421e70",
   "metadata": {},
   "outputs": [],
   "source": []
  },
  {
   "cell_type": "code",
   "execution_count": null,
   "id": "421df1cb",
   "metadata": {},
   "outputs": [],
   "source": []
  },
  {
   "cell_type": "code",
   "execution_count": null,
   "id": "67835b23",
   "metadata": {},
   "outputs": [],
   "source": []
  },
  {
   "cell_type": "code",
   "execution_count": null,
   "id": "c8de9e7d",
   "metadata": {},
   "outputs": [],
   "source": []
  },
  {
   "cell_type": "code",
   "execution_count": null,
   "id": "18589781",
   "metadata": {},
   "outputs": [],
   "source": []
  }
 ],
 "metadata": {
  "kernelspec": {
   "display_name": "Python 3 (ipykernel)",
   "language": "python",
   "name": "python3"
  },
  "language_info": {
   "codemirror_mode": {
    "name": "ipython",
    "version": 3
   },
   "file_extension": ".py",
   "mimetype": "text/x-python",
   "name": "python",
   "nbconvert_exporter": "python",
   "pygments_lexer": "ipython3",
   "version": "3.8.12"
  },
  "toc": {
   "base_numbering": 1,
   "nav_menu": {},
   "number_sections": true,
   "sideBar": true,
   "skip_h1_title": false,
   "title_cell": "Table of Contents",
   "title_sidebar": "Contents",
   "toc_cell": false,
   "toc_position": {},
   "toc_section_display": true,
   "toc_window_display": false
  }
 },
 "nbformat": 4,
 "nbformat_minor": 5
}
