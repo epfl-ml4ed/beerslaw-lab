{
 "cells": [
  {
   "cell_type": "markdown",
   "id": "8c9338a2",
   "metadata": {},
   "source": [
    "This notebook is used to bring the data about the sessions, schools, field, demographics, ... together!"
   ]
  },
  {
   "cell_type": "code",
   "execution_count": 1,
   "id": "3566cb6c",
   "metadata": {
    "ExecuteTime": {
     "end_time": "2021-10-20T15:09:12.692753Z",
     "start_time": "2021-10-20T15:09:12.399200Z"
    }
   },
   "outputs": [],
   "source": [
    "import os\n",
    "import re\n",
    "import pickle\n",
    "\n",
    "import numpy as np\n",
    "import pandas as pd\n",
    "pd.set_option('display.max_columns', None)"
   ]
  },
  {
   "cell_type": "markdown",
   "id": "ba52fd91",
   "metadata": {},
   "source": [
    "# Data"
   ]
  },
  {
   "cell_type": "code",
   "execution_count": 2,
   "id": "79cf3ce6",
   "metadata": {
    "ExecuteTime": {
     "end_time": "2021-10-20T15:09:12.705630Z",
     "start_time": "2021-10-20T15:09:12.695816Z"
    }
   },
   "outputs": [],
   "source": [
    "schedule = pd.read_csv('../../data/post_test/schedule.csv')\n",
    "schedule['session_nr'] = schedule['Session'].apply(lambda x: re.findall(r'\\d+', x)[0])\n",
    "schedule_columns = [\n",
    "    'Language', 'Field of Study', 'Study Level', 'Year', 'Session'\n",
    "]\n",
    "schedule = schedule[schedule_columns]\n",
    "schedule.columns = [\n",
    "    'language', 'field', 'level', 'year', 'session'\n",
    "]"
   ]
  },
  {
   "cell_type": "code",
   "execution_count": 3,
   "id": "89f616cd",
   "metadata": {
    "ExecuteTime": {
     "end_time": "2021-10-20T15:09:12.858497Z",
     "start_time": "2021-10-20T15:09:12.851406Z"
    }
   },
   "outputs": [],
   "source": [
    "users = pd.read_csv('../../data/post_test/users.csv')\n",
    "users_columns = [\n",
    "    'username', 'consent', 'gender'\n",
    "]\n",
    "users = users[users_columns]"
   ]
  },
  {
   "cell_type": "code",
   "execution_count": 4,
   "id": "2f767ea2",
   "metadata": {
    "ExecuteTime": {
     "end_time": "2021-10-20T15:09:13.013414Z",
     "start_time": "2021-10-20T15:09:12.998479Z"
    }
   },
   "outputs": [],
   "source": [
    "with open('../../data/post_test/questions.pkl', 'rb') as fp:\n",
    "    questions = pickle.load(fp)\n",
    "    \n",
    "with open('../../data/post_test/questions.pkl', 'rb') as fp:\n",
    "    rankings = pickle.load(fp)\n",
    "    \n",
    "with open('../../data/post_test/some_questions.pkl', 'rb') as fp:\n",
    "    some_questions = pickle.load(fp)"
   ]
  },
  {
   "cell_type": "markdown",
   "id": "2fbae5b6",
   "metadata": {},
   "source": [
    "# Merging of the data"
   ]
  },
  {
   "cell_type": "code",
   "execution_count": 5,
   "id": "10181d30",
   "metadata": {
    "ExecuteTime": {
     "end_time": "2021-10-20T15:09:13.311561Z",
     "start_time": "2021-10-20T15:09:13.300408Z"
    }
   },
   "outputs": [
    {
     "name": "stdout",
     "output_type": "stream",
     "text": [
      "381\n",
      "381\n"
     ]
    }
   ],
   "source": [
    "print(len(questions))\n",
    "questions = questions.merge(schedule, on='session', how='left')\n",
    "questions = questions.merge(users, on='username', how='left')\n",
    "print(len(questions))"
   ]
  },
  {
   "cell_type": "code",
   "execution_count": 6,
   "id": "b73306af",
   "metadata": {
    "ExecuteTime": {
     "end_time": "2021-10-20T15:09:13.485474Z",
     "start_time": "2021-10-20T15:09:13.475152Z"
    }
   },
   "outputs": [
    {
     "name": "stdout",
     "output_type": "stream",
     "text": [
      "381\n",
      "381\n"
     ]
    }
   ],
   "source": [
    "print(len(rankings))\n",
    "rankings = rankings.merge(schedule, on='session', how='left')\n",
    "rankings = rankings.merge(users, on='username', how='left')\n",
    "print(len(rankings))"
   ]
  },
  {
   "cell_type": "code",
   "execution_count": 7,
   "id": "f5409838",
   "metadata": {
    "ExecuteTime": {
     "end_time": "2021-10-20T15:09:13.613994Z",
     "start_time": "2021-10-20T15:09:13.604364Z"
    }
   },
   "outputs": [
    {
     "name": "stdout",
     "output_type": "stream",
     "text": [
      "388\n",
      "388\n"
     ]
    }
   ],
   "source": [
    "print(len(some_questions))\n",
    "some_questions = some_questions.merge(schedule, on='session', how='left')\n",
    "some_questions = some_questions.merge(users, on='username', how='left')\n",
    "print(len(some_questions))"
   ]
  },
  {
   "cell_type": "code",
   "execution_count": null,
   "id": "fd641db5",
   "metadata": {},
   "outputs": [],
   "source": [
    "with open('../../data/post_test/questions.pkl', 'wb') as fp:\n",
    "    pickle.dump(questions, fp)\n",
    "    # full questions\n",
    "    \n",
    "with open('../../data/post_test/rankings.pkl', 'wb') as fp:\n",
    "    pickle.dump(rankings, fp)\n",
    "    # rankings completed\n",
    "    \n",
    "with open('../../data/post_test/some_questions.pkl', 'wb') as fp:\n",
    "    pickle.dump(some_questions, fp)\n",
    "    # partial questions"
   ]
  }
 ],
 "metadata": {
  "kernelspec": {
   "display_name": "Python 3 (ipykernel)",
   "language": "python",
   "name": "python3"
  },
  "language_info": {
   "codemirror_mode": {
    "name": "ipython",
    "version": 3
   },
   "file_extension": ".py",
   "mimetype": "text/x-python",
   "name": "python",
   "nbconvert_exporter": "python",
   "pygments_lexer": "ipython3",
   "version": "3.7.11"
  },
  "toc": {
   "base_numbering": 1,
   "nav_menu": {},
   "number_sections": true,
   "sideBar": true,
   "skip_h1_title": false,
   "title_cell": "Table of Contents",
   "title_sidebar": "Contents",
   "toc_cell": false,
   "toc_position": {},
   "toc_section_display": true,
   "toc_window_display": false
  }
 },
 "nbformat": 4,
 "nbformat_minor": 5
}
