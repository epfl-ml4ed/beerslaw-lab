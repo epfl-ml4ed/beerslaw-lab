{
 "cells": [
  {
   "cell_type": "markdown",
   "id": "8c9338a2",
   "metadata": {},
   "source": [
    "This notebook is used to bring the data about the sessions, schools, field, demographics, ... together!"
   ]
  },
  {
   "cell_type": "code",
   "execution_count": 1,
   "id": "3566cb6c",
   "metadata": {
    "ExecuteTime": {
     "end_time": "2021-11-03T23:37:52.888122Z",
     "start_time": "2021-11-03T23:37:52.624362Z"
    }
   },
   "outputs": [],
   "source": [
    "import os\n",
    "import re\n",
    "import pickle\n",
    "\n",
    "import numpy as np\n",
    "import pandas as pd\n",
    "pd.set_option('display.max_columns', None)"
   ]
  },
  {
   "cell_type": "markdown",
   "id": "ba52fd91",
   "metadata": {},
   "source": [
    "# Data"
   ]
  },
  {
   "cell_type": "code",
   "execution_count": 2,
   "id": "79cf3ce6",
   "metadata": {
    "ExecuteTime": {
     "end_time": "2021-11-03T23:37:53.085903Z",
     "start_time": "2021-11-03T23:37:53.074876Z"
    }
   },
   "outputs": [],
   "source": [
    "schedule = pd.read_csv('../../data/post_test/schedule.csv')\n",
    "schedule['session_nr'] = schedule['Session'].apply(lambda x: re.findall(r'\\d+', x)[0])\n",
    "schedule_columns = [\n",
    "    'Language', 'Field of Study', 'Study Level', 'Year', 'Session'\n",
    "]\n",
    "schedule = schedule[schedule_columns]\n",
    "schedule.columns = [\n",
    "    'language', 'field', 'level', 'year', 'session'\n",
    "]"
   ]
  },
  {
   "cell_type": "code",
   "execution_count": 3,
   "id": "89f616cd",
   "metadata": {
    "ExecuteTime": {
     "end_time": "2021-11-03T23:37:53.396013Z",
     "start_time": "2021-11-03T23:37:53.387659Z"
    }
   },
   "outputs": [],
   "source": [
    "users = pd.read_csv('../../data/post_test/users.csv')\n",
    "users_columns = [\n",
    "    'username', 'consent', 'gender'\n",
    "]\n",
    "users = users[users_columns]"
   ]
  },
  {
   "cell_type": "code",
   "execution_count": 10,
   "id": "2f767ea2",
   "metadata": {
    "ExecuteTime": {
     "end_time": "2021-11-03T23:38:25.036227Z",
     "start_time": "2021-11-03T23:38:25.015420Z"
    }
   },
   "outputs": [],
   "source": [
    "with open('../../data/post_test/questions.pkl', 'rb') as fp:\n",
    "    questions = pickle.load(fp)\n",
    "    \n",
    "with open('../../data/post_test/rankings.pkl', 'rb') as fp:\n",
    "    rankings = pickle.load(fp)\n",
    "    \n",
    "with open('../../data/post_test/some_questions.pkl', 'rb') as fp:\n",
    "    some_questions = pickle.load(fp)\n",
    "    \n",
    "with open('../../data/post_test/some.pkl', 'rb') as fp:\n",
    "    some = pickle.load(fp)"
   ]
  },
  {
   "cell_type": "markdown",
   "id": "2fbae5b6",
   "metadata": {},
   "source": [
    "# Merging of the data"
   ]
  },
  {
   "cell_type": "code",
   "execution_count": 5,
   "id": "10181d30",
   "metadata": {
    "ExecuteTime": {
     "end_time": "2021-11-03T23:37:54.261942Z",
     "start_time": "2021-11-03T23:37:54.250175Z"
    }
   },
   "outputs": [
    {
     "name": "stdout",
     "output_type": "stream",
     "text": [
      "427\n",
      "427\n"
     ]
    }
   ],
   "source": [
    "print(len(questions))\n",
    "questions = questions.merge(schedule, on='session', how='left')\n",
    "questions = questions.merge(users, on='username', how='left')\n",
    "print(len(questions))"
   ]
  },
  {
   "cell_type": "code",
   "execution_count": 6,
   "id": "b73306af",
   "metadata": {
    "ExecuteTime": {
     "end_time": "2021-11-03T23:37:54.677654Z",
     "start_time": "2021-11-03T23:37:54.666702Z"
    }
   },
   "outputs": [
    {
     "name": "stdout",
     "output_type": "stream",
     "text": [
      "422\n",
      "422\n"
     ]
    }
   ],
   "source": [
    "print(len(rankings))\n",
    "rankings = rankings.merge(schedule, on='session', how='left')\n",
    "rankings = rankings.merge(users, on='username', how='left')\n",
    "print(len(rankings))"
   ]
  },
  {
   "cell_type": "code",
   "execution_count": 7,
   "id": "f5409838",
   "metadata": {
    "ExecuteTime": {
     "end_time": "2021-11-03T23:37:54.998631Z",
     "start_time": "2021-11-03T23:37:54.987407Z"
    }
   },
   "outputs": [
    {
     "name": "stdout",
     "output_type": "stream",
     "text": [
      "434\n",
      "434\n"
     ]
    }
   ],
   "source": [
    "print(len(some_questions))\n",
    "some_questions = some_questions.merge(schedule, on='session', how='left')\n",
    "some_questions = some_questions.merge(users, on='username', how='left')\n",
    "print(len(some_questions))"
   ]
  },
  {
   "cell_type": "code",
   "execution_count": 9,
   "id": "c289eb9a",
   "metadata": {
    "ExecuteTime": {
     "end_time": "2021-11-03T23:38:12.324530Z",
     "start_time": "2021-11-03T23:38:12.176553Z"
    }
   },
   "outputs": [
    {
     "ename": "NameError",
     "evalue": "name 'some' is not defined",
     "output_type": "error",
     "traceback": [
      "\u001b[0;31m---------------------------------------------------------------------------\u001b[0m",
      "\u001b[0;31mNameError\u001b[0m                                 Traceback (most recent call last)",
      "\u001b[0;32m/var/folders/jy/0pp1md9x1358dt8g8k69srhr0000gp/T/ipykernel_10262/3964639061.py\u001b[0m in \u001b[0;36m<module>\u001b[0;34m\u001b[0m\n\u001b[0;32m----> 1\u001b[0;31m \u001b[0mprint\u001b[0m\u001b[0;34m(\u001b[0m\u001b[0mlen\u001b[0m\u001b[0;34m(\u001b[0m\u001b[0msome\u001b[0m\u001b[0;34m)\u001b[0m\u001b[0;34m)\u001b[0m\u001b[0;34m\u001b[0m\u001b[0;34m\u001b[0m\u001b[0m\n\u001b[0m\u001b[1;32m      2\u001b[0m \u001b[0msome\u001b[0m \u001b[0;34m=\u001b[0m \u001b[0msome\u001b[0m\u001b[0;34m.\u001b[0m\u001b[0mmerge\u001b[0m\u001b[0;34m(\u001b[0m\u001b[0mschedule\u001b[0m\u001b[0;34m,\u001b[0m \u001b[0mon\u001b[0m\u001b[0;34m=\u001b[0m\u001b[0;34m'session'\u001b[0m\u001b[0;34m,\u001b[0m \u001b[0mhow\u001b[0m\u001b[0;34m=\u001b[0m\u001b[0;34m'left'\u001b[0m\u001b[0;34m)\u001b[0m\u001b[0;34m\u001b[0m\u001b[0;34m\u001b[0m\u001b[0m\n\u001b[1;32m      3\u001b[0m \u001b[0msome\u001b[0m \u001b[0;34m=\u001b[0m \u001b[0msome\u001b[0m\u001b[0;34m.\u001b[0m\u001b[0mmerge\u001b[0m\u001b[0;34m(\u001b[0m\u001b[0musers\u001b[0m\u001b[0;34m,\u001b[0m \u001b[0mon\u001b[0m\u001b[0;34m=\u001b[0m\u001b[0;34m'username'\u001b[0m\u001b[0;34m,\u001b[0m \u001b[0mhow\u001b[0m\u001b[0;34m=\u001b[0m\u001b[0;34m'left'\u001b[0m\u001b[0;34m)\u001b[0m\u001b[0;34m\u001b[0m\u001b[0;34m\u001b[0m\u001b[0m\n\u001b[1;32m      4\u001b[0m \u001b[0mprint\u001b[0m\u001b[0;34m(\u001b[0m\u001b[0mlen\u001b[0m\u001b[0;34m(\u001b[0m\u001b[0msome\u001b[0m\u001b[0;34m)\u001b[0m\u001b[0;34m)\u001b[0m\u001b[0;34m\u001b[0m\u001b[0;34m\u001b[0m\u001b[0m\n",
      "\u001b[0;31mNameError\u001b[0m: name 'some' is not defined"
     ]
    }
   ],
   "source": [
    "print(len(some))\n",
    "some = some.merge(schedule, on='session', how='left')\n",
    "some = some.merge(users, on='username', how='left')\n",
    "print(len(some))"
   ]
  },
  {
   "cell_type": "code",
   "execution_count": 8,
   "id": "fd641db5",
   "metadata": {
    "ExecuteTime": {
     "end_time": "2021-11-03T23:37:55.417598Z",
     "start_time": "2021-11-03T23:37:55.401158Z"
    }
   },
   "outputs": [],
   "source": [
    "with open('../../data/post_test/questions.pkl', 'wb') as fp:\n",
    "    pickle.dump(questions, fp)\n",
    "    # full questions\n",
    "    \n",
    "with open('../../data/post_test/rankings.pkl', 'wb') as fp:\n",
    "    pickle.dump(rankings, fp)\n",
    "    # rankings completed\n",
    "    \n",
    "with open('../../data/post_test/some_questions.pkl', 'wb') as fp:\n",
    "    pickle.dump(some_questions, fp)\n",
    "    # partial questions\n",
    "    \n",
    "with open('../../data/post_test/some.pkl', 'wb') as fp:\n",
    "    pickle.dump(some, fp)\n",
    "    # partial questions"
   ]
  },
  {
   "cell_type": "code",
   "execution_count": null,
   "id": "6867063b",
   "metadata": {},
   "outputs": [],
   "source": []
  }
 ],
 "metadata": {
  "kernelspec": {
   "display_name": "Python 3 (ipykernel)",
   "language": "python",
   "name": "python3"
  },
  "language_info": {
   "codemirror_mode": {
    "name": "ipython",
    "version": 3
   },
   "file_extension": ".py",
   "mimetype": "text/x-python",
   "name": "python",
   "nbconvert_exporter": "python",
   "pygments_lexer": "ipython3",
   "version": "3.7.11"
  },
  "toc": {
   "base_numbering": 1,
   "nav_menu": {},
   "number_sections": true,
   "sideBar": true,
   "skip_h1_title": false,
   "title_cell": "Table of Contents",
   "title_sidebar": "Contents",
   "toc_cell": false,
   "toc_position": {},
   "toc_section_display": true,
   "toc_window_display": false
  }
 },
 "nbformat": 4,
 "nbformat_minor": 5
}
