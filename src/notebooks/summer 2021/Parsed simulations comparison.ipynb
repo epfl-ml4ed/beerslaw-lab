{
 "cells": [
  {
   "cell_type": "markdown",
   "metadata": {},
   "source": [
    "# Imports"
   ]
  },
  {
   "cell_type": "code",
   "execution_count": 1,
   "metadata": {
    "ExecuteTime": {
     "end_time": "2021-09-27T08:48:56.679747Z",
     "start_time": "2021-09-27T08:48:54.671089Z"
    }
   },
   "outputs": [],
   "source": [
    "import os\n",
    "import pickle\n",
    "import dill\n",
    "import json\n",
    "\n",
    "import numpy as np\n",
    "import pandas as pd\n",
    "\n",
    "from matplotlib import pyplot as plt\n",
    "import seaborn as sns"
   ]
  },
  {
   "cell_type": "markdown",
   "metadata": {},
   "source": [
    "# Data"
   ]
  },
  {
   "cell_type": "code",
   "execution_count": 2,
   "metadata": {
    "ExecuteTime": {
     "end_time": "2021-09-27T08:49:29.405465Z",
     "start_time": "2021-09-27T08:48:56.686272Z"
    }
   },
   "outputs": [],
   "source": [
    "# Data from parsed simulations\n",
    "parsed_simulations = '../data/parsed simulations/'\n",
    "files = os.listdir(parsed_simulations)\n",
    "files_info = {}\n",
    "\n",
    "for file in files:\n",
    "    with open(parsed_simulations + file, 'rb') as fp:\n",
    "        ps = dill.load(fp)\n",
    "    files_info[file] = {\n",
    "        'learner_id': ps.get_learner_id(),\n",
    "        'permutation': ps.get_permutation()\n",
    "    }\n",
    "    "
   ]
  },
  {
   "cell_type": "code",
   "execution_count": 62,
   "metadata": {
    "ExecuteTime": {
     "end_time": "2021-09-27T09:12:01.268620Z",
     "start_time": "2021-09-27T09:12:01.134978Z"
    }
   },
   "outputs": [],
   "source": [
    "# Data from processed file\n",
    "with open('//ic1files.epfl.ch/D-VET/Projects/ChemLab/04_Processing/Processing/Data/PostTest/post_test.pkl', 'rb') as fp:\n",
    "    post_test = pickle.load(fp)\n",
    "    ranks = pd.DataFrame()\n",
    "    ranks['lid'] = post_test[0, 'username']\n",
    "    ranks['gender'] = post_test[0, 'gender']\n",
    "    ranks['year'] = post_test[0, 'year']\n",
    "    ranks['ranks'] = post_test[6, 'ranks']\n",
    "\n",
    "    ranks = ranks[ranks['ranks'].notna()]\n",
    "#     ranks['permutation'] = ranks['ranks'].apply(lambda x: ''.join([str(r) for r in x]))\n",
    "#     ranks = ranks.set_index('lid')"
   ]
  },
  {
   "cell_type": "code",
   "execution_count": 63,
   "metadata": {
    "ExecuteTime": {
     "end_time": "2021-09-27T09:12:04.157680Z",
     "start_time": "2021-09-27T09:12:04.147706Z"
    }
   },
   "outputs": [
    {
     "data": {
      "text/plain": [
       "393"
      ]
     },
     "execution_count": 63,
     "metadata": {},
     "output_type": "execute_result"
    }
   ],
   "source": [
    "len(post_test)"
   ]
  },
  {
   "cell_type": "code",
   "execution_count": 68,
   "metadata": {
    "ExecuteTime": {
     "end_time": "2021-09-27T09:38:43.656183Z",
     "start_time": "2021-09-27T09:38:43.607076Z"
    }
   },
   "outputs": [],
   "source": [
    "# Data from processed file\n",
    "with open('./notebooks/202109_post_test.pkl', 'rb') as fp:\n",
    "    post_test = pickle.load(fp)\n",
    "    ranks = pd.DataFrame()\n",
    "    ranks['lid'] = post_test[0, 'username']\n",
    "    ranks['gender'] = post_test[0, 'gender']\n",
    "    ranks['year'] = post_test[0, 'year']\n",
    "    ranks['ranks'] = post_test[6, 'ranks']\n",
    "\n",
    "    ranks = ranks[ranks['ranks'].notna()]\n",
    "    ranks['permutation'] = ranks['ranks'].apply(lambda x: ''.join([str(r) for r in x]))\n",
    "    ranks = ranks.set_index('lid')"
   ]
  },
  {
   "cell_type": "code",
   "execution_count": 69,
   "metadata": {
    "ExecuteTime": {
     "end_time": "2021-09-27T09:38:43.781759Z",
     "start_time": "2021-09-27T09:38:43.773778Z"
    }
   },
   "outputs": [
    {
     "data": {
      "text/plain": [
       "449"
      ]
     },
     "execution_count": 69,
     "metadata": {},
     "output_type": "execute_result"
    }
   ],
   "source": [
    "len(post_test)"
   ]
  },
  {
   "cell_type": "code",
   "execution_count": 58,
   "metadata": {
    "ExecuteTime": {
     "end_time": "2021-09-27T08:59:50.271006Z",
     "start_time": "2021-09-27T08:59:50.251149Z"
    }
   },
   "outputs": [
    {
     "name": "stdout",
     "output_type": "stream",
     "text": [
      "{'7hrf6cdu', 'eau7bsmq', 'r78kg7d3', 'h4hxzc6s', 'ddu7y6bv', 'zy256ycq', 'chm4sr6j', 'e93na59g', 'ay2erc3c', '4vuc8rr3', 'w6az39g6', 'dk43m2pe', 'xw9qt6r4', 'jvxejtp9', '4k4kc2k6', 'wnurkn96', 'fyf6ag5v', 'j9qgkaej', 's8w65sm5', 'vqumj3t3', 'b2q8ay65', '552gbupp', 'ebt3e6ae', '3qwayak9', 'txg5vjzw', 'sgsxmkfm', 'jhrkm85q', 'svdphyjs', '9bp6yz7m', 'cdq4drkk', 'sjz2rptd', 'hrhu4yph', 'fj5tdybn', 'sp82v9ds', 'bezdgyya', 'ryfqnvfh', 'fjwcmt6y', 'pbxyuw7u', 'nsj6k2rg', 'q4z45p85', 'ujpk3gf4', 'uhbpoog9', '4k4dk9pu', 'rdbqasqa', '6hbvyq5m', 'gvqh7qr2', '5278s35u', 'suz5fszu', 'urwu33jd', 'eb9iv6v2', 'z4nrhe2e', 'mjh6emdj', '43e33t3h', 'r74r26kt', 'gu7jpyum', '47ce49e4', 'bg7x3db2', 'b8g49nvw', 'rwu8yjw9', '6j6u2yct', 'pmd5dyu3', 'p5t7d3sb', 'amqnxthw', 'ke6msbfr', '3kzp9bet', 'wger3sfa', 'tsvcrpeg', 'jwajupwj', 'e8zdytr2', 'xe7c36dk', 'ky8kttpv', 's3ufctgg', 'uthx49rq', 'qpmzsb6t', 'sgdgynxy', 'dzakgq29', 'fu6nsdhs', '892r4czm', 'abqwb5km', '7fj2vydr', '84khcu2r', 'favvtnnf', 'm749z8u9', '2xjmtbvz', 'upp6pqmx', '84nmc3df', '2kk326rj', 'suyrrcqe', '3st3y5gc', 'p2u7xw38', 'dq4zzkyt', '4ak6da99', 'bf4iuomx', 'uqven68r', '8rtwmb8t', 'padezf8m', '5zqfzwjg', '63xqh9t5', 'x5sm9pfu', 'akgpua6j', 'qevswkvj', '6tg95rzr', '6bq62prp', 'akzsmgnj', 'szvqb37f', '6tgyhcuh', 'wu7kdm6q', '3w54b2bu', 'jcrv9m9j', '7ck7mq6a', 'du727jdw', 'evqzjs5p', 'vh8vedkw', '76wvaew4', 'fm5rcvdy', 'v2cxb3a5', 'phcrjd9q', '5es5yqs8', '8pskk9tr', 'npkrjraq', 'sctj44cs', 'ydws5xx9', 'pesfpzbv', 'v9sra3j2', 'dmdc53tx', 'd7777ske', 'tcnba4ca', 'htf3xwbw', 'v2kw3kup', 'zgs84jfy', '3se7z466', 'mhek2323', 'xj86wyup', 'uagxrke6', 'uswb2jez', 'beypwbck', 'u5ebbg3v', 'qfu6r8c7', 'w9w2hw35', '4b4dkjuw', '4aaspwgs', 't3dwkezr', '2hr6mkdc', 'eh9jq2bp', 'da4vrrwz', 'rve4n5nv', '2dfxa5he', 'fddsxudu', '33asfz2u', 'rwax4gk7', 'xngb9hff', '9x24tp6b', 'pggnv6xw', 'k2erarrf', 'o9ffsiwt', 'p6mkaa4e', 'ssz3uyqn', 'wef64erj', 'aj47uhb9', '4bu2rkv3', 'tt5n8d2r', '8jp62suc', '2xh9zuvc', 'u2ntt4wv', 'bw2rzucq', 'zkrr45y5', 'cb3z5rjs', 'habxmccr', 'drccqhk4', '39ggtzcu', 'qk6q49f4', 'caq55qe8', '2ae6q3hw', '88kjzd8b', 'xtxat8eg', 'rfand3tt', 'xz56yha8', 'tbdn5up8', 'u96tpd55', 'ew6cfr37', 'baqyfz2h', 'h543nsc8', 'npatrq7r', 'mkw5afyy', 'fryxwskq', 'y9tk3ysm', 'sm8sfpcg', 'dubyutqd', 'zbabnwym', '8ga2zn5h', 'kq2e6dgu', 'qdp9ant4', '55yavcue', 'bm89te3c', 'w25mph3c', 'nw65tu6j', 'mwwddfvg', 'ft5xsvy4', 'qsd9cb5e', 'oikzz9af', 'dnvedphf', 'rqyaqs75', '2ep3hayy', 'uqzxsym7', '6ruh7enb', 't6rjyw6s', 'jpccnav5', 'vqebanqv', 'cjarhqn9', 'crak75dx', 'puzxz678', 'azeb5bc4', 'k8x4ru7k', 'ur9sxzx7', 'ht865nws', 'jx3yyy26', '9p9gwu88', '57nwt7qa', 'rgeb7wr9', 'pyamv67t', 'fzagvhvf', 'xsxkdf7k', 'yez72a8b', 'g43q3d94', 'f5wa2gzf', '5y535ct3', 'p44vw7td', '982cf4dn', 'sr34qyfx', 'sqrqdsge', 'kcv4kfm2', 'vwfpuqaz', 'nba9d6t2', '2cetp8yc', 'cb6wcvyn', 'xau6wapw', 'm3d89p29', 'p5ac3mu7', 'rmd35un4', 'nmgve3yy', '7xhcecye', 'wyj76ntd', 'r2q9q35x', 'y8qbtkmf', 'jwntt96k', 'rsc5fnwz', '63v3czy6', 'mvhzrv2y', 'yc3vmnuf', 'a3tffvsb', 'araav4jr', 'a3vdjxy9', 'fw2ajjmt', 'dbt5na3s', '39htvmt5', 'qn4qjrvd', 'sz8qvgyv', 'wxz98urt', '8p35t5qs', 'u9gxp77h', 'j9ukgkp5', 'usa5gyb9', '7xwv3xfe', 'mwfdr4ys', 'nj859xxh', 'qbf3sp76', 'r42kwnt7', '7e4jt9hn', 'qyz6cdae', 'my6csh6m', 'djnysnd6', 'fh76v5qx', 'e2825x2d', 'rg4fgfyh', 'jnjd79vh', 'rrykpeqz', '5xuzjwdp', 'kj5abt7s', 'zs35fg8g', 'mzjq6z9t', 's43ut7tg', 'enqtt86p', 'nfshnktq', 'jamrhf3h', 'tzbaaz7e', 'xvsgn53d', 'nmptx7nj', '4rxkb9bc', 'bbdd557u', '85pdk9mq', 'mnhmyuhb', 'nhff2ze9', 'zxmtbzda', 'zxp438xr', 't7728bqp', 'aweu2ac8', 'kg43uepa', '3xcaamq9', 'krd7m9vb', 'ac4q67z9', '5h9umyr6', 'addf7f7d', 's9prcjfd', 'uekptbwk', 'k7p5eryf', 'sbjxmaqm', 'qsx2cc4b', 'jkbx6axr', '6uakv8nx', 'mb8mn3zx', '5a69aw4h', '6mrsnksc', 'd72hfax6', 'h9t9mxtx', 'gc9jecfa', '7cm9kver', 'a57jkjgv', '3pz22p3a', 'v5gwycag', '4rhnvke9', '4v7rjrdb', 'c6tpxq9a', '6cs3annc', 'etxwsdtx', 'ntqpqkpq', 'pt2nbb4w', '4s7gthwf', 'qvna6pyz', 'ybxahrra', 'e22ppyf7', 'u4zu9xxc', 'bed4zkv2', '26z3wbqz', 'xdxyjh8j', 'eqdntxer', 'vhsgf3xa', '9qvk2wew', '4e438nww', 'qqf6nsga', '5zrt4f8z', 'nrxpa2ac', 'wbvxv9ju', 'n977pem4', 'wvxkvhne', 'r29wzm6f', 'xpyjyx4m', 'h8624awf', 'wpszzhxa', 'jukxh9s4', 'z8dtc572', '3e3k2662', 'h75kp27p', 'vvtfq98r', '7sfwehhm', 'm9u6p93a', 'cp7mfn24', 'j6nndaxp', 'nyyfpabq', 'knun7j9s', '4vtjgtja', '3s6pz8qy', 'egg8756y', '8ethqmkd', 'r8n3bcnu', 'sh6tu9g2', 'ww2m3qch', 'zgyc948n', 'qner25zp', 'eq6xvgmg', '8nh4zvcp', 'b72hbgvw', 'tsrnkj8w', 'uamuwrx2', '786zpupn', 'e3b96acv', 'x844md8u', 'a6t5p3sb', 'n238pypu', 'r2e3h3tm', 'yxf7q6ap', 'va43652k', '45dr5g22', '3gqs3sgc', 'jydsy777', '7ygreyfc', 'gyerx2d9', 'neuwx57b', 'urxv4evt', 'qkeyp2rg', '6z8t3mxa', 'ktd99zh9', '2pqdkrkw', 'y7p64n6z', 'w7asnymz', 'unkrat9w', 'g2vjxfvw', 'srmr7pcp', 'rqpdjumr', 'xcmyd5r5', 'r7pyyp9n', 'z5dzzgk5', 'ytrbygud', 'p6ut882m', 'bebyve9b', 'eru7f2dt', 'smqjhu44', 'hg7zc2sv', 'temu2736', '8n8w8zkd', 'mcjaj2aj', 'uhq3p7yr', 'upkt7qb4', 'sx3vqc32', '2ejxq2u8', 'v5w2e3zw', 'm35ub35g', '9sgu2tbg', 'xuwyv9hz', 'p6269reg', 's2up6gmm', 'mgr68u6f', 's78drqcg', 'prr8qsns', 'ujp9fgpn', 'bw4svfmn', '6rfakyp7', '2crhmbq7', 'f3h5amf9', 'g4xpwwac', 'aurjfgnn', 'chca7sdb', 'g6z8qykr', 's7mdq5tk', 'tzpqpfaa', '6h5vmwys', 'ecaf72fu', 'pqd874qd', 'xq567sht', 'cwgvxrvx', '9aagpn4d', 'nemddmx6', 'qjfn2j8z', '9p4h3zdx', 's47edumx', '5vvwhzqs', 'vckta85p', 'hkvk9vt9', 'mxh6jugj', 'n6zakrku'}\n"
     ]
    }
   ],
   "source": [
    "learner_ids_parsed = [files_info[file]['learner_id'] for file in files_info]\n",
    "learner_ids_parsed = list(set(learner_ids_parsed))\n",
    "learner_ids_post = list(ranks.index)\n",
    "learner_ids_post = list(set(learner_ids_post))\n",
    "\n",
    "missing_ids = set(learner_ids_parsed).difference(set(learner_ids_post))\n",
    "\n",
    "print(missing_ids)"
   ]
  },
  {
   "cell_type": "code",
   "execution_count": null,
   "metadata": {},
   "outputs": [],
   "source": []
  },
  {
   "cell_type": "code",
   "execution_count": null,
   "metadata": {},
   "outputs": [],
   "source": []
  },
  {
   "cell_type": "code",
   "execution_count": null,
   "metadata": {},
   "outputs": [],
   "source": []
  },
  {
   "cell_type": "code",
   "execution_count": null,
   "metadata": {},
   "outputs": [],
   "source": []
  },
  {
   "cell_type": "code",
   "execution_count": null,
   "metadata": {},
   "outputs": [],
   "source": []
  },
  {
   "cell_type": "code",
   "execution_count": null,
   "metadata": {},
   "outputs": [],
   "source": []
  },
  {
   "cell_type": "code",
   "execution_count": null,
   "metadata": {},
   "outputs": [],
   "source": []
  },
  {
   "cell_type": "code",
   "execution_count": null,
   "metadata": {},
   "outputs": [],
   "source": []
  },
  {
   "cell_type": "code",
   "execution_count": null,
   "metadata": {},
   "outputs": [],
   "source": []
  },
  {
   "cell_type": "code",
   "execution_count": null,
   "metadata": {},
   "outputs": [],
   "source": []
  },
  {
   "cell_type": "code",
   "execution_count": null,
   "metadata": {},
   "outputs": [],
   "source": []
  },
  {
   "cell_type": "code",
   "execution_count": null,
   "metadata": {},
   "outputs": [],
   "source": []
  },
  {
   "cell_type": "code",
   "execution_count": null,
   "metadata": {},
   "outputs": [],
   "source": []
  },
  {
   "cell_type": "code",
   "execution_count": null,
   "metadata": {},
   "outputs": [],
   "source": []
  },
  {
   "cell_type": "code",
   "execution_count": null,
   "metadata": {},
   "outputs": [],
   "source": []
  },
  {
   "cell_type": "code",
   "execution_count": null,
   "metadata": {},
   "outputs": [],
   "source": []
  },
  {
   "cell_type": "code",
   "execution_count": null,
   "metadata": {},
   "outputs": [],
   "source": []
  },
  {
   "cell_type": "code",
   "execution_count": null,
   "metadata": {},
   "outputs": [],
   "source": []
  },
  {
   "cell_type": "code",
   "execution_count": null,
   "metadata": {},
   "outputs": [],
   "source": []
  },
  {
   "cell_type": "code",
   "execution_count": null,
   "metadata": {},
   "outputs": [],
   "source": []
  },
  {
   "cell_type": "code",
   "execution_count": null,
   "metadata": {},
   "outputs": [],
   "source": []
  },
  {
   "cell_type": "code",
   "execution_count": null,
   "metadata": {},
   "outputs": [],
   "source": []
  },
  {
   "cell_type": "code",
   "execution_count": null,
   "metadata": {},
   "outputs": [],
   "source": []
  },
  {
   "cell_type": "code",
   "execution_count": null,
   "metadata": {},
   "outputs": [],
   "source": []
  },
  {
   "cell_type": "code",
   "execution_count": null,
   "metadata": {},
   "outputs": [],
   "source": []
  }
 ],
 "metadata": {
  "kernelspec": {
   "display_name": "Python 3",
   "language": "python",
   "name": "python3"
  },
  "language_info": {
   "codemirror_mode": {
    "name": "ipython",
    "version": 3
   },
   "file_extension": ".py",
   "mimetype": "text/x-python",
   "name": "python",
   "nbconvert_exporter": "python",
   "pygments_lexer": "ipython3",
   "version": "3.7.11"
  },
  "toc": {
   "base_numbering": 1,
   "nav_menu": {},
   "number_sections": true,
   "sideBar": true,
   "skip_h1_title": false,
   "title_cell": "Table of Contents",
   "title_sidebar": "Contents",
   "toc_cell": false,
   "toc_position": {},
   "toc_section_display": true,
   "toc_window_display": false
  }
 },
 "nbformat": 4,
 "nbformat_minor": 4
}
