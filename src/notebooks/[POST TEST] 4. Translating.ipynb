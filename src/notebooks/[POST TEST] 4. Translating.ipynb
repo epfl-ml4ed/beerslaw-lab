{
 "cells": [
  {
   "cell_type": "code",
   "execution_count": 1,
   "id": "b65096d9",
   "metadata": {
    "ExecuteTime": {
     "end_time": "2021-10-27T19:37:32.958379Z",
     "start_time": "2021-10-27T19:37:32.312119Z"
    }
   },
   "outputs": [],
   "source": [
    "import os\n",
    "import pickle\n",
    "\n",
    "import numpy as np\n",
    "import pandas as pd\n",
    "\n",
    "from googletrans import Translator"
   ]
  },
  {
   "cell_type": "markdown",
   "id": "8556e15d",
   "metadata": {},
   "source": [
    "# Data"
   ]
  },
  {
   "cell_type": "code",
   "execution_count": 2,
   "id": "e3f6604c",
   "metadata": {
    "ExecuteTime": {
     "end_time": "2021-10-27T19:37:32.974500Z",
     "start_time": "2021-10-27T19:37:32.960026Z"
    }
   },
   "outputs": [],
   "source": [
    "with open('../../data/post_test/questions.pkl', 'rb') as fp:\n",
    "    questions = pickle.load(fp)\n",
    "    # full questions\n",
    "    \n",
    "with open('../../data/post_test/rankings.pkl', 'rb') as fp:\n",
    "    rankings = pickle.load(fp)\n",
    "    # rankings completed\n",
    "    \n",
    "with open('../../data/post_test/some_questions.pkl', 'rb') as fp:\n",
    "    some_questions = pickle.load(fp)\n",
    "    # partial questions"
   ]
  },
  {
   "cell_type": "code",
   "execution_count": 3,
   "id": "71ae9517",
   "metadata": {
    "ExecuteTime": {
     "end_time": "2021-10-27T19:37:33.358670Z",
     "start_time": "2021-10-27T19:37:33.353904Z"
    }
   },
   "outputs": [
    {
     "name": "stdout",
     "output_type": "stream",
     "text": [
      "Index(['username', 'start_time', 'exploration_time', 'ranking_task_time',\n",
      "       'ranking', 'ranking_confidence', 'ranking_time', 'q1', 'q1_conf',\n",
      "       'q1_time', 'q2', 'q2_conf', 'q2_time', 'q3', 'q3_conf', 'q3_time', 'q4',\n",
      "       'q4_conf', 'q4_time', 'q5_colour0', 'q5_colour1', 'q5_colour2',\n",
      "       'q5_colour3', 'q5_time', 'q6_colour0', 'q6_colour1', 'q6_colour2',\n",
      "       'q6_colour3', 'q6_time', 'q7_colour0', 'q7_colour1', 'q7_colour2',\n",
      "       'q7_colour3', 'q7_time', 'q8_colour0', 'q8_colour1', 'q8_colour2',\n",
      "       'q8_colour3', 'q8_time', 'formula', 'fomula_conf', 'formula_time',\n",
      "       'notes_text', 'notes_math', 'notes_table', 'notes_diag', 'notes_time',\n",
      "       'beerslaw', 'beerslaw_conf', 'beerslaw_time', 'problem_ranking',\n",
      "       'problem_conf', 'problem_time', 'feedback_entertain',\n",
      "       'feedback_difficult', 'feedback_good', 'feedback_bad', 'feedback',\n",
      "       'feedback_time', 'experiment_time', 'status', 'session', 'version',\n",
      "       'numerical_status', 'language', 'field', 'level', 'year', 'consent',\n",
      "       'gender'],\n",
      "      dtype='object')\n",
      "Index(['username', 'start_time', 'exploration_time', 'ranking_task_time',\n",
      "       'ranking', 'ranking_confidence', 'ranking_time', 'q1', 'q1_conf',\n",
      "       'q1_time', 'q2', 'q2_conf', 'q2_time', 'q3', 'q3_conf', 'q3_time', 'q4',\n",
      "       'q4_conf', 'q4_time', 'q5_colour0', 'q5_colour1', 'q5_colour2',\n",
      "       'q5_colour3', 'q5_time', 'q6_colour0', 'q6_colour1', 'q6_colour2',\n",
      "       'q6_colour3', 'q6_time', 'q7_colour0', 'q7_colour1', 'q7_colour2',\n",
      "       'q7_colour3', 'q7_time', 'q8_colour0', 'q8_colour1', 'q8_colour2',\n",
      "       'q8_colour3', 'q8_time', 'formula', 'fomula_conf', 'formula_time',\n",
      "       'notes_text', 'notes_math', 'notes_table', 'notes_diag', 'notes_time',\n",
      "       'beerslaw', 'beerslaw_conf', 'beerslaw_time', 'problem_ranking',\n",
      "       'problem_conf', 'problem_time', 'feedback_entertain',\n",
      "       'feedback_difficult', 'feedback_good', 'feedback_bad', 'feedback',\n",
      "       'feedback_time', 'experiment_time', 'status', 'session', 'version',\n",
      "       'numerical_status', 'language', 'field', 'level', 'year', 'consent',\n",
      "       'gender'],\n",
      "      dtype='object')\n",
      "Index(['username', 'start_time', 'exploration_time', 'ranking_task_time',\n",
      "       'ranking', 'ranking_confidence', 'ranking_time', 'q1', 'q1_conf',\n",
      "       'q1_time', 'q2', 'q2_conf', 'q2_time', 'q3', 'q3_conf', 'q3_time', 'q4',\n",
      "       'q4_conf', 'q4_time', 'q5_colour0', 'q5_colour1', 'q5_colour2',\n",
      "       'q5_colour3', 'q5_time', 'q6_colour0', 'q6_colour1', 'q6_colour2',\n",
      "       'q6_colour3', 'q6_time', 'q7_colour0', 'q7_colour1', 'q7_colour2',\n",
      "       'q7_colour3', 'q7_time', 'q8_colour0', 'q8_colour1', 'q8_colour2',\n",
      "       'q8_colour3', 'q8_time', 'formula', 'fomula_conf', 'formula_time',\n",
      "       'notes_text', 'notes_math', 'notes_table', 'notes_diag', 'notes_time',\n",
      "       'beerslaw', 'beerslaw_conf', 'beerslaw_time', 'problem_ranking',\n",
      "       'problem_conf', 'problem_time', 'feedback_entertain',\n",
      "       'feedback_difficult', 'feedback_good', 'feedback_bad', 'feedback',\n",
      "       'feedback_time', 'experiment_time', 'status', 'session', 'version',\n",
      "       'numerical_status', 'language', 'field', 'level', 'year', 'consent',\n",
      "       'gender'],\n",
      "      dtype='object')\n"
     ]
    }
   ],
   "source": [
    "print(questions.columns)\n",
    "print(rankings.columns)\n",
    "print(some_questions.columns)"
   ]
  },
  {
   "cell_type": "markdown",
   "id": "b3168717",
   "metadata": {},
   "source": [
    "# Translate"
   ]
  },
  {
   "cell_type": "code",
   "execution_count": 4,
   "id": "be8566a7",
   "metadata": {
    "ExecuteTime": {
     "end_time": "2021-10-27T19:37:36.230733Z",
     "start_time": "2021-10-27T19:37:36.209619Z"
    }
   },
   "outputs": [],
   "source": [
    "translator = Translator()"
   ]
  },
  {
   "cell_type": "code",
   "execution_count": 5,
   "id": "bdf98b21",
   "metadata": {
    "ExecuteTime": {
     "end_time": "2021-10-27T19:37:36.520158Z",
     "start_time": "2021-10-27T19:37:36.516655Z"
    }
   },
   "outputs": [],
   "source": [
    "def translate(text:str) -> str:\n",
    "    try:\n",
    "        translate = translator.translate(text, src='de', dest='en').text\n",
    "    except TypeError:\n",
    "        translate = 'type error'\n",
    "    return translate\n",
    "translator.raise_Exception = True"
   ]
  },
  {
   "cell_type": "code",
   "execution_count": 6,
   "id": "22ae7e25",
   "metadata": {
    "ExecuteTime": {
     "end_time": "2021-10-27T19:38:26.630263Z",
     "start_time": "2021-10-27T19:37:37.260808Z"
    }
   },
   "outputs": [
    {
     "ename": "Exception",
     "evalue": "Unexpected status code \"429\" from ('translate.google.com',)",
     "output_type": "error",
     "traceback": [
      "\u001b[0;31m---------------------------------------------------------------------------\u001b[0m",
      "\u001b[0;31mException\u001b[0m                                 Traceback (most recent call last)",
      "\u001b[0;32m<ipython-input-6-e8dd84a25b20>\u001b[0m in \u001b[0;36m<module>\u001b[0;34m\u001b[0m\n\u001b[0;32m----> 1\u001b[0;31m \u001b[0mquestions\u001b[0m\u001b[0;34m[\u001b[0m\u001b[0;34m'beerslaw_en'\u001b[0m\u001b[0;34m]\u001b[0m \u001b[0;34m=\u001b[0m \u001b[0mquestions\u001b[0m\u001b[0;34m[\u001b[0m\u001b[0;34m'beerslaw'\u001b[0m\u001b[0;34m]\u001b[0m\u001b[0;34m.\u001b[0m\u001b[0mapply\u001b[0m\u001b[0;34m(\u001b[0m\u001b[0mtranslate\u001b[0m\u001b[0;34m)\u001b[0m\u001b[0;34m\u001b[0m\u001b[0;34m\u001b[0m\u001b[0m\n\u001b[0m\u001b[1;32m      2\u001b[0m \u001b[0mquestions\u001b[0m\u001b[0;34m[\u001b[0m\u001b[0;34m'formula_en'\u001b[0m\u001b[0;34m]\u001b[0m \u001b[0;34m=\u001b[0m \u001b[0mquestions\u001b[0m\u001b[0;34m[\u001b[0m\u001b[0;34m'formula'\u001b[0m\u001b[0;34m]\u001b[0m\u001b[0;34m.\u001b[0m\u001b[0mapply\u001b[0m\u001b[0;34m(\u001b[0m\u001b[0mtranslate\u001b[0m\u001b[0;34m)\u001b[0m\u001b[0;34m\u001b[0m\u001b[0;34m\u001b[0m\u001b[0m\n",
      "\u001b[0;32m/opt/anaconda3/envs/Annotator/lib/python3.7/site-packages/pandas/core/series.py\u001b[0m in \u001b[0;36mapply\u001b[0;34m(self, func, convert_dtype, args, **kwargs)\u001b[0m\n\u001b[1;32m   4355\u001b[0m         \u001b[0mdtype\u001b[0m\u001b[0;34m:\u001b[0m \u001b[0mfloat64\u001b[0m\u001b[0;34m\u001b[0m\u001b[0;34m\u001b[0m\u001b[0m\n\u001b[1;32m   4356\u001b[0m         \"\"\"\n\u001b[0;32m-> 4357\u001b[0;31m         \u001b[0;32mreturn\u001b[0m \u001b[0mSeriesApply\u001b[0m\u001b[0;34m(\u001b[0m\u001b[0mself\u001b[0m\u001b[0;34m,\u001b[0m \u001b[0mfunc\u001b[0m\u001b[0;34m,\u001b[0m \u001b[0mconvert_dtype\u001b[0m\u001b[0;34m,\u001b[0m \u001b[0margs\u001b[0m\u001b[0;34m,\u001b[0m \u001b[0mkwargs\u001b[0m\u001b[0;34m)\u001b[0m\u001b[0;34m.\u001b[0m\u001b[0mapply\u001b[0m\u001b[0;34m(\u001b[0m\u001b[0;34m)\u001b[0m\u001b[0;34m\u001b[0m\u001b[0;34m\u001b[0m\u001b[0m\n\u001b[0m\u001b[1;32m   4358\u001b[0m \u001b[0;34m\u001b[0m\u001b[0m\n\u001b[1;32m   4359\u001b[0m     def _reduce(\n",
      "\u001b[0;32m/opt/anaconda3/envs/Annotator/lib/python3.7/site-packages/pandas/core/apply.py\u001b[0m in \u001b[0;36mapply\u001b[0;34m(self)\u001b[0m\n\u001b[1;32m   1041\u001b[0m             \u001b[0;32mreturn\u001b[0m \u001b[0mself\u001b[0m\u001b[0;34m.\u001b[0m\u001b[0mapply_str\u001b[0m\u001b[0;34m(\u001b[0m\u001b[0;34m)\u001b[0m\u001b[0;34m\u001b[0m\u001b[0;34m\u001b[0m\u001b[0m\n\u001b[1;32m   1042\u001b[0m \u001b[0;34m\u001b[0m\u001b[0m\n\u001b[0;32m-> 1043\u001b[0;31m         \u001b[0;32mreturn\u001b[0m \u001b[0mself\u001b[0m\u001b[0;34m.\u001b[0m\u001b[0mapply_standard\u001b[0m\u001b[0;34m(\u001b[0m\u001b[0;34m)\u001b[0m\u001b[0;34m\u001b[0m\u001b[0;34m\u001b[0m\u001b[0m\n\u001b[0m\u001b[1;32m   1044\u001b[0m \u001b[0;34m\u001b[0m\u001b[0m\n\u001b[1;32m   1045\u001b[0m     \u001b[0;32mdef\u001b[0m \u001b[0magg\u001b[0m\u001b[0;34m(\u001b[0m\u001b[0mself\u001b[0m\u001b[0;34m)\u001b[0m\u001b[0;34m:\u001b[0m\u001b[0;34m\u001b[0m\u001b[0;34m\u001b[0m\u001b[0m\n",
      "\u001b[0;32m/opt/anaconda3/envs/Annotator/lib/python3.7/site-packages/pandas/core/apply.py\u001b[0m in \u001b[0;36mapply_standard\u001b[0;34m(self)\u001b[0m\n\u001b[1;32m   1100\u001b[0m                     \u001b[0mvalues\u001b[0m\u001b[0;34m,\u001b[0m\u001b[0;34m\u001b[0m\u001b[0;34m\u001b[0m\u001b[0m\n\u001b[1;32m   1101\u001b[0m                     \u001b[0mf\u001b[0m\u001b[0;34m,\u001b[0m  \u001b[0;31m# type: ignore[arg-type]\u001b[0m\u001b[0;34m\u001b[0m\u001b[0;34m\u001b[0m\u001b[0m\n\u001b[0;32m-> 1102\u001b[0;31m                     \u001b[0mconvert\u001b[0m\u001b[0;34m=\u001b[0m\u001b[0mself\u001b[0m\u001b[0;34m.\u001b[0m\u001b[0mconvert_dtype\u001b[0m\u001b[0;34m,\u001b[0m\u001b[0;34m\u001b[0m\u001b[0;34m\u001b[0m\u001b[0m\n\u001b[0m\u001b[1;32m   1103\u001b[0m                 )\n\u001b[1;32m   1104\u001b[0m \u001b[0;34m\u001b[0m\u001b[0m\n",
      "\u001b[0;32m/opt/anaconda3/envs/Annotator/lib/python3.7/site-packages/pandas/_libs/lib.pyx\u001b[0m in \u001b[0;36mpandas._libs.lib.map_infer\u001b[0;34m()\u001b[0m\n",
      "\u001b[0;32m<ipython-input-5-6f9f798f6186>\u001b[0m in \u001b[0;36mtranslate\u001b[0;34m(text)\u001b[0m\n\u001b[1;32m      1\u001b[0m \u001b[0;32mdef\u001b[0m \u001b[0mtranslate\u001b[0m\u001b[0;34m(\u001b[0m\u001b[0mtext\u001b[0m\u001b[0;34m:\u001b[0m\u001b[0mstr\u001b[0m\u001b[0;34m)\u001b[0m \u001b[0;34m->\u001b[0m \u001b[0mstr\u001b[0m\u001b[0;34m:\u001b[0m\u001b[0;34m\u001b[0m\u001b[0;34m\u001b[0m\u001b[0m\n\u001b[1;32m      2\u001b[0m     \u001b[0;32mtry\u001b[0m\u001b[0;34m:\u001b[0m\u001b[0;34m\u001b[0m\u001b[0;34m\u001b[0m\u001b[0m\n\u001b[0;32m----> 3\u001b[0;31m         \u001b[0mtranslate\u001b[0m \u001b[0;34m=\u001b[0m \u001b[0mtranslator\u001b[0m\u001b[0;34m.\u001b[0m\u001b[0mtranslate\u001b[0m\u001b[0;34m(\u001b[0m\u001b[0mtext\u001b[0m\u001b[0;34m,\u001b[0m \u001b[0msrc\u001b[0m\u001b[0;34m=\u001b[0m\u001b[0;34m'de'\u001b[0m\u001b[0;34m,\u001b[0m \u001b[0mdest\u001b[0m\u001b[0;34m=\u001b[0m\u001b[0;34m'en'\u001b[0m\u001b[0;34m)\u001b[0m\u001b[0;34m.\u001b[0m\u001b[0mtext\u001b[0m\u001b[0;34m\u001b[0m\u001b[0;34m\u001b[0m\u001b[0m\n\u001b[0m\u001b[1;32m      4\u001b[0m     \u001b[0;32mexcept\u001b[0m \u001b[0mTypeError\u001b[0m\u001b[0;34m:\u001b[0m\u001b[0;34m\u001b[0m\u001b[0;34m\u001b[0m\u001b[0m\n\u001b[1;32m      5\u001b[0m         \u001b[0mtranslate\u001b[0m \u001b[0;34m=\u001b[0m \u001b[0;34m'type error'\u001b[0m\u001b[0;34m\u001b[0m\u001b[0;34m\u001b[0m\u001b[0m\n",
      "\u001b[0;32m/opt/anaconda3/envs/Annotator/lib/python3.7/site-packages/googletrans/client.py\u001b[0m in \u001b[0;36mtranslate\u001b[0;34m(self, text, dest, src)\u001b[0m\n\u001b[1;32m    192\u001b[0m \u001b[0;34m\u001b[0m\u001b[0m\n\u001b[1;32m    193\u001b[0m         \u001b[0morigin\u001b[0m \u001b[0;34m=\u001b[0m \u001b[0mtext\u001b[0m\u001b[0;34m\u001b[0m\u001b[0;34m\u001b[0m\u001b[0m\n\u001b[0;32m--> 194\u001b[0;31m         \u001b[0mdata\u001b[0m\u001b[0;34m,\u001b[0m \u001b[0mresponse\u001b[0m \u001b[0;34m=\u001b[0m \u001b[0mself\u001b[0m\u001b[0;34m.\u001b[0m\u001b[0m_translate\u001b[0m\u001b[0;34m(\u001b[0m\u001b[0mtext\u001b[0m\u001b[0;34m,\u001b[0m \u001b[0mdest\u001b[0m\u001b[0;34m,\u001b[0m \u001b[0msrc\u001b[0m\u001b[0;34m)\u001b[0m\u001b[0;34m\u001b[0m\u001b[0;34m\u001b[0m\u001b[0m\n\u001b[0m\u001b[1;32m    195\u001b[0m \u001b[0;34m\u001b[0m\u001b[0m\n\u001b[1;32m    196\u001b[0m         \u001b[0mtoken_found\u001b[0m \u001b[0;34m=\u001b[0m \u001b[0;32mFalse\u001b[0m\u001b[0;34m\u001b[0m\u001b[0;34m\u001b[0m\u001b[0m\n",
      "\u001b[0;32m/opt/anaconda3/envs/Annotator/lib/python3.7/site-packages/googletrans/client.py\u001b[0m in \u001b[0;36m_translate\u001b[0;34m(self, text, dest, src)\u001b[0m\n\u001b[1;32m    122\u001b[0m         \u001b[0;32mif\u001b[0m \u001b[0mr\u001b[0m\u001b[0;34m.\u001b[0m\u001b[0mstatus_code\u001b[0m \u001b[0;34m!=\u001b[0m \u001b[0;36m200\u001b[0m \u001b[0;32mand\u001b[0m \u001b[0mself\u001b[0m\u001b[0;34m.\u001b[0m\u001b[0mraise_Exception\u001b[0m\u001b[0;34m:\u001b[0m\u001b[0;34m\u001b[0m\u001b[0;34m\u001b[0m\u001b[0m\n\u001b[1;32m    123\u001b[0m             raise Exception('Unexpected status code \"{}\" from {}'.format(\n\u001b[0;32m--> 124\u001b[0;31m                 r.status_code, self.service_urls))\n\u001b[0m\u001b[1;32m    125\u001b[0m \u001b[0;34m\u001b[0m\u001b[0m\n\u001b[1;32m    126\u001b[0m         \u001b[0;32mreturn\u001b[0m \u001b[0mr\u001b[0m\u001b[0;34m.\u001b[0m\u001b[0mtext\u001b[0m\u001b[0;34m,\u001b[0m \u001b[0mr\u001b[0m\u001b[0;34m\u001b[0m\u001b[0;34m\u001b[0m\u001b[0m\n",
      "\u001b[0;31mException\u001b[0m: Unexpected status code \"429\" from ('translate.google.com',)"
     ]
    }
   ],
   "source": [
    "questions['beerslaw_en'] = questions['beerslaw'].apply(translate)\n",
    "questions['formula_en'] = questions['formula'].apply(translate)"
   ]
  },
  {
   "cell_type": "code",
   "execution_count": null,
   "id": "e1fa7686",
   "metadata": {
    "ExecuteTime": {
     "end_time": "2021-10-27T12:12:58.182742Z",
     "start_time": "2021-10-27T12:08:45.603Z"
    }
   },
   "outputs": [],
   "source": [
    "rankings['beerslaw_en'] = rankings['beerslaw'].apply(lambda x: translate)\n",
    "rankings['formula_en'] = rankings['formula'].apply(lambda x: translate)"
   ]
  },
  {
   "cell_type": "code",
   "execution_count": null,
   "id": "e73e1507",
   "metadata": {
    "ExecuteTime": {
     "end_time": "2021-10-27T12:12:58.184551Z",
     "start_time": "2021-10-27T12:08:49.516Z"
    }
   },
   "outputs": [],
   "source": [
    "some_questions['beerslaw_en'] = some_questions['beerslaw'].apply(translate)\n",
    "some_questions['formula_en'] = some_questions['formula'].apply(translate)"
   ]
  },
  {
   "cell_type": "code",
   "execution_count": 8,
   "id": "38fa0946",
   "metadata": {
    "ExecuteTime": {
     "end_time": "2021-10-27T08:10:52.736640Z",
     "start_time": "2021-10-27T08:10:52.720216Z"
    }
   },
   "outputs": [],
   "source": [
    "with open('../../data/post_test/questions.pkl', 'wb') as fp:\n",
    "    pickle.dump(questions, fp)\n",
    "    # full questions\n",
    "    \n",
    "with open('../../data/post_test/rankings.pkl', 'wb') as fp:\n",
    "    pickle.dump(rankings, fp)\n",
    "    # rankings completed\n",
    "    \n",
    "with open('../../data/post_test/some_questions.pkl', 'wb') as fp:\n",
    "    pickle.dump(some_questions, fp)\n",
    "    # partial questions"
   ]
  },
  {
   "cell_type": "code",
   "execution_count": null,
   "id": "29180930",
   "metadata": {},
   "outputs": [],
   "source": []
  },
  {
   "cell_type": "code",
   "execution_count": 2,
   "id": "d3743dda",
   "metadata": {
    "ExecuteTime": {
     "end_time": "2021-10-27T12:05:57.921882Z",
     "start_time": "2021-10-27T12:05:56.905428Z"
    }
   },
   "outputs": [
    {
     "name": "stdout",
     "output_type": "stream",
     "text": [
      "I am a little duck\n"
     ]
    }
   ],
   "source": [
    "\n",
    "results =translator.translate('Je suis un petit canard')\n",
    "print(results.text)"
   ]
  },
  {
   "cell_type": "code",
   "execution_count": null,
   "id": "36145486",
   "metadata": {},
   "outputs": [],
   "source": []
  },
  {
   "cell_type": "code",
   "execution_count": null,
   "id": "b068aefa",
   "metadata": {},
   "outputs": [],
   "source": []
  },
  {
   "cell_type": "code",
   "execution_count": null,
   "id": "e93ef5c4",
   "metadata": {},
   "outputs": [],
   "source": []
  },
  {
   "cell_type": "code",
   "execution_count": null,
   "id": "7a0089f7",
   "metadata": {},
   "outputs": [],
   "source": []
  },
  {
   "cell_type": "code",
   "execution_count": null,
   "id": "6eb8a03f",
   "metadata": {},
   "outputs": [],
   "source": []
  },
  {
   "cell_type": "code",
   "execution_count": null,
   "id": "1efec424",
   "metadata": {},
   "outputs": [],
   "source": []
  },
  {
   "cell_type": "code",
   "execution_count": null,
   "id": "3b85d8e6",
   "metadata": {},
   "outputs": [],
   "source": []
  },
  {
   "cell_type": "code",
   "execution_count": null,
   "id": "f366b0e3",
   "metadata": {},
   "outputs": [],
   "source": []
  },
  {
   "cell_type": "code",
   "execution_count": null,
   "id": "c646d387",
   "metadata": {},
   "outputs": [],
   "source": []
  },
  {
   "cell_type": "code",
   "execution_count": null,
   "id": "f251a7a1",
   "metadata": {},
   "outputs": [],
   "source": []
  },
  {
   "cell_type": "code",
   "execution_count": null,
   "id": "1945d67f",
   "metadata": {},
   "outputs": [],
   "source": []
  },
  {
   "cell_type": "code",
   "execution_count": null,
   "id": "5a21383f",
   "metadata": {},
   "outputs": [],
   "source": []
  }
 ],
 "metadata": {
  "kernelspec": {
   "display_name": "Python 3",
   "language": "python",
   "name": "python3"
  },
  "language_info": {
   "codemirror_mode": {
    "name": "ipython",
    "version": 3
   },
   "file_extension": ".py",
   "mimetype": "text/x-python",
   "name": "python",
   "nbconvert_exporter": "python",
   "pygments_lexer": "ipython3",
   "version": "3.7.11"
  },
  "toc": {
   "base_numbering": 1,
   "nav_menu": {},
   "number_sections": true,
   "sideBar": true,
   "skip_h1_title": false,
   "title_cell": "Table of Contents",
   "title_sidebar": "Contents",
   "toc_cell": false,
   "toc_position": {},
   "toc_section_display": true,
   "toc_window_display": false
  }
 },
 "nbformat": 4,
 "nbformat_minor": 5
}
