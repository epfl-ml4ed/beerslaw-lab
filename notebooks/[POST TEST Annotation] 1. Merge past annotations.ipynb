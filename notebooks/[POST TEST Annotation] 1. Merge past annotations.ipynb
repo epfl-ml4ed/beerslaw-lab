{
 "cells": [
  {
   "cell_type": "markdown",
   "id": "91350ec2",
   "metadata": {},
   "source": [
    "This notebook is used to merge the old annotations with the updated dataframes.\n",
    "Once this is done, we can extract the non annotated data, put them into a new dataframe, relabel them, and remerge them in this notebook to."
   ]
  },
  {
   "cell_type": "code",
   "execution_count": 1,
   "id": "cba703d7",
   "metadata": {
    "ExecuteTime": {
     "end_time": "2021-11-22T15:03:23.505808Z",
     "start_time": "2021-11-22T15:03:23.187800Z"
    }
   },
   "outputs": [],
   "source": [
    "import os\n",
    "import yaml\n",
    "import pickle\n",
    "\n",
    "import numpy as np\n",
    "import pandas as pd\n",
    "pd.set_option('display.max_columns', None)"
   ]
  },
  {
   "cell_type": "markdown",
   "id": "14eb97c6",
   "metadata": {},
   "source": [
    "# Post Test Data"
   ]
  },
  {
   "cell_type": "code",
   "execution_count": 2,
   "id": "f2ba431a",
   "metadata": {
    "ExecuteTime": {
     "end_time": "2021-11-22T15:03:23.594343Z",
     "start_time": "2021-11-22T15:03:23.566236Z"
    }
   },
   "outputs": [],
   "source": [
    "# Post test\n",
    "with open('../../data/post_test/questions.pkl', 'rb') as fp:\n",
    "    questions = pickle.load(fp)\n",
    "    \n",
    "with open('../../data/post_test/rankings.pkl', 'rb') as fp:\n",
    "    rankings = pickle.load(fp)\n",
    "    \n",
    "with open('../../data/post_test/some_questions.pkl', 'rb') as fp:\n",
    "    some_questions = pickle.load(fp)\n",
    "    \n",
    "with open('../../data/post_test/some.pkl', 'rb') as fp:\n",
    "    some = pickle.load(fp)"
   ]
  },
  {
   "cell_type": "markdown",
   "id": "d4b47cbb",
   "metadata": {},
   "source": [
    "# First iteration of labelling\n",
    "Here, we will merge the iteration data for the three first versions."
   ]
  },
  {
   "cell_type": "markdown",
   "id": "5f83fafb",
   "metadata": {},
   "source": [
    "## Question merging"
   ]
  },
  {
   "cell_type": "code",
   "execution_count": 3,
   "id": "4bb755a5",
   "metadata": {
    "ExecuteTime": {
     "end_time": "2021-11-22T15:03:24.395995Z",
     "start_time": "2021-11-22T15:03:24.392945Z"
    }
   },
   "outputs": [],
   "source": [
    "annotation_root = '../../data/post_test/annotations/'"
   ]
  },
  {
   "cell_type": "markdown",
   "id": "c52e0466",
   "metadata": {},
   "source": [
    "### question 7\n",
    "**Width is halved** \\\n",
    "Answer: 0.37 "
   ]
  },
  {
   "cell_type": "code",
   "execution_count": 4,
   "id": "af71e99f",
   "metadata": {
    "ExecuteTime": {
     "end_time": "2021-11-22T15:03:08.331710Z",
     "start_time": "2021-11-22T15:03:08.321325Z"
    }
   },
   "outputs": [],
   "source": [
    "seven = pd.read_csv(annotation_root + 'q1.csv', sep='\\t', index_col=0)\n",
    "seven = seven.drop('index', axis=1)\n",
    "seven = seven.rename(columns={'label_seven': 'q1_label', 'flag_label_seven': 'q1_flag'})"
   ]
  },
  {
   "cell_type": "code",
   "execution_count": 5,
   "id": "25e48c72",
   "metadata": {
    "ExecuteTime": {
     "end_time": "2021-11-22T15:03:08.763282Z",
     "start_time": "2021-11-22T15:03:08.753452Z"
    }
   },
   "outputs": [],
   "source": [
    "some_questions = some_questions.merge(\n",
    "    seven, on=['consent', 'field', 'gender', 'language', 'level', 'username', 'year', 'q1'],\n",
    "    how='left'\n",
    ")"
   ]
  },
  {
   "cell_type": "markdown",
   "id": "c875eaa6",
   "metadata": {},
   "source": [
    "### question 8\n",
    "**Concentration is tripled**\\\n",
    "answer: 1.59"
   ]
  },
  {
   "cell_type": "code",
   "execution_count": 6,
   "id": "0ee96c2a",
   "metadata": {
    "ExecuteTime": {
     "end_time": "2021-11-22T15:03:09.301881Z",
     "start_time": "2021-11-22T15:03:09.293223Z"
    }
   },
   "outputs": [],
   "source": [
    "eight = pd.read_csv(annotation_root + 'q2.csv', sep='\\t', index_col=0)\n",
    "eight = eight.drop('index', axis=1)\n",
    "eight = eight.rename(columns={'label_eight':'q2_label', 'flag_label_eight': 'q2_flag'})"
   ]
  },
  {
   "cell_type": "code",
   "execution_count": 7,
   "id": "a43841c1",
   "metadata": {
    "ExecuteTime": {
     "end_time": "2021-11-22T15:03:09.600941Z",
     "start_time": "2021-11-22T15:03:09.592474Z"
    }
   },
   "outputs": [],
   "source": [
    "some_questions = some_questions.merge(\n",
    "    eight, on=['consent', 'field', 'gender', 'language', 'level', 'username', 'year', 'q2'],\n",
    "    how='left'\n",
    ")"
   ]
  },
  {
   "cell_type": "markdown",
   "id": "e725f84c",
   "metadata": {},
   "source": [
    "### question 9\n",
    "**Width is halved, Concentration is doubled** \\\n",
    "answer: 0.96"
   ]
  },
  {
   "cell_type": "code",
   "execution_count": 8,
   "id": "dae1df9b",
   "metadata": {
    "ExecuteTime": {
     "end_time": "2021-11-22T15:03:09.961409Z",
     "start_time": "2021-11-22T15:03:09.953091Z"
    }
   },
   "outputs": [],
   "source": [
    "nine = pd.read_csv(annotation_root + 'q3.csv', sep='\\t', index_col=0)\n",
    "nine = nine.drop('index', axis=1)\n",
    "nine = nine.rename(columns={'label_nine':'q3_label', 'flag_label_q3':'q3_flag'})"
   ]
  },
  {
   "cell_type": "code",
   "execution_count": 9,
   "id": "bba879b4",
   "metadata": {
    "ExecuteTime": {
     "end_time": "2021-11-22T15:03:10.128748Z",
     "start_time": "2021-11-22T15:03:10.120730Z"
    }
   },
   "outputs": [],
   "source": [
    "some_questions = some_questions.merge(\n",
    "    nine, on=['consent', 'field', 'gender', 'language', 'level', 'username', 'year', 'q3'],\n",
    "    how='left'\n",
    ")"
   ]
  },
  {
   "cell_type": "markdown",
   "id": "d4cdd1e4",
   "metadata": {},
   "source": [
    "### Question 10\n",
    "**Width is quadrupled, concentration is thirded(?)** \\\n",
    "answer: 0.8\n"
   ]
  },
  {
   "cell_type": "code",
   "execution_count": 10,
   "id": "19564d65",
   "metadata": {
    "ExecuteTime": {
     "end_time": "2021-11-22T15:03:10.473954Z",
     "start_time": "2021-11-22T15:03:10.465971Z"
    }
   },
   "outputs": [],
   "source": [
    "ten = pd.read_csv(annotation_root + 'q4.csv', sep='\\t', index_col=0)\n",
    "ten = ten.drop('index', axis=1)\n",
    "ten = ten.rename(columns={'label_ten': 'q4_label', 'flag_label_q4': 'q4_flag'})"
   ]
  },
  {
   "cell_type": "code",
   "execution_count": 11,
   "id": "66766ca7",
   "metadata": {
    "ExecuteTime": {
     "end_time": "2021-11-22T15:03:10.672457Z",
     "start_time": "2021-11-22T15:03:10.662412Z"
    }
   },
   "outputs": [],
   "source": [
    "some_questions = some_questions.merge(\n",
    "    ten, on=['consent', 'field', 'gender', 'language', 'level', 'username', 'year', 'q4'],\n",
    "    how='left'\n",
    ")"
   ]
  },
  {
   "cell_type": "markdown",
   "id": "74f57e66",
   "metadata": {},
   "source": [
    "## Extract non labelled entries"
   ]
  },
  {
   "cell_type": "code",
   "execution_count": 12,
   "id": "d3a2b99d",
   "metadata": {
    "ExecuteTime": {
     "end_time": "2021-11-22T15:03:11.359374Z",
     "start_time": "2021-11-22T15:03:11.349350Z"
    }
   },
   "outputs": [],
   "source": [
    "some_questions = some_questions.fillna('non-labelled')"
   ]
  },
  {
   "cell_type": "code",
   "execution_count": 13,
   "id": "05d0fe1b",
   "metadata": {
    "ExecuteTime": {
     "end_time": "2021-11-22T14:06:13.547092Z",
     "start_time": "2021-11-22T14:06:13.539984Z"
    }
   },
   "outputs": [],
   "source": [
    "non_labelled = some_questions[some_questions['q1'] == 'non-labelled']"
   ]
  },
  {
   "cell_type": "code",
   "execution_count": 14,
   "id": "907cd54c",
   "metadata": {
    "ExecuteTime": {
     "end_time": "2021-11-22T14:06:13.831336Z",
     "start_time": "2021-11-22T14:06:13.824753Z"
    }
   },
   "outputs": [],
   "source": [
    "non_labelled.to_csv('../../data/post_test/non_labelled.csv', sep='\\t')"
   ]
  },
  {
   "cell_type": "code",
   "execution_count": 15,
   "id": "ca23c298",
   "metadata": {
    "ExecuteTime": {
     "end_time": "2021-11-22T14:06:14.182930Z",
     "start_time": "2021-11-22T14:06:14.176922Z"
    }
   },
   "outputs": [],
   "source": [
    "with open('../../data/post_test/non_labelled.pkl', 'wb') as fp:\n",
    "    pickle.dump(non_labelled, fp)"
   ]
  },
  {
   "cell_type": "markdown",
   "id": "58dcd5a4",
   "metadata": {},
   "source": [
    "## Remerge"
   ]
  },
  {
   "cell_type": "code",
   "execution_count": 16,
   "id": "b7565348",
   "metadata": {
    "ExecuteTime": {
     "end_time": "2021-11-22T14:06:15.002233Z",
     "start_time": "2021-11-22T14:06:14.987941Z"
    }
   },
   "outputs": [],
   "source": [
    "# Post test\n",
    "with open('../../data/post_test/questions.pkl', 'rb') as fp:\n",
    "    questions = pickle.load(fp)\n",
    "\n",
    "with open('../../data/post_test/rankings.pkl', 'rb') as fp:\n",
    "    rankings = pickle.load(fp)\n",
    "    \n",
    "with open('../../data/post_test/some_questions.pkl', 'rb') as fp:\n",
    "    some_questions = pickle.load(fp)"
   ]
  },
  {
   "cell_type": "code",
   "execution_count": 17,
   "id": "4c6c9ab0",
   "metadata": {
    "ExecuteTime": {
     "end_time": "2021-11-22T14:06:15.428837Z",
     "start_time": "2021-11-22T14:06:15.426209Z"
    }
   },
   "outputs": [],
   "source": [
    "merging_columns = [\n",
    "    'consent', 'date', 'field', 'gender', 'language', 'level', 'username', 'year'\n",
    "]"
   ]
  },
  {
   "cell_type": "markdown",
   "id": "ce7e3b8b",
   "metadata": {},
   "source": [
    "### question 7\n",
    "**Width is halved** \\\n",
    "Answer: 0.37 "
   ]
  },
  {
   "cell_type": "code",
   "execution_count": 11,
   "id": "9c401caf",
   "metadata": {
    "ExecuteTime": {
     "end_time": "2021-11-03T14:50:43.545333Z",
     "start_time": "2021-11-03T14:50:43.533603Z"
    }
   },
   "outputs": [],
   "source": [
    "q1 = pd.read_csv(annotation_root + 'q1.csv', sep='\\t', index_col=0)\n",
    "q1 = q1[merging_columns + ['q1', 'label_seven', 'flag_label_seven']]\n",
    "\n",
    "seven = seven[merging_columns + ['seven', 'label_seven']]\n",
    "seven = seven.rename(columns={'seven': 'q1'})\n",
    "\n",
    "q1 = q1.append(seven)\n",
    "q1 = q1.rename(columns={'label_seven': 'label_q1', 'flag_label_seven': 'flag_q1'})"
   ]
  },
  {
   "cell_type": "code",
   "execution_count": 12,
   "id": "cb915a04",
   "metadata": {
    "ExecuteTime": {
     "end_time": "2021-11-03T14:50:43.772125Z",
     "start_time": "2021-11-03T14:50:43.750610Z"
    }
   },
   "outputs": [
    {
     "data": {
      "text/html": [
       "<div>\n",
       "<style scoped>\n",
       "    .dataframe tbody tr th:only-of-type {\n",
       "        vertical-align: middle;\n",
       "    }\n",
       "\n",
       "    .dataframe tbody tr th {\n",
       "        vertical-align: top;\n",
       "    }\n",
       "\n",
       "    .dataframe thead th {\n",
       "        text-align: right;\n",
       "    }\n",
       "</style>\n",
       "<table border=\"1\" class=\"dataframe\">\n",
       "  <thead>\n",
       "    <tr style=\"text-align: right;\">\n",
       "      <th></th>\n",
       "      <th>consent</th>\n",
       "      <th>date</th>\n",
       "      <th>field</th>\n",
       "      <th>gender</th>\n",
       "      <th>language</th>\n",
       "      <th>level</th>\n",
       "      <th>username</th>\n",
       "      <th>year</th>\n",
       "      <th>q1</th>\n",
       "      <th>label_q1</th>\n",
       "      <th>flag_q1</th>\n",
       "    </tr>\n",
       "  </thead>\n",
       "  <tbody>\n",
       "    <tr>\n",
       "      <th>0</th>\n",
       "      <td>1.0</td>\n",
       "      <td>non-labelled</td>\n",
       "      <td>non-labelled</td>\n",
       "      <td>2.0</td>\n",
       "      <td>Français</td>\n",
       "      <td>non-labelled</td>\n",
       "      <td>4jchqv4d</td>\n",
       "      <td>1st</td>\n",
       "      <td>0.37</td>\n",
       "      <td>correct</td>\n",
       "      <td>NaN</td>\n",
       "    </tr>\n",
       "    <tr>\n",
       "      <th>1</th>\n",
       "      <td>1.0</td>\n",
       "      <td>non-labelled</td>\n",
       "      <td>non-labelled</td>\n",
       "      <td>1.0</td>\n",
       "      <td>Français</td>\n",
       "      <td>non-labelled</td>\n",
       "      <td>u6c3cp6c</td>\n",
       "      <td>1st</td>\n",
       "      <td>0.37</td>\n",
       "      <td>correct</td>\n",
       "      <td>NaN</td>\n",
       "    </tr>\n",
       "    <tr>\n",
       "      <th>2</th>\n",
       "      <td>1.0</td>\n",
       "      <td>non-labelled</td>\n",
       "      <td>non-labelled</td>\n",
       "      <td>1.0</td>\n",
       "      <td>Français</td>\n",
       "      <td>non-labelled</td>\n",
       "      <td>m4zvafhs</td>\n",
       "      <td>1st</td>\n",
       "      <td>une absorbance plus grande que celle de gauche</td>\n",
       "      <td>larger</td>\n",
       "      <td>NaN</td>\n",
       "    </tr>\n",
       "    <tr>\n",
       "      <th>3</th>\n",
       "      <td>1.0</td>\n",
       "      <td>non-labelled</td>\n",
       "      <td>non-labelled</td>\n",
       "      <td>1.0</td>\n",
       "      <td>Français</td>\n",
       "      <td>non-labelled</td>\n",
       "      <td>u25vrfyy</td>\n",
       "      <td>1st</td>\n",
       "      <td>1.48</td>\n",
       "      <td>inverse</td>\n",
       "      <td>NaN</td>\n",
       "    </tr>\n",
       "    <tr>\n",
       "      <th>4</th>\n",
       "      <td>1.0</td>\n",
       "      <td>non-labelled</td>\n",
       "      <td>non-labelled</td>\n",
       "      <td>1.0</td>\n",
       "      <td>Français</td>\n",
       "      <td>non-labelled</td>\n",
       "      <td>c9dj36r7</td>\n",
       "      <td>1st</td>\n",
       "      <td>0.37</td>\n",
       "      <td>correct</td>\n",
       "      <td>NaN</td>\n",
       "    </tr>\n",
       "  </tbody>\n",
       "</table>\n",
       "</div>"
      ],
      "text/plain": [
       "  consent          date         field gender  language         level  \\\n",
       "0     1.0  non-labelled  non-labelled    2.0  Français  non-labelled   \n",
       "1     1.0  non-labelled  non-labelled    1.0  Français  non-labelled   \n",
       "2     1.0  non-labelled  non-labelled    1.0  Français  non-labelled   \n",
       "3     1.0  non-labelled  non-labelled    1.0  Français  non-labelled   \n",
       "4     1.0  non-labelled  non-labelled    1.0  Français  non-labelled   \n",
       "\n",
       "   username year                                              q1 label_q1  \\\n",
       "0  4jchqv4d  1st                                            0.37  correct   \n",
       "1  u6c3cp6c  1st                                            0.37  correct   \n",
       "2  m4zvafhs  1st  une absorbance plus grande que celle de gauche   larger   \n",
       "3  u25vrfyy  1st                                            1.48  inverse   \n",
       "4  c9dj36r7  1st                                            0.37  correct   \n",
       "\n",
       "   flag_q1  \n",
       "0      NaN  \n",
       "1      NaN  \n",
       "2      NaN  \n",
       "3      NaN  \n",
       "4      NaN  "
      ]
     },
     "execution_count": 12,
     "metadata": {},
     "output_type": "execute_result"
    }
   ],
   "source": [
    "q1.head()"
   ]
  },
  {
   "cell_type": "markdown",
   "id": "2b70da1e",
   "metadata": {},
   "source": [
    "### question 8\n",
    "**Concentration is tripled**\\\n",
    "answer: 1.59"
   ]
  },
  {
   "cell_type": "code",
   "execution_count": 13,
   "id": "e93364b8",
   "metadata": {
    "ExecuteTime": {
     "end_time": "2021-11-03T14:50:45.353997Z",
     "start_time": "2021-11-03T14:50:45.342786Z"
    }
   },
   "outputs": [],
   "source": [
    "q2 = pd.read_csv(annotation_root + 'q2.csv', sep='\\t', index_col=0)\n",
    "q2 = q2[merging_columns + ['q2', 'label_eight', 'flag_label_eight']]\n",
    "\n",
    "eight = eight[merging_columns + ['eight', 'label_eight']]\n",
    "eight = eight.rename(columns={'eight': 'q2'})\n",
    "\n",
    "q2 = q2.append(eight)\n",
    "q2 = q2.rename(columns={'label_eight': 'label_q2', 'flag_label_eight': 'flag_q2'})"
   ]
  },
  {
   "cell_type": "code",
   "execution_count": 14,
   "id": "06bab688",
   "metadata": {
    "ExecuteTime": {
     "end_time": "2021-11-03T14:50:45.509736Z",
     "start_time": "2021-11-03T14:50:45.496428Z"
    }
   },
   "outputs": [
    {
     "data": {
      "text/html": [
       "<div>\n",
       "<style scoped>\n",
       "    .dataframe tbody tr th:only-of-type {\n",
       "        vertical-align: middle;\n",
       "    }\n",
       "\n",
       "    .dataframe tbody tr th {\n",
       "        vertical-align: top;\n",
       "    }\n",
       "\n",
       "    .dataframe thead th {\n",
       "        text-align: right;\n",
       "    }\n",
       "</style>\n",
       "<table border=\"1\" class=\"dataframe\">\n",
       "  <thead>\n",
       "    <tr style=\"text-align: right;\">\n",
       "      <th></th>\n",
       "      <th>consent</th>\n",
       "      <th>date</th>\n",
       "      <th>field</th>\n",
       "      <th>gender</th>\n",
       "      <th>language</th>\n",
       "      <th>level</th>\n",
       "      <th>username</th>\n",
       "      <th>year</th>\n",
       "      <th>q2</th>\n",
       "      <th>label_q2</th>\n",
       "      <th>flag_q2</th>\n",
       "    </tr>\n",
       "  </thead>\n",
       "  <tbody>\n",
       "    <tr>\n",
       "      <th>0</th>\n",
       "      <td>1.0</td>\n",
       "      <td>non-labelled</td>\n",
       "      <td>non-labelled</td>\n",
       "      <td>2.0</td>\n",
       "      <td>Français</td>\n",
       "      <td>non-labelled</td>\n",
       "      <td>4jchqv4d</td>\n",
       "      <td>1st</td>\n",
       "      <td>1.59</td>\n",
       "      <td>correct</td>\n",
       "      <td>NaN</td>\n",
       "    </tr>\n",
       "    <tr>\n",
       "      <th>1</th>\n",
       "      <td>1.0</td>\n",
       "      <td>non-labelled</td>\n",
       "      <td>non-labelled</td>\n",
       "      <td>1.0</td>\n",
       "      <td>Français</td>\n",
       "      <td>non-labelled</td>\n",
       "      <td>u6c3cp6c</td>\n",
       "      <td>1st</td>\n",
       "      <td>1.59</td>\n",
       "      <td>correct</td>\n",
       "      <td>NaN</td>\n",
       "    </tr>\n",
       "    <tr>\n",
       "      <th>2</th>\n",
       "      <td>1.0</td>\n",
       "      <td>non-labelled</td>\n",
       "      <td>non-labelled</td>\n",
       "      <td>1.0</td>\n",
       "      <td>Français</td>\n",
       "      <td>non-labelled</td>\n",
       "      <td>m4zvafhs</td>\n",
       "      <td>1st</td>\n",
       "      <td>plus grande que celle de gauche</td>\n",
       "      <td>larger</td>\n",
       "      <td>NaN</td>\n",
       "    </tr>\n",
       "    <tr>\n",
       "      <th>3</th>\n",
       "      <td>1.0</td>\n",
       "      <td>non-labelled</td>\n",
       "      <td>non-labelled</td>\n",
       "      <td>1.0</td>\n",
       "      <td>Français</td>\n",
       "      <td>non-labelled</td>\n",
       "      <td>u25vrfyy</td>\n",
       "      <td>1st</td>\n",
       "      <td>0.18</td>\n",
       "      <td>smaller</td>\n",
       "      <td>NaN</td>\n",
       "    </tr>\n",
       "    <tr>\n",
       "      <th>4</th>\n",
       "      <td>1.0</td>\n",
       "      <td>non-labelled</td>\n",
       "      <td>non-labelled</td>\n",
       "      <td>1.0</td>\n",
       "      <td>Français</td>\n",
       "      <td>non-labelled</td>\n",
       "      <td>c9dj36r7</td>\n",
       "      <td>1st</td>\n",
       "      <td>0.53/3</td>\n",
       "      <td>inverse</td>\n",
       "      <td>NaN</td>\n",
       "    </tr>\n",
       "  </tbody>\n",
       "</table>\n",
       "</div>"
      ],
      "text/plain": [
       "  consent          date         field gender  language         level  \\\n",
       "0     1.0  non-labelled  non-labelled    2.0  Français  non-labelled   \n",
       "1     1.0  non-labelled  non-labelled    1.0  Français  non-labelled   \n",
       "2     1.0  non-labelled  non-labelled    1.0  Français  non-labelled   \n",
       "3     1.0  non-labelled  non-labelled    1.0  Français  non-labelled   \n",
       "4     1.0  non-labelled  non-labelled    1.0  Français  non-labelled   \n",
       "\n",
       "   username year                               q2 label_q2  flag_q2  \n",
       "0  4jchqv4d  1st                             1.59  correct      NaN  \n",
       "1  u6c3cp6c  1st                             1.59  correct      NaN  \n",
       "2  m4zvafhs  1st  plus grande que celle de gauche   larger      NaN  \n",
       "3  u25vrfyy  1st                             0.18  smaller      NaN  \n",
       "4  c9dj36r7  1st                           0.53/3  inverse      NaN  "
      ]
     },
     "execution_count": 14,
     "metadata": {},
     "output_type": "execute_result"
    }
   ],
   "source": [
    "q2.head()"
   ]
  },
  {
   "cell_type": "markdown",
   "id": "3e019b32",
   "metadata": {},
   "source": [
    "### question 9\n",
    "**Width is halved, Concentration is doubled** \\\n",
    "answer: 0.96"
   ]
  },
  {
   "cell_type": "code",
   "execution_count": 15,
   "id": "8b308c02",
   "metadata": {
    "ExecuteTime": {
     "end_time": "2021-11-03T14:50:45.854197Z",
     "start_time": "2021-11-03T14:50:45.842489Z"
    }
   },
   "outputs": [],
   "source": [
    "q3 = pd.read_csv(annotation_root + 'q3.csv', sep='\\t', index_col=0)\n",
    "q3 = q3[merging_columns + ['q3', 'label_nine', 'flag_label_nine']]\n",
    "\n",
    "nine = nine[merging_columns + ['nine', 'label_nine']]\n",
    "nine = nine.rename(columns={'nine': 'q3'})\n",
    "\n",
    "q3 = q3.append(nine)\n",
    "q3 = q3.rename(columns={'label_nine': 'label_q3', 'flag_label_nine': 'flag_q3'})"
   ]
  },
  {
   "cell_type": "markdown",
   "id": "7b1afae6",
   "metadata": {
    "ExecuteTime": {
     "end_time": "2021-11-03T11:45:19.691225Z",
     "start_time": "2021-11-03T11:45:19.688078Z"
    }
   },
   "source": [
    "### Question 10\n",
    "**Width is quadrupled, concentration is thirded(?)** \\\n",
    "answer: 0.8"
   ]
  },
  {
   "cell_type": "code",
   "execution_count": 15,
   "id": "2ab26a22",
   "metadata": {
    "ExecuteTime": {
     "end_time": "2021-11-22T12:13:00.105720Z",
     "start_time": "2021-11-22T12:13:00.084518Z"
    },
    "collapsed": true
   },
   "outputs": [
    {
     "ename": "KeyError",
     "evalue": "\"['label_ten', 'flag_label_ten'] not in index\"",
     "output_type": "error",
     "traceback": [
      "\u001b[0;31m---------------------------------------------------------------------------\u001b[0m",
      "\u001b[0;31mKeyError\u001b[0m                                  Traceback (most recent call last)",
      "\u001b[0;32m/var/folders/jy/0pp1md9x1358dt8g8k69srhr0000gp/T/ipykernel_21957/3960112526.py\u001b[0m in \u001b[0;36m<module>\u001b[0;34m\u001b[0m\n\u001b[1;32m      1\u001b[0m \u001b[0mq4\u001b[0m \u001b[0;34m=\u001b[0m \u001b[0mpd\u001b[0m\u001b[0;34m.\u001b[0m\u001b[0mread_csv\u001b[0m\u001b[0;34m(\u001b[0m\u001b[0mannotation_root\u001b[0m \u001b[0;34m+\u001b[0m \u001b[0;34m'q4.csv'\u001b[0m\u001b[0;34m,\u001b[0m \u001b[0msep\u001b[0m\u001b[0;34m=\u001b[0m\u001b[0;34m'\\t'\u001b[0m\u001b[0;34m,\u001b[0m \u001b[0mindex_col\u001b[0m\u001b[0;34m=\u001b[0m\u001b[0;36m0\u001b[0m\u001b[0;34m)\u001b[0m\u001b[0;34m\u001b[0m\u001b[0;34m\u001b[0m\u001b[0m\n\u001b[0;32m----> 2\u001b[0;31m \u001b[0mq4\u001b[0m \u001b[0;34m=\u001b[0m \u001b[0mq4\u001b[0m\u001b[0;34m[\u001b[0m\u001b[0mmerging_columns\u001b[0m \u001b[0;34m+\u001b[0m \u001b[0;34m[\u001b[0m\u001b[0;34m'q4'\u001b[0m\u001b[0;34m,\u001b[0m \u001b[0;34m'label_ten'\u001b[0m\u001b[0;34m,\u001b[0m \u001b[0;34m'flag_label_ten'\u001b[0m\u001b[0;34m]\u001b[0m\u001b[0;34m]\u001b[0m\u001b[0;34m\u001b[0m\u001b[0;34m\u001b[0m\u001b[0m\n\u001b[0m\u001b[1;32m      3\u001b[0m \u001b[0;34m\u001b[0m\u001b[0m\n\u001b[1;32m      4\u001b[0m \u001b[0mten\u001b[0m \u001b[0;34m=\u001b[0m \u001b[0mten\u001b[0m\u001b[0;34m[\u001b[0m\u001b[0mmerging_columns\u001b[0m \u001b[0;34m+\u001b[0m \u001b[0;34m[\u001b[0m\u001b[0;34m'ten'\u001b[0m\u001b[0;34m,\u001b[0m \u001b[0;34m'label_ten'\u001b[0m\u001b[0;34m]\u001b[0m\u001b[0;34m]\u001b[0m\u001b[0;34m\u001b[0m\u001b[0;34m\u001b[0m\u001b[0m\n\u001b[1;32m      5\u001b[0m \u001b[0mten\u001b[0m \u001b[0;34m=\u001b[0m \u001b[0mten\u001b[0m\u001b[0;34m.\u001b[0m\u001b[0mrename\u001b[0m\u001b[0;34m(\u001b[0m\u001b[0mcolumns\u001b[0m\u001b[0;34m=\u001b[0m\u001b[0;34m{\u001b[0m\u001b[0;34m'ten'\u001b[0m\u001b[0;34m:\u001b[0m \u001b[0;34m'q4'\u001b[0m\u001b[0;34m}\u001b[0m\u001b[0;34m)\u001b[0m\u001b[0;34m\u001b[0m\u001b[0;34m\u001b[0m\u001b[0m\n",
      "\u001b[0;32m/opt/anaconda3/envs/Phet/lib/python3.7/site-packages/pandas/core/frame.py\u001b[0m in \u001b[0;36m__getitem__\u001b[0;34m(self, key)\u001b[0m\n\u001b[1;32m   3462\u001b[0m             \u001b[0;32mif\u001b[0m \u001b[0mis_iterator\u001b[0m\u001b[0;34m(\u001b[0m\u001b[0mkey\u001b[0m\u001b[0;34m)\u001b[0m\u001b[0;34m:\u001b[0m\u001b[0;34m\u001b[0m\u001b[0;34m\u001b[0m\u001b[0m\n\u001b[1;32m   3463\u001b[0m                 \u001b[0mkey\u001b[0m \u001b[0;34m=\u001b[0m \u001b[0mlist\u001b[0m\u001b[0;34m(\u001b[0m\u001b[0mkey\u001b[0m\u001b[0;34m)\u001b[0m\u001b[0;34m\u001b[0m\u001b[0;34m\u001b[0m\u001b[0m\n\u001b[0;32m-> 3464\u001b[0;31m             \u001b[0mindexer\u001b[0m \u001b[0;34m=\u001b[0m \u001b[0mself\u001b[0m\u001b[0;34m.\u001b[0m\u001b[0mloc\u001b[0m\u001b[0;34m.\u001b[0m\u001b[0m_get_listlike_indexer\u001b[0m\u001b[0;34m(\u001b[0m\u001b[0mkey\u001b[0m\u001b[0;34m,\u001b[0m \u001b[0maxis\u001b[0m\u001b[0;34m=\u001b[0m\u001b[0;36m1\u001b[0m\u001b[0;34m)\u001b[0m\u001b[0;34m[\u001b[0m\u001b[0;36m1\u001b[0m\u001b[0;34m]\u001b[0m\u001b[0;34m\u001b[0m\u001b[0;34m\u001b[0m\u001b[0m\n\u001b[0m\u001b[1;32m   3465\u001b[0m \u001b[0;34m\u001b[0m\u001b[0m\n\u001b[1;32m   3466\u001b[0m         \u001b[0;31m# take() does not accept boolean indexers\u001b[0m\u001b[0;34m\u001b[0m\u001b[0;34m\u001b[0m\u001b[0;34m\u001b[0m\u001b[0m\n",
      "\u001b[0;32m/opt/anaconda3/envs/Phet/lib/python3.7/site-packages/pandas/core/indexing.py\u001b[0m in \u001b[0;36m_get_listlike_indexer\u001b[0;34m(self, key, axis)\u001b[0m\n\u001b[1;32m   1312\u001b[0m             \u001b[0mkeyarr\u001b[0m\u001b[0;34m,\u001b[0m \u001b[0mindexer\u001b[0m\u001b[0;34m,\u001b[0m \u001b[0mnew_indexer\u001b[0m \u001b[0;34m=\u001b[0m \u001b[0max\u001b[0m\u001b[0;34m.\u001b[0m\u001b[0m_reindex_non_unique\u001b[0m\u001b[0;34m(\u001b[0m\u001b[0mkeyarr\u001b[0m\u001b[0;34m)\u001b[0m\u001b[0;34m\u001b[0m\u001b[0;34m\u001b[0m\u001b[0m\n\u001b[1;32m   1313\u001b[0m \u001b[0;34m\u001b[0m\u001b[0m\n\u001b[0;32m-> 1314\u001b[0;31m         \u001b[0mself\u001b[0m\u001b[0;34m.\u001b[0m\u001b[0m_validate_read_indexer\u001b[0m\u001b[0;34m(\u001b[0m\u001b[0mkeyarr\u001b[0m\u001b[0;34m,\u001b[0m \u001b[0mindexer\u001b[0m\u001b[0;34m,\u001b[0m \u001b[0maxis\u001b[0m\u001b[0;34m)\u001b[0m\u001b[0;34m\u001b[0m\u001b[0;34m\u001b[0m\u001b[0m\n\u001b[0m\u001b[1;32m   1315\u001b[0m \u001b[0;34m\u001b[0m\u001b[0m\n\u001b[1;32m   1316\u001b[0m         if needs_i8_conversion(ax.dtype) or isinstance(\n",
      "\u001b[0;32m/opt/anaconda3/envs/Phet/lib/python3.7/site-packages/pandas/core/indexing.py\u001b[0m in \u001b[0;36m_validate_read_indexer\u001b[0;34m(self, key, indexer, axis)\u001b[0m\n\u001b[1;32m   1375\u001b[0m \u001b[0;34m\u001b[0m\u001b[0m\n\u001b[1;32m   1376\u001b[0m             \u001b[0mnot_found\u001b[0m \u001b[0;34m=\u001b[0m \u001b[0mlist\u001b[0m\u001b[0;34m(\u001b[0m\u001b[0mensure_index\u001b[0m\u001b[0;34m(\u001b[0m\u001b[0mkey\u001b[0m\u001b[0;34m)\u001b[0m\u001b[0;34m[\u001b[0m\u001b[0mmissing_mask\u001b[0m\u001b[0;34m.\u001b[0m\u001b[0mnonzero\u001b[0m\u001b[0;34m(\u001b[0m\u001b[0;34m)\u001b[0m\u001b[0;34m[\u001b[0m\u001b[0;36m0\u001b[0m\u001b[0;34m]\u001b[0m\u001b[0;34m]\u001b[0m\u001b[0;34m.\u001b[0m\u001b[0munique\u001b[0m\u001b[0;34m(\u001b[0m\u001b[0;34m)\u001b[0m\u001b[0;34m)\u001b[0m\u001b[0;34m\u001b[0m\u001b[0;34m\u001b[0m\u001b[0m\n\u001b[0;32m-> 1377\u001b[0;31m             \u001b[0;32mraise\u001b[0m \u001b[0mKeyError\u001b[0m\u001b[0;34m(\u001b[0m\u001b[0;34mf\"{not_found} not in index\"\u001b[0m\u001b[0;34m)\u001b[0m\u001b[0;34m\u001b[0m\u001b[0;34m\u001b[0m\u001b[0m\n\u001b[0m\u001b[1;32m   1378\u001b[0m \u001b[0;34m\u001b[0m\u001b[0m\n\u001b[1;32m   1379\u001b[0m \u001b[0;34m\u001b[0m\u001b[0m\n",
      "\u001b[0;31mKeyError\u001b[0m: \"['label_ten', 'flag_label_ten'] not in index\""
     ]
    }
   ],
   "source": [
    "q4 = pd.read_csv(annotation_root + 'q4.csv', sep='\\t', index_col=0)\n",
    "q4 = q4[merging_columns + ['q4', 'label_ten', 'flag_label_ten']]\n",
    "\n",
    "ten = ten[merging_columns + ['ten', 'label_ten']]\n",
    "ten = ten.rename(columns={'ten': 'q4'})\n",
    "\n",
    "q4 = q4.append(nine)\n",
    "q4 = q4.rename(columns={'label_ten': 'label_q4', 'flag_label_ten': 'flag_q4'})"
   ]
  },
  {
   "cell_type": "markdown",
   "id": "e49f234b",
   "metadata": {},
   "source": [
    "### Merge with some questions"
   ]
  },
  {
   "cell_type": "code",
   "execution_count": 16,
   "id": "16c306a3",
   "metadata": {
    "ExecuteTime": {
     "end_time": "2021-11-22T12:13:00.436549Z",
     "start_time": "2021-11-22T12:13:00.432682Z"
    }
   },
   "outputs": [],
   "source": [
    "merging_columns = [\n",
    "    'consent', 'field', 'gender', 'language', 'level', 'username', 'year'\n",
    "]"
   ]
  },
  {
   "cell_type": "code",
   "execution_count": 31,
   "id": "360eb158",
   "metadata": {
    "ExecuteTime": {
     "end_time": "2021-11-04T15:49:24.597308Z",
     "start_time": "2021-11-04T15:49:24.574916Z"
    }
   },
   "outputs": [],
   "source": [
    "some = some.merge(q1, on=merging_columns + ['q1'], how='left')\n",
    "some = some.merge(q2, on=merging_columns + ['q2'], how='left')\n",
    "some = some.merge(q3, on=merging_columns + ['q3'], how='left')\n",
    "some = some.merge(q4, on=merging_columns + ['q4'], how='left')"
   ]
  },
  {
   "cell_type": "markdown",
   "id": "ff70c66a",
   "metadata": {},
   "source": [
    "# Second iteration of labelling "
   ]
  },
  {
   "cell_type": "markdown",
   "id": "be09ff21",
   "metadata": {},
   "source": [
    "## Merge *some* with annotations"
   ]
  },
  {
   "cell_type": "code",
   "execution_count": 4,
   "id": "d3829fb0",
   "metadata": {
    "ExecuteTime": {
     "end_time": "2021-11-22T15:03:27.994597Z",
     "start_time": "2021-11-22T15:03:27.985310Z"
    }
   },
   "outputs": [],
   "source": [
    "prior = pd.read_csv(annotation_root + 'prior.tsv', sep='\\t', index_col=0)"
   ]
  },
  {
   "cell_type": "code",
   "execution_count": 5,
   "id": "45ca9e54",
   "metadata": {
    "ExecuteTime": {
     "end_time": "2021-11-22T15:03:28.164092Z",
     "start_time": "2021-11-22T15:03:28.126180Z"
    }
   },
   "outputs": [],
   "source": [
    "merging_columns = [\n",
    "    'field', 'gender', 'language', 'level', 'username', 'year', 'consent'\n",
    "]\n",
    "\n",
    "# Read data\n",
    "q1 = pd.read_csv(annotation_root + 'q1.csv', sep='\\t', index_col=0)\n",
    "q2 = pd.read_csv(annotation_root + 'q2.csv', sep='\\t', index_col=0)\n",
    "q3 = pd.read_csv(annotation_root + 'q3.csv', sep='\\t', index_col=0)\n",
    "q4 = pd.read_csv(annotation_root + 'q4.csv', sep='\\t', index_col=0)\n",
    "prior = pd.read_csv(annotation_root + 'prior.tsv', sep='\\t', index_col=0)\n",
    "\n",
    "# Process each of the annotation files\n",
    "q1 = q1.set_index('index')\n",
    "q2 = q2.set_index('index')\n",
    "q3 = q3.set_index('index')\n",
    "q4 = q4.set_index('index')\n",
    "\n",
    "def process_prior(row):\n",
    "    if row['decisions'] == 'v':\n",
    "        prior = row['Jade granular']\n",
    "    else:\n",
    "        prior = row['decisions']\n",
    "    prior = prior.replace('’', \"'\").replace(' ,', ',').replace(', ', ',')\n",
    "    return prior\n",
    "prior = prior.set_index('index')\n",
    "prior['prior_knowledge'] = prior.apply(process_prior, axis=1)\n",
    "prior = prior[['username', 'gender', 'field', 'prior_knowledge']]\n",
    "\n",
    "q1 = q1.rename(columns={'label_seven': 'q1_label', 'flag_label_seven': 'q1_flag'})\n",
    "q2 = q2.rename(columns={'label_eight': 'q2_label', 'flag_q2_label': 'q2_flag'})\n",
    "q3 = q3.rename(columns={'label_q3': 'q3_label', 'flag_label_q3': 'q3_flag'})\n",
    "q4 = q4.rename(columns={'label_q4': 'q4_label', 'flag_label_q4': 'q4_flag'})"
   ]
  },
  {
   "cell_type": "code",
   "execution_count": 6,
   "id": "4d9b3ea3",
   "metadata": {
    "ExecuteTime": {
     "end_time": "2021-11-22T15:03:28.607198Z",
     "start_time": "2021-11-22T15:03:28.577280Z"
    }
   },
   "outputs": [],
   "source": [
    "some = some.merge(q1, on=merging_columns + ['q1'], how='left')\n",
    "some = some.merge(q2, on=merging_columns + ['q2'], how='left')\n",
    "some = some.merge(q3, on=merging_columns + ['q3'], how='left')\n",
    "some = some.merge(q4, on=merging_columns + ['q4'], how='left')\n",
    "some = some.merge(prior, on=['username', 'gender', 'field'], how='left')"
   ]
  },
  {
   "cell_type": "markdown",
   "id": "4d61b056",
   "metadata": {},
   "source": [
    "## Merge *some* with the other dataframes"
   ]
  },
  {
   "cell_type": "code",
   "execution_count": 7,
   "id": "b443a0a1",
   "metadata": {
    "ExecuteTime": {
     "end_time": "2021-11-22T15:03:29.449139Z",
     "start_time": "2021-11-22T15:03:29.444137Z"
    }
   },
   "outputs": [],
   "source": [
    "some_columns = [\n",
    "    'q1', 'q1_label', 'q1_flag', \n",
    "    'q2', 'q2_label', 'q2_flag',\n",
    "    'q3', 'q3_label', 'q3_flag',\n",
    "    'q4', 'q4_label', 'q4_flag',\n",
    "    'prior_knowledge'\n",
    "]\n",
    "\n",
    "dataframe_merging_columns = merging_columns + ['q1', 'q2', 'q3', 'q4']\n",
    "some_reduced = some[merging_columns + some_columns]"
   ]
  },
  {
   "cell_type": "code",
   "execution_count": 8,
   "id": "68b0a601",
   "metadata": {
    "ExecuteTime": {
     "end_time": "2021-11-22T15:03:30.570813Z",
     "start_time": "2021-11-22T15:03:30.549290Z"
    }
   },
   "outputs": [],
   "source": [
    "some_questions = some_questions.merge(some_reduced, on=dataframe_merging_columns, how='left')\n",
    "questions = questions.merge(some_reduced, on=dataframe_merging_columns, how='left')\n",
    "rankings = rankings.merge(some_reduced, on=dataframe_merging_columns, how='left')"
   ]
  },
  {
   "cell_type": "code",
   "execution_count": 9,
   "id": "d87f8748",
   "metadata": {
    "ExecuteTime": {
     "end_time": "2021-11-22T15:03:30.676806Z",
     "start_time": "2021-11-22T15:03:30.656610Z"
    }
   },
   "outputs": [],
   "source": [
    "with open('../../data/post_test/some_annotated.pkl', 'wb') as fp:\n",
    "    pickle.dump(some, fp)\n",
    "\n",
    "with open('../../data/post_test/some_questions_annotated.pkl', 'wb') as fp:\n",
    "    pickle.dump(some_questions, fp)\n",
    "    \n",
    "with open('../../data/post_test/questions_annotated.pkl', 'wb') as fp:\n",
    "    pickle.dump(questions, fp)\n",
    "    \n",
    "with open('../../data/post_test/rankings_annotated.pkl', 'wb') as fp:\n",
    "    pickle.dump(rankings, fp)"
   ]
  },
  {
   "cell_type": "code",
   "execution_count": null,
   "id": "10b2eedd",
   "metadata": {},
   "outputs": [],
   "source": []
  }
 ],
 "metadata": {
  "kernelspec": {
   "display_name": "Python 3 (ipykernel)",
   "language": "python",
   "name": "python3"
  },
  "language_info": {
   "codemirror_mode": {
    "name": "ipython",
    "version": 3
   },
   "file_extension": ".py",
   "mimetype": "text/x-python",
   "name": "python",
   "nbconvert_exporter": "python",
   "pygments_lexer": "ipython3",
   "version": "3.7.11"
  },
  "toc": {
   "base_numbering": 1,
   "nav_menu": {},
   "number_sections": true,
   "sideBar": true,
   "skip_h1_title": false,
   "title_cell": "Table of Contents",
   "title_sidebar": "Contents",
   "toc_cell": false,
   "toc_position": {
    "height": "calc(100% - 180px)",
    "left": "10px",
    "top": "150px",
    "width": "358.3831481933594px"
   },
   "toc_section_display": true,
   "toc_window_display": true
  }
 },
 "nbformat": 4,
 "nbformat_minor": 5
}
