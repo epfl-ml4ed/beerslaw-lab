{
 "cells": [
  {
   "cell_type": "code",
   "execution_count": 1,
   "id": "b65096d9",
   "metadata": {
    "ExecuteTime": {
     "end_time": "2021-10-27T12:08:40.443093Z",
     "start_time": "2021-10-27T12:08:39.849544Z"
    }
   },
   "outputs": [],
   "source": [
    "import os\n",
    "import pickle\n",
    "\n",
    "import numpy as np\n",
    "import pandas as pd\n",
    "\n",
    "from googletrans import Translator"
   ]
  },
  {
   "cell_type": "markdown",
   "id": "8556e15d",
   "metadata": {},
   "source": [
    "# Data"
   ]
  },
  {
   "cell_type": "code",
   "execution_count": 2,
   "id": "e3f6604c",
   "metadata": {
    "ExecuteTime": {
     "end_time": "2021-10-27T12:08:40.945601Z",
     "start_time": "2021-10-27T12:08:40.929317Z"
    }
   },
   "outputs": [],
   "source": [
    "with open('../../data/post_test/questions.pkl', 'rb') as fp:\n",
    "    questions = pickle.load(fp)\n",
    "    # full questions\n",
    "    \n",
    "with open('../../data/post_test/rankings.pkl', 'rb') as fp:\n",
    "    rankings = pickle.load(fp)\n",
    "    # rankings completed\n",
    "    \n",
    "with open('../../data/post_test/some_questions.pkl', 'rb') as fp:\n",
    "    some_questions = pickle.load(fp)\n",
    "    # partial questions"
   ]
  },
  {
   "cell_type": "code",
   "execution_count": 3,
   "id": "71ae9517",
   "metadata": {
    "ExecuteTime": {
     "end_time": "2021-10-27T12:08:41.182031Z",
     "start_time": "2021-10-27T12:08:41.177270Z"
    }
   },
   "outputs": [
    {
     "name": "stdout",
     "output_type": "stream",
     "text": [
      "Index(['username', 'start_time', 'exploration_time', 'ranking_task_time',\n",
      "       'ranking', 'ranking_confidence', 'ranking_time', 'q1', 'q1_conf',\n",
      "       'q1_time', 'q2', 'q2_conf', 'q2_time', 'q3', 'q3_conf', 'q3_time', 'q4',\n",
      "       'q4_conf', 'q4_time', 'q5_colour0', 'q5_colour1', 'q5_colour2',\n",
      "       'q5_colour3', 'q5_time', 'q6_colour0', 'q6_colour1', 'q6_colour2',\n",
      "       'q6_colour3', 'q6_time', 'q7_colour0', 'q7_colour1', 'q7_colour2',\n",
      "       'q7_colour3', 'q7_time', 'q8_colour0', 'q8_colour1', 'q8_colour2',\n",
      "       'q8_colour3', 'q8_time', 'formula', 'fomula_conf', 'formula_time',\n",
      "       'notes_text', 'notes_math', 'notes_table', 'notes_diag', 'notes_time',\n",
      "       'beerslaw', 'beerslaw_conf', 'beerslaw_time', 'problem_ranking',\n",
      "       'problem_conf', 'problem_time', 'feedback_entertain',\n",
      "       'feedback_difficult', 'feedback_good', 'feedback_bad', 'feedback',\n",
      "       'feedback_time', 'experiment_time', 'status', 'session', 'version',\n",
      "       'numerical_status', 'language', 'field', 'level', 'year', 'consent',\n",
      "       'gender', 'beerslaw_en', 'formula_en'],\n",
      "      dtype='object')\n",
      "Index(['username', 'start_time', 'exploration_time', 'ranking_task_time',\n",
      "       'ranking', 'ranking_confidence', 'ranking_time', 'q1', 'q1_conf',\n",
      "       'q1_time', 'q2', 'q2_conf', 'q2_time', 'q3', 'q3_conf', 'q3_time', 'q4',\n",
      "       'q4_conf', 'q4_time', 'q5_colour0', 'q5_colour1', 'q5_colour2',\n",
      "       'q5_colour3', 'q5_time', 'q6_colour0', 'q6_colour1', 'q6_colour2',\n",
      "       'q6_colour3', 'q6_time', 'q7_colour0', 'q7_colour1', 'q7_colour2',\n",
      "       'q7_colour3', 'q7_time', 'q8_colour0', 'q8_colour1', 'q8_colour2',\n",
      "       'q8_colour3', 'q8_time', 'formula', 'fomula_conf', 'formula_time',\n",
      "       'notes_text', 'notes_math', 'notes_table', 'notes_diag', 'notes_time',\n",
      "       'beerslaw', 'beerslaw_conf', 'beerslaw_time', 'problem_ranking',\n",
      "       'problem_conf', 'problem_time', 'feedback_entertain',\n",
      "       'feedback_difficult', 'feedback_good', 'feedback_bad', 'feedback',\n",
      "       'feedback_time', 'experiment_time', 'status', 'session', 'version',\n",
      "       'numerical_status', 'language', 'field', 'level', 'year', 'consent',\n",
      "       'gender', 'beerslaw_en', 'formula_en'],\n",
      "      dtype='object')\n",
      "Index(['username', 'start_time', 'exploration_time', 'ranking_task_time',\n",
      "       'ranking', 'ranking_confidence', 'ranking_time', 'q1', 'q1_conf',\n",
      "       'q1_time', 'q2', 'q2_conf', 'q2_time', 'q3', 'q3_conf', 'q3_time', 'q4',\n",
      "       'q4_conf', 'q4_time', 'q5_colour0', 'q5_colour1', 'q5_colour2',\n",
      "       'q5_colour3', 'q5_time', 'q6_colour0', 'q6_colour1', 'q6_colour2',\n",
      "       'q6_colour3', 'q6_time', 'q7_colour0', 'q7_colour1', 'q7_colour2',\n",
      "       'q7_colour3', 'q7_time', 'q8_colour0', 'q8_colour1', 'q8_colour2',\n",
      "       'q8_colour3', 'q8_time', 'formula', 'fomula_conf', 'formula_time',\n",
      "       'notes_text', 'notes_math', 'notes_table', 'notes_diag', 'notes_time',\n",
      "       'beerslaw', 'beerslaw_conf', 'beerslaw_time', 'problem_ranking',\n",
      "       'problem_conf', 'problem_time', 'feedback_entertain',\n",
      "       'feedback_difficult', 'feedback_good', 'feedback_bad', 'feedback',\n",
      "       'feedback_time', 'experiment_time', 'status', 'session', 'version',\n",
      "       'numerical_status', 'language', 'field', 'level', 'year', 'consent',\n",
      "       'gender', 'beerslaw_en', 'formula_en'],\n",
      "      dtype='object')\n"
     ]
    }
   ],
   "source": [
    "print(questions.columns)\n",
    "print(rankings.columns)\n",
    "print(some_questions.columns)"
   ]
  },
  {
   "cell_type": "markdown",
   "id": "b3168717",
   "metadata": {},
   "source": [
    "# Translate"
   ]
  },
  {
   "cell_type": "code",
   "execution_count": 4,
   "id": "be8566a7",
   "metadata": {
    "ExecuteTime": {
     "end_time": "2021-10-27T12:08:42.732197Z",
     "start_time": "2021-10-27T12:08:42.716562Z"
    }
   },
   "outputs": [],
   "source": [
    "translator = Translator()"
   ]
  },
  {
   "cell_type": "code",
   "execution_count": 6,
   "id": "0d6fd868",
   "metadata": {
    "ExecuteTime": {
     "end_time": "2021-10-27T12:23:42.403799Z",
     "start_time": "2021-10-27T12:23:42.400613Z"
    }
   },
   "outputs": [],
   "source": [
    "def translate(text:str) -> str:\n",
    "    try:\n",
    "        translate = translator.translate(text, src='de', dest='en').text\n",
    "    except TypeError:\n",
    "        translate = 'type error'\n",
    "    return translate\n",
    "        "
   ]
  },
  {
   "cell_type": "code",
   "execution_count": null,
   "id": "22ae7e25",
   "metadata": {
    "ExecuteTime": {
     "start_time": "2021-10-27T12:23:57.537Z"
    }
   },
   "outputs": [],
   "source": [
    "questions['beerslaw_en'] = questions['beerslaw'].apply(translate)\n",
    "questions['formula_en'] = questions['formula'].apply(translate)"
   ]
  },
  {
   "cell_type": "code",
   "execution_count": null,
   "id": "e1fa7686",
   "metadata": {
    "ExecuteTime": {
     "end_time": "2021-10-27T12:12:58.182742Z",
     "start_time": "2021-10-27T12:08:45.603Z"
    }
   },
   "outputs": [],
   "source": [
    "rankings['beerslaw_en'] = rankings['beerslaw'].apply(lambda x: translate)\n",
    "rankings['formula_en'] = rankings['formula'].apply(lambda x: translate)"
   ]
  },
  {
   "cell_type": "code",
   "execution_count": null,
   "id": "e73e1507",
   "metadata": {
    "ExecuteTime": {
     "end_time": "2021-10-27T12:12:58.184551Z",
     "start_time": "2021-10-27T12:08:49.516Z"
    }
   },
   "outputs": [],
   "source": [
    "some_questions['beerslaw_en'] = some_questions['beerslaw'].apply(translate)\n",
    "some_questions['formula_en'] = some_questions['formula'].apply(translate)"
   ]
  },
  {
   "cell_type": "code",
   "execution_count": 8,
   "id": "38fa0946",
   "metadata": {
    "ExecuteTime": {
     "end_time": "2021-10-27T08:10:52.736640Z",
     "start_time": "2021-10-27T08:10:52.720216Z"
    }
   },
   "outputs": [],
   "source": [
    "with open('../../data/post_test/questions.pkl', 'wb') as fp:\n",
    "    pickle.dump(questions, fp)\n",
    "    # full questions\n",
    "    \n",
    "with open('../../data/post_test/rankings.pkl', 'wb') as fp:\n",
    "    pickle.dump(rankings, fp)\n",
    "    # rankings completed\n",
    "    \n",
    "with open('../../data/post_test/some_questions.pkl', 'wb') as fp:\n",
    "    pickle.dump(some_questions, fp)\n",
    "    # partial questions"
   ]
  },
  {
   "cell_type": "code",
   "execution_count": null,
   "id": "2255e1dc",
   "metadata": {},
   "outputs": [],
   "source": []
  },
  {
   "cell_type": "code",
   "execution_count": 2,
   "id": "5e45092e",
   "metadata": {
    "ExecuteTime": {
     "end_time": "2021-10-27T12:05:57.921882Z",
     "start_time": "2021-10-27T12:05:56.905428Z"
    }
   },
   "outputs": [
    {
     "name": "stdout",
     "output_type": "stream",
     "text": [
      "I am a little duck\n"
     ]
    }
   ],
   "source": [
    "\n",
    "results =translator.translate('Je suis un petit canard')\n",
    "print(results.text)"
   ]
  },
  {
   "cell_type": "code",
   "execution_count": null,
   "id": "46a1db08",
   "metadata": {},
   "outputs": [],
   "source": []
  },
  {
   "cell_type": "code",
   "execution_count": null,
   "id": "cb49d82b",
   "metadata": {},
   "outputs": [],
   "source": []
  },
  {
   "cell_type": "code",
   "execution_count": null,
   "id": "615f97fe",
   "metadata": {},
   "outputs": [],
   "source": []
  },
  {
   "cell_type": "code",
   "execution_count": null,
   "id": "c2a8550d",
   "metadata": {},
   "outputs": [],
   "source": []
  },
  {
   "cell_type": "code",
   "execution_count": null,
   "id": "d130193b",
   "metadata": {},
   "outputs": [],
   "source": []
  },
  {
   "cell_type": "code",
   "execution_count": null,
   "id": "bb88b4a5",
   "metadata": {},
   "outputs": [],
   "source": []
  },
  {
   "cell_type": "code",
   "execution_count": null,
   "id": "b5ab6c4f",
   "metadata": {},
   "outputs": [],
   "source": []
  },
  {
   "cell_type": "code",
   "execution_count": null,
   "id": "0f459914",
   "metadata": {},
   "outputs": [],
   "source": []
  },
  {
   "cell_type": "code",
   "execution_count": null,
   "id": "89228f7d",
   "metadata": {},
   "outputs": [],
   "source": []
  },
  {
   "cell_type": "code",
   "execution_count": null,
   "id": "5e72b546",
   "metadata": {},
   "outputs": [],
   "source": []
  },
  {
   "cell_type": "code",
   "execution_count": null,
   "id": "4fba43ab",
   "metadata": {},
   "outputs": [],
   "source": []
  },
  {
   "cell_type": "code",
   "execution_count": null,
   "id": "29803786",
   "metadata": {},
   "outputs": [],
   "source": []
  }
 ],
 "metadata": {
  "kernelspec": {
   "display_name": "Python 3",
   "language": "python",
   "name": "python3"
  },
  "language_info": {
   "codemirror_mode": {
    "name": "ipython",
    "version": 3
   },
   "file_extension": ".py",
   "mimetype": "text/x-python",
   "name": "python",
   "nbconvert_exporter": "python",
   "pygments_lexer": "ipython3",
   "version": "3.7.11"
  },
  "toc": {
   "base_numbering": 1,
   "nav_menu": {},
   "number_sections": true,
   "sideBar": true,
   "skip_h1_title": false,
   "title_cell": "Table of Contents",
   "title_sidebar": "Contents",
   "toc_cell": false,
   "toc_position": {},
   "toc_section_display": true,
   "toc_window_display": false
  }
 },
 "nbformat": 4,
 "nbformat_minor": 5
}
