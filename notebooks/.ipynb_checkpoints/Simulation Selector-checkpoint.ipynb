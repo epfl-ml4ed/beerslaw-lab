{
 "cells": [
  {
   "cell_type": "code",
   "execution_count": 2,
   "metadata": {
    "ExecuteTime": {
     "end_time": "2021-04-25T18:17:16.015326Z",
     "start_time": "2021-04-25T18:17:14.854150Z"
    }
   },
   "outputs": [],
   "source": [
    "import os\n",
    "\n",
    "import json\n",
    "import pickle\n",
    "from collections import Counter \n",
    "\n",
    "import numpy as np\n",
    "import pandas as pd\n",
    "from datetime import datetime\n",
    "\n",
    "import seaborn as sns\n",
    "from matplotlib import pyplot as plt"
   ]
  },
  {
   "cell_type": "code",
   "execution_count": 3,
   "metadata": {
    "ExecuteTime": {
     "end_time": "2021-04-25T18:17:16.030506Z",
     "start_time": "2021-04-25T18:17:16.017320Z"
    }
   },
   "outputs": [],
   "source": [
    "import pickle \n",
    "import json\n",
    "from collections import Counter\n",
    "\n",
    "import os\n",
    "\n",
    "import datetime\n",
    "import pandas as pd\n",
    "import numpy as np\n",
    "import seaborn as sns\n",
    "from matplotlib import pyplot as plt"
   ]
  },
  {
   "cell_type": "markdown",
   "metadata": {},
   "source": [
    "Dans cette classe, nous construisons les séquences de chaque simulation grâce au post test. Ensuite, nous regardons les ids qui sont à la fois dans notre post test et dans nos logs.\n",
    "Nous retirons les simulations problématiques (a plusieurs simulations qui sont trop loin l'unes des autres)\n",
    "\n",
    "Nous parsons toutes ces simulations.\n",
    "\n",
    "Une fois cela fait, nous excluons les ids qui ont moins de 10 events, et gardons les autres."
   ]
  },
  {
   "cell_type": "markdown",
   "metadata": {},
   "source": [
    "# Reading the data\n",
    "\n",
    "- phys1120 is the csv with the ids from class 1120\n",
    "- phys1125 is the csv with the ids from class 1125\n",
    "\n",
    "From those two files, phys is created (which is a concatenation of both files)"
   ]
  },
  {
   "cell_type": "code",
   "execution_count": 3,
   "metadata": {
    "ExecuteTime": {
     "end_time": "2021-04-25T17:15:28.164766Z",
     "start_time": "2021-04-25T17:15:26.895459Z"
    }
   },
   "outputs": [],
   "source": [
    "phys1120 = pd.read_excel('//ic1files.epfl.ch/D-VET/Projects/CapacitorLab/Phys1120+Capacitor+Lab+Homework_withMetacogIDs_Consenting_Text.xlsx')\n",
    "phys1125 = pd.read_excel('//ic1files.epfl.ch/D-VET/Projects/CapacitorLab/Phys1125+Capacitor+Lab+Homework_withMetacogIDs_Consenting_Text.xlsx')\n",
    "\n",
    "columns = [\n",
    "    'start_date', 'end_date', 'status', 'ip_address', 'progress', 'duration', 'finished', \n",
    "    'recorded_date', 'response_id', 'recipient_last_name', 'recipient_first_name', \n",
    "    'recipient_email', 'external_reference', 'location_latitude', 'location_longitude', \n",
    "    'distribution_channel', 'user_language', 'metadata_browser', 'metadata_version',\n",
    "    'metadata_operating_system', 'metadata_resolution', 'consent', 'metacog_id', \n",
    "    'eq1', 'eq2', 'cq1_1', 'cq1_2', 'cq1_3', 'cq1_4', 'cq2', 'pq1c', 'pq1e', 'pq2', 'pq21_text',\n",
    "    'pq23_text', 'pq3', 'pq31_text', 'pq_3_3_text', 'pq_4', 'pq41_text', 'pq43_text',\n",
    "    'pq5', 'pq51_text', 'pq53_text', 'pq6', 'pq61_text', 'pq63_text', 'pq7'\n",
    "]\n",
    "phys1120.columns = columns\n",
    "phys1120 = phys1120.iloc[2:]\n",
    "phys1120['group'] = '1120'\n",
    "\n",
    "phys1125.columns = columns\n",
    "phys1125 = phys1125.iloc[2:]\n",
    "phys1125['group'] = '1125'\n",
    "\n",
    "phys = phys1120.append(phys1125)"
   ]
  },
  {
   "cell_type": "markdown",
   "metadata": {},
   "source": [
    "# Sequence building\n",
    "In temp, we only keep the answers from the ranking, and the associated metacog id. <br>\n",
    "We build the sequence such that:\n",
    "- the entry in column cq1_1 is the configuration they ranked first\n",
    "- the entry in column cq1_2 is the configuration they ranked second\n",
    "- the entry in column cq1_3 is the configuration they ranked third\n",
    "- the entry in column cq1_4 is the configuration they ranked fourth\n"
   ]
  },
  {
   "cell_type": "code",
   "execution_count": 4,
   "metadata": {
    "ExecuteTime": {
     "end_time": "2021-04-25T17:15:30.538367Z",
     "start_time": "2021-04-25T17:15:30.510408Z"
    }
   },
   "outputs": [],
   "source": [
    "temp = phys[['metacog_id', 'cq1_1', 'cq1_2', 'cq1_3', 'cq1_4']]\n",
    "temp = temp.dropna()\n",
    "temp = temp.replace('1 (greatest amount of stored energy)', '1')\n",
    "temp = temp.replace('4 (least amount of stored energy)', '4')\n",
    "\n",
    "def getSequence(row):\n",
    "    rank = {}\n",
    "    rank[row['cq1_1']] = '1'\n",
    "    rank[row['cq1_2']] = '2'\n",
    "    rank[row['cq1_3']] = '3'\n",
    "    rank[row['cq1_4']] = '4'\n",
    "    string = ''\n",
    "    if '1' in rank:\n",
    "        string = string + rank['1']\n",
    "    if '2' in rank:\n",
    "        string = string + rank['2']\n",
    "    if '3' in rank:\n",
    "        string = string + rank['3']\n",
    "    if '4' in rank:\n",
    "        string = string + rank['4']\n",
    "    return string\n",
    "\n",
    "temp['sequence'] = temp.apply(getSequence, axis=1)"
   ]
  },
  {
   "cell_type": "markdown",
   "metadata": {},
   "source": [
    "# Getting the dictionary id - sequence"
   ]
  },
  {
   "cell_type": "code",
   "execution_count": 13,
   "metadata": {
    "ExecuteTime": {
     "end_time": "2021-04-25T17:19:23.659329Z",
     "start_time": "2021-04-25T17:19:23.624231Z"
    }
   },
   "outputs": [],
   "source": [
    "id_seq = {}\n",
    "for index, row in temp.iterrows():\n",
    "    id_seq[row['metacog_id']] = row['sequence']"
   ]
  },
  {
   "cell_type": "code",
   "execution_count": 17,
   "metadata": {
    "ExecuteTime": {
     "end_time": "2021-04-25T17:20:33.893830Z",
     "start_time": "2021-04-25T17:20:33.882860Z"
    }
   },
   "outputs": [],
   "source": [
    "with open('../../data/parsed simulations/id_sequence.pkl', 'wb') as fp:\n",
    "    pickle.dump(id_seq, fp)"
   ]
  },
  {
   "cell_type": "markdown",
   "metadata": {},
   "source": [
    "# Frequency of the sequence\n",
    "the following printing shows the amount of students for each ranking"
   ]
  },
  {
   "cell_type": "code",
   "execution_count": 6,
   "metadata": {
    "ExecuteTime": {
     "end_time": "2021-04-25T17:15:41.310742Z",
     "start_time": "2021-04-25T17:15:41.293786Z"
    }
   },
   "outputs": [
    {
     "data": {
      "text/plain": [
       "{'2413': 20,\n",
       " '4321': 11,\n",
       " '4213': 42,\n",
       " '1324': 61,\n",
       " '1234': 36,\n",
       " '4231': 31,\n",
       " '134': 1,\n",
       " '3142': 1,\n",
       " '4123': 3,\n",
       " '1243': 5,\n",
       " '2341': 2,\n",
       " '1342': 5,\n",
       " '142': 1,\n",
       " '2134': 8,\n",
       " '3412': 4,\n",
       " '2431': 3,\n",
       " '3124': 6,\n",
       " '24': 1,\n",
       " '4132': 2,\n",
       " '2143': 7,\n",
       " '314': 1,\n",
       " '2314': 1,\n",
       " '1432': 1,\n",
       " '3214': 1,\n",
       " '14': 1}"
      ]
     },
     "execution_count": 6,
     "metadata": {},
     "output_type": "execute_result"
    }
   ],
   "source": [
    "dict(Counter(temp['sequence']))"
   ]
  },
  {
   "cell_type": "markdown",
   "metadata": {},
   "source": [
    "# Ids present in the posttest\n",
    "\n",
    "In the following part, we regroup all of the ids for which we have a ranking. <br>\n",
    "We make sure that we only take the \"unit\" part of the id each time, and turn it into a string. I checked all ids manually to ensure that they were in the format [0-9]+\\.0, and cut the decimal part."
   ]
  },
  {
   "cell_type": "code",
   "execution_count": 7,
   "metadata": {
    "ExecuteTime": {
     "end_time": "2021-04-25T17:15:46.712625Z",
     "start_time": "2021-04-25T17:15:46.692678Z"
    }
   },
   "outputs": [],
   "source": [
    "def processId(iid):\n",
    "    key = str(iid)\n",
    "    key = key[:key.find('.')]\n",
    "    return key\n",
    "\n",
    "temp['metacog_id'] = temp['metacog_id'].apply(processId)\n",
    "posttest_ids = list(temp['metacog_id'])"
   ]
  },
  {
   "cell_type": "markdown",
   "metadata": {},
   "source": [
    "# Ids present in the logs"
   ]
  },
  {
   "cell_type": "markdown",
   "metadata": {},
   "source": [
    "Here I crawl all the files in phys1120_comparison and phys1125_comparison, and retrieve the ids (here again, all ids have been checked manually, such that they were in the same format ([0-9]+\\.0). The reason for the str(int()) casting rather than the \".\" finding is because some of the ids in the posttest were not convertible into an integer."
   ]
  },
  {
   "cell_type": "code",
   "execution_count": 8,
   "metadata": {
    "ExecuteTime": {
     "end_time": "2021-04-25T17:15:49.514392Z",
     "start_time": "2021-04-25T17:15:49.508435Z"
    }
   },
   "outputs": [
    {
     "data": {
      "text/plain": [
       "251"
      ]
     },
     "execution_count": 8,
     "metadata": {},
     "output_type": "execute_result"
    }
   ],
   "source": [
    "213 + 38"
   ]
  },
  {
   "cell_type": "code",
   "execution_count": 9,
   "metadata": {
    "ExecuteTime": {
     "end_time": "2021-04-25T17:17:13.235115Z",
     "start_time": "2021-04-25T17:15:49.714487Z"
    },
    "scrolled": true
   },
   "outputs": [
    {
     "name": "stdout",
     "output_type": "stream",
     "text": [
      "user_0000.txt\n",
      "user_0001.txt\n",
      "user_0002.txt\n",
      "user_0003.txt\n",
      "user_0004.txt\n",
      "user_0005.txt\n",
      "user_0006.txt\n",
      "user_0007.txt\n",
      "user_0008.txt\n",
      "user_0009.txt\n",
      "user_0010.txt\n",
      "user_0011.txt\n",
      "user_0012.txt\n",
      "user_0013.txt\n",
      "user_0014.txt\n",
      "user_0015.txt\n",
      "user_0016.txt\n",
      "user_0017.txt\n",
      "user_0018.txt\n",
      "user_0019.txt\n",
      "user_0020.txt\n",
      "user_0021.txt\n",
      "user_0022.txt\n",
      "user_0023.txt\n",
      "user_0024.txt\n",
      "user_0025.txt\n",
      "user_0026.txt\n",
      "user_0027.txt\n",
      "user_0028.txt\n",
      "user_0029.txt\n",
      "user_0030.txt\n",
      "user_0031.txt\n",
      "user_0032.txt\n",
      "user_0033.txt\n",
      "user_0034.txt\n",
      "user_0035.txt\n",
      "user_0036.txt\n",
      "user_0037.txt\n",
      "user_0038.txt\n",
      "user_0039.txt\n",
      "user_0040.txt\n",
      "user_0041.txt\n",
      "user_0042.txt\n",
      "user_0043.txt\n",
      "user_0044.txt\n",
      "user_0045.txt\n",
      "user_0046.txt\n",
      "user_0047.txt\n",
      "user_0048.txt\n",
      "user_0049.txt\n",
      "user_0050.txt\n",
      "user_0051.txt\n",
      "user_0052.txt\n",
      "user_0053.txt\n",
      "user_0054.txt\n",
      "user_0055.txt\n",
      "user_0056.txt\n",
      "user_0057.txt\n",
      "user_0058.txt\n",
      "user_0059.txt\n",
      "user_0060.txt\n",
      "user_0061.txt\n",
      "user_0062.txt\n",
      "user_0063.txt\n",
      "user_0064.txt\n",
      "user_0065.txt\n",
      "user_0066.txt\n",
      "user_0067.txt\n",
      "user_0068.txt\n",
      "user_0069.txt\n",
      "user_0070.txt\n",
      "user_0071.txt\n",
      "user_0072.txt\n",
      "user_0073.txt\n",
      "user_0074.txt\n",
      "user_0075.txt\n",
      "user_0076.txt\n",
      "user_0077.txt\n",
      "user_0078.txt\n",
      "user_0079.txt\n",
      "user_0080.txt\n",
      "user_0081.txt\n",
      "user_0082.txt\n",
      "user_0083.txt\n",
      "user_0084.txt\n",
      "user_0085.txt\n",
      "user_0086.txt\n",
      "user_0087.txt\n",
      "user_0088.txt\n",
      "user_0089.txt\n",
      "user_0090.txt\n",
      "user_0091.txt\n",
      "user_0092.txt\n",
      "user_0093.txt\n",
      "user_0094.txt\n",
      "user_0095.txt\n",
      "user_0096.txt\n",
      "user_0097.txt\n",
      "user_0098.txt\n",
      "user_0099.txt\n",
      "user_0100.txt\n",
      "user_0101.txt\n",
      "user_0102.txt\n",
      "user_0103.txt\n",
      "user_0104.txt\n",
      "user_0105.txt\n",
      "user_0106.txt\n",
      "user_0107.txt\n",
      "user_0108.txt\n",
      "user_0109.txt\n",
      "user_0110.txt\n",
      "user_0111.txt\n",
      "user_0112.txt\n",
      "user_0113.txt\n",
      "user_0114.txt\n",
      "user_0115.txt\n",
      "user_0116.txt\n",
      "user_0117.txt\n",
      "user_0118.txt\n",
      "user_0119.txt\n",
      "user_0120.txt\n",
      "user_0121.txt\n",
      "user_0122.txt\n",
      "user_0123.txt\n",
      "user_0124.txt\n",
      "user_0125.txt\n",
      "user_0126.txt\n",
      "user_0127.txt\n",
      "user_0128.txt\n",
      "user_0129.txt\n",
      "user_0130.txt\n",
      "user_0131.txt\n",
      "user_0132.txt\n",
      "user_0133.txt\n",
      "user_0134.txt\n",
      "user_0135.txt\n",
      "user_0136.txt\n",
      "user_0137.txt\n",
      "user_0138.txt\n",
      "user_0139.txt\n",
      "user_0140.txt\n",
      "user_0141.txt\n",
      "user_0142.txt\n",
      "user_0143.txt\n",
      "user_0144.txt\n",
      "user_0145.txt\n",
      "user_0146.txt\n",
      "user_0147.txt\n",
      "user_0148.txt\n",
      "user_0149.txt\n",
      "user_0150.txt\n",
      "user_0151.txt\n",
      "user_0152.txt\n",
      "user_0153.txt\n",
      "user_0154.txt\n",
      "user_0155.txt\n",
      "user_0156.txt\n",
      "user_0157.txt\n",
      "user_0158.txt\n",
      "user_0159.txt\n",
      "user_0160.txt\n",
      "user_0161.txt\n",
      "user_0162.txt\n",
      "user_0163.txt\n",
      "user_0164.txt\n",
      "user_0165.txt\n",
      "user_0166.txt\n",
      "user_0167.txt\n",
      "user_0168.txt\n",
      "user_0169.txt\n",
      "user_0170.txt\n",
      "user_0171.txt\n",
      "user_0172.txt\n",
      "user_0173.txt\n",
      "user_0174.txt\n",
      "user_0175.txt\n",
      "user_0176.txt\n",
      "user_0177.txt\n",
      "user_0178.txt\n",
      "user_0179.txt\n",
      "user_0180.txt\n",
      "user_0181.txt\n",
      "user_0182.txt\n",
      "user_0183.txt\n",
      "user_0184.txt\n",
      "user_0185.txt\n",
      "user_0186.txt\n",
      "user_0187.txt\n",
      "user_0188.txt\n",
      "user_0189.txt\n",
      "user_0190.txt\n",
      "user_0191.txt\n",
      "user_0192.txt\n",
      "user_0193.txt\n",
      "user_0194.txt\n",
      "user_0195.txt\n",
      "user_0196.txt\n",
      "user_0197.txt\n",
      "user_0198.txt\n",
      "user_0199.txt\n",
      "user_0200.txt\n",
      "user_0201.txt\n",
      "user_0202.txt\n",
      "user_0203.txt\n",
      "user_0204.txt\n",
      "user_0205.txt\n",
      "user_0206.txt\n",
      "user_0207.txt\n",
      "user_0208.txt\n",
      "user_0209.txt\n",
      "user_0210.txt\n",
      "user_0211.txt\n",
      "user_0212.txt\n",
      "user_0000.txt\n",
      "user_0001.txt\n",
      "user_0002.txt\n",
      "user_0003.txt\n",
      "user_0004.txt\n",
      "user_0005.txt\n",
      "user_0006.txt\n",
      "user_0007.txt\n",
      "user_0008.txt\n",
      "user_0009.txt\n",
      "user_0010.txt\n",
      "user_0011.txt\n",
      "user_0012.txt\n",
      "user_0013.txt\n",
      "user_0014.txt\n",
      "user_0015.txt\n",
      "user_0016.txt\n",
      "user_0017.txt\n",
      "user_0018.txt\n",
      "user_0019.txt\n",
      "user_0020.txt\n",
      "user_0021.txt\n",
      "user_0022.txt\n",
      "user_0023.txt\n",
      "user_0024.txt\n",
      "user_0025.txt\n",
      "user_0026.txt\n",
      "user_0027.txt\n",
      "user_0028.txt\n",
      "user_0029.txt\n",
      "user_0030.txt\n",
      "user_0031.txt\n",
      "user_0032.txt\n",
      "user_0033.txt\n",
      "user_0034.txt\n",
      "user_0035.txt\n",
      "user_0036.txt\n",
      "user_0037.txt\n"
     ]
    }
   ],
   "source": [
    "possible_ids = {}\n",
    "directories = ['../../data/temp/Phys_1120_Comparison/', '../../data/temp/Phys_1125_Comparison/']\n",
    "for directory in directories:\n",
    "    for filename in os.listdir(directory):\n",
    "        if filename.endswith('.txt'):\n",
    "            print(filename)\n",
    "            path = directory + filename\n",
    "            with open(path, 'r') as fp:\n",
    "                user_log = json.load(fp)\n",
    "                lid = str(int(user_log['session']['learner_id'].replace('NaN', '')))\n",
    "                if lid in possible_ids:\n",
    "                    possible_ids[lid].append(path)\n",
    "                else:\n",
    "                    possible_ids[lid] = [path]\n"
   ]
  },
  {
   "cell_type": "code",
   "execution_count": 10,
   "metadata": {
    "ExecuteTime": {
     "end_time": "2021-04-25T17:17:13.250717Z",
     "start_time": "2021-04-25T17:17:13.236914Z"
    }
   },
   "outputs": [],
   "source": [
    "log_ids = list(possible_ids.keys())"
   ]
  },
  {
   "cell_type": "markdown",
   "metadata": {},
   "source": [
    "# Checking how many ids are both in the logs AND in the post test"
   ]
  },
  {
   "cell_type": "code",
   "execution_count": 11,
   "metadata": {
    "ExecuteTime": {
     "end_time": "2021-04-25T17:17:34.975540Z",
     "start_time": "2021-04-25T17:17:34.953599Z"
    }
   },
   "outputs": [
    {
     "name": "stdout",
     "output_type": "stream",
     "text": [
      "Ids in the logs and the posttest: 229\n",
      "Ids in the post test but not in the logs: 26\n",
      "Ids in the logs but not in the post test: 14\n"
     ]
    }
   ],
   "source": [
    "ayes = 0\n",
    "nayes = 0\n",
    "nayess = 0\n",
    "\n",
    "nayes_ids = []\n",
    "for iid in posttest_ids:\n",
    "    if iid in log_ids:\n",
    "        ayes += 1\n",
    "    else:\n",
    "        nayes += 1\n",
    "        nayes_ids.append(iid)\n",
    "        \n",
    "excluded_ids = []\n",
    "for iid in log_ids:\n",
    "    if iid not in posttest_ids:\n",
    "        nayess += 1\n",
    "        excluded_ids.append(iid)\n",
    "        \n",
    "print('Ids in the logs and the posttest:', ayes)\n",
    "print('Ids in the post test but not in the logs:', nayes)\n",
    "print('Ids in the logs but not in the post test:', nayess)"
   ]
  },
  {
   "cell_type": "code",
   "execution_count": 12,
   "metadata": {
    "ExecuteTime": {
     "end_time": "2021-04-25T17:17:37.628496Z",
     "start_time": "2021-04-25T17:17:37.620516Z"
    }
   },
   "outputs": [
    {
     "data": {
      "text/plain": [
       "['404213198',\n",
       " '755262498',\n",
       " '720032198',\n",
       " '495873498',\n",
       " '996629298',\n",
       " '900573598',\n",
       " '702224298',\n",
       " '751302498',\n",
       " '934487298',\n",
       " '678089298',\n",
       " '996629298',\n",
       " '200829498',\n",
       " '620009198',\n",
       " '141630498',\n",
       " '888323298',\n",
       " '444467298',\n",
       " '561467298',\n",
       " '210041298',\n",
       " '847775298',\n",
       " '898025698',\n",
       " '258910398',\n",
       " '309947198',\n",
       " '295749881',\n",
       " '113779398',\n",
       " '764862498',\n",
       " '833183298']"
      ]
     },
     "execution_count": 12,
     "metadata": {},
     "output_type": "execute_result"
    }
   ],
   "source": [
    "nayes_ids"
   ]
  },
  {
   "cell_type": "markdown",
   "metadata": {},
   "source": [
    "# Creating the dictionary to retrieve all simulations"
   ]
  },
  {
   "cell_type": "markdown",
   "metadata": {},
   "source": [
    "list of ids not in the logs, but in the posttest"
   ]
  },
  {
   "cell_type": "code",
   "execution_count": 12,
   "metadata": {
    "ExecuteTime": {
     "end_time": "2021-04-25T15:54:35.097338Z",
     "start_time": "2021-04-25T15:54:35.087330Z"
    }
   },
   "outputs": [],
   "source": [
    "selected_simulations = {'common_ids': {}}\n",
    "for iid in possible_ids:\n",
    "    if iid not in excluded_ids and iid not in nayes_ids:\n",
    "        selected_simulations['common_ids'][iid] = possible_ids[iid]"
   ]
  },
  {
   "cell_type": "code",
   "execution_count": 14,
   "metadata": {
    "ExecuteTime": {
     "end_time": "2021-04-25T15:54:46.864139Z",
     "start_time": "2021-04-25T15:54:46.849181Z"
    }
   },
   "outputs": [
    {
     "data": {
      "text/plain": [
       "{'65516298': ['../../data/temp/Phys_1120_Comparison/user_0000.txt'],\n",
       " '280009398': ['../../data/temp/Phys_1120_Comparison/user_0001.txt'],\n",
       " '620086398': ['../../data/temp/Phys_1120_Comparison/user_0002.txt'],\n",
       " '156416198': ['../../data/temp/Phys_1120_Comparison/user_0003.txt'],\n",
       " '285430398': ['../../data/temp/Phys_1120_Comparison/user_0004.txt'],\n",
       " '323943598': ['../../data/temp/Phys_1120_Comparison/user_0005.txt'],\n",
       " '659875398': ['../../data/temp/Phys_1120_Comparison/user_0006.txt'],\n",
       " '201746198': ['../../data/temp/Phys_1120_Comparison/user_0007.txt'],\n",
       " '822338298': ['../../data/temp/Phys_1120_Comparison/user_0008.txt'],\n",
       " '119329398': ['../../data/temp/Phys_1120_Comparison/user_0009.txt'],\n",
       " '890798298': ['../../data/temp/Phys_1120_Comparison/user_0010.txt'],\n",
       " '935315198': ['../../data/temp/Phys_1120_Comparison/user_0011.txt'],\n",
       " '467774298': ['../../data/temp/Phys_1120_Comparison/user_0012.txt'],\n",
       " '18642498': ['../../data/temp/Phys_1120_Comparison/user_0014.txt'],\n",
       " '243949398': ['../../data/temp/Phys_1120_Comparison/user_0015.txt'],\n",
       " '567762498': ['../../data/temp/Phys_1120_Comparison/user_0016.txt'],\n",
       " '746495698': ['../../data/temp/Phys_1120_Comparison/user_0017.txt'],\n",
       " '633960498': ['../../data/temp/Phys_1120_Comparison/user_0019.txt'],\n",
       " '821408298': ['../../data/temp/Phys_1120_Comparison/user_0020.txt'],\n",
       " '809087298': ['../../data/temp/Phys_1120_Comparison/user_0021.txt'],\n",
       " '273901398': ['../../data/temp/Phys_1120_Comparison/user_0023.txt'],\n",
       " '83906698': ['../../data/temp/Phys_1120_Comparison/user_0024.txt'],\n",
       " '4960398': ['../../data/temp/Phys_1120_Comparison/user_0025.txt'],\n",
       " '948772398': ['../../data/temp/Phys_1120_Comparison/user_0026.txt'],\n",
       " '296173398': ['../../data/temp/Phys_1120_Comparison/user_0027.txt'],\n",
       " '901519398': ['../../data/temp/Phys_1120_Comparison/user_0028.txt'],\n",
       " '929888298': ['../../data/temp/Phys_1120_Comparison/user_0029.txt'],\n",
       " '22712298': ['../../data/temp/Phys_1120_Comparison/user_0031.txt'],\n",
       " '574720798': ['../../data/temp/Phys_1120_Comparison/user_0032.txt'],\n",
       " '805107598': ['../../data/temp/Phys_1120_Comparison/user_0033.txt'],\n",
       " '798762498': ['../../data/temp/Phys_1120_Comparison/user_0034.txt'],\n",
       " '423225598': ['../../data/temp/Phys_1120_Comparison/user_0036.txt'],\n",
       " '507543598': ['../../data/temp/Phys_1120_Comparison/user_0038.txt'],\n",
       " '908708298': ['../../data/temp/Phys_1120_Comparison/user_0039.txt'],\n",
       " '752756298': ['../../data/temp/Phys_1120_Comparison/user_0040.txt'],\n",
       " '692004598': ['../../data/temp/Phys_1120_Comparison/user_0041.txt'],\n",
       " '424145298': ['../../data/temp/Phys_1120_Comparison/user_0042.txt'],\n",
       " '111059298': ['../../data/temp/Phys_1120_Comparison/user_0043.txt'],\n",
       " '916050498': ['../../data/temp/Phys_1120_Comparison/user_0044.txt'],\n",
       " '633689298': ['../../data/temp/Phys_1120_Comparison/user_0045.txt'],\n",
       " '275654298': ['../../data/temp/Phys_1120_Comparison/user_0047.txt'],\n",
       " '82819398': ['../../data/temp/Phys_1120_Comparison/user_0048.txt',\n",
       "  '../../data/temp/Phys_1120_Comparison/user_0049.txt'],\n",
       " '776720598': ['../../data/temp/Phys_1120_Comparison/user_0050.txt'],\n",
       " '286637698': ['../../data/temp/Phys_1120_Comparison/user_0051.txt'],\n",
       " '540610298': ['../../data/temp/Phys_1120_Comparison/user_0052.txt'],\n",
       " '329596398': ['../../data/temp/Phys_1120_Comparison/user_0053.txt'],\n",
       " '205469298': ['../../data/temp/Phys_1120_Comparison/user_0054.txt'],\n",
       " '235696398': ['../../data/temp/Phys_1120_Comparison/user_0055.txt'],\n",
       " '996416698': ['../../data/temp/Phys_1120_Comparison/user_0056.txt'],\n",
       " '744220398': ['../../data/temp/Phys_1120_Comparison/user_0057.txt'],\n",
       " '571709198': ['../../data/temp/Phys_1120_Comparison/user_0058.txt'],\n",
       " '633591498': ['../../data/temp/Phys_1120_Comparison/user_0059.txt'],\n",
       " '395072298': ['../../data/temp/Phys_1120_Comparison/user_0060.txt'],\n",
       " '969833198': ['../../data/temp/Phys_1120_Comparison/user_0062.txt',\n",
       "  '../../data/temp/Phys_1120_Comparison/user_0065.txt'],\n",
       " '913259198': ['../../data/temp/Phys_1120_Comparison/user_0063.txt'],\n",
       " '960930498': ['../../data/temp/Phys_1120_Comparison/user_0064.txt'],\n",
       " '698113398': ['../../data/temp/Phys_1120_Comparison/user_0067.txt'],\n",
       " '907532698': ['../../data/temp/Phys_1120_Comparison/user_0068.txt'],\n",
       " '609008298': ['../../data/temp/Phys_1120_Comparison/user_0069.txt'],\n",
       " '414404298': ['../../data/temp/Phys_1120_Comparison/user_0070.txt'],\n",
       " '300605298': ['../../data/temp/Phys_1120_Comparison/user_0071.txt'],\n",
       " '400598698': ['../../data/temp/Phys_1120_Comparison/user_0072.txt'],\n",
       " '930498': ['../../data/temp/Phys_1120_Comparison/user_0073.txt'],\n",
       " '708569698': ['../../data/temp/Phys_1120_Comparison/user_0074.txt'],\n",
       " '642389298': ['../../data/temp/Phys_1120_Comparison/user_0075.txt'],\n",
       " '260266398': ['../../data/temp/Phys_1120_Comparison/user_0076.txt'],\n",
       " '592519398': ['../../data/temp/Phys_1120_Comparison/user_0077.txt'],\n",
       " '968897198': ['../../data/temp/Phys_1120_Comparison/user_0078.txt'],\n",
       " '960985398': ['../../data/temp/Phys_1120_Comparison/user_0079.txt'],\n",
       " '856334298': ['../../data/temp/Phys_1120_Comparison/user_0080.txt'],\n",
       " '883972398': ['../../data/temp/Phys_1120_Comparison/user_0081.txt'],\n",
       " '303539298': ['../../data/temp/Phys_1120_Comparison/user_0082.txt'],\n",
       " '308033298': ['../../data/temp/Phys_1120_Comparison/user_0083.txt'],\n",
       " '307323598': ['../../data/temp/Phys_1120_Comparison/user_0084.txt'],\n",
       " '448519398': ['../../data/temp/Phys_1120_Comparison/user_0085.txt'],\n",
       " '814283298': ['../../data/temp/Phys_1120_Comparison/user_0086.txt'],\n",
       " '289729398': ['../../data/temp/Phys_1120_Comparison/user_0087.txt'],\n",
       " '904055298': ['../../data/temp/Phys_1120_Comparison/user_0088.txt'],\n",
       " '946210398': ['../../data/temp/Phys_1120_Comparison/user_0089.txt'],\n",
       " '488054198': ['../../data/temp/Phys_1120_Comparison/user_0090.txt'],\n",
       " '434806798': ['../../data/temp/Phys_1120_Comparison/user_0091.txt'],\n",
       " '903002598': ['../../data/temp/Phys_1120_Comparison/user_0092.txt'],\n",
       " '435317298': ['../../data/temp/Phys_1120_Comparison/user_0093.txt'],\n",
       " '688535298': ['../../data/temp/Phys_1120_Comparison/user_0094.txt'],\n",
       " '424016698': ['../../data/temp/Phys_1120_Comparison/user_0095.txt'],\n",
       " '344279298': ['../../data/temp/Phys_1120_Comparison/user_0096.txt'],\n",
       " '705902598': ['../../data/temp/Phys_1120_Comparison/user_0097.txt'],\n",
       " '369166398': ['../../data/temp/Phys_1120_Comparison/user_0098.txt'],\n",
       " '899829498': ['../../data/temp/Phys_1120_Comparison/user_0099.txt'],\n",
       " '620477198': ['../../data/temp/Phys_1120_Comparison/user_0100.txt'],\n",
       " '799440498': ['../../data/temp/Phys_1120_Comparison/user_0101.txt'],\n",
       " '46499298': ['../../data/temp/Phys_1120_Comparison/user_0102.txt'],\n",
       " '497586598': ['../../data/temp/Phys_1120_Comparison/user_0103.txt'],\n",
       " '338452898': ['../../data/temp/Phys_1120_Comparison/user_0105.txt'],\n",
       " '267794298': ['../../data/temp/Phys_1120_Comparison/user_0106.txt'],\n",
       " '943739298': ['../../data/temp/Phys_1120_Comparison/user_0107.txt'],\n",
       " '620972298': ['../../data/temp/Phys_1120_Comparison/user_0108.txt'],\n",
       " '782954198': ['../../data/temp/Phys_1120_Comparison/user_0109.txt'],\n",
       " '145586198': ['../../data/temp/Phys_1120_Comparison/user_0110.txt'],\n",
       " '770093298': ['../../data/temp/Phys_1120_Comparison/user_0111.txt'],\n",
       " '386523598': ['../../data/temp/Phys_1120_Comparison/user_0112.txt'],\n",
       " '348891498': ['../../data/temp/Phys_1120_Comparison/user_0113.txt'],\n",
       " '520187798': ['../../data/temp/Phys_1120_Comparison/user_0114.txt'],\n",
       " '54644298': ['../../data/temp/Phys_1120_Comparison/user_0115.txt'],\n",
       " '605144198': ['../../data/temp/Phys_1120_Comparison/user_0117.txt'],\n",
       " '552364398': ['../../data/temp/Phys_1120_Comparison/user_0118.txt'],\n",
       " '486440698': ['../../data/temp/Phys_1120_Comparison/user_0119.txt'],\n",
       " '16909398': ['../../data/temp/Phys_1120_Comparison/user_0120.txt',\n",
       "  '../../data/temp/Phys_1120_Comparison/user_0155.txt'],\n",
       " '826071498': ['../../data/temp/Phys_1120_Comparison/user_0121.txt'],\n",
       " '65201298': ['../../data/temp/Phys_1120_Comparison/user_0123.txt'],\n",
       " '108100298': ['../../data/temp/Phys_1120_Comparison/user_0124.txt'],\n",
       " '995945298': ['../../data/temp/Phys_1120_Comparison/user_0125.txt'],\n",
       " '241962598': ['../../data/temp/Phys_1120_Comparison/user_0126.txt'],\n",
       " '407569398': ['../../data/temp/Phys_1120_Comparison/user_0127.txt'],\n",
       " '327434298': ['../../data/temp/Phys_1120_Comparison/user_0128.txt'],\n",
       " '643115198': ['../../data/temp/Phys_1120_Comparison/user_0129.txt'],\n",
       " '777608198': ['../../data/temp/Phys_1120_Comparison/user_0130.txt'],\n",
       " '321495598': ['../../data/temp/Phys_1120_Comparison/user_0131.txt'],\n",
       " '597679398': ['../../data/temp/Phys_1120_Comparison/user_0132.txt'],\n",
       " '398954298': ['../../data/temp/Phys_1120_Comparison/user_0133.txt'],\n",
       " '250829198': ['../../data/temp/Phys_1120_Comparison/user_0135.txt'],\n",
       " '307844198': ['../../data/temp/Phys_1120_Comparison/user_0136.txt'],\n",
       " '694229198': ['../../data/temp/Phys_1120_Comparison/user_0137.txt'],\n",
       " '233984298': ['../../data/temp/Phys_1120_Comparison/user_0138.txt'],\n",
       " '446860398': ['../../data/temp/Phys_1120_Comparison/user_0139.txt'],\n",
       " '994008598': ['../../data/temp/Phys_1120_Comparison/user_0140.txt'],\n",
       " '435295398': ['../../data/temp/Phys_1120_Comparison/user_0141.txt'],\n",
       " '236059398': ['../../data/temp/Phys_1120_Comparison/user_0142.txt'],\n",
       " '642737198': ['../../data/temp/Phys_1120_Comparison/user_0143.txt'],\n",
       " '317474298': ['../../data/temp/Phys_1120_Comparison/user_0144.txt'],\n",
       " '217508198': ['../../data/temp/Phys_1120_Comparison/user_0145.txt'],\n",
       " '92740298': ['../../data/temp/Phys_1120_Comparison/user_0146.txt',\n",
       "  '../../data/temp/Phys_1120_Comparison/user_0148.txt',\n",
       "  '../../data/temp/Phys_1120_Comparison/user_0149.txt'],\n",
       " '233091498': ['../../data/temp/Phys_1120_Comparison/user_0147.txt'],\n",
       " '130289298': ['../../data/temp/Phys_1120_Comparison/user_0150.txt'],\n",
       " '268972398': ['../../data/temp/Phys_1120_Comparison/user_0151.txt'],\n",
       " '32041398': ['../../data/temp/Phys_1120_Comparison/user_0152.txt'],\n",
       " '222809298': ['../../data/temp/Phys_1120_Comparison/user_0153.txt'],\n",
       " '195204598': ['../../data/temp/Phys_1120_Comparison/user_0154.txt'],\n",
       " '320927198': ['../../data/temp/Phys_1120_Comparison/user_0156.txt'],\n",
       " '613226298': ['../../data/temp/Phys_1120_Comparison/user_0157.txt'],\n",
       " '459688398': ['../../data/temp/Phys_1120_Comparison/user_0158.txt'],\n",
       " '621365298': ['../../data/temp/Phys_1120_Comparison/user_0159.txt'],\n",
       " '692774298': ['../../data/temp/Phys_1120_Comparison/user_0160.txt'],\n",
       " '172713981': ['../../data/temp/Phys_1120_Comparison/user_0161.txt',\n",
       "  '../../data/temp/Phys_1120_Comparison/user_0167.txt'],\n",
       " '516608298': ['../../data/temp/Phys_1120_Comparison/user_0162.txt'],\n",
       " '450329298': ['../../data/temp/Phys_1120_Comparison/user_0163.txt'],\n",
       " '710329398': ['../../data/temp/Phys_1120_Comparison/user_0164.txt'],\n",
       " '903893298': ['../../data/temp/Phys_1120_Comparison/user_0165.txt'],\n",
       " '651158198': ['../../data/temp/Phys_1120_Comparison/user_0166.txt'],\n",
       " '737345198': ['../../data/temp/Phys_1120_Comparison/user_0168.txt'],\n",
       " '425021298': ['../../data/temp/Phys_1120_Comparison/user_0169.txt'],\n",
       " '385686498': ['../../data/temp/Phys_1120_Comparison/user_0170.txt'],\n",
       " '225129098': ['../../data/temp/Phys_1120_Comparison/user_0171.txt'],\n",
       " '253223298': ['../../data/temp/Phys_1120_Comparison/user_0172.txt'],\n",
       " '336166398': ['../../data/temp/Phys_1120_Comparison/user_0173.txt'],\n",
       " '190601698': ['../../data/temp/Phys_1120_Comparison/user_0174.txt'],\n",
       " '461805498': ['../../data/temp/Phys_1120_Comparison/user_0175.txt'],\n",
       " '712115298': ['../../data/temp/Phys_1120_Comparison/user_0176.txt'],\n",
       " '628654398': ['../../data/temp/Phys_1120_Comparison/user_0177.txt'],\n",
       " '363929298': ['../../data/temp/Phys_1120_Comparison/user_0178.txt'],\n",
       " '666166398': ['../../data/temp/Phys_1120_Comparison/user_0179.txt'],\n",
       " '33100398': ['../../data/temp/Phys_1120_Comparison/user_0180.txt'],\n",
       " '355229198': ['../../data/temp/Phys_1120_Comparison/user_0181.txt'],\n",
       " '530509898': ['../../data/temp/Phys_1120_Comparison/user_0182.txt'],\n",
       " '638885198': ['../../data/temp/Phys_1120_Comparison/user_0183.txt'],\n",
       " '196907298': ['../../data/temp/Phys_1120_Comparison/user_0184.txt'],\n",
       " '890162298': ['../../data/temp/Phys_1120_Comparison/user_0185.txt'],\n",
       " '930644298': ['../../data/temp/Phys_1120_Comparison/user_0186.txt'],\n",
       " '541004198': ['../../data/temp/Phys_1120_Comparison/user_0187.txt'],\n",
       " '183453598': ['../../data/temp/Phys_1120_Comparison/user_0188.txt'],\n",
       " '660017298': ['../../data/temp/Phys_1120_Comparison/user_0189.txt'],\n",
       " '579356298': ['../../data/temp/Phys_1120_Comparison/user_0190.txt'],\n",
       " '90457398': ['../../data/temp/Phys_1120_Comparison/user_0191.txt'],\n",
       " '449882298': ['../../data/temp/Phys_1120_Comparison/user_0192.txt'],\n",
       " '533829498': ['../../data/temp/Phys_1120_Comparison/user_0193.txt'],\n",
       " '445439198': ['../../data/temp/Phys_1120_Comparison/user_0194.txt'],\n",
       " '708700398': ['../../data/temp/Phys_1120_Comparison/user_0195.txt'],\n",
       " '802739298': ['../../data/temp/Phys_1120_Comparison/user_0196.txt'],\n",
       " '932454598': ['../../data/temp/Phys_1120_Comparison/user_0197.txt'],\n",
       " '683135298': ['../../data/temp/Phys_1120_Comparison/user_0198.txt'],\n",
       " '961334198': ['../../data/temp/Phys_1120_Comparison/user_0199.txt'],\n",
       " '446842898': ['../../data/temp/Phys_1120_Comparison/user_0200.txt'],\n",
       " '979785598': ['../../data/temp/Phys_1120_Comparison/user_0201.txt'],\n",
       " '17097498': ['../../data/temp/Phys_1120_Comparison/user_0202.txt'],\n",
       " '573559398': ['../../data/temp/Phys_1120_Comparison/user_0203.txt'],\n",
       " '966719298': ['../../data/temp/Phys_1120_Comparison/user_0204.txt'],\n",
       " '403420398': ['../../data/temp/Phys_1120_Comparison/user_0205.txt'],\n",
       " '417711498': ['../../data/temp/Phys_1120_Comparison/user_0206.txt'],\n",
       " '271097298': ['../../data/temp/Phys_1120_Comparison/user_0207.txt'],\n",
       " '482189298': ['../../data/temp/Phys_1120_Comparison/user_0208.txt'],\n",
       " '587402598': ['../../data/temp/Phys_1120_Comparison/user_0209.txt'],\n",
       " '63098298': ['../../data/temp/Phys_1120_Comparison/user_0210.txt'],\n",
       " '38998398': ['../../data/temp/Phys_1120_Comparison/user_0212.txt'],\n",
       " '499382298': ['../../data/temp/Phys_1125_Comparison/user_0000.txt'],\n",
       " '51923198': ['../../data/temp/Phys_1125_Comparison/user_0001.txt'],\n",
       " '983174198': ['../../data/temp/Phys_1125_Comparison/user_0002.txt',\n",
       "  '../../data/temp/Phys_1125_Comparison/user_0003.txt',\n",
       "  '../../data/temp/Phys_1125_Comparison/user_0004.txt',\n",
       "  '../../data/temp/Phys_1125_Comparison/user_0005.txt'],\n",
       " '180139398': ['../../data/temp/Phys_1125_Comparison/user_0006.txt'],\n",
       " '727382198': ['../../data/temp/Phys_1125_Comparison/user_0007.txt'],\n",
       " '650834298': ['../../data/temp/Phys_1125_Comparison/user_0008.txt'],\n",
       " '77759298': ['../../data/temp/Phys_1125_Comparison/user_0009.txt'],\n",
       " '721508298': ['../../data/temp/Phys_1125_Comparison/user_0010.txt'],\n",
       " '779456298': ['../../data/temp/Phys_1125_Comparison/user_0011.txt'],\n",
       " '811583298': ['../../data/temp/Phys_1125_Comparison/user_0012.txt'],\n",
       " '800534198': ['../../data/temp/Phys_1125_Comparison/user_0013.txt'],\n",
       " '162035298': ['../../data/temp/Phys_1125_Comparison/user_0014.txt'],\n",
       " '3229398': ['../../data/temp/Phys_1125_Comparison/user_0015.txt'],\n",
       " '440384298': ['../../data/temp/Phys_1125_Comparison/user_0016.txt'],\n",
       " '723563298': ['../../data/temp/Phys_1125_Comparison/user_0017.txt'],\n",
       " '912419198': ['../../data/temp/Phys_1125_Comparison/user_0018.txt'],\n",
       " '712805298': ['../../data/temp/Phys_1125_Comparison/user_0019.txt'],\n",
       " '30923298': ['../../data/temp/Phys_1125_Comparison/user_0020.txt'],\n",
       " '250466198': ['../../data/temp/Phys_1125_Comparison/user_0021.txt'],\n",
       " '999991898': ['../../data/temp/Phys_1125_Comparison/user_0022.txt'],\n",
       " '303563298': ['../../data/temp/Phys_1125_Comparison/user_0023.txt'],\n",
       " '78393498': ['../../data/temp/Phys_1125_Comparison/user_0024.txt'],\n",
       " '258290298': ['../../data/temp/Phys_1125_Comparison/user_0025.txt'],\n",
       " '324497198': ['../../data/temp/Phys_1125_Comparison/user_0026.txt'],\n",
       " '168353298': ['../../data/temp/Phys_1125_Comparison/user_0027.txt'],\n",
       " '317513198': ['../../data/temp/Phys_1125_Comparison/user_0028.txt'],\n",
       " '814733198': ['../../data/temp/Phys_1125_Comparison/user_0029.txt'],\n",
       " '880313198': ['../../data/temp/Phys_1125_Comparison/user_0030.txt'],\n",
       " '617822198': ['../../data/temp/Phys_1125_Comparison/user_0031.txt'],\n",
       " '803740298': ['../../data/temp/Phys_1125_Comparison/user_0032.txt'],\n",
       " '578645298': ['../../data/temp/Phys_1125_Comparison/user_0033.txt'],\n",
       " '527117298': ['../../data/temp/Phys_1125_Comparison/user_0034.txt'],\n",
       " '971840198': ['../../data/temp/Phys_1125_Comparison/user_0035.txt'],\n",
       " '327977298': ['../../data/temp/Phys_1125_Comparison/user_0036.txt'],\n",
       " '196064298': ['../../data/temp/Phys_1125_Comparison/user_0037.txt']}"
      ]
     },
     "execution_count": 14,
     "metadata": {},
     "output_type": "execute_result"
    }
   ],
   "source": [
    "selected_simulations['common_ids']"
   ]
  },
  {
   "cell_type": "code",
   "execution_count": 15,
   "metadata": {
    "ExecuteTime": {
     "end_time": "2021-04-25T15:54:53.601260Z",
     "start_time": "2021-04-25T15:54:53.594297Z"
    }
   },
   "outputs": [
    {
     "data": {
      "text/plain": [
       "228"
      ]
     },
     "execution_count": 15,
     "metadata": {},
     "output_type": "execute_result"
    }
   ],
   "source": [
    "len(selected_simulations['common_ids'])"
   ]
  },
  {
   "cell_type": "code",
   "execution_count": 5,
   "metadata": {
    "ExecuteTime": {
     "end_time": "2021-04-25T18:18:23.142173Z",
     "start_time": "2021-04-25T18:18:23.129213Z"
    }
   },
   "outputs": [],
   "source": [
    "for iid in selected_simulations['common_ids']:\n",
    "    selected_simulations['common_ids'][iid] = [x.replace('../../', '../') for x in selected_simulations['common_ids'][iid]]"
   ]
  },
  {
   "cell_type": "code",
   "execution_count": 7,
   "metadata": {
    "ExecuteTime": {
     "end_time": "2021-04-25T18:18:30.917307Z",
     "start_time": "2021-04-25T18:18:30.899406Z"
    }
   },
   "outputs": [],
   "source": [
    "with open('../../data/parsed simulations/selected_simulations.pkl', 'wb') as fp:\n",
    "    pickle.dump(selected_simulations, fp)"
   ]
  },
  {
   "cell_type": "code",
   "execution_count": 45,
   "metadata": {
    "ExecuteTime": {
     "end_time": "2021-04-25T16:07:50.358228Z",
     "start_time": "2021-04-25T16:07:50.342302Z"
    }
   },
   "outputs": [
    {
     "data": {
      "text/plain": [
       "228"
      ]
     },
     "execution_count": 45,
     "metadata": {},
     "output_type": "execute_result"
    }
   ],
   "source": [
    "len(selected_simulations['common_ids'])"
   ]
  },
  {
   "cell_type": "markdown",
   "metadata": {},
   "source": [
    "# Excluding multiples that are at risk of having been influenced"
   ]
  },
  {
   "cell_type": "code",
   "execution_count": 99,
   "metadata": {
    "ExecuteTime": {
     "end_time": "2021-04-25T17:04:15.771481Z",
     "start_time": "2021-04-25T17:04:15.744244Z"
    }
   },
   "outputs": [],
   "source": [
    "temp = phys[['metacog_id', 'cq1_1', 'cq1_2', 'cq1_3', 'cq1_4']]\n",
    "temp = temp.dropna()\n",
    "temp = temp.replace('1 (greatest amount of stored energy)', '1')\n",
    "temp = temp.replace('4 (least amount of stored energy)', '4')\n",
    "\n",
    "def getSequence(row):\n",
    "    rank = {}\n",
    "    rank[row['cq1_1']] = '1'\n",
    "    rank[row['cq1_2']] = '2'\n",
    "    rank[row['cq1_3']] = '3'\n",
    "    rank[row['cq1_4']] = '4'\n",
    "    string = ''\n",
    "    if '1' in rank:\n",
    "        string = string + rank['1']\n",
    "    if '2' in rank:\n",
    "        string = string + rank['2']\n",
    "    if '3' in rank:\n",
    "        string = string + rank['3']\n",
    "    if '4' in rank:\n",
    "        string = string + rank['4']\n",
    "    return string\n",
    "\n",
    "temp['sequence'] = temp.apply(getSequence, axis=1)"
   ]
  },
  {
   "cell_type": "code",
   "execution_count": 100,
   "metadata": {
    "ExecuteTime": {
     "end_time": "2021-04-25T17:04:16.066023Z",
     "start_time": "2021-04-25T17:04:15.984216Z"
    }
   },
   "outputs": [],
   "source": [
    "duplicates = []\n",
    "singles = []\n",
    "for i in range(len(temp)):\n",
    "    if temp.iloc[i]['metacog_id'] not in singles:\n",
    "        singles.append(temp.iloc[i]['metacog_id'])\n",
    "    else:\n",
    "        duplicates.append(temp.iloc[i]['metacog_id'])\n",
    "    \n",
    "    "
   ]
  },
  {
   "cell_type": "code",
   "execution_count": 101,
   "metadata": {
    "ExecuteTime": {
     "end_time": "2021-04-25T17:04:16.206327Z",
     "start_time": "2021-04-25T17:04:16.187378Z"
    }
   },
   "outputs": [
    {
     "name": "stdout",
     "output_type": "stream",
     "text": [
      "82819398.0\n",
      "     2018-02-05 18:21:01 2018-02-05 18:31:25 32\n",
      "     2018-02-05 18:31:49 2018-02-05 18:37:43 32\n",
      "\n",
      "996629298.0\n",
      "     2018-02-03 19:25:26 2018-02-03 19:35:08 23\n",
      "     2018-02-06 18:26:27 2018-02-06 18:35:23 32\n",
      "\n"
     ]
    }
   ],
   "source": [
    "for iid in np.unique(duplicates):\n",
    "    temp = phys[phys['metacog_id'] == iid]\n",
    "    print(iid)\n",
    "    for i in range(len(temp)):\n",
    "        print('    ',temp.iloc[i]['start_date'], temp.iloc[i]['end_date'], temp.iloc[i]['sequence'])\n",
    "    print()"
   ]
  },
  {
   "cell_type": "markdown",
   "metadata": {},
   "source": [
    "# Parsing simulations\n",
    "Here, we should parse the simulations in order to create the parsing models before deciding which ones are too short to continue with."
   ]
  },
  {
   "cell_type": "code",
   "execution_count": null,
   "metadata": {},
   "outputs": [],
   "source": []
  },
  {
   "cell_type": "code",
   "execution_count": null,
   "metadata": {},
   "outputs": [],
   "source": []
  },
  {
   "cell_type": "code",
   "execution_count": null,
   "metadata": {},
   "outputs": [],
   "source": []
  },
  {
   "cell_type": "code",
   "execution_count": null,
   "metadata": {},
   "outputs": [],
   "source": []
  },
  {
   "cell_type": "code",
   "execution_count": null,
   "metadata": {},
   "outputs": [],
   "source": []
  },
  {
   "cell_type": "code",
   "execution_count": null,
   "metadata": {},
   "outputs": [],
   "source": []
  },
  {
   "cell_type": "code",
   "execution_count": null,
   "metadata": {},
   "outputs": [],
   "source": []
  },
  {
   "cell_type": "code",
   "execution_count": null,
   "metadata": {},
   "outputs": [],
   "source": []
  },
  {
   "cell_type": "code",
   "execution_count": null,
   "metadata": {},
   "outputs": [],
   "source": []
  },
  {
   "cell_type": "code",
   "execution_count": null,
   "metadata": {},
   "outputs": [],
   "source": []
  },
  {
   "cell_type": "code",
   "execution_count": null,
   "metadata": {},
   "outputs": [],
   "source": []
  }
 ],
 "metadata": {
  "kernelspec": {
   "display_name": "Python 3",
   "language": "python",
   "name": "python3"
  },
  "language_info": {
   "codemirror_mode": {
    "name": "ipython",
    "version": 3
   },
   "file_extension": ".py",
   "mimetype": "text/x-python",
   "name": "python",
   "nbconvert_exporter": "python",
   "pygments_lexer": "ipython3",
   "version": "3.6.12"
  },
  "toc": {
   "base_numbering": 1,
   "nav_menu": {},
   "number_sections": true,
   "sideBar": true,
   "skip_h1_title": false,
   "title_cell": "Table of Contents",
   "title_sidebar": "Contents",
   "toc_cell": false,
   "toc_position": {
    "height": "calc(100% - 180px)",
    "left": "10px",
    "top": "150px",
    "width": "215.283px"
   },
   "toc_section_display": true,
   "toc_window_display": true
  }
 },
 "nbformat": 4,
 "nbformat_minor": 4
}
