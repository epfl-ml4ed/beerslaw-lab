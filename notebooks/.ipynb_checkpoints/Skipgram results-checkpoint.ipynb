{
 "cells": [
  {
   "cell_type": "code",
   "execution_count": 26,
   "metadata": {
    "ExecuteTime": {
     "end_time": "2021-09-07T16:45:35.213968Z",
     "start_time": "2021-09-07T16:45:34.347241Z"
    }
   },
   "outputs": [],
   "source": [
    "import os\n",
    "import re\n",
    "import json\n",
    "import yaml\n",
    "import numpy as np\n",
    "import pandas as pd\n",
    "\n",
    "from bokeh.plotting import figure, output_file, show\n",
    "from bokeh.models import ColumnDataSource, HoverTool, Whisker\n",
    "from bokeh.sampledata.autompg import autompg as df\n",
    "from bokeh.io import output_file, show\n",
    "from bokeh.palettes import Spectral6\n",
    "from bokeh.transform import factor_cmap\n"
   ]
  },
  {
   "cell_type": "markdown",
   "metadata": {},
   "source": [
    "# functions"
   ]
  },
  {
   "cell_type": "code",
   "execution_count": 14,
   "metadata": {
    "ExecuteTime": {
     "end_time": "2021-09-07T16:39:24.058138Z",
     "start_time": "2021-09-07T16:39:24.038154Z"
    }
   },
   "outputs": [],
   "source": [
    "def get_embeddings(path: str) -> str:\n",
    "    em = re.compile('e([0-9]+)')\n",
    "    return em.findall(path)[0]\n",
    "\n",
    "def get_windows(path: str) -> str:\n",
    "    win = re.compile('w([0-9]+)')\n",
    "    return win.findall(path)[0]\n",
    "\n",
    "def get_epochs(path: str) -> str:\n",
    "    epochs = re.compile('ep([0-9]+)')\n",
    "    return epochs.findall(path)[0]"
   ]
  },
  {
   "cell_type": "code",
   "execution_count": 2,
   "metadata": {
    "ExecuteTime": {
     "end_time": "2021-09-07T16:34:10.834293Z",
     "start_time": "2021-09-07T16:34:10.827314Z"
    }
   },
   "outputs": [],
   "source": [
    "experiment_name = 'pw training minimise'"
   ]
  },
  {
   "cell_type": "code",
   "execution_count": 3,
   "metadata": {
    "ExecuteTime": {
     "end_time": "2021-09-07T16:35:16.303440Z",
     "start_time": "2021-09-07T16:35:16.289450Z"
    }
   },
   "outputs": [],
   "source": [
    "path = '../../experiments/' + experiment_name + '/'"
   ]
  },
  {
   "cell_type": "code",
   "execution_count": 6,
   "metadata": {
    "ExecuteTime": {
     "end_time": "2021-09-07T16:35:45.923724Z",
     "start_time": "2021-09-07T16:35:45.902749Z"
    }
   },
   "outputs": [],
   "source": [
    "result_files = []\n",
    "for r, d, f in os.walk(path):\n",
    "    for file in f:\n",
    "        if file.endswith(\".csv\"):\n",
    "            result_files.append(os.path.join(r, file))"
   ]
  },
  {
   "cell_type": "code",
   "execution_count": 23,
   "metadata": {
    "ExecuteTime": {
     "end_time": "2021-09-07T16:41:52.947440Z",
     "start_time": "2021-09-07T16:41:52.921478Z"
    }
   },
   "outputs": [],
   "source": [
    "results = {}\n",
    "for i, file in enumerate(result_files):\n",
    "    f = pd.read_csv(file, sep=';')\n",
    "    results[i] = {\n",
    "        'embeddings': get_embeddings(file),\n",
    "        'windows': get_windows(file),\n",
    "        'epochs': get_epochs(file),\n",
    "        'accuracy': f.iloc[-1]['accuracy'],\n",
    "        'loss': f.iloc[-1]['loss'],\n",
    "        'val_accuracy': f.iloc[-1]['val_accuracy'],\n",
    "        'val_loss': f.iloc[-1]['val_loss'],\n",
    "    }"
   ]
  },
  {
   "cell_type": "code",
   "execution_count": 31,
   "metadata": {
    "ExecuteTime": {
     "end_time": "2021-09-07T16:46:02.169799Z",
     "start_time": "2021-09-07T16:46:01.601842Z"
    }
   },
   "outputs": [
    {
     "name": "stderr",
     "output_type": "stream",
     "text": [
      "BokehUserWarning: ColumnDataSource's columns must be of the same length. Current lengths: ('top', 3), ('x', 1)\n"
     ]
    }
   ],
   "source": [
    "p = figure(\n",
    "    title='Parameter Comparison',\n",
    "    sizing_mode='stretch_both'\n",
    ")\n",
    "p.title.text_font_size = '15pt'\n",
    "p.xaxis.axis_label_text_font_size  = '2pt'\n",
    "p.yaxis.axis_label_text_font_size  = '2pt'\n",
    "\n",
    "p.vbar(x=[i in range(len(results))], top=[results[r]['accuracy'] for r in results], width=0.9, color='dodgerblue')\n",
    "\n",
    "show(p)"
   ]
  },
  {
   "cell_type": "code",
   "execution_count": null,
   "metadata": {},
   "outputs": [],
   "source": []
  },
  {
   "cell_type": "code",
   "execution_count": null,
   "metadata": {},
   "outputs": [],
   "source": []
  },
  {
   "cell_type": "code",
   "execution_count": null,
   "metadata": {},
   "outputs": [],
   "source": []
  },
  {
   "cell_type": "code",
   "execution_count": null,
   "metadata": {},
   "outputs": [],
   "source": []
  },
  {
   "cell_type": "code",
   "execution_count": null,
   "metadata": {},
   "outputs": [],
   "source": []
  },
  {
   "cell_type": "code",
   "execution_count": null,
   "metadata": {},
   "outputs": [],
   "source": []
  },
  {
   "cell_type": "code",
   "execution_count": null,
   "metadata": {},
   "outputs": [],
   "source": []
  },
  {
   "cell_type": "code",
   "execution_count": null,
   "metadata": {},
   "outputs": [],
   "source": []
  },
  {
   "cell_type": "code",
   "execution_count": null,
   "metadata": {},
   "outputs": [],
   "source": []
  },
  {
   "cell_type": "code",
   "execution_count": null,
   "metadata": {},
   "outputs": [],
   "source": []
  },
  {
   "cell_type": "code",
   "execution_count": null,
   "metadata": {},
   "outputs": [],
   "source": []
  },
  {
   "cell_type": "code",
   "execution_count": null,
   "metadata": {},
   "outputs": [],
   "source": []
  },
  {
   "cell_type": "code",
   "execution_count": null,
   "metadata": {},
   "outputs": [],
   "source": []
  },
  {
   "cell_type": "code",
   "execution_count": null,
   "metadata": {},
   "outputs": [],
   "source": []
  },
  {
   "cell_type": "code",
   "execution_count": null,
   "metadata": {},
   "outputs": [],
   "source": []
  },
  {
   "cell_type": "code",
   "execution_count": null,
   "metadata": {},
   "outputs": [],
   "source": []
  },
  {
   "cell_type": "code",
   "execution_count": null,
   "metadata": {},
   "outputs": [],
   "source": []
  },
  {
   "cell_type": "code",
   "execution_count": null,
   "metadata": {},
   "outputs": [],
   "source": []
  },
  {
   "cell_type": "code",
   "execution_count": null,
   "metadata": {},
   "outputs": [],
   "source": []
  },
  {
   "cell_type": "code",
   "execution_count": null,
   "metadata": {},
   "outputs": [],
   "source": []
  },
  {
   "cell_type": "code",
   "execution_count": null,
   "metadata": {},
   "outputs": [],
   "source": []
  },
  {
   "cell_type": "code",
   "execution_count": null,
   "metadata": {},
   "outputs": [],
   "source": []
  },
  {
   "cell_type": "code",
   "execution_count": null,
   "metadata": {},
   "outputs": [],
   "source": []
  }
 ],
 "metadata": {
  "kernelspec": {
   "display_name": "Python 3",
   "language": "python",
   "name": "python3"
  },
  "language_info": {
   "codemirror_mode": {
    "name": "ipython",
    "version": 3
   },
   "file_extension": ".py",
   "mimetype": "text/x-python",
   "name": "python",
   "nbconvert_exporter": "python",
   "pygments_lexer": "ipython3",
   "version": "3.6.12"
  },
  "toc": {
   "base_numbering": 1,
   "nav_menu": {},
   "number_sections": true,
   "sideBar": true,
   "skip_h1_title": false,
   "title_cell": "Table of Contents",
   "title_sidebar": "Contents",
   "toc_cell": false,
   "toc_position": {},
   "toc_section_display": true,
   "toc_window_display": false
  }
 },
 "nbformat": 4,
 "nbformat_minor": 4
}
