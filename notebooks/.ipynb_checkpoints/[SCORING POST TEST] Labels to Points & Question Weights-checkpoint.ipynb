{
 "cells": [
  {
   "cell_type": "code",
   "execution_count": 2,
   "id": "e8447c45",
   "metadata": {
    "ExecuteTime": {
     "end_time": "2021-11-05T10:15:53.053069Z",
     "start_time": "2021-11-05T10:15:51.629945Z"
    }
   },
   "outputs": [],
   "source": [
    "import os\n",
    "import yaml\n",
    "import pickle\n",
    "\n",
    "import numpy as np\n",
    "import pandas as pd\n",
    "\n",
    "from matplotlib import pyplot as plt\n",
    "import seaborn as sns"
   ]
  },
  {
   "cell_type": "markdown",
   "id": "5a0ae68a",
   "metadata": {},
   "source": [
    "# Data"
   ]
  },
  {
   "cell_type": "code",
   "execution_count": 3,
   "id": "576642e8",
   "metadata": {
    "ExecuteTime": {
     "end_time": "2021-11-05T10:15:53.064482Z",
     "start_time": "2021-11-05T10:15:53.055026Z"
    }
   },
   "outputs": [],
   "source": [
    "with open('../../data/post_test/some_annotated.pkl', 'rb') as fp:\n",
    "    some = pickle.load(fp)"
   ]
  },
  {
   "cell_type": "code",
   "execution_count": 5,
   "id": "a2b9215e",
   "metadata": {
    "ExecuteTime": {
     "end_time": "2021-11-05T10:18:01.897992Z",
     "start_time": "2021-11-05T10:18:01.891977Z"
    }
   },
   "outputs": [],
   "source": [
    "def process_q1(label):\n",
    "    correct = ['correct']\n",
    "    wrong = [\n",
    "        'none', 'unrelated', 'inverse', 'to check', 'larger', 'smaller', 'nans', 'same'\n",
    "    ]\n",
    "    if label in correct:\n",
    "        return 1\n",
    "    else:\n",
    "        return 0\n",
    "    \n",
    "def process_q2(label):\n",
    "    correct = ['correct']\n",
    "    wrong = [\n",
    "        'nans', 'larger', 'inverse', 'unrelated', 'mathematical', 'smaller', 'same'\n",
    "    ]\n",
    "    if label in correct:\n",
    "        return 1\n",
    "    else:\n",
    "        return 0\n",
    "    \n",
    "def process_q3(label):\n",
    "    correct = ['correct', 'same']\n",
    "    wrong = [\n",
    "        'nans', 'half', 'double', 'unrelated', 'larger', 'smaller', 'quadruple'\n",
    "    ]\n",
    "    if label in correct:\n",
    "        return 1\n",
    "    else:\n",
    "        return 0\n",
    "    \n",
    "def process_q3(label):\n",
    "    correct = ['correct']\n",
    "    wrong = [\n",
    "        'nans', 'smaller', 'fourth', 'larger', 'same', 'inverse', 'half', 'unrelated', 'quadruple', \n",
    "        'double', 'third', 'to check', 'triple'\n",
    "    ]\n",
    "    if label in correct:\n",
    "        return 1\n",
    "    else:\n",
    "        return 0"
   ]
  },
  {
   "cell_type": "code",
   "execution_count": 9,
   "id": "dbb7cbc4",
   "metadata": {
    "ExecuteTime": {
     "end_time": "2021-11-05T10:20:36.619112Z",
     "start_time": "2021-11-05T10:20:36.614450Z"
    }
   },
   "outputs": [
    {
     "data": {
      "text/plain": [
       "array(['nans', 'correct', 'smaller', 'fourth', 'larger', 'same',\n",
       "       'inverse', 'half', 'unrelated', 'quadruple', 'double', 'third',\n",
       "       'to check', 'triple'], dtype=object)"
      ]
     },
     "execution_count": 9,
     "metadata": {},
     "output_type": "execute_result"
    }
   ],
   "source": [
    "some['label_q4'].unique()"
   ]
  },
  {
   "cell_type": "code",
   "execution_count": 8,
   "id": "b39d3a73",
   "metadata": {
    "ExecuteTime": {
     "end_time": "2021-11-05T10:20:20.429755Z",
     "start_time": "2021-11-05T10:20:20.416898Z"
    }
   },
   "outputs": [
    {
     "ename": "NameError",
     "evalue": "name 'process_q4' is not defined",
     "output_type": "error",
     "traceback": [
      "\u001b[0;31m---------------------------------------------------------------------------\u001b[0m",
      "\u001b[0;31mNameError\u001b[0m                                 Traceback (most recent call last)",
      "\u001b[0;32m/var/folders/jy/0pp1md9x1358dt8g8k69srhr0000gp/T/ipykernel_10086/2933448854.py\u001b[0m in \u001b[0;36m<module>\u001b[0;34m\u001b[0m\n\u001b[1;32m      2\u001b[0m \u001b[0msome\u001b[0m\u001b[0;34m[\u001b[0m\u001b[0;34m'q2_score'\u001b[0m\u001b[0;34m]\u001b[0m \u001b[0;34m=\u001b[0m \u001b[0msome\u001b[0m\u001b[0;34m[\u001b[0m\u001b[0;34m'q2_label'\u001b[0m\u001b[0;34m]\u001b[0m\u001b[0;34m.\u001b[0m\u001b[0mapply\u001b[0m\u001b[0;34m(\u001b[0m\u001b[0mprocess_q2\u001b[0m\u001b[0;34m)\u001b[0m\u001b[0;34m\u001b[0m\u001b[0;34m\u001b[0m\u001b[0m\n\u001b[1;32m      3\u001b[0m \u001b[0msome\u001b[0m\u001b[0;34m[\u001b[0m\u001b[0;34m'q3_score'\u001b[0m\u001b[0;34m]\u001b[0m \u001b[0;34m=\u001b[0m \u001b[0msome\u001b[0m\u001b[0;34m[\u001b[0m\u001b[0;34m'label_q3'\u001b[0m\u001b[0;34m]\u001b[0m\u001b[0;34m.\u001b[0m\u001b[0mapply\u001b[0m\u001b[0;34m(\u001b[0m\u001b[0mprocess_q3\u001b[0m\u001b[0;34m)\u001b[0m\u001b[0;34m\u001b[0m\u001b[0;34m\u001b[0m\u001b[0m\n\u001b[0;32m----> 4\u001b[0;31m \u001b[0msome\u001b[0m\u001b[0;34m[\u001b[0m\u001b[0;34m'q4_score'\u001b[0m\u001b[0;34m]\u001b[0m \u001b[0;34m=\u001b[0m \u001b[0msome\u001b[0m\u001b[0;34m[\u001b[0m\u001b[0;34m'label_q4'\u001b[0m\u001b[0;34m]\u001b[0m\u001b[0;34m.\u001b[0m\u001b[0mapply\u001b[0m\u001b[0;34m(\u001b[0m\u001b[0mprocess_q4\u001b[0m\u001b[0;34m)\u001b[0m\u001b[0;34m\u001b[0m\u001b[0;34m\u001b[0m\u001b[0m\n\u001b[0m",
      "\u001b[0;31mNameError\u001b[0m: name 'process_q4' is not defined"
     ]
    }
   ],
   "source": [
    "some['q1_score'] = some['label_q1'].apply(process_q1)\n",
    "some['q2_score'] = some['q2_label'].apply(process_q2)\n",
    "some['q3_score'] = some['label_q3'].apply(process_q3)\n",
    "some['q4_score'] = some['label_q4'].apply(process_q4)"
   ]
  },
  {
   "cell_type": "code",
   "execution_count": 6,
   "id": "93b4f565",
   "metadata": {
    "ExecuteTime": {
     "end_time": "2021-11-05T10:18:13.008083Z",
     "start_time": "2021-11-05T10:18:13.003520Z"
    }
   },
   "outputs": [
    {
     "data": {
      "text/plain": [
       "Index(['username', 'start_time', 'exploration_time', 'ranking_task_time',\n",
       "       'ranking', 'ranking_confidence', 'ranking_time', 'q1', 'q1_conf',\n",
       "       'q1_time', 'q2', 'q2_conf', 'q2_time', 'q3', 'q3_conf', 'q3_time', 'q4',\n",
       "       'q4_conf', 'q4_time', 'q5_colour0', 'q5_colour1', 'q5_colour2',\n",
       "       'q5_colour3', 'q5_time', 'q6_colour0', 'q6_colour1', 'q6_colour2',\n",
       "       'q6_colour3', 'q6_time', 'q7_colour0', 'q7_colour1', 'q7_colour2',\n",
       "       'q7_colour3', 'q7_time', 'q8_colour0', 'q8_colour1', 'q8_colour2',\n",
       "       'q8_colour3', 'q8_time', 'formula', 'fomula_conf', 'formula_time',\n",
       "       'notes_text', 'notes_math', 'notes_table', 'notes_diag', 'notes_time',\n",
       "       'beerslaw', 'beerslaw_conf', 'beerslaw_time', 'problem_ranking',\n",
       "       'problem_conf', 'problem_time', 'feedback_entertain',\n",
       "       'feedback_difficult', 'feedback_good', 'feedback_bad', 'feedback',\n",
       "       'feedback_time', 'experiment_time', 'status', 'session', 'version',\n",
       "       'numerical_status', 'language', 'field', 'level', 'year', 'consent',\n",
       "       'gender', 'label_q1', 'flag_q1_label', 'q2_label', 'flag_q2_label',\n",
       "       'label_q3', 'flag_label_q3', 'label_q4', 'flag_label_q4'],\n",
       "      dtype='object')"
      ]
     },
     "execution_count": 6,
     "metadata": {},
     "output_type": "execute_result"
    }
   ],
   "source": [
    "some.columns"
   ]
  },
  {
   "cell_type": "code",
   "execution_count": null,
   "id": "4d1c4632",
   "metadata": {},
   "outputs": [],
   "source": []
  },
  {
   "cell_type": "code",
   "execution_count": null,
   "id": "0dbb4cc0",
   "metadata": {},
   "outputs": [],
   "source": []
  },
  {
   "cell_type": "code",
   "execution_count": null,
   "id": "81e1e182",
   "metadata": {},
   "outputs": [],
   "source": []
  },
  {
   "cell_type": "code",
   "execution_count": null,
   "id": "f49b1451",
   "metadata": {},
   "outputs": [],
   "source": []
  },
  {
   "cell_type": "code",
   "execution_count": null,
   "id": "e0fc8b40",
   "metadata": {},
   "outputs": [],
   "source": []
  },
  {
   "cell_type": "code",
   "execution_count": null,
   "id": "88796bb0",
   "metadata": {},
   "outputs": [],
   "source": []
  },
  {
   "cell_type": "code",
   "execution_count": null,
   "id": "da000881",
   "metadata": {},
   "outputs": [],
   "source": []
  },
  {
   "cell_type": "code",
   "execution_count": null,
   "id": "10fef276",
   "metadata": {},
   "outputs": [],
   "source": []
  },
  {
   "cell_type": "code",
   "execution_count": null,
   "id": "df6be9b2",
   "metadata": {},
   "outputs": [],
   "source": []
  },
  {
   "cell_type": "code",
   "execution_count": null,
   "id": "4496bffa",
   "metadata": {},
   "outputs": [],
   "source": []
  },
  {
   "cell_type": "code",
   "execution_count": null,
   "id": "9ad78e62",
   "metadata": {},
   "outputs": [],
   "source": []
  },
  {
   "cell_type": "code",
   "execution_count": null,
   "id": "e2e6d0d9",
   "metadata": {},
   "outputs": [],
   "source": []
  },
  {
   "cell_type": "code",
   "execution_count": null,
   "id": "a5704694",
   "metadata": {},
   "outputs": [],
   "source": []
  },
  {
   "cell_type": "code",
   "execution_count": null,
   "id": "a72ec099",
   "metadata": {},
   "outputs": [],
   "source": []
  },
  {
   "cell_type": "code",
   "execution_count": null,
   "id": "c0462f10",
   "metadata": {},
   "outputs": [],
   "source": []
  },
  {
   "cell_type": "code",
   "execution_count": null,
   "id": "f2306ad0",
   "metadata": {},
   "outputs": [],
   "source": []
  },
  {
   "cell_type": "code",
   "execution_count": null,
   "id": "c426496d",
   "metadata": {},
   "outputs": [],
   "source": []
  }
 ],
 "metadata": {
  "kernelspec": {
   "display_name": "Python 3 (ipykernel)",
   "language": "python",
   "name": "python3"
  },
  "language_info": {
   "codemirror_mode": {
    "name": "ipython",
    "version": 3
   },
   "file_extension": ".py",
   "mimetype": "text/x-python",
   "name": "python",
   "nbconvert_exporter": "python",
   "pygments_lexer": "ipython3",
   "version": "3.7.11"
  },
  "toc": {
   "base_numbering": 1,
   "nav_menu": {},
   "number_sections": true,
   "sideBar": true,
   "skip_h1_title": false,
   "title_cell": "Table of Contents",
   "title_sidebar": "Contents",
   "toc_cell": false,
   "toc_position": {},
   "toc_section_display": true,
   "toc_window_display": false
  }
 },
 "nbformat": 4,
 "nbformat_minor": 5
}
