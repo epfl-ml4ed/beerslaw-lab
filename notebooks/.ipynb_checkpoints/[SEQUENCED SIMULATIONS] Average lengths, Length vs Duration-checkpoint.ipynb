{
 "cells": [
  {
   "cell_type": "markdown",
   "id": "dbbb58a7",
   "metadata": {},
   "source": [
    "Ce notebook sert à observer la différence de longueur dans les différentes séquences."
   ]
  },
  {
   "cell_type": "code",
   "execution_count": 1,
   "id": "958b6af5",
   "metadata": {
    "ExecuteTime": {
     "end_time": "2021-12-02T15:46:18.017415Z",
     "start_time": "2021-12-02T15:46:17.259373Z"
    }
   },
   "outputs": [],
   "source": [
    "import os\n",
    "import re\n",
    "import yaml\n",
    "import pickle\n",
    "\n",
    "import numpy as np\n",
    "import pandas as pd\n",
    "\n",
    "from matplotlib import pyplot as plt\n",
    "import seaborn as sns"
   ]
  },
  {
   "cell_type": "code",
   "execution_count": 2,
   "id": "8ba4fbea",
   "metadata": {
    "ExecuteTime": {
     "end_time": "2021-12-02T15:46:18.025270Z",
     "start_time": "2021-12-02T15:46:18.019641Z"
    }
   },
   "outputs": [
    {
     "name": "stdout",
     "output_type": "stream",
     "text": [
      "/Users/cock/kDrive/PhD/Projects/Labs/beerslaw-lab/src\n"
     ]
    }
   ],
   "source": [
    "cd ../src"
   ]
  },
  {
   "cell_type": "markdown",
   "id": "38d630fa",
   "metadata": {},
   "source": [
    "# Duration of the interactions (s)"
   ]
  },
  {
   "cell_type": "code",
   "execution_count": 3,
   "id": "990172b2",
   "metadata": {
    "ExecuteTime": {
     "end_time": "2021-12-05T20:07:25.229182Z",
     "start_time": "2021-12-05T20:07:25.226795Z"
    }
   },
   "outputs": [],
   "source": [
    "palette = ['#7400B8', '#6930C3', '#5E60CE', '#5390D9', '#4EA8DE', '#48BFE3', '#56CFE1', '#64DFDF', '#72EFDD', '#80FFDB']"
   ]
  },
  {
   "cell_type": "code",
   "execution_count": 4,
   "id": "2ad19010",
   "metadata": {
    "ExecuteTime": {
     "end_time": "2021-12-05T20:07:25.605200Z",
     "start_time": "2021-12-05T20:07:25.597317Z"
    }
   },
   "outputs": [],
   "source": [
    "def get_durations(sequencer_name:str) -> list:\n",
    "    sequenced_path = '../data/sequenced_simulations/' + sequencer_name + '/'\n",
    "    files = os.listdir(sequenced_path)\n",
    "    files = [f for f in files if 'sequenced.pkl' in f]\n",
    "    print(len(files))\n",
    "\n",
    "    # regex expression to retrieve id \n",
    "    id_regex = re.compile('lid([^_]+)_')\n",
    "    perm_regex = re.compile('p_([^_]+)_')\n",
    "\n",
    "    i = 0\n",
    "    lengths = {}\n",
    "    while len(files) != 0:\n",
    "        file = files[0]\n",
    "        lid = id_regex.findall(file)[0]\n",
    "        permutation = perm_regex.findall(file)[0]\n",
    "        lengths_12 = 0\n",
    "        durations_12 = 0\n",
    "        \n",
    "        for n_task in range(1, 3):\n",
    "            file_path = 'p_' + str(permutation) + '_lid' + str(lid) + '_t' + str(n_task) + '_sequenced.pkl'\n",
    "            with open(sequenced_path + file_path, 'rb') as fp:\n",
    "                sequence = pickle.load(fp)\n",
    "                lengths_12 += sequence['last_timestamp']\n",
    "                durations_12 += len(sequence['sequence'])\n",
    "                if file_path in files:\n",
    "                    files.remove(file_path)\n",
    "        \n",
    "        file_path = 'p_' + str(permutation) + '_lid' + str(lid) + '_t3_sequenced.pkl'\n",
    "        if file_path in files:\n",
    "            files.remove(file_path)\n",
    "        if durations_12 > -1:\n",
    "            lengths[lid] = lengths_12\n",
    "#         else:\n",
    "#             print(lid)\n",
    "    return lengths\n",
    "\n",
    "def plot_distribution_of_time(sequencer_name:str):\n",
    "    lengths = get_durations(sequencer_name)\n",
    "    lengths = [lengths[x] for x in lengths]\n",
    "#     print(len(lengths))\n",
    "#     lengths = [l for l in lengths if l>60]\n",
    "    plt.figure(figsize=(12, 4))\n",
    "    plt.hist(lengths, bins=list(range(0, 6000, 60)), color='dodgerblue')\n",
    "    plt.ylim([0, 35])\n",
    "    plt.xlim([0, 2100])\n",
    "    plt.xlabel('seconds')\n",
    "    plt.xticks(list(range(0, 2200, 100)))\n",
    "    plt.title('Time Distribution')\n",
    "    plt.show()"
   ]
  },
  {
   "cell_type": "code",
   "execution_count": 14,
   "id": "f6f4d6cd",
   "metadata": {
    "ExecuteTime": {
     "end_time": "2021-11-30T13:17:24.741593Z",
     "start_time": "2021-11-30T13:17:23.723975Z"
    }
   },
   "outputs": [
    {
     "name": "stdout",
     "output_type": "stream",
     "text": [
      "1242\n"
     ]
    },
    {
     "data": {
      "image/png": "[encoded data removed]",
      "text/plain": [
       "<Figure size 864x288 with 1 Axes>"
      ]
     },
     "metadata": {
      "needs_background": "light"
     },
     "output_type": "display_data"
    }
   ],
   "source": [
    "plot_distribution_of_time('stateaction_secondslstm')"
   ]
  },
  {
   "cell_type": "code",
   "execution_count": 16,
   "id": "8940bb6b",
   "metadata": {
    "ExecuteTime": {
     "end_time": "2021-11-30T13:18:47.964437Z",
     "start_time": "2021-11-30T13:18:46.646095Z"
    }
   },
   "outputs": [
    {
     "name": "stdout",
     "output_type": "stream",
     "text": [
      "1242\n"
     ]
    },
    {
     "data": {
      "image/png": "[encoded data removed]",
      "text/plain": [
       "<Figure size 864x288 with 1 Axes>"
      ]
     },
     "metadata": {
      "needs_background": "light"
     },
     "output_type": "display_data"
    }
   ],
   "source": [
    "plot_distribution_of_time('stateaction_encodedlstm')"
   ]
  },
  {
   "cell_type": "markdown",
   "id": "45900de9",
   "metadata": {},
   "source": [
    "# Sequenced"
   ]
  },
  {
   "cell_type": "code",
   "execution_count": 9,
   "id": "4736c4c6",
   "metadata": {
    "ExecuteTime": {
     "end_time": "2021-12-05T20:07:38.925563Z",
     "start_time": "2021-12-05T20:07:38.915400Z"
    }
   },
   "outputs": [],
   "source": [
    "def get_lengths(sequencer_name:str) -> list:\n",
    "    sequenced_path = '../data/sequenced_simulations/' + sequencer_name + '/'\n",
    "    files = os.listdir(sequenced_path)\n",
    "    files = [f for f in files if 'sequenced.pkl' in f]\n",
    "    print\n",
    "\n",
    "    # regex expression to retrieve id \n",
    "    id_regex = re.compile('lid([^_]+)_')\n",
    "    perm_regex = re.compile('p_([^_]+)_')\n",
    "\n",
    "    i = 0\n",
    "    lengths = {}\n",
    "    while len(files) != 0:\n",
    "        file = files[0]\n",
    "        lid = id_regex.findall(file)[0]\n",
    "        permutation = perm_regex.findall(file)[0]\n",
    "        lengths_12 = 0\n",
    "        durations_12 = 0\n",
    "        for n_task in range(2, 3):\n",
    "            file_path = 'p_' + str(permutation) + '_lid' + str(lid) + '_t' + str(n_task) + '_sequenced.pkl'\n",
    "            with open(sequenced_path + file_path, 'rb') as fp:\n",
    "                sequence = pickle.load(fp)\n",
    "                lengths_12 += len(sequence['sequence'])\n",
    "                durations_12 += sequence['last_timestamp']\n",
    "                files.remove(file_path)\n",
    "        file_path = 'p_' + str(permutation) + '_lid' + str(lid) + '_t3_sequenced.pkl'\n",
    "        files.remove(file_path)\n",
    "        file_path = 'p_' + str(permutation) + '_lid' + str(lid) + '_t1_sequenced.pkl'\n",
    "        files.remove(file_path)\n",
    "        lengths[lid] = {\n",
    "            'lengths': lengths_12,\n",
    "            'durations': durations_12,\n",
    "            'year': sequence['year']\n",
    "        }\n",
    "    return lengths\n",
    "\n",
    "def plot_distribution_of_length(lengths, axis):\n",
    "    lengths = [lengths[lid]['durations'] for lid in lengths if lengths[lid]['lengths']>10]\n",
    "    \n",
    "    axis.hist(lengths, bins=list(range(10, 1000, 50)), color=np.random.choice(palette))\n",
    "    axis.set_ylim([0, 75])\n",
    "    axis.set_title('length distribution')\n",
    "    \n",
    "def plot_lengths_vs_durations(lengths, axis):\n",
    "    durations = [lengths[lid]['durations'] for lid in lengths if lengths[lid]['lengths']>10]\n",
    "    lengths = [lengths[lid]['lengths'] for lid in lengths if lengths[lid]['lengths']>10]\n",
    "    \n",
    "    axis.scatter(durations, lengths, color=np.random.choice(palette))\n",
    "    axis.set_xlabel('duration (s)')\n",
    "    axis.set_ylabel('lengths (#)')\n",
    "    axis.set_xlim([0, 1500])\n",
    "    axis.set_ylim([0, 1500])\n",
    "    axis.set_title('lengths vs duration')\n",
    "    \n",
    "    \n",
    "def plot(sequencer_name: str, sampling_rate:str):\n",
    "    fig, axis = plt.subplots(1, 2, figsize=(12, 4))\n",
    "    \n",
    "    lengths = get_lengths(sequencer_name)\n",
    "    plot_distribution_of_length(lengths, axis[0])\n",
    "    plot_lengths_vs_durations(lengths, axis[1])\n",
    "    \n",
    "    plt.suptitle('Sampling rate: {}'.format(sampling_rate))\n",
    "    plt.show()\n"
   ]
  },
  {
   "cell_type": "code",
   "execution_count": 8,
   "id": "e99d63e1",
   "metadata": {
    "ExecuteTime": {
     "end_time": "2021-12-02T15:51:26.615306Z",
     "start_time": "2021-12-02T15:51:25.919530Z"
    }
   },
   "outputs": [
    {
     "data": {
      "image/png": "[encoded data removed]",
      "text/plain": [
       "<Figure size 864x288 with 2 Axes>"
      ]
     },
     "metadata": {
      "needs_background": "light"
     },
     "output_type": "display_data"
    }
   ],
   "source": [
    "plot('stateaction_secondslstm', 'seconds')\n",
    "lengths = get_lengths('stateaction_secondslstm')"
   ]
  },
  {
   "cell_type": "code",
   "execution_count": 19,
   "id": "01b7ff1a",
   "metadata": {
    "ExecuteTime": {
     "end_time": "2021-11-30T13:19:07.054614Z",
     "start_time": "2021-11-30T13:19:05.674118Z"
    }
   },
   "outputs": [
    {
     "data": {
      "image/png": "[encoded data removed]",
      "text/plain": [
       "<Figure size 864x288 with 2 Axes>"
      ]
     },
     "metadata": {
      "needs_background": "light"
     },
     "output_type": "display_data"
    }
   ],
   "source": [
    "plot('stateaction_encodedlstm', 'encoded')\n",
    "lengths = get_lengths('stateaction_encodedlstm')"
   ]
  },
  {
   "cell_type": "code",
   "execution_count": 25,
   "id": "c3b6a2f4",
   "metadata": {
    "ExecuteTime": {
     "end_time": "2021-11-30T13:21:22.554879Z",
     "start_time": "2021-11-30T13:21:21.434632Z"
    }
   },
   "outputs": [
    {
     "data": {
      "image/png": "[encoded data removed]",
      "text/plain": [
       "<Figure size 864x288 with 2 Axes>"
      ]
     },
     "metadata": {
      "needs_background": "light"
     },
     "output_type": "display_data"
    }
   ],
   "source": [
    "plot('stateaction_adaptivelstm_1_0-6_dac', '1s')"
   ]
  },
  {
   "cell_type": "code",
   "execution_count": 26,
   "id": "ec48514c",
   "metadata": {
    "ExecuteTime": {
     "end_time": "2021-11-30T13:21:29.212273Z",
     "start_time": "2021-11-30T13:21:27.622086Z"
    }
   },
   "outputs": [
    {
     "data": {
      "image/png": "[encoded data removed]",
      "text/plain": [
       "<Figure size 864x288 with 2 Axes>"
      ]
     },
     "metadata": {
      "needs_background": "light"
     },
     "output_type": "display_data"
    }
   ],
   "source": [
    "plot('stateaction_adaptivelstm_2_0-6_dac', '2s')"
   ]
  },
  {
   "cell_type": "code",
   "execution_count": 27,
   "id": "78c1e7a9",
   "metadata": {
    "ExecuteTime": {
     "end_time": "2021-11-30T13:21:42.804630Z",
     "start_time": "2021-11-30T13:21:41.124081Z"
    }
   },
   "outputs": [
    {
     "data": {
      "image/png": "[encoded data removed]",
      "text/plain": [
       "<Figure size 864x288 with 2 Axes>"
      ]
     },
     "metadata": {
      "needs_background": "light"
     },
     "output_type": "display_data"
    }
   ],
   "source": [
    "plot('stateaction_adaptivelstm_3_0-6_dac', '3s')"
   ]
  },
  {
   "cell_type": "code",
   "execution_count": 28,
   "id": "03ddaf68",
   "metadata": {
    "ExecuteTime": {
     "end_time": "2021-11-30T13:34:18.864746Z",
     "start_time": "2021-11-30T13:34:18.027072Z"
    }
   },
   "outputs": [
    {
     "data": {
      "image/png": "[encoded data removed]",
      "text/plain": [
       "<Figure size 864x288 with 2 Axes>"
      ]
     },
     "metadata": {
      "needs_background": "light"
     },
     "output_type": "display_data"
    }
   ],
   "source": [
    "plot('stateaction_adaptivelstm_4_0-6_dac', '4s')"
   ]
  },
  {
   "cell_type": "markdown",
   "id": "8fbbf9b3",
   "metadata": {},
   "source": [
    "# Simulation duration"
   ]
  },
  {
   "cell_type": "code",
   "execution_count": 10,
   "id": "1098e033",
   "metadata": {
    "ExecuteTime": {
     "end_time": "2021-12-05T20:07:45.094782Z",
     "start_time": "2021-12-05T20:07:45.080037Z"
    }
   },
   "outputs": [],
   "source": [
    "def get_event_duration(sequencer_name:str) -> list:\n",
    "    sequenced_path = '../data/sequenced_simulations/' + sequencer_name + '/'\n",
    "    files = os.listdir(sequenced_path)\n",
    "    files = [f for f in files if 'sequenced.pkl' in f]\n",
    "    print\n",
    "\n",
    "    # regex expression to retrieve id \n",
    "    id_regex = re.compile('lid([^_]+)_')\n",
    "    perm_regex = re.compile('p_([^_]+)_')\n",
    "\n",
    "    i = 0\n",
    "    lengths = {}\n",
    "    while len(files) != 0:\n",
    "        file = files[0]\n",
    "        lid = id_regex.findall(file)[0]\n",
    "        permutation = perm_regex.findall(file)[0]\n",
    "        \n",
    "        \n",
    "        events_12 = 0\n",
    "        durations_12 = 0\n",
    "        simulations_12 = 0\n",
    "        for n_task in range(1, 3):\n",
    "            file_path = 'p_' + str(permutation) + '_lid' + str(lid) + '_t' + str(n_task) + '_sequenced.pkl'\n",
    "            \n",
    "            \n",
    "            with open(sequenced_path + file_path, 'rb') as fp:\n",
    "                sequence = pickle.load(fp)\n",
    "                \n",
    "                # Get recorded events\n",
    "                events_12 += float(np.sum(np.array(sequence['end']) - np.array(sequence['begin'])))\n",
    "                durations_12 += sequence['last_timestamp']\n",
    "                simulations_12 += get_discarded_breaks(sequence)\n",
    "                files.remove(file_path)\n",
    "                \n",
    "                \n",
    "        # Remove the files that we do not need        \n",
    "        file_path = 'p_' + str(permutation) + '_lid' + str(lid) + '_t3_sequenced.pkl'\n",
    "        files.remove(file_path)\n",
    "        lengths[lid] = {\n",
    "            'events': events_12,\n",
    "            'durations': durations_12,\n",
    "            'simulations': simulations_12 + events_12\n",
    "        }\n",
    "    return lengths\n",
    "\n",
    "def get_discarded_breaks(sequence):\n",
    "    if len(sequence['begin']) == 0:\n",
    "        return 0\n",
    "    b = sequence['begin'] + [0]\n",
    "    e = [0] + sequence['end'] \n",
    "\n",
    "    breaks = list(np.array(b) - np.array(e))\n",
    "    breaks = breaks[:-1]\n",
    "\n",
    "    breaks = [b for b in breaks if b > 0]\n",
    "    breaks = float(np.sum(breaks)) + sequence['last_timestamp'] - sequence['end'][-1]\n",
    "    return breaks\n",
    "    \n",
    "def plot_distribution_of_event_duration(lengths, axis):\n",
    "    durations = [lengths[lid]['durations'] for lid in lengths]\n",
    "    events = [lengths[lid]['events'] for lid in lengths]\n",
    "    \n",
    "    axis.scatter(durations, events, color=np.random.choice(palette))\n",
    "    axis.plot(range(2100), range(2100), color=np.random.choice(palette))\n",
    "    axis.set_ylabel('lengths of the events')\n",
    "    axis.set_xlabel('time in the simulation')\n",
    "    \n",
    "def plot_distribution_of_eventbreaks_duration(lengths, axis):\n",
    "    durations = [lengths[lid]['durations'] for lid in lengths]\n",
    "    events = [lengths[lid]['simulations'] for lid in lengths]\n",
    "    \n",
    "    axis.scatter(durations, events, color=np.random.choice(palette))\n",
    "    axis.plot(range(2100), range(2100), color=np.random.choice(palette))\n",
    "    axis.set_ylabel('lengths of the events and discarded breaks')\n",
    "    axis.set_xlabel('time in the simulation')\n",
    "    \n",
    "def plot(sequencer_name: str, sampling_rate:str):\n",
    "    fig, axis = plt.subplots(1, 2, figsize=(12, 4))\n",
    "    \n",
    "    lengths = get_event_duration(sequencer_name)\n",
    "    plot_distribution_of_event_duration(lengths, axis[0])\n",
    "    plot_distribution_of_eventbreaks_duration(lengths, axis[1])\n",
    "    \n",
    "    plt.suptitle('Sampling rate: {}'.format(sampling_rate))\n",
    "    plt.show()\n",
    "\n"
   ]
  },
  {
   "cell_type": "code",
   "execution_count": 15,
   "id": "783b1de0",
   "metadata": {
    "ExecuteTime": {
     "end_time": "2021-11-26T23:38:55.158590Z",
     "start_time": "2021-11-26T23:38:54.282435Z"
    },
    "scrolled": false
   },
   "outputs": [
    {
     "data": {
      "image/png": "[encoded data removed]",
      "text/plain": [
       "<Figure size 864x288 with 2 Axes>"
      ]
     },
     "metadata": {
      "needs_background": "light"
     },
     "output_type": "display_data"
    }
   ],
   "source": [
    "plot('stateaction_secondslstm', 'seconds')"
   ]
  },
  {
   "cell_type": "code",
   "execution_count": 16,
   "id": "bb167502",
   "metadata": {
    "ExecuteTime": {
     "end_time": "2021-11-27T00:09:58.633438Z",
     "start_time": "2021-11-27T00:09:58.183049Z"
    }
   },
   "outputs": [
    {
     "data": {
      "image/png": "[encoded data removed]",
      "text/plain": [
       "<Figure size 864x288 with 2 Axes>"
      ]
     },
     "metadata": {
      "needs_background": "light"
     },
     "output_type": "display_data"
    }
   ],
   "source": [
    "plot('stateaction_encodedlstm', 'encoded')"
   ]
  },
  {
   "cell_type": "code",
   "execution_count": 10,
   "id": "3327dcbc",
   "metadata": {
    "ExecuteTime": {
     "end_time": "2021-11-26T20:09:56.064937Z",
     "start_time": "2021-11-26T20:09:55.819809Z"
    }
   },
   "outputs": [],
   "source": [
    "lengths = get_event_duration('stateaction_secondslstm')"
   ]
  },
  {
   "cell_type": "code",
   "execution_count": 11,
   "id": "b7c77c88",
   "metadata": {
    "ExecuteTime": {
     "end_time": "2021-11-26T20:09:58.213857Z",
     "start_time": "2021-11-26T20:09:58.210878Z"
    }
   },
   "outputs": [],
   "source": [
    "iids = [iid for iid in lengths if lengths[iid]['durations'] < lengths[iid]['simulations']]"
   ]
  },
  {
   "cell_type": "code",
   "execution_count": 12,
   "id": "329f9160",
   "metadata": {
    "ExecuteTime": {
     "end_time": "2021-11-26T20:09:58.499166Z",
     "start_time": "2021-11-26T20:09:58.495668Z"
    }
   },
   "outputs": [
    {
     "data": {
      "text/plain": [
       "47"
      ]
     },
     "execution_count": 12,
     "metadata": {},
     "output_type": "execute_result"
    }
   ],
   "source": [
    "len(iids)"
   ]
  },
  {
   "cell_type": "code",
   "execution_count": null,
   "id": "3b369cf9",
   "metadata": {},
   "outputs": [],
   "source": [
    "qpmzsb6t\n",
    "6tgyhcuh\n",
    "9yv4uxn3\n",
    "\n",
    "4b4dkjuw\n",
    "4s7gthwf\n",
    "r2e3h3tm"
   ]
  },
  {
   "cell_type": "code",
   "execution_count": 13,
   "id": "fa357bf7",
   "metadata": {
    "ExecuteTime": {
     "end_time": "2021-11-26T20:10:00.972962Z",
     "start_time": "2021-11-26T20:10:00.967787Z"
    },
    "scrolled": false
   },
   "outputs": [
    {
     "name": "stdout",
     "output_type": "stream",
     "text": [
      "mwfdr4ys {'events': 388.63600000000054, 'durations': 688.572, 'simulations': 688.5720000000001}\n",
      "bezdgyya {'events': 430.52700000000016, 'durations': 648.05, 'simulations': 648.0500000000001}\n",
      "xz56yha8 {'events': 393.3409999999999, 'durations': 649.692, 'simulations': 649.6920000000001}\n",
      "dk43m2pe {'events': 501.54500000000013, 'durations': 890.389, 'simulations': 890.3890000000001}\n",
      "qpmzsb6t {'events': 466.843, 'durations': 766.871, 'simulations': 772.367}\n",
      "sjz2rptd {'events': 499.3929999999999, 'durations': 709.102, 'simulations': 709.1020000000001}\n",
      "rrykpeqz {'events': 391.56500000000017, 'durations': 981.947, 'simulations': 981.9470000000001}\n",
      "6ruh7enb {'events': 343.298, 'durations': 445.042, 'simulations': 445.04200000000003}\n",
      "3se7z466 {'events': 85.11200000000002, 'durations': 230.62099999999998, 'simulations': 230.621}\n",
      "4k4kc2k6 {'events': 185.223, 'durations': 466.082, 'simulations': 466.08200000000005}\n",
      "mhek2323 {'events': 487.17999999999967, 'durations': 1534.493, 'simulations': 1534.4930000000002}\n",
      "sx3vqc32 {'events': 190.37800000000044, 'durations': 609.28, 'simulations': 609.2800000000001}\n",
      "y7p64n6z {'events': 159.54400000000007, 'durations': 360.079, 'simulations': 360.07900000000006}\n",
      "4b4dkjuw {'events': 320.13700000000017, 'durations': 658.948, 'simulations': 659.2860000000001}\n",
      "4s7gthwf {'events': 512.3539999999997, 'durations': 1163.317, 'simulations': 1165.5770000000002}\n",
      "5zrt4f8z {'events': 454.36400000000003, 'durations': 795.12, 'simulations': 795.1200000000001}\n",
      "88kjzd8b {'events': 278.28100000000234, 'durations': 677.514, 'simulations': 677.5140000000001}\n",
      "gvqh7qr2 {'events': 359.16299999999654, 'durations': 904.235, 'simulations': 904.2350000000001}\n",
      "st3mf78y {'events': 20.668, 'durations': 78.521, 'simulations': 78.52100000000002}\n",
      "892r4czm {'events': 378.58499999999975, 'durations': 553.0939999999999, 'simulations': 553.094}\n",
      "9p4h3zdx {'events': 49.26899999999996, 'durations': 129.266, 'simulations': 129.26600000000002}\n",
      "xw9qt6r4 {'events': 191.33599999999996, 'durations': 328.907, 'simulations': 328.90700000000004}\n",
      "ujp9fgpn {'events': 384.545, 'durations': 624.6659999999999, 'simulations': 624.666}\n",
      "sm8sfpcg {'events': 329.694000000001, 'durations': 594.014, 'simulations': 594.0140000000001}\n",
      "x844md8u {'events': 173.07900000000012, 'durations': 476.01, 'simulations': 476.01000000000005}\n",
      "k7p5eryf {'events': 203.03400000000005, 'durations': 280.424, 'simulations': 280.42400000000004}\n",
      "pmd5dyu3 {'events': 36.58299999999997, 'durations': 189.123, 'simulations': 189.12300000000002}\n",
      "uqven68r {'events': 315.523, 'durations': 961.193, 'simulations': 961.1930000000001}\n",
      "wxz98urt {'events': 475.28900000000147, 'durations': 763.7729999999999, 'simulations': 763.773}\n",
      "ntqpqkpq {'events': 338.76500000000016, 'durations': 488.67, 'simulations': 488.6700000000001}\n",
      "drccqhk4 {'events': 151.012, 'durations': 253.558, 'simulations': 253.55800000000005}\n",
      "6bq62prp {'events': 276.633, 'durations': 831.497, 'simulations': 831.4970000000001}\n",
      "uthx49rq {'events': 326.04399999999947, 'durations': 810.197, 'simulations': 810.1970000000001}\n",
      "6tgyhcuh {'events': 483.8630000000003, 'durations': 801.3729999999999, 'simulations': 975.891}\n",
      "m4zvafhs {'events': 783.5040000000005, 'durations': 1047.521, 'simulations': 1047.5210000000002}\n",
      "fzagvhvf {'events': 243.13399999999987, 'durations': 506.45, 'simulations': 506.45000000000005}\n",
      "wu7kdm6q {'events': 39.532999999999994, 'durations': 91.729, 'simulations': 91.72900000000001}\n",
      "r2e3h3tm {'events': 515.261000000001, 'durations': 1039.393, 'simulations': 1041.935}\n",
      "ke6msbfr {'events': 311.6039999999999, 'durations': 707.199, 'simulations': 707.1990000000001}\n",
      "tt5n8d2r {'events': 87.96199999999986, 'durations': 142.694, 'simulations': 142.69400000000002}\n",
      "caq55qe8 {'events': 259.8950000000001, 'durations': 427.54, 'simulations': 427.5400000000001}\n",
      "z5dzzgk5 {'events': 58.70400000000002, 'durations': 161.742, 'simulations': 161.74200000000002}\n",
      "upp6pqmx {'events': 287.1060000000057, 'durations': 651.356, 'simulations': 651.3560000000001}\n",
      "9yv4uxn3 {'events': 740.9039999999998, 'durations': 1169.136, 'simulations': 1192.8550000000002}\n",
      "6fkbh35u {'events': 528.1240000000003, 'durations': 1074.811, 'simulations': 1074.8110000000001}\n",
      "p6269reg {'events': 426.9480000000003, 'durations': 702.858, 'simulations': 702.8580000000001}\n",
      "3kzp9bet {'events': 223.62599999999998, 'durations': 383.263, 'simulations': 383.26300000000003}\n"
     ]
    }
   ],
   "source": [
    "for iid in iids:\n",
    "    print(iid, lengths[iid])"
   ]
  },
  {
   "cell_type": "code",
   "execution_count": 14,
   "id": "ae34c923",
   "metadata": {
    "ExecuteTime": {
     "end_time": "2021-11-26T18:57:08.994639Z",
     "start_time": "2021-11-26T18:57:08.992245Z"
    }
   },
   "outputs": [],
   "source": [
    "import datetime"
   ]
  },
  {
   "cell_type": "code",
   "execution_count": 29,
   "id": "f0f53266",
   "metadata": {
    "ExecuteTime": {
     "end_time": "2021-11-26T19:09:19.699325Z",
     "start_time": "2021-11-26T19:09:19.695379Z"
    }
   },
   "outputs": [
    {
     "data": {
      "text/plain": [
       "datetime.datetime(2021, 5, 28, 11, 30, 37, 539000)"
      ]
     },
     "execution_count": 29,
     "metadata": {},
     "output_type": "execute_result"
    }
   ],
   "source": [
    "datetime.datetime.fromtimestamp(1622193960036/1e3) + datetime.timedelta(0, 277.503)"
   ]
  },
  {
   "cell_type": "code",
   "execution_count": 28,
   "id": "6cbad522",
   "metadata": {
    "ExecuteTime": {
     "end_time": "2021-11-26T19:08:34.055276Z",
     "start_time": "2021-11-26T19:08:34.052229Z"
    }
   },
   "outputs": [
    {
     "data": {
      "text/plain": [
       "datetime.datetime(2021, 5, 28, 11, 26, 0, 36000)"
      ]
     },
     "execution_count": 28,
     "metadata": {},
     "output_type": "execute_result"
    }
   ],
   "source": [
    "datetime.datetime.fromtimestamp(1622193960036/1e3)"
   ]
  },
  {
   "cell_type": "code",
   "execution_count": 30,
   "id": "d67fc2e2",
   "metadata": {
    "ExecuteTime": {
     "end_time": "2021-11-26T19:09:24.742679Z",
     "start_time": "2021-11-26T19:09:24.738750Z"
    }
   },
   "outputs": [
    {
     "data": {
      "text/plain": [
       "1622194237.539"
      ]
     },
     "execution_count": 30,
     "metadata": {},
     "output_type": "execute_result"
    }
   ],
   "source": [
    "datetime.datetime.timestamp(datetime.datetime.fromtimestamp(1622193960036/1e3) + datetime.timedelta(0,277.503))"
   ]
  },
  {
   "cell_type": "code",
   "execution_count": null,
   "id": "db19e05f",
   "metadata": {},
   "outputs": [],
   "source": [
    "36000 + 26*60*60 + 11 * 24 * 60*60 + "
   ]
  },
  {
   "cell_type": "markdown",
   "id": "5ff03c92",
   "metadata": {},
   "source": [
    "# Filter"
   ]
  },
  {
   "cell_type": "code",
   "execution_count": 11,
   "id": "efdc2654",
   "metadata": {
    "ExecuteTime": {
     "end_time": "2021-12-05T20:07:51.377274Z",
     "start_time": "2021-12-05T20:07:51.368574Z"
    }
   },
   "outputs": [],
   "source": [
    "with open('../data/experiment_keys/permutation_maps/vector_binary.yaml', 'r') as fp:\n",
    "    permutation_map = yaml.load(fp, Loader=yaml.FullLoader)"
   ]
  },
  {
   "cell_type": "code",
   "execution_count": 12,
   "id": "f6924801",
   "metadata": {
    "ExecuteTime": {
     "end_time": "2021-12-05T20:07:51.715338Z",
     "start_time": "2021-12-05T20:07:51.708344Z"
    }
   },
   "outputs": [],
   "source": [
    "def get_lengths(sequencer_name:str) -> list:\n",
    "    sequenced_path = '../data/sequenced_simulations/' + sequencer_name + '/'\n",
    "    files = os.listdir(sequenced_path)\n",
    "    files = [f for f in files if 'sequenced.pkl' in f]\n",
    "    print\n",
    "\n",
    "    # regex expression to retrieve id \n",
    "    id_regex = re.compile('lid([^_]+)_')\n",
    "    perm_regex = re.compile('p_([^_]+)_')\n",
    "\n",
    "    i = 0\n",
    "    lengths = {}\n",
    "    while len(files) != 0:\n",
    "        file = files[0]\n",
    "        lid = id_regex.findall(file)[0]\n",
    "        permutation = perm_regex.findall(file)[0]\n",
    "        lengths_12 = 0\n",
    "        durations_12 = 0\n",
    "        for n_task in range(2, 3):\n",
    "            file_path = 'p_' + str(permutation) + '_lid' + str(lid) + '_t' + str(n_task) + '_sequenced.pkl'\n",
    "            print(file_path)\n",
    "            with open(sequenced_path + file_path, 'rb') as fp:\n",
    "                sequence = pickle.load(fp)\n",
    "                lengths_12 += len(sequence['sequence'])\n",
    "                durations_12 += sequence['last_timestamp']\n",
    "                files.remove(file_path)\n",
    "        file_path = 'p_' + str(permutation) + '_lid' + str(lid) + '_t3_sequenced.pkl'\n",
    "        files.remove(file_path)\n",
    "        file_path = 'p_' + str(permutation) + '_lid' + str(lid) + '_t1_sequenced.pkl'\n",
    "        files.remove(file_path)\n",
    "        lengths[lid] = {\n",
    "            'lengths': lengths_12,\n",
    "            'durations': durations_12,\n",
    "            'year': sequence['year'],\n",
    "            'permutation': sequence['permutation']\n",
    "        }\n",
    "    return lengths"
   ]
  },
  {
   "cell_type": "code",
   "execution_count": 13,
   "id": "ff921e3a",
   "metadata": {
    "ExecuteTime": {
     "end_time": "2021-12-05T20:07:53.965211Z",
     "start_time": "2021-12-05T20:07:52.778626Z"
    }
   },
   "outputs": [
    {
     "data": {
      "image/png": "[encoded data removed]",
      "text/plain": [
       "<Figure size 864x288 with 2 Axes>"
      ]
     },
     "metadata": {
      "needs_background": "light"
     },
     "output_type": "display_data"
    },
    {
     "name": "stdout",
     "output_type": "stream",
     "text": [
      "p_3120_lidmwfdr4ys_t2_sequenced.pkl\n",
      "p_0123_lidbezdgyya_t2_sequenced.pkl\n",
      "p_0321_lidxz56yha8_t2_sequenced.pkl\n",
      "p_2130_lidcwgvxrvx_t2_sequenced.pkl\n",
      "p_2031_lidnemddmx6_t2_sequenced.pkl\n",
      "p_0231_liddk43m2pe_t2_sequenced.pkl\n",
      "p_2310_lidxvsgn53d_t2_sequenced.pkl\n",
      "p_0231_lidydws5xx9_t2_sequenced.pkl\n",
      "p_0231_lidsjz2rptd_t2_sequenced.pkl\n",
      "p_3012_lidu4zu9xxc_t2_sequenced.pkl\n",
      "p_0231_lid6tg95rzr_t2_sequenced.pkl\n",
      "p_3012_lidv5wcy2tt_t2_sequenced.pkl\n",
      "p_3120_lid5j7hdews_t2_sequenced.pkl\n",
      "p_0321_lidsuyrrcqe_t2_sequenced.pkl\n",
      "p_1320_lid7xwv3xfe_t2_sequenced.pkl\n",
      "p_3120_lid982cf4dn_t2_sequenced.pkl\n",
      "p_2031_liduqw5vh3j_t2_sequenced.pkl\n",
      "p_2013_lid8jp62suc_t2_sequenced.pkl\n",
      "p_3120_lidchca7sdb_t2_sequenced.pkl\n",
      "p_2031_lidnsj6k2rg_t2_sequenced.pkl\n",
      "p_3120_lidtemu2736_t2_sequenced.pkl\n",
      "p_0312_lidsgsxmkfm_t2_sequenced.pkl\n",
      "p_0213_liddbt5na3s_t2_sequenced.pkl\n",
      "p_0231_lidevqzjs5p_t2_sequenced.pkl\n",
      "p_2130_lidurxv4evt_t2_sequenced.pkl\n",
      "p_2130_lidr29wzm6f_t2_sequenced.pkl\n",
      "p_0213_lidrrykpeqz_t2_sequenced.pkl\n",
      "p_3102_lid9pjrsbth_t2_sequenced.pkl\n",
      "p_2031_lidecy9k833_t2_sequenced.pkl\n",
      "p_3210_lid22wyn9xy_t2_sequenced.pkl\n",
      "p_0231_lidew6cfr37_t2_sequenced.pkl\n",
      "p_3102_lideh9jq2bp_t2_sequenced.pkl\n",
      "p_3120_lidz4nrhe2e_t2_sequenced.pkl\n",
      "p_0321_lidz8dtc572_t2_sequenced.pkl\n",
      "p_0231_lid6ruh7enb_t2_sequenced.pkl\n",
      "p_2130_lidaraav4jr_t2_sequenced.pkl\n",
      "p_3120_lidfy29cvrj_t2_sequenced.pkl\n",
      "p_3210_lid3se7z466_t2_sequenced.pkl\n",
      "p_0231_lidjvxejtp9_t2_sequenced.pkl\n",
      "p_0312_lidbf4iuomx_t2_sequenced.pkl\n",
      "p_3012_lidzs35fg8g_t2_sequenced.pkl\n",
      "p_2301_lid9aagpn4d_t2_sequenced.pkl\n",
      "p_2013_lidsh6tu9g2_t2_sequenced.pkl\n",
      "p_0312_lidr74r26kt_t2_sequenced.pkl\n",
      "p_2130_lidnmgve3yy_t2_sequenced.pkl\n",
      "p_2103_lidx5sm9pfu_t2_sequenced.pkl\n",
      "p_0231_lidkg43uepa_t2_sequenced.pkl\n",
      "p_0231_lidnrxpa2ac_t2_sequenced.pkl\n",
      "p_2031_lid4k4kc2k6_t2_sequenced.pkl\n",
      "p_2013_lidnj859xxh_t2_sequenced.pkl\n",
      "p_1023_lidrwax4gk7_t2_sequenced.pkl\n",
      "p_3102_lids47edumx_t2_sequenced.pkl\n",
      "p_0312_lidqfu6r8c7_t2_sequenced.pkl\n",
      "p_3210_lidz6ur4njh_t2_sequenced.pkl\n",
      "p_0123_lid4vtjgtja_t2_sequenced.pkl\n",
      "p_0213_lidw7asnymz_t2_sequenced.pkl\n",
      "p_0213_lidmhek2323_t2_sequenced.pkl\n",
      "p_2103_lid3w54b2bu_t2_sequenced.pkl\n",
      "p_2031_lidwbdyh5vk_t2_sequenced.pkl\n",
      "p_1032_lidur9sxzx7_t2_sequenced.pkl\n",
      "p_0312_lid85pdk9mq_t2_sequenced.pkl\n",
      "p_2103_lid7e4jt9hn_t2_sequenced.pkl\n",
      "p_3012_lidakgpua6j_t2_sequenced.pkl\n",
      "p_2013_lidsx3vqc32_t2_sequenced.pkl\n",
      "p_2130_lidu6c3cp6c_t2_sequenced.pkl\n",
      "p_2130_lida57jkjgv_t2_sequenced.pkl\n",
      "p_0231_lidsmqjhu44_t2_sequenced.pkl\n",
      "p_2130_lidhrxpbujy_t2_sequenced.pkl\n",
      "p_3012_lidwvxkvhne_t2_sequenced.pkl\n",
      "p_0231_lidchm4sr6j_t2_sequenced.pkl\n",
      "p_1302_lid4jchqv4d_t2_sequenced.pkl\n",
      "p_3102_lidjydsy777_t2_sequenced.pkl\n",
      "p_3021_lidgk7r7cee_t2_sequenced.pkl\n",
      "p_3012_lidy7p64n6z_t2_sequenced.pkl\n",
      "p_1032_lidxau6wapw_t2_sequenced.pkl\n",
      "p_2130_lidqqf6nsga_t2_sequenced.pkl\n",
      "p_0231_lidq4z45p85_t2_sequenced.pkl\n",
      "p_3210_lidhf8uz5t3_t2_sequenced.pkl\n",
      "p_3012_lidbeypwbck_t2_sequenced.pkl\n",
      "p_3120_lidwpszzhxa_t2_sequenced.pkl\n",
      "p_3012_lidsctj44cs_t2_sequenced.pkl\n",
      "p_1203_liddubyutqd_t2_sequenced.pkl\n",
      "p_2130_lidryfqnvfh_t2_sequenced.pkl\n",
      "p_0231_lide22ppyf7_t2_sequenced.pkl\n",
      "p_2013_lidwger3sfa_t2_sequenced.pkl\n",
      "p_2103_lidwyj76ntd_t2_sequenced.pkl\n",
      "p_3012_lid8rtwmb8t_t2_sequenced.pkl\n",
      "p_3012_lid4zsmj6s3_t2_sequenced.pkl\n",
      "p_2130_lidfryxwskq_t2_sequenced.pkl\n",
      "p_3021_lid4vuc8rr3_t2_sequenced.pkl\n",
      "p_3012_lidd7777ske_t2_sequenced.pkl\n",
      "p_3201_lidtcnba4ca_t2_sequenced.pkl\n",
      "p_3012_lidfs32fqe3_t2_sequenced.pkl\n",
      "p_3012_lidujpk3gf4_t2_sequenced.pkl\n",
      "p_3012_lidn6zakrku_t2_sequenced.pkl\n",
      "p_3012_lidg6z8qykr_t2_sequenced.pkl\n",
      "p_2103_lidyez72a8b_t2_sequenced.pkl\n",
      "p_1023_lidh9t9mxtx_t2_sequenced.pkl\n",
      "p_3201_lidg43q3d94_t2_sequenced.pkl\n",
      "p_2130_lidw9w2hw35_t2_sequenced.pkl\n",
      "p_3012_liddzakgq29_t2_sequenced.pkl\n",
      "p_0231_lidv5w2e3zw_t2_sequenced.pkl\n",
      "p_2130_lidpggnv6xw_t2_sequenced.pkl\n",
      "p_3210_lid6uakv8nx_t2_sequenced.pkl\n",
      "p_2031_lidqsx2cc4b_t2_sequenced.pkl\n",
      "p_3012_lidxe7c36dk_t2_sequenced.pkl\n",
      "p_0312_lid7ck7mq6a_t2_sequenced.pkl\n",
      "p_2031_lid5zrt4f8z_t2_sequenced.pkl\n",
      "p_3021_lidxcmyd5r5_t2_sequenced.pkl\n",
      "p_2103_lidybxahrra_t2_sequenced.pkl\n",
      "p_2031_lidt6rjyw6s_t2_sequenced.pkl\n",
      "p_0231_lid88kjzd8b_t2_sequenced.pkl\n",
      "p_1203_lids8w65sm5_t2_sequenced.pkl\n",
      "p_2031_liddjnysnd6_t2_sequenced.pkl\n",
      "p_1032_lidgvqh7qr2_t2_sequenced.pkl\n",
      "p_3210_lidwguewwkp_t2_sequenced.pkl\n",
      "p_0231_lidst3mf78y_t2_sequenced.pkl\n",
      "p_3120_lidkrd7m9vb_t2_sequenced.pkl\n",
      "p_2031_lid892r4czm_t2_sequenced.pkl\n",
      "p_2130_lidb72hbgvw_t2_sequenced.pkl\n",
      "p_2031_lidrgeb7wr9_t2_sequenced.pkl\n",
      "p_0312_lidzbabnwym_t2_sequenced.pkl\n",
      "p_2031_lid9xc2v9vu_t2_sequenced.pkl\n",
      "p_0231_lids2up6gmm_t2_sequenced.pkl\n",
      "p_2103_lidr42kwnt7_t2_sequenced.pkl\n",
      "p_3021_lidunkrat9w_t2_sequenced.pkl\n",
      "p_3201_lidgu7jpyum_t2_sequenced.pkl\n",
      "p_3012_lidxdxyjh8j_t2_sequenced.pkl\n",
      "p_3012_lid3xcaamq9_t2_sequenced.pkl\n",
      "p_0213_lidbje92qp8_t2_sequenced.pkl\n",
      "p_0231_lidp5t7d3sb_t2_sequenced.pkl\n",
      "p_3021_lid5f4q4ng5_t2_sequenced.pkl\n",
      "p_0321_lid9p4h3zdx_t2_sequenced.pkl\n",
      "p_2013_lidm35ub35g_t2_sequenced.pkl\n",
      "p_1023_lidr78kg7d3_t2_sequenced.pkl\n",
      "p_2130_lidcb6wcvyn_t2_sequenced.pkl\n",
      "p_0213_lidxw9qt6r4_t2_sequenced.pkl\n",
      "p_2310_lid5y535ct3_t2_sequenced.pkl\n",
      "p_1320_lidht865nws_t2_sequenced.pkl\n",
      "p_0213_lidxsxkdf7k_t2_sequenced.pkl\n",
      "p_3012_lid7hrf6cdu_t2_sequenced.pkl\n",
      "p_2031_lidujp9fgpn_t2_sequenced.pkl\n",
      "p_3021_lidsm8sfpcg_t2_sequenced.pkl\n",
      "p_2130_lidxtnmv9qf_t2_sequenced.pkl\n",
      "p_3012_lidkq2e6dgu_t2_sequenced.pkl\n",
      "p_2103_lidxuwyv9hz_t2_sequenced.pkl\n",
      "p_2031_lidqner25zp_t2_sequenced.pkl\n",
      "p_2301_liddnvedphf_t2_sequenced.pkl\n",
      "p_2031_lideau7bsmq_t2_sequenced.pkl\n",
      "p_2031_lidm749z8u9_t2_sequenced.pkl\n",
      "p_3120_lidt3dwkezr_t2_sequenced.pkl\n",
      "p_0123_lid6h5vmwys_t2_sequenced.pkl\n",
      "p_3012_lidrjx9d3gf_t2_sequenced.pkl\n",
      "p_3102_lideb9iv6v2_t2_sequenced.pkl\n",
      "p_3012_lidz8hvrhwb_t2_sequenced.pkl\n",
      "p_0321_lidvhsgf3xa_t2_sequenced.pkl\n",
      "p_3201_lidx844md8u_t2_sequenced.pkl\n",
      "p_2013_lid7fj2vydr_t2_sequenced.pkl\n",
      "p_3012_lidf54jkrsw_t2_sequenced.pkl\n",
      "p_3012_lid5xuzjwdp_t2_sequenced.pkl\n",
      "p_1230_lidqjfn2j8z_t2_sequenced.pkl\n",
      "p_0231_lidbebyve9b_t2_sequenced.pkl\n",
      "p_3012_liduhq3p7yr_t2_sequenced.pkl\n",
      "p_0213_lidp6mkaa4e_t2_sequenced.pkl\n",
      "p_1320_lidrdbqasqa_t2_sequenced.pkl\n",
      "p_3210_lidurwu33jd_t2_sequenced.pkl\n",
      "p_2310_lidvh8vedkw_t2_sequenced.pkl\n",
      "p_2031_lid5h9umyr6_t2_sequenced.pkl\n",
      "p_3102_lid63xqh9t5_t2_sequenced.pkl\n",
      "p_2130_lidhrhu4yph_t2_sequenced.pkl\n",
      "p_0321_lidjpccnav5_t2_sequenced.pkl\n",
      "p_1320_lidyc3vmnuf_t2_sequenced.pkl\n",
      "p_2013_lidxngb9hff_t2_sequenced.pkl\n",
      "p_0231_lid9bp6yz7m_t2_sequenced.pkl\n",
      "p_3021_lidv2cxb3a5_t2_sequenced.pkl\n",
      "p_0213_lid63v3czy6_t2_sequenced.pkl\n",
      "p_0123_lidzy256ycq_t2_sequenced.pkl\n",
      "p_0213_lid8nh4zvcp_t2_sequenced.pkl\n",
      "p_2310_lidk7p5eryf_t2_sequenced.pkl\n",
      "p_3120_liduamuwrx2_t2_sequenced.pkl\n",
      "p_3102_lidjamrhf3h_t2_sequenced.pkl\n",
      "p_3210_lid2crhmbq7_t2_sequenced.pkl\n",
      "p_2103_lid4aaspwgs_t2_sequenced.pkl\n",
      "p_1230_lid3s6pz8qy_t2_sequenced.pkl\n",
      "p_3210_lidmcjaj2aj_t2_sequenced.pkl\n",
      "p_3210_liduad7cmhv_t2_sequenced.pkl\n",
      "p_0231_lidfj5tdybn_t2_sequenced.pkl\n",
      "p_3210_lidm3d89p29_t2_sequenced.pkl\n",
      "p_2301_lidrfand3tt_t2_sequenced.pkl\n",
      "p_3120_lidb8g49nvw_t2_sequenced.pkl\n",
      "p_0213_lidaurjfgnn_t2_sequenced.pkl\n",
      "p_3012_lidd72hfax6_t2_sequenced.pkl\n",
      "p_2013_lidzkrr45y5_t2_sequenced.pkl\n",
      "p_0213_lidtzpqpfaa_t2_sequenced.pkl\n",
      "p_0312_lidpadezf8m_t2_sequenced.pkl\n",
      "p_2031_lide93na59g_t2_sequenced.pkl\n",
      "p_2103_lidcrak75dx_t2_sequenced.pkl\n",
      "p_3012_lidnfshnktq_t2_sequenced.pkl\n",
      "p_1230_lidx3ykresy_t2_sequenced.pkl\n",
      "p_3021_lid26mtbtye_t2_sequenced.pkl\n",
      "p_0321_lid4rjjdez9_t2_sequenced.pkl\n",
      "p_1023_lidg4xpwwac_t2_sequenced.pkl\n",
      "p_0213_lidphupma28_t2_sequenced.pkl\n",
      "p_3012_lid5zqfzwjg_t2_sequenced.pkl\n",
      "p_3012_lid46bty2zg_t2_sequenced.pkl\n",
      "p_2130_lidqn4qjrvd_t2_sequenced.pkl\n",
      "p_2031_lid3e3k2662_t2_sequenced.pkl\n",
      "p_3021_lidm4frzqy6_t2_sequenced.pkl\n",
      "p_3012_liddmdc53tx_t2_sequenced.pkl\n",
      "p_0231_lidfh76v5qx_t2_sequenced.pkl\n",
      "p_2013_lid6z7nfy2j_t2_sequenced.pkl\n",
      "p_2031_lidvqebanqv_t2_sequenced.pkl\n",
      "p_1320_lidfddsxudu_t2_sequenced.pkl\n",
      "p_1302_lid8ethqmkd_t2_sequenced.pkl\n",
      "p_3120_lidxpyjyx4m_t2_sequenced.pkl\n",
      "p_2130_lidy8qbtkmf_t2_sequenced.pkl\n",
      "p_3210_lidrve4n5nv_t2_sequenced.pkl\n",
      "p_0321_lidk8x4ru7k_t2_sequenced.pkl\n",
      "p_2031_lida3vdjxy9_t2_sequenced.pkl\n",
      "p_2103_lidrg4fgfyh_t2_sequenced.pkl\n",
      "p_3012_lids9prcjfd_t2_sequenced.pkl\n",
      "p_0321_lidmy6csh6m_t2_sequenced.pkl\n",
      "p_3102_lidpmd5dyu3_t2_sequenced.pkl\n",
      "p_3120_lid2hr6mkdc_t2_sequenced.pkl\n",
      "p_3102_lidvwfpuqaz_t2_sequenced.pkl\n",
      "p_1032_liduqven68r_t2_sequenced.pkl\n",
      "p_3021_lid6j6u2yct_t2_sequenced.pkl\n",
      "p_2130_lidsrmr7pcp_t2_sequenced.pkl\n",
      "p_0321_lida6t5p3sb_t2_sequenced.pkl\n",
      "p_2130_lidvckta85p_t2_sequenced.pkl\n",
      "p_0312_lidtzbaaz7e_t2_sequenced.pkl\n",
      "p_2031_lid9p9gwu88_t2_sequenced.pkl\n",
      "p_3120_lidgc663sap_t2_sequenced.pkl\n",
      "p_2031_lidh75kp27p_t2_sequenced.pkl\n",
      "p_3012_lidwxz98urt_t2_sequenced.pkl\n",
      "p_2013_lidsvdphyjs_t2_sequenced.pkl\n",
      "p_2103_lidqk6q49f4_t2_sequenced.pkl\n",
      "p_3102_lidfyf6ag5v_t2_sequenced.pkl\n",
      "p_0213_lid2xh9zuvc_t2_sequenced.pkl\n",
      "p_3120_lid3gqs3sgc_t2_sequenced.pkl\n",
      "p_3210_lidcp7mfn24_t2_sequenced.pkl\n",
      "p_3012_lidwwj8nq34_t2_sequenced.pkl\n",
      "p_0213_lidzgyc948n_t2_sequenced.pkl\n",
      "p_2130_lidntqpqkpq_t2_sequenced.pkl\n",
      "p_0123_lidgyerx2d9_t2_sequenced.pkl\n",
      "p_0312_lidqkeyp2rg_t2_sequenced.pkl\n",
      "p_2130_liddrccqhk4_t2_sequenced.pkl\n",
      "p_3120_lid6bq62prp_t2_sequenced.pkl\n",
      "p_2310_liduthx49rq_t2_sequenced.pkl\n"
     ]
    },
    {
     "name": "stdout",
     "output_type": "stream",
     "text": [
      "p_2031_lidfu6nsdhs_t2_sequenced.pkl\n",
      "p_3120_lidsr34qyfx_t2_sequenced.pkl\n",
      "p_0321_lidbqmcqxyx_t2_sequenced.pkl\n",
      "p_3120_lid4ak6da99_t2_sequenced.pkl\n",
      "p_2031_lid8ga2zn5h_t2_sequenced.pkl\n",
      "p_0312_lidqsd9cb5e_t2_sequenced.pkl\n",
      "p_2013_lidbg7x3db2_t2_sequenced.pkl\n",
      "p_3012_lidj9ukgkp5_t2_sequenced.pkl\n",
      "p_0231_lids7mdq5tk_t2_sequenced.pkl\n",
      "p_3012_lid9wdm7zue_t2_sequenced.pkl\n",
      "p_2310_lidjkbx6axr_t2_sequenced.pkl\n",
      "p_2031_liduswb2jez_t2_sequenced.pkl\n",
      "p_0312_liddq4zzkyt_t2_sequenced.pkl\n",
      "p_3012_lid9rked2x5_t2_sequenced.pkl\n",
      "p_0312_lidaj47uhb9_t2_sequenced.pkl\n",
      "p_0213_lidtsrnkj8w_t2_sequenced.pkl\n",
      "p_0231_lidp44vw7td_t2_sequenced.pkl\n",
      "p_3201_lidssz3uyqn_t2_sequenced.pkl\n",
      "p_3012_lid4e438nww_t2_sequenced.pkl\n",
      "p_0132_lidqvna6pyz_t2_sequenced.pkl\n",
      "p_1032_lid552gbupp_t2_sequenced.pkl\n",
      "p_3012_lidv2kw3kup_t2_sequenced.pkl\n",
      "p_3012_lidy9tk3ysm_t2_sequenced.pkl\n",
      "p_0213_lide8zdytr2_t2_sequenced.pkl\n",
      "p_2310_lidedmrufua_t2_sequenced.pkl\n",
      "p_2103_lidfw2ajjmt_t2_sequenced.pkl\n",
      "p_3201_lidh4hxzc6s_t2_sequenced.pkl\n",
      "p_3012_lidpbxyuw7u_t2_sequenced.pkl\n",
      "p_2103_lidwnurkn96_t2_sequenced.pkl\n",
      "p_3012_liduqzxsym7_t2_sequenced.pkl\n",
      "p_2103_lidwktpsvp8_t2_sequenced.pkl\n",
      "p_3120_lid5m3ka2m2_t2_sequenced.pkl\n",
      "p_3012_lid5vvwhzqs_t2_sequenced.pkl\n",
      "p_2130_lid2cetp8yc_t2_sequenced.pkl\n",
      "p_1230_lidfm5rcvdy_t2_sequenced.pkl\n",
      "p_0213_lidm4zvafhs_t2_sequenced.pkl\n",
      "p_3012_lidp2u7xw38_t2_sequenced.pkl\n",
      "p_3021_lidnpatrq7r_t2_sequenced.pkl\n",
      "p_0213_lidky8kttpv_t2_sequenced.pkl\n",
      "p_2031_lidamqnxthw_t2_sequenced.pkl\n",
      "p_3120_lidecaf72fu_t2_sequenced.pkl\n",
      "p_2031_lid3vsn2h9f_t2_sequenced.pkl\n",
      "p_1320_lidmkw5afyy_t2_sequenced.pkl\n",
      "p_3102_lids78drqcg_t2_sequenced.pkl\n",
      "p_0231_lidqdp9ant4_t2_sequenced.pkl\n",
      "p_3102_lid5a69aw4h_t2_sequenced.pkl\n",
      "p_3120_lidjx3yyy26_t2_sequenced.pkl\n",
      "p_3012_lidva43652k_t2_sequenced.pkl\n",
      "p_0231_lidvqumj3t3_t2_sequenced.pkl\n",
      "p_0312_lidvbym9sms_t2_sequenced.pkl\n",
      "p_0231_lidhkvk9vt9_t2_sequenced.pkl\n",
      "p_2031_lidmnhmyuhb_t2_sequenced.pkl\n",
      "p_3120_lidn977pem4_t2_sequenced.pkl\n",
      "p_3210_lid55yavcue_t2_sequenced.pkl\n",
      "p_3102_lidj6nndaxp_t2_sequenced.pkl\n",
      "p_2130_lid9qvk2wew_t2_sequenced.pkl\n",
      "p_2103_liduagxrke6_t2_sequenced.pkl\n",
      "p_2130_lid6rfakyp7_t2_sequenced.pkl\n",
      "p_3120_lidfzagvhvf_t2_sequenced.pkl\n",
      "p_0312_lid7g36g5tz_t2_sequenced.pkl\n",
      "p_2013_lidjhrkm85q_t2_sequenced.pkl\n",
      "p_0312_lidvjr7tshm_t2_sequenced.pkl\n",
      "p_2130_lidac4q67z9_t2_sequenced.pkl\n",
      "p_3021_lidmwwddfvg_t2_sequenced.pkl\n",
      "p_2031_lidknbr3qun_t2_sequenced.pkl\n",
      "p_3120_lidbaqyfz2h_t2_sequenced.pkl\n",
      "p_0231_lidw25mph3c_t2_sequenced.pkl\n",
      "p_0231_lidytrbygud_t2_sequenced.pkl\n",
      "p_3120_lidpuzxz678_t2_sequenced.pkl\n",
      "p_3012_lidjnjd79vh_t2_sequenced.pkl\n",
      "p_3102_lidu25vrfyy_t2_sequenced.pkl\n",
      "p_3021_lidfavvtnnf_t2_sequenced.pkl\n",
      "p_0123_lidmp2aa258_t2_sequenced.pkl\n",
      "p_0312_lidrdy7sx9b_t2_sequenced.pkl\n",
      "p_0132_lidcjarhqn9_t2_sequenced.pkl\n",
      "p_0231_lidtsvcrpeg_t2_sequenced.pkl\n",
      "p_0312_lidwu7kdm6q_t2_sequenced.pkl\n",
      "p_3012_lidoikzz9af_t2_sequenced.pkl\n",
      "p_0123_lidr2q9q35x_t2_sequenced.pkl\n",
      "p_3120_lidjcrv9m9j_t2_sequenced.pkl\n",
      "p_3120_lidxj86wyup_t2_sequenced.pkl\n",
      "p_3120_lidnw65tu6j_t2_sequenced.pkl\n",
      "p_1302_lid6cs3annc_t2_sequenced.pkl\n",
      "p_0213_lid5es5yqs8_t2_sequenced.pkl\n",
      "p_2301_lid84nmc3df_t2_sequenced.pkl\n",
      "p_2103_lidsz8qvgyv_t2_sequenced.pkl\n",
      "p_0213_lidhg7zc2sv_t2_sequenced.pkl\n",
      "p_0213_lid4bu2rkv3_t2_sequenced.pkl\n",
      "p_3012_lid2ep3hayy_t2_sequenced.pkl\n",
      "p_2031_lid2ae6q3hw_t2_sequenced.pkl\n",
      "p_3120_lidgpq26qq9_t2_sequenced.pkl\n",
      "p_0213_lidv9sra3j2_t2_sequenced.pkl\n",
      "p_2031_lid43e33t3h_t2_sequenced.pkl\n",
      "p_2013_lidb2q8ay65_t2_sequenced.pkl\n",
      "p_3012_lidaddf7f7d_t2_sequenced.pkl\n",
      "p_3120_lidtvtbbfhg_t2_sequenced.pkl\n",
      "p_3012_lid76wvaew4_t2_sequenced.pkl\n",
      "p_3120_lidj9qgkaej_t2_sequenced.pkl\n",
      "p_0312_lido9ffsiwt_t2_sequenced.pkl\n",
      "p_2130_lidkq4eymtu_t2_sequenced.pkl\n",
      "p_1320_lid33asfz2u_t2_sequenced.pkl\n",
      "p_2310_lidnba9d6t2_t2_sequenced.pkl\n",
      "p_3012_lid7ygreyfc_t2_sequenced.pkl\n",
      "p_2130_lid26z3wbqz_t2_sequenced.pkl\n",
      "p_3120_lidke6msbfr_t2_sequenced.pkl\n",
      "p_3012_lidc9dj36r7_t2_sequenced.pkl\n",
      "p_3012_lidn3977erj_t2_sequenced.pkl\n",
      "p_2013_lid47ce49e4_t2_sequenced.pkl\n",
      "p_2031_lid4k4dk9pu_t2_sequenced.pkl\n",
      "p_3120_lidpyamv67t_t2_sequenced.pkl\n",
      "p_3021_lidm9u6p93a_t2_sequenced.pkl\n",
      "p_3120_lid4rhnvke9_t2_sequenced.pkl\n",
      "p_1203_lidupkt7qb4_t2_sequenced.pkl\n",
      "p_2301_lid2ejxq2u8_t2_sequenced.pkl\n",
      "p_0231_lid8pskk9tr_t2_sequenced.pkl\n",
      "p_0321_lidxmh5qd3z_t2_sequenced.pkl\n",
      "p_0312_lidtt5n8d2r_t2_sequenced.pkl\n",
      "p_3102_lid7t9zwtmr_t2_sequenced.pkl\n",
      "p_0123_lidv5gwycag_t2_sequenced.pkl\n",
      "p_3021_lid39htvmt5_t2_sequenced.pkl\n",
      "p_3102_lidneuwx57b_t2_sequenced.pkl\n",
      "p_2031_lidknun7j9s_t2_sequenced.pkl\n",
      "p_3012_lidcaq55qe8_t2_sequenced.pkl\n",
      "p_3120_liday2erc3c_t2_sequenced.pkl\n",
      "p_0231_lidmzjq6z9t_t2_sequenced.pkl\n",
      "p_3012_lidegg8756y_t2_sequenced.pkl\n",
      "p_3120_lid3st3y5gc_t2_sequenced.pkl\n",
      "p_2103_lidh543nsc8_t2_sequenced.pkl\n",
      "p_2013_lidrmd35un4_t2_sequenced.pkl\n",
      "p_0213_lidjwntt96k_t2_sequenced.pkl\n",
      "p_2031_lidyxf7q6ap_t2_sequenced.pkl\n",
      "p_0231_lidp6ut882m_t2_sequenced.pkl\n",
      "p_2301_lidt7728bqp_t2_sequenced.pkl\n",
      "p_3012_lid3qwayak9_t2_sequenced.pkl\n",
      "p_3201_lidszvqb37f_t2_sequenced.pkl\n",
      "p_0321_lidbjy2zpww_t2_sequenced.pkl\n",
      "p_3012_lidc87kgzbr_t2_sequenced.pkl\n",
      "p_3012_lidqevswkvj_t2_sequenced.pkl\n",
      "p_3210_lidz5dzzgk5_t2_sequenced.pkl\n",
      "p_0231_lidsgdgynxy_t2_sequenced.pkl\n",
      "p_2103_lidcb3z5rjs_t2_sequenced.pkl\n",
      "p_2013_lidcdq4drkk_t2_sequenced.pkl\n",
      "p_0321_lid7zjqat99_t2_sequenced.pkl\n",
      "p_2013_lide3b96acv_t2_sequenced.pkl\n",
      "p_3021_liduenn9vgu_t2_sequenced.pkl\n",
      "p_3012_lidzxp438xr_t2_sequenced.pkl\n",
      "p_3120_lidupp6pqmx_t2_sequenced.pkl\n",
      "p_2310_lideqdntxer_t2_sequenced.pkl\n",
      "p_0312_lid9hdhrrat_t2_sequenced.pkl\n",
      "p_3120_lidjwajupwj_t2_sequenced.pkl\n",
      "p_1023_lidbed4zkv2_t2_sequenced.pkl\n",
      "p_3012_lidpesfpzbv_t2_sequenced.pkl\n",
      "p_2031_lid2xjmtbvz_t2_sequenced.pkl\n",
      "p_3210_lidnmptx7nj_t2_sequenced.pkl\n",
      "p_3201_lidzgs84jfy_t2_sequenced.pkl\n",
      "p_0213_lid9sgu2tbg_t2_sequenced.pkl\n",
      "p_3120_lid6fkbh35u_t2_sequenced.pkl\n",
      "p_2031_lidbswtap2v_t2_sequenced.pkl\n",
      "p_0321_lidp6269reg_t2_sequenced.pkl\n",
      "p_0213_liduhbpoog9_t2_sequenced.pkl\n",
      "p_0321_lid5pt9tpaj_t2_sequenced.pkl\n",
      "p_0312_lidu96tpd55_t2_sequenced.pkl\n",
      "p_3012_lid3kzp9bet_t2_sequenced.pkl\n",
      "p_0321_lidprr8qsns_t2_sequenced.pkl\n",
      "p_3021_lid7xhcecye_t2_sequenced.pkl\n"
     ]
    }
   ],
   "source": [
    "plot('stateaction_secondslstm', 'seconds')\n",
    "lengths = get_lengths('stateaction_secondslstm')"
   ]
  },
  {
   "cell_type": "code",
   "execution_count": 14,
   "id": "130e835c",
   "metadata": {
    "ExecuteTime": {
     "end_time": "2021-12-05T20:07:58.002285Z",
     "start_time": "2021-12-05T20:07:57.998400Z"
    }
   },
   "outputs": [
    {
     "data": {
      "text/plain": [
       "{'lengths': 0, 'durations': 0, 'year': '3rd', 'permutation': '3201'}"
      ]
     },
     "execution_count": 14,
     "metadata": {},
     "output_type": "execute_result"
    }
   ],
   "source": [
    "lengths[\"tcnba4ca\"]"
   ]
  },
  {
   "cell_type": "code",
   "execution_count": 15,
   "id": "c80c63ff",
   "metadata": {
    "ExecuteTime": {
     "end_time": "2021-12-05T20:08:00.503890Z",
     "start_time": "2021-12-05T20:08:00.500956Z"
    }
   },
   "outputs": [],
   "source": [
    "with open('../data/sequenced_simulations/stateaction_secondslstm/p_3201_lidtcnba4ca_t2_sequenced.pkl', 'rb') as fp:\n",
    "    sim = pickle.load(fp)"
   ]
  },
  {
   "cell_type": "code",
   "execution_count": 16,
   "id": "36a1d1d7",
   "metadata": {
    "ExecuteTime": {
     "end_time": "2021-12-05T20:08:01.704107Z",
     "start_time": "2021-12-05T20:08:01.700188Z"
    }
   },
   "outputs": [
    {
     "data": {
      "text/plain": [
       "{'sequence': [],\n",
       " 'begin': [],\n",
       " 'end': [],\n",
       " 'permutation': '3201',\n",
       " 'last_timestamp': 0,\n",
       " 'learner_id': 'tcnba4ca',\n",
       " 'gender': 3,\n",
       " 'year': '3rd'}"
      ]
     },
     "execution_count": 16,
     "metadata": {},
     "output_type": "execute_result"
    }
   ],
   "source": [
    "sim"
   ]
  },
  {
   "cell_type": "code",
   "execution_count": 50,
   "id": "81108bef",
   "metadata": {
    "ExecuteTime": {
     "end_time": "2021-12-03T14:49:28.758576Z",
     "start_time": "2021-12-03T14:49:28.628754Z"
    }
   },
   "outputs": [
    {
     "name": "stdout",
     "output_type": "stream",
     "text": [
      "There are 414 students with a ranking.\n",
      "160 of them have an interaction shorter than 2 minutes.\n",
      "159 of them have less than 10 interactions with the platform\n"
     ]
    },
    {
     "data": {
      "image/png": "[encoded data removed]",
      "text/plain": [
       "<Figure size 864x288 with 1 Axes>"
      ]
     },
     "metadata": {
      "needs_background": "light"
     },
     "output_type": "display_data"
    }
   ],
   "source": [
    "print('There are {} students with a ranking.'.format(len(lengths)))\n",
    "less2minutes = [idx for idx in lengths if lengths[idx]['durations'] < 120]\n",
    "print('{} of them have an interaction shorter than 2 minutes.'.format(len(less2minutes)))\n",
    "less2minutesover10 = [idx for idx in lengths if lengths[idx]['durations'] < 120 and lengths[idx]['lengths']>10]\n",
    "print('{} of them have an interaction shorter than 2 minutes.'.format(len(less2minutes)))\n",
    "less10inte = [idx for idx in lengths if lengths[idx]['lengths'] < 10]\n",
    "print('{} of them have less than 10 interactions with the platform'.format(len(less10inte)))\n",
    "permutations = [lengths[idx]['permutation'] for idx in less2minutes]\n",
    "permutations = [permutation_map['map'][perm] for perm in permutations]\n",
    "sorting_index = [int(x[0]) + int(x[1]) + int(x[2]) for x in permutations]\n",
    "sorting_index = np.argsort(sorting_index)\n",
    "permutations = [permutations[i] for i in sorting_index]\n",
    "plt.figure(figsize=(12, 4))\n",
    "sns.countplot(x=permutations, palette='viridis')\n",
    "plt.show()"
   ]
  },
  {
   "cell_type": "code",
   "execution_count": 18,
   "id": "52f830e6",
   "metadata": {
    "ExecuteTime": {
     "end_time": "2021-12-05T20:08:19.003970Z",
     "start_time": "2021-12-05T20:08:18.911827Z"
    }
   },
   "outputs": [
    {
     "name": "stdout",
     "output_type": "stream",
     "text": [
      "414\n",
      "253\n"
     ]
    },
    {
     "name": "stderr",
     "output_type": "stream",
     "text": [
      "/opt/anaconda3/envs/PhetGPU/lib/python3.8/site-packages/seaborn/_decorators.py:36: FutureWarning: Pass the following variable as a keyword arg: x. From version 0.12, the only valid positional argument will be `data`, and passing other arguments without an explicit keyword will result in an error or misinterpretation.\n",
      "  warnings.warn(\n"
     ]
    },
    {
     "data": {
      "image/png": "[encoded data removed]",
      "text/plain": [
       "<Figure size 432x288 with 1 Axes>"
      ]
     },
     "metadata": {
      "needs_background": "light"
     },
     "output_type": "display_data"
    }
   ],
   "source": [
    "print(len(lengths))\n",
    "lenunder10 = [idx for idx in lengths if lengths[idx]['lengths'] < 10]\n",
    "lenover10 = [idx for idx in lengths if lengths[idx]['lengths'] >= 10 and lengths[idx]['durations'] < 120]\n",
    "print(len([idx for idx in lengths if lengths[idx]['lengths'] > 10]))\n",
    "remainings = ([idx for idx in lengths if lengths[idx]['lengths'] > 10])\n",
    "sns.countplot([lengths[x]['year'] for x in remainings])\n",
    "plt.show()"
   ]
  },
  {
   "cell_type": "code",
   "execution_count": 54,
   "id": "93d8bb24",
   "metadata": {
    "ExecuteTime": {
     "end_time": "2021-12-03T14:53:21.850216Z",
     "start_time": "2021-12-03T14:53:21.845826Z"
    }
   },
   "outputs": [
    {
     "name": "stdout",
     "output_type": "stream",
     "text": [
      "tcnba4ca {'lengths': 0, 'durations': 0, 'year': '3rd', 'permutation': '3201'}\n"
     ]
    },
    {
     "data": {
      "text/plain": [
       "[None]"
      ]
     },
     "execution_count": 54,
     "metadata": {},
     "output_type": "execute_result"
    }
   ],
   "source": [
    "[print(idx, lengths[idx]) for idx in lengths if 'ba4ca' in idx]"
   ]
  },
  {
   "cell_type": "code",
   "execution_count": null,
   "id": "4ea0c2bc",
   "metadata": {},
   "outputs": [],
   "source": []
  },
  {
   "cell_type": "code",
   "execution_count": null,
   "id": "f066bee6",
   "metadata": {},
   "outputs": [],
   "source": []
  },
  {
   "cell_type": "code",
   "execution_count": null,
   "id": "73fdcfd6",
   "metadata": {},
   "outputs": [],
   "source": []
  },
  {
   "cell_type": "code",
   "execution_count": null,
   "id": "0f4e0187",
   "metadata": {},
   "outputs": [],
   "source": []
  },
  {
   "cell_type": "code",
   "execution_count": null,
   "id": "23f2a38f",
   "metadata": {},
   "outputs": [],
   "source": []
  },
  {
   "cell_type": "code",
   "execution_count": null,
   "id": "72152f8a",
   "metadata": {},
   "outputs": [],
   "source": []
  },
  {
   "cell_type": "code",
   "execution_count": null,
   "id": "12b21d5c",
   "metadata": {},
   "outputs": [],
   "source": []
  },
  {
   "cell_type": "code",
   "execution_count": null,
   "id": "e2cd4186",
   "metadata": {},
   "outputs": [],
   "source": []
  },
  {
   "cell_type": "code",
   "execution_count": null,
   "id": "3a59f6c5",
   "metadata": {},
   "outputs": [],
   "source": []
  },
  {
   "cell_type": "code",
   "execution_count": null,
   "id": "65c4ba8b",
   "metadata": {},
   "outputs": [],
   "source": []
  },
  {
   "cell_type": "code",
   "execution_count": null,
   "id": "0bdbe6da",
   "metadata": {},
   "outputs": [],
   "source": []
  },
  {
   "cell_type": "code",
   "execution_count": null,
   "id": "bc0652ed",
   "metadata": {},
   "outputs": [],
   "source": []
  },
  {
   "cell_type": "code",
   "execution_count": null,
   "id": "a1d3a255",
   "metadata": {},
   "outputs": [],
   "source": []
  },
  {
   "cell_type": "code",
   "execution_count": null,
   "id": "528b59fa",
   "metadata": {},
   "outputs": [],
   "source": []
  },
  {
   "cell_type": "code",
   "execution_count": null,
   "id": "8b885e93",
   "metadata": {},
   "outputs": [],
   "source": []
  },
  {
   "cell_type": "code",
   "execution_count": null,
   "id": "a7a0f314",
   "metadata": {},
   "outputs": [],
   "source": []
  },
  {
   "cell_type": "code",
   "execution_count": null,
   "id": "126202f3",
   "metadata": {},
   "outputs": [],
   "source": []
  },
  {
   "cell_type": "code",
   "execution_count": null,
   "id": "45a5de62",
   "metadata": {},
   "outputs": [],
   "source": []
  }
 ],
 "metadata": {
  "kernelspec": {
   "display_name": "Python 3 (ipykernel)",
   "language": "python",
   "name": "python3"
  },
  "language_info": {
   "codemirror_mode": {
    "name": "ipython",
    "version": 3
   },
   "file_extension": ".py",
   "mimetype": "text/x-python",
   "name": "python",
   "nbconvert_exporter": "python",
   "pygments_lexer": "ipython3",
   "version": "3.8.12"
  },
  "toc": {
   "base_numbering": 1,
   "nav_menu": {},
   "number_sections": true,
   "sideBar": true,
   "skip_h1_title": false,
   "title_cell": "Table of Contents",
   "title_sidebar": "Contents",
   "toc_cell": false,
   "toc_position": {
    "height": "calc(100% - 180px)",
    "left": "10px",
    "top": "150px",
    "width": "329.1875px"
   },
   "toc_section_display": true,
   "toc_window_display": true
  }
 },
 "nbformat": 4,
 "nbformat_minor": 5
}
