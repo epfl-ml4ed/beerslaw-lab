{
 "cells": [
  {
   "cell_type": "markdown",
   "id": "91350ec2",
   "metadata": {},
   "source": [
    "This notebook is used to merge the old annotations with the updated dataframes.\n",
    "Once this is done, we can extract the non annotated data, put them into a new dataframe, relabel them, and remerge them in this notebook to."
   ]
  },
  {
   "cell_type": "code",
   "execution_count": 1,
   "id": "cba703d7",
   "metadata": {
    "ExecuteTime": {
     "end_time": "2021-11-05T10:08:03.066888Z",
     "start_time": "2021-11-05T10:08:02.771259Z"
    }
   },
   "outputs": [],
   "source": [
    "import os\n",
    "import yaml\n",
    "import pickle\n",
    "\n",
    "import numpy as np\n",
    "import pandas as pd\n",
    "pd.set_option('display.max_columns', None)"
   ]
  },
  {
   "cell_type": "markdown",
   "id": "14eb97c6",
   "metadata": {},
   "source": [
    "# Post Test Data"
   ]
  },
  {
   "cell_type": "code",
   "execution_count": 2,
   "id": "f2ba431a",
   "metadata": {
    "ExecuteTime": {
     "end_time": "2021-11-05T10:08:03.341645Z",
     "start_time": "2021-11-05T10:08:03.318119Z"
    }
   },
   "outputs": [],
   "source": [
    "# Post test\n",
    "with open('../../data/post_test/questions.pkl', 'rb') as fp:\n",
    "    questions = pickle.load(fp)\n",
    "    \n",
    "with open('../../data/post_test/rankings.pkl', 'rb') as fp:\n",
    "    rankings = pickle.load(fp)\n",
    "    \n",
    "with open('../../data/post_test/some_questions.pkl', 'rb') as fp:\n",
    "    some_questions = pickle.load(fp)\n",
    "    \n",
    "with open('../../data/post_test/some.pkl', 'rb') as fp:\n",
    "    some = pickle.load(fp)"
   ]
  },
  {
   "cell_type": "markdown",
   "id": "d4b47cbb",
   "metadata": {},
   "source": [
    "# First iteration of labelling\n",
    "Here, we will merge the iteration data for the three first versions."
   ]
  },
  {
   "cell_type": "markdown",
   "id": "5f83fafb",
   "metadata": {},
   "source": [
    "## Question merging"
   ]
  },
  {
   "cell_type": "code",
   "execution_count": 3,
   "id": "4bb755a5",
   "metadata": {
    "ExecuteTime": {
     "end_time": "2021-11-05T10:08:06.874670Z",
     "start_time": "2021-11-05T10:08:06.871995Z"
    }
   },
   "outputs": [],
   "source": [
    "annotation_root = '../../data/post_test/annotations/'"
   ]
  },
  {
   "cell_type": "markdown",
   "id": "c52e0466",
   "metadata": {},
   "source": [
    "### question 7\n",
    "**Width is halved** \\\n",
    "Answer: 0.37 "
   ]
  },
  {
   "cell_type": "code",
   "execution_count": 22,
   "id": "af71e99f",
   "metadata": {
    "ExecuteTime": {
     "end_time": "2021-11-03T14:55:39.622514Z",
     "start_time": "2021-11-03T14:55:39.616171Z"
    }
   },
   "outputs": [],
   "source": [
    "seven = pd.read_csv(annotation_root + 'seven.csv', sep='\\t', index_col=0)\n",
    "seven.columns = [\n",
    "    'consent', 'date', 'field', 'gender', 'language', 'level', 'username', 'year', 'seven', 'label_seven'\n",
    "]"
   ]
  },
  {
   "cell_type": "code",
   "execution_count": 5,
   "id": "25e48c72",
   "metadata": {
    "ExecuteTime": {
     "end_time": "2021-11-03T13:51:02.892438Z",
     "start_time": "2021-11-03T13:51:02.882692Z"
    }
   },
   "outputs": [],
   "source": [
    "some_questions = some_questions.merge(\n",
    "    seven, on=['consent', 'field', 'gender', 'language', 'level', 'username', 'year'],\n",
    "    how='left'\n",
    ")"
   ]
  },
  {
   "cell_type": "markdown",
   "id": "c875eaa6",
   "metadata": {},
   "source": [
    "### question 8\n",
    "**Concentration is tripled**\\\n",
    "answer: 1.59"
   ]
  },
  {
   "cell_type": "code",
   "execution_count": 5,
   "id": "0ee96c2a",
   "metadata": {
    "ExecuteTime": {
     "end_time": "2021-11-03T14:50:32.956962Z",
     "start_time": "2021-11-03T14:50:32.949394Z"
    }
   },
   "outputs": [],
   "source": [
    "eight = pd.read_csv(annotation_root + 'eight.csv', sep='\\t', index_col=0)\n",
    "eight.columns = [\n",
    "    'consent', 'date', 'field', 'gender', 'language', 'level', 'username', 'year', 'eight', 'label_eight'\n",
    "]"
   ]
  },
  {
   "cell_type": "code",
   "execution_count": 7,
   "id": "a43841c1",
   "metadata": {
    "ExecuteTime": {
     "end_time": "2021-11-03T13:51:05.133353Z",
     "start_time": "2021-11-03T13:51:05.124145Z"
    }
   },
   "outputs": [],
   "source": [
    "some_questions = some_questions.merge(\n",
    "    eight, on=['date', 'consent', 'field', 'gender', 'language', 'level', 'username', 'year'],\n",
    "    how='left'\n",
    ")"
   ]
  },
  {
   "cell_type": "markdown",
   "id": "e725f84c",
   "metadata": {},
   "source": [
    "### question 9\n",
    "**Width is halved, Concentration is doubled** \\\n",
    "answer: 0.96"
   ]
  },
  {
   "cell_type": "code",
   "execution_count": 7,
   "id": "dae1df9b",
   "metadata": {
    "ExecuteTime": {
     "end_time": "2021-11-03T14:50:36.556652Z",
     "start_time": "2021-11-03T14:50:36.549238Z"
    }
   },
   "outputs": [],
   "source": [
    "nine = pd.read_csv(annotation_root + 'nine.csv', sep='\\t', index_col=0)\n",
    "nine.columns = [\n",
    "    'consent', 'date', 'field', 'gender', 'language', 'level', 'username', 'year', 'nine', 'label_nine'\n",
    "]"
   ]
  },
  {
   "cell_type": "code",
   "execution_count": 9,
   "id": "bba879b4",
   "metadata": {
    "ExecuteTime": {
     "end_time": "2021-11-03T13:51:06.245737Z",
     "start_time": "2021-11-03T13:51:06.236189Z"
    }
   },
   "outputs": [],
   "source": [
    "some_questions = some_questions.merge(\n",
    "    nine, on=['date', 'consent', 'field', 'gender', 'language', 'level', 'username', 'year'],\n",
    "    how='left'\n",
    ")"
   ]
  },
  {
   "cell_type": "markdown",
   "id": "d4cdd1e4",
   "metadata": {},
   "source": [
    "### Question 10\n",
    "**Width is quadrupled, concentration is thirded(?)** \\\n",
    "answer: 0.8\n"
   ]
  },
  {
   "cell_type": "code",
   "execution_count": 8,
   "id": "19564d65",
   "metadata": {
    "ExecuteTime": {
     "end_time": "2021-11-03T14:50:38.671176Z",
     "start_time": "2021-11-03T14:50:38.662932Z"
    }
   },
   "outputs": [],
   "source": [
    "ten = pd.read_csv(annotation_root + 'ten.csv', sep='\\t', index_col=0)\n",
    "ten.columns = [\n",
    "    'consent', 'date', 'field', 'gender', 'language', 'level', 'username', 'year', 'ten', 'label_ten'\n",
    "]"
   ]
  },
  {
   "cell_type": "code",
   "execution_count": 11,
   "id": "66766ca7",
   "metadata": {
    "ExecuteTime": {
     "end_time": "2021-11-03T13:51:07.772685Z",
     "start_time": "2021-11-03T13:51:07.763190Z"
    }
   },
   "outputs": [],
   "source": [
    "some_questions = some_questions.merge(\n",
    "    ten, on=['date', 'consent', 'field', 'gender', 'language', 'level', 'username', 'year'],\n",
    "    how='left'\n",
    ")"
   ]
  },
  {
   "cell_type": "markdown",
   "id": "74f57e66",
   "metadata": {},
   "source": [
    "## Extract non labelled entries"
   ]
  },
  {
   "cell_type": "code",
   "execution_count": 12,
   "id": "d3a2b99d",
   "metadata": {
    "ExecuteTime": {
     "end_time": "2021-11-03T11:53:05.128603Z",
     "start_time": "2021-11-03T11:53:05.118094Z"
    }
   },
   "outputs": [],
   "source": [
    "some_questions = some_questions.fillna('non-labelled')"
   ]
  },
  {
   "cell_type": "code",
   "execution_count": 13,
   "id": "05d0fe1b",
   "metadata": {
    "ExecuteTime": {
     "end_time": "2021-11-03T11:53:05.300117Z",
     "start_time": "2021-11-03T11:53:05.294553Z"
    }
   },
   "outputs": [],
   "source": [
    "non_labelled = some_questions[some_questions['label_seven'] == 'non-labelled']"
   ]
  },
  {
   "cell_type": "code",
   "execution_count": 14,
   "id": "907cd54c",
   "metadata": {
    "ExecuteTime": {
     "end_time": "2021-11-03T11:53:05.484240Z",
     "start_time": "2021-11-03T11:53:05.476111Z"
    }
   },
   "outputs": [],
   "source": [
    "non_labelled.to_csv('../../data/post_test/non_labelled.csv', sep='\\t')"
   ]
  },
  {
   "cell_type": "code",
   "execution_count": 15,
   "id": "ca23c298",
   "metadata": {
    "ExecuteTime": {
     "end_time": "2021-11-03T11:53:05.830570Z",
     "start_time": "2021-11-03T11:53:05.826637Z"
    }
   },
   "outputs": [],
   "source": [
    "with open('../../data/post_test/non_labelled.pkl', 'wb') as fp:\n",
    "    pickle.dump(non_labelled, fp)"
   ]
  },
  {
   "cell_type": "code",
   "execution_count": 16,
   "id": "1afd8464",
   "metadata": {
    "ExecuteTime": {
     "end_time": "2021-11-03T11:53:06.270532Z",
     "start_time": "2021-11-03T11:53:06.210881Z"
    }
   },
   "outputs": [
    {
     "data": {
      "text/html": [
       "<div>\n",
       "<style scoped>\n",
       "    .dataframe tbody tr th:only-of-type {\n",
       "        vertical-align: middle;\n",
       "    }\n",
       "\n",
       "    .dataframe tbody tr th {\n",
       "        vertical-align: top;\n",
       "    }\n",
       "\n",
       "    .dataframe thead th {\n",
       "        text-align: right;\n",
       "    }\n",
       "</style>\n",
       "<table border=\"1\" class=\"dataframe\">\n",
       "  <thead>\n",
       "    <tr style=\"text-align: right;\">\n",
       "      <th></th>\n",
       "      <th>username</th>\n",
       "      <th>start_time</th>\n",
       "      <th>exploration_time</th>\n",
       "      <th>ranking_task_time</th>\n",
       "      <th>ranking</th>\n",
       "      <th>ranking_confidence</th>\n",
       "      <th>ranking_time</th>\n",
       "      <th>q1</th>\n",
       "      <th>q1_conf</th>\n",
       "      <th>q1_time</th>\n",
       "      <th>q2</th>\n",
       "      <th>q2_conf</th>\n",
       "      <th>q2_time</th>\n",
       "      <th>q3</th>\n",
       "      <th>q3_conf</th>\n",
       "      <th>q3_time</th>\n",
       "      <th>q4</th>\n",
       "      <th>q4_conf</th>\n",
       "      <th>q4_time</th>\n",
       "      <th>q5_colour0</th>\n",
       "      <th>q5_colour1</th>\n",
       "      <th>q5_colour2</th>\n",
       "      <th>q5_colour3</th>\n",
       "      <th>q5_time</th>\n",
       "      <th>q6_colour0</th>\n",
       "      <th>q6_colour1</th>\n",
       "      <th>q6_colour2</th>\n",
       "      <th>q6_colour3</th>\n",
       "      <th>q6_time</th>\n",
       "      <th>q7_colour0</th>\n",
       "      <th>q7_colour1</th>\n",
       "      <th>q7_colour2</th>\n",
       "      <th>q7_colour3</th>\n",
       "      <th>q7_time</th>\n",
       "      <th>q8_colour0</th>\n",
       "      <th>q8_colour1</th>\n",
       "      <th>q8_colour2</th>\n",
       "      <th>q8_colour3</th>\n",
       "      <th>q8_time</th>\n",
       "      <th>formula</th>\n",
       "      <th>fomula_conf</th>\n",
       "      <th>formula_time</th>\n",
       "      <th>notes_text</th>\n",
       "      <th>notes_math</th>\n",
       "      <th>notes_table</th>\n",
       "      <th>notes_diag</th>\n",
       "      <th>notes_time</th>\n",
       "      <th>beerslaw</th>\n",
       "      <th>beerslaw_conf</th>\n",
       "      <th>beerslaw_time</th>\n",
       "      <th>problem_ranking</th>\n",
       "      <th>problem_conf</th>\n",
       "      <th>problem_time</th>\n",
       "      <th>feedback_entertain</th>\n",
       "      <th>feedback_difficult</th>\n",
       "      <th>feedback_good</th>\n",
       "      <th>feedback_bad</th>\n",
       "      <th>feedback</th>\n",
       "      <th>feedback_time</th>\n",
       "      <th>experiment_time</th>\n",
       "      <th>status</th>\n",
       "      <th>session</th>\n",
       "      <th>version</th>\n",
       "      <th>numerical_status</th>\n",
       "      <th>language</th>\n",
       "      <th>field</th>\n",
       "      <th>level</th>\n",
       "      <th>year</th>\n",
       "      <th>consent</th>\n",
       "      <th>gender</th>\n",
       "      <th>date</th>\n",
       "      <th>seven</th>\n",
       "      <th>label_seven</th>\n",
       "      <th>eight</th>\n",
       "      <th>label_eight</th>\n",
       "      <th>nine</th>\n",
       "      <th>label_nine</th>\n",
       "      <th>ten</th>\n",
       "      <th>label_ten</th>\n",
       "    </tr>\n",
       "  </thead>\n",
       "  <tbody>\n",
       "    <tr>\n",
       "      <th>213</th>\n",
       "      <td>4jchqv4d</td>\n",
       "      <td>{'time': 1634035392}</td>\n",
       "      <td>{'time': 1634035547}</td>\n",
       "      <td>{'time': 1634036101}</td>\n",
       "      <td>1302</td>\n",
       "      <td>45</td>\n",
       "      <td>1634036126</td>\n",
       "      <td>0.37</td>\n",
       "      <td>0</td>\n",
       "      <td>1634036317</td>\n",
       "      <td>1.59</td>\n",
       "      <td>50</td>\n",
       "      <td>1634036380</td>\n",
       "      <td>0.48</td>\n",
       "      <td>5</td>\n",
       "      <td>1634036583</td>\n",
       "      <td>0.8</td>\n",
       "      <td>90</td>\n",
       "      <td>1634036946</td>\n",
       "      <td>5</td>\n",
       "      <td>50</td>\n",
       "      <td>15</td>\n",
       "      <td>30</td>\n",
       "      <td>1634037030</td>\n",
       "      <td>5</td>\n",
       "      <td>30</td>\n",
       "      <td>15</td>\n",
       "      <td>50</td>\n",
       "      <td>1634037067</td>\n",
       "      <td>10</td>\n",
       "      <td>20</td>\n",
       "      <td>30</td>\n",
       "      <td>40</td>\n",
       "      <td>1634037084</td>\n",
       "      <td>20</td>\n",
       "      <td>20</td>\n",
       "      <td>45</td>\n",
       "      <td>15</td>\n",
       "      <td>1634037105</td>\n",
       "      <td>Selon la lois de Lambert Beer, \\r\\nA= E * c * ...</td>\n",
       "      <td>100</td>\n",
       "      <td>1634037276</td>\n",
       "      <td></td>\n",
       "      <td></td>\n",
       "      <td></td>\n",
       "      <td></td>\n",
       "      <td>1634037281</td>\n",
       "      <td>oui bien sur</td>\n",
       "      <td></td>\n",
       "      <td>1634037293</td>\n",
       "      <td>[Co(No3)2: Cobalt (II) nitrate, CoCl2: Cobalt ...</td>\n",
       "      <td>wrong field</td>\n",
       "      <td>1634037720</td>\n",
       "      <td>50</td>\n",
       "      <td>50</td>\n",
       "      <td>les images</td>\n",
       "      <td>j'ai de la peine a faire des choses pratique c...</td>\n",
       "      <td>wrong field</td>\n",
       "      <td>1634037957</td>\n",
       "      <td>1634037973</td>\n",
       "      <td>complete</td>\n",
       "      <td>Session 40</td>\n",
       "      <td>4</td>\n",
       "      <td>18</td>\n",
       "      <td>Français</td>\n",
       "      <td>non-labelled</td>\n",
       "      <td>non-labelled</td>\n",
       "      <td>1st</td>\n",
       "      <td>1.0</td>\n",
       "      <td>2.0</td>\n",
       "      <td>non-labelled</td>\n",
       "      <td>non-labelled</td>\n",
       "      <td>non-labelled</td>\n",
       "      <td>non-labelled</td>\n",
       "      <td>non-labelled</td>\n",
       "      <td>non-labelled</td>\n",
       "      <td>non-labelled</td>\n",
       "      <td>non-labelled</td>\n",
       "      <td>non-labelled</td>\n",
       "    </tr>\n",
       "    <tr>\n",
       "      <th>214</th>\n",
       "      <td>u6c3cp6c</td>\n",
       "      <td>{'time': 1634032422}</td>\n",
       "      <td>{'time': 1634032514}</td>\n",
       "      <td>{'time': 1634032765}</td>\n",
       "      <td>2130</td>\n",
       "      <td>20</td>\n",
       "      <td>1634032782</td>\n",
       "      <td>0.37</td>\n",
       "      <td>25</td>\n",
       "      <td>1634032843</td>\n",
       "      <td>1.59</td>\n",
       "      <td>30</td>\n",
       "      <td>1634032866</td>\n",
       "      <td>0.96</td>\n",
       "      <td>20</td>\n",
       "      <td>1634032886</td>\n",
       "      <td>0.60</td>\n",
       "      <td>25</td>\n",
       "      <td>1634032899</td>\n",
       "      <td>50</td>\n",
       "      <td>50</td>\n",
       "      <td>0</td>\n",
       "      <td>0</td>\n",
       "      <td>1634032943</td>\n",
       "      <td>50</td>\n",
       "      <td>50</td>\n",
       "      <td>0</td>\n",
       "      <td>0</td>\n",
       "      <td>1634032959</td>\n",
       "      <td>30</td>\n",
       "      <td>70</td>\n",
       "      <td>0</td>\n",
       "      <td>0</td>\n",
       "      <td>1634032984</td>\n",
       "      <td>70</td>\n",
       "      <td>30</td>\n",
       "      <td>0</td>\n",
       "      <td>0</td>\n",
       "      <td>1634033049</td>\n",
       "      <td>concentration volume et plein d'autre truc</td>\n",
       "      <td>0</td>\n",
       "      <td>1634033107</td>\n",
       "      <td></td>\n",
       "      <td></td>\n",
       "      <td></td>\n",
       "      <td></td>\n",
       "      <td>1634033128</td>\n",
       "      <td>oui mais plus de souvenir</td>\n",
       "      <td></td>\n",
       "      <td>1634033147</td>\n",
       "      <td>[Co(No3)2: Cobalt (II) nitrate, CoCl2: Cobalt ...</td>\n",
       "      <td>wrong field</td>\n",
       "      <td>1634034108</td>\n",
       "      <td>50</td>\n",
       "      <td>100</td>\n",
       "      <td>la parti labo</td>\n",
       "      <td>manque de clarté pour les exercices pas de pos...</td>\n",
       "      <td>wrong field</td>\n",
       "      <td>1634034333</td>\n",
       "      <td>1634034340</td>\n",
       "      <td>complete</td>\n",
       "      <td>Session 40</td>\n",
       "      <td>4</td>\n",
       "      <td>18</td>\n",
       "      <td>Français</td>\n",
       "      <td>non-labelled</td>\n",
       "      <td>non-labelled</td>\n",
       "      <td>1st</td>\n",
       "      <td>1.0</td>\n",
       "      <td>1.0</td>\n",
       "      <td>non-labelled</td>\n",
       "      <td>non-labelled</td>\n",
       "      <td>non-labelled</td>\n",
       "      <td>non-labelled</td>\n",
       "      <td>non-labelled</td>\n",
       "      <td>non-labelled</td>\n",
       "      <td>non-labelled</td>\n",
       "      <td>non-labelled</td>\n",
       "      <td>non-labelled</td>\n",
       "    </tr>\n",
       "    <tr>\n",
       "      <th>215</th>\n",
       "      <td>m4zvafhs</td>\n",
       "      <td>{'time': 1634032088}</td>\n",
       "      <td>{'time': 1634032732}</td>\n",
       "      <td>{'time': 1634033167}</td>\n",
       "      <td>0213</td>\n",
       "      <td>30</td>\n",
       "      <td>1634033197</td>\n",
       "      <td>une absorbance plus grande que celle de gauche</td>\n",
       "      <td>70</td>\n",
       "      <td>1634033263</td>\n",
       "      <td>plus grande que celle de gauche</td>\n",
       "      <td>55</td>\n",
       "      <td>1634033284</td>\n",
       "      <td>plus petite que celle de gauche\\r\\n</td>\n",
       "      <td>15</td>\n",
       "      <td>1634033307</td>\n",
       "      <td>plus petite que celle de gauche</td>\n",
       "      <td>5</td>\n",
       "      <td>1634033331</td>\n",
       "      <td>70</td>\n",
       "      <td>10</td>\n",
       "      <td>0</td>\n",
       "      <td>20</td>\n",
       "      <td>1634033397</td>\n",
       "      <td>100</td>\n",
       "      <td>0</td>\n",
       "      <td>0</td>\n",
       "      <td>0</td>\n",
       "      <td>1634033423</td>\n",
       "      <td>5</td>\n",
       "      <td>0</td>\n",
       "      <td>25</td>\n",
       "      <td>70</td>\n",
       "      <td>1634033451</td>\n",
       "      <td>35</td>\n",
       "      <td>60</td>\n",
       "      <td>5</td>\n",
       "      <td>0</td>\n",
       "      <td>1634033496</td>\n",
       "      <td>aucune idée</td>\n",
       "      <td>15</td>\n",
       "      <td>1634033545</td>\n",
       "      <td></td>\n",
       "      <td></td>\n",
       "      <td></td>\n",
       "      <td></td>\n",
       "      <td>1634033555</td>\n",
       "      <td>oui</td>\n",
       "      <td></td>\n",
       "      <td>1634033562</td>\n",
       "      <td>[Je ne sais pas, Je ne sais pas, Je ne sais pas]</td>\n",
       "      <td>wrong field</td>\n",
       "      <td>1634033583</td>\n",
       "      <td>5</td>\n",
       "      <td>55</td>\n",
       "      <td>-</td>\n",
       "      <td>-</td>\n",
       "      <td>wrong field</td>\n",
       "      <td>1634033600</td>\n",
       "      <td>1634033602</td>\n",
       "      <td>complete</td>\n",
       "      <td>Session 40</td>\n",
       "      <td>4</td>\n",
       "      <td>18</td>\n",
       "      <td>Français</td>\n",
       "      <td>non-labelled</td>\n",
       "      <td>non-labelled</td>\n",
       "      <td>1st</td>\n",
       "      <td>1.0</td>\n",
       "      <td>1.0</td>\n",
       "      <td>non-labelled</td>\n",
       "      <td>non-labelled</td>\n",
       "      <td>non-labelled</td>\n",
       "      <td>non-labelled</td>\n",
       "      <td>non-labelled</td>\n",
       "      <td>non-labelled</td>\n",
       "      <td>non-labelled</td>\n",
       "      <td>non-labelled</td>\n",
       "      <td>non-labelled</td>\n",
       "    </tr>\n",
       "    <tr>\n",
       "      <th>216</th>\n",
       "      <td>u25vrfyy</td>\n",
       "      <td>{'time': 1634035362}</td>\n",
       "      <td>{'time': 1634035527}</td>\n",
       "      <td>{'time': 1634035904}</td>\n",
       "      <td>3102</td>\n",
       "      <td>100</td>\n",
       "      <td>1634035951</td>\n",
       "      <td>1.48</td>\n",
       "      <td>50</td>\n",
       "      <td>1634036008</td>\n",
       "      <td>0.18</td>\n",
       "      <td>50</td>\n",
       "      <td>1634036052</td>\n",
       "      <td>0.96</td>\n",
       "      <td>50</td>\n",
       "      <td>1634036102</td>\n",
       "      <td>0.45</td>\n",
       "      <td>50</td>\n",
       "      <td>1634036141</td>\n",
       "      <td>70</td>\n",
       "      <td>0</td>\n",
       "      <td>0</td>\n",
       "      <td>30</td>\n",
       "      <td>1634036218</td>\n",
       "      <td>20</td>\n",
       "      <td>0</td>\n",
       "      <td>0</td>\n",
       "      <td>80</td>\n",
       "      <td>1634036243</td>\n",
       "      <td>65</td>\n",
       "      <td>0</td>\n",
       "      <td>0</td>\n",
       "      <td>35</td>\n",
       "      <td>1634036281</td>\n",
       "      <td>0</td>\n",
       "      <td>100</td>\n",
       "      <td>0</td>\n",
       "      <td>0</td>\n",
       "      <td>1634036322</td>\n",
       "      <td>Plus la concentration sera élevée, plus la sol...</td>\n",
       "      <td>75</td>\n",
       "      <td>1634036762</td>\n",
       "      <td></td>\n",
       "      <td></td>\n",
       "      <td></td>\n",
       "      <td></td>\n",
       "      <td>1634036852</td>\n",
       "      <td>oui</td>\n",
       "      <td></td>\n",
       "      <td>1634036896</td>\n",
       "      <td>[Co(No3)2: Cobalt (II) nitrate, CoCl2: Cobalt ...</td>\n",
       "      <td>wrong field</td>\n",
       "      <td>1634037469</td>\n",
       "      <td>50</td>\n",
       "      <td>50</td>\n",
       "      <td>Les images</td>\n",
       "      <td>Les images</td>\n",
       "      <td>wrong field</td>\n",
       "      <td>1634037718</td>\n",
       "      <td>1634037801</td>\n",
       "      <td>complete</td>\n",
       "      <td>Session 40</td>\n",
       "      <td>4</td>\n",
       "      <td>18</td>\n",
       "      <td>Français</td>\n",
       "      <td>non-labelled</td>\n",
       "      <td>non-labelled</td>\n",
       "      <td>1st</td>\n",
       "      <td>1.0</td>\n",
       "      <td>1.0</td>\n",
       "      <td>non-labelled</td>\n",
       "      <td>non-labelled</td>\n",
       "      <td>non-labelled</td>\n",
       "      <td>non-labelled</td>\n",
       "      <td>non-labelled</td>\n",
       "      <td>non-labelled</td>\n",
       "      <td>non-labelled</td>\n",
       "      <td>non-labelled</td>\n",
       "      <td>non-labelled</td>\n",
       "    </tr>\n",
       "    <tr>\n",
       "      <th>217</th>\n",
       "      <td>c9dj36r7</td>\n",
       "      <td>{'time': 1634035417}</td>\n",
       "      <td>{'time': 1634035654}</td>\n",
       "      <td>{'time': 1634036366}</td>\n",
       "      <td>3012</td>\n",
       "      <td>0</td>\n",
       "      <td>1634036405</td>\n",
       "      <td>0.37</td>\n",
       "      <td>0</td>\n",
       "      <td>1634036474</td>\n",
       "      <td>0.53/3</td>\n",
       "      <td>0</td>\n",
       "      <td>1634036513</td>\n",
       "      <td>0.96</td>\n",
       "      <td>0</td>\n",
       "      <td>1634036533</td>\n",
       "      <td>0.8</td>\n",
       "      <td>0</td>\n",
       "      <td>1634036602</td>\n",
       "      <td>75</td>\n",
       "      <td>0</td>\n",
       "      <td>0</td>\n",
       "      <td>25</td>\n",
       "      <td>1634036662</td>\n",
       "      <td>0</td>\n",
       "      <td>50</td>\n",
       "      <td>50</td>\n",
       "      <td>0</td>\n",
       "      <td>1634036697</td>\n",
       "      <td>0</td>\n",
       "      <td>100</td>\n",
       "      <td>0</td>\n",
       "      <td>0</td>\n",
       "      <td>1634036710</td>\n",
       "      <td>25</td>\n",
       "      <td>25</td>\n",
       "      <td>25</td>\n",
       "      <td>25</td>\n",
       "      <td>1634036757</td>\n",
       "      <td>A=c*E*d\\r\\nA[-]\\r\\nc[mol/l]\\r\\nE[oui]\\r\\nd[dm]</td>\n",
       "      <td>0</td>\n",
       "      <td>1634036868</td>\n",
       "      <td></td>\n",
       "      <td></td>\n",
       "      <td></td>\n",
       "      <td></td>\n",
       "      <td>1634036891</td>\n",
       "      <td>non</td>\n",
       "      <td></td>\n",
       "      <td>1634036905</td>\n",
       "      <td>[KMnO4: Potassium permanganate, KMnO4: Potassi...</td>\n",
       "      <td>wrong field</td>\n",
       "      <td>1634037340</td>\n",
       "      <td>0</td>\n",
       "      <td>100</td>\n",
       "      <td>.</td>\n",
       "      <td>.</td>\n",
       "      <td>wrong field</td>\n",
       "      <td>1634037375</td>\n",
       "      <td>1634037383</td>\n",
       "      <td>complete</td>\n",
       "      <td>Session 40</td>\n",
       "      <td>4</td>\n",
       "      <td>18</td>\n",
       "      <td>Français</td>\n",
       "      <td>non-labelled</td>\n",
       "      <td>non-labelled</td>\n",
       "      <td>1st</td>\n",
       "      <td>1.0</td>\n",
       "      <td>1.0</td>\n",
       "      <td>non-labelled</td>\n",
       "      <td>non-labelled</td>\n",
       "      <td>non-labelled</td>\n",
       "      <td>non-labelled</td>\n",
       "      <td>non-labelled</td>\n",
       "      <td>non-labelled</td>\n",
       "      <td>non-labelled</td>\n",
       "      <td>non-labelled</td>\n",
       "      <td>non-labelled</td>\n",
       "    </tr>\n",
       "  </tbody>\n",
       "</table>\n",
       "</div>"
      ],
      "text/plain": [
       "     username            start_time      exploration_time  \\\n",
       "213  4jchqv4d  {'time': 1634035392}  {'time': 1634035547}   \n",
       "214  u6c3cp6c  {'time': 1634032422}  {'time': 1634032514}   \n",
       "215  m4zvafhs  {'time': 1634032088}  {'time': 1634032732}   \n",
       "216  u25vrfyy  {'time': 1634035362}  {'time': 1634035527}   \n",
       "217  c9dj36r7  {'time': 1634035417}  {'time': 1634035654}   \n",
       "\n",
       "        ranking_task_time ranking ranking_confidence ranking_time  \\\n",
       "213  {'time': 1634036101}    1302                 45   1634036126   \n",
       "214  {'time': 1634032765}    2130                 20   1634032782   \n",
       "215  {'time': 1634033167}    0213                 30   1634033197   \n",
       "216  {'time': 1634035904}    3102                100   1634035951   \n",
       "217  {'time': 1634036366}    3012                  0   1634036405   \n",
       "\n",
       "                                                 q1 q1_conf     q1_time  \\\n",
       "213                                            0.37       0  1634036317   \n",
       "214                                            0.37      25  1634032843   \n",
       "215  une absorbance plus grande que celle de gauche      70  1634033263   \n",
       "216                                            1.48      50  1634036008   \n",
       "217                                            0.37       0  1634036474   \n",
       "\n",
       "                                  q2 q2_conf     q2_time  \\\n",
       "213                             1.59      50  1634036380   \n",
       "214                             1.59      30  1634032866   \n",
       "215  plus grande que celle de gauche      55  1634033284   \n",
       "216                             0.18      50  1634036052   \n",
       "217                           0.53/3       0  1634036513   \n",
       "\n",
       "                                      q3 q3_conf     q3_time  \\\n",
       "213                                 0.48       5  1634036583   \n",
       "214                                 0.96      20  1634032886   \n",
       "215  plus petite que celle de gauche\\r\\n      15  1634033307   \n",
       "216                                 0.96      50  1634036102   \n",
       "217                                 0.96       0  1634036533   \n",
       "\n",
       "                                   q4 q4_conf     q4_time q5_colour0  \\\n",
       "213                               0.8      90  1634036946          5   \n",
       "214                              0.60      25  1634032899         50   \n",
       "215  plus petite que celle de gauche        5  1634033331         70   \n",
       "216                              0.45      50  1634036141         70   \n",
       "217                               0.8       0  1634036602         75   \n",
       "\n",
       "    q5_colour1 q5_colour2 q5_colour3     q5_time q6_colour0 q6_colour1  \\\n",
       "213         50         15         30  1634037030          5         30   \n",
       "214         50          0          0  1634032943         50         50   \n",
       "215         10          0         20  1634033397        100          0   \n",
       "216          0          0         30  1634036218         20          0   \n",
       "217          0          0         25  1634036662          0         50   \n",
       "\n",
       "    q6_colour2 q6_colour3     q6_time q7_colour0 q7_colour1 q7_colour2  \\\n",
       "213         15         50  1634037067         10         20         30   \n",
       "214          0          0  1634032959         30         70          0   \n",
       "215          0          0  1634033423          5          0         25   \n",
       "216          0         80  1634036243         65          0          0   \n",
       "217         50          0  1634036697          0        100          0   \n",
       "\n",
       "    q7_colour3     q7_time q8_colour0 q8_colour1 q8_colour2 q8_colour3  \\\n",
       "213         40  1634037084         20         20         45         15   \n",
       "214          0  1634032984         70         30          0          0   \n",
       "215         70  1634033451         35         60          5          0   \n",
       "216         35  1634036281          0        100          0          0   \n",
       "217          0  1634036710         25         25         25         25   \n",
       "\n",
       "        q8_time                                            formula  \\\n",
       "213  1634037105  Selon la lois de Lambert Beer, \\r\\nA= E * c * ...   \n",
       "214  1634033049         concentration volume et plein d'autre truc   \n",
       "215  1634033496                                        aucune idée   \n",
       "216  1634036322  Plus la concentration sera élevée, plus la sol...   \n",
       "217  1634036757     A=c*E*d\\r\\nA[-]\\r\\nc[mol/l]\\r\\nE[oui]\\r\\nd[dm]   \n",
       "\n",
       "    fomula_conf formula_time notes_text notes_math notes_table notes_diag  \\\n",
       "213         100   1634037276                                                \n",
       "214           0   1634033107                                                \n",
       "215          15   1634033545                                                \n",
       "216          75   1634036762                                                \n",
       "217           0   1634036868                                                \n",
       "\n",
       "     notes_time                   beerslaw beerslaw_conf beerslaw_time  \\\n",
       "213  1634037281              oui bien sur                   1634037293   \n",
       "214  1634033128  oui mais plus de souvenir                  1634033147   \n",
       "215  1634033555                        oui                  1634033562   \n",
       "216  1634036852                        oui                  1634036896   \n",
       "217  1634036891                       non                   1634036905   \n",
       "\n",
       "                                       problem_ranking problem_conf  \\\n",
       "213  [Co(No3)2: Cobalt (II) nitrate, CoCl2: Cobalt ...  wrong field   \n",
       "214  [Co(No3)2: Cobalt (II) nitrate, CoCl2: Cobalt ...  wrong field   \n",
       "215   [Je ne sais pas, Je ne sais pas, Je ne sais pas]  wrong field   \n",
       "216  [Co(No3)2: Cobalt (II) nitrate, CoCl2: Cobalt ...  wrong field   \n",
       "217  [KMnO4: Potassium permanganate, KMnO4: Potassi...  wrong field   \n",
       "\n",
       "    problem_time feedback_entertain feedback_difficult  feedback_good  \\\n",
       "213   1634037720                 50                 50    les images    \n",
       "214   1634034108                 50                100  la parti labo   \n",
       "215   1634033583                  5                 55              -   \n",
       "216   1634037469                 50                 50     Les images   \n",
       "217   1634037340                  0                100              .   \n",
       "\n",
       "                                          feedback_bad     feedback  \\\n",
       "213  j'ai de la peine a faire des choses pratique c...  wrong field   \n",
       "214  manque de clarté pour les exercices pas de pos...  wrong field   \n",
       "215                                                  -  wrong field   \n",
       "216                                         Les images  wrong field   \n",
       "217                                                  .  wrong field   \n",
       "\n",
       "    feedback_time experiment_time    status     session  version  \\\n",
       "213    1634037957      1634037973  complete  Session 40        4   \n",
       "214    1634034333      1634034340  complete  Session 40        4   \n",
       "215    1634033600      1634033602  complete  Session 40        4   \n",
       "216    1634037718      1634037801  complete  Session 40        4   \n",
       "217    1634037375      1634037383  complete  Session 40        4   \n",
       "\n",
       "    numerical_status  language         field         level year consent  \\\n",
       "213               18  Français  non-labelled  non-labelled  1st     1.0   \n",
       "214               18  Français  non-labelled  non-labelled  1st     1.0   \n",
       "215               18  Français  non-labelled  non-labelled  1st     1.0   \n",
       "216               18  Français  non-labelled  non-labelled  1st     1.0   \n",
       "217               18  Français  non-labelled  non-labelled  1st     1.0   \n",
       "\n",
       "    gender          date         seven   label_seven         eight  \\\n",
       "213    2.0  non-labelled  non-labelled  non-labelled  non-labelled   \n",
       "214    1.0  non-labelled  non-labelled  non-labelled  non-labelled   \n",
       "215    1.0  non-labelled  non-labelled  non-labelled  non-labelled   \n",
       "216    1.0  non-labelled  non-labelled  non-labelled  non-labelled   \n",
       "217    1.0  non-labelled  non-labelled  non-labelled  non-labelled   \n",
       "\n",
       "      label_eight          nine    label_nine           ten     label_ten  \n",
       "213  non-labelled  non-labelled  non-labelled  non-labelled  non-labelled  \n",
       "214  non-labelled  non-labelled  non-labelled  non-labelled  non-labelled  \n",
       "215  non-labelled  non-labelled  non-labelled  non-labelled  non-labelled  \n",
       "216  non-labelled  non-labelled  non-labelled  non-labelled  non-labelled  \n",
       "217  non-labelled  non-labelled  non-labelled  non-labelled  non-labelled  "
      ]
     },
     "execution_count": 16,
     "metadata": {},
     "output_type": "execute_result"
    }
   ],
   "source": [
    "non_labelled.head()"
   ]
  },
  {
   "cell_type": "markdown",
   "id": "58dcd5a4",
   "metadata": {},
   "source": [
    "## Remerge"
   ]
  },
  {
   "cell_type": "code",
   "execution_count": 9,
   "id": "b7565348",
   "metadata": {
    "ExecuteTime": {
     "end_time": "2021-11-03T14:50:41.822306Z",
     "start_time": "2021-11-03T14:50:41.806419Z"
    }
   },
   "outputs": [],
   "source": [
    "# Post test\n",
    "with open('../../data/post_test/questions.pkl', 'rb') as fp:\n",
    "    questions = pickle.load(fp)\n",
    "\n",
    "with open('../../data/post_test/rankings.pkl', 'rb') as fp:\n",
    "    rankings = pickle.load(fp)\n",
    "    \n",
    "with open('../../data/post_test/some_questions.pkl', 'rb') as fp:\n",
    "    some_questions = pickle.load(fp)"
   ]
  },
  {
   "cell_type": "code",
   "execution_count": 10,
   "id": "4c6c9ab0",
   "metadata": {
    "ExecuteTime": {
     "end_time": "2021-11-03T14:50:43.144591Z",
     "start_time": "2021-11-03T14:50:43.141645Z"
    }
   },
   "outputs": [],
   "source": [
    "merging_columns = [\n",
    "    'consent', 'date', 'field', 'gender', 'language', 'level', 'username', 'year'\n",
    "]"
   ]
  },
  {
   "cell_type": "markdown",
   "id": "ce7e3b8b",
   "metadata": {},
   "source": [
    "### question 7\n",
    "**Width is halved** \\\n",
    "Answer: 0.37 "
   ]
  },
  {
   "cell_type": "code",
   "execution_count": 11,
   "id": "9c401caf",
   "metadata": {
    "ExecuteTime": {
     "end_time": "2021-11-03T14:50:43.545333Z",
     "start_time": "2021-11-03T14:50:43.533603Z"
    }
   },
   "outputs": [],
   "source": [
    "q1 = pd.read_csv(annotation_root + 'q1.csv', sep='\\t', index_col=0)\n",
    "q1 = q1[merging_columns + ['q1', 'label_seven', 'flag_label_seven']]\n",
    "\n",
    "seven = seven[merging_columns + ['seven', 'label_seven']]\n",
    "seven = seven.rename(columns={'seven': 'q1'})\n",
    "\n",
    "q1 = q1.append(seven)\n",
    "q1 = q1.rename(columns={'label_seven': 'label_q1', 'flag_label_seven': 'flag_q1'})"
   ]
  },
  {
   "cell_type": "code",
   "execution_count": 12,
   "id": "cb915a04",
   "metadata": {
    "ExecuteTime": {
     "end_time": "2021-11-03T14:50:43.772125Z",
     "start_time": "2021-11-03T14:50:43.750610Z"
    }
   },
   "outputs": [
    {
     "data": {
      "text/html": [
       "<div>\n",
       "<style scoped>\n",
       "    .dataframe tbody tr th:only-of-type {\n",
       "        vertical-align: middle;\n",
       "    }\n",
       "\n",
       "    .dataframe tbody tr th {\n",
       "        vertical-align: top;\n",
       "    }\n",
       "\n",
       "    .dataframe thead th {\n",
       "        text-align: right;\n",
       "    }\n",
       "</style>\n",
       "<table border=\"1\" class=\"dataframe\">\n",
       "  <thead>\n",
       "    <tr style=\"text-align: right;\">\n",
       "      <th></th>\n",
       "      <th>consent</th>\n",
       "      <th>date</th>\n",
       "      <th>field</th>\n",
       "      <th>gender</th>\n",
       "      <th>language</th>\n",
       "      <th>level</th>\n",
       "      <th>username</th>\n",
       "      <th>year</th>\n",
       "      <th>q1</th>\n",
       "      <th>label_q1</th>\n",
       "      <th>flag_q1</th>\n",
       "    </tr>\n",
       "  </thead>\n",
       "  <tbody>\n",
       "    <tr>\n",
       "      <th>0</th>\n",
       "      <td>1.0</td>\n",
       "      <td>non-labelled</td>\n",
       "      <td>non-labelled</td>\n",
       "      <td>2.0</td>\n",
       "      <td>Français</td>\n",
       "      <td>non-labelled</td>\n",
       "      <td>4jchqv4d</td>\n",
       "      <td>1st</td>\n",
       "      <td>0.37</td>\n",
       "      <td>correct</td>\n",
       "      <td>NaN</td>\n",
       "    </tr>\n",
       "    <tr>\n",
       "      <th>1</th>\n",
       "      <td>1.0</td>\n",
       "      <td>non-labelled</td>\n",
       "      <td>non-labelled</td>\n",
       "      <td>1.0</td>\n",
       "      <td>Français</td>\n",
       "      <td>non-labelled</td>\n",
       "      <td>u6c3cp6c</td>\n",
       "      <td>1st</td>\n",
       "      <td>0.37</td>\n",
       "      <td>correct</td>\n",
       "      <td>NaN</td>\n",
       "    </tr>\n",
       "    <tr>\n",
       "      <th>2</th>\n",
       "      <td>1.0</td>\n",
       "      <td>non-labelled</td>\n",
       "      <td>non-labelled</td>\n",
       "      <td>1.0</td>\n",
       "      <td>Français</td>\n",
       "      <td>non-labelled</td>\n",
       "      <td>m4zvafhs</td>\n",
       "      <td>1st</td>\n",
       "      <td>une absorbance plus grande que celle de gauche</td>\n",
       "      <td>larger</td>\n",
       "      <td>NaN</td>\n",
       "    </tr>\n",
       "    <tr>\n",
       "      <th>3</th>\n",
       "      <td>1.0</td>\n",
       "      <td>non-labelled</td>\n",
       "      <td>non-labelled</td>\n",
       "      <td>1.0</td>\n",
       "      <td>Français</td>\n",
       "      <td>non-labelled</td>\n",
       "      <td>u25vrfyy</td>\n",
       "      <td>1st</td>\n",
       "      <td>1.48</td>\n",
       "      <td>inverse</td>\n",
       "      <td>NaN</td>\n",
       "    </tr>\n",
       "    <tr>\n",
       "      <th>4</th>\n",
       "      <td>1.0</td>\n",
       "      <td>non-labelled</td>\n",
       "      <td>non-labelled</td>\n",
       "      <td>1.0</td>\n",
       "      <td>Français</td>\n",
       "      <td>non-labelled</td>\n",
       "      <td>c9dj36r7</td>\n",
       "      <td>1st</td>\n",
       "      <td>0.37</td>\n",
       "      <td>correct</td>\n",
       "      <td>NaN</td>\n",
       "    </tr>\n",
       "  </tbody>\n",
       "</table>\n",
       "</div>"
      ],
      "text/plain": [
       "  consent          date         field gender  language         level  \\\n",
       "0     1.0  non-labelled  non-labelled    2.0  Français  non-labelled   \n",
       "1     1.0  non-labelled  non-labelled    1.0  Français  non-labelled   \n",
       "2     1.0  non-labelled  non-labelled    1.0  Français  non-labelled   \n",
       "3     1.0  non-labelled  non-labelled    1.0  Français  non-labelled   \n",
       "4     1.0  non-labelled  non-labelled    1.0  Français  non-labelled   \n",
       "\n",
       "   username year                                              q1 label_q1  \\\n",
       "0  4jchqv4d  1st                                            0.37  correct   \n",
       "1  u6c3cp6c  1st                                            0.37  correct   \n",
       "2  m4zvafhs  1st  une absorbance plus grande que celle de gauche   larger   \n",
       "3  u25vrfyy  1st                                            1.48  inverse   \n",
       "4  c9dj36r7  1st                                            0.37  correct   \n",
       "\n",
       "   flag_q1  \n",
       "0      NaN  \n",
       "1      NaN  \n",
       "2      NaN  \n",
       "3      NaN  \n",
       "4      NaN  "
      ]
     },
     "execution_count": 12,
     "metadata": {},
     "output_type": "execute_result"
    }
   ],
   "source": [
    "q1.head()"
   ]
  },
  {
   "cell_type": "markdown",
   "id": "2b70da1e",
   "metadata": {},
   "source": [
    "### question 8\n",
    "**Concentration is tripled**\\\n",
    "answer: 1.59"
   ]
  },
  {
   "cell_type": "code",
   "execution_count": 13,
   "id": "e93364b8",
   "metadata": {
    "ExecuteTime": {
     "end_time": "2021-11-03T14:50:45.353997Z",
     "start_time": "2021-11-03T14:50:45.342786Z"
    }
   },
   "outputs": [],
   "source": [
    "q2 = pd.read_csv(annotation_root + 'q2.csv', sep='\\t', index_col=0)\n",
    "q2 = q2[merging_columns + ['q2', 'label_eight', 'flag_label_eight']]\n",
    "\n",
    "eight = eight[merging_columns + ['eight', 'label_eight']]\n",
    "eight = eight.rename(columns={'eight': 'q2'})\n",
    "\n",
    "q2 = q2.append(eight)\n",
    "q2 = q2.rename(columns={'label_eight': 'label_q2', 'flag_label_eight': 'flag_q2'})"
   ]
  },
  {
   "cell_type": "code",
   "execution_count": 14,
   "id": "06bab688",
   "metadata": {
    "ExecuteTime": {
     "end_time": "2021-11-03T14:50:45.509736Z",
     "start_time": "2021-11-03T14:50:45.496428Z"
    }
   },
   "outputs": [
    {
     "data": {
      "text/html": [
       "<div>\n",
       "<style scoped>\n",
       "    .dataframe tbody tr th:only-of-type {\n",
       "        vertical-align: middle;\n",
       "    }\n",
       "\n",
       "    .dataframe tbody tr th {\n",
       "        vertical-align: top;\n",
       "    }\n",
       "\n",
       "    .dataframe thead th {\n",
       "        text-align: right;\n",
       "    }\n",
       "</style>\n",
       "<table border=\"1\" class=\"dataframe\">\n",
       "  <thead>\n",
       "    <tr style=\"text-align: right;\">\n",
       "      <th></th>\n",
       "      <th>consent</th>\n",
       "      <th>date</th>\n",
       "      <th>field</th>\n",
       "      <th>gender</th>\n",
       "      <th>language</th>\n",
       "      <th>level</th>\n",
       "      <th>username</th>\n",
       "      <th>year</th>\n",
       "      <th>q2</th>\n",
       "      <th>label_q2</th>\n",
       "      <th>flag_q2</th>\n",
       "    </tr>\n",
       "  </thead>\n",
       "  <tbody>\n",
       "    <tr>\n",
       "      <th>0</th>\n",
       "      <td>1.0</td>\n",
       "      <td>non-labelled</td>\n",
       "      <td>non-labelled</td>\n",
       "      <td>2.0</td>\n",
       "      <td>Français</td>\n",
       "      <td>non-labelled</td>\n",
       "      <td>4jchqv4d</td>\n",
       "      <td>1st</td>\n",
       "      <td>1.59</td>\n",
       "      <td>correct</td>\n",
       "      <td>NaN</td>\n",
       "    </tr>\n",
       "    <tr>\n",
       "      <th>1</th>\n",
       "      <td>1.0</td>\n",
       "      <td>non-labelled</td>\n",
       "      <td>non-labelled</td>\n",
       "      <td>1.0</td>\n",
       "      <td>Français</td>\n",
       "      <td>non-labelled</td>\n",
       "      <td>u6c3cp6c</td>\n",
       "      <td>1st</td>\n",
       "      <td>1.59</td>\n",
       "      <td>correct</td>\n",
       "      <td>NaN</td>\n",
       "    </tr>\n",
       "    <tr>\n",
       "      <th>2</th>\n",
       "      <td>1.0</td>\n",
       "      <td>non-labelled</td>\n",
       "      <td>non-labelled</td>\n",
       "      <td>1.0</td>\n",
       "      <td>Français</td>\n",
       "      <td>non-labelled</td>\n",
       "      <td>m4zvafhs</td>\n",
       "      <td>1st</td>\n",
       "      <td>plus grande que celle de gauche</td>\n",
       "      <td>larger</td>\n",
       "      <td>NaN</td>\n",
       "    </tr>\n",
       "    <tr>\n",
       "      <th>3</th>\n",
       "      <td>1.0</td>\n",
       "      <td>non-labelled</td>\n",
       "      <td>non-labelled</td>\n",
       "      <td>1.0</td>\n",
       "      <td>Français</td>\n",
       "      <td>non-labelled</td>\n",
       "      <td>u25vrfyy</td>\n",
       "      <td>1st</td>\n",
       "      <td>0.18</td>\n",
       "      <td>smaller</td>\n",
       "      <td>NaN</td>\n",
       "    </tr>\n",
       "    <tr>\n",
       "      <th>4</th>\n",
       "      <td>1.0</td>\n",
       "      <td>non-labelled</td>\n",
       "      <td>non-labelled</td>\n",
       "      <td>1.0</td>\n",
       "      <td>Français</td>\n",
       "      <td>non-labelled</td>\n",
       "      <td>c9dj36r7</td>\n",
       "      <td>1st</td>\n",
       "      <td>0.53/3</td>\n",
       "      <td>inverse</td>\n",
       "      <td>NaN</td>\n",
       "    </tr>\n",
       "  </tbody>\n",
       "</table>\n",
       "</div>"
      ],
      "text/plain": [
       "  consent          date         field gender  language         level  \\\n",
       "0     1.0  non-labelled  non-labelled    2.0  Français  non-labelled   \n",
       "1     1.0  non-labelled  non-labelled    1.0  Français  non-labelled   \n",
       "2     1.0  non-labelled  non-labelled    1.0  Français  non-labelled   \n",
       "3     1.0  non-labelled  non-labelled    1.0  Français  non-labelled   \n",
       "4     1.0  non-labelled  non-labelled    1.0  Français  non-labelled   \n",
       "\n",
       "   username year                               q2 label_q2  flag_q2  \n",
       "0  4jchqv4d  1st                             1.59  correct      NaN  \n",
       "1  u6c3cp6c  1st                             1.59  correct      NaN  \n",
       "2  m4zvafhs  1st  plus grande que celle de gauche   larger      NaN  \n",
       "3  u25vrfyy  1st                             0.18  smaller      NaN  \n",
       "4  c9dj36r7  1st                           0.53/3  inverse      NaN  "
      ]
     },
     "execution_count": 14,
     "metadata": {},
     "output_type": "execute_result"
    }
   ],
   "source": [
    "q2.head()"
   ]
  },
  {
   "cell_type": "markdown",
   "id": "3e019b32",
   "metadata": {},
   "source": [
    "### question 9\n",
    "**Width is halved, Concentration is doubled** \\\n",
    "answer: 0.96"
   ]
  },
  {
   "cell_type": "code",
   "execution_count": 15,
   "id": "8b308c02",
   "metadata": {
    "ExecuteTime": {
     "end_time": "2021-11-03T14:50:45.854197Z",
     "start_time": "2021-11-03T14:50:45.842489Z"
    }
   },
   "outputs": [],
   "source": [
    "q3 = pd.read_csv(annotation_root + 'q3.csv', sep='\\t', index_col=0)\n",
    "q3 = q3[merging_columns + ['q3', 'label_nine', 'flag_label_nine']]\n",
    "\n",
    "nine = nine[merging_columns + ['nine', 'label_nine']]\n",
    "nine = nine.rename(columns={'nine': 'q3'})\n",
    "\n",
    "q3 = q3.append(nine)\n",
    "q3 = q3.rename(columns={'label_nine': 'label_q3', 'flag_label_nine': 'flag_q3'})"
   ]
  },
  {
   "cell_type": "markdown",
   "id": "7b1afae6",
   "metadata": {
    "ExecuteTime": {
     "end_time": "2021-11-03T11:45:19.691225Z",
     "start_time": "2021-11-03T11:45:19.688078Z"
    }
   },
   "source": [
    "### Question 10\n",
    "**Width is quadrupled, concentration is thirded(?)** \\\n",
    "answer: 0.8"
   ]
  },
  {
   "cell_type": "code",
   "execution_count": 16,
   "id": "2ab26a22",
   "metadata": {
    "ExecuteTime": {
     "end_time": "2021-11-03T14:50:46.264859Z",
     "start_time": "2021-11-03T14:50:46.252502Z"
    }
   },
   "outputs": [],
   "source": [
    "q4 = pd.read_csv(annotation_root + 'q4.csv', sep='\\t', index_col=0)\n",
    "q4 = q4[merging_columns + ['q4', 'label_ten', 'flag_label_ten']]\n",
    "\n",
    "ten = ten[merging_columns + ['ten', 'label_ten']]\n",
    "ten = ten.rename(columns={'ten': 'q4'})\n",
    "\n",
    "q4 = q4.append(nine)\n",
    "q4 = q4.rename(columns={'label_ten': 'label_q4', 'flag_label_ten': 'flag_q4'})"
   ]
  },
  {
   "cell_type": "markdown",
   "id": "e49f234b",
   "metadata": {},
   "source": [
    "### Merge with some questions"
   ]
  },
  {
   "cell_type": "code",
   "execution_count": 28,
   "id": "16c306a3",
   "metadata": {
    "ExecuteTime": {
     "end_time": "2021-11-04T15:48:18.814834Z",
     "start_time": "2021-11-04T15:48:18.811978Z"
    }
   },
   "outputs": [],
   "source": [
    "merging_columns = [\n",
    "    'consent', 'field', 'gender', 'language', 'level', 'username', 'year'\n",
    "]"
   ]
  },
  {
   "cell_type": "code",
   "execution_count": 31,
   "id": "360eb158",
   "metadata": {
    "ExecuteTime": {
     "end_time": "2021-11-04T15:49:24.597308Z",
     "start_time": "2021-11-04T15:49:24.574916Z"
    }
   },
   "outputs": [],
   "source": [
    "some = some.merge(q1, on=merging_columns + ['q1'], how='left')\n",
    "some = some.merge(q2, on=merging_columns + ['q2'], how='left')\n",
    "some = some.merge(q3, on=merging_columns + ['q3'], how='left')\n",
    "some = some.merge(q4, on=merging_columns + ['q4'], how='left')"
   ]
  },
  {
   "cell_type": "markdown",
   "id": "ff70c66a",
   "metadata": {},
   "source": [
    "# Second iteration of labelling "
   ]
  },
  {
   "cell_type": "markdown",
   "id": "be09ff21",
   "metadata": {},
   "source": [
    "## Merge *some* with annotations"
   ]
  },
  {
   "cell_type": "code",
   "execution_count": 4,
   "id": "45ca9e54",
   "metadata": {
    "ExecuteTime": {
     "end_time": "2021-11-05T10:08:10.048768Z",
     "start_time": "2021-11-05T10:08:10.023734Z"
    }
   },
   "outputs": [],
   "source": [
    "q1 = pd.read_csv(annotation_root + 'q1.csv', sep='\\t', index_col=0)\n",
    "q2 = pd.read_csv(annotation_root + 'q2.csv', sep='\\t', index_col=0)\n",
    "q3 = pd.read_csv(annotation_root + 'q3.csv', sep='\\t', index_col=0)\n",
    "q4 = pd.read_csv(annotation_root + 'q4.csv', sep='\\t', index_col=0)\n",
    "\n",
    "q1 = q1.set_index('index')\n",
    "q2 = q2.set_index('index')\n",
    "q3 = q3.set_index('index')\n",
    "q4 = q4.set_index('index')\n",
    "\n",
    "q1 = q1.rename(columns={'label_seven': 'label_q1', 'flag_label_seven': 'flag_q1_label'})"
   ]
  },
  {
   "cell_type": "code",
   "execution_count": 5,
   "id": "8fc3ca34",
   "metadata": {
    "ExecuteTime": {
     "end_time": "2021-11-05T10:08:10.909392Z",
     "start_time": "2021-11-05T10:08:10.906519Z"
    }
   },
   "outputs": [],
   "source": [
    "merging_columns = [\n",
    "    'field', 'gender', 'language', 'level', 'username', 'year', 'consent'\n",
    "]"
   ]
  },
  {
   "cell_type": "code",
   "execution_count": 6,
   "id": "4d9b3ea3",
   "metadata": {
    "ExecuteTime": {
     "end_time": "2021-11-05T10:08:11.319033Z",
     "start_time": "2021-11-05T10:08:11.290328Z"
    }
   },
   "outputs": [],
   "source": [
    "some = some.merge(q1, on=merging_columns + ['q1'], how='left')\n",
    "some = some.merge(q2, on=merging_columns + ['q2'], how='left')\n",
    "some = some.merge(q3, on=merging_columns + ['q3'], how='left')\n",
    "some = some.merge(q4, on=merging_columns + ['q4'], how='left')"
   ]
  },
  {
   "cell_type": "markdown",
   "id": "4d61b056",
   "metadata": {},
   "source": [
    "## Merge *some* with the other dataframes"
   ]
  },
  {
   "cell_type": "code",
   "execution_count": 7,
   "id": "b443a0a1",
   "metadata": {
    "ExecuteTime": {
     "end_time": "2021-11-05T10:08:11.997947Z",
     "start_time": "2021-11-05T10:08:11.992441Z"
    }
   },
   "outputs": [],
   "source": [
    "some_columns = [\n",
    "    'q1', 'label_q1', 'flag_q1_label', \n",
    "    'q2', 'q2_label', 'flag_q2_label',\n",
    "    'q3', 'label_q3', 'flag_label_q3',\n",
    "    'q4', 'label_q4', 'flag_label_q4'\n",
    "]\n",
    "\n",
    "dataframe_merging_columns = merging_columns + ['q1', 'q2', 'q3', 'q4']\n",
    "some_reduced = some[merging_columns + some_columns]"
   ]
  },
  {
   "cell_type": "code",
   "execution_count": 8,
   "id": "68b0a601",
   "metadata": {
    "ExecuteTime": {
     "end_time": "2021-11-05T10:08:12.616267Z",
     "start_time": "2021-11-05T10:08:12.590591Z"
    }
   },
   "outputs": [],
   "source": [
    "some_questions = some_questions.merge(some_reduced, on=dataframe_merging_columns, how='left')\n",
    "questions = questions.merge(some_reduced, on=dataframe_merging_columns, how='left')\n",
    "rankings = rankings.merge(some_reduced, on=dataframe_merging_columns, how='left')"
   ]
  },
  {
   "cell_type": "code",
   "execution_count": 9,
   "id": "d87f8748",
   "metadata": {
    "ExecuteTime": {
     "end_time": "2021-11-05T10:08:13.165001Z",
     "start_time": "2021-11-05T10:08:13.143758Z"
    }
   },
   "outputs": [],
   "source": [
    "with open('../../data/post_test/some_annotated.pkl', 'wb') as fp:\n",
    "    pickle.dump(some, fp)\n",
    "\n",
    "with open('../../data/post_test/some_questions_annotated.pkl', 'wb') as fp:\n",
    "    pickle.dump(some_questions, fp)\n",
    "    \n",
    "with open('../../data/post_test/questions_annotated.pkl', 'wb') as fp:\n",
    "    pickle.dump(questions, fp)\n",
    "    \n",
    "with open('../../data/post_test/rankings_annotated.pkl', 'wb') as fp:\n",
    "    pickle.dump(rankings, fp)"
   ]
  },
  {
   "cell_type": "code",
   "execution_count": null,
   "id": "61254b0d",
   "metadata": {},
   "outputs": [],
   "source": []
  }
 ],
 "metadata": {
  "kernelspec": {
   "display_name": "Python 3 (ipykernel)",
   "language": "python",
   "name": "python3"
  },
  "language_info": {
   "codemirror_mode": {
    "name": "ipython",
    "version": 3
   },
   "file_extension": ".py",
   "mimetype": "text/x-python",
   "name": "python",
   "nbconvert_exporter": "python",
   "pygments_lexer": "ipython3",
   "version": "3.7.11"
  },
  "toc": {
   "base_numbering": 1,
   "nav_menu": {},
   "number_sections": true,
   "sideBar": true,
   "skip_h1_title": false,
   "title_cell": "Table of Contents",
   "title_sidebar": "Contents",
   "toc_cell": false,
   "toc_position": {
    "height": "calc(100% - 180px)",
    "left": "10px",
    "top": "150px",
    "width": "358.390625px"
   },
   "toc_section_display": true,
   "toc_window_display": true
  }
 },
 "nbformat": 4,
 "nbformat_minor": 5
}
