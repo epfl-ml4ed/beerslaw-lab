{
 "cells": [
  {
   "cell_type": "markdown",
   "id": "184b2561",
   "metadata": {},
   "source": [
    "This notebook is for us to pull statistics out of the dataset.\n",
    "Particularly:\n",
    "- demographics"
   ]
  },
  {
   "cell_type": "code",
   "execution_count": 1,
   "id": "86d083fb",
   "metadata": {
    "ExecuteTime": {
     "end_time": "2021-10-29T14:53:22.051726Z",
     "start_time": "2021-10-29T14:53:21.326155Z"
    }
   },
   "outputs": [],
   "source": [
    "import os\n",
    "import yaml\n",
    "import pickle\n",
    "\n",
    "import numpy as np\n",
    "import pandas as pd\n",
    "\n",
    "import seaborn as sns\n",
    "from matplotlib import pyplot as plt"
   ]
  },
  {
   "cell_type": "markdown",
   "id": "151538b9",
   "metadata": {},
   "source": [
    "# Data"
   ]
  },
  {
   "cell_type": "code",
   "execution_count": 2,
   "id": "e4126173",
   "metadata": {
    "ExecuteTime": {
     "end_time": "2021-10-29T14:53:22.763260Z",
     "start_time": "2021-10-29T14:53:22.744913Z"
    }
   },
   "outputs": [],
   "source": [
    "with open('../../data/post_test/questions.pkl', 'rb') as fp:\n",
    "    questions = pickle.load(fp)\n",
    "    \n",
    "with open('../../data/post_test/some_questions.pkl', 'rb') as fp:\n",
    "    some_questions = pickle.load(fp)\n",
    "    \n",
    "with open('../../data/post_test/rankings.pkl', 'rb') as fp:\n",
    "    rankings = pickle.load(fp)\n",
    "    \n",
    "all_data = (questions.append(some_questions)).append(rankings).drop_duplicates(['username'])"
   ]
  },
  {
   "cell_type": "code",
   "execution_count": 8,
   "id": "064d519a",
   "metadata": {
    "ExecuteTime": {
     "end_time": "2021-10-29T14:54:38.859098Z",
     "start_time": "2021-10-29T14:54:38.855769Z"
    }
   },
   "outputs": [],
   "source": [
    "data = all_data.copy()"
   ]
  },
  {
   "cell_type": "markdown",
   "id": "f61c0c67",
   "metadata": {},
   "source": [
    "# Functions"
   ]
  },
  {
   "cell_type": "code",
   "execution_count": 42,
   "id": "aac35c9b",
   "metadata": {
    "ExecuteTime": {
     "end_time": "2021-10-29T15:13:52.634180Z",
     "start_time": "2021-10-29T15:13:52.630235Z"
    }
   },
   "outputs": [],
   "source": [
    "# Colour palette\n",
    "palette = {\n",
    "    '1st': '#D4E6B5',\n",
    "    '2nd': '#AFC97E',\n",
    "    '3rd': '#A2A3BB',\n",
    "    '1.0': '#BFD1E5', # Gender\n",
    "    '2.0': '#EBF5EE',\n",
    "    '3.0': '#D8BFAA',\n",
    "    '4.0': '#EB9486',\n",
    "    'Chemistry, Textiles': '#335C67',\n",
    "    'Chemistry': '#FFF3B0',\n",
    "    'Biology': '#E09F3E',\n",
    "    'Pharma Chemistry': '#9E2A2B',\n",
    "    'Fast track': '#540B0E',\n",
    "    '0': '#92B4F4',\n",
    "    '1': '#CFDEE7',\n",
    "    '2': '#F46197',\n",
    "    '3': '#AF7595'\n",
    "}\n"
   ]
  },
  {
   "cell_type": "code",
   "execution_count": 34,
   "id": "6b8d01f8",
   "metadata": {
    "ExecuteTime": {
     "end_time": "2021-10-29T15:10:05.753728Z",
     "start_time": "2021-10-29T15:10:05.749994Z"
    }
   },
   "outputs": [],
   "source": [
    "def get_bar_data(data, plot_col:str, unique_identifier:str):\n",
    "    new_data = data[[plot_col, unique_identifier]].groupby(plot_col).nunique()[[unique_identifier]].reset_index()\n",
    "    return new_data[plot_col].astype(str), new_data[unique_identifier]"
   ]
  },
  {
   "cell_type": "code",
   "execution_count": 74,
   "id": "f9c67909",
   "metadata": {
    "ExecuteTime": {
     "end_time": "2021-10-29T15:31:47.113252Z",
     "start_time": "2021-10-29T15:31:47.110186Z"
    }
   },
   "outputs": [],
   "source": [
    "# Gender per field\n",
    "def get_gender_field(data, gender, field):\n",
    "    new_data = data[data['gender'] == gender]\n",
    "    new_data = new_data[new_data['field'] == field]\n",
    "    return new_data\n",
    "\n",
    "# Gender per field\n",
    "def get_gender_field(data, gender, field):\n",
    "    new_data = data[data['gender'] == gender]\n",
    "    new_data = new_data[new_data['field'] == field]\n",
    "    return new_data"
   ]
  },
  {
   "cell_type": "markdown",
   "id": "809b93c2",
   "metadata": {},
   "source": [
    "## Overall statistics"
   ]
  },
  {
   "cell_type": "code",
   "execution_count": 163,
   "id": "c7aba148",
   "metadata": {
    "ExecuteTime": {
     "end_time": "2021-10-29T16:07:03.693654Z",
     "start_time": "2021-10-29T16:07:03.678854Z"
    }
   },
   "outputs": [],
   "source": [
    "gender1 = get_gender_field(data, 1.0, 'Fast track')\n",
    "gender2 = get_gender_field(data, 2.0, 'Fast track')\n",
    "\n",
    "x1, bars1 = get_bar_data(gender1, 'year', 'username')\n",
    "x2, bars2 = get_bar_data(gender2, 'year', 'username')\n",
    "bars1, bars2 = list(bars1), list(bars2)\n",
    "bars1.append(0)\n",
    "bars2.append(0)"
   ]
  },
  {
   "cell_type": "code",
   "execution_count": 164,
   "id": "bec42dbd",
   "metadata": {
    "ExecuteTime": {
     "end_time": "2021-10-29T16:07:06.846545Z",
     "start_time": "2021-10-29T16:07:06.842409Z"
    }
   },
   "outputs": [
    {
     "data": {
      "text/plain": [
       "[3, 0]"
      ]
     },
     "execution_count": 164,
     "metadata": {},
     "output_type": "execute_result"
    }
   ],
   "source": [
    "bars1"
   ]
  },
  {
   "cell_type": "code",
   "execution_count": null,
   "id": "34d37195",
   "metadata": {},
   "outputs": [],
   "source": []
  },
  {
   "cell_type": "code",
   "execution_count": null,
   "id": "cf061991",
   "metadata": {},
   "outputs": [],
   "source": []
  },
  {
   "cell_type": "code",
   "execution_count": 166,
   "id": "30f3a2b0",
   "metadata": {
    "ExecuteTime": {
     "end_time": "2021-10-29T16:08:15.974302Z",
     "start_time": "2021-10-29T16:08:15.498691Z"
    }
   },
   "outputs": [
    {
     "ename": "ValueError",
     "evalue": "too many values to unpack (expected 2)",
     "output_type": "error",
     "traceback": [
      "\u001b[0;31m---------------------------------------------------------------------------\u001b[0m",
      "\u001b[0;31mValueError\u001b[0m                                Traceback (most recent call last)",
      "\u001b[0;32m/var/folders/jy/0pp1md9x1358dt8g8k69srhr0000gp/T/ipykernel_57866/318375309.py\u001b[0m in \u001b[0;36m<module>\u001b[0;34m\u001b[0m\n\u001b[1;32m     79\u001b[0m \u001b[0mx3\u001b[0m\u001b[0;34m,\u001b[0m \u001b[0mbars3\u001b[0m \u001b[0;34m=\u001b[0m \u001b[0mget_bar_data\u001b[0m\u001b[0;34m(\u001b[0m\u001b[0mgender3\u001b[0m\u001b[0;34m,\u001b[0m \u001b[0;34m'year'\u001b[0m\u001b[0;34m,\u001b[0m \u001b[0;34m'username'\u001b[0m\u001b[0;34m)\u001b[0m\u001b[0;34m\u001b[0m\u001b[0;34m\u001b[0m\u001b[0m\n\u001b[1;32m     80\u001b[0m \u001b[0mbars1\u001b[0m\u001b[0;34m,\u001b[0m \u001b[0mbars2\u001b[0m\u001b[0;34m,\u001b[0m \u001b[0mbars3\u001b[0m \u001b[0;34m=\u001b[0m \u001b[0mlist\u001b[0m\u001b[0;34m(\u001b[0m\u001b[0mbars1\u001b[0m\u001b[0;34m)\u001b[0m\u001b[0;34m,\u001b[0m \u001b[0mlist\u001b[0m\u001b[0;34m(\u001b[0m\u001b[0mbars2\u001b[0m\u001b[0;34m)\u001b[0m\u001b[0;34m,\u001b[0m \u001b[0mlist\u001b[0m\u001b[0;34m(\u001b[0m\u001b[0mbars3\u001b[0m\u001b[0;34m)\u001b[0m\u001b[0;34m\u001b[0m\u001b[0;34m\u001b[0m\u001b[0m\n\u001b[0;32m---> 81\u001b[0;31m \u001b[0mbars1\u001b[0m\u001b[0;34m,\u001b[0m \u001b[0mbars2\u001b[0m \u001b[0;34m=\u001b[0m \u001b[0mbars1\u001b[0m \u001b[0;34m+\u001b[0m \u001b[0;34m[\u001b[0m\u001b[0;36m0\u001b[0m\u001b[0;34m,\u001b[0m \u001b[0;36m0\u001b[0m\u001b[0;34m]\u001b[0m\u001b[0;34m,\u001b[0m \u001b[0mbars2\u001b[0m \u001b[0;34m+\u001b[0m \u001b[0;34m[\u001b[0m\u001b[0;36m0\u001b[0m\u001b[0;34m,\u001b[0m \u001b[0;36m0\u001b[0m\u001b[0;34m]\u001b[0m\u001b[0;34m,\u001b[0m \u001b[0mbars3\u001b[0m \u001b[0;34m+\u001b[0m \u001b[0;34m[\u001b[0m\u001b[0;36m0\u001b[0m\u001b[0;34m,\u001b[0m \u001b[0;36m0\u001b[0m\u001b[0;34m]\u001b[0m\u001b[0;34m\u001b[0m\u001b[0;34m\u001b[0m\u001b[0m\n\u001b[0m\u001b[1;32m     82\u001b[0m \u001b[0;34m\u001b[0m\u001b[0m\n\u001b[1;32m     83\u001b[0m \u001b[0mbars\u001b[0m \u001b[0;34m=\u001b[0m \u001b[0mnp\u001b[0m\u001b[0;34m.\u001b[0m\u001b[0marray\u001b[0m\u001b[0;34m(\u001b[0m\u001b[0mbars3\u001b[0m\u001b[0;34m)\u001b[0m \u001b[0;34m+\u001b[0m \u001b[0mnp\u001b[0m\u001b[0;34m.\u001b[0m\u001b[0marray\u001b[0m\u001b[0;34m(\u001b[0m\u001b[0mbars2\u001b[0m\u001b[0;34m)\u001b[0m \u001b[0;34m+\u001b[0m \u001b[0mnp\u001b[0m\u001b[0;34m.\u001b[0m\u001b[0marray\u001b[0m\u001b[0;34m(\u001b[0m\u001b[0mbars1\u001b[0m\u001b[0;34m)\u001b[0m\u001b[0;34m\u001b[0m\u001b[0;34m\u001b[0m\u001b[0m\n",
      "\u001b[0;31mValueError\u001b[0m: too many values to unpack (expected 2)"
     ]
    },
    {
     "data": {
      "image/png": "[encoded data removed]",
      "text/plain": [
       "<Figure size 1440x360 with 5 Axes>"
      ]
     },
     "metadata": {
      "needs_background": "light"
     },
     "output_type": "display_data"
    }
   ],
   "source": [
    "# Plot configuration\n",
    "fig, axs = plt.subplots(1, 5, sharey=True, figsize=(20, 5))\n",
    "x = ['1st', '2nd', '3rd']\n",
    "\n",
    "                           \n",
    "# Fast Track\n",
    "gender1 = get_gender_field(data, 1.0, 'Fast track')\n",
    "gender2 = get_gender_field(data, 2.0, 'Fast track')\n",
    "\n",
    "x1, bars1 = get_bar_data(gender1, 'year', 'username')\n",
    "x2, bars2 = get_bar_data(gender2, 'year', 'username')\n",
    "bars1, bars2 = list(bars1), list(bars2)\n",
    "bars1, bars2 = bars1 + [0, 0], bars2 + [0, 0]\n",
    "\n",
    "bars = np.array(bars2) + np.array(bars1)\n",
    "axs[0].bar(x, bars, label='gender 2', color=palette['2.0'])\n",
    "\n",
    "bars = bars - np.array(bars2)\n",
    "axs[0].bar(x, bars, label='gender 1', color=palette['1.0'])\n",
    "axs[0].set_title('Fast track')\n",
    "\n",
    "\n",
    "# Chemistry, Textiles\n",
    "gender1 = get_gender_field(data, 1.0, 'Chemistry, Textiles')\n",
    "gender2 = get_gender_field(data, 2.0, 'Chemistry, Textiles')\n",
    "gender3 = get_gender_field(data, 3.0, 'Chemistry, Textiles')\n",
    "gender4 = get_gender_field(data, 4.0, 'Chemistry, Textiles')\n",
    "\n",
    "x1, bars1 = get_bar_data(gender1, 'year', 'username')\n",
    "x2, bars2 = get_bar_data(gender2, 'year', 'username')\n",
    "x3, bars3 = get_bar_data(gender3, 'year', 'username')\n",
    "bars3 = list(bars3) # Hack\n",
    "bars3.append(0)\n",
    "x4, bars4 = get_bar_data(gender4, 'year', 'username')\n",
    "\n",
    "bars = np.array(bars3) + np.array(bars2) + np.array(bars1)\n",
    "axs[1].bar(x1, bars, label='gender 3', color=palette['3.0'])\n",
    "\n",
    "bars = bars - np.array(bars3)\n",
    "axs[1].bar(x2, bars, label='gender 2', color=palette['2.0'])\n",
    "\n",
    "bars = bars - np.array(bars2)\n",
    "axs[1].bar(x1, bars, label='gender 1', color=palette['1.0'])\n",
    "axs[1].set_title('Chemistry, Textiles')\n",
    "\n",
    "\n",
    "# Chemistry\n",
    "gender1 = get_gender_field(data, 1., 'Chemistry')\n",
    "gender2 = get_gender_field(data, 2., 'Chemistry')\n",
    "gender3 = get_gender_field(data, 3., 'Chemistry')\n",
    "gender4 = get_gender_field(data, 4., 'Chemistry')\n",
    "\n",
    "x1, bars1 = get_bar_data(gender1, 'year', 'username')\n",
    "x2, bars2 = get_bar_data(gender2, 'year', 'username')\n",
    "x3, bars3 = get_bar_data(gender3, 'year', 'username')\n",
    "x4, bars4 = get_bar_data(gender4, 'year', 'username')\n",
    "\n",
    "bars = np.array(bars4) + np.array(bars3) + np.array(bars2) + np.array(bars1)\n",
    "axs[2].bar(x4, bars, label='gender 4', color=palette['4.0'])\n",
    "\n",
    "bars = bars - np.array(bars4)\n",
    "axs[2].bar(x3, bars, label='gender 3', color=palette['3.0'])\n",
    "\n",
    "bars = bars - np.array(bars3)\n",
    "axs[2].bar(x2, bars, label='gender 2', color=palette['2.0'])\n",
    "\n",
    "bars = bars - np.array(bars2)\n",
    "axs[2].bar(x1, bars, label='gender 1', color=palette['1.0'])\n",
    "axs[2].set_title('Chemistry')\n",
    "\n",
    "                           \n",
    "# Pharma Chemistry\n",
    "gender1 = get_gender_field(data, 1.0, 'Pharma Chemistry')\n",
    "gender2 = get_gender_field(data, 2.0, 'Pharma Chemistry')\n",
    "gender3 = get_gender_field(data, 3.0, 'Pharma Chemistry')\n",
    "\n",
    "x1, bars1 = get_bar_data(gender1, 'year', 'username')\n",
    "x2, bars2 = get_bar_data(gender2, 'year', 'username')\n",
    "x3, bars3 = get_bar_data(gender3, 'year', 'username')\n",
    "bars1, bars2, bars3 = list(bars1), list(bars2), list(bars3)\n",
    "bars1, bars2 = bars1 + [0, 0], bars2 + [0, 0], bars3 + [0, 0]\n",
    "\n",
    "bars = np.array(bars3) + np.array(bars2) + np.array(bars1)\n",
    "axs[3].bar(x, bars, label='gender 3', color=palette['3.0'])\n",
    "\n",
    "bars = bars - np.array(bars3)\n",
    "axs[3].bar(x, bars, label='gender 2', color=palette['2.0'])\n",
    "\n",
    "bars = bars - np.array(bars2)\n",
    "axs[3].bar(x, bars, label='gender 1', color=palette['1.0'])\n",
    "axs[3].set_title('Pharma Chemistry')\n",
    "\n",
    "\n",
    "\n",
    "# Biology\n",
    "gender1 = get_gender_field(data, 1.0, 'Biology')\n",
    "gender2 = get_gender_field(data, 2.0, 'Biology')\n",
    "gender3 = get_gender_field(data, 3.0, 'Biology')\n",
    "gender4 = get_gender_field(data, 4.0, 'Biology')\n",
    "\n",
    "x1, bars1 = get_bar_data(gender1, 'year', 'username')\n",
    "x2, bars2 = get_bar_data(gender2, 'year', 'username')\n",
    "x3, bars3 = get_bar_data(gender3, 'year', 'username')\n",
    "x4, bars4 = get_bar_data(gender4, 'year', 'username')\n",
    "\n",
    "bars = np.array(bars4) + np.array(bars3) + np.array(bars2) + np.array(bars1)\n",
    "axs[4].bar(x4, bars, label='preferred not to say', color=palette['4.0'])\n",
    "\n",
    "bars = bars - np.array(bars4)\n",
    "axs[4].bar(x3, bars, label='other', color=palette['3.0'])\n",
    "\n",
    "bars = bars - np.array(bars3)\n",
    "axs[4].bar(x2, bars, label='females', color=palette['2.0'])\n",
    "\n",
    "bars = bars - np.array(bars2)\n",
    "axs[4].bar(x1, bars, label='males', color=palette['1.0'])\n",
    "axs[4].set_title('Biology')\n",
    "\n",
    "\n",
    "\n",
    "\n",
    "\n",
    "\n",
    "plt.legend()\n",
    "plt.savefig('../../reports/SRIA/summary_plot.svg', format='svg')\n",
    "plt.show()"
   ]
  },
  {
   "cell_type": "code",
   "execution_count": null,
   "id": "6b203c1b",
   "metadata": {},
   "outputs": [],
   "source": []
  },
  {
   "cell_type": "code",
   "execution_count": null,
   "id": "f18d99d0",
   "metadata": {},
   "outputs": [],
   "source": []
  },
  {
   "cell_type": "code",
   "execution_count": null,
   "id": "de72a9f0",
   "metadata": {},
   "outputs": [],
   "source": []
  },
  {
   "cell_type": "code",
   "execution_count": null,
   "id": "6c71585b",
   "metadata": {},
   "outputs": [],
   "source": []
  },
  {
   "cell_type": "code",
   "execution_count": null,
   "id": "5dee3bfd",
   "metadata": {},
   "outputs": [],
   "source": []
  },
  {
   "cell_type": "code",
   "execution_count": null,
   "id": "38c17ec0",
   "metadata": {},
   "outputs": [],
   "source": []
  },
  {
   "cell_type": "code",
   "execution_count": null,
   "id": "1f1a4fb0",
   "metadata": {},
   "outputs": [],
   "source": []
  },
  {
   "cell_type": "code",
   "execution_count": null,
   "id": "e2c4da71",
   "metadata": {},
   "outputs": [],
   "source": []
  },
  {
   "cell_type": "code",
   "execution_count": null,
   "id": "5874716d",
   "metadata": {},
   "outputs": [],
   "source": []
  },
  {
   "cell_type": "code",
   "execution_count": null,
   "id": "1b8f04be",
   "metadata": {},
   "outputs": [],
   "source": []
  },
  {
   "cell_type": "code",
   "execution_count": null,
   "id": "a8260eda",
   "metadata": {},
   "outputs": [],
   "source": []
  },
  {
   "cell_type": "code",
   "execution_count": null,
   "id": "e3a396ae",
   "metadata": {},
   "outputs": [],
   "source": []
  },
  {
   "cell_type": "code",
   "execution_count": null,
   "id": "466d1ab5",
   "metadata": {},
   "outputs": [],
   "source": []
  },
  {
   "cell_type": "code",
   "execution_count": null,
   "id": "3361281b",
   "metadata": {},
   "outputs": [],
   "source": []
  }
 ],
 "metadata": {
  "kernelspec": {
   "display_name": "Python 3 (ipykernel)",
   "language": "python",
   "name": "python3"
  },
  "language_info": {
   "codemirror_mode": {
    "name": "ipython",
    "version": 3
   },
   "file_extension": ".py",
   "mimetype": "text/x-python",
   "name": "python",
   "nbconvert_exporter": "python",
   "pygments_lexer": "ipython3",
   "version": "3.7.11"
  },
  "toc": {
   "base_numbering": 1,
   "nav_menu": {},
   "number_sections": true,
   "sideBar": true,
   "skip_h1_title": false,
   "title_cell": "Table of Contents",
   "title_sidebar": "Contents",
   "toc_cell": false,
   "toc_position": {},
   "toc_section_display": true,
   "toc_window_display": false
  }
 },
 "nbformat": 4,
 "nbformat_minor": 5
}
