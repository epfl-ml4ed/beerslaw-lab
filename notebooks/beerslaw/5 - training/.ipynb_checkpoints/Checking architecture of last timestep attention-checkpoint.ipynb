{
 "cells": [
  {
   "cell_type": "code",
   "execution_count": 1,
   "id": "d0d0b8de",
   "metadata": {
    "ExecuteTime": {
     "end_time": "2022-02-18T09:24:25.257757Z",
     "start_time": "2022-02-18T09:24:24.898083Z"
    }
   },
   "outputs": [],
   "source": [
    "%load_ext autoreload\n",
    "import pickle\n",
    "\n",
    "import numpy as np\n",
    "import pandas as pd"
   ]
  },
  {
   "cell_type": "code",
   "execution_count": 2,
   "id": "34ce7329",
   "metadata": {
    "ExecuteTime": {
     "end_time": "2022-02-18T09:24:44.176862Z",
     "start_time": "2022-02-18T09:24:44.170497Z"
    }
   },
   "outputs": [
    {
     "name": "stdout",
     "output_type": "stream",
     "text": [
      "/Users/cock/kDrive/PhD/Projects/Labs/beerslaw-lab/src\n"
     ]
    }
   ],
   "source": [
    "cd ../../src"
   ]
  },
  {
   "cell_type": "code",
   "execution_count": 8,
   "id": "8f28f07b",
   "metadata": {
    "ExecuteTime": {
     "end_time": "2022-02-18T09:30:26.403926Z",
     "start_time": "2022-02-18T09:30:26.401162Z"
    }
   },
   "outputs": [],
   "source": [
    "from ml import load_tf_models as loader\n",
    "from extractors.pipeline_maker import PipelineMaker"
   ]
  },
  {
   "cell_type": "markdown",
   "id": "29406faf",
   "metadata": {},
   "source": [
    "# Last timestamp model"
   ]
  },
  {
   "cell_type": "code",
   "execution_count": 67,
   "id": "36ea8f12",
   "metadata": {
    "ExecuteTime": {
     "end_time": "2022-02-18T12:09:51.143098Z",
     "start_time": "2022-02-18T12:09:50.855684Z"
    }
   },
   "outputs": [],
   "source": [
    "%autoreload"
   ]
  },
  {
   "cell_type": "code",
   "execution_count": 68,
   "id": "06fc5bc5",
   "metadata": {
    "ExecuteTime": {
     "end_time": "2022-02-18T12:09:51.148494Z",
     "start_time": "2022-02-18T12:09:51.145373Z"
    }
   },
   "outputs": [],
   "source": [
    "experiment_path = '../experiments/attentions/simplestate_secondslstm/binconcepts/lastts_attention/raw_full/2022_02_17_0'\n",
    "nns = loader.load_all_nn(experiment_path)\n",
    "\n",
    "with open(experiment_path + '/config.yaml', 'rb') as fp:\n",
    "    config = pickle.load(fp)\n"
   ]
  },
  {
   "cell_type": "code",
   "execution_count": 82,
   "id": "e73252dd",
   "metadata": {
    "ExecuteTime": {
     "end_time": "2022-02-18T12:17:53.016160Z",
     "start_time": "2022-02-18T12:17:49.229339Z"
    }
   },
   "outputs": [],
   "source": [
    "pipeline = PipelineMaker(config)\n",
    "sequences, labels, indices, id_dictionary = pipeline.build_data()\n",
    "\n",
    "model = nns['0']['0']\n",
    "\n",
    "gru_inference_model = tf.keras.Model(inputs=model._model.input, outputs=model._model.layers[2].output)\n",
    "gru_weights = gru_inference_model.predict(x_tensor)\n",
    "\n",
    "att_inference_model = tf.keras.Model(inputs=model._model.input, outputs=model._model.layers[8].output)\n",
    "att_weights = att_inference_model.predict(x_tensor)"
   ]
  },
  {
   "cell_type": "code",
   "execution_count": 84,
   "id": "cd1381da",
   "metadata": {
    "ExecuteTime": {
     "end_time": "2022-02-18T12:18:27.974130Z",
     "start_time": "2022-02-18T12:18:27.970713Z"
    }
   },
   "outputs": [
    {
     "name": "stdout",
     "output_type": "stream",
     "text": [
      "mean attention: -0.03148303180932999\n"
     ]
    }
   ],
   "source": [
    "print('attention: mean-{}, std-{}'.format(np.mean(att_weights), np.std(att_weights)))\n",
    "print('GRU: mean-{}, std-{}'.format(np.mean(gru_weights), np.std(gru_weights)))"
   ]
  },
  {
   "cell_type": "code",
   "execution_count": null,
   "id": "9e36a79f",
   "metadata": {},
   "outputs": [],
   "source": []
  },
  {
   "cell_type": "code",
   "execution_count": null,
   "id": "189cdf71",
   "metadata": {},
   "outputs": [],
   "source": []
  },
  {
   "cell_type": "code",
   "execution_count": null,
   "id": "cc785cd2",
   "metadata": {},
   "outputs": [],
   "source": []
  },
  {
   "cell_type": "code",
   "execution_count": null,
   "id": "a59dcb97",
   "metadata": {},
   "outputs": [],
   "source": []
  },
  {
   "cell_type": "code",
   "execution_count": null,
   "id": "387bee3f",
   "metadata": {},
   "outputs": [],
   "source": []
  },
  {
   "cell_type": "code",
   "execution_count": null,
   "id": "0b907e9d",
   "metadata": {},
   "outputs": [],
   "source": []
  },
  {
   "cell_type": "code",
   "execution_count": null,
   "id": "62b7e734",
   "metadata": {},
   "outputs": [],
   "source": []
  },
  {
   "cell_type": "code",
   "execution_count": null,
   "id": "b1e322a3",
   "metadata": {},
   "outputs": [],
   "source": []
  },
  {
   "cell_type": "code",
   "execution_count": null,
   "id": "7eb98a6c",
   "metadata": {},
   "outputs": [],
   "source": []
  },
  {
   "cell_type": "code",
   "execution_count": null,
   "id": "8df68247",
   "metadata": {},
   "outputs": [],
   "source": []
  },
  {
   "cell_type": "code",
   "execution_count": null,
   "id": "84645b6a",
   "metadata": {},
   "outputs": [],
   "source": []
  },
  {
   "cell_type": "code",
   "execution_count": null,
   "id": "2dfd536c",
   "metadata": {},
   "outputs": [],
   "source": []
  },
  {
   "cell_type": "code",
   "execution_count": null,
   "id": "c9ce19af",
   "metadata": {},
   "outputs": [],
   "source": []
  },
  {
   "cell_type": "code",
   "execution_count": null,
   "id": "9c139285",
   "metadata": {},
   "outputs": [],
   "source": []
  },
  {
   "cell_type": "code",
   "execution_count": null,
   "id": "6cfa6cc7",
   "metadata": {},
   "outputs": [],
   "source": []
  },
  {
   "cell_type": "code",
   "execution_count": null,
   "id": "4b7229f9",
   "metadata": {},
   "outputs": [],
   "source": []
  },
  {
   "cell_type": "code",
   "execution_count": null,
   "id": "ed6845b3",
   "metadata": {},
   "outputs": [],
   "source": []
  },
  {
   "cell_type": "code",
   "execution_count": null,
   "id": "c1ae92a2",
   "metadata": {},
   "outputs": [],
   "source": []
  },
  {
   "cell_type": "code",
   "execution_count": null,
   "id": "a0714b75",
   "metadata": {},
   "outputs": [],
   "source": []
  },
  {
   "cell_type": "code",
   "execution_count": null,
   "id": "faf7481c",
   "metadata": {},
   "outputs": [],
   "source": []
  },
  {
   "cell_type": "code",
   "execution_count": null,
   "id": "6a90dfc1",
   "metadata": {},
   "outputs": [],
   "source": []
  },
  {
   "cell_type": "code",
   "execution_count": null,
   "id": "b187c8c9",
   "metadata": {},
   "outputs": [],
   "source": []
  },
  {
   "cell_type": "code",
   "execution_count": null,
   "id": "2c3ec031",
   "metadata": {},
   "outputs": [],
   "source": []
  },
  {
   "cell_type": "code",
   "execution_count": null,
   "id": "6701e34e",
   "metadata": {},
   "outputs": [],
   "source": []
  }
 ],
 "metadata": {
  "kernelspec": {
   "display_name": "Python 3 (ipykernel)",
   "language": "python",
   "name": "python3"
  },
  "language_info": {
   "codemirror_mode": {
    "name": "ipython",
    "version": 3
   },
   "file_extension": ".py",
   "mimetype": "text/x-python",
   "name": "python",
   "nbconvert_exporter": "python",
   "pygments_lexer": "ipython3",
   "version": "3.8.12"
  },
  "toc": {
   "base_numbering": 1,
   "nav_menu": {},
   "number_sections": true,
   "sideBar": true,
   "skip_h1_title": false,
   "title_cell": "Table of Contents",
   "title_sidebar": "Contents",
   "toc_cell": false,
   "toc_position": {},
   "toc_section_display": true,
   "toc_window_display": false
  }
 },
 "nbformat": 4,
 "nbformat_minor": 5
}
