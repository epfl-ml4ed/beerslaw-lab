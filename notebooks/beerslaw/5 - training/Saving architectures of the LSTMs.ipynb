{
 "cells": [
  {
   "cell_type": "markdown",
   "id": "28175688",
   "metadata": {},
   "source": [
    "This notebooks crawls through the experiments and dumps \"architecture.pkl\" files."
   ]
  },
  {
   "cell_type": "code",
   "execution_count": 9,
   "id": "53493111",
   "metadata": {
    "ExecuteTime": {
     "end_time": "2021-12-23T15:29:28.991689Z",
     "start_time": "2021-12-23T15:29:28.985073Z"
    }
   },
   "outputs": [],
   "source": [
    "import os\n",
    "import pickle\n",
    "\n",
    "import re"
   ]
  },
  {
   "cell_type": "code",
   "execution_count": 10,
   "id": "ba6f3305",
   "metadata": {
    "ExecuteTime": {
     "end_time": "2021-12-23T15:29:29.113739Z",
     "start_time": "2021-12-23T15:29:29.108164Z"
    }
   },
   "outputs": [
    {
     "name": "stdout",
     "output_type": "stream",
     "text": [
      "[Errno 2] No such file or directory: '../../src'\n",
      "/Users/cock/kDrive/PhD/Projects/Labs/beerslaw-lab/src\n"
     ]
    }
   ],
   "source": [
    "cd ../../src"
   ]
  },
  {
   "cell_type": "code",
   "execution_count": 11,
   "id": "67586a73",
   "metadata": {
    "ExecuteTime": {
     "end_time": "2021-12-23T15:29:30.119166Z",
     "start_time": "2021-12-23T15:29:30.112910Z"
    }
   },
   "outputs": [],
   "source": [
    "def get_model_paths(experiment_name:str):\n",
    "    '''\n",
    "    Returns a list of the paths where models were saved.\n",
    "    '''\n",
    "    model_paths = []\n",
    "    experiment_path = '../experiments/' + experiment_name\n",
    "    for (dirpath, dirnames, filenames) in os.walk(experiment_path):\n",
    "        files = [os.path.join(dirpath, file) for file in filenames]\n",
    "        model_paths.extend(files)\n",
    "    kw = 'model_training.csv'\n",
    "    model_paths = [path for path in model_paths if kw in path]\n",
    "    model_paths = [path for path in model_paths if 'exclude' not in path]\n",
    "    model_paths = ['/'.join(path.split('/')[:-1]) for path in model_paths]\n",
    "    model_paths = list(set(model_paths))\n",
    "    return model_paths"
   ]
  },
  {
   "cell_type": "code",
   "execution_count": 12,
   "id": "52c6fd76",
   "metadata": {
    "ExecuteTime": {
     "end_time": "2021-12-23T15:29:30.305070Z",
     "start_time": "2021-12-23T15:29:30.296371Z"
    }
   },
   "outputs": [],
   "source": [
    "def extract_features(model_name: str):\n",
    "    \"\"\"\n",
    "    Retrieves the architecture details from the name path.\n",
    "    \n",
    "    Args\n",
    "        model_name: path of the folder \n",
    "        \n",
    "    Returns\n",
    "        dictionary with the parameters\n",
    "    \"\"\"\n",
    "    # cell types\n",
    "    re_ct = re.compile('ct([A-z]*)_')\n",
    "    ct = re_ct.findall(model_name)[0]\n",
    "\n",
    "    # nlayers\n",
    "    re_nlayers = re.compile('[A-z]_nlayers([0-9]+)_')\n",
    "    nlayers = re_nlayers.findall(model_name)[0]\n",
    "\n",
    "    # ncells\n",
    "    re_ncells = re.compile('.*ncells\\[([0-9,\\s]+)\\]')\n",
    "    ncells = re_ncells.findall(model_name)[0]\n",
    "    ncells = ncells.split(', ')\n",
    "    ncells = [int(cell) for cell in ncells]\n",
    "\n",
    "    # dropout\n",
    "    re_dropout = re.compile('.*drop([0-9\\.]+)')\n",
    "    dropout = re_dropout.findall(model_name)[0]\n",
    "    dropout = dropout[0] + '.' + dropout[1:]\n",
    "\n",
    "    # optimiser\n",
    "    re_optimi = re.compile('.*optim([A-z]+)_loss')\n",
    "    optimi = re_optimi.findall(model_name)[0]\n",
    "\n",
    "    # batch size\n",
    "    re_bs = re.compile('.*bs([0-9]+)_')\n",
    "    bs = re_bs.findall(model_name)[0]\n",
    "\n",
    "    # epochs\n",
    "    re_epochs = re.compile('.*ep([0-9]+)lstm')\n",
    "    epochs = re_epochs.findall(model_name)[0]\n",
    "\n",
    "    settings = {\n",
    "        'cell_type': ct,\n",
    "        'n_layers': int(nlayers),\n",
    "        'n_cells': ncells,\n",
    "        'dropout': float(dropout),\n",
    "        'optimiser': optimi,\n",
    "        'batch_size': int(bs),\n",
    "        'epochs': int(epochs),\n",
    "        'padding_value': -1,\n",
    "        'loss': 'auc',\n",
    "        'shuffle':True,\n",
    "        'verbose': 1,\n",
    "        'early_stopping': False\n",
    "    }\n",
    "    return settings"
   ]
  },
  {
   "cell_type": "code",
   "execution_count": 13,
   "id": "78fef8c9",
   "metadata": {
    "ExecuteTime": {
     "end_time": "2021-12-23T15:29:31.315988Z",
     "start_time": "2021-12-23T15:29:31.312165Z"
    }
   },
   "outputs": [],
   "source": [
    "def dump_architecture(model_path:str):\n",
    "    \"\"\"\n",
    "    Reads the path, retrieves the architecture, and dumps the file there\n",
    "    \"\"\"\n",
    "    \n",
    "    model_name = model_path.split('/')[-1]\n",
    "    architectures = extract_features(model_name)\n",
    "    with open(model_path + '/architecture.pkl', 'wb') as fp:\n",
    "        pickle.dump(architectures, fp)"
   ]
  },
  {
   "cell_type": "code",
   "execution_count": 14,
   "id": "85bd870e",
   "metadata": {
    "ExecuteTime": {
     "end_time": "2021-12-23T15:29:31.545345Z",
     "start_time": "2021-12-23T15:29:31.542507Z"
    }
   },
   "outputs": [],
   "source": [
    "def dump_all_architectures(experiment_name:str):\n",
    "    model_paths = get_model_paths(experiment_name)\n",
    "    for path in model_paths:\n",
    "        dump_architecture(path)"
   ]
  },
  {
   "cell_type": "code",
   "execution_count": 15,
   "id": "1366a92e",
   "metadata": {
    "ExecuteTime": {
     "end_time": "2021-12-23T15:29:35.757045Z",
     "start_time": "2021-12-23T15:29:35.750762Z"
    }
   },
   "outputs": [],
   "source": [
    "dump_all_architectures('incremental/fake-round/')"
   ]
  },
  {
   "cell_type": "code",
   "execution_count": 8,
   "id": "17ddcad2",
   "metadata": {
    "ExecuteTime": {
     "end_time": "2021-12-23T00:07:32.822320Z",
     "start_time": "2021-12-23T00:07:32.707677Z"
    },
    "collapsed": true
   },
   "outputs": [
    {
     "ename": "IndexError",
     "evalue": "list index out of range",
     "output_type": "error",
     "traceback": [
      "\u001b[0;31m---------------------------------------------------------------------------\u001b[0m",
      "\u001b[0;31mIndexError\u001b[0m                                Traceback (most recent call last)",
      "\u001b[0;32m/var/folders/jy/0pp1md9x1358dt8g8k69srhr0000gp/T/ipykernel_4847/2940362305.py\u001b[0m in \u001b[0;36m<module>\u001b[0;34m\u001b[0m\n\u001b[0;32m----> 1\u001b[0;31m \u001b[0mdump_all_architectures\u001b[0m\u001b[0;34m(\u001b[0m\u001b[0;34m'incremental/second round/'\u001b[0m\u001b[0;34m)\u001b[0m\u001b[0;34m\u001b[0m\u001b[0;34m\u001b[0m\u001b[0m\n\u001b[0m",
      "\u001b[0;32m/var/folders/jy/0pp1md9x1358dt8g8k69srhr0000gp/T/ipykernel_4847/902145397.py\u001b[0m in \u001b[0;36mdump_all_architectures\u001b[0;34m(experiment_name)\u001b[0m\n\u001b[1;32m      2\u001b[0m     \u001b[0mmodel_paths\u001b[0m \u001b[0;34m=\u001b[0m \u001b[0mget_model_paths\u001b[0m\u001b[0;34m(\u001b[0m\u001b[0mexperiment_name\u001b[0m\u001b[0;34m)\u001b[0m\u001b[0;34m\u001b[0m\u001b[0;34m\u001b[0m\u001b[0m\n\u001b[1;32m      3\u001b[0m     \u001b[0;32mfor\u001b[0m \u001b[0mpath\u001b[0m \u001b[0;32min\u001b[0m \u001b[0mmodel_paths\u001b[0m\u001b[0;34m:\u001b[0m\u001b[0;34m\u001b[0m\u001b[0;34m\u001b[0m\u001b[0m\n\u001b[0;32m----> 4\u001b[0;31m         \u001b[0mdump_architecture\u001b[0m\u001b[0;34m(\u001b[0m\u001b[0mpath\u001b[0m\u001b[0;34m)\u001b[0m\u001b[0;34m\u001b[0m\u001b[0;34m\u001b[0m\u001b[0m\n\u001b[0m",
      "\u001b[0;32m/var/folders/jy/0pp1md9x1358dt8g8k69srhr0000gp/T/ipykernel_4847/1069197172.py\u001b[0m in \u001b[0;36mdump_architecture\u001b[0;34m(model_path)\u001b[0m\n\u001b[1;32m      5\u001b[0m \u001b[0;34m\u001b[0m\u001b[0m\n\u001b[1;32m      6\u001b[0m     \u001b[0mmodel_name\u001b[0m \u001b[0;34m=\u001b[0m \u001b[0mmodel_path\u001b[0m\u001b[0;34m.\u001b[0m\u001b[0msplit\u001b[0m\u001b[0;34m(\u001b[0m\u001b[0;34m'/'\u001b[0m\u001b[0;34m)\u001b[0m\u001b[0;34m[\u001b[0m\u001b[0;34m-\u001b[0m\u001b[0;36m1\u001b[0m\u001b[0;34m]\u001b[0m\u001b[0;34m\u001b[0m\u001b[0;34m\u001b[0m\u001b[0m\n\u001b[0;32m----> 7\u001b[0;31m     \u001b[0marchitectures\u001b[0m \u001b[0;34m=\u001b[0m \u001b[0mextract_features\u001b[0m\u001b[0;34m(\u001b[0m\u001b[0mmodel_name\u001b[0m\u001b[0;34m)\u001b[0m\u001b[0;34m\u001b[0m\u001b[0;34m\u001b[0m\u001b[0m\n\u001b[0m\u001b[1;32m      8\u001b[0m     \u001b[0;32mwith\u001b[0m \u001b[0mopen\u001b[0m\u001b[0;34m(\u001b[0m\u001b[0mmodel_path\u001b[0m \u001b[0;34m+\u001b[0m \u001b[0;34m'/architecture.pkl'\u001b[0m\u001b[0;34m,\u001b[0m \u001b[0;34m'wb'\u001b[0m\u001b[0;34m)\u001b[0m \u001b[0;32mas\u001b[0m \u001b[0mfp\u001b[0m\u001b[0;34m:\u001b[0m\u001b[0;34m\u001b[0m\u001b[0;34m\u001b[0m\u001b[0m\n\u001b[1;32m      9\u001b[0m         \u001b[0mpickle\u001b[0m\u001b[0;34m.\u001b[0m\u001b[0mdump\u001b[0m\u001b[0;34m(\u001b[0m\u001b[0marchitectures\u001b[0m\u001b[0;34m,\u001b[0m \u001b[0mfp\u001b[0m\u001b[0;34m)\u001b[0m\u001b[0;34m\u001b[0m\u001b[0;34m\u001b[0m\u001b[0m\n",
      "\u001b[0;32m/var/folders/jy/0pp1md9x1358dt8g8k69srhr0000gp/T/ipykernel_4847/2870679704.py\u001b[0m in \u001b[0;36mextract_features\u001b[0;34m(model_name)\u001b[0m\n\u001b[1;32m     38\u001b[0m     \u001b[0;31m# epochs\u001b[0m\u001b[0;34m\u001b[0m\u001b[0;34m\u001b[0m\u001b[0;34m\u001b[0m\u001b[0m\n\u001b[1;32m     39\u001b[0m     \u001b[0mre_epochs\u001b[0m \u001b[0;34m=\u001b[0m \u001b[0mre\u001b[0m\u001b[0;34m.\u001b[0m\u001b[0mcompile\u001b[0m\u001b[0;34m(\u001b[0m\u001b[0;34m'.*ep([0-9]+)lstm'\u001b[0m\u001b[0;34m)\u001b[0m\u001b[0;34m\u001b[0m\u001b[0;34m\u001b[0m\u001b[0m\n\u001b[0;32m---> 40\u001b[0;31m     \u001b[0mepochs\u001b[0m \u001b[0;34m=\u001b[0m \u001b[0mre_epochs\u001b[0m\u001b[0;34m.\u001b[0m\u001b[0mfindall\u001b[0m\u001b[0;34m(\u001b[0m\u001b[0mmodel_name\u001b[0m\u001b[0;34m)\u001b[0m\u001b[0;34m[\u001b[0m\u001b[0;36m0\u001b[0m\u001b[0;34m]\u001b[0m\u001b[0;34m\u001b[0m\u001b[0;34m\u001b[0m\u001b[0m\n\u001b[0m\u001b[1;32m     41\u001b[0m \u001b[0;34m\u001b[0m\u001b[0m\n\u001b[1;32m     42\u001b[0m     settings = {\n",
      "\u001b[0;31mIndexError\u001b[0m: list index out of range"
     ]
    }
   ],
   "source": [
    "dump_all_architectures('incremental/second round/')"
   ]
  },
  {
   "cell_type": "code",
   "execution_count": null,
   "id": "5b80ad14",
   "metadata": {},
   "outputs": [],
   "source": []
  },
  {
   "cell_type": "code",
   "execution_count": null,
   "id": "f58798fe",
   "metadata": {},
   "outputs": [],
   "source": []
  },
  {
   "cell_type": "code",
   "execution_count": null,
   "id": "3f0c63f6",
   "metadata": {},
   "outputs": [],
   "source": []
  },
  {
   "cell_type": "code",
   "execution_count": null,
   "id": "1c7cdd4c",
   "metadata": {},
   "outputs": [],
   "source": []
  },
  {
   "cell_type": "code",
   "execution_count": null,
   "id": "d6c8819c",
   "metadata": {},
   "outputs": [],
   "source": []
  },
  {
   "cell_type": "code",
   "execution_count": null,
   "id": "1ce278ad",
   "metadata": {},
   "outputs": [],
   "source": []
  },
  {
   "cell_type": "code",
   "execution_count": null,
   "id": "629e2e30",
   "metadata": {},
   "outputs": [],
   "source": []
  },
  {
   "cell_type": "code",
   "execution_count": null,
   "id": "a2cf5e5b",
   "metadata": {},
   "outputs": [],
   "source": []
  },
  {
   "cell_type": "code",
   "execution_count": null,
   "id": "a43e7fe1",
   "metadata": {},
   "outputs": [],
   "source": []
  },
  {
   "cell_type": "code",
   "execution_count": null,
   "id": "846a3d10",
   "metadata": {},
   "outputs": [],
   "source": []
  },
  {
   "cell_type": "code",
   "execution_count": null,
   "id": "af9f9f05",
   "metadata": {},
   "outputs": [],
   "source": []
  },
  {
   "cell_type": "code",
   "execution_count": null,
   "id": "4eb6ae3d",
   "metadata": {},
   "outputs": [],
   "source": []
  },
  {
   "cell_type": "code",
   "execution_count": null,
   "id": "0ee68b7a",
   "metadata": {},
   "outputs": [],
   "source": []
  },
  {
   "cell_type": "code",
   "execution_count": null,
   "id": "148ae997",
   "metadata": {},
   "outputs": [],
   "source": []
  },
  {
   "cell_type": "code",
   "execution_count": null,
   "id": "766dbf26",
   "metadata": {},
   "outputs": [],
   "source": []
  },
  {
   "cell_type": "code",
   "execution_count": null,
   "id": "5750b33f",
   "metadata": {},
   "outputs": [],
   "source": []
  },
  {
   "cell_type": "code",
   "execution_count": null,
   "id": "4c5a207a",
   "metadata": {},
   "outputs": [],
   "source": []
  }
 ],
 "metadata": {
  "kernelspec": {
   "display_name": "Python 3 (ipykernel)",
   "language": "python",
   "name": "python3"
  },
  "language_info": {
   "codemirror_mode": {
    "name": "ipython",
    "version": 3
   },
   "file_extension": ".py",
   "mimetype": "text/x-python",
   "name": "python",
   "nbconvert_exporter": "python",
   "pygments_lexer": "ipython3",
   "version": "3.8.12"
  },
  "toc": {
   "base_numbering": 1,
   "nav_menu": {},
   "number_sections": true,
   "sideBar": true,
   "skip_h1_title": false,
   "title_cell": "Table of Contents",
   "title_sidebar": "Contents",
   "toc_cell": false,
   "toc_position": {},
   "toc_section_display": true,
   "toc_window_display": false
  }
 },
 "nbformat": 4,
 "nbformat_minor": 5
}
