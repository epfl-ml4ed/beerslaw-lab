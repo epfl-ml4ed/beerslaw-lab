{
 "cells": [
  {
   "cell_type": "markdown",
   "id": "8c9338a2",
   "metadata": {},
   "source": [
    "This notebook is used to bring the data about the sessions, schools, field, demographics, ... together!"
   ]
  },
  {
   "cell_type": "code",
   "execution_count": 1,
   "id": "3566cb6c",
   "metadata": {
    "ExecuteTime": {
     "end_time": "2022-01-17T11:05:12.211389Z",
     "start_time": "2022-01-17T11:05:11.944913Z"
    }
   },
   "outputs": [],
   "source": [
    "import os\n",
    "import re\n",
    "import pickle\n",
    "\n",
    "import numpy as np\n",
    "import pandas as pd\n",
    "pd.set_option('display.max_columns', None)"
   ]
  },
  {
   "cell_type": "markdown",
   "id": "ba52fd91",
   "metadata": {},
   "source": [
    "# Data"
   ]
  },
  {
   "cell_type": "code",
   "execution_count": 2,
   "id": "79cf3ce6",
   "metadata": {
    "ExecuteTime": {
     "end_time": "2022-01-17T11:05:12.407654Z",
     "start_time": "2022-01-17T11:05:12.398008Z"
    }
   },
   "outputs": [],
   "source": [
    "schedule = pd.read_csv('../../data/post_test/schedule.csv')\n",
    "schedule['session_nr'] = schedule['Session'].apply(lambda x: re.findall(r'\\d+', x)[0])\n",
    "schedule_columns = [\n",
    "    'Language', 'Field of Study', 'Study Level', 'Year', 'Session'\n",
    "]\n",
    "\n",
    "schedule = schedule[schedule_columns]\n",
    "schedule.columns = [\n",
    "    'language', 'field', 'level', 'year', 'session'\n",
    "]"
   ]
  },
  {
   "cell_type": "code",
   "execution_count": 3,
   "id": "89f616cd",
   "metadata": {
    "ExecuteTime": {
     "end_time": "2022-01-17T11:05:12.555359Z",
     "start_time": "2022-01-17T11:05:12.549262Z"
    }
   },
   "outputs": [],
   "source": [
    "users = pd.read_csv('../../data/post_test/users.csv')\n",
    "users_columns = [\n",
    "    'username', 'consent', 'gender'\n",
    "]\n",
    "users = users[users_columns]"
   ]
  },
  {
   "cell_type": "code",
   "execution_count": 4,
   "id": "2f767ea2",
   "metadata": {
    "ExecuteTime": {
     "end_time": "2022-01-17T11:05:12.728189Z",
     "start_time": "2022-01-17T11:05:12.710830Z"
    }
   },
   "outputs": [],
   "source": [
    "with open('../../data/post_test/questions.pkl', 'rb') as fp:\n",
    "    questions = pickle.load(fp)\n",
    "    \n",
    "with open('../../data/post_test/rankings.pkl', 'rb') as fp:\n",
    "    rankings = pickle.load(fp)\n",
    "    \n",
    "with open('../../data/post_test/some_questions.pkl', 'rb') as fp:\n",
    "    some_questions = pickle.load(fp)\n",
    "    \n",
    "with open('../../data/post_test/some.pkl', 'rb') as fp:\n",
    "    some = pickle.load(fp)"
   ]
  },
  {
   "cell_type": "markdown",
   "id": "2fbae5b6",
   "metadata": {},
   "source": [
    "# Merging of the data"
   ]
  },
  {
   "cell_type": "code",
   "execution_count": 5,
   "id": "10181d30",
   "metadata": {
    "ExecuteTime": {
     "end_time": "2022-01-17T11:05:13.133868Z",
     "start_time": "2022-01-17T11:05:13.123206Z"
    }
   },
   "outputs": [
    {
     "name": "stdout",
     "output_type": "stream",
     "text": [
      "427\n",
      "427\n"
     ]
    }
   ],
   "source": [
    "print(len(questions))\n",
    "questions = questions.merge(schedule, on='session', how='left')\n",
    "questions = questions.merge(users, on='username', how='left')\n",
    "print(len(questions))"
   ]
  },
  {
   "cell_type": "code",
   "execution_count": 6,
   "id": "b73306af",
   "metadata": {
    "ExecuteTime": {
     "end_time": "2022-01-17T11:05:13.541798Z",
     "start_time": "2022-01-17T11:05:13.533224Z"
    }
   },
   "outputs": [
    {
     "name": "stdout",
     "output_type": "stream",
     "text": [
      "422\n",
      "422\n"
     ]
    }
   ],
   "source": [
    "print(len(rankings))\n",
    "rankings = rankings.merge(schedule, on='session', how='left')\n",
    "rankings = rankings.merge(users, on='username', how='left')\n",
    "print(len(rankings))"
   ]
  },
  {
   "cell_type": "code",
   "execution_count": 7,
   "id": "f5409838",
   "metadata": {
    "ExecuteTime": {
     "end_time": "2022-01-17T11:05:13.949319Z",
     "start_time": "2022-01-17T11:05:13.939706Z"
    }
   },
   "outputs": [
    {
     "name": "stdout",
     "output_type": "stream",
     "text": [
      "434\n",
      "434\n"
     ]
    }
   ],
   "source": [
    "print(len(some_questions))\n",
    "some_questions = some_questions.merge(schedule, on='session', how='left')\n",
    "some_questions = some_questions.merge(users, on='username', how='left')\n",
    "print(len(some_questions))"
   ]
  },
  {
   "cell_type": "code",
   "execution_count": 8,
   "id": "c289eb9a",
   "metadata": {
    "ExecuteTime": {
     "end_time": "2022-01-17T11:05:14.559826Z",
     "start_time": "2022-01-17T11:05:14.549470Z"
    }
   },
   "outputs": [
    {
     "name": "stdout",
     "output_type": "stream",
     "text": [
      "485\n",
      "485\n"
     ]
    }
   ],
   "source": [
    "print(len(some))\n",
    "some = some.merge(schedule, on='session', how='left')\n",
    "some = some.merge(users, on='username', how='left')\n",
    "print(len(some))"
   ]
  },
  {
   "cell_type": "code",
   "execution_count": 9,
   "id": "fd641db5",
   "metadata": {
    "ExecuteTime": {
     "end_time": "2022-01-17T11:05:15.139270Z",
     "start_time": "2022-01-17T11:05:15.122109Z"
    }
   },
   "outputs": [],
   "source": [
    "with open('../../data/post_test/questions.pkl', 'wb') as fp:\n",
    "    pickle.dump(questions, fp)\n",
    "    # full questions\n",
    "    \n",
    "with open('../../data/post_test/rankings.pkl', 'wb') as fp:\n",
    "    pickle.dump(rankings, fp)\n",
    "    # rankings completed\n",
    "    \n",
    "with open('../../data/post_test/some_questions.pkl', 'wb') as fp:\n",
    "    pickle.dump(some_questions, fp)\n",
    "    # partial questions\n",
    "    \n",
    "with open('../../data/post_test/some.pkl', 'wb') as fp:\n",
    "    pickle.dump(some, fp)\n",
    "    # partial questions"
   ]
  },
  {
   "cell_type": "code",
   "execution_count": null,
   "id": "5d7f83bc",
   "metadata": {},
   "outputs": [],
   "source": []
  },
  {
   "cell_type": "code",
   "execution_count": null,
   "id": "5043b6a7",
   "metadata": {},
   "outputs": [],
   "source": []
  }
 ],
 "metadata": {
  "kernelspec": {
   "display_name": "Python 3 (ipykernel)",
   "language": "python",
   "name": "python3"
  },
  "language_info": {
   "codemirror_mode": {
    "name": "ipython",
    "version": 3
   },
   "file_extension": ".py",
   "mimetype": "text/x-python",
   "name": "python",
   "nbconvert_exporter": "python",
   "pygments_lexer": "ipython3",
   "version": "3.8.12"
  },
  "toc": {
   "base_numbering": 1,
   "nav_menu": {},
   "number_sections": true,
   "sideBar": true,
   "skip_h1_title": false,
   "title_cell": "Table of Contents",
   "title_sidebar": "Contents",
   "toc_cell": false,
   "toc_position": {},
   "toc_section_display": true,
   "toc_window_display": false
  }
 },
 "nbformat": 4,
 "nbformat_minor": 5
}
