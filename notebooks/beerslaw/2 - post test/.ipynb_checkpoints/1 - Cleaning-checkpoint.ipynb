{
 "cells": [
  {
   "cell_type": "markdown",
   "id": "a7d574ad",
   "metadata": {},
   "source": [
    "In this notebook, we take the extracted post test information, and we clean it such that: \\\n",
    "    - DVET entries are cleaned out \\\n",
    "    - missing rankings are taken away"
   ]
  },
  {
   "cell_type": "code",
   "execution_count": 1,
   "id": "77066ded",
   "metadata": {
    "ExecuteTime": {
     "end_time": "2022-01-17T11:04:47.190993Z",
     "start_time": "2022-01-17T11:04:46.926534Z"
    }
   },
   "outputs": [],
   "source": [
    "import os \n",
    "import re\n",
    "import pickle\n",
    "\n",
    "import numpy as np\n",
    "import pandas as pd\n",
    "pd.set_option('display.max_columns', None)"
   ]
  },
  {
   "cell_type": "markdown",
   "id": "b036c100",
   "metadata": {},
   "source": [
    "# Data"
   ]
  },
  {
   "cell_type": "code",
   "execution_count": 2,
   "id": "485f904c",
   "metadata": {
    "ExecuteTime": {
     "end_time": "2022-01-17T11:04:47.558675Z",
     "start_time": "2022-01-17T11:04:47.539179Z"
    }
   },
   "outputs": [
    {
     "data": {
      "text/plain": [
       "array(['2130', '3120', '3201', '3012', '2103', '0123', 'missing', '0231',\n",
       "       '2031', '3021', '2013', '3210', '1320', '2301', '0321',\n",
       "       'wrong field', '0312', '0213', '1032', '1023', '2310', '3102',\n",
       "       '1230', '1203', '1302', '0132', ''], dtype=object)"
      ]
     },
     "execution_count": 2,
     "metadata": {},
     "output_type": "execute_result"
    }
   ],
   "source": [
    "with open('../../data/post_test/extracted.pkl', 'rb') as fp:\n",
    "    post = pickle.load(fp)\n",
    "    post['ranking'] = post['ranking'].fillna('missing')\n",
    "    post['status'] = post['status'].astype(str).replace(\"KeyError('\", '').replace(\"')\", '')\n",
    "    post['status'] = post['status'].astype(str).replace(\"'\", '')\n",
    "    \n",
    "unique_rankings = post['ranking'].unique()\n",
    "(unique_rankings)"
   ]
  },
  {
   "cell_type": "code",
   "execution_count": 3,
   "id": "99d32da0",
   "metadata": {
    "ExecuteTime": {
     "end_time": "2022-01-17T11:04:47.895002Z",
     "start_time": "2022-01-17T11:04:47.891938Z"
    }
   },
   "outputs": [],
   "source": [
    "unique_rankings = [\n",
    "    '2130', '3120', '3201', '3012', '2103', '0123', '0231',\n",
    "    '2031', '3021', '2013', '3210', '1320', '2301', '0321', \n",
    "    '0312', '0213', '1032', '1023', '2310', '3102',\n",
    "    '1230', '1203', '1302', '0132'\n",
    "]"
   ]
  },
  {
   "cell_type": "markdown",
   "id": "ac51e7cd",
   "metadata": {},
   "source": [
    "# Clean"
   ]
  },
  {
   "cell_type": "markdown",
   "id": "0becf78d",
   "metadata": {},
   "source": [
    "## Status\n",
    "Filters based on completion of data only"
   ]
  },
  {
   "cell_type": "code",
   "execution_count": 4,
   "id": "f680c03e",
   "metadata": {
    "ExecuteTime": {
     "end_time": "2022-01-17T11:04:49.522649Z",
     "start_time": "2022-01-17T11:04:49.498175Z"
    }
   },
   "outputs": [
    {
     "name": "stdout",
     "output_type": "stream",
     "text": [
      "length of the dataframe: 518, unique usernames: 518\n",
      "There were 23 entries without any information\n",
      "There are 51 entries who did not finish the test but did fill in the ranking questions\n",
      "There are 7 entries who did not finish the test and did not fill in the ranking questions\n",
      "There are 56 entries finished the test but did not fill in the ranking questions\n",
      "There are 371 entries finished the test and did fill in the ranking questions\n"
     ]
    }
   ],
   "source": [
    "data_len = len(post)\n",
    "print('length of the dataframe: {}, unique usernames: {}'.format(data_len, len(post['username'].unique())))\n",
    "\n",
    "# take out useless entries\n",
    "post = post[post['status'] != '0']\n",
    "post = post[post['status'] != '2']\n",
    "post = post[post['status'] != '3']\n",
    "post = post[post['status'] != '4'] # got ranking time but nothing else\n",
    "post = post[(post['status'] != '5') | (post['ranking'] != '')]\n",
    "print('There were {} entries without any information'.format(data_len - len(post)))\n",
    "\n",
    "# Partial data\n",
    "post['numerical_status'] = post['status'].replace('complete', 18).replace('feedback', 16)\n",
    "partial_rankings = post[(post['numerical_status'].astype(int) >= 6) & (post['numerical_status'].astype(int) < 18) & (post['ranking'].isin(unique_rankings))]\n",
    "partial_questions = post[(post['numerical_status'].astype(int) >= 6) & (post['numerical_status'].astype(int) < 18) & ~(post['ranking'].isin(unique_rankings))]\n",
    "print('There are {} entries who did not finish the test but did fill in the ranking questions'.format(len(partial_rankings)))\n",
    "print('There are {} entries who did not finish the test and did not fill in the ranking questions'.format(len(partial_questions)))\n",
    "\n",
    "# Complete data\n",
    "complete_rankings = post[(post['numerical_status'].astype(int) == 18) & (post['ranking'].isin(unique_rankings))]\n",
    "complete_questions = post[(post['numerical_status'].astype(int) == 18) & ~(post['ranking'].isin(unique_rankings))]\n",
    "print('There are {} entries finished the test but did not fill in the ranking questions'.format(len(complete_questions)))\n",
    "print('There are {} entries finished the test and did fill in the ranking questions'.format(len(complete_rankings)))"
   ]
  },
  {
   "cell_type": "code",
   "execution_count": 5,
   "id": "76a711f1",
   "metadata": {
    "ExecuteTime": {
     "end_time": "2022-01-17T11:04:54.520931Z",
     "start_time": "2022-01-17T11:04:54.507981Z"
    }
   },
   "outputs": [
    {
     "name": "stdout",
     "output_type": "stream",
     "text": [
      "There are 427 entries for which the post test is complete.\n",
      "There are 422 entries for which the rankings has been completed\n",
      "There are 434 entries for which at least one question has been answered\n",
      "There are 485 entries for which at least one question or the ranking has been answered\n"
     ]
    }
   ],
   "source": [
    "questions = complete_rankings.append(complete_questions)\n",
    "rankings = partial_rankings.append(complete_rankings)\n",
    "some_questions = partial_questions.append(questions)\n",
    "some = some_questions.append(rankings)\n",
    "some = some.drop_duplicates('username')\n",
    "print('There are {} entries for which the post test is complete.'.format(len(questions)))\n",
    "print('There are {} entries for which the rankings has been completed'.format(len(rankings)))\n",
    "print('There are {} entries for which at least one question has been answered'.format(len(some_questions)))\n",
    "print('There are {} entries for which at least one question or the ranking has been answered'.format(len(some)))"
   ]
  },
  {
   "cell_type": "code",
   "execution_count": 6,
   "id": "83719d51",
   "metadata": {
    "ExecuteTime": {
     "end_time": "2022-01-17T11:04:55.932262Z",
     "start_time": "2022-01-17T11:04:55.916922Z"
    }
   },
   "outputs": [],
   "source": [
    "with open('../../data/post_test/questions.pkl', 'wb') as fp:\n",
    "    pickle.dump(questions, fp)\n",
    "    # full questions\n",
    "    \n",
    "with open('../../data/post_test/rankings.pkl', 'wb') as fp:\n",
    "    pickle.dump(rankings, fp)\n",
    "    # rankings completed\n",
    "    \n",
    "with open('../../data/post_test/some_questions.pkl', 'wb') as fp:\n",
    "    pickle.dump(some_questions, fp)\n",
    "    # partial questions\n",
    "    \n",
    "with open('../../data/post_test/some.pkl', 'wb') as fp:\n",
    "    pickle.dump(some, fp)\n",
    "    # partial questions or ranking"
   ]
  },
  {
   "cell_type": "code",
   "execution_count": null,
   "id": "7fd35c7b",
   "metadata": {},
   "outputs": [],
   "source": []
  }
 ],
 "metadata": {
  "kernelspec": {
   "display_name": "Python 3 (ipykernel)",
   "language": "python",
   "name": "python3"
  },
  "language_info": {
   "codemirror_mode": {
    "name": "ipython",
    "version": 3
   },
   "file_extension": ".py",
   "mimetype": "text/x-python",
   "name": "python",
   "nbconvert_exporter": "python",
   "pygments_lexer": "ipython3",
   "version": "3.8.12"
  },
  "toc": {
   "base_numbering": 1,
   "nav_menu": {},
   "number_sections": true,
   "sideBar": true,
   "skip_h1_title": false,
   "title_cell": "Table of Contents",
   "title_sidebar": "Contents",
   "toc_cell": false,
   "toc_position": {},
   "toc_section_display": true,
   "toc_window_display": true
  }
 },
 "nbformat": 4,
 "nbformat_minor": 5
}
