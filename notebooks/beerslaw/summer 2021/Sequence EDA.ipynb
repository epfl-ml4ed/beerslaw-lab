{
 "cells": [
  {
   "cell_type": "code",
   "execution_count": 1,
   "metadata": {
    "ExecuteTime": {
     "end_time": "2021-09-03T12:45:34.957280Z",
     "start_time": "2021-09-03T12:45:25.703095Z"
    }
   },
   "outputs": [],
   "source": [
    "import os\n",
    "import json\n",
    "import yaml\n",
    "import pickle\n",
    "import dill\n",
    "\n",
    "import numpy as np\n",
    "import pandas as pd\n",
    "\n",
    "import seaborn as sns\n",
    "from matplotlib import pyplot as plt"
   ]
  },
  {
   "cell_type": "markdown",
   "metadata": {},
   "source": [
    "# Functions"
   ]
  },
  {
   "cell_type": "code",
   "execution_count": 2,
   "metadata": {
    "ExecuteTime": {
     "end_time": "2021-09-03T12:46:05.526153Z",
     "start_time": "2021-09-03T12:46:05.506207Z"
    }
   },
   "outputs": [],
   "source": [
    "def process_solution(solution_values: list):\n",
    "    \"\"\"Replace the values by whether the solution is green, red or from another colour\n",
    "            - drink mix: red\n",
    "            - cobalt (ii) nitrate: red \n",
    "            - cobalt (ii) chloride: other [orange]\n",
    "            - potassium dichromate: other [orange]\n",
    "            - potassium chromate: other [yellow]\n",
    "            - nickel (ii) chloride: green\n",
    "            - copper (ii) sulfate: other [blue]\n",
    "            - potassium permanganate: other [purple]\n",
    "    Args:\n",
    "        solution_values (list): [replaced all solutions by red, green or other]\n",
    "    \"\"\"        \n",
    "    colour_map = {\n",
    "        'drinkMix': 'red',\n",
    "        'potassiumDichromate': 'other',\n",
    "        'cobaltChloride': 'other',\n",
    "        'copperSulfate': 'other',\n",
    "        'nickelIIChloride': 'green',\n",
    "        'potassiumPermanganate': 'other',\n",
    "        'potassiumChromate': 'other',\n",
    "        'cobaltIINitrate': 'red'\n",
    "    }\n",
    "    solution_values = [s.replace('beersLawLab.beersLawScreen.solutions.', '') for s in solution_values]\n",
    "    solution_values = [colour_map[s] for s in solution_values]\n",
    "    return solution_values"
   ]
  },
  {
   "cell_type": "code",
   "execution_count": 3,
   "metadata": {
    "ExecuteTime": {
     "end_time": "2021-09-03T12:46:07.598961Z",
     "start_time": "2021-09-03T12:46:07.562060Z"
    }
   },
   "outputs": [],
   "source": [
    "def get_solution_distribution(values:list, timestamps: list, last_ts: float) -> dict:\n",
    "    vs = [values[0]]\n",
    "    ts = [timestamps[0]]\n",
    "    \n",
    "    for i in range(len(values[1:])):\n",
    "        if vs[-1] == values[i]:\n",
    "            continue\n",
    "        else:\n",
    "            vs.append(values[i])\n",
    "            ts.append(timestamps[i])\n",
    "    begin = ts\n",
    "    ends = ts[1:] + [last_ts]\n",
    "    \n",
    "    distribution = {\n",
    "        'red': 0,\n",
    "        'green': 0,\n",
    "        'other': 0\n",
    "    }\n",
    "    \n",
    "    for i, val in enumerate(vs):\n",
    "        distribution[val] += ends[i] - begin[i]\n",
    "    return distribution\n",
    "    \n",
    "    "
   ]
  },
  {
   "cell_type": "markdown",
   "metadata": {},
   "source": [
    "# Data"
   ]
  },
  {
   "cell_type": "code",
   "execution_count": 4,
   "metadata": {
    "ExecuteTime": {
     "end_time": "2021-09-03T12:46:09.496225Z",
     "start_time": "2021-09-03T12:46:09.412929Z"
    }
   },
   "outputs": [],
   "source": [
    "with open('../data/experiment_keys/permutation_maps/colour_binary.yaml') as fp:\n",
    "    col_bin = yaml.load(fp, Loader=yaml.FullLoader)\n",
    "    \n",
    "with open('../data/experiment_keys/permutation_maps/concentration_binary.yaml') as fp:\n",
    "    con_bin = yaml.load(fp, Loader=yaml.FullLoader)\n",
    "    \n",
    "with open('../data/experiment_keys/permutation_maps/width_binary.yaml') as fp:\n",
    "    wid_bin = yaml.load(fp, Loader=yaml.FullLoader)"
   ]
  },
  {
   "cell_type": "code",
   "execution_count": 5,
   "metadata": {
    "ExecuteTime": {
     "end_time": "2021-09-03T12:46:10.504849Z",
     "start_time": "2021-09-03T12:46:09.580048Z"
    }
   },
   "outputs": [],
   "source": [
    "with open('//ic1files.epfl.ch/D-VET/Projects/ChemLab/04_Processing/Processing/Data/PostTest/post_test.pkl', 'rb') as fp:\n",
    "    post_test = pickle.load(fp)\n",
    "    ranks = pd.DataFrame()\n",
    "    ranks['lid'] = post_test[0, 'username']\n",
    "    ranks['gender'] = post_test[0, 'gender']\n",
    "    ranks['year'] = post_test[0, 'year']\n",
    "    ranks['ranks'] = post_test[6, 'ranks']\n",
    "\n",
    "    ranks = ranks[ranks['ranks'].notna()]\n",
    "    ranks['permutation'] = ranks['ranks'].apply(lambda x: ''.join([str(r) for r in x]))\n",
    "    ranks = ranks.set_index('lid')"
   ]
  },
  {
   "cell_type": "code",
   "execution_count": 6,
   "metadata": {
    "ExecuteTime": {
     "end_time": "2021-09-03T12:47:06.987809Z",
     "start_time": "2021-09-03T12:46:17.183220Z"
    }
   },
   "outputs": [],
   "source": [
    "# all parsed files\n",
    "parsed_path = '../data/parsed simulations/'\n",
    "parsed = os.listdir(parsed_path)\n",
    "\n",
    "# get distributions\n",
    "distribution = {}\n",
    "for file in parsed:\n",
    "    with open(parsed_path + file, 'rb') as fp:\n",
    "        p = dill.load(fp)\n",
    "        solution = p.get_solution()\n",
    "        values = process_solution(solution[0])\n",
    "        dist = get_solution_distribution(values, solution[1], p.get_last_timestamp())\n",
    "        distribution[p.get_learner_id()] = dist\n",
    "        try:\n",
    "            distribution[p.get_learner_id()]['permutation'] = ranks.loc[p.get_learner_id()]['permutation']\n",
    "        except KeyError:\n",
    "            distribution['permutation'] = ''\n",
    "           \n",
    "        \n",
    "distribution_df = pd.DataFrame(distribution).transpose()\n",
    "distribution_df = distribution_df[~distribution_df['permutation'].isna()]\n",
    "distribution_df = distribution_df[distribution_df['permutation'] != '']\n",
    "def get_colbin_labels(x:str, colbin:dict) -> str:\n",
    "    return colbin['map'][x]\n",
    "\n",
    "def get_conbin_labels(x:str, conbin:dict) -> str:\n",
    "    return conbin['map'][x]\n",
    "\n",
    "def get_widbin_labels(x:str, widbin:dict) -> str:\n",
    "    lab = widbin['map'][x]\n",
    "    if lab == 'no_width':\n",
    "        return 'width_no'\n",
    "    else:\n",
    "        return lab\n",
    "distribution_df['colbin'] = distribution_df['permutation'].apply(lambda x: get_colbin_labels(x, col_bin))\n",
    "distribution_df['conbin'] = distribution_df['permutation'].apply(lambda x: get_conbin_labels(x, con_bin))\n",
    "distribution_df['widbin'] = distribution_df['permutation'].apply(lambda x: get_widbin_labels(x, wid_bin))"
   ]
  },
  {
   "cell_type": "markdown",
   "metadata": {},
   "source": [
    "# Plots"
   ]
  },
  {
   "cell_type": "code",
   "execution_count": 8,
   "metadata": {
    "ExecuteTime": {
     "end_time": "2021-09-03T12:48:17.788011Z",
     "start_time": "2021-09-03T12:48:16.753178Z"
    }
   },
   "outputs": [
    {
     "data": {
      "image/png": "[encoded data removed]",
      "text/plain": [
       "<Figure size 864x288 with 1 Axes>"
      ]
     },
     "metadata": {
      "needs_background": "light"
     },
     "output_type": "display_data"
    }
   ],
   "source": [
    "binwidth = 50\n",
    "plt.figure(figsize=(12, 4))\n",
    "plt.title('Distribution of the use of the coloured solutions')\n",
    "sns.histplot(distribution_df['red'], binwidth=binwidth, label='red', color='firebrick', alpha=0.5)\n",
    "sns.histplot(distribution_df['green'], binwidth=binwidth, label='green', color='yellowgreen', alpha=0.5)\n",
    "sns.histplot(distribution_df['other'], binwidth=binwidth, label='other', color='paleturquoise', alpha=0.5)\n",
    "plt.legend()\n",
    "plt.show()"
   ]
  },
  {
   "cell_type": "markdown",
   "metadata": {},
   "source": [
    "## Colour"
   ]
  },
  {
   "cell_type": "code",
   "execution_count": 19,
   "metadata": {
    "ExecuteTime": {
     "end_time": "2021-09-03T12:52:08.599825Z",
     "start_time": "2021-09-03T12:52:06.216186Z"
    }
   },
   "outputs": [
    {
     "data": {
      "image/png": "[encoded data removed]",
      "text/plain": [
       "<Figure size 864x576 with 2 Axes>"
      ]
     },
     "metadata": {
      "needs_background": "light"
     },
     "output_type": "display_data"
    }
   ],
   "source": [
    "col_df = distribution_df[distribution_df['colbin'] == 'colour']\n",
    "nocol_df = distribution_df[distribution_df['colbin'] == 'no_col']\n",
    "\n",
    "plt.figure(figsize=(12, 8))\n",
    "plt.suptitle('Distribution of the use of the coloured solutions')\n",
    "\n",
    "plt.subplot(2, 1, 1)\n",
    "plt.title('colour')\n",
    "sns.histplot(col_df['red'], binwidth=binwidth, label='red', color='firebrick', alpha=0.5)\n",
    "sns.histplot(col_df['green'], binwidth=binwidth, label='green', color='yellowgreen', alpha=0.5)\n",
    "sns.histplot(col_df['other'], binwidth=binwidth, label='other', color='paleturquoise', alpha=0.5)\n",
    "plt.legend()\n",
    "plt.xlim([0, 1250])\n",
    "\n",
    "plt.subplot(2, 1, 2)\n",
    "plt.title('no colour')\n",
    "sns.histplot(nocol_df['red'], binwidth=binwidth, label='red', color='firebrick', alpha=0.5)\n",
    "sns.histplot(nocol_df['green'], binwidth=binwidth, label='green', color='yellowgreen', alpha=0.5)\n",
    "sns.histplot(nocol_df['other'], binwidth=binwidth, label='other', color='paleturquoise', alpha=0.5)\n",
    "plt.xlim([0, 1250])\n",
    "plt.legend()\n",
    "\n",
    "plt.tight_layout()\n",
    "plt.show()"
   ]
  },
  {
   "cell_type": "markdown",
   "metadata": {},
   "source": [
    "\n",
    "## width"
   ]
  },
  {
   "cell_type": "code",
   "execution_count": 18,
   "metadata": {
    "ExecuteTime": {
     "end_time": "2021-09-03T12:51:54.053411Z",
     "start_time": "2021-09-03T12:51:51.913510Z"
    }
   },
   "outputs": [
    {
     "data": {
      "image/png": "[encoded data removed]",
      "text/plain": [
       "<Figure size 864x576 with 2 Axes>"
      ]
     },
     "metadata": {
      "needs_background": "light"
     },
     "output_type": "display_data"
    }
   ],
   "source": [
    "w_df = distribution_df[distribution_df['widbin'] == 'width']\n",
    "now_df = distribution_df[distribution_df['widbin'] == 'width_no']\n",
    "\n",
    "plt.figure(figsize=(12, 8))\n",
    "plt.suptitle('Distribution of the use of the coloured solutions')\n",
    "\n",
    "plt.subplot(2, 1, 1)\n",
    "plt.title('width')\n",
    "sns.histplot(w_df['red'], binwidth=binwidth, label='red', color='firebrick', alpha=0.5)\n",
    "sns.histplot(w_df['green'], binwidth=binwidth, label='green', color='yellowgreen', alpha=0.5)\n",
    "sns.histplot(w_df['other'], binwidth=binwidth, label='other', color='paleturquoise', alpha=0.5)\n",
    "plt.legend()\n",
    "plt.xlim([0, 1250])\n",
    "\n",
    "plt.subplot(2, 1, 2)\n",
    "plt.title('no width')\n",
    "sns.histplot(now_df['red'], binwidth=binwidth, label='red', color='firebrick', alpha=0.5)\n",
    "sns.histplot(now_df['green'], binwidth=binwidth, label='green', color='yellowgreen', alpha=0.5)\n",
    "sns.histplot(now_df['other'], binwidth=binwidth, label='other', color='paleturquoise', alpha=0.5)\n",
    "plt.xlim([0, 1250])\n",
    "plt.legend()\n",
    "\n",
    "plt.tight_layout()\n",
    "plt.show()"
   ]
  },
  {
   "cell_type": "markdown",
   "metadata": {},
   "source": [
    "## concentration"
   ]
  },
  {
   "cell_type": "code",
   "execution_count": 20,
   "metadata": {
    "ExecuteTime": {
     "end_time": "2021-09-03T12:53:00.313437Z",
     "start_time": "2021-09-03T12:52:57.607978Z"
    }
   },
   "outputs": [
    {
     "data": {
      "image/png": "[encoded data removed]",
      "text/plain": [
       "<Figure size 864x576 with 2 Axes>"
      ]
     },
     "metadata": {
      "needs_background": "light"
     },
     "output_type": "display_data"
    }
   ],
   "source": [
    "conc_df = distribution_df[distribution_df['conbin'] == 'concentration']\n",
    "noconc_df = distribution_df[distribution_df['conbin'] == 'no_conc']\n",
    "\n",
    "plt.figure(figsize=(12, 8))\n",
    "plt.suptitle('Distribution of the use of the coloured solutions')\n",
    "\n",
    "plt.subplot(2, 1, 1)\n",
    "plt.title('concentration')\n",
    "sns.histplot(conc_df['red'], binwidth=binwidth, label='red', color='firebrick', alpha=0.5)\n",
    "sns.histplot(conc_df['green'], binwidth=binwidth, label='green', color='yellowgreen', alpha=0.5)\n",
    "sns.histplot(conc_df['other'], binwidth=binwidth, label='other', color='paleturquoise', alpha=0.5)\n",
    "plt.legend()\n",
    "plt.xlim([0, 1250])\n",
    "\n",
    "plt.subplot(2, 1, 2)\n",
    "plt.title('no concentration')\n",
    "sns.histplot(noconc_df['red'], binwidth=binwidth, label='red', color='firebrick', alpha=0.5)\n",
    "sns.histplot(noconc_df['green'], binwidth=binwidth, label='green', color='yellowgreen', alpha=0.5)\n",
    "sns.histplot(noconc_df['other'], binwidth=binwidth, label='other', color='paleturquoise', alpha=0.5)\n",
    "plt.xlim([0, 1250])\n",
    "plt.legend()\n",
    "\n",
    "plt.tight_layout()\n",
    "plt.show()"
   ]
  },
  {
   "cell_type": "code",
   "execution_count": 22,
   "metadata": {
    "ExecuteTime": {
     "end_time": "2021-09-03T15:55:25.201750Z",
     "start_time": "2021-09-03T15:55:25.184768Z"
    }
   },
   "outputs": [
    {
     "data": {
      "text/plain": [
       "(['transmittance', 'transmittance'], [0, 659.205])"
      ]
     },
     "execution_count": 22,
     "metadata": {},
     "output_type": "execute_result"
    }
   ],
   "source": [
    "p.get_metric()"
   ]
  },
  {
   "cell_type": "code",
   "execution_count": 23,
   "metadata": {
    "ExecuteTime": {
     "end_time": "2021-09-03T15:55:37.589809Z",
     "start_time": "2021-09-03T15:55:37.570797Z"
    }
   },
   "outputs": [
    {
     "data": {
      "text/plain": [
       "659.205"
      ]
     },
     "execution_count": 23,
     "metadata": {},
     "output_type": "execute_result"
    }
   ],
   "source": [
    "p.get_last_timestamp()"
   ]
  },
  {
   "cell_type": "code",
   "execution_count": null,
   "metadata": {},
   "outputs": [],
   "source": []
  },
  {
   "cell_type": "code",
   "execution_count": null,
   "metadata": {},
   "outputs": [],
   "source": []
  },
  {
   "cell_type": "code",
   "execution_count": null,
   "metadata": {},
   "outputs": [],
   "source": []
  },
  {
   "cell_type": "code",
   "execution_count": null,
   "metadata": {},
   "outputs": [],
   "source": []
  },
  {
   "cell_type": "code",
   "execution_count": null,
   "metadata": {},
   "outputs": [],
   "source": []
  },
  {
   "cell_type": "code",
   "execution_count": null,
   "metadata": {},
   "outputs": [],
   "source": [
    "a"
   ]
  }
 ],
 "metadata": {
  "kernelspec": {
   "display_name": "Python 3",
   "language": "python",
   "name": "python3"
  },
  "language_info": {
   "codemirror_mode": {
    "name": "ipython",
    "version": 3
   },
   "file_extension": ".py",
   "mimetype": "text/x-python",
   "name": "python",
   "nbconvert_exporter": "python",
   "pygments_lexer": "ipython3",
   "version": "3.6.12"
  },
  "toc": {
   "base_numbering": 1,
   "nav_menu": {},
   "number_sections": true,
   "sideBar": true,
   "skip_h1_title": false,
   "title_cell": "Table of Contents",
   "title_sidebar": "Contents",
   "toc_cell": false,
   "toc_position": {},
   "toc_section_display": true,
   "toc_window_display": false
  }
 },
 "nbformat": 4,
 "nbformat_minor": 4
}
