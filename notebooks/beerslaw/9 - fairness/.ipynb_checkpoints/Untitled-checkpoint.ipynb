{
 "cells": [
  {
   "cell_type": "markdown",
   "id": "20dcca6b",
   "metadata": {},
   "source": [
    "<p style=\"color:royalblue\"> This is a notebook to visualise the results from the logistic regression"
   ]
  },
  {
   "cell_type": "code",
   "execution_count": 1,
   "id": "0245771a",
   "metadata": {
    "ExecuteTime": {
     "end_time": "2022-04-28T20:46:41.321685Z",
     "start_time": "2022-04-28T20:46:40.696219Z"
    }
   },
   "outputs": [],
   "source": [
    "import os\n",
    "import pickle\n",
    "import json\n",
    "\n",
    "import numpy as np\n",
    "import pandas as pd\n",
    "\n",
    "from matplotlib import pyplot as plt"
   ]
  },
  {
   "cell_type": "code",
   "execution_count": 11,
   "id": "ebb45fb6",
   "metadata": {
    "ExecuteTime": {
     "end_time": "2022-04-28T20:57:01.040826Z",
     "start_time": "2022-04-28T20:57:01.038430Z"
    }
   },
   "outputs": [],
   "source": [
    "coefficients = {}"
   ]
  },
  {
   "cell_type": "code",
   "execution_count": 19,
   "id": "335e3862",
   "metadata": {
    "ExecuteTime": {
     "end_time": "2022-04-28T20:59:56.917701Z",
     "start_time": "2022-04-28T20:59:56.914380Z"
    }
   },
   "outputs": [],
   "source": [
    "def process_coeffs(string):\n",
    "    string = string.replace('[1] ', '')\n",
    "    string = string.replace('\\n', ',')\n",
    "    string = string[1:-2].split(',')\n",
    "    string = [float(s) for s in string]\n",
    "    return string"
   ]
  },
  {
   "cell_type": "markdown",
   "id": "561bf01e",
   "metadata": {},
   "source": [
    "# Base columns"
   ]
  },
  {
   "cell_type": "code",
   "execution_count": 20,
   "id": "3694d41d",
   "metadata": {
    "ExecuteTime": {
     "end_time": "2022-04-28T20:59:57.840244Z",
     "start_time": "2022-04-28T20:59:57.836906Z"
    }
   },
   "outputs": [],
   "source": [
    "base_columns = [\n",
    "    'intercept', 'greengreen_other', 'greenred_other', 'notgreennotred_other', 'noobserved_other',\n",
    "    'greengreen_concentration', 'greenred_concentration', 'notgreennotred_concentration', \n",
    "    'noobserved_concentration', 'greengreen_width', 'greenred_width', 'notgreennotred_width', 'noobserved_width', \n",
    "    'greengreen_wavelength', 'greenred_wavelength', 'notgreennotred_wavelength', 'noobserved_wavelength', \n",
    "    'greengreen_solution', 'greenred_solution', 'notgreennotred_solution', 'noobserved_solution', \n",
    "    'greengreen_pdf', 'greenred_pdf', 'notgreennotred_pdf', 'noobserved_pdf', 'greengreen_break', \n",
    "    'greenred_break', 'notgreennotred_break', 'noobserved_break'    \n",
    "]"
   ]
  },
  {
   "cell_type": "code",
   "execution_count": 21,
   "id": "76e61e4a",
   "metadata": {
    "ExecuteTime": {
     "end_time": "2022-04-28T20:59:58.883341Z",
     "start_time": "2022-04-28T20:59:58.873265Z"
    }
   },
   "outputs": [
    {
     "ename": "NameError",
     "evalue": "name 'strin' is not defined",
     "output_type": "error",
     "traceback": [
      "\u001b[0;31m---------------------------------------------------------------------------\u001b[0m",
      "\u001b[0;31mNameError\u001b[0m                                 Traceback (most recent call last)",
      "\u001b[0;32m/var/folders/jy/0pp1md9x1358dt8g8k69srhr0000gp/T/ipykernel_43035/2943374676.py\u001b[0m in \u001b[0;36m<module>\u001b[0;34m\u001b[0m\n\u001b[1;32m     30\u001b[0m \u001b[0;34m[\u001b[0m\u001b[0;36m1\u001b[0m\u001b[0;34m]\u001b[0m \u001b[0;36m21.86039\u001b[0m\u001b[0;34m\u001b[0m\u001b[0;34m\u001b[0m\u001b[0m\n\u001b[1;32m     31\u001b[0m \"\"\"\n\u001b[0;32m---> 32\u001b[0;31m \u001b[0mcoefficients\u001b[0m\u001b[0;34m[\u001b[0m\u001b[0;34m'general'\u001b[0m\u001b[0;34m]\u001b[0m \u001b[0;34m=\u001b[0m \u001b[0mprocess_coeffs\u001b[0m\u001b[0;34m(\u001b[0m\u001b[0mstring\u001b[0m\u001b[0;34m)\u001b[0m\u001b[0;34m\u001b[0m\u001b[0;34m\u001b[0m\u001b[0m\n\u001b[0m",
      "\u001b[0;32m/var/folders/jy/0pp1md9x1358dt8g8k69srhr0000gp/T/ipykernel_43035/2280777259.py\u001b[0m in \u001b[0;36mprocess_coeffs\u001b[0;34m(string)\u001b[0m\n\u001b[1;32m      3\u001b[0m     \u001b[0mstring\u001b[0m \u001b[0;34m=\u001b[0m \u001b[0mstring\u001b[0m\u001b[0;34m.\u001b[0m\u001b[0mreplace\u001b[0m\u001b[0;34m(\u001b[0m\u001b[0;34m'\\n'\u001b[0m\u001b[0;34m,\u001b[0m \u001b[0;34m','\u001b[0m\u001b[0;34m)\u001b[0m\u001b[0;34m\u001b[0m\u001b[0;34m\u001b[0m\u001b[0m\n\u001b[1;32m      4\u001b[0m     \u001b[0mstring\u001b[0m \u001b[0;34m=\u001b[0m \u001b[0mstring\u001b[0m\u001b[0;34m[\u001b[0m\u001b[0;36m1\u001b[0m\u001b[0;34m:\u001b[0m\u001b[0;34m-\u001b[0m\u001b[0;36m2\u001b[0m\u001b[0;34m]\u001b[0m\u001b[0;34m.\u001b[0m\u001b[0msplit\u001b[0m\u001b[0;34m(\u001b[0m\u001b[0;34m','\u001b[0m\u001b[0;34m)\u001b[0m\u001b[0;34m\u001b[0m\u001b[0;34m\u001b[0m\u001b[0m\n\u001b[0;32m----> 5\u001b[0;31m     \u001b[0mstrin\u001b[0m\u001b[0;34m\u001b[0m\u001b[0;34m\u001b[0m\u001b[0m\n\u001b[0m\u001b[1;32m      6\u001b[0m     \u001b[0mstring\u001b[0m \u001b[0;34m=\u001b[0m \u001b[0;34m[\u001b[0m\u001b[0mfloat\u001b[0m\u001b[0;34m(\u001b[0m\u001b[0ms\u001b[0m\u001b[0;34m)\u001b[0m \u001b[0;32mfor\u001b[0m \u001b[0ms\u001b[0m \u001b[0;32min\u001b[0m \u001b[0mstring\u001b[0m\u001b[0;34m]\u001b[0m\u001b[0;34m\u001b[0m\u001b[0;34m\u001b[0m\u001b[0m\n\u001b[1;32m      7\u001b[0m     \u001b[0;32mreturn\u001b[0m \u001b[0mstring\u001b[0m\u001b[0;34m\u001b[0m\u001b[0;34m\u001b[0m\u001b[0m\n",
      "\u001b[0;31mNameError\u001b[0m: name 'strin' is not defined"
     ]
    }
   ],
   "source": [
    "string = \"\"\"\n",
    "[1] -11.93272\n",
    "[1] 9.199266\n",
    "[1] 7.873831\n",
    "[1] -4.148376\n",
    "[1] -2.613977\n",
    "[1] 7.571058\n",
    "[1] 6.375983\n",
    "[1] 1.537158\n",
    "[1] 7.363739\n",
    "[1] -3.892252\n",
    "[1] -0.4737508\n",
    "[1] 10.55861\n",
    "[1] 3.638066\n",
    "[1] 23.73416\n",
    "[1] 9.182549\n",
    "[1] 3.70148\n",
    "[1] 10.78038\n",
    "[1] 50.35874\n",
    "[1] 6.902993\n",
    "[1] -4.671704\n",
    "[1] 9.279186\n",
    "[1] 9.670767\n",
    "[1] 1.828536\n",
    "[1] 15.71179\n",
    "[1] 4.609322\n",
    "[1] 42.19031\n",
    "[1] 35.66309\n",
    "[1] 32.69925\n",
    "[1] 21.86039\n",
    "\"\"\"\n",
    "coefficients['general'] = process_coeffs(string)"
   ]
  },
  {
   "cell_type": "code",
   "execution_count": 16,
   "id": "8e56358a",
   "metadata": {
    "ExecuteTime": {
     "end_time": "2022-04-28T20:58:41.906313Z",
     "start_time": "2022-04-28T20:58:41.902098Z"
    }
   },
   "outputs": [
    {
     "data": {
      "text/plain": [
       "['-11.93272',\n",
       " '9.199266',\n",
       " '7.873831',\n",
       " '-4.148376',\n",
       " '-2.613977',\n",
       " '7.571058',\n",
       " '6.375983',\n",
       " '1.537158',\n",
       " '7.363739',\n",
       " '-3.892252',\n",
       " '-0.4737508',\n",
       " '10.55861',\n",
       " '3.638066',\n",
       " '23.73416',\n",
       " '9.182549',\n",
       " '3.70148',\n",
       " '10.78038',\n",
       " '50.35874',\n",
       " '6.902993',\n",
       " '-4.671704',\n",
       " '9.279186',\n",
       " '9.670767',\n",
       " '1.828536',\n",
       " '15.71179',\n",
       " '4.609322',\n",
       " '42.19031',\n",
       " '35.66309',\n",
       " '32.69925',\n",
       " '21.86039',\n",
       " 'N']"
      ]
     },
     "execution_count": 16,
     "metadata": {},
     "output_type": "execute_result"
    }
   ],
   "source": [
    "string[1:-2].split(',')"
   ]
  },
  {
   "cell_type": "code",
   "execution_count": null,
   "id": "6923dead",
   "metadata": {},
   "outputs": [],
   "source": []
  },
  {
   "cell_type": "code",
   "execution_count": null,
   "id": "003dd2f1",
   "metadata": {},
   "outputs": [],
   "source": []
  },
  {
   "cell_type": "code",
   "execution_count": null,
   "id": "f923039c",
   "metadata": {},
   "outputs": [],
   "source": []
  },
  {
   "cell_type": "code",
   "execution_count": null,
   "id": "1eed2376",
   "metadata": {},
   "outputs": [],
   "source": []
  },
  {
   "cell_type": "code",
   "execution_count": null,
   "id": "7ce1db07",
   "metadata": {},
   "outputs": [],
   "source": []
  },
  {
   "cell_type": "code",
   "execution_count": null,
   "id": "7f378b6d",
   "metadata": {},
   "outputs": [],
   "source": []
  },
  {
   "cell_type": "code",
   "execution_count": null,
   "id": "44f749e2",
   "metadata": {},
   "outputs": [],
   "source": []
  },
  {
   "cell_type": "code",
   "execution_count": null,
   "id": "86e16b3d",
   "metadata": {},
   "outputs": [],
   "source": []
  },
  {
   "cell_type": "code",
   "execution_count": null,
   "id": "9370131a",
   "metadata": {},
   "outputs": [],
   "source": []
  },
  {
   "cell_type": "code",
   "execution_count": null,
   "id": "2d61e88b",
   "metadata": {},
   "outputs": [],
   "source": []
  },
  {
   "cell_type": "code",
   "execution_count": null,
   "id": "355840fe",
   "metadata": {},
   "outputs": [],
   "source": []
  },
  {
   "cell_type": "code",
   "execution_count": null,
   "id": "cd741c60",
   "metadata": {},
   "outputs": [],
   "source": []
  },
  {
   "cell_type": "code",
   "execution_count": null,
   "id": "16d63966",
   "metadata": {},
   "outputs": [],
   "source": []
  },
  {
   "cell_type": "code",
   "execution_count": null,
   "id": "41fa72a3",
   "metadata": {},
   "outputs": [],
   "source": []
  },
  {
   "cell_type": "code",
   "execution_count": null,
   "id": "7e352c94",
   "metadata": {},
   "outputs": [],
   "source": []
  },
  {
   "cell_type": "code",
   "execution_count": null,
   "id": "9b16fa52",
   "metadata": {},
   "outputs": [],
   "source": []
  },
  {
   "cell_type": "code",
   "execution_count": null,
   "id": "774ed20f",
   "metadata": {},
   "outputs": [],
   "source": []
  }
 ],
 "metadata": {
  "kernelspec": {
   "display_name": "Python 3 (ipykernel)",
   "language": "python",
   "name": "python3"
  },
  "language_info": {
   "codemirror_mode": {
    "name": "ipython",
    "version": 3
   },
   "file_extension": ".py",
   "mimetype": "text/x-python",
   "name": "python",
   "nbconvert_exporter": "python",
   "pygments_lexer": "ipython3",
   "version": "3.8.12"
  },
  "toc": {
   "base_numbering": 1,
   "nav_menu": {},
   "number_sections": true,
   "sideBar": true,
   "skip_h1_title": false,
   "title_cell": "Table of Contents",
   "title_sidebar": "Contents",
   "toc_cell": false,
   "toc_position": {},
   "toc_section_display": true,
   "toc_window_display": false
  }
 },
 "nbformat": 4,
 "nbformat_minor": 5
}
