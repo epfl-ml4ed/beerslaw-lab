{
 "cells": [
  {
   "cell_type": "code",
   "execution_count": 22,
   "id": "df141a41",
   "metadata": {
    "ExecuteTime": {
     "end_time": "2022-02-27T14:12:53.260323Z",
     "start_time": "2022-02-27T14:12:53.257325Z"
    }
   },
   "outputs": [],
   "source": [
    "import os\n",
    "import pickle\n",
    "\n",
    "import numpy as np\n",
    "import pandas as pd\n",
    "import seaborn as sns\n",
    "from matplotlib import pyplot as plt"
   ]
  },
  {
   "cell_type": "code",
   "execution_count": 28,
   "id": "091c2981",
   "metadata": {
    "ExecuteTime": {
     "end_time": "2022-02-27T14:15:05.485040Z",
     "start_time": "2022-02-27T14:15:05.464752Z"
    },
    "scrolled": false
   },
   "outputs": [
    {
     "name": "stdout",
     "output_type": "stream",
     "text": [
      "   pred  truth\n",
      "0     1      1\n",
      "1     1      1\n",
      "2     0      1\n",
      "3     1      1\n",
      "4     1      1\n",
      "5     1      1\n",
      "\n",
      "   pred  truth\n",
      "0     1      1\n",
      "1     1      1\n",
      "2     1      1\n",
      "3     1      0\n",
      "\n",
      "   pred  truth\n",
      "0     1      1\n",
      "1     1      0\n",
      "2     0      1\n",
      "3     1      0\n",
      "4     1      1\n",
      "5     1      1\n",
      "\n",
      "   pred  truth\n",
      "0     1      1\n",
      "1     1      0\n",
      "2     1      1\n",
      "3     1      1\n",
      "4     1      1\n",
      "\n",
      "   pred  truth\n",
      "0     0      1\n",
      "1     1      1\n",
      "2     1      1\n",
      "3     1      1\n",
      "4     0      0\n",
      "\n",
      "   pred  truth\n",
      "0     1      1\n",
      "1     1      1\n",
      "2     1      1\n",
      "3     1      1\n",
      "4     0      0\n",
      "5     1      1\n",
      "6     1      1\n",
      "\n",
      "   pred  truth\n",
      "0     1      1\n",
      "1     1      1\n",
      "2     1      1\n",
      "3     1      0\n",
      "4     1      1\n",
      "5     1      1\n",
      "6     1      0\n",
      "7     1      1\n",
      "8     1      1\n",
      "\n",
      "   pred  truth\n",
      "0     1      1\n",
      "1     1      1\n",
      "2     1      1\n",
      "3     1      1\n",
      "4     0      0\n",
      "5     1      1\n",
      "\n",
      "   pred  truth\n",
      "0     1      1\n",
      "1     1      1\n",
      "2     1      1\n",
      "3     1      1\n",
      "4     1      1\n",
      "5     0      0\n",
      "\n",
      "   pred  truth\n",
      "0     1      1\n",
      "1     1      1\n",
      "2     0      0\n",
      "3     1      1\n",
      "4     1      1\n",
      "5     1      0\n",
      "6     0      1\n",
      "7     1      1\n",
      "\n"
     ]
    }
   ],
   "source": [
    "path60 = '/Users/cock/kDrive/PhD/Projects/Labs/beerslaw-lab/experiments/early-capacitor-lab/no-seed-search/binary_edm2021/2classes/lstm/raw_full/2022_02_25_1/results/early_nested_xval_mlstm_l60.pkl'\n",
    "\n",
    "with open(path60, 'rb') as fp:\n",
    "    early60 = pickle.load(fp)\n",
    "id_indices = early60['id_indices']\n",
    "\n",
    "for i in range(10):\n",
    "    indexes = [id_indices.index(idx) for idx in early60[i]['longenough_test_indices']]\n",
    "    y_test = [early60['y'][yy] for yy in indexes]\n",
    "    \n",
    "    a = (pd.DataFrame([early60[i]['y_pred'], y_test]).transpose())\n",
    "    a.columns = ['pred', 'truth']\n",
    "    print(a)\n",
    "    print()\n",
    "    "
   ]
  },
  {
   "cell_type": "code",
   "execution_count": 34,
   "id": "a0cc9911",
   "metadata": {
    "ExecuteTime": {
     "end_time": "2022-02-27T14:17:59.526207Z",
     "start_time": "2022-02-27T14:17:59.250569Z"
    }
   },
   "outputs": [
    {
     "name": "stdout",
     "output_type": "stream",
     "text": [
      "precision -1\n",
      "   pred  truth\n",
      "0     1      1\n",
      "1     0      1\n",
      "2     1      1\n",
      "3     1      1\n",
      "\n",
      "precision 1.0\n",
      "   pred  truth\n",
      "0     1      1\n",
      "1     1      1\n",
      "2     0      0\n",
      "\n",
      "precision -1\n",
      "   pred  truth\n",
      "0     1      1\n",
      "1     1      1\n",
      "\n",
      "precision -1\n",
      "   pred  truth\n",
      "0     1      1\n",
      "1     1      1\n",
      "2     1      1\n",
      "3     1      1\n",
      "\n",
      "precision -1\n",
      "   pred  truth\n",
      "0     1      1\n",
      "\n",
      "precision -1\n",
      "   pred  truth\n",
      "0     1      1\n",
      "1     1      1\n",
      "\n",
      "precision 1.0\n",
      "   pred  truth\n",
      "0     1      1\n",
      "1     1      1\n",
      "2     1      1\n",
      "3     1      0\n",
      "\n",
      "precision -1\n",
      "   pred  truth\n",
      "0     1      1\n",
      "1     1      1\n",
      "\n",
      "precision -1\n",
      "   pred  truth\n",
      "0     1      1\n",
      "1     1      1\n",
      "\n",
      "precision -1\n",
      "   pred  truth\n",
      "0     1      1\n",
      "1     1      1\n",
      "\n"
     ]
    }
   ],
   "source": [
    "path90 = '/Users/cock/kDrive/PhD/Projects/Labs/beerslaw-lab/experiments/early-capacitor-lab/no-seed-search/binary_edm2021/2classes/lstm/raw_full/2022_02_25_1/results/early_nested_xval_mlstm_l90.pkl'\n",
    "\n",
    "with open(path90, 'rb') as fp:\n",
    "    early90 = pickle.load(fp)\n",
    "id_indices = early90['id_indices']\n",
    "\n",
    "for i in range(10):\n",
    "    indexes = [id_indices.index(idx) for idx in early90[i]['longenough_test_indices']]\n",
    "    y_test = [early90['y'][yy] for yy in indexes]\n",
    "    \n",
    "    a = (pd.DataFrame([early90[i]['y_pred'], y_test]).transpose())\n",
    "    a.columns = ['pred', 'truth']\n",
    "    print('precision', early90[i]['roc'])\n",
    "    print(a)\n",
    "    print()\n",
    "    "
   ]
  },
  {
   "cell_type": "code",
   "execution_count": 32,
   "id": "b6947300",
   "metadata": {
    "ExecuteTime": {
     "end_time": "2022-02-27T14:17:20.071034Z",
     "start_time": "2022-02-27T14:17:20.067724Z"
    }
   },
   "outputs": [
    {
     "data": {
      "text/plain": [
       "dict_keys(['train_index', 'train_indices', 'test_index', 'test_indices', 'longenough_train_indices', 'tooshort_train', 'tooshort_trainindices', 'longenough_test_indices', 'tooshort_test', 'tooshort_testindices', 'x_resampled', 'y_resampled', 'oversample_indexes', 'oversample_indices', 'y_pred', 'y_proba', 'accuracy', 'balanced_accuracy', 'precision', 'recall', 'roc', 'carry_on_scores', 'best_params', 'best_estimator', 'gridsearch_object'])"
      ]
     },
     "execution_count": 32,
     "metadata": {},
     "output_type": "execute_result"
    }
   ],
   "source": [
    "path90 = '/Users/cock/kDrive/PhD/Projects/Labs/beerslaw-lab/experiments/early-capacitor-lab/no-seed-search/binary_edm2021/2classes/lstm/raw_full/2022_02_25_1/results/early_nested_xval_mlstm_l90.pkl'\n",
    "\n",
    "with open(path90, 'rb') as fp:\n",
    "    early90 = pickle.load(fp)\n",
    "id_indices = early90['id_indices']\n",
    "\n",
    "for i in range(10):\n",
    "    indexes = [id_indices.index(idx) for idx in early90[i]['longenough_test_indices']]\n",
    "    y_test = [early90['y'][yy] for yy in indexes]\n",
    "    \n",
    "    a = (pd.DataFrame([early90[i]['y_pred'], y_test]).transpose())\n",
    "    a.columns = ['pred', 'truth']\n",
    "    print('precision', early90[i]['roc'])\n",
    "    print(a)\n",
    "    print()\n",
    "    "
   ]
  },
  {
   "cell_type": "code",
   "execution_count": null,
   "id": "c0892f62",
   "metadata": {},
   "outputs": [],
   "source": []
  },
  {
   "cell_type": "code",
   "execution_count": null,
   "id": "80cb93f9",
   "metadata": {},
   "outputs": [],
   "source": []
  },
  {
   "cell_type": "code",
   "execution_count": null,
   "id": "176496e0",
   "metadata": {},
   "outputs": [],
   "source": []
  },
  {
   "cell_type": "code",
   "execution_count": null,
   "id": "e98248f0",
   "metadata": {},
   "outputs": [],
   "source": []
  },
  {
   "cell_type": "code",
   "execution_count": null,
   "id": "17636c41",
   "metadata": {},
   "outputs": [],
   "source": []
  },
  {
   "cell_type": "code",
   "execution_count": null,
   "id": "63bf935b",
   "metadata": {},
   "outputs": [],
   "source": []
  },
  {
   "cell_type": "code",
   "execution_count": null,
   "id": "c57fc906",
   "metadata": {},
   "outputs": [],
   "source": []
  },
  {
   "cell_type": "code",
   "execution_count": null,
   "id": "574fd2b2",
   "metadata": {},
   "outputs": [],
   "source": []
  },
  {
   "cell_type": "code",
   "execution_count": null,
   "id": "f336aa10",
   "metadata": {},
   "outputs": [],
   "source": []
  },
  {
   "cell_type": "code",
   "execution_count": null,
   "id": "75c1fd6b",
   "metadata": {},
   "outputs": [],
   "source": []
  },
  {
   "cell_type": "code",
   "execution_count": null,
   "id": "b2fadb91",
   "metadata": {},
   "outputs": [],
   "source": []
  },
  {
   "cell_type": "code",
   "execution_count": null,
   "id": "f8898a04",
   "metadata": {},
   "outputs": [],
   "source": []
  },
  {
   "cell_type": "code",
   "execution_count": null,
   "id": "1b604446",
   "metadata": {},
   "outputs": [],
   "source": []
  },
  {
   "cell_type": "code",
   "execution_count": null,
   "id": "5490af7e",
   "metadata": {},
   "outputs": [],
   "source": []
  },
  {
   "cell_type": "code",
   "execution_count": null,
   "id": "febbc92b",
   "metadata": {},
   "outputs": [],
   "source": []
  },
  {
   "cell_type": "code",
   "execution_count": null,
   "id": "41d50b9a",
   "metadata": {},
   "outputs": [],
   "source": []
  },
  {
   "cell_type": "code",
   "execution_count": null,
   "id": "ac1bdf8b",
   "metadata": {},
   "outputs": [],
   "source": []
  },
  {
   "cell_type": "code",
   "execution_count": null,
   "id": "6bee0b42",
   "metadata": {},
   "outputs": [],
   "source": []
  },
  {
   "cell_type": "code",
   "execution_count": null,
   "id": "e2ee6aa8",
   "metadata": {},
   "outputs": [],
   "source": []
  }
 ],
 "metadata": {
  "kernelspec": {
   "display_name": "Python 3 (ipykernel)",
   "language": "python",
   "name": "python3"
  },
  "language_info": {
   "codemirror_mode": {
    "name": "ipython",
    "version": 3
   },
   "file_extension": ".py",
   "mimetype": "text/x-python",
   "name": "python",
   "nbconvert_exporter": "python",
   "pygments_lexer": "ipython3",
   "version": "3.8.12"
  },
  "toc": {
   "base_numbering": 1,
   "nav_menu": {},
   "number_sections": true,
   "sideBar": true,
   "skip_h1_title": false,
   "title_cell": "Table of Contents",
   "title_sidebar": "Contents",
   "toc_cell": false,
   "toc_position": {},
   "toc_section_display": true,
   "toc_window_display": false
  }
 },
 "nbformat": 4,
 "nbformat_minor": 5
}
