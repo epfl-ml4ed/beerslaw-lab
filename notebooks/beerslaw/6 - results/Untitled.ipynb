{
 "cells": [
  {
   "cell_type": "markdown",
   "id": "07221f6e",
   "metadata": {},
   "source": [
    "This notebook is a template to plot the probability distribution"
   ]
  },
  {
   "cell_type": "code",
   "execution_count": 1,
   "id": "91335159",
   "metadata": {
    "ExecuteTime": {
     "end_time": "2021-12-27T12:10:00.120117Z",
     "start_time": "2021-12-27T12:09:59.326212Z"
    }
   },
   "outputs": [],
   "source": [
    "import os\n",
    "import yaml\n",
    "import pickle\n",
    "\n",
    "import seaborn as sns\n",
    "from matplotlib import pyplot as plt\n",
    "\n",
    "%load_ext autoreload"
   ]
  },
  {
   "cell_type": "code",
   "execution_count": 2,
   "id": "1104d460",
   "metadata": {
    "ExecuteTime": {
     "end_time": "2021-12-27T12:10:00.128954Z",
     "start_time": "2021-12-27T12:10:00.125170Z"
    }
   },
   "outputs": [
    {
     "name": "stdout",
     "output_type": "stream",
     "text": [
      "/Users/cock/kDrive/PhD/Projects/Labs/beerslaw-lab/src\n"
     ]
    }
   ],
   "source": [
    "cd ../../src"
   ]
  },
  {
   "cell_type": "code",
   "execution_count": 36,
   "id": "e2d102f4",
   "metadata": {
    "ExecuteTime": {
     "end_time": "2021-12-27T12:43:22.818672Z",
     "start_time": "2021-12-27T12:43:22.815866Z"
    }
   },
   "outputs": [],
   "source": [
    "results_path = '../experiments/incremental/third round/stateaction_secondslstm/binconcepts/lstm/raw_full/2021_12_20_1/'\n",
    "results_file = 'results/nested_xval_mlstm_l900.pkl'\n",
    "gs_file = 'gridsearch results/supgs_l900_f0.pkl'"
   ]
  },
  {
   "cell_type": "code",
   "execution_count": 37,
   "id": "897724b8",
   "metadata": {
    "ExecuteTime": {
     "end_time": "2021-12-27T12:43:23.330154Z",
     "start_time": "2021-12-27T12:43:23.225043Z"
    }
   },
   "outputs": [],
   "source": [
    "with open(results_path + results_file, 'rb') as fp:\n",
    "    results = pickle.load(fp)\n",
    "    \n",
    "with open(results_path + gs_file, 'rb') as fp:\n",
    "    gs = pickle.load(fp)"
   ]
  },
  {
   "cell_type": "code",
   "execution_count": null,
   "id": "0f3647a4",
   "metadata": {},
   "outputs": [],
   "source": []
  },
  {
   "cell_type": "code",
   "execution_count": 5,
   "id": "b8df3a8e",
   "metadata": {
    "ExecuteTime": {
     "end_time": "2021-12-27T12:10:03.640869Z",
     "start_time": "2021-12-27T12:10:03.635772Z"
    }
   },
   "outputs": [
    {
     "data": {
      "text/plain": [
       "dict_keys(['train_index', 'train_indices', 'test_index', 'test_indices', 'x_resampled', 'y_resampled', 'y_pred', 'y_proba', 'accuracy', 'balanced_accuracy', 'precision', 'recall', 'roc', 'best_params', 'best_estimator', 'gridsearch_object'])"
      ]
     },
     "execution_count": 5,
     "metadata": {},
     "output_type": "execute_result"
    }
   ],
   "source": [
    "results[0].keys()"
   ]
  },
  {
   "cell_type": "code",
   "execution_count": 19,
   "id": "1cea9cd1",
   "metadata": {
    "ExecuteTime": {
     "end_time": "2021-12-27T09:52:26.982217Z",
     "start_time": "2021-12-27T09:52:26.711380Z"
    }
   },
   "outputs": [
    {
     "ename": "AttributeError",
     "evalue": "'SupervisedGridSearch' object has no attribute 'keys'",
     "output_type": "error",
     "traceback": [
      "\u001b[0;31m---------------------------------------------------------------------------\u001b[0m",
      "\u001b[0;31mAttributeError\u001b[0m                            Traceback (most recent call last)",
      "\u001b[0;32m/var/folders/jy/0pp1md9x1358dt8g8k69srhr0000gp/T/ipykernel_1192/2504598521.py\u001b[0m in \u001b[0;36m<module>\u001b[0;34m\u001b[0m\n\u001b[0;32m----> 1\u001b[0;31m \u001b[0mgs\u001b[0m\u001b[0;34m.\u001b[0m\u001b[0mkeys\u001b[0m\u001b[0;34m(\u001b[0m\u001b[0;34m)\u001b[0m\u001b[0;34m\u001b[0m\u001b[0;34m\u001b[0m\u001b[0m\n\u001b[0m",
      "\u001b[0;31mAttributeError\u001b[0m: 'SupervisedGridSearch' object has no attribute 'keys'"
     ]
    }
   ],
   "source": [
    "gs.keys()"
   ]
  },
  {
   "cell_type": "code",
   "execution_count": 6,
   "id": "adcea51f",
   "metadata": {
    "ExecuteTime": {
     "end_time": "2021-12-27T12:10:04.437400Z",
     "start_time": "2021-12-27T12:10:04.434510Z"
    }
   },
   "outputs": [],
   "source": [
    "import pandas as pd"
   ]
  },
  {
   "cell_type": "code",
   "execution_count": 7,
   "id": "6658cde6",
   "metadata": {
    "ExecuteTime": {
     "end_time": "2021-12-27T12:10:04.790610Z",
     "start_time": "2021-12-27T12:10:04.787140Z"
    }
   },
   "outputs": [],
   "source": [
    "test= pd.DataFrame([[0, 1, 2], [1, 2, {1:[3, 4], 2:[4, 5]}]])"
   ]
  },
  {
   "cell_type": "code",
   "execution_count": 8,
   "id": "7beaedb6",
   "metadata": {
    "ExecuteTime": {
     "end_time": "2021-12-27T12:10:05.222769Z",
     "start_time": "2021-12-27T12:10:05.215351Z"
    }
   },
   "outputs": [
    {
     "data": {
      "text/html": [
       "<div>\n",
       "<style scoped>\n",
       "    .dataframe tbody tr th:only-of-type {\n",
       "        vertical-align: middle;\n",
       "    }\n",
       "\n",
       "    .dataframe tbody tr th {\n",
       "        vertical-align: top;\n",
       "    }\n",
       "\n",
       "    .dataframe thead th {\n",
       "        text-align: right;\n",
       "    }\n",
       "</style>\n",
       "<table border=\"1\" class=\"dataframe\">\n",
       "  <thead>\n",
       "    <tr style=\"text-align: right;\">\n",
       "      <th></th>\n",
       "      <th>0</th>\n",
       "      <th>1</th>\n",
       "      <th>2</th>\n",
       "    </tr>\n",
       "  </thead>\n",
       "  <tbody>\n",
       "    <tr>\n",
       "      <th>0</th>\n",
       "      <td>0</td>\n",
       "      <td>1</td>\n",
       "      <td>2</td>\n",
       "    </tr>\n",
       "    <tr>\n",
       "      <th>1</th>\n",
       "      <td>1</td>\n",
       "      <td>2</td>\n",
       "      <td>{1: [3, 4], 2: [4, 5]}</td>\n",
       "    </tr>\n",
       "  </tbody>\n",
       "</table>\n",
       "</div>"
      ],
      "text/plain": [
       "   0  1                       2\n",
       "0  0  1                       2\n",
       "1  1  2  {1: [3, 4], 2: [4, 5]}"
      ]
     },
     "execution_count": 8,
     "metadata": {},
     "output_type": "execute_result"
    }
   ],
   "source": [
    "test"
   ]
  },
  {
   "cell_type": "code",
   "execution_count": 9,
   "id": "6352d1bb",
   "metadata": {
    "ExecuteTime": {
     "end_time": "2021-12-27T12:10:05.986648Z",
     "start_time": "2021-12-27T12:10:05.981797Z"
    }
   },
   "outputs": [
    {
     "data": {
      "text/plain": [
       "[4, 5]"
      ]
     },
     "execution_count": 9,
     "metadata": {},
     "output_type": "execute_result"
    }
   ],
   "source": [
    "test.iloc[1][2][2]"
   ]
  },
  {
   "cell_type": "code",
   "execution_count": 38,
   "id": "0586cb9a",
   "metadata": {
    "ExecuteTime": {
     "end_time": "2021-12-27T12:43:33.368410Z",
     "start_time": "2021-12-27T12:43:33.365246Z"
    }
   },
   "outputs": [],
   "source": [
    "path = '../experiments/test_plot/stateaction_secondslstm_12/binconcepts/lstm/raw_full/2021_12_27_12/gridsearch results/supgs_l900_f0.pkl'"
   ]
  },
  {
   "cell_type": "code",
   "execution_count": null,
   "id": "09426c0d",
   "metadata": {},
   "outputs": [],
   "source": []
  },
  {
   "cell_type": "code",
   "execution_count": 39,
   "id": "f7dc892a",
   "metadata": {
    "ExecuteTime": {
     "end_time": "2021-12-27T12:43:33.677797Z",
     "start_time": "2021-12-27T12:43:33.674259Z"
    }
   },
   "outputs": [],
   "source": [
    "with open(path, 'rb') as fp:\n",
    "    gs=pickle.load(fp)"
   ]
  },
  {
   "cell_type": "code",
   "execution_count": 40,
   "id": "313e5701",
   "metadata": {
    "ExecuteTime": {
     "end_time": "2021-12-27T12:44:08.089727Z",
     "start_time": "2021-12-27T12:44:08.086447Z"
    }
   },
   "outputs": [],
   "source": [
    "path = '../experiments/test_plot/stateaction_secondslstm_12/binconcepts/lstm/raw_full/2021_12_27_12/results/nested_xval_mlstm_l900.pkl'"
   ]
  },
  {
   "cell_type": "code",
   "execution_count": 41,
   "id": "4ec40f72",
   "metadata": {
    "ExecuteTime": {
     "end_time": "2021-12-27T12:44:25.248326Z",
     "start_time": "2021-12-27T12:44:25.013162Z"
    }
   },
   "outputs": [],
   "source": [
    "with open(path, 'rb') as fp:\n",
    "    results = pickle.load(fp)"
   ]
  },
  {
   "cell_type": "code",
   "execution_count": 42,
   "id": "89f67b19",
   "metadata": {
    "ExecuteTime": {
     "end_time": "2021-12-27T12:44:28.985681Z",
     "start_time": "2021-12-27T12:44:28.981397Z"
    }
   },
   "outputs": [
    {
     "data": {
      "text/plain": [
       "dict_keys(['x', 'y', 'indices', 'optim_scoring', 0])"
      ]
     },
     "execution_count": 42,
     "metadata": {},
     "output_type": "execute_result"
    }
   ],
   "source": [
    "results.keys()"
   ]
  },
  {
   "cell_type": "code",
   "execution_count": 43,
   "id": "f0c5dc6c",
   "metadata": {
    "ExecuteTime": {
     "end_time": "2021-12-27T12:44:44.711975Z",
     "start_time": "2021-12-27T12:44:44.708359Z"
    }
   },
   "outputs": [
    {
     "data": {
      "text/plain": [
       "dict_keys(['train_index', 'train_indices', 'test_index', 'test_indices', 'oversample_indexes', 'oversample_indices', 'x_resampled', 'y_resampled', 'y_pred', 'y_proba', 'accuracy', 'balanced_accuracy', 'precision', 'recall', 'roc', 'best_params', 'best_estimator', 'gridsearch_object'])"
      ]
     },
     "execution_count": 43,
     "metadata": {},
     "output_type": "execute_result"
    }
   ],
   "source": [
    "results[0].keys()"
   ]
  },
  {
   "cell_type": "code",
   "execution_count": 70,
   "id": "f2645629",
   "metadata": {
    "ExecuteTime": {
     "end_time": "2021-12-27T13:01:45.597811Z",
     "start_time": "2021-12-27T13:01:45.593765Z"
    }
   },
   "outputs": [
    {
     "data": {
      "text/plain": [
       "0"
      ]
     },
     "execution_count": 70,
     "metadata": {},
     "output_type": "execute_result"
    }
   ],
   "source": [
    "results['indices'].index(0)"
   ]
  },
  {
   "cell_type": "code",
   "execution_count": null,
   "id": "a38c3afc",
   "metadata": {},
   "outputs": [],
   "source": []
  },
  {
   "cell_type": "code",
   "execution_count": null,
   "id": "842e42d3",
   "metadata": {},
   "outputs": [],
   "source": []
  },
  {
   "cell_type": "code",
   "execution_count": null,
   "id": "274be81c",
   "metadata": {},
   "outputs": [],
   "source": []
  },
  {
   "cell_type": "code",
   "execution_count": 45,
   "id": "da0ac4eb",
   "metadata": {
    "ExecuteTime": {
     "end_time": "2021-12-27T12:45:07.953849Z",
     "start_time": "2021-12-27T12:45:07.949253Z"
    }
   },
   "outputs": [
    {
     "data": {
      "text/plain": [
       "array([  0,   1,   2,   3,   4,   5,   6,   7,   8,   9,  10,  11,  12,\n",
       "        13,  14,  15,  16,  17,  18,  19,  20,  21,  22,  23,  24,  25,\n",
       "        26,  27,  28,  29,  30,  31,  32,  33,  34,  35,  36,  37,  38,\n",
       "        39,  40,  41,  42,  43,  44,  45,  46,  47,  48,  49,  50,  51,\n",
       "        52,  53,  54,  55,  56,  57,  58,  59,  60,  61,  62,  63,  64,\n",
       "        65,  66,  67,  68,  69,  70,  71,  72,  73,  74,  75,  76,  77,\n",
       "        78,  79,  80,  81,  82,  83,  84,  85,  86,  87,  88,  89,  90,\n",
       "        91,  92,  93,  94,  95,  96,  97,  98,  99, 100, 101, 102, 103,\n",
       "       104, 105, 106, 107, 108, 109, 110, 111, 112, 113, 114, 115, 116,\n",
       "       117, 118, 119, 120, 121, 122, 123, 124, 125, 126, 127, 128, 129,\n",
       "       130, 131, 132, 133, 134, 135, 136, 137, 138, 139, 140, 141, 142,\n",
       "       143, 144, 108, 113, 125,   0,   5, 140,   5,  95,  13,  40,  43,\n",
       "       122,  92,  48,   9,  49,  49,  25, 139])"
      ]
     },
     "execution_count": 45,
     "metadata": {},
     "output_type": "execute_result"
    }
   ],
   "source": [
    "results[0]['oversample_indexes']"
   ]
  },
  {
   "cell_type": "code",
   "execution_count": 65,
   "id": "38885cb5",
   "metadata": {
    "ExecuteTime": {
     "end_time": "2021-12-27T12:49:31.245373Z",
     "start_time": "2021-12-27T12:49:31.241402Z"
    }
   },
   "outputs": [
    {
     "data": {
      "text/plain": [
       "200"
      ]
     },
     "execution_count": 65,
     "metadata": {},
     "output_type": "execute_result"
    }
   ],
   "source": [
    "results[0]['oversample_indices'][139]"
   ]
  },
  {
   "cell_type": "code",
   "execution_count": 66,
   "id": "39e71fac",
   "metadata": {
    "ExecuteTime": {
     "end_time": "2021-12-27T12:49:36.798144Z",
     "start_time": "2021-12-27T12:49:36.794369Z"
    }
   },
   "outputs": [
    {
     "data": {
      "text/plain": [
       "200"
      ]
     },
     "execution_count": 66,
     "metadata": {},
     "output_type": "execute_result"
    }
   ],
   "source": [
    "results[0]['oversample_indices'][163]"
   ]
  },
  {
   "cell_type": "code",
   "execution_count": 60,
   "id": "48fb5cfd",
   "metadata": {
    "ExecuteTime": {
     "end_time": "2021-12-27T12:48:24.232193Z",
     "start_time": "2021-12-27T12:48:24.227849Z"
    }
   },
   "outputs": [
    {
     "data": {
      "text/plain": [
       "(array([139, 163]),)"
      ]
     },
     "execution_count": 60,
     "metadata": {},
     "output_type": "execute_result"
    }
   ],
   "source": [
    "np.where(results[0]['oversample_indexes']==139)"
   ]
  },
  {
   "cell_type": "code",
   "execution_count": 61,
   "id": "6b5b0897",
   "metadata": {
    "ExecuteTime": {
     "end_time": "2021-12-27T12:48:32.238956Z",
     "start_time": "2021-12-27T12:48:32.234153Z"
    }
   },
   "outputs": [
    {
     "data": {
      "text/plain": [
       "0.9120498646929498"
      ]
     },
     "execution_count": 61,
     "metadata": {},
     "output_type": "execute_result"
    }
   ],
   "source": [
    "np.mean(results[0]['x_resampled'][163])"
   ]
  },
  {
   "cell_type": "code",
   "execution_count": 62,
   "id": "1b5a43ad",
   "metadata": {
    "ExecuteTime": {
     "end_time": "2021-12-27T12:48:38.653116Z",
     "start_time": "2021-12-27T12:48:38.647777Z"
    }
   },
   "outputs": [
    {
     "data": {
      "text/plain": [
       "0.9120498646929498"
      ]
     },
     "execution_count": 62,
     "metadata": {},
     "output_type": "execute_result"
    }
   ],
   "source": [
    "np.mean(results[0]['x_resampled'][139])"
   ]
  },
  {
   "cell_type": "code",
   "execution_count": 67,
   "id": "0bfa36f2",
   "metadata": {
    "ExecuteTime": {
     "end_time": "2021-12-27T12:49:49.605941Z",
     "start_time": "2021-12-27T12:49:49.601286Z"
    }
   },
   "outputs": [
    {
     "data": {
      "text/plain": [
       "0.9120498646929498"
      ]
     },
     "execution_count": 67,
     "metadata": {},
     "output_type": "execute_result"
    }
   ],
   "source": [
    "np.mean(results['x'][200])"
   ]
  },
  {
   "cell_type": "code",
   "execution_count": null,
   "id": "6fd011d9",
   "metadata": {},
   "outputs": [],
   "source": []
  },
  {
   "cell_type": "code",
   "execution_count": null,
   "id": "7b49c3ee",
   "metadata": {},
   "outputs": [],
   "source": []
  },
  {
   "cell_type": "code",
   "execution_count": 50,
   "id": "da3270a3",
   "metadata": {
    "ExecuteTime": {
     "end_time": "2021-12-27T12:46:03.227755Z",
     "start_time": "2021-12-27T12:46:03.223074Z"
    }
   },
   "outputs": [
    {
     "data": {
      "text/plain": [
       "0.9120498646929498"
      ]
     },
     "execution_count": 50,
     "metadata": {},
     "output_type": "execute_result"
    }
   ],
   "source": [
    "np.mean(results[0]['x_resampled'][-1])"
   ]
  },
  {
   "cell_type": "code",
   "execution_count": 56,
   "id": "50df0c72",
   "metadata": {
    "ExecuteTime": {
     "end_time": "2021-12-27T12:47:11.806000Z",
     "start_time": "2021-12-27T12:47:11.802275Z"
    }
   },
   "outputs": [
    {
     "data": {
      "text/plain": [
       "139"
      ]
     },
     "execution_count": 56,
     "metadata": {},
     "output_type": "execute_result"
    }
   ],
   "source": [
    "results['indices'].index(139)"
   ]
  },
  {
   "cell_type": "code",
   "execution_count": null,
   "id": "d43bad5e",
   "metadata": {},
   "outputs": [],
   "source": []
  },
  {
   "cell_type": "code",
   "execution_count": null,
   "id": "063edb84",
   "metadata": {},
   "outputs": [],
   "source": []
  },
  {
   "cell_type": "code",
   "execution_count": 54,
   "id": "83eaf30d",
   "metadata": {
    "ExecuteTime": {
     "end_time": "2021-12-27T12:46:40.901649Z",
     "start_time": "2021-12-27T12:46:40.888701Z"
    }
   },
   "outputs": [
    {
     "ename": "KeyError",
     "evalue": "'x_train'",
     "output_type": "error",
     "traceback": [
      "\u001b[0;31m---------------------------------------------------------------------------\u001b[0m",
      "\u001b[0;31mKeyError\u001b[0m                                  Traceback (most recent call last)",
      "\u001b[0;32m/var/folders/jy/0pp1md9x1358dt8g8k69srhr0000gp/T/ipykernel_3245/1195478097.py\u001b[0m in \u001b[0;36m<module>\u001b[0;34m\u001b[0m\n\u001b[0;32m----> 1\u001b[0;31m \u001b[0mnp\u001b[0m\u001b[0;34m.\u001b[0m\u001b[0mmean\u001b[0m\u001b[0;34m(\u001b[0m\u001b[0mresults\u001b[0m\u001b[0;34m[\u001b[0m\u001b[0;36m0\u001b[0m\u001b[0;34m]\u001b[0m\u001b[0;34m[\u001b[0m\u001b[0;34m'x_train'\u001b[0m\u001b[0;34m]\u001b[0m\u001b[0;34m[\u001b[0m\u001b[0;36m0\u001b[0m\u001b[0;34m]\u001b[0m\u001b[0;34m)\u001b[0m\u001b[0;34m\u001b[0m\u001b[0;34m\u001b[0m\u001b[0m\n\u001b[0m",
      "\u001b[0;31mKeyError\u001b[0m: 'x_train'"
     ]
    }
   ],
   "source": [
    "np.mean(results[0]['x_train'][0])"
   ]
  },
  {
   "cell_type": "code",
   "execution_count": null,
   "id": "9fa4696e",
   "metadata": {},
   "outputs": [],
   "source": []
  },
  {
   "cell_type": "code",
   "execution_count": null,
   "id": "6f86ba8a",
   "metadata": {},
   "outputs": [],
   "source": []
  },
  {
   "cell_type": "code",
   "execution_count": null,
   "id": "29d565a1",
   "metadata": {},
   "outputs": [],
   "source": []
  },
  {
   "cell_type": "code",
   "execution_count": null,
   "id": "cf22102b",
   "metadata": {},
   "outputs": [],
   "source": []
  },
  {
   "cell_type": "code",
   "execution_count": null,
   "id": "5fb0f4b9",
   "metadata": {},
   "outputs": [],
   "source": []
  },
  {
   "cell_type": "code",
   "execution_count": 70,
   "id": "e3c7c19f",
   "metadata": {
    "ExecuteTime": {
     "end_time": "2021-12-27T12:08:28.074448Z",
     "start_time": "2021-12-27T12:08:28.071676Z"
    }
   },
   "outputs": [],
   "source": [
    "%autoreload 2"
   ]
  },
  {
   "cell_type": "code",
   "execution_count": 12,
   "id": "19f717f5",
   "metadata": {
    "ExecuteTime": {
     "end_time": "2021-12-27T12:10:09.516528Z",
     "start_time": "2021-12-27T12:10:09.507383Z"
    }
   },
   "outputs": [
    {
     "data": {
      "text/plain": [
       "{0: {'batch_size': 64,\n",
       "  'cell_type': 'LSTM',\n",
       "  'dropout': 0.2,\n",
       "  'early_stopping': False,\n",
       "  'epochs': 1,\n",
       "  'loss': 'auc',\n",
       "  'n_cells': [4],\n",
       "  'n_layers': 1,\n",
       "  'optimiser': 'adam',\n",
       "  'padding_value': -1,\n",
       "  'shuffle': True,\n",
       "  'verbose': 1,\n",
       "  'fold_scores': [0.7678571428571428,\n",
       "   0.625,\n",
       "   0.8214285714285714,\n",
       "   0.48148148148148145,\n",
       "   0.25925925925925924,\n",
       "   0.5208333333333333,\n",
       "   0.31250000000000006,\n",
       "   0.4791666666666667,\n",
       "   0.27083333333333337,\n",
       "   0.6458333333333334],\n",
       "  'mean_score': 0.5184193121693121,\n",
       "  'std_score': 0.18852165192905493,\n",
       "  'fold_indices': {0: {'train': array([  0,   1,   2,   3,   5,   6,   8,   9,  10,  11,  12,  13,  14,\n",
       "            15,  16,  17,  18,  19,  20,  21,  22,  23,  24,  25,  26,  27,\n",
       "            28,  29,  30,  31,  32,  34,  36,  37,  38,  39,  40,  41,  43,\n",
       "            44,  46,  47,  48,  49,  50,  51,  52,  53,  54,  55,  57,  58,\n",
       "            59,  60,  61,  62,  63,  64,  65,  66,  67,  68,  69,  70,  72,\n",
       "            73,  75,  76,  77,  78,  79,  80,  81,  82,  83,  84,  85,  86,\n",
       "            87,  88,  89,  90,  91,  92,  93,  94,  95,  96,  97,  98,  99,\n",
       "           100, 101, 102, 103, 104, 105, 107, 109, 110, 111, 113, 114, 115,\n",
       "           116, 117, 118, 119, 120, 121, 122, 123, 124, 125, 126, 127, 131,\n",
       "           132, 133, 134, 135, 136, 137, 138, 139, 140, 141, 142, 143, 144]),\n",
       "    'validation': array([  4,   7,  33,  35,  42,  45,  56,  71,  74, 106, 108, 112, 128,\n",
       "           129, 130])},\n",
       "   1: {'train': array([  0,   1,   2,   3,   4,   5,   6,   7,   8,   9,  10,  12,  13,\n",
       "            14,  15,  16,  17,  18,  19,  20,  22,  24,  25,  26,  27,  28,\n",
       "            29,  31,  32,  33,  34,  35,  36,  37,  38,  39,  41,  42,  43,\n",
       "            45,  46,  47,  48,  49,  50,  51,  52,  53,  55,  56,  57,  58,\n",
       "            59,  60,  61,  63,  64,  65,  66,  67,  68,  69,  71,  72,  73,\n",
       "            74,  75,  76,  77,  78,  79,  80,  81,  82,  83,  84,  85,  86,\n",
       "            87,  88,  89,  90,  92,  94,  95,  96,  97,  98,  99, 100, 101,\n",
       "           102, 103, 104, 105, 106, 108, 109, 111, 112, 113, 114, 115, 116,\n",
       "           117, 118, 119, 120, 121, 122, 123, 125, 126, 127, 128, 129, 130,\n",
       "           131, 132, 133, 134, 135, 137, 138, 139, 140, 141, 142, 143, 144]),\n",
       "    'validation': array([ 11,  21,  23,  30,  40,  44,  54,  62,  70,  91,  93, 107, 110,\n",
       "           124, 136])},\n",
       "   2: {'train': array([  0,   1,   2,   3,   4,   5,   6,   7,   8,  11,  12,  13,  14,\n",
       "            16,  17,  18,  20,  21,  22,  23,  24,  25,  26,  27,  28,  29,\n",
       "            30,  31,  32,  33,  34,  35,  36,  38,  39,  40,  41,  42,  43,\n",
       "            44,  45,  46,  47,  48,  50,  51,  52,  53,  54,  55,  56,  57,\n",
       "            58,  59,  60,  62,  63,  64,  65,  66,  67,  68,  69,  70,  71,\n",
       "            72,  73,  74,  75,  76,  78,  79,  80,  81,  82,  83,  84,  85,\n",
       "            86,  88,  89,  90,  91,  92,  93,  94,  95,  97,  98,  99, 100,\n",
       "           101, 102, 104, 105, 106, 107, 108, 109, 110, 111, 112, 113, 114,\n",
       "           115, 116, 117, 118, 120, 121, 122, 123, 124, 125, 126, 127, 128,\n",
       "           129, 130, 132, 133, 135, 136, 137, 138, 139, 141, 142, 143, 144]),\n",
       "    'validation': array([  9,  10,  15,  19,  37,  49,  61,  77,  87,  96, 103, 119, 131,\n",
       "           134, 140])},\n",
       "   3: {'train': array([  0,   1,   2,   3,   4,   5,   7,   8,   9,  10,  11,  13,  14,\n",
       "            15,  17,  18,  19,  20,  21,  22,  23,  24,  25,  26,  27,  28,\n",
       "            29,  30,  31,  32,  33,  35,  36,  37,  38,  39,  40,  41,  42,\n",
       "            43,  44,  45,  46,  48,  49,  50,  51,  52,  53,  54,  55,  56,\n",
       "            57,  60,  61,  62,  63,  64,  65,  66,  67,  68,  69,  70,  71,\n",
       "            72,  73,  74,  75,  76,  77,  78,  79,  81,  83,  87,  88,  89,\n",
       "            90,  91,  92,  93,  94,  95,  96,  97,  98,  99, 100, 101, 102,\n",
       "           103, 104, 105, 106, 107, 108, 109, 110, 112, 113, 114, 115, 116,\n",
       "           117, 118, 119, 120, 121, 123, 124, 126, 127, 128, 129, 130, 131,\n",
       "           132, 133, 134, 135, 136, 137, 138, 139, 140, 141, 142, 143, 144]),\n",
       "    'validation': array([  6,  12,  16,  34,  47,  58,  59,  80,  82,  84,  85,  86, 111,\n",
       "           122, 125])},\n",
       "   4: {'train': array([  0,   1,   2,   3,   4,   5,   6,   7,   8,   9,  10,  11,  12,\n",
       "            13,  14,  15,  16,  17,  18,  19,  20,  21,  22,  23,  24,  25,\n",
       "            26,  27,  29,  30,  31,  32,  33,  34,  35,  36,  37,  39,  40,\n",
       "            41,  42,  43,  44,  45,  46,  47,  48,  49,  50,  51,  52,  54,\n",
       "            55,  56,  57,  58,  59,  61,  62,  63,  64,  65,  68,  69,  70,\n",
       "            71,  72,  73,  74,  75,  76,  77,  78,  80,  82,  83,  84,  85,\n",
       "            86,  87,  88,  89,  90,  91,  92,  93,  95,  96,  97,  98, 101,\n",
       "           102, 103, 104, 105, 106, 107, 108, 109, 110, 111, 112, 113, 114,\n",
       "           115, 116, 118, 119, 120, 121, 122, 123, 124, 125, 126, 127, 128,\n",
       "           129, 130, 131, 132, 133, 134, 136, 137, 139, 140, 142, 143, 144]),\n",
       "    'validation': array([ 28,  38,  53,  60,  66,  67,  79,  81,  94,  99, 100, 117, 135,\n",
       "           138, 141])},\n",
       "   5: {'train': array([  0,   2,   3,   4,   5,   6,   7,   9,  10,  11,  12,  13,  15,\n",
       "            16,  17,  18,  19,  20,  21,  22,  23,  24,  25,  26,  27,  28,\n",
       "            29,  30,  32,  33,  34,  35,  36,  37,  38,  39,  40,  41,  42,\n",
       "            44,  45,  46,  47,  48,  49,  50,  51,  52,  53,  54,  55,  56,\n",
       "            57,  58,  59,  60,  61,  62,  63,  64,  65,  66,  67,  68,  69,\n",
       "            70,  71,  72,  73,  74,  75,  77,  78,  79,  80,  81,  82,  83,\n",
       "            84,  85,  86,  87,  88,  89,  91,  92,  93,  94,  95,  96,  97,\n",
       "            99, 100, 101, 102, 103, 104, 105, 106, 107, 108, 110, 111, 112,\n",
       "           113, 114, 115, 117, 119, 120, 121, 122, 123, 124, 125, 126, 127,\n",
       "           128, 129, 130, 131, 133, 134, 135, 136, 137, 138, 139, 140, 141,\n",
       "           142]),\n",
       "    'validation': array([  1,   8,  14,  31,  43,  76,  90,  98, 109, 116, 118, 132, 143,\n",
       "           144])},\n",
       "   6: {'train': array([  0,   1,   2,   3,   4,   6,   7,   8,   9,  10,  11,  12,  13,\n",
       "            14,  15,  16,  17,  18,  19,  20,  21,  22,  23,  24,  26,  27,\n",
       "            28,  29,  30,  31,  32,  33,  34,  35,  37,  38,  39,  40,  41,\n",
       "            42,  43,  44,  45,  46,  47,  48,  49,  51,  53,  54,  55,  56,\n",
       "            58,  59,  60,  61,  62,  64,  65,  66,  67,  68,  70,  71,  72,\n",
       "            73,  74,  75,  76,  77,  78,  79,  80,  81,  82,  84,  85,  86,\n",
       "            87,  88,  89,  90,  91,  92,  93,  94,  95,  96,  98,  99, 100,\n",
       "           102, 103, 104, 105, 106, 107, 108, 109, 110, 111, 112, 113, 114,\n",
       "           116, 117, 118, 119, 120, 121, 122, 123, 124, 125, 126, 128, 129,\n",
       "           130, 131, 132, 133, 134, 135, 136, 137, 138, 140, 141, 142, 143,\n",
       "           144]),\n",
       "    'validation': array([  5,  25,  36,  50,  52,  57,  63,  69,  83,  97, 101, 115, 127,\n",
       "           139])},\n",
       "   7: {'train': array([  0,   1,   2,   3,   4,   5,   6,   7,   8,   9,  10,  11,  12,\n",
       "            13,  14,  15,  16,  17,  18,  19,  20,  21,  23,  24,  25,  26,\n",
       "            27,  28,  30,  31,  33,  34,  35,  36,  37,  38,  40,  41,  42,\n",
       "            43,  44,  45,  46,  47,  49,  50,  52,  53,  54,  55,  56,  57,\n",
       "            58,  59,  60,  61,  62,  63,  64,  65,  66,  67,  68,  69,  70,\n",
       "            71,  72,  73,  74,  75,  76,  77,  79,  80,  81,  82,  83,  84,\n",
       "            85,  86,  87,  88,  89,  90,  91,  93,  94,  95,  96,  97,  98,\n",
       "            99, 100, 101, 103, 106, 107, 108, 109, 110, 111, 112, 115, 116,\n",
       "           117, 118, 119, 121, 122, 123, 124, 125, 126, 127, 128, 129, 130,\n",
       "           131, 132, 133, 134, 135, 136, 137, 138, 139, 140, 141, 142, 143,\n",
       "           144]),\n",
       "    'validation': array([ 22,  29,  32,  39,  48,  51,  78,  92, 102, 104, 105, 113, 114,\n",
       "           120])},\n",
       "   8: {'train': array([  0,   1,   2,   4,   5,   6,   7,   8,   9,  10,  11,  12,  13,\n",
       "            14,  15,  16,  17,  19,  21,  22,  23,  25,  26,  27,  28,  29,\n",
       "            30,  31,  32,  33,  34,  35,  36,  37,  38,  39,  40,  41,  42,\n",
       "            43,  44,  45,  47,  48,  49,  50,  51,  52,  53,  54,  56,  57,\n",
       "            58,  59,  60,  61,  62,  63,  66,  67,  69,  70,  71,  72,  73,\n",
       "            74,  75,  76,  77,  78,  79,  80,  81,  82,  83,  84,  85,  86,\n",
       "            87,  88,  90,  91,  92,  93,  94,  96,  97,  98,  99, 100, 101,\n",
       "           102, 103, 104, 105, 106, 107, 108, 109, 110, 111, 112, 113, 114,\n",
       "           115, 116, 117, 118, 119, 120, 122, 124, 125, 126, 127, 128, 129,\n",
       "           130, 131, 132, 133, 134, 135, 136, 137, 138, 139, 140, 141, 143,\n",
       "           144]),\n",
       "    'validation': array([  3,  18,  20,  24,  46,  55,  64,  65,  68,  89,  95, 121, 123,\n",
       "           142])},\n",
       "   9: {'train': array([  1,   3,   4,   5,   6,   7,   8,   9,  10,  11,  12,  14,  15,\n",
       "            16,  18,  19,  20,  21,  22,  23,  24,  25,  28,  29,  30,  31,\n",
       "            32,  33,  34,  35,  36,  37,  38,  39,  40,  42,  43,  44,  45,\n",
       "            46,  47,  48,  49,  50,  51,  52,  53,  54,  55,  56,  57,  58,\n",
       "            59,  60,  61,  62,  63,  64,  65,  66,  67,  68,  69,  70,  71,\n",
       "            74,  76,  77,  78,  79,  80,  81,  82,  83,  84,  85,  86,  87,\n",
       "            89,  90,  91,  92,  93,  94,  95,  96,  97,  98,  99, 100, 101,\n",
       "           102, 103, 104, 105, 106, 107, 108, 109, 110, 111, 112, 113, 114,\n",
       "           115, 116, 117, 118, 119, 120, 121, 122, 123, 124, 125, 127, 128,\n",
       "           129, 130, 131, 132, 134, 135, 136, 138, 139, 140, 141, 142, 143,\n",
       "           144]),\n",
       "    'validation': array([  0,   2,  13,  17,  26,  27,  41,  72,  73,  75,  88, 126, 133,\n",
       "           137])}}}}"
      ]
     },
     "execution_count": 12,
     "metadata": {},
     "output_type": "execute_result"
    }
   ],
   "source": [
    "gs.get_results()"
   ]
  },
  {
   "cell_type": "code",
   "execution_count": null,
   "id": "493a0fc9",
   "metadata": {},
   "outputs": [],
   "source": []
  },
  {
   "cell_type": "code",
   "execution_count": 14,
   "id": "c5583157",
   "metadata": {
    "ExecuteTime": {
     "end_time": "2021-12-27T12:11:27.157807Z",
     "start_time": "2021-12-27T12:11:27.155236Z"
    }
   },
   "outputs": [],
   "source": [
    "scores = gs._results"
   ]
  },
  {
   "cell_type": "code",
   "execution_count": 15,
   "id": "f838ba94",
   "metadata": {
    "ExecuteTime": {
     "end_time": "2021-12-27T12:11:27.462689Z",
     "start_time": "2021-12-27T12:11:27.459032Z"
    }
   },
   "outputs": [
    {
     "data": {
      "text/plain": [
       "dict_keys(['batch_size', 'cell_type', 'dropout', 'early_stopping', 'epochs', 'loss', 'n_cells', 'n_layers', 'optimiser', 'padding_value', 'shuffle', 'verbose', 'fold_scores', 'mean_score', 'std_score', 'fold_indices'])"
      ]
     },
     "execution_count": 15,
     "metadata": {},
     "output_type": "execute_result"
    }
   ],
   "source": [
    "scores[0].keys()"
   ]
  },
  {
   "cell_type": "code",
   "execution_count": 71,
   "id": "e9d53970",
   "metadata": {
    "ExecuteTime": {
     "end_time": "2021-12-27T13:08:11.457429Z",
     "start_time": "2021-12-27T13:08:11.453582Z"
    }
   },
   "outputs": [
    {
     "data": {
      "text/plain": [
       "dict_keys([0, 1, 2, 3, 4, 5, 6, 7, 8, 9])"
      ]
     },
     "execution_count": 71,
     "metadata": {},
     "output_type": "execute_result"
    }
   ],
   "source": [
    "scores[0]['fold_indices'].keys()"
   ]
  },
  {
   "cell_type": "code",
   "execution_count": 72,
   "id": "f8de9b82",
   "metadata": {
    "ExecuteTime": {
     "end_time": "2021-12-27T13:08:17.530100Z",
     "start_time": "2021-12-27T13:08:17.525887Z"
    }
   },
   "outputs": [
    {
     "data": {
      "text/plain": [
       "dict_keys(['train', 'validation'])"
      ]
     },
     "execution_count": 72,
     "metadata": {},
     "output_type": "execute_result"
    }
   ],
   "source": [
    "scores[0]['fold_indices'][0].keys()"
   ]
  },
  {
   "cell_type": "code",
   "execution_count": null,
   "id": "838be558",
   "metadata": {},
   "outputs": [],
   "source": []
  },
  {
   "cell_type": "code",
   "execution_count": 18,
   "id": "2b4c575b",
   "metadata": {
    "ExecuteTime": {
     "end_time": "2021-12-27T12:14:19.463894Z",
     "start_time": "2021-12-27T12:14:19.459720Z"
    }
   },
   "outputs": [
    {
     "data": {
      "text/plain": [
       "dict_keys(['train_index', 'train_indices', 'test_index', 'test_indices', 'x_resampled', 'y_resampled', 'y_pred', 'y_proba', 'accuracy', 'balanced_accuracy', 'precision', 'recall', 'roc', 'best_params', 'best_estimator', 'gridsearch_object'])"
      ]
     },
     "execution_count": 18,
     "metadata": {},
     "output_type": "execute_result"
    }
   ],
   "source": [
    "results[0].keys()"
   ]
  },
  {
   "cell_type": "code",
   "execution_count": 24,
   "id": "cd5daa0e",
   "metadata": {
    "ExecuteTime": {
     "end_time": "2021-12-27T12:15:02.326466Z",
     "start_time": "2021-12-27T12:15:02.324084Z"
    }
   },
   "outputs": [],
   "source": [
    "import numpy as np"
   ]
  },
  {
   "cell_type": "code",
   "execution_count": 29,
   "id": "030fcfb7",
   "metadata": {
    "ExecuteTime": {
     "end_time": "2021-12-27T12:15:43.722767Z",
     "start_time": "2021-12-27T12:15:43.700957Z"
    }
   },
   "outputs": [
    {
     "data": {
      "text/plain": [
       "0.7321582763019999"
      ]
     },
     "execution_count": 29,
     "metadata": {},
     "output_type": "execute_result"
    }
   ],
   "source": [
    "np.mean([np.mean(xres) for xres in results[0]['x_resampled']])"
   ]
  },
  {
   "cell_type": "code",
   "execution_count": 32,
   "id": "200f8389",
   "metadata": {
    "ExecuteTime": {
     "end_time": "2021-12-27T12:16:50.683424Z",
     "start_time": "2021-12-27T12:16:50.660858Z"
    }
   },
   "outputs": [
    {
     "data": {
      "text/plain": [
       "0.7321582763019999"
      ]
     },
     "execution_count": 32,
     "metadata": {},
     "output_type": "execute_result"
    }
   ],
   "source": [
    "tempx = [results['x'][idx] for idx in results[0]['train_index']]\n",
    "np.mean([np.mean(xres) for xres in tempx])"
   ]
  },
  {
   "cell_type": "code",
   "execution_count": null,
   "id": "5aee40ce",
   "metadata": {},
   "outputs": [],
   "source": []
  },
  {
   "cell_type": "code",
   "execution_count": null,
   "id": "2f781e36",
   "metadata": {},
   "outputs": [],
   "source": []
  },
  {
   "cell_type": "code",
   "execution_count": null,
   "id": "ed784e2f",
   "metadata": {},
   "outputs": [],
   "source": []
  },
  {
   "cell_type": "code",
   "execution_count": null,
   "id": "2d6c56c0",
   "metadata": {},
   "outputs": [],
   "source": []
  },
  {
   "cell_type": "code",
   "execution_count": null,
   "id": "0af04f5e",
   "metadata": {},
   "outputs": [],
   "source": []
  },
  {
   "cell_type": "code",
   "execution_count": null,
   "id": "1bf37a6a",
   "metadata": {},
   "outputs": [],
   "source": []
  },
  {
   "cell_type": "code",
   "execution_count": null,
   "id": "e385b65c",
   "metadata": {},
   "outputs": [],
   "source": []
  },
  {
   "cell_type": "code",
   "execution_count": 57,
   "id": "da94b58d",
   "metadata": {
    "ExecuteTime": {
     "end_time": "2021-12-27T11:02:44.491951Z",
     "start_time": "2021-12-27T11:02:44.486702Z"
    }
   },
   "outputs": [],
   "source": [
    "scores[1] = dict(scores[0])\n",
    "scores[1]['batch_size'] = 128\n",
    "scores[1][ 'mean_score'] = 0.6\n",
    "scores_df = pd.DataFrame.from_dict(scores, orient='index')"
   ]
  },
  {
   "cell_type": "code",
   "execution_count": 58,
   "id": "667df420",
   "metadata": {
    "ExecuteTime": {
     "end_time": "2021-12-27T11:02:44.707666Z",
     "start_time": "2021-12-27T11:02:44.668700Z"
    }
   },
   "outputs": [
    {
     "data": {
      "text/html": [
       "<div>\n",
       "<style scoped>\n",
       "    .dataframe tbody tr th:only-of-type {\n",
       "        vertical-align: middle;\n",
       "    }\n",
       "\n",
       "    .dataframe tbody tr th {\n",
       "        vertical-align: top;\n",
       "    }\n",
       "\n",
       "    .dataframe thead th {\n",
       "        text-align: right;\n",
       "    }\n",
       "</style>\n",
       "<table border=\"1\" class=\"dataframe\">\n",
       "  <thead>\n",
       "    <tr style=\"text-align: right;\">\n",
       "      <th></th>\n",
       "      <th>batch_size</th>\n",
       "      <th>cell_type</th>\n",
       "      <th>dropout</th>\n",
       "      <th>early_stopping</th>\n",
       "      <th>epochs</th>\n",
       "      <th>loss</th>\n",
       "      <th>n_cells</th>\n",
       "      <th>n_layers</th>\n",
       "      <th>optimiser</th>\n",
       "      <th>padding_value</th>\n",
       "      <th>shuffle</th>\n",
       "      <th>verbose</th>\n",
       "      <th>fold_scores</th>\n",
       "      <th>mean_score</th>\n",
       "      <th>std_score</th>\n",
       "      <th>fold_indices</th>\n",
       "    </tr>\n",
       "  </thead>\n",
       "  <tbody>\n",
       "    <tr>\n",
       "      <th>0</th>\n",
       "      <td>64</td>\n",
       "      <td>LSTM</td>\n",
       "      <td>0.2</td>\n",
       "      <td>False</td>\n",
       "      <td>1</td>\n",
       "      <td>auc</td>\n",
       "      <td>[4]</td>\n",
       "      <td>1</td>\n",
       "      <td>adam</td>\n",
       "      <td>-1</td>\n",
       "      <td>True</td>\n",
       "      <td>1</td>\n",
       "      <td>[0.7678571428571428, 0.625, 0.8214285714285714...</td>\n",
       "      <td>0.518419</td>\n",
       "      <td>0.188522</td>\n",
       "      <td>{0: {'train': [0, 1, 2, 3, 5, 6, 8, 9, 10, 11,...</td>\n",
       "    </tr>\n",
       "    <tr>\n",
       "      <th>1</th>\n",
       "      <td>128</td>\n",
       "      <td>LSTM</td>\n",
       "      <td>0.2</td>\n",
       "      <td>False</td>\n",
       "      <td>1</td>\n",
       "      <td>auc</td>\n",
       "      <td>[4]</td>\n",
       "      <td>1</td>\n",
       "      <td>adam</td>\n",
       "      <td>-1</td>\n",
       "      <td>True</td>\n",
       "      <td>1</td>\n",
       "      <td>[0.7678571428571428, 0.625, 0.8214285714285714...</td>\n",
       "      <td>0.600000</td>\n",
       "      <td>0.188522</td>\n",
       "      <td>{0: {'train': [0, 1, 2, 3, 5, 6, 8, 9, 10, 11,...</td>\n",
       "    </tr>\n",
       "  </tbody>\n",
       "</table>\n",
       "</div>"
      ],
      "text/plain": [
       "   batch_size cell_type  dropout  early_stopping  epochs loss n_cells  \\\n",
       "0          64      LSTM      0.2           False       1  auc     [4]   \n",
       "1         128      LSTM      0.2           False       1  auc     [4]   \n",
       "\n",
       "   n_layers optimiser  padding_value  shuffle  verbose  \\\n",
       "0         1      adam             -1     True        1   \n",
       "1         1      adam             -1     True        1   \n",
       "\n",
       "                                         fold_scores  mean_score  std_score  \\\n",
       "0  [0.7678571428571428, 0.625, 0.8214285714285714...    0.518419   0.188522   \n",
       "1  [0.7678571428571428, 0.625, 0.8214285714285714...    0.600000   0.188522   \n",
       "\n",
       "                                        fold_indices  \n",
       "0  {0: {'train': [0, 1, 2, 3, 5, 6, 8, 9, 10, 11,...  \n",
       "1  {0: {'train': [0, 1, 2, 3, 5, 6, 8, 9, 10, 11,...  "
      ]
     },
     "execution_count": 58,
     "metadata": {},
     "output_type": "execute_result"
    }
   ],
   "source": [
    "scores_df"
   ]
  },
  {
   "cell_type": "code",
   "execution_count": 59,
   "id": "ec8b95bf",
   "metadata": {
    "ExecuteTime": {
     "end_time": "2021-12-27T11:03:30.451889Z",
     "start_time": "2021-12-27T11:03:30.448163Z"
    }
   },
   "outputs": [],
   "source": [
    "scores_df = scores_df.sort_values(['mean_score'], ascending = not True)\n",
    "best_model_settings = scores_df.index[0]"
   ]
  },
  {
   "cell_type": "code",
   "execution_count": 60,
   "id": "3e34dc64",
   "metadata": {
    "ExecuteTime": {
     "end_time": "2021-12-27T11:03:33.067716Z",
     "start_time": "2021-12-27T11:03:33.064184Z"
    }
   },
   "outputs": [
    {
     "data": {
      "text/plain": [
       "1"
      ]
     },
     "execution_count": 60,
     "metadata": {},
     "output_type": "execute_result"
    }
   ],
   "source": [
    "best_model_settings"
   ]
  },
  {
   "cell_type": "code",
   "execution_count": null,
   "id": "39a9cdc8",
   "metadata": {},
   "outputs": [],
   "source": [
    " self._results_df = pd.DataFrame.from_dict(self._results, orient='index')\n",
    "        self._results_df = self._results_df.sort_values(['mean_score'], ascending=not self._scoring_croissant)\n",
    "        self._best_model_settings = self._results_df.index[0]\n",
    "        self._best_model_settings = self._results[self._best_model_settings]"
   ]
  },
  {
   "cell_type": "code",
   "execution_count": null,
   "id": "57024fcb",
   "metadata": {},
   "outputs": [],
   "source": []
  },
  {
   "cell_type": "code",
   "execution_count": 73,
   "id": "1e8cf741",
   "metadata": {
    "ExecuteTime": {
     "end_time": "2021-12-27T15:21:01.201212Z",
     "start_time": "2021-12-27T15:21:01.197687Z"
    }
   },
   "outputs": [],
   "source": [
    "with open('../notebooks/6 - results/best_models.pkl', 'rb') as fp:\n",
    "    best_models = pickle.load(fp)"
   ]
  },
  {
   "cell_type": "code",
   "execution_count": 78,
   "id": "900d5718",
   "metadata": {
    "ExecuteTime": {
     "end_time": "2021-12-27T15:21:21.790185Z",
     "start_time": "2021-12-27T15:21:21.785942Z"
    }
   },
   "outputs": [
    {
     "data": {
      "text/plain": [
       "dict_keys(['scores', 'model', 'architecture', 'probabilities', 'val_indices'])"
      ]
     },
     "execution_count": 78,
     "metadata": {},
     "output_type": "execute_result"
    }
   ],
   "source": [
    "best_models['folds'][0].keys()"
   ]
  },
  {
   "cell_type": "code",
   "execution_count": 85,
   "id": "042d32d4",
   "metadata": {
    "ExecuteTime": {
     "end_time": "2021-12-27T15:26:31.365477Z",
     "start_time": "2021-12-27T15:26:31.361514Z"
    }
   },
   "outputs": [
    {
     "data": {
      "text/plain": [
       "15"
      ]
     },
     "execution_count": 85,
     "metadata": {},
     "output_type": "execute_result"
    }
   ],
   "source": [
    "len(best_models['folds'][0]['probabilities']['ctLSTM_nlayers1_ncells[4]_drop02_optimadam_lossauc_bs64_ep1lstm'])"
   ]
  },
  {
   "cell_type": "code",
   "execution_count": 86,
   "id": "886fff3b",
   "metadata": {
    "ExecuteTime": {
     "end_time": "2021-12-27T15:26:52.796658Z",
     "start_time": "2021-12-27T15:26:52.792743Z"
    }
   },
   "outputs": [
    {
     "data": {
      "text/plain": [
       "15"
      ]
     },
     "execution_count": 86,
     "metadata": {},
     "output_type": "execute_result"
    }
   ],
   "source": [
    "len(best_models['folds'][0]['val_indices'])"
   ]
  },
  {
   "cell_type": "code",
   "execution_count": 87,
   "id": "c6a0a957",
   "metadata": {
    "ExecuteTime": {
     "end_time": "2021-12-27T15:32:57.973613Z",
     "start_time": "2021-12-27T15:32:57.969156Z"
    }
   },
   "outputs": [
    {
     "data": {
      "text/plain": [
       "{'path': '../data/sequenced_simulations/stateaction_secondslstm_12/p_2013_lidsvdphyjs_t2_sequenced.pkl',\n",
       " 'length': 78,\n",
       " 'learner_id': 'svdphyjs'}"
      ]
     },
     "execution_count": 87,
     "metadata": {},
     "output_type": "execute_result"
    }
   ],
   "source": [
    "best_models['id_dictionary']['sequences'][0]"
   ]
  },
  {
   "cell_type": "code",
   "execution_count": 95,
   "id": "194f313e",
   "metadata": {
    "ExecuteTime": {
     "end_time": "2021-12-27T15:46:37.998449Z",
     "start_time": "2021-12-27T15:46:37.994278Z"
    }
   },
   "outputs": [
    {
     "data": {
      "text/plain": [
       "[252, 81, 12, 137, 172, 181, 34, 229, 68, 119, 66, 46, 197, 95, 47]"
      ]
     },
     "execution_count": 95,
     "metadata": {},
     "output_type": "execute_result"
    }
   ],
   "source": [
    "best_models['folds'][0]['val_indices']"
   ]
  },
  {
   "cell_type": "code",
   "execution_count": 96,
   "id": "0f373e38",
   "metadata": {
    "ExecuteTime": {
     "end_time": "2021-12-27T16:40:59.370380Z",
     "start_time": "2021-12-27T16:40:59.365590Z"
    }
   },
   "outputs": [
    {
     "data": {
      "text/plain": [
       "{'ctLSTM_nlayers1_ncells[4]_drop02_optimadam_lossauc_bs64_ep1lstm': array([[0.442437  , 0.557563  ],\n",
       "        [0.4793776 , 0.5206224 ],\n",
       "        [0.40817454, 0.5918254 ],\n",
       "        [0.47128087, 0.5287192 ],\n",
       "        [0.39744937, 0.6025507 ],\n",
       "        [0.42313913, 0.57686085],\n",
       "        [0.41928896, 0.58071107],\n",
       "        [0.41838372, 0.58161634],\n",
       "        [0.4281364 , 0.57186365],\n",
       "        [0.4119337 , 0.58806634],\n",
       "        [0.4528764 , 0.5471237 ],\n",
       "        [0.45994276, 0.5400572 ],\n",
       "        [0.4314742 , 0.5685258 ],\n",
       "        [0.4288823 , 0.57111764],\n",
       "        [0.44112384, 0.55887616]], dtype=float32)}"
      ]
     },
     "execution_count": 96,
     "metadata": {},
     "output_type": "execute_result"
    }
   ],
   "source": [
    "best_models['folds'][0]['probabilities']"
   ]
  },
  {
   "cell_type": "code",
   "execution_count": 97,
   "id": "ef15c2d8",
   "metadata": {
    "ExecuteTime": {
     "end_time": "2021-12-27T16:47:54.454061Z",
     "start_time": "2021-12-27T16:47:54.449910Z"
    }
   },
   "outputs": [
    {
     "data": {
      "text/plain": [
       "dict_keys(['x', 'y', 'indices', 'optim_scoring', 0])"
      ]
     },
     "execution_count": 97,
     "metadata": {},
     "output_type": "execute_result"
    }
   ],
   "source": [
    "results.keys()"
   ]
  },
  {
   "cell_type": "code",
   "execution_count": 98,
   "id": "fe9390ba",
   "metadata": {
    "ExecuteTime": {
     "end_time": "2021-12-27T16:48:05.369426Z",
     "start_time": "2021-12-27T16:48:05.365238Z"
    }
   },
   "outputs": [
    {
     "data": {
      "text/plain": [
       "dict_keys(['train_index', 'train_indices', 'test_index', 'test_indices', 'oversample_indexes', 'oversample_indices', 'x_resampled', 'y_resampled', 'y_pred', 'y_proba', 'accuracy', 'balanced_accuracy', 'precision', 'recall', 'roc', 'best_params', 'best_estimator', 'gridsearch_object'])"
      ]
     },
     "execution_count": 98,
     "metadata": {},
     "output_type": "execute_result"
    }
   ],
   "source": [
    "results[0].keys()"
   ]
  },
  {
   "cell_type": "code",
   "execution_count": 102,
   "id": "b9a2ea13",
   "metadata": {
    "ExecuteTime": {
     "end_time": "2021-12-27T16:55:09.312334Z",
     "start_time": "2021-12-27T16:55:09.306967Z"
    }
   },
   "outputs": [
    {
     "data": {
      "text/plain": [
       "78"
      ]
     },
     "execution_count": 102,
     "metadata": {},
     "output_type": "execute_result"
    }
   ],
   "source": [
    "len(results[0]['test_indices'])"
   ]
  },
  {
   "cell_type": "code",
   "execution_count": null,
   "id": "5697efd7",
   "metadata": {},
   "outputs": [],
   "source": []
  },
  {
   "cell_type": "code",
   "execution_count": null,
   "id": "aee711d3",
   "metadata": {},
   "outputs": [],
   "source": []
  },
  {
   "cell_type": "code",
   "execution_count": null,
   "id": "4ebb8d74",
   "metadata": {},
   "outputs": [],
   "source": []
  },
  {
   "cell_type": "code",
   "execution_count": null,
   "id": "cfa2c3fc",
   "metadata": {},
   "outputs": [],
   "source": []
  },
  {
   "cell_type": "code",
   "execution_count": null,
   "id": "4b0eebd0",
   "metadata": {},
   "outputs": [],
   "source": []
  },
  {
   "cell_type": "code",
   "execution_count": null,
   "id": "4e3c8597",
   "metadata": {},
   "outputs": [],
   "source": []
  },
  {
   "cell_type": "code",
   "execution_count": null,
   "id": "70606c40",
   "metadata": {},
   "outputs": [],
   "source": []
  },
  {
   "cell_type": "code",
   "execution_count": null,
   "id": "eab23c4b",
   "metadata": {},
   "outputs": [],
   "source": []
  },
  {
   "cell_type": "code",
   "execution_count": null,
   "id": "9533f52f",
   "metadata": {},
   "outputs": [],
   "source": []
  },
  {
   "cell_type": "code",
   "execution_count": null,
   "id": "d1e658db",
   "metadata": {},
   "outputs": [],
   "source": []
  },
  {
   "cell_type": "code",
   "execution_count": null,
   "id": "410d6d22",
   "metadata": {},
   "outputs": [],
   "source": []
  },
  {
   "cell_type": "code",
   "execution_count": null,
   "id": "fb7191dd",
   "metadata": {},
   "outputs": [],
   "source": [
    "\n",
    "len(best_models['folds'][0]['probabilities'])"
   ]
  },
  {
   "cell_type": "code",
   "execution_count": null,
   "id": "e237a294",
   "metadata": {},
   "outputs": [],
   "source": []
  },
  {
   "cell_type": "code",
   "execution_count": null,
   "id": "62f27863",
   "metadata": {},
   "outputs": [],
   "source": []
  },
  {
   "cell_type": "code",
   "execution_count": null,
   "id": "94dc0928",
   "metadata": {},
   "outputs": [],
   "source": []
  },
  {
   "cell_type": "code",
   "execution_count": null,
   "id": "3f1e27cc",
   "metadata": {},
   "outputs": [],
   "source": []
  },
  {
   "cell_type": "code",
   "execution_count": null,
   "id": "c2546943",
   "metadata": {},
   "outputs": [],
   "source": []
  },
  {
   "cell_type": "code",
   "execution_count": null,
   "id": "9792d81e",
   "metadata": {},
   "outputs": [],
   "source": []
  },
  {
   "cell_type": "code",
   "execution_count": null,
   "id": "51018669",
   "metadata": {},
   "outputs": [],
   "source": []
  },
  {
   "cell_type": "code",
   "execution_count": null,
   "id": "5a47b327",
   "metadata": {},
   "outputs": [],
   "source": []
  },
  {
   "cell_type": "code",
   "execution_count": null,
   "id": "d66a0c87",
   "metadata": {},
   "outputs": [],
   "source": []
  },
  {
   "cell_type": "code",
   "execution_count": null,
   "id": "6631323e",
   "metadata": {},
   "outputs": [],
   "source": []
  },
  {
   "cell_type": "code",
   "execution_count": null,
   "id": "f3611665",
   "metadata": {},
   "outputs": [],
   "source": []
  },
  {
   "cell_type": "code",
   "execution_count": null,
   "id": "74c9a8cb",
   "metadata": {},
   "outputs": [],
   "source": []
  },
  {
   "cell_type": "code",
   "execution_count": null,
   "id": "a98941a7",
   "metadata": {},
   "outputs": [],
   "source": []
  },
  {
   "cell_type": "code",
   "execution_count": null,
   "id": "85c79997",
   "metadata": {},
   "outputs": [],
   "source": []
  },
  {
   "cell_type": "code",
   "execution_count": null,
   "id": "7b3f3f5a",
   "metadata": {},
   "outputs": [],
   "source": []
  }
 ],
 "metadata": {
  "kernelspec": {
   "display_name": "Python 3 (ipykernel)",
   "language": "python",
   "name": "python3"
  },
  "language_info": {
   "codemirror_mode": {
    "name": "ipython",
    "version": 3
   },
   "file_extension": ".py",
   "mimetype": "text/x-python",
   "name": "python",
   "nbconvert_exporter": "python",
   "pygments_lexer": "ipython3",
   "version": "3.8.12"
  },
  "toc": {
   "base_numbering": 1,
   "nav_menu": {},
   "number_sections": true,
   "sideBar": true,
   "skip_h1_title": false,
   "title_cell": "Table of Contents",
   "title_sidebar": "Contents",
   "toc_cell": false,
   "toc_position": {},
   "toc_section_display": true,
   "toc_window_display": false
  }
 },
 "nbformat": 4,
 "nbformat_minor": 5
}
