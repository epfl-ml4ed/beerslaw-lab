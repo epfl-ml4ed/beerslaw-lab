{
 "cells": [
  {
   "cell_type": "code",
   "execution_count": 1,
   "id": "2e0ddebd",
   "metadata": {
    "ExecuteTime": {
     "end_time": "2022-07-06T22:46:51.005487Z",
     "start_time": "2022-07-06T22:46:44.951984Z"
    }
   },
   "outputs": [],
   "source": [
    "import os\n",
    "import re\n",
    "import yaml\n",
    "import pickle\n",
    "\n",
    "import ipyplot\n",
    "import numpy as np\n",
    "import pandas as pd\n",
    "\n",
    "import tensorflow as tf\n",
    "\n",
    "import seaborn as sns\n",
    "from matplotlib import pyplot as plt"
   ]
  },
  {
   "cell_type": "markdown",
   "id": "ac129503",
   "metadata": {},
   "source": [
    "# Data"
   ]
  },
  {
   "cell_type": "code",
   "execution_count": 2,
   "id": "38da06ae",
   "metadata": {
    "ExecuteTime": {
     "end_time": "2022-07-06T22:46:51.010757Z",
     "start_time": "2022-07-06T22:46:51.007625Z"
    }
   },
   "outputs": [
    {
     "name": "stdout",
     "output_type": "stream",
     "text": [
      "[Errno 2] No such file or directory: '../../src'\n",
      "/Users/cock/kDrive/PhD/Projects/Labs/beerslaw-lab/notebooks/beerslaw/8 - timelines\n"
     ]
    }
   ],
   "source": [
    "cd ../../src"
   ]
  },
  {
   "cell_type": "code",
   "execution_count": 3,
   "id": "fcf4444d",
   "metadata": {
    "ExecuteTime": {
     "end_time": "2022-07-06T22:46:51.560965Z",
     "start_time": "2022-07-06T22:46:51.012130Z"
    }
   },
   "outputs": [
    {
     "ename": "FileNotFoundError",
     "evalue": "[Errno 2] No such file or directory: '../experiments/incremental/fourth round/stateaction_secondslstm/binconcepts/lstm/raw_full/2021_12_27_0//gridsearch results/'",
     "output_type": "error",
     "traceback": [
      "\u001b[0;31m---------------------------------------------------------------------------\u001b[0m",
      "\u001b[0;31mFileNotFoundError\u001b[0m                         Traceback (most recent call last)",
      "\u001b[0;32m/var/folders/jy/0pp1md9x1358dt8g8k69srhr0000gp/T/ipykernel_47605/4147242542.py\u001b[0m in \u001b[0;36m<module>\u001b[0;34m\u001b[0m\n\u001b[1;32m      2\u001b[0m \u001b[0;34m\u001b[0m\u001b[0m\n\u001b[1;32m      3\u001b[0m \u001b[0;31m# Gridsearch folds\u001b[0m\u001b[0;34m\u001b[0m\u001b[0;34m\u001b[0m\u001b[0;34m\u001b[0m\u001b[0m\n\u001b[0;32m----> 4\u001b[0;31m \u001b[0mgs_file\u001b[0m \u001b[0;34m=\u001b[0m \u001b[0mos\u001b[0m\u001b[0;34m.\u001b[0m\u001b[0mlistdir\u001b[0m\u001b[0;34m(\u001b[0m\u001b[0mexperiment_path\u001b[0m \u001b[0;34m+\u001b[0m \u001b[0;34m'/gridsearch results/'\u001b[0m\u001b[0;34m)\u001b[0m\u001b[0;34m[\u001b[0m\u001b[0;36m0\u001b[0m\u001b[0;34m]\u001b[0m\u001b[0;34m\u001b[0m\u001b[0;34m\u001b[0m\u001b[0m\n\u001b[0m\u001b[1;32m      5\u001b[0m \u001b[0;32mwith\u001b[0m \u001b[0mopen\u001b[0m\u001b[0;34m(\u001b[0m\u001b[0mexperiment_path\u001b[0m \u001b[0;34m+\u001b[0m \u001b[0;34m'/gridsearch results/'\u001b[0m \u001b[0;34m+\u001b[0m \u001b[0mgs_file\u001b[0m\u001b[0;34m,\u001b[0m \u001b[0;34m'rb'\u001b[0m\u001b[0;34m)\u001b[0m \u001b[0;32mas\u001b[0m \u001b[0mfp\u001b[0m\u001b[0;34m:\u001b[0m\u001b[0;34m\u001b[0m\u001b[0;34m\u001b[0m\u001b[0m\n\u001b[1;32m      6\u001b[0m     \u001b[0mgs\u001b[0m \u001b[0;34m=\u001b[0m \u001b[0mpickle\u001b[0m\u001b[0;34m.\u001b[0m\u001b[0mload\u001b[0m\u001b[0;34m(\u001b[0m\u001b[0mfp\u001b[0m\u001b[0;34m)\u001b[0m\u001b[0;34m\u001b[0m\u001b[0;34m\u001b[0m\u001b[0m\n",
      "\u001b[0;31mFileNotFoundError\u001b[0m: [Errno 2] No such file or directory: '../experiments/incremental/fourth round/stateaction_secondslstm/binconcepts/lstm/raw_full/2021_12_27_0//gridsearch results/'"
     ]
    }
   ],
   "source": [
    "experiment_path = '../experiments/incremental/fourth round/stateaction_secondslstm/binconcepts/lstm/raw_full/2021_12_27_0/'\n",
    "\n",
    "# Gridsearch folds\n",
    "gs_file = os.listdir(experiment_path + '/gridsearch results/')[0]\n",
    "with open(experiment_path + '/gridsearch results/' + gs_file, 'rb') as fp:\n",
    "    gs = pickle.load(fp)\n",
    "    gs = gs.get_results()\n",
    "    folds = gs[0]['fold_index']\n",
    "\n",
    "# oversampling indices\n",
    "xval_path = os.listdir(experiment_path + '/results/')[0]\n",
    "with open(experiment_path + '/results/' + xval_path, 'rb') as fp:\n",
    "    xval_object = pickle.load(fp)\n",
    "    oversampled_indices = xval_object[0]['oversample_indices']\n",
    "    test_indices = xval_object[0]['test_indices']\n",
    "    \n",
    "# id dictionary\n",
    "with open(experiment_path + 'config.yaml', 'rb') as fp:\n",
    "    config = pickle.load(fp)\n",
    "    id_dictionary = config['id_dictionary']"
   ]
  },
  {
   "cell_type": "code",
   "execution_count": null,
   "id": "18c067f5",
   "metadata": {
    "ExecuteTime": {
     "end_time": "2022-07-06T22:46:51.564833Z",
     "start_time": "2022-07-06T22:46:51.564815Z"
    }
   },
   "outputs": [],
   "source": [
    "cd ../notebooks/8 - timelines/"
   ]
  },
  {
   "cell_type": "code",
   "execution_count": null,
   "id": "e5acaa7c",
   "metadata": {
    "ExecuteTime": {
     "end_time": "2022-07-06T22:46:51.566323Z",
     "start_time": "2022-07-06T22:46:51.566304Z"
    }
   },
   "outputs": [],
   "source": [
    "timelines_path = '../../reports/timelines/colour timelines/'\n",
    "addresses = os.listdir(timelines_path)\n",
    "addresses = [ad for ad in addresses if 'png' in ad]\n",
    "local_addresses = [(timelines_path + addr) for addr in addresses]"
   ]
  },
  {
   "cell_type": "markdown",
   "id": "2c648186",
   "metadata": {
    "ExecuteTime": {
     "end_time": "2021-12-28T14:01:49.066777Z",
     "start_time": "2021-12-28T14:01:49.055922Z"
    }
   },
   "source": [
    "# Functions"
   ]
  },
  {
   "cell_type": "code",
   "execution_count": null,
   "id": "cfa21126",
   "metadata": {
    "ExecuteTime": {
     "end_time": "2022-07-06T22:46:51.570421Z",
     "start_time": "2022-07-06T22:46:51.570370Z"
    }
   },
   "outputs": [],
   "source": [
    "def get_id_folds(folds:dict, oversampled_indices:list, id_dictionary:dict):\n",
    "    learner_id_fold = {\n",
    "        'train': {idd:[] for idd in id_dictionary['index']},\n",
    "        'validation': {}\n",
    "    }\n",
    "    for fold in folds:\n",
    "        train = folds[fold]['train']\n",
    "        validation = folds[fold]['validation']\n",
    "        \n",
    "        train = [oversampled_indices[idx] for idx in train]\n",
    "        validation = [oversampled_indices[idx] for idx in validation]\n",
    "        \n",
    "        train = [id_dictionary['sequences'][idx]['learner_id'] for idx in train]\n",
    "        validation = [id_dictionary['sequences'][idx]['learner_id'] for idx in validation]\n",
    "        \n",
    "        for lid in train:\n",
    "            learner_id_fold['train'][lid].append(fold)\n",
    "        for lid in validation:\n",
    "            learner_id_fold['validation'][lid] = fold\n",
    "    return learner_id_fold\n"
   ]
  },
  {
   "cell_type": "code",
   "execution_count": null,
   "id": "55064912",
   "metadata": {
    "ExecuteTime": {
     "end_time": "2022-07-06T22:46:51.572116Z",
     "start_time": "2022-07-06T22:46:51.572099Z"
    }
   },
   "outputs": [],
   "source": [
    "def images_labels(addresses:list, local_addresses:list, label_map:dict, id_folds:dict):\n",
    "    permutation = re.compile('^p([0-9]+)_')\n",
    "    learner_id = re.compile('_l([A-z0-9]+)_t')\n",
    "    task = re.compile('_t([0-9]+).')\n",
    "    \n",
    "    not_train = 0\n",
    "    missing_perm = 0\n",
    "    \n",
    "    learners = []\n",
    "    tasks = []\n",
    "    folds = []\n",
    "    ads = []\n",
    "    labels = []\n",
    "    for i, address in enumerate(addresses):\n",
    "        try:\n",
    "            p = permutation.findall(address)[0]\n",
    "            l = learner_id.findall(address)[0]\n",
    "            t = task.findall(address)[0]\n",
    "            f = id_folds['validation'][l]\n",
    "\n",
    "            ads.append(local_addresses[i])\n",
    "            learners.append(l)\n",
    "            tasks.append(t)\n",
    "            folds.append(f)\n",
    "            labels.append(label_map[p])\n",
    "        except IndexError:\n",
    "            missing_perm += 1\n",
    "        except KeyError:\n",
    "            not_train += 1\n",
    "            \n",
    "    print('There are {} missing perms and {} timelines who were too short'.format(missing_perm, not_train))\n",
    "        \n",
    "    return ads, learners, tasks, folds, labels"
   ]
  },
  {
   "cell_type": "code",
   "execution_count": null,
   "id": "ce408e70",
   "metadata": {
    "ExecuteTime": {
     "end_time": "2022-07-06T22:46:51.573179Z",
     "start_time": "2022-07-06T22:46:51.573161Z"
    }
   },
   "outputs": [],
   "source": [
    "def plot_for_task(addresses:list, folds:list, tasks:list, task:int):\n",
    "    indices = [i for i in range(len(tasks)) if tasks[i] == str(task)]\n",
    "    ad = [addresses[idx] for idx in indices]\n",
    "    fs = [folds[idx] for idx in indices]\n",
    "    ipyplot.plot_class_tabs(ad, fs, max_imgs_per_tab=10, img_width=700)\n",
    "    "
   ]
  },
  {
   "cell_type": "code",
   "execution_count": null,
   "id": "6d25c5a3",
   "metadata": {
    "ExecuteTime": {
     "end_time": "2022-07-06T22:46:51.574623Z",
     "start_time": "2022-07-06T22:46:51.574605Z"
    }
   },
   "outputs": [],
   "source": [
    "def get_map(label_map:str) -> dict:\n",
    "    if label_map == 'vector_labels':\n",
    "        map_path = '../../data/experiment_keys/permutation_maps/vector_binary.yaml'\n",
    "        \n",
    "    with open(map_path) as fp:\n",
    "        return yaml.load(fp, Loader=yaml.FullLoader)"
   ]
  },
  {
   "cell_type": "markdown",
   "id": "cd982613",
   "metadata": {},
   "source": [
    "# images"
   ]
  },
  {
   "cell_type": "code",
   "execution_count": null,
   "id": "2e3706d7",
   "metadata": {
    "ExecuteTime": {
     "end_time": "2022-07-06T22:46:51.576158Z",
     "start_time": "2022-07-06T22:46:51.576143Z"
    },
    "scrolled": false
   },
   "outputs": [],
   "source": [
    "vector_map = get_map('vector_labels')\n",
    "learner_id_fold = get_id_folds(folds, oversampled_indices, id_dictionary)\n",
    "ads, learners, tasks, fs, labels = images_labels(addresses, local_addresses, vector_map['map'], learner_id_fold)\n",
    "plot_for_task(ads, fs, tasks, 2)"
   ]
  },
  {
   "cell_type": "markdown",
   "id": "8aea2a16",
   "metadata": {},
   "source": [
    "# Distribution of labels per fold"
   ]
  },
  {
   "cell_type": "markdown",
   "id": "772e1b27",
   "metadata": {},
   "source": [
    "## Stratification on label"
   ]
  },
  {
   "cell_type": "code",
   "execution_count": 11,
   "id": "6e06a692",
   "metadata": {
    "ExecuteTime": {
     "end_time": "2021-12-28T17:19:12.500522Z",
     "start_time": "2021-12-28T17:19:12.497639Z"
    }
   },
   "outputs": [],
   "source": [
    "def get_colour():\n",
    "    palette = [\n",
    "        '#b7094c', '#a01a58', '#892b64', '#723c70', '#5c4d7d', '#455e89', '#2e6f95', '#1780a1', '#0091ad',\n",
    "    ]\n",
    "    return np.random.choice(palette)"
   ]
  },
  {
   "cell_type": "code",
   "execution_count": 12,
   "id": "1621bbdd",
   "metadata": {
    "ExecuteTime": {
     "end_time": "2021-12-28T17:19:12.883242Z",
     "start_time": "2021-12-28T17:19:12.862060Z"
    }
   },
   "outputs": [],
   "source": [
    "fold_labels = pd.DataFrame([fs, labels]).transpose()\n",
    "fold_labels.columns = ['folds', 'labels']\n",
    "\n",
    "label_map = vector_map['labels']\n",
    "labs = [int(lab[0]) + int(lab[1]) + int(lab[2]) for lab in label_map]\n",
    "labs = np.argsort(labs)\n",
    "label_map = [label_map[idx] for idx in labs]\n",
    "\n",
    "fold_labels = fold_labels[fold_labels['labels'].isin(labels)]"
   ]
  },
  {
   "cell_type": "code",
   "execution_count": 13,
   "id": "648e9642",
   "metadata": {
    "ExecuteTime": {
     "end_time": "2021-12-28T17:19:14.945678Z",
     "start_time": "2021-12-28T17:19:13.432874Z"
    },
    "scrolled": false
   },
   "outputs": [
    {
     "data": {
      "image/png": "[encoded data removed]",
      "text/plain": [
       "<Figure size 864x288 with 1 Axes>"
      ]
     },
     "metadata": {
      "needs_background": "light"
     },
     "output_type": "display_data"
    },
    {
     "data": {
      "image/png": "[encoded data removed]",
      "text/plain": [
       "<Figure size 864x288 with 1 Axes>"
      ]
     },
     "metadata": {
      "needs_background": "light"
     },
     "output_type": "display_data"
    },
    {
     "data": {
      "image/png": "[encoded data removed]",
      "text/plain": [
       "<Figure size 864x288 with 1 Axes>"
      ]
     },
     "metadata": {
      "needs_background": "light"
     },
     "output_type": "display_data"
    },
    {
     "data": {
      "image/png": "[encoded data removed]",
      "text/plain": [
       "<Figure size 864x288 with 1 Axes>"
      ]
     },
     "metadata": {
      "needs_background": "light"
     },
     "output_type": "display_data"
    },
    {
     "data": {
      "image/png": "[encoded data removed]",
      "text/plain": [
       "<Figure size 864x288 with 1 Axes>"
      ]
     },
     "metadata": {
      "needs_background": "light"
     },
     "output_type": "display_data"
    },
    {
     "data": {
      "image/png": "[encoded data removed]",
      "text/plain": [
       "<Figure size 864x288 with 1 Axes>"
      ]
     },
     "metadata": {
      "needs_background": "light"
     },
     "output_type": "display_data"
    },
    {
     "data": {
      "image/png": "[encoded data removed]",
      "text/plain": [
       "<Figure size 864x288 with 1 Axes>"
      ]
     },
     "metadata": {
      "needs_background": "light"
     },
     "output_type": "display_data"
    },
    {
     "data": {
      "image/png": "[encoded data removed]",
      "text/plain": [
       "<Figure size 864x288 with 1 Axes>"
      ]
     },
     "metadata": {
      "needs_background": "light"
     },
     "output_type": "display_data"
    },
    {
     "data": {
      "image/png": "[encoded data removed]",
      "text/plain": [
       "<Figure size 864x288 with 1 Axes>"
      ]
     },
     "metadata": {
      "needs_background": "light"
     },
     "output_type": "display_data"
    },
    {
     "data": {
      "image/png": "[encoded data removed]",
      "text/plain": [
       "<Figure size 864x288 with 1 Axes>"
      ]
     },
     "metadata": {
      "needs_background": "light"
     },
     "output_type": "display_data"
    }
   ],
   "source": [
    "fold_map = fold_labels['folds'].unique()\n",
    "fold_map.sort()\n",
    "for fold in fold_map:\n",
    "    fold_df = fold_labels[fold_labels['folds'] == fold]\n",
    "    \n",
    "    heights = []\n",
    "    for lab in label_map:\n",
    "        if lab in fold_df['labels'].unique():\n",
    "            lb_df = fold_df[fold_df['labels'] == lab]\n",
    "            h = len(lb_df) / len(fold_df)\n",
    "            heights.append(h)\n",
    "        else:\n",
    "            heights.append(0)\n",
    "            \n",
    "    plt.figure(figsize=(12, 4))\n",
    "    plt.bar(label_map, heights, color=get_colour(), alpha=0.4)\n",
    "    plt.title('Label distribution for fold {}'.format(fold))\n",
    "    plt.show()\n",
    "    \n",
    "    \n",
    "\n"
   ]
  },
  {
   "cell_type": "code",
   "execution_count": 14,
   "id": "1258de1d",
   "metadata": {
    "ExecuteTime": {
     "end_time": "2021-12-28T17:19:16.007284Z",
     "start_time": "2021-12-28T17:19:15.730908Z"
    },
    "scrolled": false
   },
   "outputs": [
    {
     "data": {
      "image/png": "[encoded data removed]",
      "text/plain": [
       "<Figure size 864x288 with 1 Axes>"
      ]
     },
     "metadata": {
      "needs_background": "light"
     },
     "output_type": "display_data"
    },
    {
     "data": {
      "image/png": "[encoded data removed]",
      "text/plain": [
       "<Figure size 864x288 with 1 Axes>"
      ]
     },
     "metadata": {
      "needs_background": "light"
     },
     "output_type": "display_data"
    }
   ],
   "source": [
    "fold_map = fold_labels['folds'].unique()\n",
    "fold_map.sort()\n",
    "for fold in [2, 6]:\n",
    "    fold_df = fold_labels[fold_labels['folds'] == fold]\n",
    "    \n",
    "    heights = []\n",
    "    for lab in label_map:\n",
    "        if lab in fold_df['labels'].unique():\n",
    "            lb_df = fold_df[fold_df['labels'] == lab]\n",
    "            h = len(lb_df) / len(fold_df)\n",
    "            heights.append(h)\n",
    "        else:\n",
    "            heights.append(0)\n",
    "            \n",
    "    plt.figure(figsize=(12, 4))\n",
    "    plt.bar(label_map, heights, color=get_colour(), alpha=0.4)\n",
    "    plt.title('Label distribution for fold {}'.format(fold))\n",
    "    plt.show()\n",
    "    \n",
    "    \n"
   ]
  },
  {
   "cell_type": "markdown",
   "id": "a7737ee2",
   "metadata": {},
   "source": [
    "## Stratification on permutation"
   ]
  },
  {
   "cell_type": "code",
   "execution_count": 24,
   "id": "6aaae10d",
   "metadata": {
    "ExecuteTime": {
     "end_time": "2021-12-28T21:44:11.917357Z",
     "start_time": "2021-12-28T21:44:11.914880Z"
    }
   },
   "outputs": [],
   "source": [
    "experiment_path = '../experiments/test_plot/stateaction_secondslstm_12/binconcepts/lstm/raw_full/2021_12_28_4'"
   ]
  },
  {
   "cell_type": "code",
   "execution_count": null,
   "id": "e211a248",
   "metadata": {},
   "outputs": [],
   "source": []
  },
  {
   "cell_type": "code",
   "execution_count": null,
   "id": "0689ab11",
   "metadata": {},
   "outputs": [],
   "source": []
  },
  {
   "cell_type": "code",
   "execution_count": null,
   "id": "ae805441",
   "metadata": {},
   "outputs": [],
   "source": []
  },
  {
   "cell_type": "code",
   "execution_count": null,
   "id": "c3626312",
   "metadata": {},
   "outputs": [],
   "source": []
  },
  {
   "cell_type": "code",
   "execution_count": null,
   "id": "145af88b",
   "metadata": {},
   "outputs": [],
   "source": []
  },
  {
   "cell_type": "code",
   "execution_count": null,
   "id": "69e01d58",
   "metadata": {},
   "outputs": [],
   "source": []
  },
  {
   "cell_type": "code",
   "execution_count": null,
   "id": "417bd62e",
   "metadata": {},
   "outputs": [],
   "source": []
  },
  {
   "cell_type": "code",
   "execution_count": 74,
   "id": "5a59721d",
   "metadata": {
    "ExecuteTime": {
     "end_time": "2021-12-28T15:39:25.429651Z",
     "start_time": "2021-12-28T15:39:25.417470Z"
    }
   },
   "outputs": [
    {
     "data": {
      "text/plain": [
       "[0,\n",
       " 0,\n",
       " 0,\n",
       " 0,\n",
       " 0,\n",
       " 0,\n",
       " 0,\n",
       " 0,\n",
       " 0,\n",
       " 0,\n",
       " 0,\n",
       " 0,\n",
       " 0,\n",
       " 0,\n",
       " 0,\n",
       " 0,\n",
       " 0,\n",
       " 0,\n",
       " 0,\n",
       " 0,\n",
       " 0,\n",
       " 0,\n",
       " 0,\n",
       " 0,\n",
       " 0,\n",
       " 0,\n",
       " 0,\n",
       " 0,\n",
       " 0,\n",
       " 0,\n",
       " 0,\n",
       " 0,\n",
       " 0,\n",
       " 0,\n",
       " 0,\n",
       " 0,\n",
       " 0,\n",
       " 0,\n",
       " 0,\n",
       " 0,\n",
       " 0,\n",
       " 0,\n",
       " 0,\n",
       " 0,\n",
       " 0,\n",
       " 0,\n",
       " 0,\n",
       " 0,\n",
       " 0,\n",
       " 0,\n",
       " 0,\n",
       " 0,\n",
       " 0,\n",
       " 0,\n",
       " 0,\n",
       " 0,\n",
       " 0,\n",
       " 0,\n",
       " 0,\n",
       " 0,\n",
       " 0,\n",
       " 0,\n",
       " 0,\n",
       " 0,\n",
       " 0,\n",
       " 0,\n",
       " 0,\n",
       " 0,\n",
       " 0,\n",
       " 0,\n",
       " 0,\n",
       " 0,\n",
       " 0,\n",
       " 0,\n",
       " 0,\n",
       " 0,\n",
       " 0,\n",
       " 0,\n",
       " 0,\n",
       " 0,\n",
       " 0,\n",
       " 0,\n",
       " 0,\n",
       " 0,\n",
       " 0,\n",
       " 0,\n",
       " 0,\n",
       " 0,\n",
       " 0,\n",
       " 0,\n",
       " 0,\n",
       " 0,\n",
       " 0,\n",
       " 0,\n",
       " 0,\n",
       " 0,\n",
       " 0,\n",
       " 0,\n",
       " 0,\n",
       " 0,\n",
       " 0,\n",
       " 0,\n",
       " 0,\n",
       " 0,\n",
       " 0,\n",
       " 0,\n",
       " 0,\n",
       " 0,\n",
       " 0,\n",
       " 0,\n",
       " 0,\n",
       " 0,\n",
       " 0,\n",
       " 0,\n",
       " 0,\n",
       " 0,\n",
       " 0,\n",
       " 0,\n",
       " 0,\n",
       " 0,\n",
       " 0,\n",
       " 0,\n",
       " 0,\n",
       " 0,\n",
       " 0,\n",
       " 0,\n",
       " 0,\n",
       " 0,\n",
       " 0,\n",
       " 0,\n",
       " 0,\n",
       " 0,\n",
       " 0,\n",
       " 0,\n",
       " 0,\n",
       " 0,\n",
       " 0,\n",
       " 0,\n",
       " 0,\n",
       " 0,\n",
       " 0,\n",
       " 0,\n",
       " 0,\n",
       " 0,\n",
       " 0,\n",
       " 0,\n",
       " 0,\n",
       " 0,\n",
       " 0,\n",
       " 0,\n",
       " 0,\n",
       " 0,\n",
       " 0,\n",
       " 0,\n",
       " 0,\n",
       " 0,\n",
       " 0,\n",
       " 0,\n",
       " 0,\n",
       " 0,\n",
       " 0,\n",
       " 0,\n",
       " 0,\n",
       " 0,\n",
       " 0,\n",
       " 0,\n",
       " 0,\n",
       " 0,\n",
       " 0,\n",
       " 0,\n",
       " 0,\n",
       " 0,\n",
       " 0,\n",
       " 0,\n",
       " 0,\n",
       " 0,\n",
       " 0,\n",
       " 0,\n",
       " 0,\n",
       " 0,\n",
       " 0,\n",
       " 0,\n",
       " 0,\n",
       " 0,\n",
       " 0,\n",
       " 0,\n",
       " 0,\n",
       " 0,\n",
       " 0,\n",
       " 0,\n",
       " 0,\n",
       " 0,\n",
       " 0,\n",
       " 0,\n",
       " 0,\n",
       " 0,\n",
       " 0,\n",
       " 0,\n",
       " 0,\n",
       " 0,\n",
       " 0,\n",
       " 0,\n",
       " 0,\n",
       " 0,\n",
       " 0,\n",
       " 0,\n",
       " 0,\n",
       " 0,\n",
       " 0,\n",
       " 0,\n",
       " 0,\n",
       " 0,\n",
       " 0,\n",
       " 0,\n",
       " 0,\n",
       " 0,\n",
       " 0,\n",
       " 0,\n",
       " 0,\n",
       " 0,\n",
       " 0,\n",
       " 0,\n",
       " 0,\n",
       " 0,\n",
       " 0,\n",
       " 0,\n",
       " 0,\n",
       " 0,\n",
       " 0,\n",
       " 0,\n",
       " 0,\n",
       " 0,\n",
       " 0,\n",
       " 0,\n",
       " 0,\n",
       " 0,\n",
       " 0,\n",
       " 0,\n",
       " 0,\n",
       " 0,\n",
       " 0,\n",
       " 0,\n",
       " 0,\n",
       " 0,\n",
       " 0,\n",
       " 0,\n",
       " 0,\n",
       " 0,\n",
       " 0,\n",
       " 0,\n",
       " 0,\n",
       " 0,\n",
       " 0,\n",
       " 0,\n",
       " 0,\n",
       " 0,\n",
       " 0,\n",
       " 0,\n",
       " 0,\n",
       " 0,\n",
       " 0,\n",
       " 0,\n",
       " 0,\n",
       " 0,\n",
       " 0,\n",
       " 0,\n",
       " 0,\n",
       " 0,\n",
       " 0,\n",
       " 0,\n",
       " 0,\n",
       " 0,\n",
       " 0,\n",
       " 0,\n",
       " 0,\n",
       " 0,\n",
       " 0,\n",
       " 0,\n",
       " 0,\n",
       " 0,\n",
       " 0,\n",
       " 0,\n",
       " 0,\n",
       " 0,\n",
       " 0,\n",
       " 0,\n",
       " 0,\n",
       " 0,\n",
       " 0,\n",
       " 0,\n",
       " 0,\n",
       " 0,\n",
       " 0,\n",
       " 0,\n",
       " 0,\n",
       " 0,\n",
       " 0,\n",
       " 0,\n",
       " 0,\n",
       " 0,\n",
       " 0,\n",
       " 0,\n",
       " 0,\n",
       " 0,\n",
       " 0,\n",
       " 0,\n",
       " 0,\n",
       " 0,\n",
       " 0,\n",
       " 0,\n",
       " 0,\n",
       " 0,\n",
       " 0,\n",
       " 0,\n",
       " 0,\n",
       " 0,\n",
       " 0,\n",
       " 0,\n",
       " 0,\n",
       " 0,\n",
       " 0,\n",
       " 0,\n",
       " 0,\n",
       " 0,\n",
       " 0,\n",
       " 0,\n",
       " 0,\n",
       " 0,\n",
       " 0,\n",
       " 0,\n",
       " 0,\n",
       " 0,\n",
       " 0,\n",
       " 0,\n",
       " 0,\n",
       " 0,\n",
       " 0,\n",
       " 0,\n",
       " 0,\n",
       " 0,\n",
       " 0,\n",
       " 0,\n",
       " 0,\n",
       " 0,\n",
       " 0,\n",
       " 0,\n",
       " 0,\n",
       " 0,\n",
       " 0,\n",
       " 0,\n",
       " 0,\n",
       " 0,\n",
       " 0,\n",
       " 0,\n",
       " 0,\n",
       " 0,\n",
       " 0,\n",
       " 0,\n",
       " 0,\n",
       " 0,\n",
       " 0,\n",
       " 0,\n",
       " 0,\n",
       " 0,\n",
       " 0,\n",
       " 0,\n",
       " 0,\n",
       " 0,\n",
       " 0,\n",
       " 0,\n",
       " 0,\n",
       " 0,\n",
       " 0,\n",
       " 0,\n",
       " 0,\n",
       " 0,\n",
       " 0,\n",
       " 0,\n",
       " 0,\n",
       " 0,\n",
       " 0,\n",
       " 0,\n",
       " 0,\n",
       " 0,\n",
       " 0,\n",
       " 0,\n",
       " 0,\n",
       " 0,\n",
       " 0,\n",
       " 0,\n",
       " 0,\n",
       " 0,\n",
       " 0,\n",
       " 0,\n",
       " 0,\n",
       " 0,\n",
       " 0,\n",
       " 0,\n",
       " 0,\n",
       " 0,\n",
       " 0,\n",
       " 0,\n",
       " 0,\n",
       " 0,\n",
       " 0,\n",
       " 0,\n",
       " 0,\n",
       " 0,\n",
       " 0,\n",
       " 0,\n",
       " 0,\n",
       " 0,\n",
       " 0,\n",
       " 0,\n",
       " 0,\n",
       " 0,\n",
       " 0,\n",
       " 0,\n",
       " 0,\n",
       " 0,\n",
       " 0,\n",
       " 0,\n",
       " 0,\n",
       " 0,\n",
       " 0,\n",
       " 0,\n",
       " 0,\n",
       " 0,\n",
       " 0,\n",
       " 0,\n",
       " 0,\n",
       " 0,\n",
       " 0,\n",
       " 0]"
      ]
     },
     "execution_count": 74,
     "metadata": {},
     "output_type": "execute_result"
    }
   ],
   "source": [
    "heights"
   ]
  },
  {
   "cell_type": "code",
   "execution_count": 60,
   "id": "354978fb",
   "metadata": {
    "ExecuteTime": {
     "end_time": "2021-12-28T15:37:16.881845Z",
     "start_time": "2021-12-28T15:37:16.875425Z"
    }
   },
   "outputs": [
    {
     "data": {
      "text/html": [
       "<div>\n",
       "<style scoped>\n",
       "    .dataframe tbody tr th:only-of-type {\n",
       "        vertical-align: middle;\n",
       "    }\n",
       "\n",
       "    .dataframe tbody tr th {\n",
       "        vertical-align: top;\n",
       "    }\n",
       "\n",
       "    .dataframe thead th {\n",
       "        text-align: right;\n",
       "    }\n",
       "</style>\n",
       "<table border=\"1\" class=\"dataframe\">\n",
       "  <thead>\n",
       "    <tr style=\"text-align: right;\">\n",
       "      <th></th>\n",
       "      <th>folds</th>\n",
       "      <th>labels</th>\n",
       "    </tr>\n",
       "  </thead>\n",
       "  <tbody>\n",
       "    <tr>\n",
       "      <th>6</th>\n",
       "      <td>5</td>\n",
       "      <td>011</td>\n",
       "    </tr>\n",
       "  </tbody>\n",
       "</table>\n",
       "</div>"
      ],
      "text/plain": [
       "  folds labels\n",
       "6     5    011"
      ]
     },
     "execution_count": 60,
     "metadata": {},
     "output_type": "execute_result"
    }
   ],
   "source": [
    "fold_df"
   ]
  },
  {
   "cell_type": "code",
   "execution_count": null,
   "id": "e92c7e81",
   "metadata": {},
   "outputs": [],
   "source": []
  },
  {
   "cell_type": "code",
   "execution_count": null,
   "id": "abe46d02",
   "metadata": {},
   "outputs": [],
   "source": []
  },
  {
   "cell_type": "code",
   "execution_count": null,
   "id": "b166cf1a",
   "metadata": {},
   "outputs": [],
   "source": []
  },
  {
   "cell_type": "code",
   "execution_count": null,
   "id": "dcf11a8f",
   "metadata": {},
   "outputs": [],
   "source": []
  },
  {
   "cell_type": "code",
   "execution_count": null,
   "id": "dcb458ec",
   "metadata": {},
   "outputs": [],
   "source": []
  },
  {
   "cell_type": "code",
   "execution_count": null,
   "id": "e08fdc0b",
   "metadata": {},
   "outputs": [],
   "source": []
  },
  {
   "cell_type": "code",
   "execution_count": null,
   "id": "877f0fe0",
   "metadata": {},
   "outputs": [],
   "source": []
  },
  {
   "cell_type": "code",
   "execution_count": null,
   "id": "d5a3d5c4",
   "metadata": {},
   "outputs": [],
   "source": []
  },
  {
   "cell_type": "code",
   "execution_count": null,
   "id": "a0321896",
   "metadata": {},
   "outputs": [],
   "source": []
  },
  {
   "cell_type": "code",
   "execution_count": null,
   "id": "3a9a1d22",
   "metadata": {},
   "outputs": [],
   "source": []
  },
  {
   "cell_type": "code",
   "execution_count": null,
   "id": "1c1ea230",
   "metadata": {},
   "outputs": [],
   "source": []
  },
  {
   "cell_type": "code",
   "execution_count": null,
   "id": "55e1d4cd",
   "metadata": {},
   "outputs": [],
   "source": []
  },
  {
   "cell_type": "code",
   "execution_count": null,
   "id": "55b771a4",
   "metadata": {},
   "outputs": [],
   "source": []
  },
  {
   "cell_type": "code",
   "execution_count": null,
   "id": "2c7d9bde",
   "metadata": {},
   "outputs": [],
   "source": []
  },
  {
   "cell_type": "code",
   "execution_count": null,
   "id": "a906d38f",
   "metadata": {},
   "outputs": [],
   "source": []
  },
  {
   "cell_type": "code",
   "execution_count": null,
   "id": "ae6a96b6",
   "metadata": {},
   "outputs": [],
   "source": []
  },
  {
   "cell_type": "code",
   "execution_count": 16,
   "id": "686c78bc",
   "metadata": {
    "ExecuteTime": {
     "end_time": "2021-12-28T21:02:17.418087Z",
     "start_time": "2021-12-28T21:02:17.414254Z"
    }
   },
   "outputs": [
    {
     "data": {
      "text/plain": [
       "'/Users/cock/kDrive/PhD/Projects/Labs/beerslaw-lab/notebooks/8 - timelines'"
      ]
     },
     "execution_count": 16,
     "metadata": {},
     "output_type": "execute_result"
    }
   ],
   "source": [
    "pwd"
   ]
  },
  {
   "cell_type": "code",
   "execution_count": 17,
   "id": "bf4dfe9e",
   "metadata": {
    "ExecuteTime": {
     "end_time": "2021-12-28T21:02:23.272367Z",
     "start_time": "2021-12-28T21:02:23.268266Z"
    }
   },
   "outputs": [
    {
     "name": "stdout",
     "output_type": "stream",
     "text": [
      "/Users/cock/kDrive/PhD/Projects/Labs/beerslaw-lab/src\n"
     ]
    }
   ],
   "source": [
    "cd ../../src"
   ]
  },
  {
   "cell_type": "code",
   "execution_count": 18,
   "id": "da7ef248",
   "metadata": {
    "ExecuteTime": {
     "end_time": "2021-12-28T21:02:23.472779Z",
     "start_time": "2021-12-28T21:02:23.469953Z"
    }
   },
   "outputs": [],
   "source": [
    "with open(experiment_path + 'config.yaml', 'rb') as fp:\n",
    "    config = pickle.load(fp)\n",
    "    "
   ]
  },
  {
   "cell_type": "code",
   "execution_count": 19,
   "id": "6e0b92b4",
   "metadata": {
    "ExecuteTime": {
     "end_time": "2021-12-28T21:02:32.043924Z",
     "start_time": "2021-12-28T21:02:32.039489Z"
    }
   },
   "outputs": [
    {
     "data": {
      "text/plain": [
       "{'path': '../data/sequenced_simulations/stateaction_secondslstm/p_2013_lidsvdphyjs_t2_sequenced.pkl',\n",
       " 'length': 78,\n",
       " 'learner_id': 'svdphyjs'}"
      ]
     },
     "execution_count": 19,
     "metadata": {},
     "output_type": "execute_result"
    }
   ],
   "source": [
    "config['id_dictionary']['sequences'][0]"
   ]
  },
  {
   "cell_type": "code",
   "execution_count": 20,
   "id": "f53a6f7a",
   "metadata": {
    "ExecuteTime": {
     "end_time": "2021-12-28T21:03:05.446230Z",
     "start_time": "2021-12-28T21:03:05.442698Z"
    }
   },
   "outputs": [],
   "source": [
    "with open(experiment_path + 'config.yaml', 'rb') as fp:\n",
    "    config = pickle.load(fp)\n",
    "    id_dictionary = config['id_dictionary']"
   ]
  },
  {
   "cell_type": "code",
   "execution_count": 22,
   "id": "a6d872af",
   "metadata": {
    "ExecuteTime": {
     "end_time": "2021-12-28T21:03:56.514297Z",
     "start_time": "2021-12-28T21:03:56.403968Z"
    }
   },
   "outputs": [],
   "source": [
    "with open('../data/post_test/rankings.pkl', 'rb') as fp:\n",
    "    rankings = pickle.load(fp)\n",
    "    id_rankings = {rankings.iloc[i]['username']: rankings.iloc[i]['ranking'] for i in range(len(rankings))}"
   ]
  },
  {
   "cell_type": "code",
   "execution_count": 23,
   "id": "75d8967d",
   "metadata": {
    "ExecuteTime": {
     "end_time": "2021-12-28T21:03:58.988535Z",
     "start_time": "2021-12-28T21:03:58.974926Z"
    }
   },
   "outputs": [
    {
     "data": {
      "text/plain": [
       "{'bezdgyya': '0123',\n",
       " 'y7p64n6z': '3012',\n",
       " '892r4czm': '2031',\n",
       " 'uhbpoog9': '0213',\n",
       " 'bed4zkv2': '1023',\n",
       " 'ytrbygud': '0231',\n",
       " 'vqebanqv': '2031',\n",
       " 'mwfdr4ys': '3120',\n",
       " 'r2e3h3tm': '2031',\n",
       " '8ga2zn5h': '2031',\n",
       " '3qwayak9': '3012',\n",
       " 'fh76v5qx': '0231',\n",
       " '6tgyhcuh': '0321',\n",
       " 'd72hfax6': '3012',\n",
       " 'fryxwskq': '2130',\n",
       " 'favvtnnf': '3021',\n",
       " 'qvna6pyz': '0132',\n",
       " 'addf7f7d': '3012',\n",
       " '9sgu2tbg': '0213',\n",
       " 'k7p5eryf': '2310',\n",
       " 'pesfpzbv': '3012',\n",
       " 'jpccnav5': '0321',\n",
       " 'xtnmv9qf': '2130',\n",
       " 'r78kg7d3': '1023',\n",
       " 'uqzxsym7': '3012',\n",
       " '8jp62suc': '2013',\n",
       " '63v3czy6': '0213',\n",
       " '88kjzd8b': '0231',\n",
       " '7hrf6cdu': '3012',\n",
       " 'vwfpuqaz': '3102',\n",
       " '3w54b2bu': '2103',\n",
       " 's78drqcg': '3102',\n",
       " '8rtwmb8t': '3012',\n",
       " 'uthx49rq': '2310',\n",
       " 'bjy2zpww': '0321',\n",
       " 'zy256ycq': '0123',\n",
       " 'fu6nsdhs': '2031',\n",
       " 'm3d89p29': '3210',\n",
       " '5h9umyr6': '2031',\n",
       " '4b4dkjuw': '0123',\n",
       " '46bty2zg': '3012',\n",
       " 'z8hvrhwb': '3012',\n",
       " 'my6csh6m': '0321',\n",
       " 'krd7m9vb': '3120',\n",
       " 'yc3vmnuf': '1320',\n",
       " '2ae6q3hw': '2031',\n",
       " '2hr6mkdc': '3120',\n",
       " '8nh4zvcp': '0213',\n",
       " 's2up6gmm': '0231',\n",
       " '47ce49e4': '2013',\n",
       " 'fj5tdybn': '0231',\n",
       " 'y8qbtkmf': '2130',\n",
       " 'sr34qyfx': '3120',\n",
       " 'ntqpqkpq': '2130',\n",
       " 'r29wzm6f': '2130',\n",
       " 'zgs84jfy': '3201',\n",
       " 'dzakgq29': '3012',\n",
       " 'ybxahrra': '2103',\n",
       " 'x5sm9pfu': '2103',\n",
       " 'b72hbgvw': '2130',\n",
       " 'g43q3d94': '3201',\n",
       " 'vqumj3t3': '0231',\n",
       " '4vuc8rr3': '3021',\n",
       " 'cwgvxrvx': '2130',\n",
       " 'rmd35un4': '2013',\n",
       " '55yavcue': '3210',\n",
       " '33asfz2u': '1320',\n",
       " 'rfand3tt': '2301',\n",
       " 'ew6cfr37': '0231',\n",
       " 'z8dtc572': '0321',\n",
       " 't7728bqp': '2301',\n",
       " 'tsvcrpeg': '0231',\n",
       " 'xngb9hff': '2013',\n",
       " 'gyerx2d9': '0123',\n",
       " 'wvxkvhne': '3012',\n",
       " 'o9ffsiwt': '0312',\n",
       " 'ecaf72fu': '3120',\n",
       " 'bf4iuomx': '0312',\n",
       " 'qsx2cc4b': '2031',\n",
       " 'kq2e6dgu': '3012',\n",
       " 'oikzz9af': '3012',\n",
       " 'xau6wapw': '1032',\n",
       " 'ac4q67z9': '2130',\n",
       " 'r2q9q35x': '0123',\n",
       " 'p2u7xw38': '3012',\n",
       " 'n6zakrku': '3012',\n",
       " 'padezf8m': '0312',\n",
       " 'amqnxthw': '2031',\n",
       " 'j9ukgkp5': '3012',\n",
       " 'szvqb37f': '3201',\n",
       " 'dnvedphf': '2301',\n",
       " 'chca7sdb': '3120',\n",
       " 'temu2736': '3120',\n",
       " 'v2kw3kup': '3012',\n",
       " 'mcjaj2aj': '3210',\n",
       " 'xuwyv9hz': '2103',\n",
       " 'h543nsc8': '2103',\n",
       " 'wxz98urt': '3012',\n",
       " 'qk6q49f4': '2103',\n",
       " 'r42kwnt7': '2103',\n",
       " 'jvxejtp9': '0231',\n",
       " 'vh8vedkw': '2310',\n",
       " 'm9u6p93a': '3021',\n",
       " '4s7gthwf': '3201',\n",
       " 'nmgve3yy': '2130',\n",
       " '3st3y5gc': '3120',\n",
       " 'fyf6ag5v': '3102',\n",
       " 'fm5rcvdy': '1230',\n",
       " 'wger3sfa': '2013',\n",
       " 'sjz2rptd': '0231',\n",
       " 'b2q8ay65': '2013',\n",
       " 'u96tpd55': '0312',\n",
       " '9p9gwu88': '2031',\n",
       " 'pyamv67t': '3120',\n",
       " 'p6ut882m': '0231',\n",
       " 'egg8756y': '3012',\n",
       " 'eau7bsmq': '2031',\n",
       " 'zxp438xr': '3012',\n",
       " 'va43652k': '3012',\n",
       " 'p44vw7td': '0231',\n",
       " 'z5dzzgk5': '3210',\n",
       " 'baqyfz2h': '3120',\n",
       " 'mzjq6z9t': '0231',\n",
       " 'v9sra3j2': '0213',\n",
       " '4ak6da99': '3120',\n",
       " '5zqfzwjg': '3012',\n",
       " 'sz8qvgyv': '2103',\n",
       " 'xw9qt6r4': '0213',\n",
       " '85pdk9mq': '0312',\n",
       " 'svdphyjs': '2013',\n",
       " '982cf4dn': '3120',\n",
       " '6rfakyp7': '2130',\n",
       " '3kzp9bet': '3012',\n",
       " '2ejxq2u8': '2301',\n",
       " 'qkeyp2rg': '0312',\n",
       " 'sm8sfpcg': '3021',\n",
       " 'eb9iv6v2': '3102',\n",
       " 'ssz3uyqn': '3201',\n",
       " 's8w65sm5': '1203',\n",
       " '5a69aw4h': '3102',\n",
       " 'dbt5na3s': '0213',\n",
       " 'e3b96acv': '2013',\n",
       " '5y535ct3': '2310',\n",
       " '6bq62prp': '3120',\n",
       " 'ay2erc3c': '3120',\n",
       " 'r74r26kt': '0312',\n",
       " 'jwajupwj': '3120',\n",
       " 'j6nndaxp': '3102',\n",
       " '4vtjgtja': '0123',\n",
       " 'araav4jr': '2130',\n",
       " 'xvsgn53d': '2310',\n",
       " '7ygreyfc': '3012',\n",
       " 'nba9d6t2': '2310',\n",
       " 'smqjhu44': '0231',\n",
       " 'qpmzsb6t': '2013',\n",
       " '8ethqmkd': '1302',\n",
       " 'upkt7qb4': '1203',\n",
       " 'xe7c36dk': '3012',\n",
       " 'ydws5xx9': '0231',\n",
       " '3se7z466': '3210',\n",
       " 'akgpua6j': '3012',\n",
       " '84nmc3df': '2301',\n",
       " 'nsj6k2rg': '2031',\n",
       " 'sx3vqc32': '2013',\n",
       " '9aagpn4d': '2301',\n",
       " 'mwwddfvg': '3021',\n",
       " 'xj86wyup': '3120',\n",
       " 'hkvk9vt9': '0231',\n",
       " 'jkbx6axr': '2310',\n",
       " 'ujp9fgpn': '2031',\n",
       " '5zrt4f8z': '2031',\n",
       " 'tzpqpfaa': '0213',\n",
       " '2ep3hayy': '3012',\n",
       " 'e8zdytr2': '0213',\n",
       " 'hg7zc2sv': '0213',\n",
       " '3xcaamq9': '3012',\n",
       " '4k4dk9pu': '2031',\n",
       " 'fzagvhvf': '3120',\n",
       " 'y9tk3ysm': '3012',\n",
       " 'tzbaaz7e': '0312',\n",
       " 'sgsxmkfm': '0312',\n",
       " 'cjarhqn9': '0132',\n",
       " '6ruh7enb': '0231',\n",
       " '7fj2vydr': '2013',\n",
       " 'suyrrcqe': '0321',\n",
       " 'chm4sr6j': '0231',\n",
       " 'gvqh7qr2': '1032',\n",
       " 'zkrr45y5': '2013',\n",
       " '4rhnvke9': '3120',\n",
       " '7xhcecye': '3021',\n",
       " 'qsd9cb5e': '0312',\n",
       " 's7mdq5tk': '0231',\n",
       " 'pbxyuw7u': '3012',\n",
       " 'dk43m2pe': '0231',\n",
       " 'e22ppyf7': '0231',\n",
       " 'ur9sxzx7': '1032',\n",
       " 'aj47uhb9': '0312',\n",
       " 'cb6wcvyn': '2130',\n",
       " 'nmptx7nj': '3210',\n",
       " 'puzxz678': '3120',\n",
       " '3gqs3sgc': '3120',\n",
       " 'tt5n8d2r': '0312',\n",
       " '2crhmbq7': '3210',\n",
       " 'urwu33jd': '3210',\n",
       " 'n977pem4': '3120',\n",
       " 'qfu6r8c7': '0312',\n",
       " 'cb3z5rjs': '2103',\n",
       " 'dmdc53tx': '3012',\n",
       " 'fw2ajjmt': '2103',\n",
       " 'rg4fgfyh': '2103',\n",
       " 'srmr7pcp': '2130',\n",
       " 'uqven68r': '1032',\n",
       " 'u4zu9xxc': '3012',\n",
       " 'hrhu4yph': '2130',\n",
       " 'zbabnwym': '0312',\n",
       " 'xdxyjh8j': '3012',\n",
       " '4e438nww': '3012',\n",
       " 'drccqhk4': '2130',\n",
       " 'nemddmx6': '2031',\n",
       " 'dubyutqd': '1203',\n",
       " 'wu7kdm6q': '0312',\n",
       " '39htvmt5': '3021',\n",
       " 'sctj44cs': '3012',\n",
       " 'jnjd79vh': '3012',\n",
       " 'qqf6nsga': '2130',\n",
       " 'qevswkvj': '3012',\n",
       " 'xz56yha8': '0321',\n",
       " 'bebyve9b': '0231',\n",
       " 'pmd5dyu3': '3102',\n",
       " 'rwax4gk7': '1023',\n",
       " 'jcrv9m9j': '3120',\n",
       " 'jamrhf3h': '3102',\n",
       " '552gbupp': '1032',\n",
       " '5xuzjwdp': '3012',\n",
       " 'mkw5afyy': '1320',\n",
       " 'nw65tu6j': '3120',\n",
       " 'nfshnktq': '3012',\n",
       " 'eh9jq2bp': '3102',\n",
       " 'p6269reg': '0321',\n",
       " 'p6mkaa4e': '0213',\n",
       " '4k4kc2k6': '2031',\n",
       " 'a3vdjxy9': '2031',\n",
       " 'nj859xxh': '2013',\n",
       " 'crak75dx': '2103',\n",
       " 'jhrkm85q': '2013',\n",
       " '6j6u2yct': '3021',\n",
       " '5es5yqs8': '0213',\n",
       " 'unkrat9w': '3021',\n",
       " 'beypwbck': '3012',\n",
       " 'wnurkn96': '2103',\n",
       " 'jydsy777': '3102',\n",
       " 'uamuwrx2': '3120',\n",
       " '9qvk2wew': '2130',\n",
       " 'uhq3p7yr': '3012',\n",
       " '9p4h3zdx': '0321',\n",
       " 'v5gwycag': '0123',\n",
       " 'wyj76ntd': '2103',\n",
       " '4jchqv4d': '1302',\n",
       " 'u6c3cp6c': '2130',\n",
       " 'm4zvafhs': '0213',\n",
       " 'u25vrfyy': '3102',\n",
       " 'c9dj36r7': '3012',\n",
       " 'fy29cvrj': '3120',\n",
       " 'st3mf78y': '0231',\n",
       " '5f4q4ng5': '3021',\n",
       " 'f54jkrsw': '3012',\n",
       " '6z7nfy2j': '2013',\n",
       " 'rdy7sx9b': '0312',\n",
       " '5j7hdews': '3120',\n",
       " 'uad7cmhv': '3210',\n",
       " 'hrxpbujy': '2130',\n",
       " 'wbdyh5vk': '2031',\n",
       " 'wktpsvp8': '2103',\n",
       " '22wyn9xy': '3210',\n",
       " '3vsn2h9f': '2031',\n",
       " '9wdm7zue': '3012',\n",
       " '5m3ka2m2': '3120',\n",
       " '9yv4uxn3': '2031',\n",
       " 'vjr7tshm': '0312',\n",
       " 'c87kgzbr': '3012',\n",
       " 'qjfn2j8z': '1230',\n",
       " 'h4hxzc6s': '3201',\n",
       " 'rdbqasqa': '1320',\n",
       " 'yez72a8b': '2103',\n",
       " 'gu7jpyum': '3201',\n",
       " 'x844md8u': '3201',\n",
       " 'a57jkjgv': '2130',\n",
       " 'qn4qjrvd': '2130',\n",
       " 'urxv4evt': '2130',\n",
       " 'sgdgynxy': '0231',\n",
       " 'uagxrke6': '2103',\n",
       " 's9prcjfd': '3012',\n",
       " 'vckta85p': '2130',\n",
       " '63xqh9t5': '3102',\n",
       " 'upp6pqmx': '3120',\n",
       " 'yxf7q6ap': '2031',\n",
       " 'wpszzhxa': '3120',\n",
       " 'xpyjyx4m': '3120',\n",
       " 'w9w2hw35': '2130',\n",
       " 'pggnv6xw': '2130',\n",
       " 'qner25zp': '2031',\n",
       " 'mnhmyuhb': '2031',\n",
       " 'cp7mfn24': '3210',\n",
       " 't3dwkezr': '3120',\n",
       " 'npkrjraq': '2031',\n",
       " 'zs35fg8g': '3012',\n",
       " 'aurjfgnn': '0213',\n",
       " 'nrxpa2ac': '0231',\n",
       " 'a6t5p3sb': '0321',\n",
       " '6tg95rzr': '0231',\n",
       " 'h75kp27p': '2031',\n",
       " 'v2cxb3a5': '3021',\n",
       " 'kg43uepa': '0231',\n",
       " '4aaspwgs': '2103',\n",
       " 'v5w2e3zw': '0231',\n",
       " 's47edumx': '3102',\n",
       " 'knun7j9s': '2031',\n",
       " '3s6pz8qy': '1230',\n",
       " 'b8g49nvw': '3120',\n",
       " 'dq4zzkyt': '0312',\n",
       " 'ryfqnvfh': '2130',\n",
       " 'uswb2jez': '2031',\n",
       " 'xsxkdf7k': '0213',\n",
       " 'neuwx57b': '3102',\n",
       " '26z3wbqz': '2130',\n",
       " 'jx3yyy26': '3120',\n",
       " 'g4xpwwac': '1023',\n",
       " '2cetp8yc': '2130',\n",
       " '6cs3annc': '1302',\n",
       " 'npatrq7r': '3021',\n",
       " '7xwv3xfe': '1320',\n",
       " 'xcmyd5r5': '3021',\n",
       " '7ck7mq6a': '0312',\n",
       " '2xh9zuvc': '0213',\n",
       " 'qdp9ant4': '0231',\n",
       " 'rrykpeqz': '0213',\n",
       " 'g6z8qykr': '3012',\n",
       " 'prr8qsns': '0321',\n",
       " 'h9t9mxtx': '1023',\n",
       " 'caq55qe8': '3012',\n",
       " 'vhsgf3xa': '0321',\n",
       " 'knbr3qun': '2031',\n",
       " '7g36g5tz': '0312',\n",
       " 'bqmcqxyx': '0321',\n",
       " 'fs32fqe3': '3012',\n",
       " '9xc2v9vu': '2031',\n",
       " 'xmh5qd3z': '0321',\n",
       " 'gpq26qq9': '3120',\n",
       " '5pt9tpaj': '0321',\n",
       " 'gc663sap': '3120',\n",
       " '4rjjdez9': '0321',\n",
       " 'rjx9d3gf': '3012',\n",
       " '7zjqat99': '0321',\n",
       " 'm4frzqy6': '3021',\n",
       " 'jwntt96k': '0213',\n",
       " 'q4z45p85': '0231',\n",
       " 'p5t7d3sb': '0231',\n",
       " 'evqzjs5p': '0231',\n",
       " 'tcnba4ca': '3201',\n",
       " '4bu2rkv3': '0213',\n",
       " 'd7777ske': '3012',\n",
       " 'mhek2323': '0213',\n",
       " 'e93na59g': '2031',\n",
       " 'ujpk3gf4': '3012',\n",
       " 'fddsxudu': '1320',\n",
       " '76wvaew4': '3012',\n",
       " 'z6ur4njh': '3210',\n",
       " '6fkbh35u': '3120',\n",
       " '9pjrsbth': '3102',\n",
       " '26mtbtye': '3021',\n",
       " 'ecy9k833': '2031',\n",
       " 'uqw5vh3j': '2031',\n",
       " 'wwj8nq34': '3012',\n",
       " 'tvtbbfhg': '3120',\n",
       " '9hdhrrat': '0312',\n",
       " 'edmrufua': '2310',\n",
       " 'gk7r7cee': '3021',\n",
       " 'vbym9sms': '0312',\n",
       " 'hf8uz5t3': '3210',\n",
       " 'bje92qp8': '0213',\n",
       " 'mp2aa258': '0123',\n",
       " '4zsmj6s3': '3012',\n",
       " 'wguewwkp': '3210',\n",
       " 'uenn9vgu': '3021',\n",
       " 'kq4eymtu': '2130',\n",
       " 'bswtap2v': '2031',\n",
       " '9rked2x5': '3012',\n",
       " 'phupma28': '0213',\n",
       " '7t9zwtmr': '3102',\n",
       " 'n3977erj': '3012',\n",
       " 'x3ykresy': '1230',\n",
       " 'v5wcy2tt': '3012',\n",
       " '7e4jt9hn': '2103',\n",
       " '6uakv8nx': '3210',\n",
       " '8pskk9tr': '0231',\n",
       " '5vvwhzqs': '3012',\n",
       " 'eqdntxer': '2310',\n",
       " 'rgeb7wr9': '2031',\n",
       " '6h5vmwys': '0123',\n",
       " 'ht865nws': '1320',\n",
       " 'sh6tu9g2': '2013',\n",
       " 'sp82v9ds': '0231',\n",
       " 'm35ub35g': '2013',\n",
       " 'w7asnymz': '0213',\n",
       " 'j9qgkaej': '3120',\n",
       " 'rve4n5nv': '3210',\n",
       " 'djnysnd6': '2031',\n",
       " 'z4nrhe2e': '3120',\n",
       " 'zgyc948n': '0213',\n",
       " 'cdq4drkk': '2013',\n",
       " 'w25mph3c': '0231',\n",
       " 'tsrnkj8w': '0213',\n",
       " '2xjmtbvz': '2031',\n",
       " '3e3k2662': '2031',\n",
       " 'k8x4ru7k': '0321',\n",
       " 'm749z8u9': '2031',\n",
       " 'bg7x3db2': '2013',\n",
       " '43e33t3h': '2031',\n",
       " 'ky8kttpv': '0213',\n",
       " '9bp6yz7m': '0231',\n",
       " 'ke6msbfr': '3120',\n",
       " 't6rjyw6s': '2031'}"
      ]
     },
     "execution_count": 23,
     "metadata": {},
     "output_type": "execute_result"
    }
   ],
   "source": [
    "id_rankings"
   ]
  },
  {
   "cell_type": "code",
   "execution_count": null,
   "id": "34ec4279",
   "metadata": {},
   "outputs": [],
   "source": []
  },
  {
   "cell_type": "code",
   "execution_count": null,
   "id": "b593b0e6",
   "metadata": {},
   "outputs": [],
   "source": []
  },
  {
   "cell_type": "code",
   "execution_count": null,
   "id": "f7d6ada9",
   "metadata": {},
   "outputs": [],
   "source": []
  },
  {
   "cell_type": "code",
   "execution_count": null,
   "id": "c656773a",
   "metadata": {},
   "outputs": [],
   "source": []
  },
  {
   "cell_type": "code",
   "execution_count": null,
   "id": "7b24de16",
   "metadata": {},
   "outputs": [],
   "source": []
  },
  {
   "cell_type": "code",
   "execution_count": null,
   "id": "41179a46",
   "metadata": {},
   "outputs": [],
   "source": []
  },
  {
   "cell_type": "code",
   "execution_count": null,
   "id": "d8375093",
   "metadata": {},
   "outputs": [],
   "source": []
  },
  {
   "cell_type": "code",
   "execution_count": null,
   "id": "7bcee812",
   "metadata": {},
   "outputs": [],
   "source": []
  },
  {
   "cell_type": "code",
   "execution_count": null,
   "id": "88c88f4c",
   "metadata": {},
   "outputs": [],
   "source": []
  },
  {
   "cell_type": "code",
   "execution_count": null,
   "id": "fb3a38f7",
   "metadata": {},
   "outputs": [],
   "source": []
  }
 ],
 "metadata": {
  "kernelspec": {
   "display_name": "Python 3 (ipykernel)",
   "language": "python",
   "name": "python3"
  },
  "language_info": {
   "codemirror_mode": {
    "name": "ipython",
    "version": 3
   },
   "file_extension": ".py",
   "mimetype": "text/x-python",
   "name": "python",
   "nbconvert_exporter": "python",
   "pygments_lexer": "ipython3",
   "version": "3.8.12"
  },
  "toc": {
   "base_numbering": 1,
   "nav_menu": {},
   "number_sections": true,
   "sideBar": true,
   "skip_h1_title": false,
   "title_cell": "Table of Contents",
   "title_sidebar": "Contents",
   "toc_cell": false,
   "toc_position": {},
   "toc_section_display": true,
   "toc_window_display": true
  }
 },
 "nbformat": 4,
 "nbformat_minor": 5
}
