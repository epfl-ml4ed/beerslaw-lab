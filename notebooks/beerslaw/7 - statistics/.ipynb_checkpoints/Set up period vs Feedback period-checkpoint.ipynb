{
 "cells": [
  {
   "cell_type": "code",
   "execution_count": 8,
   "id": "81b1613f",
   "metadata": {
    "ExecuteTime": {
     "end_time": "2022-04-29T12:00:10.183572Z",
     "start_time": "2022-04-29T12:00:10.157018Z"
    }
   },
   "outputs": [],
   "source": [
    "import os\n",
    "import pickle\n",
    "import dill\n",
    "import yaml\n",
    "\n",
    "from matplotlib import pyplot as plt"
   ]
  },
  {
   "cell_type": "code",
   "execution_count": 6,
   "id": "d507c9f7",
   "metadata": {
    "ExecuteTime": {
     "end_time": "2022-04-29T11:57:38.814564Z",
     "start_time": "2022-04-29T11:57:38.803970Z"
    }
   },
   "outputs": [
    {
     "name": "stdout",
     "output_type": "stream",
     "text": [
      "/Users/cock/kDrive/PhD/Projects/Labs/beerslaw-lab/src\n"
     ]
    }
   ],
   "source": [
    "cd ../../../src"
   ]
  },
  {
   "cell_type": "code",
   "execution_count": 2,
   "id": "0878c417",
   "metadata": {
    "ExecuteTime": {
     "end_time": "2022-04-29T11:56:01.160608Z",
     "start_time": "2022-04-29T11:56:01.155714Z"
    }
   },
   "outputs": [],
   "source": [
    "path = '../data/beerslaw/sequenced_simulations/simplestate_secondslstm/id_dictionary.pkl'\n",
    "with open(path, 'rb') as fp:\n",
    "    idd = pickle.load(fp)"
   ]
  },
  {
   "cell_type": "code",
   "execution_count": 9,
   "id": "717b1c18",
   "metadata": {
    "ExecuteTime": {
     "end_time": "2022-04-29T12:00:11.518819Z",
     "start_time": "2022-04-29T12:00:11.508438Z"
    }
   },
   "outputs": [],
   "source": [
    "map_path = '../data/beerslaw/experiment_keys/permutation_maps/vector_binary.yaml'\n",
    "with open(map_path) as fp:\n",
    "    ranking_map = yaml.load(fp, Loader=yaml.FullLoader)"
   ]
  },
  {
   "cell_type": "code",
   "execution_count": 38,
   "id": "e9522e82",
   "metadata": {
    "ExecuteTime": {
     "end_time": "2022-04-29T12:21:16.699400Z",
     "start_time": "2022-04-29T12:21:16.611887Z"
    }
   },
   "outputs": [],
   "source": [
    "counter = {key:{'time':0, 'times':[], 'instance': 0} for key in ranking_map['labels']}\n",
    "for seq_info in idd['sequences']:\n",
    "    # Read sequences\n",
    "    sequence_path = idd['sequences'][seq_info]['path']\n",
    "    sequence_path = sequence_path.replace('../data', '../data/beerslaw')\n",
    "    with open(sequence_path, 'rb') as fp:\n",
    "        simseq = pickle.load(fp)\n",
    "        \n",
    "    # Get the counts\n",
    "    time = 0\n",
    "    for i, seq in enumerate(simseq['sequence']):\n",
    "        if seq[3] != 0:\n",
    "            time += (simseq['end'][i] - simseq['begin'][i])\n",
    "        else:\n",
    "            break\n",
    "            \n",
    "    label = ranking_map['map'][simseq['permutation']]\n",
    "    counter[label]['time'] += time\n",
    "    counter[label]['times'].append(time)\n",
    "    counter[label]['instance'] += 1\n",
    "        \n",
    "    "
   ]
  },
  {
   "cell_type": "code",
   "execution_count": 43,
   "id": "f529407b",
   "metadata": {
    "ExecuteTime": {
     "end_time": "2022-04-29T12:22:07.626202Z",
     "start_time": "2022-04-29T12:22:07.168067Z"
    }
   },
   "outputs": [
    {
     "data": {
      "image/png": "[encoded data removed]",
      "text/plain": [
       "<Figure size 864x1080 with 4 Axes>"
      ]
     },
     "metadata": {
      "needs_background": "light"
     },
     "output_type": "display_data"
    }
   ],
   "source": [
    "colour_map = {\n",
    "    '000': '#FAF4D3',\n",
    "    '001': '#E6D06A',\n",
    "    '010': '#DCBE35',\n",
    "    '100': '#D1AC00',\n",
    "    '011': '#004643',\n",
    "    '101': '#3F7267',\n",
    "    '110': '#7D9D8B',\n",
    "    '111': '#0C1618'\n",
    "}\n",
    "\n",
    "fig, axes = plt.subplots(4, 1, figsize=(12, 15))\n",
    "for label in counter:\n",
    "    ax_nr = int(label[0]) + int(label[1]) + int(label[2])\n",
    "    axes[ax_nr].hist(counter[label]['times'], label=label, color=colour_map[label], alpha=0.7, density=True)\n",
    "    \n",
    "for i in range(4):\n",
    "    axes[i].set_title('{} concepts'.format(i))\n",
    "    axes[i].set_xlim([0, 600])\n",
    "    axes[i].set_ylim([0, 0.030])\n",
    "\n",
    "plt.legend()\n",
    "plt.show()"
   ]
  },
  {
   "cell_type": "code",
   "execution_count": null,
   "id": "eafc77f8",
   "metadata": {},
   "outputs": [],
   "source": [
    "colour_map = {\n",
    "    '000': '#FAF4D3',\n",
    "    '0': 'FAF4D3',\n",
    "    '001': '#E6D06A',\n",
    "    '010': '#DCBE35',\n",
    "    '100': '#D1AC00',\n",
    "    '1': '#DCBE35',\n",
    "    '011': '#004643',\n",
    "    '101': '#3F7267',\n",
    "    '110': '#7D9D8B',\n",
    "    '2': '#004643',\n",
    "    '111': '#0C1618',\n",
    "    '3': '0C1618'\n",
    "}\n",
    "\n",
    "counter_aggregated = {\n",
    "    '0': counter['000']['times'],\n",
    "    '1': counter['001']['times'] + counter['010']['times'] + counter['100']['times'],\n",
    "    '2': counter['011']['times'] + counter['101']['times'] + counter['110']['times'],\n",
    "    '3': counter['111']['times']\n",
    "}\n",
    "\n",
    "fig, axes = plt.subplots(4, 1, figsize=(12, 15))\n",
    "for label in counter:\n",
    "    axes[int(label)].hist(counter_aggregated[label]['times'], label=label, color=colour_map[label], alpha=0.7, density=True)\n",
    "    \n",
    "for i in range(4):\n",
    "    axes[i].set_title('{} concepts'.format(i))\n",
    "    axes[i].set_xlim([0, 600])\n",
    "    axes[i].set_ylim([0, 0.030])\n",
    "\n",
    "plt.legend()\n",
    "plt.show()"
   ]
  },
  {
   "cell_type": "code",
   "execution_count": null,
   "id": "051d1f85",
   "metadata": {},
   "outputs": [],
   "source": []
  },
  {
   "cell_type": "code",
   "execution_count": null,
   "id": "1b5f5c84",
   "metadata": {},
   "outputs": [],
   "source": []
  },
  {
   "cell_type": "code",
   "execution_count": null,
   "id": "e8b83890",
   "metadata": {},
   "outputs": [],
   "source": []
  },
  {
   "cell_type": "code",
   "execution_count": null,
   "id": "6b2eea19",
   "metadata": {},
   "outputs": [],
   "source": []
  },
  {
   "cell_type": "code",
   "execution_count": null,
   "id": "c4e4a8c3",
   "metadata": {},
   "outputs": [],
   "source": []
  },
  {
   "cell_type": "code",
   "execution_count": null,
   "id": "91d3af03",
   "metadata": {},
   "outputs": [],
   "source": []
  },
  {
   "cell_type": "code",
   "execution_count": null,
   "id": "49126f0a",
   "metadata": {},
   "outputs": [],
   "source": []
  },
  {
   "cell_type": "code",
   "execution_count": null,
   "id": "17a7c8ee",
   "metadata": {},
   "outputs": [],
   "source": []
  },
  {
   "cell_type": "code",
   "execution_count": null,
   "id": "8e1b7f97",
   "metadata": {},
   "outputs": [],
   "source": []
  }
 ],
 "metadata": {
  "kernelspec": {
   "display_name": "Python 3 (ipykernel)",
   "language": "python",
   "name": "python3"
  },
  "language_info": {
   "codemirror_mode": {
    "name": "ipython",
    "version": 3
   },
   "file_extension": ".py",
   "mimetype": "text/x-python",
   "name": "python",
   "nbconvert_exporter": "python",
   "pygments_lexer": "ipython3",
   "version": "3.8.12"
  },
  "toc": {
   "base_numbering": 1,
   "nav_menu": {},
   "number_sections": true,
   "sideBar": true,
   "skip_h1_title": false,
   "title_cell": "Table of Contents",
   "title_sidebar": "Contents",
   "toc_cell": false,
   "toc_position": {},
   "toc_section_display": true,
   "toc_window_display": false
  }
 },
 "nbformat": 4,
 "nbformat_minor": 5
}
