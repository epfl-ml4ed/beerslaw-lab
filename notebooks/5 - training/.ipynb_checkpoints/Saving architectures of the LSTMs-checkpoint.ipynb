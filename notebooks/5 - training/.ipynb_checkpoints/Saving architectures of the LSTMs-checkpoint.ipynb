{
 "cells": [
  {
   "cell_type": "markdown",
   "id": "28175688",
   "metadata": {},
   "source": [
    "This notebooks crawls through the experiments and dumps \"architecture.pkl\" files."
   ]
  },
  {
   "cell_type": "code",
   "execution_count": 1,
   "id": "53493111",
   "metadata": {
    "ExecuteTime": {
     "end_time": "2021-12-19T23:24:29.824490Z",
     "start_time": "2021-12-19T23:24:29.816357Z"
    }
   },
   "outputs": [],
   "source": [
    "import os\n",
    "import pickle\n",
    "\n",
    "import re"
   ]
  },
  {
   "cell_type": "code",
   "execution_count": 2,
   "id": "ba6f3305",
   "metadata": {
    "ExecuteTime": {
     "end_time": "2021-12-19T23:24:30.085983Z",
     "start_time": "2021-12-19T23:24:30.081613Z"
    }
   },
   "outputs": [
    {
     "name": "stdout",
     "output_type": "stream",
     "text": [
      "/Users/cock/kDrive/PhD/Projects/Labs/beerslaw-lab/src\n"
     ]
    }
   ],
   "source": [
    "cd ../../src"
   ]
  },
  {
   "cell_type": "code",
   "execution_count": 3,
   "id": "67586a73",
   "metadata": {
    "ExecuteTime": {
     "end_time": "2021-12-19T23:24:30.192176Z",
     "start_time": "2021-12-19T23:24:30.187800Z"
    }
   },
   "outputs": [],
   "source": [
    "def get_model_paths(experiment_name:str):\n",
    "    '''\n",
    "    Returns a list of the paths where models were saved.\n",
    "    '''\n",
    "    model_paths = []\n",
    "    experiment_path = '../experiments/' + experiment_name\n",
    "    for (dirpath, dirnames, filenames) in os.walk(experiment_path):\n",
    "        files = [os.path.join(dirpath, file) for file in filenames]\n",
    "        model_paths.extend(files)\n",
    "    kw = 'model_training.csv'\n",
    "    model_paths = [path for path in model_paths if kw in path]\n",
    "    model_paths = [path for path in model_paths if 'exclude' not in path]\n",
    "    model_paths = ['/'.join(path.split('/')[:-1]) for path in model_paths]\n",
    "    model_paths = list(set(model_paths))\n",
    "    return model_paths"
   ]
  },
  {
   "cell_type": "code",
   "execution_count": 21,
   "id": "52c6fd76",
   "metadata": {
    "ExecuteTime": {
     "end_time": "2021-12-19T23:28:25.783974Z",
     "start_time": "2021-12-19T23:28:25.776878Z"
    }
   },
   "outputs": [],
   "source": [
    "def extract_features(model_name: str):\n",
    "    \"\"\"\n",
    "    Retrieves the architecture details from the name path.\n",
    "    \n",
    "    Args\n",
    "        model_name: path of the folder \n",
    "        \n",
    "    Returns\n",
    "        dictionary with the parameters\n",
    "    \"\"\"\n",
    "    # cell types\n",
    "    re_ct = re.compile('ct([A-z]*)_')\n",
    "    ct = re_ct.findall(model_name)[0]\n",
    "\n",
    "    # nlayers\n",
    "    re_nlayers = re.compile('[A-z]_nlayers([0-9]+)_')\n",
    "    nlayers = re_nlayers.findall(model_name)[0]\n",
    "\n",
    "    # ncells\n",
    "    re_ncells = re.compile('.*ncells\\[([0-9,\\s]+)\\]')\n",
    "    ncells = re_ncells.findall(model_name)[0]\n",
    "    ncells = ncells.split(', ')\n",
    "    ncells = [int(cell) for cell in ncells]\n",
    "\n",
    "    # dropout\n",
    "    re_dropout = re.compile('.*drop([0-9\\.]+)')\n",
    "    dropout = re_dropout.findall(model_name)[0]\n",
    "    dropout = dropout[0] + '.' + dropout[1:]\n",
    "\n",
    "    # optimiser\n",
    "    re_optimi = re.compile('.*optim([A-z]+)_loss')\n",
    "    optimi = re_optimi.findall(model_name)[0]\n",
    "\n",
    "    # batch size\n",
    "    re_bs = re.compile('.*bs([0-9]+)_')\n",
    "    bs = re_bs.findall(model_name)[0]\n",
    "\n",
    "    # epochs\n",
    "    re_epochs = re.compile('.*ep([0-9]+)long')\n",
    "    epochs = re_epochs.findall(model_name)[0]\n",
    "\n",
    "    settings = {\n",
    "        'cell_type': ct,\n",
    "        'n_layers': int(nlayers),\n",
    "        'n_cells': ncells,\n",
    "        'dropout': float(dropout),\n",
    "        'optimiser': optimi,\n",
    "        'batch_size': int(bs),\n",
    "        'epochs': int(epochs),\n",
    "        'padding_value': -1,\n",
    "        'loss': 'auc',\n",
    "        'shuffle':True,\n",
    "        'verbose': 1,\n",
    "        'early_stopping': False\n",
    "    }\n",
    "    return settings"
   ]
  },
  {
   "cell_type": "code",
   "execution_count": 22,
   "id": "78fef8c9",
   "metadata": {
    "ExecuteTime": {
     "end_time": "2021-12-19T23:28:26.355305Z",
     "start_time": "2021-12-19T23:28:26.351821Z"
    }
   },
   "outputs": [],
   "source": [
    "def dump_architecture(model_path:str):\n",
    "    \"\"\"\n",
    "    Reads the path, retrieves the architecture, and dumps the file there\n",
    "    \"\"\"\n",
    "    \n",
    "    model_name = model_path.split('/')[-1]\n",
    "    architectures = extract_features(model_name)\n",
    "    with open(model_path + '/architecture.pkl', 'wb') as fp:\n",
    "        pickle.dump(architectures, fp)"
   ]
  },
  {
   "cell_type": "code",
   "execution_count": 23,
   "id": "85bd870e",
   "metadata": {
    "ExecuteTime": {
     "end_time": "2021-12-19T23:28:26.619878Z",
     "start_time": "2021-12-19T23:28:26.617222Z"
    }
   },
   "outputs": [],
   "source": [
    "def dump_all_architectures(experiment_name:str):\n",
    "    model_paths = get_model_paths(experiment_name)\n",
    "    for path in model_paths:\n",
    "        dump_architecture(path)"
   ]
  },
  {
   "cell_type": "code",
   "execution_count": 24,
   "id": "1366a92e",
   "metadata": {
    "ExecuteTime": {
     "end_time": "2021-12-19T23:28:27.098624Z",
     "start_time": "2021-12-19T23:28:27.081638Z"
    }
   },
   "outputs": [
    {
     "name": "stdout",
     "output_type": "stream",
     "text": [
      "ctLSTM_nlayers3_ncells[4, 8, 4]_drop00_optimadam_lossauc_bs16_ep200long short term memory\n",
      "0.0\n",
      "ctLSTM_nlayers2_ncells[8, 16]_drop00_optimadam_lossauc_bs16_ep200long short term memory\n",
      "0.0\n",
      "ctLSTM_nlayers1_ncells[8]_drop00_optimadam_lossauc_bs16_ep200long short term memory\n",
      "0.0\n",
      "ctLSTM_nlayers1_ncells[8]_drop02_optimadam_lossauc_bs16_ep200long short term memory\n",
      "0.2\n",
      "ctLSTM_nlayers3_ncells[4, 8, 4]_drop02_optimadam_lossauc_bs16_ep200long short term memory\n",
      "0.2\n"
     ]
    }
   ],
   "source": [
    "dump_all_architectures('incremental/second round/')"
   ]
  },
  {
   "cell_type": "code",
   "execution_count": 9,
   "id": "17ddcad2",
   "metadata": {
    "ExecuteTime": {
     "end_time": "2021-12-19T23:25:21.039630Z",
     "start_time": "2021-12-19T23:25:21.025811Z"
    }
   },
   "outputs": [],
   "source": [
    "dump_all_architectures('incremental/second round/')"
   ]
  },
  {
   "cell_type": "code",
   "execution_count": null,
   "id": "5b80ad14",
   "metadata": {},
   "outputs": [],
   "source": []
  },
  {
   "cell_type": "code",
   "execution_count": null,
   "id": "f58798fe",
   "metadata": {},
   "outputs": [],
   "source": []
  },
  {
   "cell_type": "code",
   "execution_count": null,
   "id": "3f0c63f6",
   "metadata": {},
   "outputs": [],
   "source": []
  },
  {
   "cell_type": "code",
   "execution_count": null,
   "id": "1c7cdd4c",
   "metadata": {},
   "outputs": [],
   "source": []
  },
  {
   "cell_type": "code",
   "execution_count": null,
   "id": "d6c8819c",
   "metadata": {},
   "outputs": [],
   "source": []
  },
  {
   "cell_type": "code",
   "execution_count": null,
   "id": "1ce278ad",
   "metadata": {},
   "outputs": [],
   "source": []
  },
  {
   "cell_type": "code",
   "execution_count": null,
   "id": "629e2e30",
   "metadata": {},
   "outputs": [],
   "source": []
  },
  {
   "cell_type": "code",
   "execution_count": null,
   "id": "a2cf5e5b",
   "metadata": {},
   "outputs": [],
   "source": []
  },
  {
   "cell_type": "code",
   "execution_count": null,
   "id": "a43e7fe1",
   "metadata": {},
   "outputs": [],
   "source": []
  },
  {
   "cell_type": "code",
   "execution_count": null,
   "id": "846a3d10",
   "metadata": {},
   "outputs": [],
   "source": []
  },
  {
   "cell_type": "code",
   "execution_count": null,
   "id": "af9f9f05",
   "metadata": {},
   "outputs": [],
   "source": []
  },
  {
   "cell_type": "code",
   "execution_count": null,
   "id": "4eb6ae3d",
   "metadata": {},
   "outputs": [],
   "source": []
  },
  {
   "cell_type": "code",
   "execution_count": null,
   "id": "0ee68b7a",
   "metadata": {},
   "outputs": [],
   "source": []
  },
  {
   "cell_type": "code",
   "execution_count": null,
   "id": "148ae997",
   "metadata": {},
   "outputs": [],
   "source": []
  },
  {
   "cell_type": "code",
   "execution_count": null,
   "id": "766dbf26",
   "metadata": {},
   "outputs": [],
   "source": []
  },
  {
   "cell_type": "code",
   "execution_count": null,
   "id": "5750b33f",
   "metadata": {},
   "outputs": [],
   "source": []
  },
  {
   "cell_type": "code",
   "execution_count": null,
   "id": "4c5a207a",
   "metadata": {},
   "outputs": [],
   "source": []
  }
 ],
 "metadata": {
  "kernelspec": {
   "display_name": "Python 3 (ipykernel)",
   "language": "python",
   "name": "python3"
  },
  "language_info": {
   "codemirror_mode": {
    "name": "ipython",
    "version": 3
   },
   "file_extension": ".py",
   "mimetype": "text/x-python",
   "name": "python",
   "nbconvert_exporter": "python",
   "pygments_lexer": "ipython3",
   "version": "3.8.12"
  },
  "toc": {
   "base_numbering": 1,
   "nav_menu": {},
   "number_sections": true,
   "sideBar": true,
   "skip_h1_title": false,
   "title_cell": "Table of Contents",
   "title_sidebar": "Contents",
   "toc_cell": false,
   "toc_position": {},
   "toc_section_display": true,
   "toc_window_display": false
  }
 },
 "nbformat": 4,
 "nbformat_minor": 5
}
