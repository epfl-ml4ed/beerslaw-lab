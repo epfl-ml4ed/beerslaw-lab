{
 "cells": [
  {
   "cell_type": "markdown",
   "id": "4301099d",
   "metadata": {},
   "source": [
    "Creating a balanced test set for flat training (cross validation)"
   ]
  },
  {
   "cell_type": "code",
   "execution_count": 1,
   "id": "9e185bf8",
   "metadata": {
    "ExecuteTime": {
     "end_time": "2021-11-24T17:01:02.389660Z",
     "start_time": "2021-11-24T17:01:01.588959Z"
    }
   },
   "outputs": [],
   "source": [
    "import os\n",
    "import yaml\n",
    "import pickle\n",
    "\n",
    "import numpy as np\n",
    "import pandas as pd\n",
    "\n",
    "from matplotlib import pyplot as plt\n",
    "import seaborn as sns\n",
    "\n",
    "from sklearn.model_selection import train_test_split"
   ]
  },
  {
   "cell_type": "code",
   "execution_count": 2,
   "id": "32e1c88a",
   "metadata": {
    "ExecuteTime": {
     "end_time": "2021-11-24T17:01:02.395174Z",
     "start_time": "2021-11-24T17:01:02.391660Z"
    }
   },
   "outputs": [
    {
     "name": "stdout",
     "output_type": "stream",
     "text": [
      "/Users/cock/kDrive/PhD/Projects/Labs/beerslaw-lab/src\n"
     ]
    }
   ],
   "source": [
    "cd ../src/"
   ]
  },
  {
   "cell_type": "markdown",
   "id": "72642ea2",
   "metadata": {},
   "source": [
    "# Data\n"
   ]
  },
  {
   "cell_type": "code",
   "execution_count": 3,
   "id": "b303922c",
   "metadata": {
    "ExecuteTime": {
     "end_time": "2021-11-24T17:01:02.685558Z",
     "start_time": "2021-11-24T17:01:02.586563Z"
    }
   },
   "outputs": [],
   "source": [
    "with open('../data/post_test/rankings_scored.pkl', 'rb') as fp:\n",
    "    rankings = pickle.load(fp)\n",
    "    rankings['prior_4cat_knowledge'] = rankings['prior_4cat'].apply(lambda x: x[0] if x != 'none' else 0)\n",
    "    rankings['total_score'] = rankings['q1_score'] + rankings['q2_score'] + rankings['q3_score'] + rankings['q4_score'] + rankings['q5_score'] + rankings['q6_score']\n",
    "    \n",
    "# stratification columns (ideal separation)\n",
    "stratification = [\n",
    "    'language', 'field', 'year', 'gender', 'prior_4cat_knowledge', 'total_score'\n",
    "]\n",
    "rankings['stratification_column_v0'] = rankings['language'] + '_' + rankings['field'] + '_' + rankings['year'] + '_' + rankings['gender'].astype(str) + '_' + rankings['prior_4cat_knowledge'].astype(str) + '_' + rankings['total_score'].astype(str)\n",
    "rankings = rankings.dropna(subset=['stratification_column_v0'])\n",
    "\n",
    "# Check the labels that are alone \n",
    "## Prune language\n",
    "clean = rankings[['username', 'stratification_column_v0']].groupby('stratification_column_v0').nunique().reset_index()\n",
    "clean = clean[clean['username'] == 1]\n",
    "unique_attributes = list(clean['stratification_column_v0'])\n",
    "def reduce_attribute_no_lang(row, unique_attributes) -> str:\n",
    "    if row['stratification_column_v0'] in unique_attributes:\n",
    "        new_strat = row['field'] + '_' + row['year'] + '_' + str(row['gender']) + '_' + str(row['prior_4cat_knowledge']) + '_' + str(row['total_score'])\n",
    "        return new_strat\n",
    "    else:\n",
    "        return row['stratification_column_v0']\n",
    "rankings['stratification_column_v1'] = rankings.apply(lambda x: reduce_attribute_no_lang(x, unique_attributes), axis=1)\n",
    "## Prune language\n",
    "clean = rankings[['username', 'stratification_column_v1']].groupby('stratification_column_v1').nunique().reset_index()\n",
    "clean = clean[clean['username'] == 1]\n",
    "unique_attributes = list(clean['stratification_column_v1'])\n",
    "def reduce_attribute_no_lang(row, unique_attributes) -> str:\n",
    "    if row['stratification_column_v1'] in unique_attributes:\n",
    "        new_strat = row['year'] + '_' + str(row['gender']) + '_' + str(row['prior_4cat_knowledge']) + '_' + str(row['total_score'])\n",
    "        return new_strat\n",
    "    else:\n",
    "        return row['stratification_column_v1']\n",
    "rankings['stratification_column_v2'] = rankings.apply(lambda x: reduce_attribute_no_lang(x, unique_attributes), axis=1)\n",
    "\n",
    "## Round Score\n",
    "clean = rankings[['username', 'stratification_column_v2']].groupby('stratification_column_v2').nunique().reset_index()\n",
    "clean = clean[clean['username'] == 1]\n",
    "unique_attributes = list(clean['stratification_column_v2'])\n",
    "def reduce_attribute_no_lang(row, unique_attributes) -> str:\n",
    "    if row['stratification_column_v2'] in unique_attributes:\n",
    "        score = str(int(row['total_score']/6))\n",
    "        new_strat = row['year'] + '_' + str(row['gender']) + '_' + str(row['prior_4cat_knowledge']) + '_' + score\n",
    "        return new_strat\n",
    "    else:\n",
    "        return row['stratification_column_v2']\n",
    "rankings['stratification_column_v3'] = rankings.apply(lambda x: reduce_attribute_no_lang(x, unique_attributes), axis=1)\n",
    "\n",
    "# Minority genders together\n",
    "clean = rankings[['username', 'stratification_column_v3']].groupby('stratification_column_v3').nunique().reset_index()\n",
    "clean = clean[clean['username'] == 1]\n",
    "unique_attributes = list(clean['stratification_column_v3'])\n",
    "def reduce_attribute_no_lang(row, unique_attributes) -> str:\n",
    "    if row['stratification_column_v3'] in unique_attributes:\n",
    "        score = str(int(row['total_score']/6))\n",
    "        gender = str(int(row['gender'] > 1))\n",
    "        new_strat = row['year'] + '_' + gender + '_' + str(row['prior_4cat_knowledge']) + '_' + score\n",
    "        return new_strat\n",
    "    else:\n",
    "        return row['stratification_column_v3']\n",
    "rankings['stratification_column_v4'] = rankings.apply(lambda x: reduce_attribute_no_lang(x, unique_attributes), axis=1)\n",
    "\n",
    "# Strip the year out\n",
    "clean = rankings[['username', 'stratification_column_v4']].groupby('stratification_column_v4').nunique().reset_index()\n",
    "clean = clean[clean['username'] == 1]\n",
    "unique_attributes = list(clean['stratification_column_v4'])\n",
    "def reduce_attribute_no_lang(row, unique_attributes) -> str:\n",
    "    if row['stratification_column_v4'] in unique_attributes:\n",
    "        score = str(int(row['total_score']/6))\n",
    "        gender = str(int(row['gender'] > 1))\n",
    "        new_strat = gender + '_' + str(row['prior_4cat_knowledge']) + '_' + score\n",
    "        return new_strat\n",
    "    else:\n",
    "        return row['stratification_column_v4']\n",
    "rankings['stratification_column_v5'] = rankings.apply(lambda x: reduce_attribute_no_lang(x, unique_attributes), axis=1)\n",
    "\n",
    "# Strip Gender\n",
    "clean = rankings[['username', 'stratification_column_v5']].groupby('stratification_column_v5').nunique().reset_index()\n",
    "clean = clean[clean['username'] == 1]\n",
    "unique_attributes = list(clean['stratification_column_v5'])\n",
    "def reduce_attribute_no_lang(row, unique_attributes) -> str:\n",
    "    if row['stratification_column_v5'] in unique_attributes:\n",
    "        score = str(int(row['total_score']/6))\n",
    "        new_strat = str(row['prior_4cat_knowledge']) + '_' + score\n",
    "        return new_strat\n",
    "    else:\n",
    "        return row['stratification_column_v5']\n",
    "rankings['stratification_column_v6'] = rankings.apply(lambda x: reduce_attribute_no_lang(x, unique_attributes), axis=1)\n",
    "\n",
    "# Group remains together\n",
    "clean = rankings[['username', 'stratification_column_v6']].groupby('stratification_column_v6').nunique().reset_index()\n",
    "clean = clean[clean['username'] == 1]\n",
    "unique_attributes = list(clean['stratification_column_v6'])\n",
    "def reduce_attribute_no_lang(row, unique_attributes) -> str:\n",
    "    if row['stratification_column_v6'] in unique_attributes:\n",
    "        return 'no_group'\n",
    "    else:\n",
    "        return row['stratification_column_v6']\n",
    "rankings['stratification_column_v7'] = rankings.apply(lambda x: reduce_attribute_no_lang(x, unique_attributes), axis=1)\n",
    "\n",
    "\n",
    "rankings['stratification_column'] = rankings['stratification_column_v7'].copy()\n",
    "\n",
    "\n"
   ]
  },
  {
   "cell_type": "code",
   "execution_count": 4,
   "id": "1b667ff5",
   "metadata": {
    "ExecuteTime": {
     "end_time": "2021-11-24T17:01:08.658876Z",
     "start_time": "2021-11-24T17:01:08.648260Z"
    }
   },
   "outputs": [],
   "source": [
    "train, test = train_test_split(rankings, test_size=0.35, random_state=0, stratify=rankings[['stratification_column']])"
   ]
  },
  {
   "cell_type": "code",
   "execution_count": 5,
   "id": "e68c894f",
   "metadata": {
    "ExecuteTime": {
     "end_time": "2021-11-24T17:01:09.354388Z",
     "start_time": "2021-11-24T17:01:09.272408Z"
    },
    "scrolled": false
   },
   "outputs": [
    {
     "name": "stdout",
     "output_type": "stream",
     "text": [
      "language\n"
     ]
    },
    {
     "data": {
      "text/html": [
       "<div>\n",
       "<style scoped>\n",
       "    .dataframe tbody tr th:only-of-type {\n",
       "        vertical-align: middle;\n",
       "    }\n",
       "\n",
       "    .dataframe tbody tr th {\n",
       "        vertical-align: top;\n",
       "    }\n",
       "\n",
       "    .dataframe thead th {\n",
       "        text-align: right;\n",
       "    }\n",
       "</style>\n",
       "<table border=\"1\" class=\"dataframe\">\n",
       "  <thead>\n",
       "    <tr style=\"text-align: right;\">\n",
       "      <th></th>\n",
       "      <th>language</th>\n",
       "      <th>test</th>\n",
       "      <th>train</th>\n",
       "    </tr>\n",
       "  </thead>\n",
       "  <tbody>\n",
       "    <tr>\n",
       "      <th>0</th>\n",
       "      <td>Deutsch</td>\n",
       "      <td>0.78626</td>\n",
       "      <td>0.777778</td>\n",
       "    </tr>\n",
       "    <tr>\n",
       "      <th>1</th>\n",
       "      <td>Français</td>\n",
       "      <td>0.21374</td>\n",
       "      <td>0.222222</td>\n",
       "    </tr>\n",
       "  </tbody>\n",
       "</table>\n",
       "</div>"
      ],
      "text/plain": [
       "   language     test     train\n",
       "0   Deutsch  0.78626  0.777778\n",
       "1  Français  0.21374  0.222222"
      ]
     },
     "metadata": {},
     "output_type": "display_data"
    },
    {
     "name": "stdout",
     "output_type": "stream",
     "text": [
      "\n",
      "field\n"
     ]
    },
    {
     "data": {
      "text/html": [
       "<div>\n",
       "<style scoped>\n",
       "    .dataframe tbody tr th:only-of-type {\n",
       "        vertical-align: middle;\n",
       "    }\n",
       "\n",
       "    .dataframe tbody tr th {\n",
       "        vertical-align: top;\n",
       "    }\n",
       "\n",
       "    .dataframe thead th {\n",
       "        text-align: right;\n",
       "    }\n",
       "</style>\n",
       "<table border=\"1\" class=\"dataframe\">\n",
       "  <thead>\n",
       "    <tr style=\"text-align: right;\">\n",
       "      <th></th>\n",
       "      <th>field</th>\n",
       "      <th>test</th>\n",
       "      <th>train</th>\n",
       "    </tr>\n",
       "  </thead>\n",
       "  <tbody>\n",
       "    <tr>\n",
       "      <th>0</th>\n",
       "      <td>Biology</td>\n",
       "      <td>0.091603</td>\n",
       "      <td>0.106996</td>\n",
       "    </tr>\n",
       "    <tr>\n",
       "      <th>1</th>\n",
       "      <td>Chemistry</td>\n",
       "      <td>0.625954</td>\n",
       "      <td>0.625514</td>\n",
       "    </tr>\n",
       "    <tr>\n",
       "      <th>2</th>\n",
       "      <td>Chemistry, Textiles</td>\n",
       "      <td>0.167939</td>\n",
       "      <td>0.152263</td>\n",
       "    </tr>\n",
       "    <tr>\n",
       "      <th>3</th>\n",
       "      <td>Fast track</td>\n",
       "      <td>0.053435</td>\n",
       "      <td>0.045267</td>\n",
       "    </tr>\n",
       "    <tr>\n",
       "      <th>4</th>\n",
       "      <td>Pharma Chemistry</td>\n",
       "      <td>0.061069</td>\n",
       "      <td>0.069959</td>\n",
       "    </tr>\n",
       "  </tbody>\n",
       "</table>\n",
       "</div>"
      ],
      "text/plain": [
       "                 field      test     train\n",
       "0              Biology  0.091603  0.106996\n",
       "1            Chemistry  0.625954  0.625514\n",
       "2  Chemistry, Textiles  0.167939  0.152263\n",
       "3           Fast track  0.053435  0.045267\n",
       "4     Pharma Chemistry  0.061069  0.069959"
      ]
     },
     "metadata": {},
     "output_type": "display_data"
    },
    {
     "name": "stdout",
     "output_type": "stream",
     "text": [
      "\n",
      "year\n"
     ]
    },
    {
     "data": {
      "text/html": [
       "<div>\n",
       "<style scoped>\n",
       "    .dataframe tbody tr th:only-of-type {\n",
       "        vertical-align: middle;\n",
       "    }\n",
       "\n",
       "    .dataframe tbody tr th {\n",
       "        vertical-align: top;\n",
       "    }\n",
       "\n",
       "    .dataframe thead th {\n",
       "        text-align: right;\n",
       "    }\n",
       "</style>\n",
       "<table border=\"1\" class=\"dataframe\">\n",
       "  <thead>\n",
       "    <tr style=\"text-align: right;\">\n",
       "      <th></th>\n",
       "      <th>year</th>\n",
       "      <th>test</th>\n",
       "      <th>train</th>\n",
       "    </tr>\n",
       "  </thead>\n",
       "  <tbody>\n",
       "    <tr>\n",
       "      <th>0</th>\n",
       "      <td>1st</td>\n",
       "      <td>0.450382</td>\n",
       "      <td>0.44856</td>\n",
       "    </tr>\n",
       "    <tr>\n",
       "      <th>1</th>\n",
       "      <td>2nd</td>\n",
       "      <td>0.374046</td>\n",
       "      <td>0.37037</td>\n",
       "    </tr>\n",
       "    <tr>\n",
       "      <th>2</th>\n",
       "      <td>3rd</td>\n",
       "      <td>0.175573</td>\n",
       "      <td>0.18107</td>\n",
       "    </tr>\n",
       "  </tbody>\n",
       "</table>\n",
       "</div>"
      ],
      "text/plain": [
       "  year      test    train\n",
       "0  1st  0.450382  0.44856\n",
       "1  2nd  0.374046  0.37037\n",
       "2  3rd  0.175573  0.18107"
      ]
     },
     "metadata": {},
     "output_type": "display_data"
    },
    {
     "name": "stdout",
     "output_type": "stream",
     "text": [
      "\n",
      "gender\n"
     ]
    },
    {
     "data": {
      "text/html": [
       "<div>\n",
       "<style scoped>\n",
       "    .dataframe tbody tr th:only-of-type {\n",
       "        vertical-align: middle;\n",
       "    }\n",
       "\n",
       "    .dataframe tbody tr th {\n",
       "        vertical-align: top;\n",
       "    }\n",
       "\n",
       "    .dataframe thead th {\n",
       "        text-align: right;\n",
       "    }\n",
       "</style>\n",
       "<table border=\"1\" class=\"dataframe\">\n",
       "  <thead>\n",
       "    <tr style=\"text-align: right;\">\n",
       "      <th></th>\n",
       "      <th>gender</th>\n",
       "      <th>test</th>\n",
       "      <th>train</th>\n",
       "    </tr>\n",
       "  </thead>\n",
       "  <tbody>\n",
       "    <tr>\n",
       "      <th>0</th>\n",
       "      <td>1</td>\n",
       "      <td>0.503817</td>\n",
       "      <td>0.460905</td>\n",
       "    </tr>\n",
       "    <tr>\n",
       "      <th>1</th>\n",
       "      <td>2</td>\n",
       "      <td>0.450382</td>\n",
       "      <td>0.497942</td>\n",
       "    </tr>\n",
       "    <tr>\n",
       "      <th>2</th>\n",
       "      <td>3</td>\n",
       "      <td>0.022901</td>\n",
       "      <td>0.020576</td>\n",
       "    </tr>\n",
       "    <tr>\n",
       "      <th>3</th>\n",
       "      <td>4</td>\n",
       "      <td>0.022901</td>\n",
       "      <td>0.020576</td>\n",
       "    </tr>\n",
       "  </tbody>\n",
       "</table>\n",
       "</div>"
      ],
      "text/plain": [
       "   gender      test     train\n",
       "0       1  0.503817  0.460905\n",
       "1       2  0.450382  0.497942\n",
       "2       3  0.022901  0.020576\n",
       "3       4  0.022901  0.020576"
      ]
     },
     "metadata": {},
     "output_type": "display_data"
    },
    {
     "name": "stdout",
     "output_type": "stream",
     "text": [
      "\n",
      "prior_4cat_knowledge\n"
     ]
    },
    {
     "data": {
      "text/html": [
       "<div>\n",
       "<style scoped>\n",
       "    .dataframe tbody tr th:only-of-type {\n",
       "        vertical-align: middle;\n",
       "    }\n",
       "\n",
       "    .dataframe tbody tr th {\n",
       "        vertical-align: top;\n",
       "    }\n",
       "\n",
       "    .dataframe thead th {\n",
       "        text-align: right;\n",
       "    }\n",
       "</style>\n",
       "<table border=\"1\" class=\"dataframe\">\n",
       "  <thead>\n",
       "    <tr style=\"text-align: right;\">\n",
       "      <th></th>\n",
       "      <th>prior_4cat_knowledge</th>\n",
       "      <th>test</th>\n",
       "      <th>train</th>\n",
       "    </tr>\n",
       "  </thead>\n",
       "  <tbody>\n",
       "    <tr>\n",
       "      <th>0</th>\n",
       "      <td>0</td>\n",
       "      <td>0.122137</td>\n",
       "      <td>0.135802</td>\n",
       "    </tr>\n",
       "    <tr>\n",
       "      <th>1</th>\n",
       "      <td>0</td>\n",
       "      <td>0.328244</td>\n",
       "      <td>0.320988</td>\n",
       "    </tr>\n",
       "    <tr>\n",
       "      <th>2</th>\n",
       "      <td>1</td>\n",
       "      <td>0.198473</td>\n",
       "      <td>0.197531</td>\n",
       "    </tr>\n",
       "    <tr>\n",
       "      <th>3</th>\n",
       "      <td>2</td>\n",
       "      <td>0.076336</td>\n",
       "      <td>0.057613</td>\n",
       "    </tr>\n",
       "    <tr>\n",
       "      <th>4</th>\n",
       "      <td>3</td>\n",
       "      <td>0.274809</td>\n",
       "      <td>0.288066</td>\n",
       "    </tr>\n",
       "  </tbody>\n",
       "</table>\n",
       "</div>"
      ],
      "text/plain": [
       "  prior_4cat_knowledge      test     train\n",
       "0                    0  0.122137  0.135802\n",
       "1                    0  0.328244  0.320988\n",
       "2                    1  0.198473  0.197531\n",
       "3                    2  0.076336  0.057613\n",
       "4                    3  0.274809  0.288066"
      ]
     },
     "metadata": {},
     "output_type": "display_data"
    },
    {
     "name": "stdout",
     "output_type": "stream",
     "text": [
      "\n",
      "total_score\n"
     ]
    },
    {
     "data": {
      "text/html": [
       "<div>\n",
       "<style scoped>\n",
       "    .dataframe tbody tr th:only-of-type {\n",
       "        vertical-align: middle;\n",
       "    }\n",
       "\n",
       "    .dataframe tbody tr th {\n",
       "        vertical-align: top;\n",
       "    }\n",
       "\n",
       "    .dataframe thead th {\n",
       "        text-align: right;\n",
       "    }\n",
       "</style>\n",
       "<table border=\"1\" class=\"dataframe\">\n",
       "  <thead>\n",
       "    <tr style=\"text-align: right;\">\n",
       "      <th></th>\n",
       "      <th>total_score</th>\n",
       "      <th>test</th>\n",
       "      <th>train</th>\n",
       "    </tr>\n",
       "  </thead>\n",
       "  <tbody>\n",
       "    <tr>\n",
       "      <th>0</th>\n",
       "      <td>0</td>\n",
       "      <td>0.099237</td>\n",
       "      <td>0.115226</td>\n",
       "    </tr>\n",
       "    <tr>\n",
       "      <th>1</th>\n",
       "      <td>1</td>\n",
       "      <td>0.160305</td>\n",
       "      <td>0.144033</td>\n",
       "    </tr>\n",
       "    <tr>\n",
       "      <th>2</th>\n",
       "      <td>2</td>\n",
       "      <td>0.145038</td>\n",
       "      <td>0.152263</td>\n",
       "    </tr>\n",
       "    <tr>\n",
       "      <th>3</th>\n",
       "      <td>3</td>\n",
       "      <td>0.175573</td>\n",
       "      <td>0.181070</td>\n",
       "    </tr>\n",
       "    <tr>\n",
       "      <th>4</th>\n",
       "      <td>4</td>\n",
       "      <td>0.206107</td>\n",
       "      <td>0.226337</td>\n",
       "    </tr>\n",
       "    <tr>\n",
       "      <th>5</th>\n",
       "      <td>5</td>\n",
       "      <td>0.160305</td>\n",
       "      <td>0.127572</td>\n",
       "    </tr>\n",
       "    <tr>\n",
       "      <th>6</th>\n",
       "      <td>6</td>\n",
       "      <td>0.053435</td>\n",
       "      <td>0.053498</td>\n",
       "    </tr>\n",
       "  </tbody>\n",
       "</table>\n",
       "</div>"
      ],
      "text/plain": [
       "   total_score      test     train\n",
       "0            0  0.099237  0.115226\n",
       "1            1  0.160305  0.144033\n",
       "2            2  0.145038  0.152263\n",
       "3            3  0.175573  0.181070\n",
       "4            4  0.206107  0.226337\n",
       "5            5  0.160305  0.127572\n",
       "6            6  0.053435  0.053498"
      ]
     },
     "metadata": {},
     "output_type": "display_data"
    },
    {
     "name": "stdout",
     "output_type": "stream",
     "text": [
      "\n"
     ]
    }
   ],
   "source": [
    "for strat in stratification:\n",
    "    \n",
    "    test_strat = test[[strat, 'username']].groupby(strat).nunique().reset_index()\n",
    "    test_strat['username'] = test_strat['username'] / sum(test_strat['username'])\n",
    "    test_strat.columns = [strat, 'test']\n",
    "    \n",
    "    train_strat = train[[strat, 'username']].groupby(strat).nunique().reset_index()\n",
    "    train_strat['username'] = train_strat['username'] / sum(train_strat['username'])\n",
    "    train_strat.columns = [strat, 'train']\n",
    "    \n",
    "    strat_df = test_strat.merge(train_strat, on=strat, how='inner')\n",
    "    \n",
    "    print(strat)\n",
    "    display(strat_df)\n",
    "    print()"
   ]
  },
  {
   "cell_type": "code",
   "execution_count": 8,
   "id": "d34373f9",
   "metadata": {
    "ExecuteTime": {
     "end_time": "2021-11-24T20:32:58.155821Z",
     "start_time": "2021-11-24T20:32:58.152451Z"
    }
   },
   "outputs": [],
   "source": [
    "with open('../data/experiment_keys/flatstrat_testusernames.pkl', 'wb') as fp:\n",
    "    pickle.dump(list(test['username']), fp)\n",
    "with open('../data/experiment_keys/flatstrat_trainusernames.pkl', 'wb') as fp:\n",
    "    pickle.dump(list(train['username']), fp)"
   ]
  },
  {
   "cell_type": "code",
   "execution_count": 18,
   "id": "b563ba36",
   "metadata": {
    "ExecuteTime": {
     "end_time": "2021-11-24T21:07:47.596270Z",
     "start_time": "2021-11-24T21:07:47.534492Z"
    }
   },
   "outputs": [
    {
     "name": "stdout",
     "output_type": "stream",
     "text": [
      "username           wu7kdm6q\n",
      "start_time           {'time': 1620814035}\n",
      "exploration_time           {'time': 1620814117}\n",
      "ranking_task_time           {'time': 1620814181}\n",
      "ranking           0312\n",
      "ranking_confidence           wrong field\n",
      "ranking_time           1620814270\n",
      "q1           0.37\n",
      "q1_conf           50\n",
      "q1_time           1620814323\n",
      "q2           1.59\n",
      "q2_conf           0\n",
      "q2_time           1620814355\n",
      "q3           0.95\n",
      "q3_conf           50\n",
      "q3_time           1620814399\n",
      "q4           0.2\n",
      "q4_conf           35\n",
      "q4_time           1620814447\n",
      "q5_colour0           0\n",
      "q5_colour1           0\n",
      "q5_colour2           100\n",
      "q5_colour3           0\n",
      "q5_time           1620814512\n",
      "q6_colour0           0\n",
      "q6_colour1           100\n",
      "q6_colour2           0\n",
      "q6_colour3           0\n",
      "q6_time           1620814711\n",
      "q7_colour0           missing\n",
      "q7_colour1           missing\n",
      "q7_colour2           missing\n",
      "q7_colour3           missing\n",
      "q7_time           missing\n",
      "q8_colour0           missing\n",
      "q8_colour1           missing\n",
      "q8_colour2           missing\n",
      "q8_colour3           missing\n",
      "q8_time           missing\n",
      "formula           E =h*f = (h*c)/ wällen länge\n",
      "fomula_conf           100\n",
      "formula_time           1620815026\n",
      "notes_text           None\n",
      "notes_math           None\n",
      "notes_table           None\n",
      "notes_diag           None\n",
      "notes_time           1620815041\n",
      "beerslaw           Habe Erinnerungen daran von Schulzeiten\n",
      "beerslaw_conf           \n",
      "beerslaw_time           1620815074\n",
      "problem_ranking           ['Ich weiss nicht', 'Ich weiss nicht', 'Ich weiss nicht']\n",
      "problem_conf           wrong field\n",
      "problem_time           1620815149\n",
      "feedback_entertain           55\n",
      "feedback_difficult           65\n",
      "feedback_good           Die Simulationen sind hilfreich\n",
      "feedback_bad           Es stockte manchmal und man brauchte lang von seite 1 zu 2 zu kommen\n",
      "feedback           wrong field\n",
      "feedback_time           1620815358\n",
      "experiment_time           1620815360\n",
      "status           complete\n",
      "session           Session 12\n",
      "version           2\n",
      "numerical_status           18\n",
      "language           Deutsch\n",
      "field           Chemistry\n",
      "level           General\n",
      "year           1st\n",
      "consent           1\n",
      "gender           2\n",
      "q1_label           correct\n",
      "q1_flag           nan\n",
      "q2_label           correct\n",
      "q2_flag           nan\n",
      "q3_label           smaller\n",
      "q3_flag           nan\n",
      "q4_label           third\n",
      "q4_flag           nan\n",
      "prior_knowledge           rusty,in class\n",
      "prior_3cat           1,in class\n",
      "prior_4cat           2,in class\n",
      "q1_score           1\n",
      "q2_score           1\n",
      "q3_score           0\n",
      "q4_score           0\n",
      "q5_score           0\n",
      "q6_score           1\n",
      "q5_score_conf           0.0\n",
      "q6_score_conf           100.0\n",
      "prior_4cat_knowledge           2\n",
      "total_score           3\n",
      "stratification_column_v0           Deutsch_Chemistry_1st_2_2_3\n",
      "stratification_column_v1           Chemistry_1st_2_2_3\n",
      "stratification_column_v2           1st_2_2_3\n",
      "stratification_column_v3           1st_2_2_0\n",
      "stratification_column_v4           1st_2_2_0\n",
      "stratification_column_v5           1st_2_2_0\n",
      "stratification_column_v6           1st_2_2_0\n",
      "stratification_column_v7           1st_2_2_0\n",
      "stratification_column           1st_2_2_0\n"
     ]
    }
   ],
   "source": [
    "for col in rankings.columns:\n",
    "    print(col, '         ', rankings[rankings['username'] == 'wu7kdm6q'][col].iloc[0])"
   ]
  },
  {
   "cell_type": "code",
   "execution_count": null,
   "id": "5fe73447",
   "metadata": {},
   "outputs": [],
   "source": []
  },
  {
   "cell_type": "code",
   "execution_count": null,
   "id": "e5b5c6e7",
   "metadata": {},
   "outputs": [],
   "source": []
  },
  {
   "cell_type": "code",
   "execution_count": null,
   "id": "e5d139dd",
   "metadata": {},
   "outputs": [],
   "source": []
  },
  {
   "cell_type": "code",
   "execution_count": null,
   "id": "acb95749",
   "metadata": {},
   "outputs": [],
   "source": []
  },
  {
   "cell_type": "code",
   "execution_count": null,
   "id": "2ac5b002",
   "metadata": {},
   "outputs": [],
   "source": []
  },
  {
   "cell_type": "code",
   "execution_count": null,
   "id": "f10e7831",
   "metadata": {},
   "outputs": [],
   "source": []
  },
  {
   "cell_type": "code",
   "execution_count": null,
   "id": "d1a20728",
   "metadata": {},
   "outputs": [],
   "source": []
  },
  {
   "cell_type": "code",
   "execution_count": null,
   "id": "b0857e0d",
   "metadata": {},
   "outputs": [],
   "source": []
  },
  {
   "cell_type": "code",
   "execution_count": null,
   "id": "e92badd0",
   "metadata": {},
   "outputs": [],
   "source": []
  },
  {
   "cell_type": "code",
   "execution_count": null,
   "id": "6179a11c",
   "metadata": {},
   "outputs": [],
   "source": []
  },
  {
   "cell_type": "code",
   "execution_count": null,
   "id": "9c0ca3d6",
   "metadata": {},
   "outputs": [],
   "source": []
  },
  {
   "cell_type": "code",
   "execution_count": null,
   "id": "134e0781",
   "metadata": {},
   "outputs": [],
   "source": []
  },
  {
   "cell_type": "code",
   "execution_count": null,
   "id": "4671f943",
   "metadata": {},
   "outputs": [],
   "source": []
  },
  {
   "cell_type": "code",
   "execution_count": null,
   "id": "2e41a45b",
   "metadata": {},
   "outputs": [],
   "source": []
  },
  {
   "cell_type": "code",
   "execution_count": null,
   "id": "731450d6",
   "metadata": {},
   "outputs": [],
   "source": []
  },
  {
   "cell_type": "code",
   "execution_count": null,
   "id": "a6a9d416",
   "metadata": {},
   "outputs": [],
   "source": []
  },
  {
   "cell_type": "code",
   "execution_count": null,
   "id": "af7f8606",
   "metadata": {},
   "outputs": [],
   "source": []
  },
  {
   "cell_type": "code",
   "execution_count": null,
   "id": "75f37076",
   "metadata": {},
   "outputs": [],
   "source": []
  },
  {
   "cell_type": "code",
   "execution_count": null,
   "id": "4b3a7312",
   "metadata": {},
   "outputs": [],
   "source": []
  },
  {
   "cell_type": "code",
   "execution_count": null,
   "id": "d891b411",
   "metadata": {},
   "outputs": [],
   "source": []
  },
  {
   "cell_type": "code",
   "execution_count": null,
   "id": "2765b300",
   "metadata": {},
   "outputs": [],
   "source": []
  },
  {
   "cell_type": "code",
   "execution_count": null,
   "id": "0ac33466",
   "metadata": {},
   "outputs": [],
   "source": []
  },
  {
   "cell_type": "code",
   "execution_count": null,
   "id": "62ed13f1",
   "metadata": {},
   "outputs": [],
   "source": []
  },
  {
   "cell_type": "code",
   "execution_count": null,
   "id": "bcd07037",
   "metadata": {},
   "outputs": [],
   "source": []
  },
  {
   "cell_type": "code",
   "execution_count": null,
   "id": "14180e18",
   "metadata": {},
   "outputs": [],
   "source": []
  },
  {
   "cell_type": "code",
   "execution_count": null,
   "id": "b1e24a1e",
   "metadata": {},
   "outputs": [],
   "source": []
  },
  {
   "cell_type": "code",
   "execution_count": null,
   "id": "64e0c647",
   "metadata": {},
   "outputs": [],
   "source": []
  },
  {
   "cell_type": "code",
   "execution_count": null,
   "id": "7ae35195",
   "metadata": {},
   "outputs": [],
   "source": []
  },
  {
   "cell_type": "code",
   "execution_count": null,
   "id": "5bfee708",
   "metadata": {},
   "outputs": [],
   "source": []
  },
  {
   "cell_type": "code",
   "execution_count": null,
   "id": "e2509fe2",
   "metadata": {},
   "outputs": [],
   "source": []
  },
  {
   "cell_type": "code",
   "execution_count": null,
   "id": "f63bf872",
   "metadata": {},
   "outputs": [],
   "source": []
  },
  {
   "cell_type": "code",
   "execution_count": null,
   "id": "ef1531f0",
   "metadata": {},
   "outputs": [],
   "source": []
  },
  {
   "cell_type": "code",
   "execution_count": null,
   "id": "aa46455e",
   "metadata": {},
   "outputs": [],
   "source": []
  },
  {
   "cell_type": "code",
   "execution_count": null,
   "id": "c5d49e9d",
   "metadata": {},
   "outputs": [],
   "source": []
  },
  {
   "cell_type": "code",
   "execution_count": null,
   "id": "0dc6c1a2",
   "metadata": {},
   "outputs": [],
   "source": []
  },
  {
   "cell_type": "code",
   "execution_count": null,
   "id": "5afe3973",
   "metadata": {},
   "outputs": [],
   "source": []
  },
  {
   "cell_type": "code",
   "execution_count": null,
   "id": "66e3bdfd",
   "metadata": {},
   "outputs": [],
   "source": []
  },
  {
   "cell_type": "code",
   "execution_count": null,
   "id": "fe2af65f",
   "metadata": {},
   "outputs": [],
   "source": []
  },
  {
   "cell_type": "code",
   "execution_count": null,
   "id": "eaf74a57",
   "metadata": {},
   "outputs": [],
   "source": []
  },
  {
   "cell_type": "code",
   "execution_count": null,
   "id": "16c37942",
   "metadata": {},
   "outputs": [],
   "source": []
  },
  {
   "cell_type": "code",
   "execution_count": null,
   "id": "97800406",
   "metadata": {},
   "outputs": [],
   "source": []
  },
  {
   "cell_type": "code",
   "execution_count": null,
   "id": "22b94bd7",
   "metadata": {},
   "outputs": [],
   "source": []
  },
  {
   "cell_type": "code",
   "execution_count": null,
   "id": "eb24e72a",
   "metadata": {},
   "outputs": [],
   "source": []
  },
  {
   "cell_type": "code",
   "execution_count": null,
   "id": "baf711b6",
   "metadata": {},
   "outputs": [],
   "source": []
  }
 ],
 "metadata": {
  "kernelspec": {
   "display_name": "Python 3 (ipykernel)",
   "language": "python",
   "name": "python3"
  },
  "language_info": {
   "codemirror_mode": {
    "name": "ipython",
    "version": 3
   },
   "file_extension": ".py",
   "mimetype": "text/x-python",
   "name": "python",
   "nbconvert_exporter": "python",
   "pygments_lexer": "ipython3",
   "version": "3.8.12"
  },
  "toc": {
   "base_numbering": 1,
   "nav_menu": {},
   "number_sections": true,
   "sideBar": true,
   "skip_h1_title": false,
   "title_cell": "Table of Contents",
   "title_sidebar": "Contents",
   "toc_cell": false,
   "toc_position": {},
   "toc_section_display": true,
   "toc_window_display": false
  }
 },
 "nbformat": 4,
 "nbformat_minor": 5
}
