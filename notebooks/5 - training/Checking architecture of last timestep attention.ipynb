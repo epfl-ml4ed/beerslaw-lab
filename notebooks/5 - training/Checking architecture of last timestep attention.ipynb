{
 "cells": [
  {
   "cell_type": "code",
   "execution_count": 1,
   "id": "916b698d",
   "metadata": {
    "ExecuteTime": {
     "end_time": "2022-02-18T09:24:25.257757Z",
     "start_time": "2022-02-18T09:24:24.898083Z"
    }
   },
   "outputs": [],
   "source": [
    "%load_ext autoreload\n",
    "import pickle\n",
    "\n",
    "import numpy as np\n",
    "import pandas as pd"
   ]
  },
  {
   "cell_type": "code",
   "execution_count": 2,
   "id": "7548eec9",
   "metadata": {
    "ExecuteTime": {
     "end_time": "2022-02-18T09:24:44.176862Z",
     "start_time": "2022-02-18T09:24:44.170497Z"
    }
   },
   "outputs": [
    {
     "name": "stdout",
     "output_type": "stream",
     "text": [
      "/Users/cock/kDrive/PhD/Projects/Labs/beerslaw-lab/src\n"
     ]
    }
   ],
   "source": [
    "cd ../../src"
   ]
  },
  {
   "cell_type": "code",
   "execution_count": 8,
   "id": "3673fe73",
   "metadata": {
    "ExecuteTime": {
     "end_time": "2022-02-18T09:30:26.403926Z",
     "start_time": "2022-02-18T09:30:26.401162Z"
    }
   },
   "outputs": [],
   "source": [
    "from ml import load_tf_models as loader\n",
    "from extractors.pipeline_maker import PipelineMaker"
   ]
  },
  {
   "cell_type": "markdown",
   "id": "d42eb9c5",
   "metadata": {},
   "source": [
    "# Last timestamp model"
   ]
  },
  {
   "cell_type": "code",
   "execution_count": 67,
   "id": "5eca3768",
   "metadata": {
    "ExecuteTime": {
     "end_time": "2022-02-18T12:09:51.143098Z",
     "start_time": "2022-02-18T12:09:50.855684Z"
    }
   },
   "outputs": [],
   "source": [
    "%autoreload"
   ]
  },
  {
   "cell_type": "code",
   "execution_count": 68,
   "id": "8675f04c",
   "metadata": {
    "ExecuteTime": {
     "end_time": "2022-02-18T12:09:51.148494Z",
     "start_time": "2022-02-18T12:09:51.145373Z"
    }
   },
   "outputs": [],
   "source": [
    "experiment_path = '../experiments/attentions/simplestate_secondslstm/binconcepts/lastts_attention/raw_full/2022_02_17_0'\n",
    "nns = loader.load_all_nn(experiment_path)\n",
    "\n",
    "with open(experiment_path + '/config.yaml', 'rb') as fp:\n",
    "    config = pickle.load(fp)\n"
   ]
  },
  {
   "cell_type": "code",
   "execution_count": 82,
   "id": "da310a68",
   "metadata": {
    "ExecuteTime": {
     "end_time": "2022-02-18T12:17:53.016160Z",
     "start_time": "2022-02-18T12:17:49.229339Z"
    }
   },
   "outputs": [],
   "source": [
    "pipeline = PipelineMaker(config)\n",
    "sequences, labels, indices, id_dictionary = pipeline.build_data()\n",
    "\n",
    "model = nns['0']['0']\n",
    "\n",
    "gru_inference_model = tf.keras.Model(inputs=model._model.input, outputs=model._model.layers[2].output)\n",
    "gru_weights = gru_inference_model.predict(x_tensor)\n",
    "\n",
    "att_inference_model = tf.keras.Model(inputs=model._model.input, outputs=model._model.layers[8].output)\n",
    "att_weights = att_inference_model.predict(x_tensor)"
   ]
  },
  {
   "cell_type": "code",
   "execution_count": 86,
   "id": "c18a73da",
   "metadata": {
    "ExecuteTime": {
     "end_time": "2022-02-18T12:19:15.032155Z",
     "start_time": "2022-02-18T12:19:15.027868Z"
    }
   },
   "outputs": [
    {
     "name": "stdout",
     "output_type": "stream",
     "text": [
      "attention - mean:-0.03159424662590027, std:0.16698011755943298\n",
      "GRU - mean:-0.03148303180932999, std:0.16576102375984192\n"
     ]
    }
   ],
   "source": [
    "print('attention - mean:{}, std:{}'.format(np.mean(att_weights), np.std(att_weights)))\n",
    "print('GRU - mean:{}, std:{}'.format(np.mean(gru_weights), np.std(gru_weights)))"
   ]
  },
  {
   "cell_type": "code",
   "execution_count": null,
   "id": "e9e112a4",
   "metadata": {},
   "outputs": [],
   "source": []
  },
  {
   "cell_type": "code",
   "execution_count": null,
   "id": "27a86d2f",
   "metadata": {},
   "outputs": [],
   "source": []
  },
  {
   "cell_type": "code",
   "execution_count": null,
   "id": "31bf6ab3",
   "metadata": {},
   "outputs": [],
   "source": []
  },
  {
   "cell_type": "code",
   "execution_count": null,
   "id": "6e6318de",
   "metadata": {},
   "outputs": [],
   "source": []
  },
  {
   "cell_type": "code",
   "execution_count": null,
   "id": "de864308",
   "metadata": {},
   "outputs": [],
   "source": []
  },
  {
   "cell_type": "code",
   "execution_count": null,
   "id": "92923aa4",
   "metadata": {},
   "outputs": [],
   "source": []
  },
  {
   "cell_type": "code",
   "execution_count": null,
   "id": "126fcff0",
   "metadata": {},
   "outputs": [],
   "source": []
  },
  {
   "cell_type": "code",
   "execution_count": null,
   "id": "c8dcb258",
   "metadata": {},
   "outputs": [],
   "source": []
  },
  {
   "cell_type": "code",
   "execution_count": null,
   "id": "a729eacd",
   "metadata": {},
   "outputs": [],
   "source": []
  },
  {
   "cell_type": "code",
   "execution_count": null,
   "id": "90d165eb",
   "metadata": {},
   "outputs": [],
   "source": []
  },
  {
   "cell_type": "code",
   "execution_count": null,
   "id": "e4c25053",
   "metadata": {},
   "outputs": [],
   "source": []
  },
  {
   "cell_type": "code",
   "execution_count": null,
   "id": "18eb873a",
   "metadata": {},
   "outputs": [],
   "source": []
  },
  {
   "cell_type": "code",
   "execution_count": null,
   "id": "087cbbea",
   "metadata": {},
   "outputs": [],
   "source": []
  },
  {
   "cell_type": "code",
   "execution_count": null,
   "id": "aab8ddfd",
   "metadata": {},
   "outputs": [],
   "source": []
  },
  {
   "cell_type": "code",
   "execution_count": null,
   "id": "96a72a23",
   "metadata": {},
   "outputs": [],
   "source": []
  },
  {
   "cell_type": "code",
   "execution_count": null,
   "id": "7655072e",
   "metadata": {},
   "outputs": [],
   "source": []
  },
  {
   "cell_type": "code",
   "execution_count": null,
   "id": "c52393e9",
   "metadata": {},
   "outputs": [],
   "source": []
  },
  {
   "cell_type": "code",
   "execution_count": null,
   "id": "a1485327",
   "metadata": {},
   "outputs": [],
   "source": []
  },
  {
   "cell_type": "code",
   "execution_count": null,
   "id": "5fff25ed",
   "metadata": {},
   "outputs": [],
   "source": []
  },
  {
   "cell_type": "code",
   "execution_count": null,
   "id": "32d46d2e",
   "metadata": {},
   "outputs": [],
   "source": []
  },
  {
   "cell_type": "code",
   "execution_count": null,
   "id": "f5c3cd90",
   "metadata": {},
   "outputs": [],
   "source": []
  },
  {
   "cell_type": "code",
   "execution_count": null,
   "id": "cd6b63e2",
   "metadata": {},
   "outputs": [],
   "source": []
  },
  {
   "cell_type": "code",
   "execution_count": null,
   "id": "30b593b9",
   "metadata": {},
   "outputs": [],
   "source": []
  },
  {
   "cell_type": "code",
   "execution_count": null,
   "id": "76c6ed95",
   "metadata": {},
   "outputs": [],
   "source": []
  }
 ],
 "metadata": {
  "kernelspec": {
   "display_name": "Python 3 (ipykernel)",
   "language": "python",
   "name": "python3"
  },
  "language_info": {
   "codemirror_mode": {
    "name": "ipython",
    "version": 3
   },
   "file_extension": ".py",
   "mimetype": "text/x-python",
   "name": "python",
   "nbconvert_exporter": "python",
   "pygments_lexer": "ipython3",
   "version": "3.8.12"
  },
  "toc": {
   "base_numbering": 1,
   "nav_menu": {},
   "number_sections": true,
   "sideBar": true,
   "skip_h1_title": false,
   "title_cell": "Table of Contents",
   "title_sidebar": "Contents",
   "toc_cell": false,
   "toc_position": {},
   "toc_section_display": true,
   "toc_window_display": false
  }
 },
 "nbformat": 4,
 "nbformat_minor": 5
}
