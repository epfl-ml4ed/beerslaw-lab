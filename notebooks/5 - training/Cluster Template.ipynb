{
 "cells": [
  {
   "cell_type": "code",
   "execution_count": null,
   "id": "70f8492b",
   "metadata": {},
   "outputs": [],
   "source": [
    "cd ../src"
   ]
  },
  {
   "cell_type": "code",
   "execution_count": null,
   "id": "b883c1b4",
   "metadata": {},
   "outputs": [],
   "source": [
    "import os\n",
    "import numpy as np\n",
    "import pandas as pd\n",
    "\n",
    "from matplotlib import pyplot as plt\n",
    "\n",
    "class TrainValidationPlotter:\n",
    "    \"\"\"Plots the training and validation means and stds of different performances\n",
    "    across folds for all epochs\n",
    "    \"\"\"\n",
    "    def __init__(self, settings:dict):\n",
    "        self._name = 'train validation plotter'\n",
    "        self._notation = 'tvpltr'\n",
    "\n",
    "        self._settings = settings\n",
    "\n",
    "    def _crawl(self):\n",
    "        paths= []\n",
    "        experiment_path = '../experiments/fails/'\n",
    "        for (dirpath, dirnames, filenames) in os.walk(experiment_path):\n",
    "            files = [os.path.join(dirpath, file) for file in filenames]\n",
    "            paths.extend(files)\n",
    "        kw = 'model_training.csv'\n",
    "        paths = [path for path in paths if kw in path]\n",
    "        paths = [xval for xval in paths if 'exclude' not in xval]\n",
    "\n",
    "        loggers_paths = {}\n",
    "        for path in paths:\n",
    "            splitted = path.split('/')\n",
    "            key = splitted[-2]\n",
    "            if key not in loggers_paths:\n",
    "                loggers_paths[key] = []\n",
    "\n",
    "            loggers_paths[key].append(path)\n",
    "\n",
    "        return loggers_paths\n",
    "\n",
    "    def _plot_shaded_folds(self, pathname, files, metric):\n",
    "        files.sort()\n",
    "        \n",
    "        metrics = []\n",
    "        val_metrics = []\n",
    "        epochs = []\n",
    "        \n",
    "        plt.figure(figsize=(12, 8))\n",
    "        for file in files:\n",
    "            model = pd.read_csv(file, sep=';')\n",
    "            metrics.append(list(model[metric]))\n",
    "            val_metrics.append(list(model['val_' + metric]))\n",
    "            epochs.append(model['epoch'])\n",
    "            \n",
    "        if self._settings['partial']:\n",
    "            maximum = np.max([len(metr) for metr in metrics])\n",
    "            metrics = [metri for metri in metrics if len(metri) == maximum]\n",
    "            epochs = [epoc for epoc in epochs if len(epoc) == maximum]\n",
    "            means = np.mean(metrics, axis=0)\n",
    "            stds = np.std(metrics, axis= 0)\n",
    "        else:\n",
    "            minimums = np.min([(len(metr)) for metr in metrics])\n",
    "            metrics = [metri[:minimums] for metri in metrics]\n",
    "            means = np.mean(metrics, axis=0)\n",
    "            stds = np.std(metrics, axis=0)\n",
    "        \n",
    "        min_plot = min(means-stds)\n",
    "        max_plot = max(means+stds)\n",
    "        plt.plot(epochs[0], means, color='#abc4ff')\n",
    "        plt.fill_between(epochs[0], means - stds, means + stds, alpha=0.3, color='#abc4ff', label='train')\n",
    "        if self._settings['partial']:\n",
    "            maximum = np.max([len(metr) for metr in val_metrics])\n",
    "            val_metrics = [metri for metri in val_metrics if len(metri) == maximum]\n",
    "            epochs = [epoc for epoc in epochs if len(epoc) == maximum]\n",
    "            means = np.mean(val_metrics, axis=0)\n",
    "            stds = np.std(val_metrics, axis= 0)\n",
    "        else:\n",
    "            minimums = np.min([(len(metr)) for metr in val_metrics])\n",
    "            val_metrics = [metri[:minimums] for metri in val_metrics]\n",
    "            means = np.mean(val_metrics, axis=0)\n",
    "            stds = np.std(val_metrics, axis=0)\n",
    "        \n",
    "        min_plot = min(min_plot, min(means-stds))\n",
    "        max_plot = max(max_plot, max(means+stds))\n",
    "        plt.plot(epochs[0], means, color='#ff5c8a')\n",
    "        plt.fill_between(epochs[0], means - stds, means + stds, alpha=0.3, color='#ff5c8a', label='validation')\n",
    "\n",
    "        plt.ylim([min_plot, max_plot])\n",
    "        plt.legend()\n",
    "        plt.title(pathname)\n",
    "        \n",
    "        if self._settings['save']:\n",
    "            path = files[0].split('/')[:-1]\n",
    "            path = '/'.join(path)\n",
    "            path += '/train_validation_' + metric + 'epochsplot.svg'\n",
    "            plt.savefig(path, format='svg')\n",
    "        if self._settings['show']:\n",
    "            plt.show()\n",
    "\n",
    "    def plot(self, metric):\n",
    "        paths = self._crawl()\n",
    "        for experiment in paths:\n",
    "            self._plot_shaded_folds(experiment, paths[experiment], metric)\n",
    "            \n",
    "\n",
    "\n",
    "\n",
    "with open('./configs/plotter_config.yaml', 'r') as fp:\n",
    "    settings = yaml.load(fp, Loader=yaml.FullLoader)\n",
    "    settings['partial'] = True\n",
    "    settings['show'] = True\n",
    "    settings['save'] = False\n",
    "    \n",
    "        \n",
    "\n",
    "    \n",
    "\n",
    "    "
   ]
  },
  {
   "cell_type": "code",
   "execution_count": null,
   "id": "a0142b7e",
   "metadata": {
    "ExecuteTime": {
     "end_time": "2021-12-22T23:21:19.284841Z",
     "start_time": "2021-12-22T23:21:19.185707Z"
    }
   },
   "outputs": [],
   "source": [
    "plotter = TrainValidationPlotter(settings)"
   ]
  },
  {
   "cell_type": "code",
   "execution_count": null,
   "id": "9d87f256",
   "metadata": {},
   "outputs": [],
   "source": [
    "plotter.plot('auc')\n",
    "plotter.plot('categorical_crossentropy')"
   ]
  },
  {
   "cell_type": "code",
   "execution_count": null,
   "id": "014aefb0",
   "metadata": {},
   "outputs": [],
   "source": []
  },
  {
   "cell_type": "code",
   "execution_count": null,
   "id": "a64c9ce7",
   "metadata": {},
   "outputs": [],
   "source": []
  },
  {
   "cell_type": "code",
   "execution_count": null,
   "id": "6b7d2f03",
   "metadata": {},
   "outputs": [],
   "source": []
  },
  {
   "cell_type": "code",
   "execution_count": null,
   "id": "64eac517",
   "metadata": {},
   "outputs": [],
   "source": []
  },
  {
   "cell_type": "code",
   "execution_count": null,
   "id": "adaefb98",
   "metadata": {},
   "outputs": [],
   "source": []
  },
  {
   "cell_type": "code",
   "execution_count": null,
   "id": "b572ebef",
   "metadata": {},
   "outputs": [],
   "source": []
  },
  {
   "cell_type": "code",
   "execution_count": null,
   "id": "d95eb308",
   "metadata": {},
   "outputs": [],
   "source": []
  },
  {
   "cell_type": "code",
   "execution_count": null,
   "id": "bb77b7b7",
   "metadata": {},
   "outputs": [],
   "source": []
  },
  {
   "cell_type": "code",
   "execution_count": null,
   "id": "f5af4ab6",
   "metadata": {},
   "outputs": [],
   "source": []
  },
  {
   "cell_type": "code",
   "execution_count": null,
   "id": "8c343ea5",
   "metadata": {},
   "outputs": [],
   "source": []
  }
 ],
 "metadata": {
  "kernelspec": {
   "display_name": "Python 3 (ipykernel)",
   "language": "python",
   "name": "python3"
  },
  "language_info": {
   "codemirror_mode": {
    "name": "ipython",
    "version": 3
   },
   "file_extension": ".py",
   "mimetype": "text/x-python",
   "name": "python",
   "nbconvert_exporter": "python",
   "pygments_lexer": "ipython3",
   "version": "3.8.12"
  },
  "toc": {
   "base_numbering": 1,
   "nav_menu": {},
   "number_sections": true,
   "sideBar": true,
   "skip_h1_title": false,
   "title_cell": "Table of Contents",
   "title_sidebar": "Contents",
   "toc_cell": false,
   "toc_position": {},
   "toc_section_display": true,
   "toc_window_display": false
  }
 },
 "nbformat": 4,
 "nbformat_minor": 5
}
