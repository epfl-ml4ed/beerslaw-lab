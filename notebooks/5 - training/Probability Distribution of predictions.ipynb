{
 "cells": [
  {
   "cell_type": "markdown",
   "id": "9aea9d85",
   "metadata": {
    "ExecuteTime": {
     "end_time": "2021-12-14T17:01:35.866796Z",
     "start_time": "2021-12-14T17:01:35.858996Z"
    }
   },
   "source": [
    "This looks at the distribution of probabilities per real label"
   ]
  },
  {
   "cell_type": "code",
   "execution_count": 61,
   "id": "ed17a82d",
   "metadata": {
    "ExecuteTime": {
     "end_time": "2021-12-19T23:54:10.803762Z",
     "start_time": "2021-12-19T23:54:10.800683Z"
    }
   },
   "outputs": [],
   "source": [
    "import os\n",
    "import yaml\n",
    "import pickle\n",
    "import re\n",
    "\n",
    "import numpy as np\n",
    "import pandas as pd\n",
    "\n",
    "from matplotlib import pyplot as plt\n",
    "\n",
    "from shutil import copyfile, copytree"
   ]
  },
  {
   "cell_type": "code",
   "execution_count": 2,
   "id": "97d8c1b8",
   "metadata": {
    "ExecuteTime": {
     "end_time": "2021-12-19T14:17:39.480906Z",
     "start_time": "2021-12-19T14:17:39.461783Z"
    }
   },
   "outputs": [],
   "source": [
    "%load_ext autoreload"
   ]
  },
  {
   "cell_type": "code",
   "execution_count": 3,
   "id": "1b43125f",
   "metadata": {
    "ExecuteTime": {
     "end_time": "2021-12-19T14:17:39.489819Z",
     "start_time": "2021-12-19T14:17:39.484785Z"
    }
   },
   "outputs": [
    {
     "name": "stdout",
     "output_type": "stream",
     "text": [
      "/Users/cock/kDrive/PhD/Projects/Labs/beerslaw-lab/src\n"
     ]
    }
   ],
   "source": [
    "cd ../../src"
   ]
  },
  {
   "cell_type": "code",
   "execution_count": 4,
   "id": "81cde625",
   "metadata": {
    "ExecuteTime": {
     "end_time": "2021-12-19T14:17:42.988976Z",
     "start_time": "2021-12-19T14:17:39.494784Z"
    }
   },
   "outputs": [],
   "source": [
    "from extractors.pipeline_maker import PipelineMaker\n",
    "from ml.xval_maker import XValMaker\n",
    "from ml.models.classifiers.lstm import LSTMModel"
   ]
  },
  {
   "cell_type": "code",
   "execution_count": 5,
   "id": "aebcb1c7",
   "metadata": {
    "ExecuteTime": {
     "end_time": "2021-12-19T14:17:55.611349Z",
     "start_time": "2021-12-19T14:17:55.607791Z"
    }
   },
   "outputs": [],
   "source": [
    "experiment_name = 'incremental/second round/'"
   ]
  },
  {
   "cell_type": "code",
   "execution_count": 59,
   "id": "0af457ea",
   "metadata": {
    "ExecuteTime": {
     "end_time": "2021-12-19T23:53:18.277659Z",
     "start_time": "2021-12-19T23:53:18.275003Z"
    }
   },
   "outputs": [],
   "source": [
    "source = '../experiments/incremental/second round/jc-lstm-seconds/stateaction_secondslstm_12/binconcepts/lstm/raw_full/2021_12_15_2/0/logger/ctLSTM_nlayers2_ncells[8, 16]_drop00_optimadam_lossauc_bs16_ep200long short term memory/f-1_model_checkpoint/'\n",
    "exit = '../experiments/temp_checkpoints/hello/'"
   ]
  },
  {
   "cell_type": "code",
   "execution_count": 62,
   "id": "1c07d439",
   "metadata": {
    "ExecuteTime": {
     "end_time": "2021-12-19T23:54:15.403514Z",
     "start_time": "2021-12-19T23:54:15.396200Z"
    }
   },
   "outputs": [
    {
     "data": {
      "text/plain": [
       "'../experiments/temp_checkpoints/hello/'"
      ]
     },
     "execution_count": 62,
     "metadata": {},
     "output_type": "execute_result"
    }
   ],
   "source": [
    "copytree(source, exit)"
   ]
  },
  {
   "cell_type": "code",
   "execution_count": 57,
   "id": "60e644cd",
   "metadata": {
    "ExecuteTime": {
     "end_time": "2021-12-19T22:51:58.694220Z",
     "start_time": "2021-12-19T22:51:58.678386Z"
    }
   },
   "outputs": [],
   "source": [
    "# Crawl through al t\n",
    "model_paths = []\n",
    "experiment_path = '../experiments/' + experiment_name\n",
    "for (dirpath, dirnames, filenames) in os.walk(experiment_path):\n",
    "    files = [os.path.join(dirpath, file) for file in filenames]\n",
    "    model_paths.extend(files)\n",
    "kw = 'model_checkpoint'\n",
    "model_paths = [path for path in model_paths if 'exclude' not in path]\n",
    "model_paths = ['/'.join(path.split('/')[:-1]) for path in model_paths]\n",
    "model_paths = [path for path in model_paths if path.endswith(kw)]\n",
    "model_paths = list(set(model_paths))"
   ]
  },
  {
   "cell_type": "code",
   "execution_count": 64,
   "id": "959cc515",
   "metadata": {
    "ExecuteTime": {
     "end_time": "2021-12-20T07:53:43.684238Z",
     "start_time": "2021-12-20T07:53:43.680336Z"
    }
   },
   "outputs": [
    {
     "data": {
      "text/plain": [
       "{}"
      ]
     },
     "execution_count": 64,
     "metadata": {},
     "output_type": "execute_result"
    }
   ],
   "source": [
    "paths"
   ]
  },
  {
   "cell_type": "code",
   "execution_count": 58,
   "id": "b0a39872",
   "metadata": {
    "ExecuteTime": {
     "end_time": "2021-12-19T22:52:01.253283Z",
     "start_time": "2021-12-19T22:52:01.249853Z"
    }
   },
   "outputs": [
    {
     "data": {
      "text/plain": [
       "{}"
      ]
     },
     "execution_count": 58,
     "metadata": {},
     "output_type": "execute_result"
    }
   ],
   "source": [
    "paths"
   ]
  },
  {
   "cell_type": "code",
   "execution_count": 56,
   "id": "453365d6",
   "metadata": {
    "ExecuteTime": {
     "end_time": "2021-12-19T22:51:51.717388Z",
     "start_time": "2021-12-19T22:51:51.713786Z"
    }
   },
   "outputs": [
    {
     "data": {
      "text/plain": [
       "{}"
      ]
     },
     "execution_count": 56,
     "metadata": {},
     "output_type": "execute_result"
    }
   ],
   "source": [
    "paths"
   ]
  },
  {
   "cell_type": "code",
   "execution_count": 48,
   "id": "ff5d464e",
   "metadata": {
    "ExecuteTime": {
     "end_time": "2021-12-19T16:22:04.968372Z",
     "start_time": "2021-12-19T16:22:04.964527Z"
    }
   },
   "outputs": [],
   "source": [
    "with open('../data/experiment_keys/flatstrat_trainusernames.pkl', 'rb') as fp:\n",
    "    train_user = pickle.load(fp)"
   ]
  },
  {
   "cell_type": "code",
   "execution_count": 50,
   "id": "3991c668",
   "metadata": {
    "ExecuteTime": {
     "end_time": "2021-12-19T16:22:38.429948Z",
     "start_time": "2021-12-19T16:22:38.420699Z"
    }
   },
   "outputs": [
    {
     "data": {
      "text/plain": [
       "{'svdphyjs': 0,\n",
       " '2ae6q3hw': 1,\n",
       " '8jp62suc': 2,\n",
       " 'e93na59g': 3,\n",
       " 'chm4sr6j': 4,\n",
       " 'gc663sap': 5,\n",
       " '8nh4zvcp': 6,\n",
       " '7t9zwtmr': 7,\n",
       " 'wvxkvhne': 8,\n",
       " '43e33t3h': 9,\n",
       " 'a3vdjxy9': 10,\n",
       " 'mkw5afyy': 11,\n",
       " 'dq4zzkyt': 12,\n",
       " '5f4q4ng5': 13,\n",
       " 'temu2736': 14,\n",
       " 'f54jkrsw': 15,\n",
       " 'ujpk3gf4': 16,\n",
       " 'jkbx6axr': 17,\n",
       " 'vwfpuqaz': 18,\n",
       " 'w7asnymz': 19,\n",
       " '2hr6mkdc': 20,\n",
       " 'nrxpa2ac': 21,\n",
       " '5zrt4f8z': 22,\n",
       " 'm3d89p29': 23,\n",
       " 'vjr7tshm': 24,\n",
       " 'egg8756y': 25,\n",
       " 'uhbpoog9': 26,\n",
       " 'bg7x3db2': 27,\n",
       " 'xz56yha8': 28,\n",
       " 'rrykpeqz': 29,\n",
       " '55yavcue': 30,\n",
       " 'p44vw7td': 31,\n",
       " 'fu6nsdhs': 32,\n",
       " '2ejxq2u8': 33,\n",
       " 'ky8kttpv': 34,\n",
       " 'rdbqasqa': 35,\n",
       " 'zgyc948n': 36,\n",
       " 'c9dj36r7': 37,\n",
       " 'xvsgn53d': 38,\n",
       " 'qsd9cb5e': 39,\n",
       " '9pjrsbth': 40,\n",
       " 'cp7mfn24': 41,\n",
       " 'j9qgkaej': 42,\n",
       " '982cf4dn': 43,\n",
       " '4zsmj6s3': 44,\n",
       " '85pdk9mq': 45,\n",
       " 'hf8uz5t3': 46,\n",
       " 'k7p5eryf': 47,\n",
       " 'x844md8u': 48,\n",
       " 'baqyfz2h': 49,\n",
       " '2ep3hayy': 50,\n",
       " 'jwntt96k': 51,\n",
       " 'wktpsvp8': 52,\n",
       " 'h75kp27p': 53,\n",
       " '26z3wbqz': 54,\n",
       " 'x5sm9pfu': 55,\n",
       " 'mnhmyuhb': 56,\n",
       " 'tsrnkj8w': 57,\n",
       " '6h5vmwys': 58,\n",
       " 'ybxahrra': 59,\n",
       " 'u25vrfyy': 60,\n",
       " 'rgeb7wr9': 61,\n",
       " 'favvtnnf': 62,\n",
       " 'ntqpqkpq': 63,\n",
       " 'nj859xxh': 64,\n",
       " 'fh76v5qx': 65,\n",
       " 't6rjyw6s': 66,\n",
       " 'vhsgf3xa': 67,\n",
       " 'g6z8qykr': 68,\n",
       " 'rve4n5nv': 69,\n",
       " '5h9umyr6': 70,\n",
       " 'v5w2e3zw': 71,\n",
       " 'nw65tu6j': 72,\n",
       " 'mhek2323': 73,\n",
       " 'rdy7sx9b': 74,\n",
       " 'tvtbbfhg': 75,\n",
       " 'caq55qe8': 76,\n",
       " 'drccqhk4': 77,\n",
       " 'tcnba4ca': 78,\n",
       " 'fs32fqe3': 79,\n",
       " 'r74r26kt': 80,\n",
       " 'e3b96acv': 81,\n",
       " 'ur9sxzx7': 82,\n",
       " 'uqven68r': 83,\n",
       " 'm35ub35g': 84,\n",
       " 'jx3yyy26': 85,\n",
       " '5es5yqs8': 86,\n",
       " 'ydws5xx9': 87,\n",
       " 'wxz98urt': 88,\n",
       " 'qdp9ant4': 89,\n",
       " '63xqh9t5': 90,\n",
       " 'beypwbck': 91,\n",
       " 'p6mkaa4e': 92,\n",
       " 'mwwddfvg': 93,\n",
       " 'uqw5vh3j': 94,\n",
       " 'uhq3p7yr': 95,\n",
       " 'p6269reg': 96,\n",
       " 'wnurkn96': 97,\n",
       " 'upp6pqmx': 98,\n",
       " 'bebyve9b': 99,\n",
       " '3vsn2h9f': 100,\n",
       " 'v5gwycag': 101,\n",
       " 'uswb2jez': 102,\n",
       " 'nsj6k2rg': 103,\n",
       " 'w25mph3c': 104,\n",
       " 'upkt7qb4': 105,\n",
       " 'wbdyh5vk': 106,\n",
       " 'mp2aa258': 107,\n",
       " 'wpszzhxa': 108,\n",
       " 'uqzxsym7': 109,\n",
       " 'xw9qt6r4': 110,\n",
       " 'e22ppyf7': 111,\n",
       " 'xsxkdf7k': 112,\n",
       " 'yc3vmnuf': 113,\n",
       " '84nmc3df': 114,\n",
       " 'unkrat9w': 115,\n",
       " 'ecy9k833': 116,\n",
       " 'urwu33jd': 117,\n",
       " '4k4kc2k6': 118,\n",
       " 'r2q9q35x': 119,\n",
       " 'fryxwskq': 120,\n",
       " '892r4czm': 121,\n",
       " 'aurjfgnn': 122,\n",
       " 'cdq4drkk': 123,\n",
       " 'p5t7d3sb': 124,\n",
       " '4rhnvke9': 125,\n",
       " 'xpyjyx4m': 126,\n",
       " 'mzjq6z9t': 127,\n",
       " 'o9ffsiwt': 128,\n",
       " 'jydsy777': 129,\n",
       " 'xj86wyup': 130,\n",
       " 'edmrufua': 131,\n",
       " '7xhcecye': 132,\n",
       " '5m3ka2m2': 133,\n",
       " 'sx3vqc32': 134,\n",
       " '4jchqv4d': 135,\n",
       " 'tsvcrpeg': 136,\n",
       " '9p9gwu88': 137,\n",
       " '6j6u2yct': 138,\n",
       " 'zs35fg8g': 139,\n",
       " 'h9t9mxtx': 140,\n",
       " 'bqmcqxyx': 141,\n",
       " 'ht865nws': 142,\n",
       " 'qk6q49f4': 143,\n",
       " '39htvmt5': 144,\n",
       " 'mwfdr4ys': 145,\n",
       " 'xdxyjh8j': 146,\n",
       " 'jhrkm85q': 147,\n",
       " '6tg95rzr': 148,\n",
       " 'sgsxmkfm': 149,\n",
       " 'fj5tdybn': 150,\n",
       " 'bezdgyya': 151,\n",
       " 'jwajupwj': 152,\n",
       " '6z7nfy2j': 153,\n",
       " 'eb9iv6v2': 154,\n",
       " '4bu2rkv3': 155,\n",
       " 'y9tk3ysm': 156,\n",
       " 'j6nndaxp': 157,\n",
       " 'nba9d6t2': 158,\n",
       " 's8w65sm5': 159,\n",
       " 'hkvk9vt9': 160,\n",
       " 'dubyutqd': 161,\n",
       " 'sgdgynxy': 162,\n",
       " '3st3y5gc': 163,\n",
       " 'araav4jr': 164,\n",
       " 'sz8qvgyv': 165,\n",
       " 'suyrrcqe': 166,\n",
       " '2xjmtbvz': 167,\n",
       " 'ytrbygud': 168,\n",
       " '6fkbh35u': 169,\n",
       " 'v2cxb3a5': 170,\n",
       " 'ay2erc3c': 171,\n",
       " '9bp6yz7m': 172,\n",
       " 'fm5rcvdy': 173,\n",
       " 'r29wzm6f': 174,\n",
       " 'y7p64n6z': 175,\n",
       " '9aagpn4d': 176,\n",
       " 'sjz2rptd': 177,\n",
       " 'mcjaj2aj': 178,\n",
       " 'ujp9fgpn': 179,\n",
       " 'b72hbgvw': 180,\n",
       " 'evqzjs5p': 181,\n",
       " 'smqjhu44': 182,\n",
       " 'fyf6ag5v': 183,\n",
       " 'gvqh7qr2': 184,\n",
       " 'wger3sfa': 185,\n",
       " '4k4dk9pu': 186,\n",
       " 'dbt5na3s': 187,\n",
       " '2crhmbq7': 188,\n",
       " 'h543nsc8': 189,\n",
       " 'qkeyp2rg': 190,\n",
       " 'qsx2cc4b': 191,\n",
       " '6uakv8nx': 192,\n",
       " 'b2q8ay65': 193,\n",
       " 'u6c3cp6c': 194,\n",
       " '4vuc8rr3': 195,\n",
       " '6bq62prp': 196,\n",
       " 'r78kg7d3': 197,\n",
       " '47ce49e4': 198,\n",
       " 'qjfn2j8z': 199,\n",
       " 't3dwkezr': 200,\n",
       " 'q4z45p85': 201,\n",
       " 'szvqb37f': 202,\n",
       " '9wdm7zue': 203,\n",
       " 'hrhu4yph': 204,\n",
       " 'g4xpwwac': 205,\n",
       " '5y535ct3': 206,\n",
       " 'djnysnd6': 207,\n",
       " 's78drqcg': 208,\n",
       " 'fzagvhvf': 209,\n",
       " 's7mdq5tk': 210,\n",
       " 'sm8sfpcg': 211,\n",
       " '5j7hdews': 212,\n",
       " 'zkrr45y5': 213,\n",
       " '88kjzd8b': 214,\n",
       " '4e438nww': 215,\n",
       " '26mtbtye': 216,\n",
       " 'm749z8u9': 217,\n",
       " 'm4zvafhs': 218,\n",
       " 'd7777ske': 219,\n",
       " 'dmdc53tx': 220,\n",
       " 'gpq26qq9': 221,\n",
       " '5a69aw4h': 222,\n",
       " '4vtjgtja': 223,\n",
       " 'ryfqnvfh': 224,\n",
       " '9sgu2tbg': 225,\n",
       " 'dk43m2pe': 226,\n",
       " '9xc2v9vu': 227,\n",
       " 'jvxejtp9': 228,\n",
       " 'zgs84jfy': 229,\n",
       " '8ethqmkd': 230,\n",
       " '76wvaew4': 231,\n",
       " 'uthx49rq': 232,\n",
       " 'eau7bsmq': 233,\n",
       " 'cb6wcvyn': 234,\n",
       " 'e8zdytr2': 235,\n",
       " 'gyerx2d9': 236,\n",
       " 'ew6cfr37': 237,\n",
       " 'yez72a8b': 238,\n",
       " '4rjjdez9': 239,\n",
       " 'm9u6p93a': 240,\n",
       " 'tt5n8d2r': 241,\n",
       " 'tzpqpfaa': 242,\n",
       " 'ke6msbfr': 243,\n",
       " 'fddsxudu': 244,\n",
       " '22wyn9xy': 245,\n",
       " 'vqebanqv': 246,\n",
       " 'zxp438xr': 247,\n",
       " 'rjx9d3gf': 248,\n",
       " '2xh9zuvc': 249,\n",
       " '7fj2vydr': 250,\n",
       " 'xngb9hff': 251,\n",
       " 'sh6tu9g2': 252,\n",
       " 's2up6gmm': 253}"
      ]
     },
     "execution_count": 50,
     "metadata": {},
     "output_type": "execute_result"
    }
   ],
   "source": [
    "id_dictionary['index']"
   ]
  },
  {
   "cell_type": "code",
   "execution_count": 54,
   "id": "90d9752d",
   "metadata": {
    "ExecuteTime": {
     "end_time": "2021-12-19T21:21:35.580555Z",
     "start_time": "2021-12-19T21:21:35.570778Z"
    }
   },
   "outputs": [
    {
     "data": {
      "text/plain": [
       "{'svdphyjs': 0,\n",
       " '2ae6q3hw': 1,\n",
       " '8jp62suc': 2,\n",
       " 'e93na59g': 3,\n",
       " 'chm4sr6j': 4,\n",
       " 'gc663sap': 5,\n",
       " '8nh4zvcp': 6,\n",
       " '7t9zwtmr': 7,\n",
       " 'wvxkvhne': 8,\n",
       " '43e33t3h': 9,\n",
       " 'a3vdjxy9': 10,\n",
       " 'mkw5afyy': 11,\n",
       " 'dq4zzkyt': 12,\n",
       " '5f4q4ng5': 13,\n",
       " 'temu2736': 14,\n",
       " 'f54jkrsw': 15,\n",
       " 'ujpk3gf4': 16,\n",
       " 'jkbx6axr': 17,\n",
       " 'vwfpuqaz': 18,\n",
       " 'w7asnymz': 19,\n",
       " '2hr6mkdc': 20,\n",
       " 'nrxpa2ac': 21,\n",
       " '5zrt4f8z': 22,\n",
       " 'm3d89p29': 23,\n",
       " 'vjr7tshm': 24,\n",
       " 'egg8756y': 25,\n",
       " 'uhbpoog9': 26,\n",
       " 'bg7x3db2': 27,\n",
       " 'xz56yha8': 28,\n",
       " 'rrykpeqz': 29,\n",
       " '55yavcue': 30,\n",
       " 'p44vw7td': 31,\n",
       " 'fu6nsdhs': 32,\n",
       " '2ejxq2u8': 33,\n",
       " 'ky8kttpv': 34,\n",
       " 'rdbqasqa': 35,\n",
       " 'zgyc948n': 36,\n",
       " 'c9dj36r7': 37,\n",
       " 'xvsgn53d': 38,\n",
       " 'qsd9cb5e': 39,\n",
       " '9pjrsbth': 40,\n",
       " 'cp7mfn24': 41,\n",
       " 'j9qgkaej': 42,\n",
       " '982cf4dn': 43,\n",
       " '4zsmj6s3': 44,\n",
       " '85pdk9mq': 45,\n",
       " 'hf8uz5t3': 46,\n",
       " 'k7p5eryf': 47,\n",
       " 'x844md8u': 48,\n",
       " 'baqyfz2h': 49,\n",
       " '2ep3hayy': 50,\n",
       " 'jwntt96k': 51,\n",
       " 'wktpsvp8': 52,\n",
       " 'h75kp27p': 53,\n",
       " '26z3wbqz': 54,\n",
       " 'x5sm9pfu': 55,\n",
       " 'mnhmyuhb': 56,\n",
       " 'tsrnkj8w': 57,\n",
       " '6h5vmwys': 58,\n",
       " 'ybxahrra': 59,\n",
       " 'u25vrfyy': 60,\n",
       " 'rgeb7wr9': 61,\n",
       " 'favvtnnf': 62,\n",
       " 'ntqpqkpq': 63,\n",
       " 'nj859xxh': 64,\n",
       " 'fh76v5qx': 65,\n",
       " 't6rjyw6s': 66,\n",
       " 'vhsgf3xa': 67,\n",
       " 'g6z8qykr': 68,\n",
       " 'rve4n5nv': 69,\n",
       " '5h9umyr6': 70,\n",
       " 'v5w2e3zw': 71,\n",
       " 'nw65tu6j': 72,\n",
       " 'mhek2323': 73,\n",
       " 'rdy7sx9b': 74,\n",
       " 'tvtbbfhg': 75,\n",
       " 'caq55qe8': 76,\n",
       " 'drccqhk4': 77,\n",
       " 'tcnba4ca': 78,\n",
       " 'fs32fqe3': 79,\n",
       " 'r74r26kt': 80,\n",
       " 'e3b96acv': 81,\n",
       " 'ur9sxzx7': 82,\n",
       " 'uqven68r': 83,\n",
       " 'm35ub35g': 84,\n",
       " 'jx3yyy26': 85,\n",
       " '5es5yqs8': 86,\n",
       " 'ydws5xx9': 87,\n",
       " 'wxz98urt': 88,\n",
       " 'qdp9ant4': 89,\n",
       " '63xqh9t5': 90,\n",
       " 'beypwbck': 91,\n",
       " 'p6mkaa4e': 92,\n",
       " 'mwwddfvg': 93,\n",
       " 'uqw5vh3j': 94,\n",
       " 'uhq3p7yr': 95,\n",
       " 'p6269reg': 96,\n",
       " 'wnurkn96': 97,\n",
       " 'upp6pqmx': 98,\n",
       " 'bebyve9b': 99,\n",
       " '3vsn2h9f': 100,\n",
       " 'v5gwycag': 101,\n",
       " 'uswb2jez': 102,\n",
       " 'nsj6k2rg': 103,\n",
       " 'w25mph3c': 104,\n",
       " 'upkt7qb4': 105,\n",
       " 'wbdyh5vk': 106,\n",
       " 'mp2aa258': 107,\n",
       " 'wpszzhxa': 108,\n",
       " 'uqzxsym7': 109,\n",
       " 'xw9qt6r4': 110,\n",
       " 'e22ppyf7': 111,\n",
       " 'xsxkdf7k': 112,\n",
       " 'yc3vmnuf': 113,\n",
       " '84nmc3df': 114,\n",
       " 'unkrat9w': 115,\n",
       " 'ecy9k833': 116,\n",
       " 'urwu33jd': 117,\n",
       " '4k4kc2k6': 118,\n",
       " 'r2q9q35x': 119,\n",
       " 'fryxwskq': 120,\n",
       " '892r4czm': 121,\n",
       " 'aurjfgnn': 122,\n",
       " 'cdq4drkk': 123,\n",
       " 'p5t7d3sb': 124,\n",
       " '4rhnvke9': 125,\n",
       " 'xpyjyx4m': 126,\n",
       " 'mzjq6z9t': 127,\n",
       " 'o9ffsiwt': 128,\n",
       " 'jydsy777': 129,\n",
       " 'xj86wyup': 130,\n",
       " 'edmrufua': 131,\n",
       " '7xhcecye': 132,\n",
       " '5m3ka2m2': 133,\n",
       " 'sx3vqc32': 134,\n",
       " '4jchqv4d': 135,\n",
       " 'tsvcrpeg': 136,\n",
       " '9p9gwu88': 137,\n",
       " '6j6u2yct': 138,\n",
       " 'zs35fg8g': 139,\n",
       " 'h9t9mxtx': 140,\n",
       " 'bqmcqxyx': 141,\n",
       " 'ht865nws': 142,\n",
       " 'qk6q49f4': 143,\n",
       " '39htvmt5': 144,\n",
       " 'mwfdr4ys': 145,\n",
       " 'xdxyjh8j': 146,\n",
       " 'jhrkm85q': 147,\n",
       " '6tg95rzr': 148,\n",
       " 'sgsxmkfm': 149,\n",
       " 'fj5tdybn': 150,\n",
       " 'bezdgyya': 151,\n",
       " 'jwajupwj': 152,\n",
       " '6z7nfy2j': 153,\n",
       " 'eb9iv6v2': 154,\n",
       " '4bu2rkv3': 155,\n",
       " 'y9tk3ysm': 156,\n",
       " 'j6nndaxp': 157,\n",
       " 'nba9d6t2': 158,\n",
       " 's8w65sm5': 159,\n",
       " 'hkvk9vt9': 160,\n",
       " 'dubyutqd': 161,\n",
       " 'sgdgynxy': 162,\n",
       " '3st3y5gc': 163,\n",
       " 'araav4jr': 164,\n",
       " 'sz8qvgyv': 165,\n",
       " 'suyrrcqe': 166,\n",
       " '2xjmtbvz': 167,\n",
       " 'ytrbygud': 168,\n",
       " '6fkbh35u': 169,\n",
       " 'v2cxb3a5': 170,\n",
       " 'ay2erc3c': 171,\n",
       " '9bp6yz7m': 172,\n",
       " 'fm5rcvdy': 173,\n",
       " 'r29wzm6f': 174,\n",
       " 'y7p64n6z': 175,\n",
       " '9aagpn4d': 176,\n",
       " 'sjz2rptd': 177,\n",
       " 'mcjaj2aj': 178,\n",
       " 'ujp9fgpn': 179,\n",
       " 'b72hbgvw': 180,\n",
       " 'evqzjs5p': 181,\n",
       " 'smqjhu44': 182,\n",
       " 'fyf6ag5v': 183,\n",
       " 'gvqh7qr2': 184,\n",
       " 'wger3sfa': 185,\n",
       " '4k4dk9pu': 186,\n",
       " 'dbt5na3s': 187,\n",
       " '2crhmbq7': 188,\n",
       " 'h543nsc8': 189,\n",
       " 'qkeyp2rg': 190,\n",
       " 'qsx2cc4b': 191,\n",
       " '6uakv8nx': 192,\n",
       " 'b2q8ay65': 193,\n",
       " 'u6c3cp6c': 194,\n",
       " '4vuc8rr3': 195,\n",
       " '6bq62prp': 196,\n",
       " 'r78kg7d3': 197,\n",
       " '47ce49e4': 198,\n",
       " 'qjfn2j8z': 199,\n",
       " 't3dwkezr': 200,\n",
       " 'q4z45p85': 201,\n",
       " 'szvqb37f': 202,\n",
       " '9wdm7zue': 203,\n",
       " 'hrhu4yph': 204,\n",
       " 'g4xpwwac': 205,\n",
       " '5y535ct3': 206,\n",
       " 'djnysnd6': 207,\n",
       " 's78drqcg': 208,\n",
       " 'fzagvhvf': 209,\n",
       " 's7mdq5tk': 210,\n",
       " 'sm8sfpcg': 211,\n",
       " '5j7hdews': 212,\n",
       " 'zkrr45y5': 213,\n",
       " '88kjzd8b': 214,\n",
       " '4e438nww': 215,\n",
       " '26mtbtye': 216,\n",
       " 'm749z8u9': 217,\n",
       " 'm4zvafhs': 218,\n",
       " 'd7777ske': 219,\n",
       " 'dmdc53tx': 220,\n",
       " 'gpq26qq9': 221,\n",
       " '5a69aw4h': 222,\n",
       " '4vtjgtja': 223,\n",
       " 'ryfqnvfh': 224,\n",
       " '9sgu2tbg': 225,\n",
       " 'dk43m2pe': 226,\n",
       " '9xc2v9vu': 227,\n",
       " 'jvxejtp9': 228,\n",
       " 'zgs84jfy': 229,\n",
       " '8ethqmkd': 230,\n",
       " '76wvaew4': 231,\n",
       " 'uthx49rq': 232,\n",
       " 'eau7bsmq': 233,\n",
       " 'cb6wcvyn': 234,\n",
       " 'e8zdytr2': 235,\n",
       " 'gyerx2d9': 236,\n",
       " 'ew6cfr37': 237,\n",
       " 'yez72a8b': 238,\n",
       " '4rjjdez9': 239,\n",
       " 'm9u6p93a': 240,\n",
       " 'tt5n8d2r': 241,\n",
       " 'tzpqpfaa': 242,\n",
       " 'ke6msbfr': 243,\n",
       " 'fddsxudu': 244,\n",
       " '22wyn9xy': 245,\n",
       " 'vqebanqv': 246,\n",
       " 'zxp438xr': 247,\n",
       " 'rjx9d3gf': 248,\n",
       " '2xh9zuvc': 249,\n",
       " '7fj2vydr': 250,\n",
       " 'xngb9hff': 251,\n",
       " 'sh6tu9g2': 252,\n",
       " 's2up6gmm': 253}"
      ]
     },
     "execution_count": 54,
     "metadata": {},
     "output_type": "execute_result"
    }
   ],
   "source": [
    "id_dictionary['index']"
   ]
  },
  {
   "cell_type": "code",
   "execution_count": 49,
   "id": "db190087",
   "metadata": {
    "ExecuteTime": {
     "end_time": "2021-12-19T16:22:22.018702Z",
     "start_time": "2021-12-19T16:22:22.011643Z"
    }
   },
   "outputs": [
    {
     "data": {
      "text/plain": [
       "['6bq62prp',\n",
       " 'fyf6ag5v',\n",
       " 'mwfdr4ys',\n",
       " 'tzpqpfaa',\n",
       " 'sh6tu9g2',\n",
       " 'mzjq6z9t',\n",
       " 'wguewwkp',\n",
       " '4aaspwgs',\n",
       " 's47edumx',\n",
       " 'hg7zc2sv',\n",
       " 'm9u6p93a',\n",
       " 'e3b96acv',\n",
       " 'jwajupwj',\n",
       " 'dzakgq29',\n",
       " 'amqnxthw',\n",
       " 'fu6nsdhs',\n",
       " 'jkbx6axr',\n",
       " 'nrxpa2ac',\n",
       " 'z5dzzgk5',\n",
       " 'kg43uepa',\n",
       " '2xjmtbvz',\n",
       " '55yavcue',\n",
       " 'jwntt96k',\n",
       " 'my6csh6m',\n",
       " 'p6269reg',\n",
       " 'cwgvxrvx',\n",
       " '6tgyhcuh',\n",
       " 'p6mkaa4e',\n",
       " 'h9t9mxtx',\n",
       " 'zxp438xr',\n",
       " 'ht865nws',\n",
       " 'npatrq7r',\n",
       " 'vckta85p',\n",
       " 'ytrbygud',\n",
       " 'h4hxzc6s',\n",
       " '8nh4zvcp',\n",
       " 'qn4qjrvd',\n",
       " 'zbabnwym',\n",
       " '4s7gthwf',\n",
       " 'bezdgyya',\n",
       " 'ke6msbfr',\n",
       " 'nba9d6t2',\n",
       " 'w25mph3c',\n",
       " 'v5gwycag',\n",
       " '3kzp9bet',\n",
       " 'mwwddfvg',\n",
       " 'jydsy777',\n",
       " 'xz56yha8',\n",
       " 'q4z45p85',\n",
       " 'puzxz678',\n",
       " 'srmr7pcp',\n",
       " 'tsvcrpeg',\n",
       " 'm749z8u9',\n",
       " '5xuzjwdp',\n",
       " 'dq4zzkyt',\n",
       " 'pesfpzbv',\n",
       " '2xh9zuvc',\n",
       " '9p9gwu88',\n",
       " 'suyrrcqe',\n",
       " '4k4kc2k6',\n",
       " 'bje92qp8',\n",
       " 'tt5n8d2r',\n",
       " 'qsx2cc4b',\n",
       " 's2up6gmm',\n",
       " 'jpccnav5',\n",
       " 'r42kwnt7',\n",
       " 'w7asnymz',\n",
       " '9bp6yz7m',\n",
       " 'uswb2jez',\n",
       " 'ujpk3gf4',\n",
       " '6rfakyp7',\n",
       " 'evqzjs5p',\n",
       " 'r29wzm6f',\n",
       " '39htvmt5',\n",
       " 'e93na59g',\n",
       " '6tg95rzr',\n",
       " 'sgsxmkfm',\n",
       " 'ur9sxzx7',\n",
       " 'yez72a8b',\n",
       " 'uthx49rq',\n",
       " 'pmd5dyu3',\n",
       " '5y535ct3',\n",
       " '5zrt4f8z',\n",
       " 'vqumj3t3',\n",
       " 'ky8kttpv',\n",
       " '3se7z466',\n",
       " '892r4czm',\n",
       " 'y8qbtkmf',\n",
       " '4vtjgtja',\n",
       " 'v2cxb3a5',\n",
       " 'sp82v9ds',\n",
       " 'nemddmx6',\n",
       " 'gvqh7qr2',\n",
       " 'v2kw3kup',\n",
       " '7ck7mq6a',\n",
       " '3e3k2662',\n",
       " 'ntqpqkpq',\n",
       " '4bu2rkv3',\n",
       " '4ak6da99',\n",
       " 'qpmzsb6t',\n",
       " '5zqfzwjg',\n",
       " 'e8zdytr2',\n",
       " 'dk43m2pe',\n",
       " '63v3czy6',\n",
       " 'bed4zkv2',\n",
       " 'favvtnnf',\n",
       " '4b4dkjuw',\n",
       " 'prr8qsns',\n",
       " 'xj86wyup',\n",
       " 'a57jkjgv',\n",
       " 'bg7x3db2',\n",
       " 'g4xpwwac',\n",
       " 'qsd9cb5e',\n",
       " 'nfshnktq',\n",
       " 'rdbqasqa',\n",
       " 'z8dtc572',\n",
       " '9p4h3zdx',\n",
       " 'qqf6nsga',\n",
       " '3xcaamq9',\n",
       " '3w54b2bu',\n",
       " 'zgs84jfy',\n",
       " 'addf7f7d',\n",
       " 'p2u7xw38',\n",
       " 'h543nsc8',\n",
       " 'v5wcy2tt',\n",
       " 'urwu33jd',\n",
       " 'g6z8qykr',\n",
       " 'aj47uhb9',\n",
       " 'uamuwrx2',\n",
       " 'n6zakrku',\n",
       " 'cdq4drkk',\n",
       " 'cb6wcvyn',\n",
       " 'nj859xxh',\n",
       " '7xwv3xfe',\n",
       " 'ssz3uyqn',\n",
       " 'qkeyp2rg',\n",
       " 's9prcjfd',\n",
       " 'm3d89p29',\n",
       " 'xvsgn53d',\n",
       " 'beypwbck',\n",
       " 'p6ut882m',\n",
       " 'e22ppyf7',\n",
       " 'ybxahrra',\n",
       " '6j6u2yct',\n",
       " '5h9umyr6',\n",
       " 'qvna6pyz',\n",
       " '4zsmj6s3',\n",
       " 'ac4q67z9',\n",
       " 'caq55qe8',\n",
       " 's8w65sm5',\n",
       " 'd7777ske',\n",
       " 'urxv4evt',\n",
       " 'gu7jpyum',\n",
       " '8rtwmb8t',\n",
       " 'qjfn2j8z',\n",
       " 'rg4fgfyh',\n",
       " 'w9w2hw35',\n",
       " 'qner25zp',\n",
       " 'yxf7q6ap',\n",
       " 'b72hbgvw',\n",
       " 'padezf8m',\n",
       " 'xuwyv9hz',\n",
       " 'vh8vedkw',\n",
       " 'jcrv9m9j',\n",
       " 'p5t7d3sb',\n",
       " '8jp62suc',\n",
       " 'eqdntxer',\n",
       " 'wger3sfa',\n",
       " 'rgeb7wr9',\n",
       " 'y7p64n6z',\n",
       " 'n3977erj',\n",
       " 'xpyjyx4m',\n",
       " 'fzagvhvf',\n",
       " '7hrf6cdu',\n",
       " 'cb3z5rjs',\n",
       " 'mp2aa258',\n",
       " 'sx3vqc32',\n",
       " 'rrykpeqz',\n",
       " 'eb9iv6v2',\n",
       " 'qk6q49f4',\n",
       " 'va43652k',\n",
       " 'zs35fg8g',\n",
       " 'ay2erc3c',\n",
       " 'r2q9q35x',\n",
       " '4e438nww',\n",
       " 't6rjyw6s',\n",
       " '7t9zwtmr',\n",
       " 't7728bqp',\n",
       " '8ethqmkd',\n",
       " 'mnhmyuhb',\n",
       " 'hf8uz5t3',\n",
       " 'ew6cfr37',\n",
       " 'z4nrhe2e',\n",
       " '3qwayak9',\n",
       " 'xdxyjh8j',\n",
       " 'vqebanqv',\n",
       " 'rfand3tt',\n",
       " 'nsj6k2rg',\n",
       " 'vwfpuqaz',\n",
       " 'drccqhk4',\n",
       " 'o9ffsiwt',\n",
       " 'tcnba4ca',\n",
       " 'tsrnkj8w',\n",
       " 'dnvedphf',\n",
       " 'akgpua6j',\n",
       " 'baqyfz2h',\n",
       " 'bebyve9b',\n",
       " 'cp7mfn24',\n",
       " 'p44vw7td',\n",
       " '5vvwhzqs',\n",
       " 'yc3vmnuf',\n",
       " 'dbt5na3s',\n",
       " 'r78kg7d3',\n",
       " 'fw2ajjmt',\n",
       " 'vbym9sms',\n",
       " 'uhq3p7yr',\n",
       " 'b8g49nvw',\n",
       " 'nmgve3yy',\n",
       " '9rked2x5',\n",
       " 'xau6wapw',\n",
       " 'n977pem4',\n",
       " 'k7p5eryf',\n",
       " '46bty2zg',\n",
       " 'temu2736',\n",
       " 'xsxkdf7k',\n",
       " 'a6t5p3sb',\n",
       " 'sjz2rptd',\n",
       " 'pggnv6xw',\n",
       " 'jhrkm85q',\n",
       " 'uhbpoog9',\n",
       " 's7mdq5tk',\n",
       " '7xhcecye',\n",
       " 'fm5rcvdy',\n",
       " 'xcmyd5r5',\n",
       " 'pyamv67t',\n",
       " 't3dwkezr',\n",
       " '7fj2vydr',\n",
       " 'qevswkvj',\n",
       " '2crhmbq7',\n",
       " 'rve4n5nv',\n",
       " '2ep3hayy',\n",
       " '552gbupp',\n",
       " 'svdphyjs']"
      ]
     },
     "execution_count": 49,
     "metadata": {},
     "output_type": "execute_result"
    }
   ],
   "source": [
    "train_user"
   ]
  },
  {
   "cell_type": "code",
   "execution_count": 46,
   "id": "8aef26ca",
   "metadata": {
    "ExecuteTime": {
     "end_time": "2021-12-19T16:04:24.793647Z",
     "start_time": "2021-12-19T16:04:24.790633Z"
    }
   },
   "outputs": [],
   "source": [
    "fold_re = re.compile('.*f([0-9]+)')"
   ]
  },
  {
   "cell_type": "code",
   "execution_count": 47,
   "id": "23e0ceda",
   "metadata": {
    "ExecuteTime": {
     "end_time": "2021-12-19T16:04:30.921373Z",
     "start_time": "2021-12-19T16:04:30.917881Z"
    }
   },
   "outputs": [
    {
     "data": {
      "text/plain": [
       "['8']"
      ]
     },
     "execution_count": 47,
     "metadata": {},
     "output_type": "execute_result"
    }
   ],
   "source": [
    "fold_re.findall(model_path)"
   ]
  },
  {
   "cell_type": "code",
   "execution_count": 42,
   "id": "09e68573",
   "metadata": {
    "ExecuteTime": {
     "end_time": "2021-12-19T15:51:41.887457Z",
     "start_time": "2021-12-19T15:51:41.881954Z"
    }
   },
   "outputs": [
    {
     "data": {
      "text/plain": [
       "{'../experiments/incremental/second round/jc-lstm-seconds/stateaction_secondslstm_12/binconcepts/lstm/raw_full/2021_12_15_2/': {'ctLSTM_nlayers2_ncells[8, 16]_drop00_optimadam_lossauc_bs16_ep200long short term memory': ['../experiments/incremental/second round/jc-lstm-seconds/stateaction_secondslstm_12/binconcepts/lstm/raw_full/2021_12_15_2/0/logger/ctLSTM_nlayers2_ncells[8, 16]_drop00_optimadam_lossauc_bs16_ep200long short term memory/f8_model_checkpoint',\n",
       "   '../experiments/incremental/second round/jc-lstm-seconds/stateaction_secondslstm_12/binconcepts/lstm/raw_full/2021_12_15_2/0/logger/ctLSTM_nlayers2_ncells[8, 16]_drop00_optimadam_lossauc_bs16_ep200long short term memory/f5_model_checkpoint',\n",
       "   '../experiments/incremental/second round/jc-lstm-seconds/stateaction_secondslstm_12/binconcepts/lstm/raw_full/2021_12_15_2/0/logger/ctLSTM_nlayers2_ncells[8, 16]_drop00_optimadam_lossauc_bs16_ep200long short term memory/f9_model_checkpoint',\n",
       "   '../experiments/incremental/second round/jc-lstm-seconds/stateaction_secondslstm_12/binconcepts/lstm/raw_full/2021_12_15_2/0/logger/ctLSTM_nlayers2_ncells[8, 16]_drop00_optimadam_lossauc_bs16_ep200long short term memory/f1_model_checkpoint',\n",
       "   '../experiments/incremental/second round/jc-lstm-seconds/stateaction_secondslstm_12/binconcepts/lstm/raw_full/2021_12_15_2/0/logger/ctLSTM_nlayers2_ncells[8, 16]_drop00_optimadam_lossauc_bs16_ep200long short term memory/f4_model_checkpoint',\n",
       "   '../experiments/incremental/second round/jc-lstm-seconds/stateaction_secondslstm_12/binconcepts/lstm/raw_full/2021_12_15_2/0/logger/ctLSTM_nlayers2_ncells[8, 16]_drop00_optimadam_lossauc_bs16_ep200long short term memory/f7_model_checkpoint',\n",
       "   '../experiments/incremental/second round/jc-lstm-seconds/stateaction_secondslstm_12/binconcepts/lstm/raw_full/2021_12_15_2/0/logger/ctLSTM_nlayers2_ncells[8, 16]_drop00_optimadam_lossauc_bs16_ep200long short term memory/f6_model_checkpoint',\n",
       "   '../experiments/incremental/second round/jc-lstm-seconds/stateaction_secondslstm_12/binconcepts/lstm/raw_full/2021_12_15_2/0/logger/ctLSTM_nlayers2_ncells[8, 16]_drop00_optimadam_lossauc_bs16_ep200long short term memory/f3_model_checkpoint',\n",
       "   '../experiments/incremental/second round/jc-lstm-seconds/stateaction_secondslstm_12/binconcepts/lstm/raw_full/2021_12_15_2/0/logger/ctLSTM_nlayers2_ncells[8, 16]_drop00_optimadam_lossauc_bs16_ep200long short term memory/f2_model_checkpoint',\n",
       "   '../experiments/incremental/second round/jc-lstm-seconds/stateaction_secondslstm_12/binconcepts/lstm/raw_full/2021_12_15_2/0/logger/ctLSTM_nlayers2_ncells[8, 16]_drop00_optimadam_lossauc_bs16_ep200long short term memory/f-1_model_checkpoint',\n",
       "   '../experiments/incremental/second round/jc-lstm-seconds/stateaction_secondslstm_12/binconcepts/lstm/raw_full/2021_12_15_2/0/logger/ctLSTM_nlayers2_ncells[8, 16]_drop00_optimadam_lossauc_bs16_ep200long short term memory/f0_model_checkpoint']},\n",
       " '../experiments/incremental/second round/jc-lstm-seconds/stateaction_secondslstm_12/binconcepts/lstm/raw_full/2021_12_15_0/': {'ctLSTM_nlayers1_ncells[8]_drop00_optimadam_lossauc_bs16_ep200long short term memory': ['../experiments/incremental/second round/jc-lstm-seconds/stateaction_secondslstm_12/binconcepts/lstm/raw_full/2021_12_15_0/0/logger/ctLSTM_nlayers1_ncells[8]_drop00_optimadam_lossauc_bs16_ep200long short term memory/f9_model_checkpoint',\n",
       "   '../experiments/incremental/second round/jc-lstm-seconds/stateaction_secondslstm_12/binconcepts/lstm/raw_full/2021_12_15_0/0/logger/ctLSTM_nlayers1_ncells[8]_drop00_optimadam_lossauc_bs16_ep200long short term memory/f7_model_checkpoint',\n",
       "   '../experiments/incremental/second round/jc-lstm-seconds/stateaction_secondslstm_12/binconcepts/lstm/raw_full/2021_12_15_0/0/logger/ctLSTM_nlayers1_ncells[8]_drop00_optimadam_lossauc_bs16_ep200long short term memory/f3_model_checkpoint',\n",
       "   '../experiments/incremental/second round/jc-lstm-seconds/stateaction_secondslstm_12/binconcepts/lstm/raw_full/2021_12_15_0/0/logger/ctLSTM_nlayers1_ncells[8]_drop00_optimadam_lossauc_bs16_ep200long short term memory/f-1_model_checkpoint',\n",
       "   '../experiments/incremental/second round/jc-lstm-seconds/stateaction_secondslstm_12/binconcepts/lstm/raw_full/2021_12_15_0/0/logger/ctLSTM_nlayers1_ncells[8]_drop00_optimadam_lossauc_bs16_ep200long short term memory/f8_model_checkpoint',\n",
       "   '../experiments/incremental/second round/jc-lstm-seconds/stateaction_secondslstm_12/binconcepts/lstm/raw_full/2021_12_15_0/0/logger/ctLSTM_nlayers1_ncells[8]_drop00_optimadam_lossauc_bs16_ep200long short term memory/f5_model_checkpoint',\n",
       "   '../experiments/incremental/second round/jc-lstm-seconds/stateaction_secondslstm_12/binconcepts/lstm/raw_full/2021_12_15_0/0/logger/ctLSTM_nlayers1_ncells[8]_drop00_optimadam_lossauc_bs16_ep200long short term memory/f0_model_checkpoint',\n",
       "   '../experiments/incremental/second round/jc-lstm-seconds/stateaction_secondslstm_12/binconcepts/lstm/raw_full/2021_12_15_0/0/logger/ctLSTM_nlayers1_ncells[8]_drop00_optimadam_lossauc_bs16_ep200long short term memory/f6_model_checkpoint',\n",
       "   '../experiments/incremental/second round/jc-lstm-seconds/stateaction_secondslstm_12/binconcepts/lstm/raw_full/2021_12_15_0/0/logger/ctLSTM_nlayers1_ncells[8]_drop00_optimadam_lossauc_bs16_ep200long short term memory/f2_model_checkpoint',\n",
       "   '../experiments/incremental/second round/jc-lstm-seconds/stateaction_secondslstm_12/binconcepts/lstm/raw_full/2021_12_15_0/0/logger/ctLSTM_nlayers1_ncells[8]_drop00_optimadam_lossauc_bs16_ep200long short term memory/f4_model_checkpoint',\n",
       "   '../experiments/incremental/second round/jc-lstm-seconds/stateaction_secondslstm_12/binconcepts/lstm/raw_full/2021_12_15_0/0/logger/ctLSTM_nlayers1_ncells[8]_drop00_optimadam_lossauc_bs16_ep200long short term memory/f1_model_checkpoint']},\n",
       " '../experiments/incremental/second round/jc-lstm-seconds/stateaction_secondslstm_12/binconcepts/lstm/raw_full/2021_12_15_1/': {'ctLSTM_nlayers1_ncells[8]_drop02_optimadam_lossauc_bs16_ep200long short term memory': ['../experiments/incremental/second round/jc-lstm-seconds/stateaction_secondslstm_12/binconcepts/lstm/raw_full/2021_12_15_1/0/logger/ctLSTM_nlayers1_ncells[8]_drop02_optimadam_lossauc_bs16_ep200long short term memory/f2_model_checkpoint',\n",
       "   '../experiments/incremental/second round/jc-lstm-seconds/stateaction_secondslstm_12/binconcepts/lstm/raw_full/2021_12_15_1/0/logger/ctLSTM_nlayers1_ncells[8]_drop02_optimadam_lossauc_bs16_ep200long short term memory/f0_model_checkpoint',\n",
       "   '../experiments/incremental/second round/jc-lstm-seconds/stateaction_secondslstm_12/binconcepts/lstm/raw_full/2021_12_15_1/0/logger/ctLSTM_nlayers1_ncells[8]_drop02_optimadam_lossauc_bs16_ep200long short term memory/f6_model_checkpoint',\n",
       "   '../experiments/incremental/second round/jc-lstm-seconds/stateaction_secondslstm_12/binconcepts/lstm/raw_full/2021_12_15_1/0/logger/ctLSTM_nlayers1_ncells[8]_drop02_optimadam_lossauc_bs16_ep200long short term memory/f-1_model_checkpoint',\n",
       "   '../experiments/incremental/second round/jc-lstm-seconds/stateaction_secondslstm_12/binconcepts/lstm/raw_full/2021_12_15_1/0/logger/ctLSTM_nlayers1_ncells[8]_drop02_optimadam_lossauc_bs16_ep200long short term memory/f3_model_checkpoint',\n",
       "   '../experiments/incremental/second round/jc-lstm-seconds/stateaction_secondslstm_12/binconcepts/lstm/raw_full/2021_12_15_1/0/logger/ctLSTM_nlayers1_ncells[8]_drop02_optimadam_lossauc_bs16_ep200long short term memory/f4_model_checkpoint',\n",
       "   '../experiments/incremental/second round/jc-lstm-seconds/stateaction_secondslstm_12/binconcepts/lstm/raw_full/2021_12_15_1/0/logger/ctLSTM_nlayers1_ncells[8]_drop02_optimadam_lossauc_bs16_ep200long short term memory/f5_model_checkpoint',\n",
       "   '../experiments/incremental/second round/jc-lstm-seconds/stateaction_secondslstm_12/binconcepts/lstm/raw_full/2021_12_15_1/0/logger/ctLSTM_nlayers1_ncells[8]_drop02_optimadam_lossauc_bs16_ep200long short term memory/f8_model_checkpoint',\n",
       "   '../experiments/incremental/second round/jc-lstm-seconds/stateaction_secondslstm_12/binconcepts/lstm/raw_full/2021_12_15_1/0/logger/ctLSTM_nlayers1_ncells[8]_drop02_optimadam_lossauc_bs16_ep200long short term memory/f7_model_checkpoint',\n",
       "   '../experiments/incremental/second round/jc-lstm-seconds/stateaction_secondslstm_12/binconcepts/lstm/raw_full/2021_12_15_1/0/logger/ctLSTM_nlayers1_ncells[8]_drop02_optimadam_lossauc_bs16_ep200long short term memory/f1_model_checkpoint',\n",
       "   '../experiments/incremental/second round/jc-lstm-seconds/stateaction_secondslstm_12/binconcepts/lstm/raw_full/2021_12_15_1/0/logger/ctLSTM_nlayers1_ncells[8]_drop02_optimadam_lossauc_bs16_ep200long short term memory/f9_model_checkpoint']},\n",
       " '../experiments/incremental/second round/jc-lstm-seconds/stateaction_secondslstm_12/binconcepts/lstm/raw_full/2021_12_15_3/': {'ctLSTM_nlayers3_ncells[4, 8, 4]_drop00_optimadam_lossauc_bs16_ep200long short term memory': ['../experiments/incremental/second round/jc-lstm-seconds/stateaction_secondslstm_12/binconcepts/lstm/raw_full/2021_12_15_3/0/logger/ctLSTM_nlayers3_ncells[4, 8, 4]_drop00_optimadam_lossauc_bs16_ep200long short term memory/f4_model_checkpoint',\n",
       "   '../experiments/incremental/second round/jc-lstm-seconds/stateaction_secondslstm_12/binconcepts/lstm/raw_full/2021_12_15_3/0/logger/ctLSTM_nlayers3_ncells[4, 8, 4]_drop00_optimadam_lossauc_bs16_ep200long short term memory/f9_model_checkpoint',\n",
       "   '../experiments/incremental/second round/jc-lstm-seconds/stateaction_secondslstm_12/binconcepts/lstm/raw_full/2021_12_15_3/0/logger/ctLSTM_nlayers3_ncells[4, 8, 4]_drop00_optimadam_lossauc_bs16_ep200long short term memory/f8_model_checkpoint',\n",
       "   '../experiments/incremental/second round/jc-lstm-seconds/stateaction_secondslstm_12/binconcepts/lstm/raw_full/2021_12_15_3/0/logger/ctLSTM_nlayers3_ncells[4, 8, 4]_drop00_optimadam_lossauc_bs16_ep200long short term memory/f6_model_checkpoint',\n",
       "   '../experiments/incremental/second round/jc-lstm-seconds/stateaction_secondslstm_12/binconcepts/lstm/raw_full/2021_12_15_3/0/logger/ctLSTM_nlayers3_ncells[4, 8, 4]_drop00_optimadam_lossauc_bs16_ep200long short term memory/f7_model_checkpoint',\n",
       "   '../experiments/incremental/second round/jc-lstm-seconds/stateaction_secondslstm_12/binconcepts/lstm/raw_full/2021_12_15_3/0/logger/ctLSTM_nlayers3_ncells[4, 8, 4]_drop00_optimadam_lossauc_bs16_ep200long short term memory/f5_model_checkpoint',\n",
       "   '../experiments/incremental/second round/jc-lstm-seconds/stateaction_secondslstm_12/binconcepts/lstm/raw_full/2021_12_15_3/0/logger/ctLSTM_nlayers3_ncells[4, 8, 4]_drop00_optimadam_lossauc_bs16_ep200long short term memory/f3_model_checkpoint',\n",
       "   '../experiments/incremental/second round/jc-lstm-seconds/stateaction_secondslstm_12/binconcepts/lstm/raw_full/2021_12_15_3/0/logger/ctLSTM_nlayers3_ncells[4, 8, 4]_drop00_optimadam_lossauc_bs16_ep200long short term memory/f1_model_checkpoint',\n",
       "   '../experiments/incremental/second round/jc-lstm-seconds/stateaction_secondslstm_12/binconcepts/lstm/raw_full/2021_12_15_3/0/logger/ctLSTM_nlayers3_ncells[4, 8, 4]_drop00_optimadam_lossauc_bs16_ep200long short term memory/f-1_model_checkpoint',\n",
       "   '../experiments/incremental/second round/jc-lstm-seconds/stateaction_secondslstm_12/binconcepts/lstm/raw_full/2021_12_15_3/0/logger/ctLSTM_nlayers3_ncells[4, 8, 4]_drop00_optimadam_lossauc_bs16_ep200long short term memory/f0_model_checkpoint',\n",
       "   '../experiments/incremental/second round/jc-lstm-seconds/stateaction_secondslstm_12/binconcepts/lstm/raw_full/2021_12_15_3/0/logger/ctLSTM_nlayers3_ncells[4, 8, 4]_drop00_optimadam_lossauc_bs16_ep200long short term memory/f2_model_checkpoint']},\n",
       " '../experiments/incremental/second round/jc-lstm-seconds/stateaction_secondslstm_12/binconcepts/lstm/raw_full/2021_12_15_4/': {'ctLSTM_nlayers3_ncells[4, 8, 4]_drop02_optimadam_lossauc_bs16_ep200long short term memory': ['../experiments/incremental/second round/jc-lstm-seconds/stateaction_secondslstm_12/binconcepts/lstm/raw_full/2021_12_15_4/0/logger/ctLSTM_nlayers3_ncells[4, 8, 4]_drop02_optimadam_lossauc_bs16_ep200long short term memory/f9_model_checkpoint',\n",
       "   '../experiments/incremental/second round/jc-lstm-seconds/stateaction_secondslstm_12/binconcepts/lstm/raw_full/2021_12_15_4/0/logger/ctLSTM_nlayers3_ncells[4, 8, 4]_drop02_optimadam_lossauc_bs16_ep200long short term memory/f2_model_checkpoint',\n",
       "   '../experiments/incremental/second round/jc-lstm-seconds/stateaction_secondslstm_12/binconcepts/lstm/raw_full/2021_12_15_4/0/logger/ctLSTM_nlayers3_ncells[4, 8, 4]_drop02_optimadam_lossauc_bs16_ep200long short term memory/f5_model_checkpoint',\n",
       "   '../experiments/incremental/second round/jc-lstm-seconds/stateaction_secondslstm_12/binconcepts/lstm/raw_full/2021_12_15_4/0/logger/ctLSTM_nlayers3_ncells[4, 8, 4]_drop02_optimadam_lossauc_bs16_ep200long short term memory/f0_model_checkpoint',\n",
       "   '../experiments/incremental/second round/jc-lstm-seconds/stateaction_secondslstm_12/binconcepts/lstm/raw_full/2021_12_15_4/0/logger/ctLSTM_nlayers3_ncells[4, 8, 4]_drop02_optimadam_lossauc_bs16_ep200long short term memory/f8_model_checkpoint',\n",
       "   '../experiments/incremental/second round/jc-lstm-seconds/stateaction_secondslstm_12/binconcepts/lstm/raw_full/2021_12_15_4/0/logger/ctLSTM_nlayers3_ncells[4, 8, 4]_drop02_optimadam_lossauc_bs16_ep200long short term memory/f3_model_checkpoint',\n",
       "   '../experiments/incremental/second round/jc-lstm-seconds/stateaction_secondslstm_12/binconcepts/lstm/raw_full/2021_12_15_4/0/logger/ctLSTM_nlayers3_ncells[4, 8, 4]_drop02_optimadam_lossauc_bs16_ep200long short term memory/f4_model_checkpoint',\n",
       "   '../experiments/incremental/second round/jc-lstm-seconds/stateaction_secondslstm_12/binconcepts/lstm/raw_full/2021_12_15_4/0/logger/ctLSTM_nlayers3_ncells[4, 8, 4]_drop02_optimadam_lossauc_bs16_ep200long short term memory/f-1_model_checkpoint',\n",
       "   '../experiments/incremental/second round/jc-lstm-seconds/stateaction_secondslstm_12/binconcepts/lstm/raw_full/2021_12_15_4/0/logger/ctLSTM_nlayers3_ncells[4, 8, 4]_drop02_optimadam_lossauc_bs16_ep200long short term memory/f7_model_checkpoint',\n",
       "   '../experiments/incremental/second round/jc-lstm-seconds/stateaction_secondslstm_12/binconcepts/lstm/raw_full/2021_12_15_4/0/logger/ctLSTM_nlayers3_ncells[4, 8, 4]_drop02_optimadam_lossauc_bs16_ep200long short term memory/f6_model_checkpoint',\n",
       "   '../experiments/incremental/second round/jc-lstm-seconds/stateaction_secondslstm_12/binconcepts/lstm/raw_full/2021_12_15_4/0/logger/ctLSTM_nlayers3_ncells[4, 8, 4]_drop02_optimadam_lossauc_bs16_ep200long short term memory/f1_model_checkpoint']}}"
      ]
     },
     "execution_count": 42,
     "metadata": {},
     "output_type": "execute_result"
    }
   ],
   "source": [
    "paths"
   ]
  },
  {
   "cell_type": "code",
   "execution_count": 28,
   "id": "4c13b626",
   "metadata": {
    "ExecuteTime": {
     "end_time": "2021-12-19T15:26:28.196805Z",
     "start_time": "2021-12-19T15:26:28.189734Z"
    }
   },
   "outputs": [
    {
     "data": {
      "text/plain": [
       "['../experiments/incremental/second round/jc-lstm-seconds/stateaction_secondslstm_12/binconcepts/lstm/raw_full/2021_12_15_2/0/logger/ctLSTM_nlayers2_ncells[8, 16]_drop00_optimadam_lossauc_bs16_ep200long short term memory/f8_model_checkpoint',\n",
       " '../experiments/incremental/second round/jc-lstm-seconds/stateaction_secondslstm_12/binconcepts/lstm/raw_full/2021_12_15_0/0/logger/ctLSTM_nlayers1_ncells[8]_drop00_optimadam_lossauc_bs16_ep200long short term memory/f9_model_checkpoint',\n",
       " '../experiments/incremental/second round/jc-lstm-seconds/stateaction_secondslstm_12/binconcepts/lstm/raw_full/2021_12_15_1/0/logger/ctLSTM_nlayers1_ncells[8]_drop02_optimadam_lossauc_bs16_ep200long short term memory/f2_model_checkpoint',\n",
       " '../experiments/incremental/second round/jc-lstm-seconds/stateaction_secondslstm_12/binconcepts/lstm/raw_full/2021_12_15_3/0/logger/ctLSTM_nlayers3_ncells[4, 8, 4]_drop00_optimadam_lossauc_bs16_ep200long short term memory/f4_model_checkpoint',\n",
       " '../experiments/incremental/second round/jc-lstm-seconds/stateaction_secondslstm_12/binconcepts/lstm/raw_full/2021_12_15_2/0/logger/ctLSTM_nlayers2_ncells[8, 16]_drop00_optimadam_lossauc_bs16_ep200long short term memory/f5_model_checkpoint',\n",
       " '../experiments/incremental/second round/jc-lstm-seconds/stateaction_secondslstm_12/binconcepts/lstm/raw_full/2021_12_15_1/0/logger/ctLSTM_nlayers1_ncells[8]_drop02_optimadam_lossauc_bs16_ep200long short term memory/f0_model_checkpoint',\n",
       " '../experiments/incremental/second round/jc-lstm-seconds/stateaction_secondslstm_12/binconcepts/lstm/raw_full/2021_12_15_0/0/logger/ctLSTM_nlayers1_ncells[8]_drop00_optimadam_lossauc_bs16_ep200long short term memory/f7_model_checkpoint',\n",
       " '../experiments/incremental/second round/jc-lstm-seconds/stateaction_secondslstm_12/binconcepts/lstm/raw_full/2021_12_15_0/0/logger/ctLSTM_nlayers1_ncells[8]_drop00_optimadam_lossauc_bs16_ep200long short term memory/f3_model_checkpoint',\n",
       " '../experiments/incremental/second round/jc-lstm-seconds/stateaction_secondslstm_12/binconcepts/lstm/raw_full/2021_12_15_3/0/logger/ctLSTM_nlayers3_ncells[4, 8, 4]_drop00_optimadam_lossauc_bs16_ep200long short term memory/f9_model_checkpoint',\n",
       " '../experiments/incremental/second round/jc-lstm-seconds/stateaction_secondslstm_12/binconcepts/lstm/raw_full/2021_12_15_1/0/logger/ctLSTM_nlayers1_ncells[8]_drop02_optimadam_lossauc_bs16_ep200long short term memory/f6_model_checkpoint',\n",
       " '../experiments/incremental/second round/jc-lstm-seconds/stateaction_secondslstm_12/binconcepts/lstm/raw_full/2021_12_15_2/0/logger/ctLSTM_nlayers2_ncells[8, 16]_drop00_optimadam_lossauc_bs16_ep200long short term memory/f9_model_checkpoint',\n",
       " '../experiments/incremental/second round/jc-lstm-seconds/stateaction_secondslstm_12/binconcepts/lstm/raw_full/2021_12_15_4/0/logger/ctLSTM_nlayers3_ncells[4, 8, 4]_drop02_optimadam_lossauc_bs16_ep200long short term memory/f9_model_checkpoint',\n",
       " '../experiments/incremental/second round/jc-lstm-seconds/stateaction_secondslstm_12/binconcepts/lstm/raw_full/2021_12_15_2/0/logger/ctLSTM_nlayers2_ncells[8, 16]_drop00_optimadam_lossauc_bs16_ep200long short term memory/f1_model_checkpoint',\n",
       " '../experiments/incremental/second round/jc-lstm-seconds/stateaction_secondslstm_12/binconcepts/lstm/raw_full/2021_12_15_2/0/logger/ctLSTM_nlayers2_ncells[8, 16]_drop00_optimadam_lossauc_bs16_ep200long short term memory/f4_model_checkpoint',\n",
       " '../experiments/incremental/second round/jc-lstm-seconds/stateaction_secondslstm_12/binconcepts/lstm/raw_full/2021_12_15_4/0/logger/ctLSTM_nlayers3_ncells[4, 8, 4]_drop02_optimadam_lossauc_bs16_ep200long short term memory/f2_model_checkpoint',\n",
       " '../experiments/incremental/second round/jc-lstm-seconds/stateaction_secondslstm_12/binconcepts/lstm/raw_full/2021_12_15_4/0/logger/ctLSTM_nlayers3_ncells[4, 8, 4]_drop02_optimadam_lossauc_bs16_ep200long short term memory/f5_model_checkpoint',\n",
       " '../experiments/incremental/second round/jc-lstm-seconds/stateaction_secondslstm_12/binconcepts/lstm/raw_full/2021_12_15_3/0/logger/ctLSTM_nlayers3_ncells[4, 8, 4]_drop00_optimadam_lossauc_bs16_ep200long short term memory/f8_model_checkpoint',\n",
       " '../experiments/incremental/second round/jc-lstm-seconds/stateaction_secondslstm_12/binconcepts/lstm/raw_full/2021_12_15_4/0/logger/ctLSTM_nlayers3_ncells[4, 8, 4]_drop02_optimadam_lossauc_bs16_ep200long short term memory/f0_model_checkpoint',\n",
       " '../experiments/incremental/second round/jc-lstm-seconds/stateaction_secondslstm_12/binconcepts/lstm/raw_full/2021_12_15_3/0/logger/ctLSTM_nlayers3_ncells[4, 8, 4]_drop00_optimadam_lossauc_bs16_ep200long short term memory/f6_model_checkpoint',\n",
       " '../experiments/incremental/second round/jc-lstm-seconds/stateaction_secondslstm_12/binconcepts/lstm/raw_full/2021_12_15_3/0/logger/ctLSTM_nlayers3_ncells[4, 8, 4]_drop00_optimadam_lossauc_bs16_ep200long short term memory/f7_model_checkpoint',\n",
       " '../experiments/incremental/second round/jc-lstm-seconds/stateaction_secondslstm_12/binconcepts/lstm/raw_full/2021_12_15_3/0/logger/ctLSTM_nlayers3_ncells[4, 8, 4]_drop00_optimadam_lossauc_bs16_ep200long short term memory/f5_model_checkpoint',\n",
       " '../experiments/incremental/second round/jc-lstm-seconds/stateaction_secondslstm_12/binconcepts/lstm/raw_full/2021_12_15_0/0/logger/ctLSTM_nlayers1_ncells[8]_drop00_optimadam_lossauc_bs16_ep200long short term memory/f-1_model_checkpoint',\n",
       " '../experiments/incremental/second round/jc-lstm-seconds/stateaction_secondslstm_12/binconcepts/lstm/raw_full/2021_12_15_2/0/logger/ctLSTM_nlayers2_ncells[8, 16]_drop00_optimadam_lossauc_bs16_ep200long short term memory/f7_model_checkpoint',\n",
       " '../experiments/incremental/second round/jc-lstm-seconds/stateaction_secondslstm_12/binconcepts/lstm/raw_full/2021_12_15_0/0/logger/ctLSTM_nlayers1_ncells[8]_drop00_optimadam_lossauc_bs16_ep200long short term memory/f8_model_checkpoint',\n",
       " '../experiments/incremental/second round/jc-lstm-seconds/stateaction_secondslstm_12/binconcepts/lstm/raw_full/2021_12_15_0/0/logger/ctLSTM_nlayers1_ncells[8]_drop00_optimadam_lossauc_bs16_ep200long short term memory/f5_model_checkpoint',\n",
       " '../experiments/incremental/second round/jc-lstm-seconds/stateaction_secondslstm_12/binconcepts/lstm/raw_full/2021_12_15_4/0/logger/ctLSTM_nlayers3_ncells[4, 8, 4]_drop02_optimadam_lossauc_bs16_ep200long short term memory/f8_model_checkpoint',\n",
       " '../experiments/incremental/second round/jc-lstm-seconds/stateaction_secondslstm_12/binconcepts/lstm/raw_full/2021_12_15_3/0/logger/ctLSTM_nlayers3_ncells[4, 8, 4]_drop00_optimadam_lossauc_bs16_ep200long short term memory/f3_model_checkpoint',\n",
       " '../experiments/incremental/second round/jc-lstm-seconds/stateaction_secondslstm_12/binconcepts/lstm/raw_full/2021_12_15_2/0/logger/ctLSTM_nlayers2_ncells[8, 16]_drop00_optimadam_lossauc_bs16_ep200long short term memory/f6_model_checkpoint',\n",
       " '../experiments/incremental/second round/jc-lstm-seconds/stateaction_secondslstm_12/binconcepts/lstm/raw_full/2021_12_15_3/0/logger/ctLSTM_nlayers3_ncells[4, 8, 4]_drop00_optimadam_lossauc_bs16_ep200long short term memory/f1_model_checkpoint',\n",
       " '../experiments/incremental/second round/jc-lstm-seconds/stateaction_secondslstm_12/binconcepts/lstm/raw_full/2021_12_15_4/0/logger/ctLSTM_nlayers3_ncells[4, 8, 4]_drop02_optimadam_lossauc_bs16_ep200long short term memory/f3_model_checkpoint',\n",
       " '../experiments/incremental/second round/jc-lstm-seconds/stateaction_secondslstm_12/binconcepts/lstm/raw_full/2021_12_15_1/0/logger/ctLSTM_nlayers1_ncells[8]_drop02_optimadam_lossauc_bs16_ep200long short term memory/f-1_model_checkpoint',\n",
       " '../experiments/incremental/second round/jc-lstm-seconds/stateaction_secondslstm_12/binconcepts/lstm/raw_full/2021_12_15_4/0/logger/ctLSTM_nlayers3_ncells[4, 8, 4]_drop02_optimadam_lossauc_bs16_ep200long short term memory/f4_model_checkpoint',\n",
       " '../experiments/incremental/second round/jc-lstm-seconds/stateaction_secondslstm_12/binconcepts/lstm/raw_full/2021_12_15_4/0/logger/ctLSTM_nlayers3_ncells[4, 8, 4]_drop02_optimadam_lossauc_bs16_ep200long short term memory/f-1_model_checkpoint',\n",
       " '../experiments/incremental/second round/jc-lstm-seconds/stateaction_secondslstm_12/binconcepts/lstm/raw_full/2021_12_15_1/0/logger/ctLSTM_nlayers1_ncells[8]_drop02_optimadam_lossauc_bs16_ep200long short term memory/f3_model_checkpoint',\n",
       " '../experiments/incremental/second round/jc-lstm-seconds/stateaction_secondslstm_12/binconcepts/lstm/raw_full/2021_12_15_3/0/logger/ctLSTM_nlayers3_ncells[4, 8, 4]_drop00_optimadam_lossauc_bs16_ep200long short term memory/f-1_model_checkpoint',\n",
       " '../experiments/incremental/second round/jc-lstm-seconds/stateaction_secondslstm_12/binconcepts/lstm/raw_full/2021_12_15_3/0/logger/ctLSTM_nlayers3_ncells[4, 8, 4]_drop00_optimadam_lossauc_bs16_ep200long short term memory/f0_model_checkpoint',\n",
       " '../experiments/incremental/second round/jc-lstm-seconds/stateaction_secondslstm_12/binconcepts/lstm/raw_full/2021_12_15_0/0/logger/ctLSTM_nlayers1_ncells[8]_drop00_optimadam_lossauc_bs16_ep200long short term memory/f0_model_checkpoint',\n",
       " '../experiments/incremental/second round/jc-lstm-seconds/stateaction_secondslstm_12/binconcepts/lstm/raw_full/2021_12_15_4/0/logger/ctLSTM_nlayers3_ncells[4, 8, 4]_drop02_optimadam_lossauc_bs16_ep200long short term memory/f7_model_checkpoint',\n",
       " '../experiments/incremental/second round/jc-lstm-seconds/stateaction_secondslstm_12/binconcepts/lstm/raw_full/2021_12_15_4/0/logger/ctLSTM_nlayers3_ncells[4, 8, 4]_drop02_optimadam_lossauc_bs16_ep200long short term memory/f6_model_checkpoint',\n",
       " '../experiments/incremental/second round/jc-lstm-seconds/stateaction_secondslstm_12/binconcepts/lstm/raw_full/2021_12_15_2/0/logger/ctLSTM_nlayers2_ncells[8, 16]_drop00_optimadam_lossauc_bs16_ep200long short term memory/f3_model_checkpoint',\n",
       " '../experiments/incremental/second round/jc-lstm-seconds/stateaction_secondslstm_12/binconcepts/lstm/raw_full/2021_12_15_3/0/logger/ctLSTM_nlayers3_ncells[4, 8, 4]_drop00_optimadam_lossauc_bs16_ep200long short term memory/f2_model_checkpoint',\n",
       " '../experiments/incremental/second round/jc-lstm-seconds/stateaction_secondslstm_12/binconcepts/lstm/raw_full/2021_12_15_0/0/logger/ctLSTM_nlayers1_ncells[8]_drop00_optimadam_lossauc_bs16_ep200long short term memory/f6_model_checkpoint',\n",
       " '../experiments/incremental/second round/jc-lstm-seconds/stateaction_secondslstm_12/binconcepts/lstm/raw_full/2021_12_15_2/0/logger/ctLSTM_nlayers2_ncells[8, 16]_drop00_optimadam_lossauc_bs16_ep200long short term memory/f2_model_checkpoint',\n",
       " '../experiments/incremental/second round/jc-lstm-seconds/stateaction_secondslstm_12/binconcepts/lstm/raw_full/2021_12_15_0/0/logger/ctLSTM_nlayers1_ncells[8]_drop00_optimadam_lossauc_bs16_ep200long short term memory/f2_model_checkpoint',\n",
       " '../experiments/incremental/second round/jc-lstm-seconds/stateaction_secondslstm_12/binconcepts/lstm/raw_full/2021_12_15_1/0/logger/ctLSTM_nlayers1_ncells[8]_drop02_optimadam_lossauc_bs16_ep200long short term memory/f4_model_checkpoint',\n",
       " '../experiments/incremental/second round/jc-lstm-seconds/stateaction_secondslstm_12/binconcepts/lstm/raw_full/2021_12_15_1/0/logger/ctLSTM_nlayers1_ncells[8]_drop02_optimadam_lossauc_bs16_ep200long short term memory/f5_model_checkpoint',\n",
       " '../experiments/incremental/second round/jc-lstm-seconds/stateaction_secondslstm_12/binconcepts/lstm/raw_full/2021_12_15_1/0/logger/ctLSTM_nlayers1_ncells[8]_drop02_optimadam_lossauc_bs16_ep200long short term memory/f8_model_checkpoint',\n",
       " '../experiments/incremental/second round/jc-lstm-seconds/stateaction_secondslstm_12/binconcepts/lstm/raw_full/2021_12_15_2/0/logger/ctLSTM_nlayers2_ncells[8, 16]_drop00_optimadam_lossauc_bs16_ep200long short term memory/f-1_model_checkpoint',\n",
       " '../experiments/incremental/second round/jc-lstm-seconds/stateaction_secondslstm_12/binconcepts/lstm/raw_full/2021_12_15_1/0/logger/ctLSTM_nlayers1_ncells[8]_drop02_optimadam_lossauc_bs16_ep200long short term memory/f7_model_checkpoint',\n",
       " '../experiments/incremental/second round/jc-lstm-seconds/stateaction_secondslstm_12/binconcepts/lstm/raw_full/2021_12_15_1/0/logger/ctLSTM_nlayers1_ncells[8]_drop02_optimadam_lossauc_bs16_ep200long short term memory/f1_model_checkpoint',\n",
       " '../experiments/incremental/second round/jc-lstm-seconds/stateaction_secondslstm_12/binconcepts/lstm/raw_full/2021_12_15_0/0/logger/ctLSTM_nlayers1_ncells[8]_drop00_optimadam_lossauc_bs16_ep200long short term memory/f4_model_checkpoint',\n",
       " '../experiments/incremental/second round/jc-lstm-seconds/stateaction_secondslstm_12/binconcepts/lstm/raw_full/2021_12_15_1/0/logger/ctLSTM_nlayers1_ncells[8]_drop02_optimadam_lossauc_bs16_ep200long short term memory/f9_model_checkpoint',\n",
       " '../experiments/incremental/second round/jc-lstm-seconds/stateaction_secondslstm_12/binconcepts/lstm/raw_full/2021_12_15_0/0/logger/ctLSTM_nlayers1_ncells[8]_drop00_optimadam_lossauc_bs16_ep200long short term memory/f1_model_checkpoint',\n",
       " '../experiments/incremental/second round/jc-lstm-seconds/stateaction_secondslstm_12/binconcepts/lstm/raw_full/2021_12_15_2/0/logger/ctLSTM_nlayers2_ncells[8, 16]_drop00_optimadam_lossauc_bs16_ep200long short term memory/f0_model_checkpoint',\n",
       " '../experiments/incremental/second round/jc-lstm-seconds/stateaction_secondslstm_12/binconcepts/lstm/raw_full/2021_12_15_4/0/logger/ctLSTM_nlayers3_ncells[4, 8, 4]_drop02_optimadam_lossauc_bs16_ep200long short term memory/f1_model_checkpoint']"
      ]
     },
     "execution_count": 28,
     "metadata": {},
     "output_type": "execute_result"
    }
   ],
   "source": [
    "model_paths"
   ]
  },
  {
   "cell_type": "code",
   "execution_count": 35,
   "id": "7c7b7948",
   "metadata": {
    "ExecuteTime": {
     "end_time": "2021-12-19T15:36:43.270463Z",
     "start_time": "2021-12-19T15:36:43.267965Z"
    }
   },
   "outputs": [],
   "source": [
    "model_path = model_paths[0]"
   ]
  },
  {
   "cell_type": "code",
   "execution_count": 36,
   "id": "6774f7f2",
   "metadata": {
    "ExecuteTime": {
     "end_time": "2021-12-19T15:36:43.499858Z",
     "start_time": "2021-12-19T15:36:43.495714Z"
    }
   },
   "outputs": [
    {
     "data": {
      "text/plain": [
       "'../experiments/incremental/second round/jc-lstm-seconds/stateaction_secondslstm_12/binconcepts/lstm/raw_full/2021_12_15_2/0/logger/ctLSTM_nlayers2_ncells[8, 16]_drop00_optimadam_lossauc_bs16_ep200long short term memory/f8_model_checkpoint'"
      ]
     },
     "execution_count": 36,
     "metadata": {},
     "output_type": "execute_result"
    }
   ],
   "source": [
    "model_path"
   ]
  },
  {
   "cell_type": "code",
   "execution_count": 39,
   "id": "b0b9f069",
   "metadata": {
    "ExecuteTime": {
     "end_time": "2021-12-19T15:38:46.643605Z",
     "start_time": "2021-12-19T15:38:46.640518Z"
    }
   },
   "outputs": [],
   "source": [
    "temp = \n"
   ]
  },
  {
   "cell_type": "code",
   "execution_count": 40,
   "id": "daa4129f",
   "metadata": {
    "ExecuteTime": {
     "end_time": "2021-12-19T15:38:47.866612Z",
     "start_time": "2021-12-19T15:38:47.862381Z"
    }
   },
   "outputs": [
    {
     "data": {
      "text/plain": [
       "['ctLSTM_nlayers2_ncells[8, 16]_drop00_optimadam_lossauc_bs16_ep200long short term memory']"
      ]
     },
     "execution_count": 40,
     "metadata": {},
     "output_type": "execute_result"
    }
   ],
   "source": [
    "temp.findall(model_path)"
   ]
  },
  {
   "cell_type": "code",
   "execution_count": 34,
   "id": "a45fcd3c",
   "metadata": {
    "ExecuteTime": {
     "end_time": "2021-12-19T15:36:34.969018Z",
     "start_time": "2021-12-19T15:36:34.965293Z"
    }
   },
   "outputs": [
    {
     "data": {
      "text/plain": [
       "['../experiments/incremental/second round/jc-lstm-seconds/stateaction_secondslstm_12/binconcepts/lstm/raw_full/2021_12_15_2/0/logger/ctLSTM_nlayers2_ncells[8, 16]_drop00_optimadam_lossauc_bs16_ep200long short term memory/f8_model_checkpoint']"
      ]
     },
     "execution_count": 34,
     "metadata": {},
     "output_type": "execute_result"
    }
   ],
   "source": [
    "model_path"
   ]
  },
  {
   "cell_type": "code",
   "execution_count": 15,
   "id": "1c7f959e",
   "metadata": {
    "ExecuteTime": {
     "end_time": "2021-12-19T14:24:30.711261Z",
     "start_time": "2021-12-19T14:24:30.613019Z"
    }
   },
   "outputs": [],
   "source": [
    "# recreate\n",
    "xval_path = '../experiments/temp_to_add/jc-lstm-seconds/stateaction_secondslstm_12/binconcepts/lstm/raw_full/2021_12_15_0/results/nested_xval_mlstm_l900.pkl'\n",
    "with open(xval_path, 'rb') as fp:\n",
    "    xval = pickle.load(fp)"
   ]
  },
  {
   "cell_type": "code",
   "execution_count": 23,
   "id": "5ad1cbb7",
   "metadata": {
    "ExecuteTime": {
     "end_time": "2021-12-19T14:32:28.186123Z",
     "start_time": "2021-12-19T14:32:28.181895Z"
    }
   },
   "outputs": [],
   "source": [
    "gs_path = '../experiments/temp_to_add/jc-lstm-seconds/stateaction_secondslstm_12/binconcepts/lstm/raw_full/2021_12_15_0/gridsearch results/supgs_l900_f0.pkl'\n",
    "with open(gs_path, 'rb') as fp:\n",
    "    gs = pickle.load(fp)\n"
   ]
  },
  {
   "cell_type": "code",
   "execution_count": 27,
   "id": "3ccd225d",
   "metadata": {
    "ExecuteTime": {
     "end_time": "2021-12-19T14:35:47.156756Z",
     "start_time": "2021-12-19T14:35:47.152210Z"
    }
   },
   "outputs": [
    {
     "data": {
      "text/plain": [
       "{0: {'batch_size': 16,\n",
       "  'cell_type': 'LSTM',\n",
       "  'dropout': 0.0,\n",
       "  'early_stopping': False,\n",
       "  'epochs': 200,\n",
       "  'loss': 'auc',\n",
       "  'n_cells': [8],\n",
       "  'n_layers': 1,\n",
       "  'optimiser': 'adam',\n",
       "  'padding_value': -1,\n",
       "  'shuffle': True,\n",
       "  'verbose': 1,\n",
       "  'fold_scores': [0.25,\n",
       "   0.5,\n",
       "   0.6428571428571428,\n",
       "   0.75,\n",
       "   0.5,\n",
       "   0.5208333333333334,\n",
       "   0.5,\n",
       "   0.5,\n",
       "   0.6666666666666666,\n",
       "   0.5],\n",
       "  'mean_score': 0.5330357142857143,\n",
       "  'std_score': 0.1275564128678712}}"
      ]
     },
     "execution_count": 27,
     "metadata": {},
     "output_type": "execute_result"
    }
   ],
   "source": [
    "gs._results"
   ]
  },
  {
   "cell_type": "code",
   "execution_count": 22,
   "id": "6afa2593",
   "metadata": {
    "ExecuteTime": {
     "end_time": "2021-12-19T14:31:20.838539Z",
     "start_time": "2021-12-19T14:31:20.834534Z"
    }
   },
   "outputs": [
    {
     "data": {
      "text/plain": [
       "dict_keys(['train_index', 'train_indices', 'test_index', 'test_indices', 'x_resampled', 'y_resampled', 'y_pred', 'y_proba', 'accuracy', 'balanced_accuracy', 'precision', 'recall', 'roc', 'best_params', 'best_estimator', 'gridsearch_object'])"
      ]
     },
     "execution_count": 22,
     "metadata": {},
     "output_type": "execute_result"
    }
   ],
   "source": [
    "xval[0].keys()\n"
   ]
  },
  {
   "cell_type": "code",
   "execution_count": 14,
   "id": "69d2af77",
   "metadata": {
    "ExecuteTime": {
     "end_time": "2021-12-19T14:19:16.020212Z",
     "start_time": "2021-12-19T14:19:16.014749Z"
    }
   },
   "outputs": [
    {
     "data": {
      "text/plain": [
       "['../experiments/incremental/second round/jc-lstm-seconds/stateaction_secondslstm_12/binconcepts/lstm/raw_full/2021_12_15_2/0/logger/ctLSTM_nlayers2_ncells[8, 16]_drop00_optimadam_lossauc_bs16_ep200long short term memory/f8_model_checkpoint',\n",
       " '../experiments/incremental/second round/jc-lstm-seconds/stateaction_secondslstm_12/binconcepts/lstm/raw_full/2021_12_15_0/0/logger/ctLSTM_nlayers1_ncells[8]_drop00_optimadam_lossauc_bs16_ep200long short term memory/f9_model_checkpoint',\n",
       " '../experiments/incremental/second round/jc-lstm-seconds/stateaction_secondslstm_12/binconcepts/lstm/raw_full/2021_12_15_1/0/logger/ctLSTM_nlayers1_ncells[8]_drop02_optimadam_lossauc_bs16_ep200long short term memory/f2_model_checkpoint',\n",
       " '../experiments/incremental/second round/jc-lstm-seconds/stateaction_secondslstm_12/binconcepts/lstm/raw_full/2021_12_15_3/0/logger/ctLSTM_nlayers3_ncells[4, 8, 4]_drop00_optimadam_lossauc_bs16_ep200long short term memory/f4_model_checkpoint',\n",
       " '../experiments/incremental/second round/jc-lstm-seconds/stateaction_secondslstm_12/binconcepts/lstm/raw_full/2021_12_15_2/0/logger/ctLSTM_nlayers2_ncells[8, 16]_drop00_optimadam_lossauc_bs16_ep200long short term memory/f5_model_checkpoint',\n",
       " '../experiments/incremental/second round/jc-lstm-seconds/stateaction_secondslstm_12/binconcepts/lstm/raw_full/2021_12_15_1/0/logger/ctLSTM_nlayers1_ncells[8]_drop02_optimadam_lossauc_bs16_ep200long short term memory/f0_model_checkpoint',\n",
       " '../experiments/incremental/second round/jc-lstm-seconds/stateaction_secondslstm_12/binconcepts/lstm/raw_full/2021_12_15_0/0/logger/ctLSTM_nlayers1_ncells[8]_drop00_optimadam_lossauc_bs16_ep200long short term memory/f7_model_checkpoint',\n",
       " '../experiments/incremental/second round/jc-lstm-seconds/stateaction_secondslstm_12/binconcepts/lstm/raw_full/2021_12_15_0/0/logger/ctLSTM_nlayers1_ncells[8]_drop00_optimadam_lossauc_bs16_ep200long short term memory/f3_model_checkpoint',\n",
       " '../experiments/incremental/second round/jc-lstm-seconds/stateaction_secondslstm_12/binconcepts/lstm/raw_full/2021_12_15_3/0/logger/ctLSTM_nlayers3_ncells[4, 8, 4]_drop00_optimadam_lossauc_bs16_ep200long short term memory/f9_model_checkpoint',\n",
       " '../experiments/incremental/second round/jc-lstm-seconds/stateaction_secondslstm_12/binconcepts/lstm/raw_full/2021_12_15_1/0/logger/ctLSTM_nlayers1_ncells[8]_drop02_optimadam_lossauc_bs16_ep200long short term memory/f6_model_checkpoint',\n",
       " '../experiments/incremental/second round/jc-lstm-seconds/stateaction_secondslstm_12/binconcepts/lstm/raw_full/2021_12_15_2/0/logger/ctLSTM_nlayers2_ncells[8, 16]_drop00_optimadam_lossauc_bs16_ep200long short term memory/f9_model_checkpoint',\n",
       " '../experiments/incremental/second round/jc-lstm-seconds/stateaction_secondslstm_12/binconcepts/lstm/raw_full/2021_12_15_4/0/logger/ctLSTM_nlayers3_ncells[4, 8, 4]_drop02_optimadam_lossauc_bs16_ep200long short term memory/f9_model_checkpoint',\n",
       " '../experiments/incremental/second round/jc-lstm-seconds/stateaction_secondslstm_12/binconcepts/lstm/raw_full/2021_12_15_2/0/logger/ctLSTM_nlayers2_ncells[8, 16]_drop00_optimadam_lossauc_bs16_ep200long short term memory/f1_model_checkpoint',\n",
       " '../experiments/incremental/second round/jc-lstm-seconds/stateaction_secondslstm_12/binconcepts/lstm/raw_full/2021_12_15_2/0/logger/ctLSTM_nlayers2_ncells[8, 16]_drop00_optimadam_lossauc_bs16_ep200long short term memory/f4_model_checkpoint',\n",
       " '../experiments/incremental/second round/jc-lstm-seconds/stateaction_secondslstm_12/binconcepts/lstm/raw_full/2021_12_15_4/0/logger/ctLSTM_nlayers3_ncells[4, 8, 4]_drop02_optimadam_lossauc_bs16_ep200long short term memory/f2_model_checkpoint',\n",
       " '../experiments/incremental/second round/jc-lstm-seconds/stateaction_secondslstm_12/binconcepts/lstm/raw_full/2021_12_15_4/0/logger/ctLSTM_nlayers3_ncells[4, 8, 4]_drop02_optimadam_lossauc_bs16_ep200long short term memory/f5_model_checkpoint',\n",
       " '../experiments/incremental/second round/jc-lstm-seconds/stateaction_secondslstm_12/binconcepts/lstm/raw_full/2021_12_15_3/0/logger/ctLSTM_nlayers3_ncells[4, 8, 4]_drop00_optimadam_lossauc_bs16_ep200long short term memory/f8_model_checkpoint',\n",
       " '../experiments/incremental/second round/jc-lstm-seconds/stateaction_secondslstm_12/binconcepts/lstm/raw_full/2021_12_15_4/0/logger/ctLSTM_nlayers3_ncells[4, 8, 4]_drop02_optimadam_lossauc_bs16_ep200long short term memory/f0_model_checkpoint',\n",
       " '../experiments/incremental/second round/jc-lstm-seconds/stateaction_secondslstm_12/binconcepts/lstm/raw_full/2021_12_15_3/0/logger/ctLSTM_nlayers3_ncells[4, 8, 4]_drop00_optimadam_lossauc_bs16_ep200long short term memory/f6_model_checkpoint',\n",
       " '../experiments/incremental/second round/jc-lstm-seconds/stateaction_secondslstm_12/binconcepts/lstm/raw_full/2021_12_15_3/0/logger/ctLSTM_nlayers3_ncells[4, 8, 4]_drop00_optimadam_lossauc_bs16_ep200long short term memory/f7_model_checkpoint',\n",
       " '../experiments/incremental/second round/jc-lstm-seconds/stateaction_secondslstm_12/binconcepts/lstm/raw_full/2021_12_15_3/0/logger/ctLSTM_nlayers3_ncells[4, 8, 4]_drop00_optimadam_lossauc_bs16_ep200long short term memory/f5_model_checkpoint',\n",
       " '../experiments/incremental/second round/jc-lstm-seconds/stateaction_secondslstm_12/binconcepts/lstm/raw_full/2021_12_15_0/0/logger/ctLSTM_nlayers1_ncells[8]_drop00_optimadam_lossauc_bs16_ep200long short term memory/f-1_model_checkpoint',\n",
       " '../experiments/incremental/second round/jc-lstm-seconds/stateaction_secondslstm_12/binconcepts/lstm/raw_full/2021_12_15_2/0/logger/ctLSTM_nlayers2_ncells[8, 16]_drop00_optimadam_lossauc_bs16_ep200long short term memory/f7_model_checkpoint',\n",
       " '../experiments/incremental/second round/jc-lstm-seconds/stateaction_secondslstm_12/binconcepts/lstm/raw_full/2021_12_15_0/0/logger/ctLSTM_nlayers1_ncells[8]_drop00_optimadam_lossauc_bs16_ep200long short term memory/f8_model_checkpoint',\n",
       " '../experiments/incremental/second round/jc-lstm-seconds/stateaction_secondslstm_12/binconcepts/lstm/raw_full/2021_12_15_0/0/logger/ctLSTM_nlayers1_ncells[8]_drop00_optimadam_lossauc_bs16_ep200long short term memory/f5_model_checkpoint',\n",
       " '../experiments/incremental/second round/jc-lstm-seconds/stateaction_secondslstm_12/binconcepts/lstm/raw_full/2021_12_15_4/0/logger/ctLSTM_nlayers3_ncells[4, 8, 4]_drop02_optimadam_lossauc_bs16_ep200long short term memory/f8_model_checkpoint',\n",
       " '../experiments/incremental/second round/jc-lstm-seconds/stateaction_secondslstm_12/binconcepts/lstm/raw_full/2021_12_15_3/0/logger/ctLSTM_nlayers3_ncells[4, 8, 4]_drop00_optimadam_lossauc_bs16_ep200long short term memory/f3_model_checkpoint',\n",
       " '../experiments/incremental/second round/jc-lstm-seconds/stateaction_secondslstm_12/binconcepts/lstm/raw_full/2021_12_15_2/0/logger/ctLSTM_nlayers2_ncells[8, 16]_drop00_optimadam_lossauc_bs16_ep200long short term memory/f6_model_checkpoint',\n",
       " '../experiments/incremental/second round/jc-lstm-seconds/stateaction_secondslstm_12/binconcepts/lstm/raw_full/2021_12_15_3/0/logger/ctLSTM_nlayers3_ncells[4, 8, 4]_drop00_optimadam_lossauc_bs16_ep200long short term memory/f1_model_checkpoint',\n",
       " '../experiments/incremental/second round/jc-lstm-seconds/stateaction_secondslstm_12/binconcepts/lstm/raw_full/2021_12_15_4/0/logger/ctLSTM_nlayers3_ncells[4, 8, 4]_drop02_optimadam_lossauc_bs16_ep200long short term memory/f3_model_checkpoint',\n",
       " '../experiments/incremental/second round/jc-lstm-seconds/stateaction_secondslstm_12/binconcepts/lstm/raw_full/2021_12_15_1/0/logger/ctLSTM_nlayers1_ncells[8]_drop02_optimadam_lossauc_bs16_ep200long short term memory/f-1_model_checkpoint',\n",
       " '../experiments/incremental/second round/jc-lstm-seconds/stateaction_secondslstm_12/binconcepts/lstm/raw_full/2021_12_15_4/0/logger/ctLSTM_nlayers3_ncells[4, 8, 4]_drop02_optimadam_lossauc_bs16_ep200long short term memory/f4_model_checkpoint',\n",
       " '../experiments/incremental/second round/jc-lstm-seconds/stateaction_secondslstm_12/binconcepts/lstm/raw_full/2021_12_15_4/0/logger/ctLSTM_nlayers3_ncells[4, 8, 4]_drop02_optimadam_lossauc_bs16_ep200long short term memory/f-1_model_checkpoint',\n",
       " '../experiments/incremental/second round/jc-lstm-seconds/stateaction_secondslstm_12/binconcepts/lstm/raw_full/2021_12_15_1/0/logger/ctLSTM_nlayers1_ncells[8]_drop02_optimadam_lossauc_bs16_ep200long short term memory/f3_model_checkpoint',\n",
       " '../experiments/incremental/second round/jc-lstm-seconds/stateaction_secondslstm_12/binconcepts/lstm/raw_full/2021_12_15_3/0/logger/ctLSTM_nlayers3_ncells[4, 8, 4]_drop00_optimadam_lossauc_bs16_ep200long short term memory/f-1_model_checkpoint',\n",
       " '../experiments/incremental/second round/jc-lstm-seconds/stateaction_secondslstm_12/binconcepts/lstm/raw_full/2021_12_15_3/0/logger/ctLSTM_nlayers3_ncells[4, 8, 4]_drop00_optimadam_lossauc_bs16_ep200long short term memory/f0_model_checkpoint',\n",
       " '../experiments/incremental/second round/jc-lstm-seconds/stateaction_secondslstm_12/binconcepts/lstm/raw_full/2021_12_15_0/0/logger/ctLSTM_nlayers1_ncells[8]_drop00_optimadam_lossauc_bs16_ep200long short term memory/f0_model_checkpoint',\n",
       " '../experiments/incremental/second round/jc-lstm-seconds/stateaction_secondslstm_12/binconcepts/lstm/raw_full/2021_12_15_4/0/logger/ctLSTM_nlayers3_ncells[4, 8, 4]_drop02_optimadam_lossauc_bs16_ep200long short term memory/f7_model_checkpoint',\n",
       " '../experiments/incremental/second round/jc-lstm-seconds/stateaction_secondslstm_12/binconcepts/lstm/raw_full/2021_12_15_4/0/logger/ctLSTM_nlayers3_ncells[4, 8, 4]_drop02_optimadam_lossauc_bs16_ep200long short term memory/f6_model_checkpoint',\n",
       " '../experiments/incremental/second round/jc-lstm-seconds/stateaction_secondslstm_12/binconcepts/lstm/raw_full/2021_12_15_2/0/logger/ctLSTM_nlayers2_ncells[8, 16]_drop00_optimadam_lossauc_bs16_ep200long short term memory/f3_model_checkpoint',\n",
       " '../experiments/incremental/second round/jc-lstm-seconds/stateaction_secondslstm_12/binconcepts/lstm/raw_full/2021_12_15_3/0/logger/ctLSTM_nlayers3_ncells[4, 8, 4]_drop00_optimadam_lossauc_bs16_ep200long short term memory/f2_model_checkpoint',\n",
       " '../experiments/incremental/second round/jc-lstm-seconds/stateaction_secondslstm_12/binconcepts/lstm/raw_full/2021_12_15_0/0/logger/ctLSTM_nlayers1_ncells[8]_drop00_optimadam_lossauc_bs16_ep200long short term memory/f6_model_checkpoint',\n",
       " '../experiments/incremental/second round/jc-lstm-seconds/stateaction_secondslstm_12/binconcepts/lstm/raw_full/2021_12_15_2/0/logger/ctLSTM_nlayers2_ncells[8, 16]_drop00_optimadam_lossauc_bs16_ep200long short term memory/f2_model_checkpoint',\n",
       " '../experiments/incremental/second round/jc-lstm-seconds/stateaction_secondslstm_12/binconcepts/lstm/raw_full/2021_12_15_0/0/logger/ctLSTM_nlayers1_ncells[8]_drop00_optimadam_lossauc_bs16_ep200long short term memory/f2_model_checkpoint',\n",
       " '../experiments/incremental/second round/jc-lstm-seconds/stateaction_secondslstm_12/binconcepts/lstm/raw_full/2021_12_15_1/0/logger/ctLSTM_nlayers1_ncells[8]_drop02_optimadam_lossauc_bs16_ep200long short term memory/f4_model_checkpoint',\n",
       " '../experiments/incremental/second round/jc-lstm-seconds/stateaction_secondslstm_12/binconcepts/lstm/raw_full/2021_12_15_1/0/logger/ctLSTM_nlayers1_ncells[8]_drop02_optimadam_lossauc_bs16_ep200long short term memory/f5_model_checkpoint',\n",
       " '../experiments/incremental/second round/jc-lstm-seconds/stateaction_secondslstm_12/binconcepts/lstm/raw_full/2021_12_15_1/0/logger/ctLSTM_nlayers1_ncells[8]_drop02_optimadam_lossauc_bs16_ep200long short term memory/f8_model_checkpoint',\n",
       " '../experiments/incremental/second round/jc-lstm-seconds/stateaction_secondslstm_12/binconcepts/lstm/raw_full/2021_12_15_2/0/logger/ctLSTM_nlayers2_ncells[8, 16]_drop00_optimadam_lossauc_bs16_ep200long short term memory/f-1_model_checkpoint',\n",
       " '../experiments/incremental/second round/jc-lstm-seconds/stateaction_secondslstm_12/binconcepts/lstm/raw_full/2021_12_15_1/0/logger/ctLSTM_nlayers1_ncells[8]_drop02_optimadam_lossauc_bs16_ep200long short term memory/f7_model_checkpoint',\n",
       " '../experiments/incremental/second round/jc-lstm-seconds/stateaction_secondslstm_12/binconcepts/lstm/raw_full/2021_12_15_1/0/logger/ctLSTM_nlayers1_ncells[8]_drop02_optimadam_lossauc_bs16_ep200long short term memory/f1_model_checkpoint',\n",
       " '../experiments/incremental/second round/jc-lstm-seconds/stateaction_secondslstm_12/binconcepts/lstm/raw_full/2021_12_15_0/0/logger/ctLSTM_nlayers1_ncells[8]_drop00_optimadam_lossauc_bs16_ep200long short term memory/f4_model_checkpoint',\n",
       " '../experiments/incremental/second round/jc-lstm-seconds/stateaction_secondslstm_12/binconcepts/lstm/raw_full/2021_12_15_1/0/logger/ctLSTM_nlayers1_ncells[8]_drop02_optimadam_lossauc_bs16_ep200long short term memory/f9_model_checkpoint',\n",
       " '../experiments/incremental/second round/jc-lstm-seconds/stateaction_secondslstm_12/binconcepts/lstm/raw_full/2021_12_15_0/0/logger/ctLSTM_nlayers1_ncells[8]_drop00_optimadam_lossauc_bs16_ep200long short term memory/f1_model_checkpoint',\n",
       " '../experiments/incremental/second round/jc-lstm-seconds/stateaction_secondslstm_12/binconcepts/lstm/raw_full/2021_12_15_2/0/logger/ctLSTM_nlayers2_ncells[8, 16]_drop00_optimadam_lossauc_bs16_ep200long short term memory/f0_model_checkpoint',\n",
       " '../experiments/incremental/second round/jc-lstm-seconds/stateaction_secondslstm_12/binconcepts/lstm/raw_full/2021_12_15_4/0/logger/ctLSTM_nlayers3_ncells[4, 8, 4]_drop02_optimadam_lossauc_bs16_ep200long short term memory/f1_model_checkpoint']"
      ]
     },
     "execution_count": 14,
     "metadata": {},
     "output_type": "execute_result"
    }
   ],
   "source": [
    "model_paths"
   ]
  },
  {
   "cell_type": "code",
   "execution_count": null,
   "id": "6e89819e",
   "metadata": {},
   "outputs": [],
   "source": []
  },
  {
   "cell_type": "code",
   "execution_count": null,
   "id": "448a0d5b",
   "metadata": {},
   "outputs": [],
   "source": []
  },
  {
   "cell_type": "code",
   "execution_count": null,
   "id": "6f3da6d6",
   "metadata": {},
   "outputs": [],
   "source": []
  },
  {
   "cell_type": "code",
   "execution_count": null,
   "id": "dcb4090d",
   "metadata": {},
   "outputs": [],
   "source": []
  },
  {
   "cell_type": "code",
   "execution_count": null,
   "id": "902e1c98",
   "metadata": {},
   "outputs": [],
   "source": []
  },
  {
   "cell_type": "code",
   "execution_count": 43,
   "id": "9729f236",
   "metadata": {
    "ExecuteTime": {
     "end_time": "2021-12-19T15:54:31.865447Z",
     "start_time": "2021-12-19T15:54:31.862400Z"
    }
   },
   "outputs": [],
   "source": [
    "experiment_path = '../experiments/incremental/second round/jc-lstm-seconds/'\n",
    "experiment_path += 'stateaction_secondslstm_12/binconcepts/lstm/raw_full/2021_12_15_0/'\n",
    "testmodel_path = experiment_path + '0/logger/ctLSTM_nlayers1_ncells[8]_drop00_optimadam_lossauc_bs16_ep200long short term memory/'\n"
   ]
  },
  {
   "cell_type": "code",
   "execution_count": 44,
   "id": "eda2b1eb",
   "metadata": {
    "ExecuteTime": {
     "end_time": "2021-12-19T15:54:35.707842Z",
     "start_time": "2021-12-19T15:54:35.704356Z"
    }
   },
   "outputs": [],
   "source": [
    "with open(experiment_path + 'config.yaml', 'rb') as fp:\n",
    "    config = pickle.load(fp)\n",
    "    \n",
    "# config['ML']['models']['classifiers']['lstm'] = {\n",
    "#     'batch_size': 16,\n",
    "#     'cell_type': 'LSTM',\n",
    "#     'dropout': 0,\n",
    "#     'early_stopping': False,\n",
    "#     'epochs': 200,\n",
    "#     'loss': 'auc',\n",
    "#     'n_cells': [8],\n",
    "#     'n_layers': 1,\n",
    "#     'optimiser': 'adam',\n",
    "#     'padding_value': -1,\n",
    "#     'shuffle':True,\n",
    "#     'verbose': 1\n",
    "# }"
   ]
  },
  {
   "cell_type": "code",
   "execution_count": 45,
   "id": "cc891e53",
   "metadata": {
    "ExecuteTime": {
     "end_time": "2021-12-19T15:54:41.811164Z",
     "start_time": "2021-12-19T15:54:38.288987Z"
    }
   },
   "outputs": [],
   "source": [
    "pipeline = PipelineMaker(config)\n",
    "sequences, labels, indices, id_dictionary = pipeline.build_data()\n",
    "xval = XValMaker(config)"
   ]
  },
  {
   "cell_type": "code",
   "execution_count": 8,
   "id": "bef17671",
   "metadata": {
    "ExecuteTime": {
     "end_time": "2021-12-19T13:19:27.853963Z",
     "start_time": "2021-12-19T13:19:27.851234Z"
    }
   },
   "outputs": [],
   "source": [
    "model = xval._model(config)\n",
    "model.set_outer_fold(999)"
   ]
  },
  {
   "cell_type": "code",
   "execution_count": 9,
   "id": "d4125242",
   "metadata": {
    "ExecuteTime": {
     "end_time": "2021-12-19T13:19:29.001783Z",
     "start_time": "2021-12-19T13:19:27.857467Z"
    }
   },
   "outputs": [
    {
     "name": "stderr",
     "output_type": "stream",
     "text": [
      "2021-12-19 14:19:27.862091: I tensorflow/core/platform/cpu_feature_guard.cc:151] This TensorFlow binary is optimized with oneAPI Deep Neural Network Library (oneDNN) to use the following CPU instructions in performance-critical operations:  AVX2 FMA\n",
      "To enable them in other operations, rebuild TensorFlow with the appropriate compiler flags.\n"
     ]
    },
    {
     "ename": "FileNotFoundError",
     "evalue": "[Errno 2] No such file or directory: '../experiments/test/stateaction_secondslstm_12/binconcepts/lstm/raw_full/2021_12_15_0/999/logger/ctLSTM_nlayers1_ncells[8]_drop0_optimadam_lossauc_bs16_ep200lstm/architecture.pkl'",
     "output_type": "error",
     "traceback": [
      "\u001b[0;31m---------------------------------------------------------------------------\u001b[0m",
      "\u001b[0;31mFileNotFoundError\u001b[0m                         Traceback (most recent call last)",
      "\u001b[0;32m/var/folders/jy/0pp1md9x1358dt8g8k69srhr0000gp/T/ipykernel_14216/2401355696.py\u001b[0m in \u001b[0;36m<module>\u001b[0;34m\u001b[0m\n\u001b[0;32m----> 1\u001b[0;31m \u001b[0mmodel\u001b[0m\u001b[0;34m.\u001b[0m\u001b[0mload_checkpoints\u001b[0m\u001b[0;34m(\u001b[0m\u001b[0;34m'../experiments/f0_model_checkpoint/'\u001b[0m\u001b[0;34m,\u001b[0m \u001b[0msequences\u001b[0m\u001b[0;34m[\u001b[0m\u001b[0;36m0\u001b[0m\u001b[0;34m:\u001b[0m\u001b[0;36m3\u001b[0m\u001b[0;34m]\u001b[0m\u001b[0;34m)\u001b[0m\u001b[0;34m\u001b[0m\u001b[0;34m\u001b[0m\u001b[0m\n\u001b[0m",
      "\u001b[0;32m~/kDrive/PhD/Projects/Labs/beerslaw-lab/src/ml/models/classifiers/lstm.py\u001b[0m in \u001b[0;36mload_checkpoints\u001b[0;34m(self, checkpoint_path, x)\u001b[0m\n\u001b[1;32m    133\u001b[0m         \"\"\"\n\u001b[1;32m    134\u001b[0m         \u001b[0mx\u001b[0m \u001b[0;34m=\u001b[0m \u001b[0mself\u001b[0m\u001b[0;34m.\u001b[0m\u001b[0m_format_features\u001b[0m\u001b[0;34m(\u001b[0m\u001b[0mx\u001b[0m\u001b[0;34m)\u001b[0m\u001b[0;34m\u001b[0m\u001b[0;34m\u001b[0m\u001b[0m\n\u001b[0;32m--> 135\u001b[0;31m         \u001b[0mself\u001b[0m\u001b[0;34m.\u001b[0m\u001b[0m_init_model\u001b[0m\u001b[0;34m(\u001b[0m\u001b[0mx\u001b[0m\u001b[0;34m)\u001b[0m\u001b[0;34m\u001b[0m\u001b[0;34m\u001b[0m\u001b[0m\n\u001b[0m\u001b[1;32m    136\u001b[0m         \u001b[0mself\u001b[0m\u001b[0;34m.\u001b[0m\u001b[0m_model\u001b[0m\u001b[0;34m.\u001b[0m\u001b[0mload_weights\u001b[0m\u001b[0;34m(\u001b[0m\u001b[0mcheckpoint_path\u001b[0m\u001b[0;34m)\u001b[0m\u001b[0;34m\u001b[0m\u001b[0;34m\u001b[0m\u001b[0m\n\u001b[1;32m    137\u001b[0m \u001b[0;34m\u001b[0m\u001b[0m\n",
      "\u001b[0;32m~/kDrive/PhD/Projects/Labs/beerslaw-lab/src/ml/models/classifiers/lstm.py\u001b[0m in \u001b[0;36m_init_model\u001b[0;34m(self, x)\u001b[0m\n\u001b[1;32m    107\u001b[0m \u001b[0;34m\u001b[0m\u001b[0m\n\u001b[1;32m    108\u001b[0m         \u001b[0;31m# csv loggers\u001b[0m\u001b[0;34m\u001b[0m\u001b[0;34m\u001b[0m\u001b[0;34m\u001b[0m\u001b[0m\n\u001b[0;32m--> 109\u001b[0;31m         \u001b[0mcsv_path\u001b[0m\u001b[0;34m,\u001b[0m \u001b[0mcheckpoint_path\u001b[0m \u001b[0;34m=\u001b[0m \u001b[0mself\u001b[0m\u001b[0;34m.\u001b[0m\u001b[0m_get_csvlogger_path\u001b[0m\u001b[0;34m(\u001b[0m\u001b[0;34m)\u001b[0m\u001b[0;34m\u001b[0m\u001b[0;34m\u001b[0m\u001b[0m\n\u001b[0m\u001b[1;32m    110\u001b[0m         \u001b[0mcsv_logger\u001b[0m \u001b[0;34m=\u001b[0m \u001b[0mCSVLogger\u001b[0m\u001b[0;34m(\u001b[0m\u001b[0mcsv_path\u001b[0m\u001b[0;34m,\u001b[0m \u001b[0mappend\u001b[0m\u001b[0;34m=\u001b[0m\u001b[0;32mTrue\u001b[0m\u001b[0;34m,\u001b[0m \u001b[0mseparator\u001b[0m\u001b[0;34m=\u001b[0m\u001b[0;34m';'\u001b[0m\u001b[0;34m)\u001b[0m\u001b[0;34m\u001b[0m\u001b[0;34m\u001b[0m\u001b[0m\n\u001b[1;32m    111\u001b[0m         \u001b[0mself\u001b[0m\u001b[0;34m.\u001b[0m\u001b[0m_callbacks\u001b[0m\u001b[0;34m.\u001b[0m\u001b[0mappend\u001b[0m\u001b[0;34m(\u001b[0m\u001b[0mcsv_logger\u001b[0m\u001b[0;34m)\u001b[0m\u001b[0;34m\u001b[0m\u001b[0;34m\u001b[0m\u001b[0m\n",
      "\u001b[0;32m~/kDrive/PhD/Projects/Labs/beerslaw-lab/src/ml/models/classifiers/lstm.py\u001b[0m in \u001b[0;36m_get_csvlogger_path\u001b[0;34m(self)\u001b[0m\n\u001b[1;32m     64\u001b[0m         \u001b[0mcsv_path\u001b[0m \u001b[0;34m+=\u001b[0m \u001b[0;34m'_bs'\u001b[0m \u001b[0;34m+\u001b[0m \u001b[0mstr\u001b[0m\u001b[0;34m(\u001b[0m\u001b[0mself\u001b[0m\u001b[0;34m.\u001b[0m\u001b[0m_model_settings\u001b[0m\u001b[0;34m[\u001b[0m\u001b[0;34m'batch_size'\u001b[0m\u001b[0;34m]\u001b[0m\u001b[0;34m)\u001b[0m \u001b[0;34m+\u001b[0m \u001b[0;34m'_ep'\u001b[0m \u001b[0;34m+\u001b[0m \u001b[0mstr\u001b[0m\u001b[0;34m(\u001b[0m\u001b[0mself\u001b[0m\u001b[0;34m.\u001b[0m\u001b[0m_model_settings\u001b[0m\u001b[0;34m[\u001b[0m\u001b[0;34m'epochs'\u001b[0m\u001b[0;34m]\u001b[0m\u001b[0;34m)\u001b[0m\u001b[0;34m\u001b[0m\u001b[0;34m\u001b[0m\u001b[0m\n\u001b[1;32m     65\u001b[0m         \u001b[0mcsv_path\u001b[0m \u001b[0;34m+=\u001b[0m \u001b[0mself\u001b[0m\u001b[0;34m.\u001b[0m\u001b[0m_notation\u001b[0m\u001b[0;34m\u001b[0m\u001b[0;34m\u001b[0m\u001b[0m\n\u001b[0;32m---> 66\u001b[0;31m         \u001b[0;32mwith\u001b[0m \u001b[0mopen\u001b[0m\u001b[0;34m(\u001b[0m\u001b[0mcsv_path\u001b[0m \u001b[0;34m+\u001b[0m \u001b[0;34m'/architecture.pkl'\u001b[0m\u001b[0;34m,\u001b[0m \u001b[0;34m'wb'\u001b[0m\u001b[0;34m)\u001b[0m \u001b[0;32mas\u001b[0m \u001b[0mfp\u001b[0m\u001b[0;34m:\u001b[0m\u001b[0;34m\u001b[0m\u001b[0;34m\u001b[0m\u001b[0m\n\u001b[0m\u001b[1;32m     67\u001b[0m             \u001b[0mpickle\u001b[0m\u001b[0;34m.\u001b[0m\u001b[0mdump\u001b[0m\u001b[0;34m(\u001b[0m\u001b[0mself\u001b[0m\u001b[0;34m.\u001b[0m\u001b[0m_model_settings\u001b[0m\u001b[0;34m,\u001b[0m \u001b[0mfp\u001b[0m\u001b[0;34m)\u001b[0m\u001b[0;34m\u001b[0m\u001b[0;34m\u001b[0m\u001b[0m\n\u001b[1;32m     68\u001b[0m \u001b[0;34m\u001b[0m\u001b[0m\n",
      "\u001b[0;31mFileNotFoundError\u001b[0m: [Errno 2] No such file or directory: '../experiments/test/stateaction_secondslstm_12/binconcepts/lstm/raw_full/2021_12_15_0/999/logger/ctLSTM_nlayers1_ncells[8]_drop0_optimadam_lossauc_bs16_ep200lstm/architecture.pkl'"
     ]
    }
   ],
   "source": [
    "model.load_checkpoints('../experiments/f0_model_checkpoint/', sequences[0:3])"
   ]
  },
  {
   "cell_type": "code",
   "execution_count": 33,
   "id": "256ba76f",
   "metadata": {
    "ExecuteTime": {
     "end_time": "2021-12-18T21:05:21.229786Z",
     "start_time": "2021-12-18T21:05:20.835423Z"
    }
   },
   "outputs": [
    {
     "data": {
      "text/plain": [
       "array([[0.5295879 , 0.47041202],\n",
       "       [0.5295879 , 0.47041208],\n",
       "       [0.5295879 , 0.47041202],\n",
       "       [0.5295879 , 0.47041208],\n",
       "       [0.5295879 , 0.47041208],\n",
       "       [0.5295879 , 0.47041208],\n",
       "       [0.5295879 , 0.47041208],\n",
       "       [0.5295879 , 0.47041202],\n",
       "       [0.5295879 , 0.47041208],\n",
       "       [0.5295879 , 0.47041202],\n",
       "       [0.5295879 , 0.47041208],\n",
       "       [0.5295879 , 0.47041202],\n",
       "       [0.5295879 , 0.47041208],\n",
       "       [0.5295879 , 0.47041208],\n",
       "       [0.5295879 , 0.47041208],\n",
       "       [0.5295879 , 0.47041208],\n",
       "       [0.5295879 , 0.47041202],\n",
       "       [0.5295879 , 0.47041208],\n",
       "       [0.5295879 , 0.47041208],\n",
       "       [0.5295879 , 0.47041208],\n",
       "       [0.5295879 , 0.47041202],\n",
       "       [0.5295879 , 0.47041208],\n",
       "       [0.5295879 , 0.47041202],\n",
       "       [0.5295879 , 0.47041202],\n",
       "       [0.5295879 , 0.47041208],\n",
       "       [0.5295879 , 0.47041208],\n",
       "       [0.5295879 , 0.47041208],\n",
       "       [0.5295879 , 0.47041202],\n",
       "       [0.5295879 , 0.47041208],\n",
       "       [0.5295879 , 0.47041208],\n",
       "       [0.5295879 , 0.47041208],\n",
       "       [0.5295879 , 0.47041214],\n",
       "       [0.5295879 , 0.47041202],\n",
       "       [0.5295879 , 0.47041208],\n",
       "       [0.5295879 , 0.47041202],\n",
       "       [0.5295879 , 0.47041208],\n",
       "       [0.5295879 , 0.47041208],\n",
       "       [0.5295879 , 0.47041208],\n",
       "       [0.5295879 , 0.47041202],\n",
       "       [0.5295879 , 0.47041202],\n",
       "       [0.5295879 , 0.47041202],\n",
       "       [0.5295879 , 0.47041208],\n",
       "       [0.5295879 , 0.47041208],\n",
       "       [0.5295879 , 0.47041208],\n",
       "       [0.5295879 , 0.47041208],\n",
       "       [0.5295879 , 0.47041208],\n",
       "       [0.5295879 , 0.47041202],\n",
       "       [0.5295879 , 0.47041202],\n",
       "       [0.5295879 , 0.47041208],\n",
       "       [0.5295879 , 0.47041208],\n",
       "       [0.5295879 , 0.47041208],\n",
       "       [0.5295879 , 0.47041208],\n",
       "       [0.5295879 , 0.47041202],\n",
       "       [0.5295879 , 0.47041202],\n",
       "       [0.5295879 , 0.47041208],\n",
       "       [0.5295879 , 0.47041208],\n",
       "       [0.5295879 , 0.47041208],\n",
       "       [0.5295879 , 0.47041202],\n",
       "       [0.5295879 , 0.47041208],\n",
       "       [0.5295879 , 0.47041202],\n",
       "       [0.5295879 , 0.47041202],\n",
       "       [0.5295879 , 0.47041202],\n",
       "       [0.5295879 , 0.47041208],\n",
       "       [0.5295879 , 0.47041214],\n",
       "       [0.5295879 , 0.47041208],\n",
       "       [0.5295879 , 0.47041208],\n",
       "       [0.5295879 , 0.47041202],\n",
       "       [0.5295879 , 0.47041208],\n",
       "       [0.5295879 , 0.47041208],\n",
       "       [0.5295879 , 0.47041202],\n",
       "       [0.5295879 , 0.47041208],\n",
       "       [0.5295879 , 0.47041208],\n",
       "       [0.5295879 , 0.47041208],\n",
       "       [0.5295879 , 0.47041208],\n",
       "       [0.5295879 , 0.47041208],\n",
       "       [0.5295879 , 0.47041208],\n",
       "       [0.5295879 , 0.47041208],\n",
       "       [0.5295879 , 0.47041208],\n",
       "       [0.5295879 , 0.47041208],\n",
       "       [0.5295879 , 0.47041208],\n",
       "       [0.5295879 , 0.47041208],\n",
       "       [0.5295879 , 0.47041202],\n",
       "       [0.5295879 , 0.47041208],\n",
       "       [0.5295879 , 0.47041208],\n",
       "       [0.5295879 , 0.47041202],\n",
       "       [0.5295879 , 0.47041208],\n",
       "       [0.5295879 , 0.47041208],\n",
       "       [0.5295879 , 0.47041208],\n",
       "       [0.5295879 , 0.47041208],\n",
       "       [0.5295879 , 0.47041208],\n",
       "       [0.5295879 , 0.47041202],\n",
       "       [0.5295879 , 0.47041208],\n",
       "       [0.5295879 , 0.47041208],\n",
       "       [0.5295879 , 0.47041208],\n",
       "       [0.5295879 , 0.47041202],\n",
       "       [0.5295879 , 0.47041214],\n",
       "       [0.5295879 , 0.47041202],\n",
       "       [0.5295879 , 0.47041208],\n",
       "       [0.5295879 , 0.47041208],\n",
       "       [0.5295879 , 0.47041202],\n",
       "       [0.5295879 , 0.47041208],\n",
       "       [0.5295879 , 0.47041208],\n",
       "       [0.5295879 , 0.47041208],\n",
       "       [0.5295879 , 0.47041208],\n",
       "       [0.5295879 , 0.47041202],\n",
       "       [0.5295879 , 0.47041202],\n",
       "       [0.5295879 , 0.47041208],\n",
       "       [0.5295879 , 0.47041208],\n",
       "       [0.5295879 , 0.47041202],\n",
       "       [0.5295879 , 0.47041208],\n",
       "       [0.5295879 , 0.47041208],\n",
       "       [0.5295879 , 0.47041208],\n",
       "       [0.5295879 , 0.47041208],\n",
       "       [0.5295879 , 0.47041208],\n",
       "       [0.5295879 , 0.47041202],\n",
       "       [0.5295879 , 0.47041202],\n",
       "       [0.5295879 , 0.47041202],\n",
       "       [0.5295879 , 0.47041208],\n",
       "       [0.5295879 , 0.47041202],\n",
       "       [0.5295879 , 0.47041208],\n",
       "       [0.5295879 , 0.47041208],\n",
       "       [0.5295879 , 0.47041208],\n",
       "       [0.5295879 , 0.47041208],\n",
       "       [0.5295879 , 0.47041208],\n",
       "       [0.5295879 , 0.47041208],\n",
       "       [0.5295879 , 0.47041202],\n",
       "       [0.52958786, 0.4704121 ],\n",
       "       [0.5295879 , 0.47041208],\n",
       "       [0.5295879 , 0.47041208],\n",
       "       [0.5295879 , 0.47041208],\n",
       "       [0.5295879 , 0.47041208],\n",
       "       [0.5295879 , 0.47041202],\n",
       "       [0.5295879 , 0.47041202],\n",
       "       [0.5295879 , 0.47041208],\n",
       "       [0.5295879 , 0.47041208],\n",
       "       [0.5295879 , 0.47041202],\n",
       "       [0.5295879 , 0.47041208],\n",
       "       [0.5295879 , 0.47041208],\n",
       "       [0.5295879 , 0.47041208],\n",
       "       [0.5295879 , 0.47041208],\n",
       "       [0.5295879 , 0.47041202],\n",
       "       [0.5295879 , 0.47041208],\n",
       "       [0.5295879 , 0.47041208],\n",
       "       [0.5295879 , 0.47041208],\n",
       "       [0.5295879 , 0.47041202],\n",
       "       [0.5295879 , 0.47041208],\n",
       "       [0.5295879 , 0.47041208],\n",
       "       [0.5295879 , 0.47041208],\n",
       "       [0.5295879 , 0.47041208],\n",
       "       [0.5295879 , 0.47041208],\n",
       "       [0.5295879 , 0.47041202],\n",
       "       [0.5295879 , 0.47041202],\n",
       "       [0.5295879 , 0.47041202],\n",
       "       [0.5295879 , 0.47041208],\n",
       "       [0.5295879 , 0.47041202],\n",
       "       [0.5295879 , 0.47041202],\n",
       "       [0.5295879 , 0.47041208],\n",
       "       [0.5295879 , 0.47041202],\n",
       "       [0.5295879 , 0.47041202],\n",
       "       [0.5295879 , 0.47041214],\n",
       "       [0.5295879 , 0.47041208],\n",
       "       [0.5295879 , 0.47041208],\n",
       "       [0.5295879 , 0.47041208],\n",
       "       [0.5295879 , 0.47041202],\n",
       "       [0.5295879 , 0.47041208],\n",
       "       [0.5295879 , 0.47041208],\n",
       "       [0.5295879 , 0.47041208],\n",
       "       [0.5295879 , 0.47041208],\n",
       "       [0.5295879 , 0.47041202],\n",
       "       [0.5295879 , 0.47041208],\n",
       "       [0.5295879 , 0.47041208],\n",
       "       [0.5295879 , 0.47041208],\n",
       "       [0.5295879 , 0.47041208],\n",
       "       [0.5295879 , 0.47041208],\n",
       "       [0.5295879 , 0.47041208],\n",
       "       [0.5295879 , 0.47041208],\n",
       "       [0.5295879 , 0.47041208],\n",
       "       [0.5295879 , 0.47041202],\n",
       "       [0.5295879 , 0.47041208],\n",
       "       [0.5295879 , 0.47041202],\n",
       "       [0.5295879 , 0.47041208],\n",
       "       [0.5295879 , 0.47041208],\n",
       "       [0.5295879 , 0.47041202],\n",
       "       [0.5295879 , 0.47041202],\n",
       "       [0.5295879 , 0.47041208],\n",
       "       [0.5295879 , 0.47041202],\n",
       "       [0.5295879 , 0.47041202],\n",
       "       [0.5295879 , 0.47041202],\n",
       "       [0.5295879 , 0.47041208],\n",
       "       [0.5295879 , 0.47041208],\n",
       "       [0.5295879 , 0.47041214],\n",
       "       [0.5295879 , 0.47041202],\n",
       "       [0.5295879 , 0.47041202],\n",
       "       [0.5295879 , 0.47041202],\n",
       "       [0.5295879 , 0.47041202],\n",
       "       [0.5295879 , 0.47041202],\n",
       "       [0.5295879 , 0.47041202],\n",
       "       [0.5295879 , 0.47041202],\n",
       "       [0.5295879 , 0.47041202],\n",
       "       [0.5295879 , 0.47041202],\n",
       "       [0.5295879 , 0.47041208],\n",
       "       [0.5295879 , 0.47041208],\n",
       "       [0.5295879 , 0.47041208],\n",
       "       [0.5295879 , 0.47041208],\n",
       "       [0.5295879 , 0.47041208],\n",
       "       [0.5295879 , 0.47041202],\n",
       "       [0.5295879 , 0.47041202],\n",
       "       [0.5295879 , 0.47041208],\n",
       "       [0.5295879 , 0.47041208],\n",
       "       [0.5295879 , 0.47041208],\n",
       "       [0.5295879 , 0.47041208],\n",
       "       [0.5295879 , 0.47041208],\n",
       "       [0.5295879 , 0.47041208],\n",
       "       [0.5295879 , 0.47041208],\n",
       "       [0.5295879 , 0.47041208],\n",
       "       [0.5295879 , 0.47041208],\n",
       "       [0.5295879 , 0.47041208],\n",
       "       [0.5295879 , 0.47041208],\n",
       "       [0.5295879 , 0.47041202],\n",
       "       [0.5295879 , 0.47041208],\n",
       "       [0.5295879 , 0.47041208],\n",
       "       [0.5295879 , 0.47041208],\n",
       "       [0.5295879 , 0.47041214],\n",
       "       [0.5295879 , 0.47041205],\n",
       "       [0.5295879 , 0.47041208],\n",
       "       [0.5295879 , 0.47041208],\n",
       "       [0.5295879 , 0.47041202],\n",
       "       [0.5295879 , 0.47041202],\n",
       "       [0.5295879 , 0.47041208],\n",
       "       [0.5295879 , 0.47041208],\n",
       "       [0.5295879 , 0.47041208],\n",
       "       [0.5295879 , 0.47041208],\n",
       "       [0.5295879 , 0.47041208],\n",
       "       [0.5295879 , 0.47041208],\n",
       "       [0.5295879 , 0.47041202],\n",
       "       [0.5295879 , 0.47041208],\n",
       "       [0.5295879 , 0.47041208],\n",
       "       [0.5295879 , 0.47041208],\n",
       "       [0.5295879 , 0.47041208],\n",
       "       [0.5295879 , 0.47041202],\n",
       "       [0.5295879 , 0.47041208],\n",
       "       [0.5295879 , 0.47041202],\n",
       "       [0.5295879 , 0.47041208],\n",
       "       [0.5295879 , 0.47041208],\n",
       "       [0.5295879 , 0.47041202],\n",
       "       [0.5295879 , 0.47041208],\n",
       "       [0.5295879 , 0.47041202],\n",
       "       [0.5295879 , 0.47041208],\n",
       "       [0.5295879 , 0.47041208],\n",
       "       [0.5295879 , 0.47041208],\n",
       "       [0.5295879 , 0.47041208],\n",
       "       [0.5295879 , 0.47041208],\n",
       "       [0.5295879 , 0.47041202],\n",
       "       [0.5295879 , 0.47041214]], dtype=float32)"
      ]
     },
     "execution_count": 33,
     "metadata": {},
     "output_type": "execute_result"
    }
   ],
   "source": [
    "model.predict_proba(sequences)"
   ]
  },
  {
   "cell_type": "code",
   "execution_count": 35,
   "id": "bf464094",
   "metadata": {
    "ExecuteTime": {
     "end_time": "2021-12-18T21:05:33.195711Z",
     "start_time": "2021-12-18T21:05:31.866996Z"
    }
   },
   "outputs": [
    {
     "data": {
      "text/plain": [
       "array([[0.57698226, 0.42301777],\n",
       "       [0.57698226, 0.42301777],\n",
       "       [0.57698226, 0.42301777],\n",
       "       [0.57698226, 0.42301777],\n",
       "       [0.57698226, 0.42301777],\n",
       "       [0.57698226, 0.42301777],\n",
       "       [0.57698226, 0.42301777],\n",
       "       [0.57698226, 0.42301777],\n",
       "       [0.57698226, 0.42301777],\n",
       "       [0.57698226, 0.42301777],\n",
       "       [0.57698226, 0.42301777],\n",
       "       [0.57698226, 0.42301777],\n",
       "       [0.57698226, 0.42301777],\n",
       "       [0.5769822 , 0.42301777],\n",
       "       [0.57698226, 0.42301777],\n",
       "       [0.57698226, 0.42301777],\n",
       "       [0.57698226, 0.42301777],\n",
       "       [0.57698226, 0.42301777],\n",
       "       [0.57698226, 0.42301777],\n",
       "       [0.57698226, 0.42301777],\n",
       "       [0.57698226, 0.42301777],\n",
       "       [0.57698226, 0.42301777],\n",
       "       [0.57698226, 0.42301777],\n",
       "       [0.57698226, 0.42301777],\n",
       "       [0.57698226, 0.42301777],\n",
       "       [0.57698226, 0.42301777],\n",
       "       [0.57698226, 0.42301777],\n",
       "       [0.57698226, 0.42301777],\n",
       "       [0.57698226, 0.42301777],\n",
       "       [0.5769822 , 0.42301777],\n",
       "       [0.5769822 , 0.42301777],\n",
       "       [0.5769822 , 0.42301777],\n",
       "       [0.57698226, 0.42301777],\n",
       "       [0.57698226, 0.42301777],\n",
       "       [0.57698226, 0.42301777],\n",
       "       [0.57698226, 0.42301777],\n",
       "       [0.57698226, 0.42301777],\n",
       "       [0.57698226, 0.42301777],\n",
       "       [0.57698226, 0.42301777],\n",
       "       [0.57698226, 0.42301777],\n",
       "       [0.57698226, 0.42301777],\n",
       "       [0.57698226, 0.42301777],\n",
       "       [0.57698226, 0.42301777],\n",
       "       [0.57698226, 0.42301777],\n",
       "       [0.57698226, 0.42301777],\n",
       "       [0.57698226, 0.42301777],\n",
       "       [0.57698226, 0.42301777],\n",
       "       [0.57698226, 0.42301777],\n",
       "       [0.5769822 , 0.42301777],\n",
       "       [0.57698226, 0.42301777],\n",
       "       [0.57698226, 0.42301777],\n",
       "       [0.57698226, 0.42301777],\n",
       "       [0.57698226, 0.42301777],\n",
       "       [0.57698226, 0.42301777],\n",
       "       [0.57698226, 0.42301777],\n",
       "       [0.57698226, 0.42301777],\n",
       "       [0.5769822 , 0.42301777],\n",
       "       [0.57698226, 0.42301777],\n",
       "       [0.57698226, 0.42301777],\n",
       "       [0.57698226, 0.42301777],\n",
       "       [0.57698226, 0.42301777],\n",
       "       [0.57698226, 0.42301777],\n",
       "       [0.5769822 , 0.42301777],\n",
       "       [0.5769822 , 0.42301777],\n",
       "       [0.57698226, 0.42301777],\n",
       "       [0.57698226, 0.42301777],\n",
       "       [0.57698226, 0.42301777],\n",
       "       [0.57698226, 0.42301777],\n",
       "       [0.5769822 , 0.42301777],\n",
       "       [0.57698226, 0.42301777],\n",
       "       [0.57698226, 0.42301777],\n",
       "       [0.57698226, 0.42301777],\n",
       "       [0.57698226, 0.42301777],\n",
       "       [0.57698226, 0.42301777],\n",
       "       [0.57698226, 0.42301777],\n",
       "       [0.57698226, 0.42301777],\n",
       "       [0.57698226, 0.42301777],\n",
       "       [0.57698226, 0.42301777],\n",
       "       [0.57698226, 0.42301777],\n",
       "       [0.57698226, 0.42301777],\n",
       "       [0.57698226, 0.42301777],\n",
       "       [0.5769822 , 0.42301777],\n",
       "       [0.57698226, 0.42301777],\n",
       "       [0.57698226, 0.42301777],\n",
       "       [0.57698226, 0.42301777],\n",
       "       [0.57698226, 0.42301777],\n",
       "       [0.57698226, 0.42301777],\n",
       "       [0.57698226, 0.42301777],\n",
       "       [0.57698226, 0.42301777],\n",
       "       [0.57698226, 0.42301777],\n",
       "       [0.57698226, 0.42301777],\n",
       "       [0.57698226, 0.42301777],\n",
       "       [0.57698226, 0.42301777],\n",
       "       [0.57698226, 0.42301777],\n",
       "       [0.5769822 , 0.42301777],\n",
       "       [0.5769822 , 0.42301777],\n",
       "       [0.57698226, 0.42301777],\n",
       "       [0.57698226, 0.42301777],\n",
       "       [0.57698226, 0.42301777],\n",
       "       [0.57698226, 0.42301777],\n",
       "       [0.5769822 , 0.42301777],\n",
       "       [0.5769822 , 0.42301777],\n",
       "       [0.57698226, 0.42301777],\n",
       "       [0.57698226, 0.42301777],\n",
       "       [0.57698226, 0.42301777],\n",
       "       [0.57698226, 0.42301777],\n",
       "       [0.57698226, 0.42301777],\n",
       "       [0.57698226, 0.42301777],\n",
       "       [0.57698226, 0.42301777],\n",
       "       [0.57698226, 0.42301777],\n",
       "       [0.57698226, 0.42301777],\n",
       "       [0.57698226, 0.42301777],\n",
       "       [0.57698226, 0.42301777],\n",
       "       [0.57698226, 0.42301777],\n",
       "       [0.57698226, 0.42301777],\n",
       "       [0.57698226, 0.42301777],\n",
       "       [0.57698226, 0.42301777],\n",
       "       [0.57698226, 0.42301777],\n",
       "       [0.57698226, 0.42301777],\n",
       "       [0.57698226, 0.42301777],\n",
       "       [0.57698226, 0.42301777],\n",
       "       [0.57698226, 0.42301777],\n",
       "       [0.57698226, 0.42301777],\n",
       "       [0.57698226, 0.42301777],\n",
       "       [0.57698226, 0.42301777],\n",
       "       [0.57698226, 0.42301777],\n",
       "       [0.5769822 , 0.42301777],\n",
       "       [0.5769822 , 0.42301777],\n",
       "       [0.57698226, 0.42301777],\n",
       "       [0.57698226, 0.42301777],\n",
       "       [0.57698226, 0.42301777],\n",
       "       [0.57698226, 0.42301777],\n",
       "       [0.57698226, 0.42301777],\n",
       "       [0.57698226, 0.42301777],\n",
       "       [0.57698226, 0.42301777],\n",
       "       [0.57698226, 0.42301777],\n",
       "       [0.57698226, 0.42301777],\n",
       "       [0.57698226, 0.42301777],\n",
       "       [0.57698226, 0.42301777],\n",
       "       [0.57698226, 0.42301777],\n",
       "       [0.57698226, 0.42301777],\n",
       "       [0.57698226, 0.42301777],\n",
       "       [0.57698226, 0.42301777],\n",
       "       [0.57698226, 0.42301777],\n",
       "       [0.57698226, 0.42301777],\n",
       "       [0.57698226, 0.42301777],\n",
       "       [0.57698226, 0.42301777],\n",
       "       [0.57698226, 0.42301777],\n",
       "       [0.57698226, 0.42301777],\n",
       "       [0.57698226, 0.42301777],\n",
       "       [0.57698226, 0.42301777],\n",
       "       [0.57698226, 0.42301777],\n",
       "       [0.57698226, 0.42301777],\n",
       "       [0.57698226, 0.42301777],\n",
       "       [0.57698226, 0.42301777],\n",
       "       [0.57698226, 0.42301777],\n",
       "       [0.57698226, 0.42301777],\n",
       "       [0.57698226, 0.42301777],\n",
       "       [0.5769822 , 0.42301777],\n",
       "       [0.5769822 , 0.42301777],\n",
       "       [0.5769822 , 0.42301777],\n",
       "       [0.57698226, 0.42301777],\n",
       "       [0.57698226, 0.42301777],\n",
       "       [0.57698226, 0.42301777],\n",
       "       [0.57698226, 0.42301777],\n",
       "       [0.57698226, 0.42301777],\n",
       "       [0.57698226, 0.42301777],\n",
       "       [0.57698226, 0.42301777],\n",
       "       [0.57698226, 0.42301777],\n",
       "       [0.57698226, 0.42301777],\n",
       "       [0.5769822 , 0.42301777],\n",
       "       [0.57698226, 0.42301777],\n",
       "       [0.57698226, 0.42301777],\n",
       "       [0.57698226, 0.42301777],\n",
       "       [0.57698226, 0.42301777],\n",
       "       [0.57698226, 0.42301777],\n",
       "       [0.57698226, 0.42301777],\n",
       "       [0.57698226, 0.42301777],\n",
       "       [0.57698226, 0.42301777],\n",
       "       [0.57698226, 0.42301777],\n",
       "       [0.57698226, 0.42301777],\n",
       "       [0.57698226, 0.42301777],\n",
       "       [0.57698226, 0.42301777],\n",
       "       [0.57698226, 0.42301777],\n",
       "       [0.57698226, 0.42301777],\n",
       "       [0.57698226, 0.42301777],\n",
       "       [0.57698226, 0.42301777],\n",
       "       [0.57698226, 0.42301777],\n",
       "       [0.57698226, 0.42301777],\n",
       "       [0.57698226, 0.42301777],\n",
       "       [0.5769822 , 0.42301777],\n",
       "       [0.5769822 , 0.42301777],\n",
       "       [0.57698226, 0.42301777],\n",
       "       [0.57698226, 0.42301777],\n",
       "       [0.57698226, 0.42301777],\n",
       "       [0.57698226, 0.42301777],\n",
       "       [0.57698226, 0.42301777],\n",
       "       [0.57698226, 0.42301777],\n",
       "       [0.57698226, 0.42301777],\n",
       "       [0.57698226, 0.42301777],\n",
       "       [0.57698226, 0.42301777],\n",
       "       [0.57698226, 0.42301777],\n",
       "       [0.57698226, 0.42301777],\n",
       "       [0.57698226, 0.42301777],\n",
       "       [0.57698226, 0.42301777],\n",
       "       [0.57698226, 0.42301777],\n",
       "       [0.57698226, 0.42301777],\n",
       "       [0.57698226, 0.42301777],\n",
       "       [0.57698226, 0.42301777],\n",
       "       [0.57698226, 0.42301777],\n",
       "       [0.57698226, 0.42301777],\n",
       "       [0.57698226, 0.42301777],\n",
       "       [0.57698226, 0.42301777],\n",
       "       [0.57698226, 0.42301777],\n",
       "       [0.57698226, 0.42301777],\n",
       "       [0.57698226, 0.42301777],\n",
       "       [0.5769822 , 0.42301777],\n",
       "       [0.57698226, 0.42301777],\n",
       "       [0.57698226, 0.42301777],\n",
       "       [0.57698226, 0.42301777],\n",
       "       [0.57698226, 0.42301777],\n",
       "       [0.57698226, 0.42301777],\n",
       "       [0.5769822 , 0.42301777],\n",
       "       [0.5769822 , 0.42301777],\n",
       "       [0.5769822 , 0.42301777],\n",
       "       [0.5769822 , 0.42301777],\n",
       "       [0.57698226, 0.42301777],\n",
       "       [0.5769822 , 0.42301777],\n",
       "       [0.57698226, 0.42301777],\n",
       "       [0.57698226, 0.42301777],\n",
       "       [0.57698226, 0.42301777],\n",
       "       [0.57698226, 0.42301777],\n",
       "       [0.57698226, 0.42301777],\n",
       "       [0.57698226, 0.42301777],\n",
       "       [0.57698226, 0.42301777],\n",
       "       [0.57698226, 0.42301777],\n",
       "       [0.57698226, 0.42301777],\n",
       "       [0.57698226, 0.42301777],\n",
       "       [0.57698226, 0.42301777],\n",
       "       [0.57698226, 0.42301777],\n",
       "       [0.57698226, 0.42301777],\n",
       "       [0.57698226, 0.42301777],\n",
       "       [0.57698226, 0.42301777],\n",
       "       [0.57698226, 0.42301777],\n",
       "       [0.57698226, 0.42301777],\n",
       "       [0.57698226, 0.42301777],\n",
       "       [0.57698226, 0.42301777],\n",
       "       [0.57698226, 0.42301777],\n",
       "       [0.57698226, 0.42301777],\n",
       "       [0.57698226, 0.42301777],\n",
       "       [0.57698226, 0.42301777],\n",
       "       [0.57698226, 0.42301777],\n",
       "       [0.5769822 , 0.42301777],\n",
       "       [0.5769822 , 0.42301777]], dtype=float32)"
      ]
     },
     "execution_count": 35,
     "metadata": {},
     "output_type": "execute_result"
    }
   ],
   "source": [
    "model.predict_proba(sequences)"
   ]
  },
  {
   "cell_type": "code",
   "execution_count": 29,
   "id": "a57c5cf8",
   "metadata": {
    "ExecuteTime": {
     "end_time": "2021-12-18T21:02:58.741462Z",
     "start_time": "2021-12-18T21:02:58.728099Z"
    }
   },
   "outputs": [
    {
     "data": {
      "text/plain": [
       "[array([[ 0.07558886,  0.2528084 , -0.2026753 ,  0.15895815,  0.18576771,\n",
       "          0.3014355 ,  0.28194922,  0.0040801 , -0.29909477,  0.21913308,\n",
       "          0.15139304, -0.18654794, -0.2932513 ,  0.11737345, -0.03273493,\n",
       "          0.08068277, -0.2524048 ,  0.08159634, -0.07243326,  0.10176223,\n",
       "         -0.24247749, -0.08446857,  0.19621328,  0.17949213,  0.02927623,\n",
       "         -0.11128253, -0.18403362,  0.00185441,  0.05982669,  0.3043407 ,\n",
       "         -0.0840489 , -0.08288833],\n",
       "        [-0.20038597,  0.15902922, -0.07700898,  0.29000753, -0.09955967,\n",
       "          0.14044702, -0.04358853, -0.155161  ,  0.17427966, -0.32645744,\n",
       "         -0.12025296, -0.13913465, -0.14602098,  0.34984007,  0.3500919 ,\n",
       "          0.0778252 , -0.18331407, -0.30908152, -0.26640382, -0.18160596,\n",
       "          0.1375029 , -0.24642885,  0.25700694, -0.25023398, -0.22432347,\n",
       "          0.28490588,  0.10186192, -0.00262375, -0.0429279 , -0.06084965,\n",
       "         -0.17898881,  0.08793799],\n",
       "        [-0.18390831,  0.26135617, -0.09147292, -0.20455809, -0.26110092,\n",
       "          0.3126206 , -0.05137058, -0.15120755, -0.07294846, -0.23878887,\n",
       "          0.12561354,  0.05439047, -0.17880294,  0.09954973,  0.02767212,\n",
       "          0.14966358, -0.22063437, -0.2417046 ,  0.16032216,  0.01852361,\n",
       "         -0.07513229, -0.20164715, -0.3040065 ,  0.26139465, -0.3488318 ,\n",
       "         -0.2846319 , -0.07970489,  0.18638894, -0.07154018, -0.1688178 ,\n",
       "         -0.09480789,  0.06386109],\n",
       "        [ 0.30763823,  0.23693427, -0.2694665 ,  0.22910239,  0.31191716,\n",
       "          0.22754444, -0.24336194, -0.2235518 ,  0.18707195, -0.19068694,\n",
       "          0.25932595,  0.23679915,  0.288635  , -0.03965972,  0.00202806,\n",
       "          0.2320836 , -0.2776231 ,  0.08142517, -0.31935376,  0.01015819,\n",
       "         -0.305215  , -0.2563056 ,  0.17461613, -0.17198935,  0.10351599,\n",
       "         -0.14492537,  0.1468894 , -0.28172892, -0.27712876, -0.16327837,\n",
       "          0.34734553,  0.03448113],\n",
       "        [ 0.19071396,  0.23747115, -0.08250283, -0.16520093,  0.28175458,\n",
       "         -0.02282144, -0.25203085, -0.08936267, -0.13031854,  0.22164911,\n",
       "         -0.26995894, -0.00162226, -0.0382095 , -0.25082746,  0.19482467,\n",
       "          0.22628812, -0.04193781, -0.07638595,  0.23403454, -0.15452608,\n",
       "         -0.12192149,  0.20987655, -0.32106915, -0.3042503 , -0.06560033,\n",
       "          0.2092682 , -0.21568589, -0.25036836, -0.21017568,  0.2918159 ,\n",
       "          0.34341782,  0.06443559],\n",
       "        [ 0.01341437,  0.21083704, -0.09899899, -0.08708618, -0.02962311,\n",
       "          0.10907033,  0.0017069 , -0.1591218 ,  0.23216222, -0.13860825,\n",
       "         -0.2716645 , -0.03947955,  0.34098604, -0.27252874, -0.16561091,\n",
       "          0.0278071 , -0.24726556,  0.25336   ,  0.03261373, -0.01943471,\n",
       "          0.02057522, -0.2515204 ,  0.14085492,  0.24238081, -0.30209416,\n",
       "          0.22831213, -0.10115392,  0.17225382, -0.26438338, -0.1142116 ,\n",
       "          0.07409777, -0.24984811],\n",
       "        [-0.31969568,  0.09798191, -0.13154571,  0.10821462,  0.05789272,\n",
       "         -0.27201828, -0.32054958,  0.07831322,  0.29818374,  0.13863605,\n",
       "         -0.18916798,  0.20932403,  0.13401115, -0.12270038, -0.30836838,\n",
       "         -0.23413827,  0.20586236,  0.0528834 ,  0.10831118,  0.12285026,\n",
       "         -0.01422798, -0.12768759,  0.11468938,  0.2251165 ,  0.15758213,\n",
       "          0.19195096, -0.25640887, -0.04836334, -0.08107816, -0.26674914,\n",
       "         -0.00114161, -0.03448178],\n",
       "        [ 0.00916781,  0.2502327 ,  0.14505996,  0.23250933,  0.15210205,\n",
       "         -0.14915304,  0.23608346,  0.24692897, -0.34304404,  0.04895892,\n",
       "          0.3291368 ,  0.05024622,  0.31525323,  0.0987585 , -0.05338094,\n",
       "          0.11960549,  0.14550145, -0.16741411,  0.31770933, -0.24213031,\n",
       "          0.1438985 ,  0.24373801, -0.11195081, -0.12440518,  0.26264256,\n",
       "          0.19842587,  0.3074161 , -0.30302665, -0.18160874,  0.22700195,\n",
       "         -0.28634757,  0.0774793 ],\n",
       "        [-0.36349034,  0.13559571,  0.18846802,  0.15454824, -0.0433812 ,\n",
       "          0.08155882, -0.10852395, -0.06418096,  0.00872598,  0.02057021,\n",
       "         -0.31437096,  0.11422899, -0.03826424,  0.24571218, -0.27658588,\n",
       "          0.3606821 , -0.01307116,  0.28584135, -0.12809113, -0.25455117,\n",
       "          0.09403228,  0.26916966,  0.05880874, -0.12068933, -0.36795515,\n",
       "         -0.19549313, -0.21471356,  0.01206227, -0.17862044, -0.2271296 ,\n",
       "          0.03353092, -0.13959903],\n",
       "        [ 0.03436803,  0.12507826, -0.05457713,  0.00052478, -0.32299912,\n",
       "          0.20578952,  0.26033825,  0.1815447 , -0.3285162 , -0.03901089,\n",
       "         -0.32067165,  0.36844775,  0.06990221,  0.07355516,  0.27893463,\n",
       "         -0.1019294 , -0.07171482,  0.23531696, -0.15294644,  0.12166416,\n",
       "         -0.0599542 , -0.16224523, -0.06212689, -0.01266662, -0.31485087,\n",
       "          0.02534584,  0.2090048 , -0.12755096,  0.22344877,  0.02735366,\n",
       "         -0.31508777,  0.1527227 ],\n",
       "        [-0.06260038, -0.0100764 ,  0.1411464 , -0.30514428,  0.23619086,\n",
       "          0.11312991, -0.16247457,  0.33467978, -0.11291448,  0.12231588,\n",
       "         -0.09166974, -0.08736867, -0.18698263,  0.03827194,  0.01196099,\n",
       "         -0.29829463, -0.26710543,  0.33845782,  0.07480598, -0.3172994 ,\n",
       "         -0.18458694, -0.16979459,  0.20319363,  0.07586632,  0.01403147,\n",
       "         -0.110443  ,  0.14639552,  0.17023355, -0.18762414, -0.08442539,\n",
       "          0.3207965 ,  0.20477371],\n",
       "        [-0.16887279, -0.35165977, -0.3170376 ,  0.07965823, -0.13952245,\n",
       "          0.17088924, -0.19773994, -0.3097488 , -0.001453  , -0.2509644 ,\n",
       "          0.25754952,  0.26001582,  0.3262907 , -0.09022254, -0.04259845,\n",
       "          0.20226751, -0.00111403,  0.22221085, -0.2749507 , -0.18270442,\n",
       "         -0.22553289,  0.19904073, -0.17559242, -0.15665162, -0.16310614,\n",
       "         -0.032005  , -0.00502895, -0.11543831, -0.13147202,  0.1935163 ,\n",
       "          0.16428965,  0.22510467],\n",
       "        [-0.05857853, -0.10708801,  0.2451875 ,  0.19169863, -0.15072629,\n",
       "          0.18430544, -0.22441565, -0.28028867, -0.32842362,  0.29568705,\n",
       "          0.35313004, -0.00096845, -0.20222034, -0.17585017,  0.00766362,\n",
       "         -0.3241388 , -0.34437904, -0.04536995,  0.2020914 , -0.1184139 ,\n",
       "         -0.23600756,  0.11675372, -0.29729155, -0.03594447, -0.22986762,\n",
       "          0.08981606,  0.3232548 , -0.1531993 ,  0.28622723, -0.04315328,\n",
       "         -0.18351123, -0.2842672 ],\n",
       "        [ 0.1389214 ,  0.07956471, -0.17498226, -0.20058374, -0.14252561,\n",
       "         -0.10549001,  0.12523657,  0.3440467 ,  0.29356205, -0.01750008,\n",
       "          0.02428257, -0.00264438,  0.24888654, -0.1584034 , -0.0545457 ,\n",
       "         -0.15419967,  0.05999294,  0.31391042, -0.21664205, -0.27127007,\n",
       "          0.2879185 ,  0.28385618,  0.12510324,  0.00889694, -0.10332262,\n",
       "          0.15108691, -0.22470288, -0.11602305, -0.0215294 ,  0.02386023,\n",
       "         -0.149984  ,  0.22262572],\n",
       "        [-0.17967622,  0.30949563,  0.2666686 , -0.12841912, -0.21794653,\n",
       "         -0.05343018,  0.3132903 ,  0.33382362,  0.17120555,  0.31379518,\n",
       "         -0.03685471, -0.2824487 ,  0.27020672,  0.01124127,  0.11603557,\n",
       "          0.24878024, -0.08816528, -0.25207302,  0.2755587 , -0.2701423 ,\n",
       "          0.3517276 ,  0.15678893,  0.26771855,  0.01943939,  0.04211445,\n",
       "          0.21125732, -0.12894568,  0.20684579, -0.3099256 , -0.29812184,\n",
       "          0.34353662,  0.22714494],\n",
       "        [ 0.23351493,  0.24978602, -0.28267983, -0.31871712, -0.14289884,\n",
       "         -0.07348698,  0.20139267,  0.3630252 ,  0.22079155, -0.10087333,\n",
       "         -0.2005274 , -0.00291654,  0.08861681,  0.15542673,  0.19323125,\n",
       "          0.13316324, -0.18432076,  0.1667045 , -0.10053324, -0.14472216,\n",
       "          0.29847974, -0.28074846, -0.3071157 ,  0.03594454,  0.23797941,\n",
       "          0.05071685,  0.32819858, -0.27087593, -0.16143087, -0.17657883,\n",
       "         -0.03920558, -0.00386692],\n",
       "        [-0.06436683, -0.15434231, -0.05031263,  0.15103729, -0.21625005,\n",
       "          0.05999587, -0.11612886, -0.13057773, -0.33579466,  0.23550956,\n",
       "          0.08075741, -0.18284895, -0.30704817, -0.20319866,  0.13639298,\n",
       "         -0.2896512 ,  0.08155885,  0.06250794, -0.24949573,  0.096031  ,\n",
       "         -0.05707392, -0.0382193 , -0.03807781,  0.11175308,  0.2287477 ,\n",
       "          0.2752839 ,  0.04786689, -0.14211258, -0.02894679, -0.2311178 ,\n",
       "         -0.2042059 ,  0.13232504],\n",
       "        [ 0.24556378, -0.05908914, -0.21974646, -0.01035653, -0.27817675,\n",
       "         -0.03641998, -0.18599209, -0.00980743,  0.15977046, -0.1002265 ,\n",
       "          0.27650136, -0.03649779, -0.26210997, -0.32360584, -0.20289817,\n",
       "          0.27576396, -0.07639084, -0.15601173, -0.19990854,  0.25025815,\n",
       "         -0.07402029,  0.15928425,  0.00485508, -0.28316483,  0.1933501 ,\n",
       "         -0.21377894,  0.08968418,  0.2990923 , -0.03085704,  0.17697607,\n",
       "         -0.13781056, -0.17646219]], dtype=float32),\n",
       " array([[ 0.04855208, -0.27190983, -0.138508  ,  0.30032766,  0.17144886,\n",
       "         -0.37527072,  0.12056018,  0.02464163, -0.07594938, -0.07550263,\n",
       "         -0.05639549,  0.06545936,  0.11101779, -0.15345684, -0.29608464,\n",
       "          0.2408588 ,  0.04754042, -0.21691209,  0.1476115 ,  0.06242064,\n",
       "         -0.12604651,  0.18998735, -0.0373199 ,  0.06050244, -0.10410645,\n",
       "         -0.08170459,  0.03456292,  0.28840023,  0.17971879,  0.05269535,\n",
       "          0.05712367,  0.2618438 ],\n",
       "        [ 0.35195446,  0.298216  , -0.07121295, -0.1436514 ,  0.07385017,\n",
       "         -0.01583053,  0.22224672, -0.00935279, -0.15651713, -0.13686523,\n",
       "         -0.17415187, -0.145267  , -0.10846379, -0.06015784,  0.10610566,\n",
       "          0.09705593,  0.18553196,  0.22131953,  0.00913051,  0.27276897,\n",
       "          0.13618696,  0.33352393,  0.18244779,  0.3356776 , -0.03431038,\n",
       "         -0.09791676, -0.02664208,  0.2539267 ,  0.08904075, -0.0208295 ,\n",
       "         -0.19891396, -0.1673278 ],\n",
       "        [ 0.0746501 ,  0.34120536, -0.18649255, -0.02031092,  0.02835319,\n",
       "         -0.04088216,  0.07009725, -0.43756703, -0.11262227, -0.11809945,\n",
       "         -0.04199271, -0.19406994,  0.31820473, -0.1839563 , -0.21026571,\n",
       "         -0.01741859, -0.06156278, -0.07271894,  0.02831502, -0.01178999,\n",
       "         -0.13592486, -0.07522646,  0.00377977, -0.2489081 ,  0.20903683,\n",
       "          0.4295454 , -0.0132763 , -0.09400031, -0.09076197,  0.36516362,\n",
       "         -0.05673131,  0.00749324],\n",
       "        [-0.0120247 , -0.08043095, -0.41681322,  0.09763249,  0.2599965 ,\n",
       "         -0.0550048 , -0.05977636, -0.01257693,  0.10279125, -0.00576034,\n",
       "         -0.0733084 ,  0.16923663, -0.28690135, -0.04119922, -0.00338323,\n",
       "         -0.45694155, -0.15500273,  0.1292628 ,  0.00835037, -0.0413445 ,\n",
       "         -0.21263272,  0.13796136,  0.06387716, -0.08145277,  0.3207362 ,\n",
       "          0.22583024,  0.19686218, -0.04585615,  0.15468247, -0.22714365,\n",
       "         -0.24258716, -0.03625035],\n",
       "        [ 0.1178928 ,  0.06794297,  0.00386317,  0.09952826, -0.4647637 ,\n",
       "         -0.11181875, -0.06482835,  0.00331461,  0.01151252,  0.07957646,\n",
       "          0.08074514, -0.26723796, -0.0909758 , -0.07943622,  0.04794471,\n",
       "         -0.07463732, -0.23811355,  0.4200804 ,  0.23100393, -0.09454431,\n",
       "         -0.11744504, -0.0139167 ,  0.11621332, -0.16389038,  0.13614291,\n",
       "         -0.20059447, -0.04300522,  0.12977791, -0.08059724,  0.02900097,\n",
       "         -0.13420124,  0.42841974],\n",
       "        [-0.16315734,  0.05344398, -0.13092835,  0.23473306, -0.2578102 ,\n",
       "          0.16848856, -0.04195308,  0.07586689,  0.13547531, -0.08184431,\n",
       "         -0.1930201 , -0.01495854,  0.24873652, -0.13644671,  0.28518245,\n",
       "         -0.06896935,  0.34512976, -0.22261459,  0.20537533, -0.33824605,\n",
       "         -0.06270639,  0.27373537,  0.01905161,  0.1776487 ,  0.24041502,\n",
       "          0.08871192, -0.26011962, -0.07294472, -0.06660275, -0.08815096,\n",
       "         -0.06337743,  0.00918809],\n",
       "        [-0.10762239,  0.4034489 ,  0.0246774 , -0.16786219,  0.2496736 ,\n",
       "         -0.01066413,  0.12118799,  0.26615882,  0.05921738, -0.2048876 ,\n",
       "          0.04600826, -0.00614473, -0.01423729, -0.10333934, -0.36861968,\n",
       "         -0.0369394 , -0.04818526, -0.11471227,  0.2112219 , -0.27757436,\n",
       "         -0.03775391, -0.09555428, -0.08137137,  0.13689658, -0.06063353,\n",
       "         -0.34498987,  0.0554757 , -0.2369092 , -0.06277954, -0.09878251,\n",
       "         -0.19765124,  0.18003753],\n",
       "        [-0.01326247, -0.09482085, -0.0818662 , -0.18526348, -0.13587633,\n",
       "         -0.1870154 , -0.19766596, -0.32037002, -0.07201182,  0.04136233,\n",
       "          0.21532173, -0.02659609, -0.11431097, -0.59950143,  0.0458542 ,\n",
       "         -0.19247295,  0.06658335, -0.08882745,  0.0415933 , -0.0151451 ,\n",
       "          0.22016262, -0.01050727, -0.03960398,  0.3079916 , -0.08860085,\n",
       "          0.08204661,  0.21169439, -0.12825993, -0.19174418, -0.16260001,\n",
       "          0.14113954,  0.0801845 ]], dtype=float32),\n",
       " array([ 0.01950029,  0.0253565 , -0.01727341, -0.02489256, -0.01987891,\n",
       "        -0.02060999, -0.01736987, -0.02066661,  1.0201246 ,  1.0255013 ,\n",
       "         0.9826861 ,  0.9757458 ,  0.9802172 ,  0.97965896,  0.98310906,\n",
       "         0.9797209 ,  0.01808639, -0.02294174, -0.01646933, -0.0253456 ,\n",
       "        -0.02350214, -0.02287761,  0.02174387, -0.02256554,  0.02241543,\n",
       "         0.02532871, -0.01608114, -0.02238735, -0.01881734, -0.01988433,\n",
       "        -0.01645943, -0.02066942], dtype=float32)]"
      ]
     },
     "execution_count": 29,
     "metadata": {},
     "output_type": "execute_result"
    }
   ],
   "source": [
    "model._model.layers[1].get_weights()"
   ]
  },
  {
   "cell_type": "code",
   "execution_count": 16,
   "id": "152c1c35",
   "metadata": {
    "ExecuteTime": {
     "end_time": "2021-12-18T20:58:40.550760Z",
     "start_time": "2021-12-18T20:58:40.539092Z"
    }
   },
   "outputs": [
    {
     "data": {
      "text/plain": [
       "[array([[ 0.26288065, -0.01089326, -0.24369171, -0.33102298,  0.10925602,\n",
       "          0.21016234, -0.29925492,  0.01908071, -0.2754092 ,  0.20021708,\n",
       "          0.27250984,  0.22610126, -0.28408012, -0.23760527,  0.2092889 ,\n",
       "         -0.00145261,  0.14693543,  0.06721997,  0.07745478,  0.1160437 ,\n",
       "         -0.2528639 , -0.0231731 ,  0.13529298, -0.06557354, -0.22078581,\n",
       "         -0.06737998, -0.03981006, -0.24139826, -0.22918867, -0.31079596,\n",
       "          0.08217431, -0.32939935],\n",
       "        [ 0.04650226,  0.32110524, -0.3183159 ,  0.08183817, -0.31567678,\n",
       "         -0.26489016, -0.06397111,  0.19915465, -0.20267935,  0.12454434,\n",
       "          0.20385447, -0.06390858,  0.32911095, -0.1817983 , -0.0226201 ,\n",
       "         -0.1334514 , -0.14518106, -0.16329828, -0.01336779, -0.05910258,\n",
       "         -0.08608695,  0.16603963, -0.15636769, -0.18389523, -0.29195988,\n",
       "          0.29430902,  0.07266843, -0.16205238, -0.13274612,  0.03899135,\n",
       "         -0.2751991 , -0.02961578],\n",
       "        [ 0.26420996,  0.09170144,  0.07553919,  0.3079125 ,  0.19173788,\n",
       "          0.10151684,  0.2719099 ,  0.04972325,  0.2610468 , -0.17225331,\n",
       "         -0.15396997,  0.15735485, -0.14663227,  0.16634656,  0.11797654,\n",
       "          0.01970686,  0.02314482, -0.24502392,  0.21538062, -0.16779739,\n",
       "         -0.30585545,  0.3350164 ,  0.07741932,  0.3182945 ,  0.12089083,\n",
       "          0.1640838 ,  0.06051639,  0.24660428, -0.20332038, -0.33829343,\n",
       "         -0.09867496, -0.28161323],\n",
       "        [-0.09527651, -0.3171259 , -0.03446632, -0.2722969 ,  0.18083452,\n",
       "          0.03259198, -0.18267809, -0.20016176, -0.28461018, -0.22184443,\n",
       "         -0.29534313, -0.30717558,  0.10450596,  0.23062946, -0.11473019,\n",
       "         -0.13700585, -0.06061436, -0.18480091, -0.22559133, -0.07440679,\n",
       "          0.28113124, -0.00762401, -0.02353432,  0.23371913, -0.16046096,\n",
       "          0.19167449, -0.29334706,  0.2497163 ,  0.18335132, -0.2943871 ,\n",
       "         -0.01749505, -0.27017212],\n",
       "        [ 0.07031586, -0.06812114, -0.23554677, -0.3202037 , -0.13394906,\n",
       "         -0.2656785 ,  0.05088525,  0.16608301,  0.11404486, -0.23549227,\n",
       "         -0.3189713 , -0.23064984, -0.0850594 , -0.2809758 ,  0.32128966,\n",
       "         -0.02656578, -0.0521163 , -0.22998929,  0.02180044,  0.0778224 ,\n",
       "          0.28059295, -0.27428412,  0.08777494, -0.23447512,  0.09228811,\n",
       "          0.02266881, -0.10636119, -0.05466425, -0.3132222 ,  0.11047088,\n",
       "          0.30597493,  0.19247837],\n",
       "        [-0.26115015,  0.19623464, -0.317554  ,  0.15112975,  0.2593511 ,\n",
       "         -0.25675672,  0.17273344,  0.17255887,  0.32338378, -0.09631878,\n",
       "         -0.05834501,  0.03693522,  0.01730458, -0.10237143,  0.33141524,\n",
       "          0.3278208 ,  0.12052049, -0.18583651, -0.3470984 ,  0.02465214,\n",
       "          0.02617097, -0.27897668, -0.29523328, -0.2878102 , -0.06565762,\n",
       "         -0.06776312, -0.15419997, -0.22692434,  0.3257317 , -0.0599082 ,\n",
       "          0.17580973,  0.20288129],\n",
       "        [-0.2866723 ,  0.0347349 , -0.0864761 , -0.01829286,  0.21314274,\n",
       "          0.32053337,  0.18599208,  0.0316876 , -0.05409057, -0.11176859,\n",
       "         -0.2972342 , -0.17540425, -0.02450948,  0.31394967, -0.3071348 ,\n",
       "          0.2949336 ,  0.07968025, -0.00267375,  0.1281812 , -0.28296387,\n",
       "          0.26493368, -0.17369257, -0.18863782,  0.3519875 , -0.18214446,\n",
       "          0.26251322,  0.27038527,  0.16084944,  0.17370032, -0.11396837,\n",
       "          0.31059858, -0.20683518],\n",
       "        [-0.2499176 ,  0.13828099,  0.3186373 ,  0.14045739,  0.03926946,\n",
       "         -0.13892283, -0.33149675, -0.27714664,  0.07524766,  0.2334403 ,\n",
       "         -0.08619325, -0.04649847, -0.10381978,  0.32531562, -0.285931  ,\n",
       "          0.21580622,  0.27468798,  0.16217336, -0.33110267,  0.24086198,\n",
       "         -0.00321611,  0.01848265, -0.15921426, -0.0871756 , -0.14116292,\n",
       "          0.07995895, -0.15616985, -0.08450467,  0.11775097, -0.29216823,\n",
       "          0.14088775,  0.12155082],\n",
       "        [ 0.20110208,  0.16401803, -0.24897403, -0.184632  ,  0.03674625,\n",
       "         -0.32847056, -0.23944633,  0.23887578, -0.26619068, -0.17867374,\n",
       "         -0.15288308, -0.30116957, -0.13470866, -0.18318854,  0.31302428,\n",
       "          0.31996092,  0.31342617, -0.3504625 ,  0.22045763, -0.3015361 ,\n",
       "          0.3094637 ,  0.01264655,  0.31342137, -0.00975021,  0.32870692,\n",
       "         -0.13478911, -0.01894528,  0.2343361 , -0.31147155,  0.22361764,\n",
       "         -0.21201047,  0.2775972 ],\n",
       "        [-0.08659334, -0.17898269,  0.17773017, -0.2496007 ,  0.07507103,\n",
       "          0.15727133, -0.08855908,  0.15237713,  0.23051248, -0.12070076,\n",
       "         -0.12757954,  0.34973294, -0.04059409, -0.05743381,  0.14320788,\n",
       "          0.17886004,  0.33609465, -0.00050185, -0.1820712 , -0.15919806,\n",
       "         -0.01991576,  0.15434612, -0.04370173, -0.21803315, -0.18048993,\n",
       "         -0.31189853,  0.09057292, -0.08587805, -0.16805963, -0.0292575 ,\n",
       "          0.32193384, -0.0577331 ],\n",
       "        [ 0.00869262, -0.19562188, -0.3212739 , -0.2283445 , -0.13343468,\n",
       "         -0.20261027,  0.3533405 , -0.04182186,  0.16543142,  0.22129084,\n",
       "          0.29814044,  0.14651565, -0.11453278,  0.22158785,  0.22706681,\n",
       "         -0.2025653 ,  0.31279436,  0.19014993,  0.29855037,  0.26402956,\n",
       "          0.17914732,  0.0430521 ,  0.2490131 ,  0.0985219 ,  0.16812871,\n",
       "          0.0351362 ,  0.3242948 , -0.23044129, -0.23744021, -0.27480933,\n",
       "         -0.02864016, -0.2140237 ],\n",
       "        [-0.269359  , -0.34821227, -0.0244845 , -0.11962604,  0.05027987,\n",
       "          0.24013907,  0.31152928,  0.08394913, -0.14383659, -0.05631327,\n",
       "         -0.22184443, -0.06156632,  0.13288973, -0.24502604,  0.2304855 ,\n",
       "          0.06729728,  0.23883969,  0.26128235, -0.01372593,  0.16936436,\n",
       "         -0.17171593,  0.04661831, -0.1773448 , -0.13566346, -0.06343461,\n",
       "         -0.3104047 ,  0.10877391,  0.21474756,  0.09628283,  0.3074856 ,\n",
       "         -0.29032448,  0.05815227],\n",
       "        [ 0.23584157, -0.1366289 ,  0.1991863 , -0.08571937,  0.31834033,\n",
       "         -0.17772819, -0.05520082, -0.19441989, -0.20514691, -0.11330658,\n",
       "         -0.10153311,  0.26341808, -0.22936206,  0.13680096, -0.30271208,\n",
       "         -0.07378945,  0.03081385,  0.28069428, -0.3250786 , -0.10966597,\n",
       "          0.08342022, -0.03218514, -0.16861166,  0.32281086, -0.2294921 ,\n",
       "          0.068427  , -0.11216829, -0.1384678 , -0.04122475,  0.25749967,\n",
       "          0.14999212, -0.27676177],\n",
       "        [-0.03451121,  0.32676113, -0.1498619 , -0.04006459,  0.05844949,\n",
       "          0.08512001,  0.23784716, -0.10961859,  0.19250254, -0.24887857,\n",
       "          0.29330525, -0.09543581, -0.06940179,  0.2510653 ,  0.11132725,\n",
       "         -0.19594243, -0.15595038, -0.11654019,  0.16777392, -0.3029625 ,\n",
       "         -0.33558056, -0.3415062 , -0.04496627, -0.16254514,  0.28412652,\n",
       "          0.1040707 , -0.01681364,  0.08697691,  0.27841222,  0.25576106,\n",
       "          0.03949686,  0.0284331 ],\n",
       "        [ 0.21911788, -0.33363238,  0.1807628 ,  0.34995982,  0.22775571,\n",
       "         -0.21760765,  0.13898619,  0.06026799,  0.22805373,  0.26073655,\n",
       "          0.2350448 ,  0.15525539, -0.24150072,  0.33611247,  0.15174735,\n",
       "          0.11196005, -0.2969867 ,  0.03971961,  0.06980301,  0.30901265,\n",
       "         -0.30637693, -0.14595667, -0.23709217, -0.33188164, -0.10370576,\n",
       "         -0.19005215, -0.08665846,  0.03517476,  0.15021603, -0.14790289,\n",
       "         -0.3282221 , -0.13838589],\n",
       "        [-0.09905461, -0.2635716 ,  0.2891081 ,  0.13884991,  0.04738276,\n",
       "         -0.22660936,  0.02223179, -0.20025599,  0.0678658 ,  0.29371968,\n",
       "         -0.22392125,  0.20192884, -0.09209868, -0.0776585 , -0.28001335,\n",
       "         -0.15083136,  0.02250052, -0.23872441,  0.30111998,  0.24484804,\n",
       "          0.0027889 , -0.30284134, -0.15550552,  0.07466543,  0.10125497,\n",
       "         -0.163501  ,  0.02202678, -0.22802436, -0.20668364,  0.21323207,\n",
       "         -0.15632391, -0.17631951],\n",
       "        [ 0.16211534,  0.14998835, -0.12412667,  0.1327098 , -0.06814117,\n",
       "         -0.02071442, -0.14815745, -0.2958782 , -0.06647395, -0.12225461,\n",
       "         -0.29822528, -0.24231695, -0.23730181, -0.2633355 ,  0.2537739 ,\n",
       "          0.09686953,  0.20047337,  0.00187146,  0.1255369 , -0.29278216,\n",
       "         -0.24899703,  0.19143288,  0.19306043,  0.1833926 ,  0.05791324,\n",
       "          0.13927437, -0.13636239, -0.21393168, -0.33283004,  0.04030214,\n",
       "          0.34586748,  0.08455013],\n",
       "        [-0.02647993,  0.29751283,  0.29111975, -0.31222865, -0.3229561 ,\n",
       "          0.03236509,  0.26897323, -0.15371172, -0.28069705, -0.29182145,\n",
       "         -0.07250102,  0.06998155, -0.33046648,  0.20438536,  0.1774013 ,\n",
       "          0.30852512,  0.09832697, -0.11891565,  0.13368966, -0.2225121 ,\n",
       "          0.00932685, -0.18877494, -0.19613706, -0.33319557, -0.31747815,\n",
       "          0.08002741,  0.04128936,  0.23943539, -0.32025117, -0.07495926,\n",
       "         -0.18541737, -0.10475136]], dtype=float32),\n",
       " array([[ 0.06978825,  0.17776345, -0.03028963,  0.0162576 , -0.13033459,\n",
       "          0.10445332, -0.09032691,  0.14626838, -0.1888411 , -0.0446966 ,\n",
       "         -0.25184768,  0.09598221,  0.20338279,  0.33227104,  0.25956059,\n",
       "          0.04336321, -0.11392953, -0.16104598, -0.17240281, -0.08817367,\n",
       "         -0.15790252, -0.39580372,  0.13163324,  0.23945782, -0.08784299,\n",
       "         -0.09518281, -0.270623  ,  0.02226646,  0.24147789,  0.18622474,\n",
       "         -0.25833026, -0.00336414],\n",
       "        [ 0.24918677,  0.5015846 , -0.3184734 ,  0.12797086,  0.16160281,\n",
       "          0.02965266, -0.00753122,  0.00532635,  0.17372917, -0.0894208 ,\n",
       "         -0.29958495, -0.107431  , -0.00575386,  0.1079789 , -0.15918301,\n",
       "         -0.14827673, -0.17078017, -0.06518655, -0.02862472,  0.23520374,\n",
       "          0.22439158,  0.02150881, -0.16077964, -0.0262612 , -0.18099174,\n",
       "         -0.16910532,  0.10442401, -0.22790176, -0.20080204, -0.16675091,\n",
       "          0.01118858, -0.07956678],\n",
       "        [ 0.01142827, -0.12879825, -0.34373954, -0.02629918, -0.03435993,\n",
       "          0.05509079,  0.11953469, -0.03846746, -0.00421738, -0.07618584,\n",
       "          0.05419191, -0.01094935,  0.16109855, -0.21358499,  0.09715398,\n",
       "         -0.40424156,  0.17749257,  0.19921876, -0.04799541,  0.22738898,\n",
       "         -0.22351412, -0.17064592, -0.18664432,  0.4228293 ,  0.08569585,\n",
       "          0.24424993,  0.09707363, -0.10991293, -0.15376991,  0.21948706,\n",
       "          0.00276188,  0.05688807],\n",
       "        [-0.00905007,  0.15889151, -0.1791846 ,  0.12363823,  0.03767083,\n",
       "          0.00527461, -0.06862319,  0.06786905,  0.05217932, -0.05951463,\n",
       "         -0.02718719,  0.5709683 ,  0.03849771, -0.3750334 ,  0.26676196,\n",
       "         -0.09384092, -0.11042061, -0.21125473, -0.02484635, -0.01380326,\n",
       "          0.2665516 ,  0.0434291 , -0.01949739, -0.03469425,  0.17522655,\n",
       "          0.05556273,  0.12841858,  0.35103595,  0.15963347,  0.01739605,\n",
       "          0.07253196,  0.04357401],\n",
       "        [ 0.41330472, -0.07993083,  0.19512004, -0.09714679,  0.2302894 ,\n",
       "          0.32340297,  0.08797269, -0.20098217,  0.12271561,  0.03382632,\n",
       "         -0.19189212,  0.01049476,  0.21951714,  0.0930696 ,  0.09786243,\n",
       "          0.31575036, -0.17898946, -0.00780877,  0.266976  ,  0.12649535,\n",
       "         -0.17116024,  0.05554496, -0.24186163, -0.00820774,  0.11051606,\n",
       "          0.29961985,  0.15103878,  0.13445637,  0.01866948,  0.03871194,\n",
       "         -0.03138434, -0.00706754],\n",
       "        [-0.09886658,  0.04101621, -0.31694946,  0.02041133,  0.26882654,\n",
       "         -0.16266575,  0.36827615, -0.16638292, -0.2959054 , -0.27564082,\n",
       "          0.2788998 ,  0.09388487, -0.04740383,  0.4131876 ,  0.08293298,\n",
       "          0.13057962,  0.13284828, -0.21252061,  0.02019482, -0.11465591,\n",
       "         -0.04363251, -0.01347225, -0.12707514, -0.15278494,  0.11023398,\n",
       "          0.03838288,  0.11544041, -0.04102377, -0.06434314,  0.06954371,\n",
       "         -0.02892203,  0.01027127],\n",
       "        [-0.2622261 ,  0.2330807 , -0.12708421,  0.20033315,  0.24836737,\n",
       "          0.01255519, -0.0454094 , -0.34156913,  0.12650779,  0.17790204,\n",
       "          0.07277954, -0.251681  ,  0.08654175, -0.2774835 ,  0.00666215,\n",
       "          0.00788313, -0.3168859 , -0.02412452,  0.08866963, -0.4832843 ,\n",
       "         -0.1363325 , -0.03852608,  0.0507362 ,  0.02761364, -0.1267683 ,\n",
       "          0.12239227, -0.00739217, -0.00769568, -0.04621987,  0.18734562,\n",
       "         -0.12676285, -0.11979755],\n",
       "        [ 0.13368466,  0.08061998, -0.20911352, -0.07828651, -0.32509267,\n",
       "         -0.04399379, -0.18667707, -0.06951484,  0.23473641, -0.02117574,\n",
       "          0.14594951, -0.38835436,  0.018359  ,  0.16394533,  0.26257616,\n",
       "          0.09181   ,  0.25000408, -0.1264774 ,  0.11652729, -0.13442266,\n",
       "          0.36781016,  0.01327342,  0.09046093,  0.15229231,  0.04964837,\n",
       "          0.3234176 ,  0.10170358,  0.10208519,  0.08808422, -0.12815009,\n",
       "          0.00880938, -0.16572997]], dtype=float32),\n",
       " array([ 0.00840777,  0.00817687, -0.00841309, -0.00870509, -0.00830089,\n",
       "        -0.00462563, -0.00823861, -0.00814737,  1.0085032 ,  1.0082382 ,\n",
       "         0.9917045 ,  0.9913601 ,  0.9916223 ,  0.9952592 ,  0.991858  ,\n",
       "         0.99199575, -0.00835258,  0.00771961,  0.0089051 , -0.00861494,\n",
       "        -0.00819519, -0.00443175, -0.00857253, -0.00805551,  0.00879232,\n",
       "         0.00869935, -0.0078913 , -0.00856498, -0.00834003, -0.00494311,\n",
       "        -0.00816973, -0.00815745], dtype=float32)]"
      ]
     },
     "execution_count": 16,
     "metadata": {},
     "output_type": "execute_result"
    }
   ],
   "source": [
    "model._model.layers[1].get_weights()"
   ]
  },
  {
   "cell_type": "code",
   "execution_count": 49,
   "id": "922823aa",
   "metadata": {
    "ExecuteTime": {
     "end_time": "2021-12-18T20:53:33.301436Z",
     "start_time": "2021-12-18T20:53:32.743264Z"
    }
   },
   "outputs": [],
   "source": [
    "test_model = model.load_model_architecture(sequences[0:3])"
   ]
  },
  {
   "cell_type": "code",
   "execution_count": null,
   "id": "b916594f",
   "metadata": {},
   "outputs": [],
   "source": []
  },
  {
   "cell_type": "code",
   "execution_count": 39,
   "id": "ead6cd94",
   "metadata": {
    "ExecuteTime": {
     "end_time": "2021-12-18T20:44:47.321768Z",
     "start_time": "2021-12-18T20:44:47.232535Z"
    }
   },
   "outputs": [],
   "source": [
    "%autoreload"
   ]
  },
  {
   "cell_type": "code",
   "execution_count": 50,
   "id": "8dfc2327",
   "metadata": {
    "ExecuteTime": {
     "end_time": "2021-12-18T20:53:37.757433Z",
     "start_time": "2021-12-18T20:53:37.229323Z"
    }
   },
   "outputs": [
    {
     "name": "stderr",
     "output_type": "stream",
     "text": [
      "2021-12-18 21:53:37.746403: W tensorflow/core/util/tensor_slice_reader.cc:96] Could not open ../experiments/f-1_model_checkpoint/: FAILED_PRECONDITION: ../experiments/f-1_model_checkpoint; Is a directory: perhaps your file is in a different file format and you need to use a different restore operator?\n"
     ]
    }
   ],
   "source": [
    "test_model = model.load_checkpoints('../experiments/f-1_model_checkpoint/', sequences[0:3])"
   ]
  },
  {
   "cell_type": "code",
   "execution_count": 51,
   "id": "35ec423b",
   "metadata": {
    "ExecuteTime": {
     "end_time": "2021-12-18T20:53:38.764435Z",
     "start_time": "2021-12-18T20:53:38.753054Z"
    }
   },
   "outputs": [
    {
     "ename": "AttributeError",
     "evalue": "'NoneType' object has no attribute 'predict'",
     "output_type": "error",
     "traceback": [
      "\u001b[0;31m---------------------------------------------------------------------------\u001b[0m",
      "\u001b[0;31mAttributeError\u001b[0m                            Traceback (most recent call last)",
      "\u001b[0;32m/var/folders/jy/0pp1md9x1358dt8g8k69srhr0000gp/T/ipykernel_9520/995464075.py\u001b[0m in \u001b[0;36m<module>\u001b[0;34m\u001b[0m\n\u001b[0;32m----> 1\u001b[0;31m \u001b[0mtest_model\u001b[0m\u001b[0;34m.\u001b[0m\u001b[0mpredict\u001b[0m\u001b[0;34m(\u001b[0m\u001b[0msequences\u001b[0m\u001b[0;34m[\u001b[0m\u001b[0;36m0\u001b[0m\u001b[0;34m:\u001b[0m\u001b[0;36m3\u001b[0m\u001b[0;34m]\u001b[0m\u001b[0;34m)\u001b[0m\u001b[0;34m\u001b[0m\u001b[0;34m\u001b[0m\u001b[0m\n\u001b[0m",
      "\u001b[0;31mAttributeError\u001b[0m: 'NoneType' object has no attribute 'predict'"
     ]
    }
   ],
   "source": [
    "test_model.predict(sequences[0:3])"
   ]
  },
  {
   "cell_type": "code",
   "execution_count": null,
   "id": "70f96c0a",
   "metadata": {},
   "outputs": [],
   "source": []
  },
  {
   "cell_type": "code",
   "execution_count": 46,
   "id": "7a49a642",
   "metadata": {
    "ExecuteTime": {
     "end_time": "2021-12-18T20:46:59.903689Z",
     "start_time": "2021-12-18T20:46:59.885903Z"
    }
   },
   "outputs": [
    {
     "name": "stderr",
     "output_type": "stream",
     "text": [
      "2021-12-18 21:46:59.886827: W tensorflow/core/util/tensor_slice_reader.cc:96] Could not open ../experiments/f-1_model_checkpoint/: FAILED_PRECONDITION: ../experiments/f-1_model_checkpoint; Is a directory: perhaps your file is in a different file format and you need to use a different restore operator?\n"
     ]
    },
    {
     "data": {
      "text/plain": [
       "<tensorflow.python.training.tracking.util.CheckpointLoadStatus at 0x7fe9307e2be0>"
      ]
     },
     "execution_count": 46,
     "metadata": {},
     "output_type": "execute_result"
    }
   ],
   "source": [
    "test_model.load_weights('../experiments/f-1_model_checkpoint/')"
   ]
  },
  {
   "cell_type": "code",
   "execution_count": 34,
   "id": "9106d902",
   "metadata": {
    "ExecuteTime": {
     "end_time": "2021-12-18T20:24:56.326492Z",
     "start_time": "2021-12-18T20:24:56.244525Z"
    }
   },
   "outputs": [],
   "source": [
    "%autoreload"
   ]
  },
  {
   "cell_type": "code",
   "execution_count": 37,
   "id": "f13b6de3",
   "metadata": {
    "ExecuteTime": {
     "end_time": "2021-12-18T20:25:25.379545Z",
     "start_time": "2021-12-18T20:25:25.366648Z"
    }
   },
   "outputs": [
    {
     "ename": "AttributeError",
     "evalue": "'CheckpointLoadStatus' object has no attribute 'predict'",
     "output_type": "error",
     "traceback": [
      "\u001b[0;31m---------------------------------------------------------------------------\u001b[0m",
      "\u001b[0;31mAttributeError\u001b[0m                            Traceback (most recent call last)",
      "\u001b[0;32m/var/folders/jy/0pp1md9x1358dt8g8k69srhr0000gp/T/ipykernel_9520/1224927671.py\u001b[0m in \u001b[0;36m<module>\u001b[0;34m\u001b[0m\n\u001b[0;32m----> 1\u001b[0;31m \u001b[0mtest_model\u001b[0m\u001b[0;34m.\u001b[0m\u001b[0mpredict\u001b[0m\u001b[0;34m(\u001b[0m\u001b[0msequences\u001b[0m\u001b[0;34m)\u001b[0m\u001b[0;34m\u001b[0m\u001b[0;34m\u001b[0m\u001b[0m\n\u001b[0m",
      "\u001b[0;31mAttributeError\u001b[0m: 'CheckpointLoadStatus' object has no attribute 'predict'"
     ]
    }
   ],
   "source": [
    "test_model.predict(sequences)"
   ]
  },
  {
   "cell_type": "code",
   "execution_count": 21,
   "id": "d56927d4",
   "metadata": {
    "ExecuteTime": {
     "end_time": "2021-12-18T20:15:40.134652Z",
     "start_time": "2021-12-18T20:15:40.121813Z"
    }
   },
   "outputs": [
    {
     "ename": "NotFoundError",
     "evalue": "Unsuccessful TensorSliceReader constructor: Failed to find any matching files for ../experiments/f-1_model_checkpoint/variables.index",
     "output_type": "error",
     "traceback": [
      "\u001b[0;31m---------------------------------------------------------------------------\u001b[0m",
      "\u001b[0;31mNotFoundError\u001b[0m                             Traceback (most recent call last)",
      "\u001b[0;32m/var/folders/jy/0pp1md9x1358dt8g8k69srhr0000gp/T/ipykernel_9520/1001803703.py\u001b[0m in \u001b[0;36m<module>\u001b[0;34m\u001b[0m\n\u001b[0;32m----> 1\u001b[0;31m \u001b[0mtest_model\u001b[0m\u001b[0;34m.\u001b[0m\u001b[0mload_weights\u001b[0m\u001b[0;34m(\u001b[0m\u001b[0;34m'../experiments/f-1_model_checkpoint/variables.index'\u001b[0m\u001b[0;34m)\u001b[0m\u001b[0;34m\u001b[0m\u001b[0;34m\u001b[0m\u001b[0m\n\u001b[0m",
      "\u001b[0;32m/opt/anaconda3/envs/PhetGPU/lib/python3.8/site-packages/keras/utils/traceback_utils.py\u001b[0m in \u001b[0;36merror_handler\u001b[0;34m(*args, **kwargs)\u001b[0m\n\u001b[1;32m     65\u001b[0m     \u001b[0;32mexcept\u001b[0m \u001b[0mException\u001b[0m \u001b[0;32mas\u001b[0m \u001b[0me\u001b[0m\u001b[0;34m:\u001b[0m  \u001b[0;31m# pylint: disable=broad-except\u001b[0m\u001b[0;34m\u001b[0m\u001b[0;34m\u001b[0m\u001b[0m\n\u001b[1;32m     66\u001b[0m       \u001b[0mfiltered_tb\u001b[0m \u001b[0;34m=\u001b[0m \u001b[0m_process_traceback_frames\u001b[0m\u001b[0;34m(\u001b[0m\u001b[0me\u001b[0m\u001b[0;34m.\u001b[0m\u001b[0m__traceback__\u001b[0m\u001b[0;34m)\u001b[0m\u001b[0;34m\u001b[0m\u001b[0;34m\u001b[0m\u001b[0m\n\u001b[0;32m---> 67\u001b[0;31m       \u001b[0;32mraise\u001b[0m \u001b[0me\u001b[0m\u001b[0;34m.\u001b[0m\u001b[0mwith_traceback\u001b[0m\u001b[0;34m(\u001b[0m\u001b[0mfiltered_tb\u001b[0m\u001b[0;34m)\u001b[0m \u001b[0;32mfrom\u001b[0m \u001b[0;32mNone\u001b[0m\u001b[0;34m\u001b[0m\u001b[0;34m\u001b[0m\u001b[0m\n\u001b[0m\u001b[1;32m     68\u001b[0m     \u001b[0;32mfinally\u001b[0m\u001b[0;34m:\u001b[0m\u001b[0;34m\u001b[0m\u001b[0;34m\u001b[0m\u001b[0m\n\u001b[1;32m     69\u001b[0m       \u001b[0;32mdel\u001b[0m \u001b[0mfiltered_tb\u001b[0m\u001b[0;34m\u001b[0m\u001b[0;34m\u001b[0m\u001b[0m\n",
      "\u001b[0;32m/opt/anaconda3/envs/PhetGPU/lib/python3.8/site-packages/tensorflow/python/training/py_checkpoint_reader.py\u001b[0m in \u001b[0;36merror_translator\u001b[0;34m(e)\u001b[0m\n\u001b[1;32m     33\u001b[0m       \u001b[0;34m'Failed to find any '\u001b[0m\u001b[0;34m\u001b[0m\u001b[0;34m\u001b[0m\u001b[0m\n\u001b[1;32m     34\u001b[0m       'matching files for') in error_message:\n\u001b[0;32m---> 35\u001b[0;31m     \u001b[0;32mraise\u001b[0m \u001b[0merrors_impl\u001b[0m\u001b[0;34m.\u001b[0m\u001b[0mNotFoundError\u001b[0m\u001b[0;34m(\u001b[0m\u001b[0;32mNone\u001b[0m\u001b[0;34m,\u001b[0m \u001b[0;32mNone\u001b[0m\u001b[0;34m,\u001b[0m \u001b[0merror_message\u001b[0m\u001b[0;34m)\u001b[0m\u001b[0;34m\u001b[0m\u001b[0;34m\u001b[0m\u001b[0m\n\u001b[0m\u001b[1;32m     36\u001b[0m   elif 'Sliced checkpoints are not supported' in error_message or (\n\u001b[1;32m     37\u001b[0m       \u001b[0;34m'Data type '\u001b[0m\u001b[0;34m\u001b[0m\u001b[0;34m\u001b[0m\u001b[0m\n",
      "\u001b[0;31mNotFoundError\u001b[0m: Unsuccessful TensorSliceReader constructor: Failed to find any matching files for ../experiments/f-1_model_checkpoint/variables.index"
     ]
    }
   ],
   "source": [
    "test_model.load_weights('../experiments/f-1_model_checkpoint/variables.index')"
   ]
  },
  {
   "cell_type": "code",
   "execution_count": 23,
   "id": "f7160c97",
   "metadata": {
    "ExecuteTime": {
     "end_time": "2021-12-18T20:19:42.818711Z",
     "start_time": "2021-12-18T20:19:42.815864Z"
    }
   },
   "outputs": [],
   "source": [
    "import tensorflow as tf"
   ]
  },
  {
   "cell_type": "code",
   "execution_count": 29,
   "id": "79851798",
   "metadata": {
    "ExecuteTime": {
     "end_time": "2021-12-18T20:21:59.665681Z",
     "start_time": "2021-12-18T20:21:59.662835Z"
    }
   },
   "outputs": [],
   "source": [
    "tf.train.latest_checkpoint('../experiments/f-1_model_checkpoint')"
   ]
  },
  {
   "cell_type": "code",
   "execution_count": 28,
   "id": "262ef505",
   "metadata": {
    "ExecuteTime": {
     "end_time": "2021-12-18T20:21:53.274325Z",
     "start_time": "2021-12-18T20:21:53.261462Z"
    }
   },
   "outputs": [
    {
     "ename": "AttributeError",
     "evalue": "'NoneType' object has no attribute 'predict'",
     "output_type": "error",
     "traceback": [
      "\u001b[0;31m---------------------------------------------------------------------------\u001b[0m",
      "\u001b[0;31mAttributeError\u001b[0m                            Traceback (most recent call last)",
      "\u001b[0;32m/var/folders/jy/0pp1md9x1358dt8g8k69srhr0000gp/T/ipykernel_9520/2424108063.py\u001b[0m in \u001b[0;36m<module>\u001b[0;34m\u001b[0m\n\u001b[0;32m----> 1\u001b[0;31m \u001b[0mtf_model\u001b[0m\u001b[0;34m.\u001b[0m\u001b[0mpredict\u001b[0m\u001b[0;34m(\u001b[0m\u001b[0msequences\u001b[0m\u001b[0;34m)\u001b[0m\u001b[0;34m\u001b[0m\u001b[0;34m\u001b[0m\u001b[0m\n\u001b[0m",
      "\u001b[0;31mAttributeError\u001b[0m: 'NoneType' object has no attribute 'predict'"
     ]
    }
   ],
   "source": []
  },
  {
   "cell_type": "code",
   "execution_count": 7,
   "id": "db2f391f",
   "metadata": {
    "ExecuteTime": {
     "end_time": "2021-12-14T21:02:36.774396Z",
     "start_time": "2021-12-14T21:02:36.759690Z"
    }
   },
   "outputs": [],
   "source": [
    "with open(experiment_path + 'config.yaml', 'r') as fp:\n",
    "    config = yaml.load(fp, Loader=yaml.FullLoader)"
   ]
  },
  {
   "cell_type": "code",
   "execution_count": 8,
   "id": "019af8bf",
   "metadata": {
    "ExecuteTime": {
     "end_time": "2021-12-14T21:02:38.317262Z",
     "start_time": "2021-12-14T21:02:38.313264Z"
    }
   },
   "outputs": [],
   "source": [
    "with open('../data/experiment_keys/flatstrat_testusernames.pkl', 'rb') as fp:\n",
    "    test_users = pickle.load(fp)"
   ]
  },
  {
   "cell_type": "code",
   "execution_count": 9,
   "id": "fbbba3b9",
   "metadata": {
    "ExecuteTime": {
     "end_time": "2021-12-14T21:02:41.453652Z",
     "start_time": "2021-12-14T21:02:40.011965Z"
    }
   },
   "outputs": [],
   "source": [
    "pipeline = PipelineMaker(config)"
   ]
  },
  {
   "cell_type": "code",
   "execution_count": 10,
   "id": "62cd0d23",
   "metadata": {
    "ExecuteTime": {
     "end_time": "2021-12-14T21:02:42.499541Z",
     "start_time": "2021-12-14T21:02:41.455627Z"
    }
   },
   "outputs": [],
   "source": [
    "sequences, labels, indices, id_dictionary = pipeline.build_data()"
   ]
  },
  {
   "cell_type": "code",
   "execution_count": 11,
   "id": "b385dc70",
   "metadata": {
    "ExecuteTime": {
     "end_time": "2021-12-14T21:02:42.553759Z",
     "start_time": "2021-12-14T21:02:42.501380Z"
    }
   },
   "outputs": [],
   "source": [
    "%autoreload"
   ]
  },
  {
   "cell_type": "code",
   "execution_count": 12,
   "id": "b29e467f",
   "metadata": {
    "ExecuteTime": {
     "end_time": "2021-12-14T21:02:43.784642Z",
     "start_time": "2021-12-14T21:02:42.555082Z"
    }
   },
   "outputs": [],
   "source": [
    "xval = XValMaker(config)"
   ]
  },
  {
   "cell_type": "code",
   "execution_count": 34,
   "id": "49815255",
   "metadata": {
    "ExecuteTime": {
     "end_time": "2021-12-14T21:19:10.082068Z",
     "start_time": "2021-12-14T21:19:10.078783Z"
    }
   },
   "outputs": [],
   "source": [
    "config['ML']['models']['classifiers']['lstm'] = {\n",
    "    'batch_size': 64,\n",
    "    'cell_type': 'BiLSTM',\n",
    "    'dropout': 0.2,\n",
    "    'early_stopping': False,\n",
    "    'epochs': 3,\n",
    "    'loss': 'auc',\n",
    "    'n_cells': [16, 32, 32, 16],\n",
    "    'n_layers': 4,\n",
    "    'optimiser': 'adam',\n",
    "    'padding_value': -1,\n",
    "    'shuffle':True,\n",
    "    'verbose': 1\n",
    "}"
   ]
  },
  {
   "cell_type": "code",
   "execution_count": 35,
   "id": "a3e8311e",
   "metadata": {
    "ExecuteTime": {
     "end_time": "2021-12-14T21:19:10.685786Z",
     "start_time": "2021-12-14T21:19:10.683104Z"
    }
   },
   "outputs": [],
   "source": [
    "model = xval._model(config)\n",
    "model.set_outer_fold(999)"
   ]
  },
  {
   "cell_type": "code",
   "execution_count": 36,
   "id": "b7c035bb",
   "metadata": {
    "ExecuteTime": {
     "end_time": "2021-12-14T21:19:15.979949Z",
     "start_time": "2021-12-14T21:19:11.092137Z"
    }
   },
   "outputs": [],
   "source": [
    "new_model = model.load_model(sequences[0:3])"
   ]
  },
  {
   "cell_type": "code",
   "execution_count": 44,
   "id": "ed5d78db",
   "metadata": {
    "ExecuteTime": {
     "end_time": "2021-12-14T21:20:16.318965Z",
     "start_time": "2021-12-14T21:20:16.293933Z"
    }
   },
   "outputs": [
    {
     "name": "stderr",
     "output_type": "stream",
     "text": [
      "2021-12-14 22:20:16.294838: W tensorflow/core/util/tensor_slice_reader.cc:96] Could not open ../experiments/lstm_f0: FAILED_PRECONDITION: ../experiments/lstm_f0; Is a directory: perhaps your file is in a different file format and you need to use a different restore operator?\n"
     ]
    },
    {
     "data": {
      "text/plain": [
       "<tensorflow.python.training.tracking.util.CheckpointLoadStatus at 0x7f9a62fa47f0>"
      ]
     },
     "execution_count": 44,
     "metadata": {},
     "output_type": "execute_result"
    }
   ],
   "source": [
    "new_model.load_weights('../experiments/lstm_f0')"
   ]
  },
  {
   "cell_type": "code",
   "execution_count": null,
   "id": "ad329f03",
   "metadata": {},
   "outputs": [],
   "source": []
  },
  {
   "cell_type": "code",
   "execution_count": null,
   "id": "61a4ec7f",
   "metadata": {},
   "outputs": [],
   "source": []
  },
  {
   "cell_type": "code",
   "execution_count": null,
   "id": "8aee699a",
   "metadata": {},
   "outputs": [],
   "source": []
  },
  {
   "cell_type": "code",
   "execution_count": 16,
   "id": "f36ceecf",
   "metadata": {
    "ExecuteTime": {
     "end_time": "2021-12-14T21:02:52.578775Z",
     "start_time": "2021-12-14T21:02:52.572301Z"
    }
   },
   "outputs": [
    {
     "data": {
      "text/plain": [
       "{'batch_size': [64],\n",
       " 'cell_type': ['BiLSTM'],\n",
       " 'dropout': [0.2],\n",
       " 'early_stopping': [False],\n",
       " 'epochs': [3],\n",
       " 'loss': ['auc'],\n",
       " 'n_cells': [[16, 32, 32, 16]],\n",
       " 'n_layers': [4],\n",
       " 'optimiser': ['adam'],\n",
       " 'padding_value': [-1],\n",
       " 'shuffle': [True],\n",
       " 'verbose': [1]}"
      ]
     },
     "execution_count": 16,
     "metadata": {},
     "output_type": "execute_result"
    }
   ],
   "source": [
    "config['ML']['xvalidators']['nested_xval']['param_grid']"
   ]
  },
  {
   "cell_type": "code",
   "execution_count": 21,
   "id": "63b582a3",
   "metadata": {
    "ExecuteTime": {
     "end_time": "2021-12-14T21:03:09.090990Z",
     "start_time": "2021-12-14T21:03:09.088049Z"
    }
   },
   "outputs": [],
   "source": [
    "import tensorflow as tf"
   ]
  },
  {
   "cell_type": "code",
   "execution_count": 22,
   "id": "d5e35e5b",
   "metadata": {
    "ExecuteTime": {
     "end_time": "2021-12-14T21:03:09.255287Z",
     "start_time": "2021-12-14T21:03:09.251519Z"
    }
   },
   "outputs": [
    {
     "data": {
      "text/plain": [
       "'2.7.0'"
      ]
     },
     "execution_count": 22,
     "metadata": {},
     "output_type": "execute_result"
    }
   ],
   "source": [
    "tf.__version__"
   ]
  },
  {
   "cell_type": "code",
   "execution_count": 24,
   "id": "c009c3c1",
   "metadata": {
    "ExecuteTime": {
     "end_time": "2021-12-14T21:03:44.158489Z",
     "start_time": "2021-12-14T21:03:44.017832Z"
    }
   },
   "outputs": [
    {
     "ename": "TypeError",
     "evalue": "__init__() got an unexpected keyword argument 'reduction'",
     "output_type": "error",
     "traceback": [
      "\u001b[0;31m---------------------------------------------------------------------------\u001b[0m",
      "\u001b[0;31mTypeError\u001b[0m                                 Traceback (most recent call last)",
      "\u001b[0;32m/var/folders/jy/0pp1md9x1358dt8g8k69srhr0000gp/T/ipykernel_69475/324829721.py\u001b[0m in \u001b[0;36m<module>\u001b[0;34m\u001b[0m\n\u001b[0;32m----> 1\u001b[0;31m \u001b[0mtf\u001b[0m\u001b[0;34m.\u001b[0m\u001b[0mkeras\u001b[0m\u001b[0;34m.\u001b[0m\u001b[0mmodels\u001b[0m\u001b[0;34m.\u001b[0m\u001b[0mload_model\u001b[0m\u001b[0;34m(\u001b[0m\u001b[0;34m'../experiments/lstm_f0'\u001b[0m\u001b[0;34m,\u001b[0m \u001b[0mcompile\u001b[0m\u001b[0;34m=\u001b[0m\u001b[0;32mFalse\u001b[0m\u001b[0;34m)\u001b[0m\u001b[0;34m\u001b[0m\u001b[0;34m\u001b[0m\u001b[0m\n\u001b[0m",
      "\u001b[0;32m/opt/anaconda3/envs/PhetGPU/lib/python3.8/site-packages/keras/utils/traceback_utils.py\u001b[0m in \u001b[0;36merror_handler\u001b[0;34m(*args, **kwargs)\u001b[0m\n\u001b[1;32m     65\u001b[0m     \u001b[0;32mexcept\u001b[0m \u001b[0mException\u001b[0m \u001b[0;32mas\u001b[0m \u001b[0me\u001b[0m\u001b[0;34m:\u001b[0m  \u001b[0;31m# pylint: disable=broad-except\u001b[0m\u001b[0;34m\u001b[0m\u001b[0;34m\u001b[0m\u001b[0m\n\u001b[1;32m     66\u001b[0m       \u001b[0mfiltered_tb\u001b[0m \u001b[0;34m=\u001b[0m \u001b[0m_process_traceback_frames\u001b[0m\u001b[0;34m(\u001b[0m\u001b[0me\u001b[0m\u001b[0;34m.\u001b[0m\u001b[0m__traceback__\u001b[0m\u001b[0;34m)\u001b[0m\u001b[0;34m\u001b[0m\u001b[0;34m\u001b[0m\u001b[0m\n\u001b[0;32m---> 67\u001b[0;31m       \u001b[0;32mraise\u001b[0m \u001b[0me\u001b[0m\u001b[0;34m.\u001b[0m\u001b[0mwith_traceback\u001b[0m\u001b[0;34m(\u001b[0m\u001b[0mfiltered_tb\u001b[0m\u001b[0;34m)\u001b[0m \u001b[0;32mfrom\u001b[0m \u001b[0;32mNone\u001b[0m\u001b[0;34m\u001b[0m\u001b[0;34m\u001b[0m\u001b[0m\n\u001b[0m\u001b[1;32m     68\u001b[0m     \u001b[0;32mfinally\u001b[0m\u001b[0;34m:\u001b[0m\u001b[0;34m\u001b[0m\u001b[0;34m\u001b[0m\u001b[0m\n\u001b[1;32m     69\u001b[0m       \u001b[0;32mdel\u001b[0m \u001b[0mfiltered_tb\u001b[0m\u001b[0;34m\u001b[0m\u001b[0;34m\u001b[0m\u001b[0m\n",
      "\u001b[0;32m/opt/anaconda3/envs/PhetGPU/lib/python3.8/site-packages/keras/engine/base_layer.py\u001b[0m in \u001b[0;36mfrom_config\u001b[0;34m(cls, config)\u001b[0m\n\u001b[1;32m    782\u001b[0m         \u001b[0mA\u001b[0m \u001b[0mlayer\u001b[0m \u001b[0minstance\u001b[0m\u001b[0;34m.\u001b[0m\u001b[0;34m\u001b[0m\u001b[0;34m\u001b[0m\u001b[0m\n\u001b[1;32m    783\u001b[0m     \"\"\"\n\u001b[0;32m--> 784\u001b[0;31m     \u001b[0;32mreturn\u001b[0m \u001b[0mcls\u001b[0m\u001b[0;34m(\u001b[0m\u001b[0;34m**\u001b[0m\u001b[0mconfig\u001b[0m\u001b[0;34m)\u001b[0m\u001b[0;34m\u001b[0m\u001b[0;34m\u001b[0m\u001b[0m\n\u001b[0m\u001b[1;32m    785\u001b[0m \u001b[0;34m\u001b[0m\u001b[0m\n\u001b[1;32m    786\u001b[0m   \u001b[0;32mdef\u001b[0m \u001b[0mcompute_output_shape\u001b[0m\u001b[0;34m(\u001b[0m\u001b[0mself\u001b[0m\u001b[0;34m,\u001b[0m \u001b[0minput_shape\u001b[0m\u001b[0;34m)\u001b[0m\u001b[0;34m:\u001b[0m\u001b[0;34m\u001b[0m\u001b[0;34m\u001b[0m\u001b[0m\n",
      "\u001b[0;31mTypeError\u001b[0m: __init__() got an unexpected keyword argument 'reduction'"
     ]
    }
   ],
   "source": [
    "tf.keras.models.load_model('../experiments/lstm_f0', compile=False)"
   ]
  },
  {
   "cell_type": "code",
   "execution_count": 25,
   "id": "c01dda3a",
   "metadata": {
    "ExecuteTime": {
     "end_time": "2021-12-14T21:10:20.806020Z",
     "start_time": "2021-12-14T21:10:20.790776Z"
    }
   },
   "outputs": [
    {
     "ename": "ValueError",
     "evalue": "Couldn't find 'checkpoint' file or checkpoints in given directory ../experiments/lstm_f0",
     "output_type": "error",
     "traceback": [
      "\u001b[0;31m---------------------------------------------------------------------------\u001b[0m",
      "\u001b[0;31mValueError\u001b[0m                                Traceback (most recent call last)",
      "\u001b[0;32m/var/folders/jy/0pp1md9x1358dt8g8k69srhr0000gp/T/ipykernel_69475/356823042.py\u001b[0m in \u001b[0;36m<module>\u001b[0;34m\u001b[0m\n\u001b[0;32m----> 1\u001b[0;31m \u001b[0mtf\u001b[0m\u001b[0;34m.\u001b[0m\u001b[0mtrain\u001b[0m\u001b[0;34m.\u001b[0m\u001b[0mload_checkpoint\u001b[0m\u001b[0;34m(\u001b[0m\u001b[0;34m'../experiments/lstm_f0'\u001b[0m\u001b[0;34m)\u001b[0m\u001b[0;34m\u001b[0m\u001b[0;34m\u001b[0m\u001b[0m\n\u001b[0m",
      "\u001b[0;32m/opt/anaconda3/envs/PhetGPU/lib/python3.8/site-packages/tensorflow/python/training/checkpoint_utils.py\u001b[0m in \u001b[0;36mload_checkpoint\u001b[0;34m(ckpt_dir_or_file)\u001b[0m\n\u001b[1;32m     64\u001b[0m   \u001b[0mfilename\u001b[0m \u001b[0;34m=\u001b[0m \u001b[0m_get_checkpoint_filename\u001b[0m\u001b[0;34m(\u001b[0m\u001b[0mckpt_dir_or_file\u001b[0m\u001b[0;34m)\u001b[0m\u001b[0;34m\u001b[0m\u001b[0;34m\u001b[0m\u001b[0m\n\u001b[1;32m     65\u001b[0m   \u001b[0;32mif\u001b[0m \u001b[0mfilename\u001b[0m \u001b[0;32mis\u001b[0m \u001b[0;32mNone\u001b[0m\u001b[0;34m:\u001b[0m\u001b[0;34m\u001b[0m\u001b[0;34m\u001b[0m\u001b[0m\n\u001b[0;32m---> 66\u001b[0;31m     raise ValueError(\"Couldn't find 'checkpoint' file or checkpoints in \"\n\u001b[0m\u001b[1;32m     67\u001b[0m                      \"given directory %s\" % ckpt_dir_or_file)\n\u001b[1;32m     68\u001b[0m   \u001b[0;32mreturn\u001b[0m \u001b[0mpy_checkpoint_reader\u001b[0m\u001b[0;34m.\u001b[0m\u001b[0mNewCheckpointReader\u001b[0m\u001b[0;34m(\u001b[0m\u001b[0mfilename\u001b[0m\u001b[0;34m)\u001b[0m\u001b[0;34m\u001b[0m\u001b[0;34m\u001b[0m\u001b[0m\n",
      "\u001b[0;31mValueError\u001b[0m: Couldn't find 'checkpoint' file or checkpoints in given directory ../experiments/lstm_f0"
     ]
    }
   ],
   "source": [
    "tf.train.load_checkpoint('../experiments/lstm_f0')"
   ]
  },
  {
   "cell_type": "code",
   "execution_count": null,
   "id": "3579c939",
   "metadata": {},
   "outputs": [],
   "source": []
  },
  {
   "cell_type": "code",
   "execution_count": null,
   "id": "a2bf76bc",
   "metadata": {},
   "outputs": [],
   "source": []
  },
  {
   "cell_type": "code",
   "execution_count": null,
   "id": "ad6f1d9c",
   "metadata": {},
   "outputs": [],
   "source": []
  },
  {
   "cell_type": "code",
   "execution_count": null,
   "id": "a206a6f7",
   "metadata": {},
   "outputs": [],
   "source": []
  },
  {
   "cell_type": "code",
   "execution_count": 99,
   "id": "74806ac3",
   "metadata": {
    "ExecuteTime": {
     "end_time": "2021-12-14T18:40:36.186262Z",
     "start_time": "2021-12-14T18:40:36.147476Z"
    }
   },
   "outputs": [
    {
     "name": "stderr",
     "output_type": "stream",
     "text": [
      "2021-12-14 19:40:36.149193: W tensorflow/core/util/tensor_slice_reader.cc:95] Could not open ../experiments/lstm_f0/saved_model.pb: Data loss: not an sstable (bad magic number): perhaps your file is in a different file format and you need to use a different restore operator?\n"
     ]
    },
    {
     "ename": "OSError",
     "evalue": "Unable to open file (file signature not found)",
     "output_type": "error",
     "traceback": [
      "\u001b[0;31m---------------------------------------------------------------------------\u001b[0m",
      "\u001b[0;31mOSError\u001b[0m                                   Traceback (most recent call last)",
      "\u001b[0;32m/var/folders/jy/0pp1md9x1358dt8g8k69srhr0000gp/T/ipykernel_67537/3426253940.py\u001b[0m in \u001b[0;36m<module>\u001b[0;34m\u001b[0m\n\u001b[1;32m      1\u001b[0m \u001b[0mmodel_name\u001b[0m \u001b[0;34m=\u001b[0m \u001b[0;34m'/Users/cock/kDrive/PhD/Projects/Labs/beerslaw-lab/experiments/incremental/stateaction_secondslstm_12/binconcepts/lstm/raw_full/2021_12_13_0/0/logger/ctBiLSTM_nlayers1_ncells[16, 16]_drop00_optimadam_lossauc_bs16_ep200long short term memory/checkpoint'\u001b[0m\u001b[0;34m\u001b[0m\u001b[0;34m\u001b[0m\u001b[0m\n\u001b[0;32m----> 2\u001b[0;31m \u001b[0mnew_model\u001b[0m\u001b[0;34m.\u001b[0m\u001b[0mload_weights\u001b[0m\u001b[0;34m(\u001b[0m\u001b[0;34m'../experiments/lstm_f0/saved_model.pb'\u001b[0m\u001b[0;34m)\u001b[0m\u001b[0;34m\u001b[0m\u001b[0;34m\u001b[0m\u001b[0m\n\u001b[0m",
      "\u001b[0;32m/opt/anaconda3/envs/PhetGPU/lib/python3.8/site-packages/tensorflow/python/keras/engine/training.py\u001b[0m in \u001b[0;36mload_weights\u001b[0;34m(self, filepath, by_name, skip_mismatch, options)\u001b[0m\n\u001b[1;32m   2225\u001b[0m           'first, then load the weights.')\n\u001b[1;32m   2226\u001b[0m     \u001b[0mself\u001b[0m\u001b[0;34m.\u001b[0m\u001b[0m_assert_weights_created\u001b[0m\u001b[0;34m(\u001b[0m\u001b[0;34m)\u001b[0m\u001b[0;34m\u001b[0m\u001b[0;34m\u001b[0m\u001b[0m\n\u001b[0;32m-> 2227\u001b[0;31m     \u001b[0;32mwith\u001b[0m \u001b[0mh5py\u001b[0m\u001b[0;34m.\u001b[0m\u001b[0mFile\u001b[0m\u001b[0;34m(\u001b[0m\u001b[0mfilepath\u001b[0m\u001b[0;34m,\u001b[0m \u001b[0;34m'r'\u001b[0m\u001b[0;34m)\u001b[0m \u001b[0;32mas\u001b[0m \u001b[0mf\u001b[0m\u001b[0;34m:\u001b[0m\u001b[0;34m\u001b[0m\u001b[0;34m\u001b[0m\u001b[0m\n\u001b[0m\u001b[1;32m   2228\u001b[0m       \u001b[0;32mif\u001b[0m \u001b[0;34m'layer_names'\u001b[0m \u001b[0;32mnot\u001b[0m \u001b[0;32min\u001b[0m \u001b[0mf\u001b[0m\u001b[0;34m.\u001b[0m\u001b[0mattrs\u001b[0m \u001b[0;32mand\u001b[0m \u001b[0;34m'model_weights'\u001b[0m \u001b[0;32min\u001b[0m \u001b[0mf\u001b[0m\u001b[0;34m:\u001b[0m\u001b[0;34m\u001b[0m\u001b[0;34m\u001b[0m\u001b[0m\n\u001b[1;32m   2229\u001b[0m         \u001b[0mf\u001b[0m \u001b[0;34m=\u001b[0m \u001b[0mf\u001b[0m\u001b[0;34m[\u001b[0m\u001b[0;34m'model_weights'\u001b[0m\u001b[0;34m]\u001b[0m\u001b[0;34m\u001b[0m\u001b[0;34m\u001b[0m\u001b[0m\n",
      "\u001b[0;32m/opt/anaconda3/envs/PhetGPU/lib/python3.8/site-packages/h5py/_hl/files.py\u001b[0m in \u001b[0;36m__init__\u001b[0;34m(self, name, mode, driver, libver, userblock_size, swmr, rdcc_nslots, rdcc_nbytes, rdcc_w0, track_order, **kwds)\u001b[0m\n\u001b[1;32m    404\u001b[0m             \u001b[0;32mwith\u001b[0m \u001b[0mphil\u001b[0m\u001b[0;34m:\u001b[0m\u001b[0;34m\u001b[0m\u001b[0;34m\u001b[0m\u001b[0m\n\u001b[1;32m    405\u001b[0m                 \u001b[0mfapl\u001b[0m \u001b[0;34m=\u001b[0m \u001b[0mmake_fapl\u001b[0m\u001b[0;34m(\u001b[0m\u001b[0mdriver\u001b[0m\u001b[0;34m,\u001b[0m \u001b[0mlibver\u001b[0m\u001b[0;34m,\u001b[0m \u001b[0mrdcc_nslots\u001b[0m\u001b[0;34m,\u001b[0m \u001b[0mrdcc_nbytes\u001b[0m\u001b[0;34m,\u001b[0m \u001b[0mrdcc_w0\u001b[0m\u001b[0;34m,\u001b[0m \u001b[0;34m**\u001b[0m\u001b[0mkwds\u001b[0m\u001b[0;34m)\u001b[0m\u001b[0;34m\u001b[0m\u001b[0;34m\u001b[0m\u001b[0m\n\u001b[0;32m--> 406\u001b[0;31m                 fid = make_fid(name, mode, userblock_size,\n\u001b[0m\u001b[1;32m    407\u001b[0m                                \u001b[0mfapl\u001b[0m\u001b[0;34m,\u001b[0m \u001b[0mfcpl\u001b[0m\u001b[0;34m=\u001b[0m\u001b[0mmake_fcpl\u001b[0m\u001b[0;34m(\u001b[0m\u001b[0mtrack_order\u001b[0m\u001b[0;34m=\u001b[0m\u001b[0mtrack_order\u001b[0m\u001b[0;34m)\u001b[0m\u001b[0;34m,\u001b[0m\u001b[0;34m\u001b[0m\u001b[0;34m\u001b[0m\u001b[0m\n\u001b[1;32m    408\u001b[0m                                swmr=swmr)\n",
      "\u001b[0;32m/opt/anaconda3/envs/PhetGPU/lib/python3.8/site-packages/h5py/_hl/files.py\u001b[0m in \u001b[0;36mmake_fid\u001b[0;34m(name, mode, userblock_size, fapl, fcpl, swmr)\u001b[0m\n\u001b[1;32m    171\u001b[0m         \u001b[0;32mif\u001b[0m \u001b[0mswmr\u001b[0m \u001b[0;32mand\u001b[0m \u001b[0mswmr_support\u001b[0m\u001b[0;34m:\u001b[0m\u001b[0;34m\u001b[0m\u001b[0;34m\u001b[0m\u001b[0m\n\u001b[1;32m    172\u001b[0m             \u001b[0mflags\u001b[0m \u001b[0;34m|=\u001b[0m \u001b[0mh5f\u001b[0m\u001b[0;34m.\u001b[0m\u001b[0mACC_SWMR_READ\u001b[0m\u001b[0;34m\u001b[0m\u001b[0;34m\u001b[0m\u001b[0m\n\u001b[0;32m--> 173\u001b[0;31m         \u001b[0mfid\u001b[0m \u001b[0;34m=\u001b[0m \u001b[0mh5f\u001b[0m\u001b[0;34m.\u001b[0m\u001b[0mopen\u001b[0m\u001b[0;34m(\u001b[0m\u001b[0mname\u001b[0m\u001b[0;34m,\u001b[0m \u001b[0mflags\u001b[0m\u001b[0;34m,\u001b[0m \u001b[0mfapl\u001b[0m\u001b[0;34m=\u001b[0m\u001b[0mfapl\u001b[0m\u001b[0;34m)\u001b[0m\u001b[0;34m\u001b[0m\u001b[0;34m\u001b[0m\u001b[0m\n\u001b[0m\u001b[1;32m    174\u001b[0m     \u001b[0;32melif\u001b[0m \u001b[0mmode\u001b[0m \u001b[0;34m==\u001b[0m \u001b[0;34m'r+'\u001b[0m\u001b[0;34m:\u001b[0m\u001b[0;34m\u001b[0m\u001b[0;34m\u001b[0m\u001b[0m\n\u001b[1;32m    175\u001b[0m         \u001b[0mfid\u001b[0m \u001b[0;34m=\u001b[0m \u001b[0mh5f\u001b[0m\u001b[0;34m.\u001b[0m\u001b[0mopen\u001b[0m\u001b[0;34m(\u001b[0m\u001b[0mname\u001b[0m\u001b[0;34m,\u001b[0m \u001b[0mh5f\u001b[0m\u001b[0;34m.\u001b[0m\u001b[0mACC_RDWR\u001b[0m\u001b[0;34m,\u001b[0m \u001b[0mfapl\u001b[0m\u001b[0;34m=\u001b[0m\u001b[0mfapl\u001b[0m\u001b[0;34m)\u001b[0m\u001b[0;34m\u001b[0m\u001b[0;34m\u001b[0m\u001b[0m\n",
      "\u001b[0;32mh5py/_objects.pyx\u001b[0m in \u001b[0;36mh5py._objects.with_phil.wrapper\u001b[0;34m()\u001b[0m\n",
      "\u001b[0;32mh5py/_objects.pyx\u001b[0m in \u001b[0;36mh5py._objects.with_phil.wrapper\u001b[0;34m()\u001b[0m\n",
      "\u001b[0;32mh5py/h5f.pyx\u001b[0m in \u001b[0;36mh5py.h5f.open\u001b[0;34m()\u001b[0m\n",
      "\u001b[0;31mOSError\u001b[0m: Unable to open file (file signature not found)"
     ]
    }
   ],
   "source": [
    "model_name = '/Users/cock/kDrive/PhD/Projects/Labs/beerslaw-lab/experiments/incremental/stateaction_secondslstm_12/binconcepts/lstm/raw_full/2021_12_13_0/0/logger/ctBiLSTM_nlayers1_ncells[16, 16]_drop00_optimadam_lossauc_bs16_ep200long short term memory/checkpoint'\n",
    "new_model.load_weights('../experiments/lstm_f0/saved_model.pb')"
   ]
  },
  {
   "cell_type": "code",
   "execution_count": 90,
   "id": "245a3e5f",
   "metadata": {
    "ExecuteTime": {
     "end_time": "2021-12-14T18:09:58.656887Z",
     "start_time": "2021-12-14T18:09:58.651974Z"
    }
   },
   "outputs": [
    {
     "data": {
      "text/plain": [
       "['f5_model_checkpoint.data-00000-of-00001',\n",
       " 'f2_model_checkpoint.data-00000-of-00001',\n",
       " 'f5_model_training.csv',\n",
       " 'f8_model_training.csv',\n",
       " 'checkpoint',\n",
       " 'f4_model_checkpoint.data-00000-of-00001',\n",
       " 'f6_model_training.csv',\n",
       " 'f3_model_checkpoint.data-00000-of-00001',\n",
       " 'f-1_model_checkpoint.index',\n",
       " 'f9_model_checkpoint.data-00000-of-00001',\n",
       " 'f0_model_training.csv',\n",
       " 'f3_model_training.csv',\n",
       " 'f8_model_checkpoint.data-00000-of-00001',\n",
       " 'f-1_model_checkpoint.data-00000-of-00001',\n",
       " 'f7_model_checkpoint.index',\n",
       " 'f2_model_training.csv',\n",
       " 'f0_model_checkpoint.index',\n",
       " 'train_validation_epochsplot.svg',\n",
       " 'f9_model_checkpoint.index',\n",
       " 'f3_model_checkpoint.index',\n",
       " 'f-1_model_training.csv',\n",
       " 'f1_model_training.csv',\n",
       " 'f4_model_checkpoint.index',\n",
       " 'f5_model_checkpoint.index',\n",
       " 'f7_model_training.csv',\n",
       " 'f1_model_checkpoint.data-00000-of-00001',\n",
       " 'f6_model_checkpoint.data-00000-of-00001',\n",
       " 'f2_model_checkpoint.index',\n",
       " 'f8_model_checkpoint.index',\n",
       " 'f0_model_checkpoint.data-00000-of-00001',\n",
       " 'f7_model_checkpoint.data-00000-of-00001',\n",
       " 'f1_model_checkpoint.index',\n",
       " 'train_validation_categorical_crossentropyepochsplot.svg',\n",
       " 'f6_model_checkpoint.index',\n",
       " 'train_validation_aucepochsplot.svg',\n",
       " 'f4_model_training.csv',\n",
       " 'f9_model_training.csv']"
      ]
     },
     "execution_count": 90,
     "metadata": {},
     "output_type": "execute_result"
    }
   ],
   "source": [
    "os.listdir('../experiments/incremental/stateaction_secondslstm_12/binconcepts/lstm/raw_full/2021_12_13_0//0/logger/ctBiLSTM_nlayers1_ncells[16, 16]_drop00_optimadam_lossauc_bs16_ep200long short term memory/')"
   ]
  },
  {
   "cell_type": "code",
   "execution_count": null,
   "id": "17d63012",
   "metadata": {},
   "outputs": [],
   "source": []
  },
  {
   "cell_type": "code",
   "execution_count": null,
   "id": "c1fbfd1a",
   "metadata": {},
   "outputs": [],
   "source": []
  },
  {
   "cell_type": "code",
   "execution_count": null,
   "id": "1cda641f",
   "metadata": {},
   "outputs": [],
   "source": []
  },
  {
   "cell_type": "code",
   "execution_count": null,
   "id": "347c2c7a",
   "metadata": {},
   "outputs": [],
   "source": []
  },
  {
   "cell_type": "code",
   "execution_count": null,
   "id": "4be315be",
   "metadata": {},
   "outputs": [],
   "source": []
  },
  {
   "cell_type": "code",
   "execution_count": null,
   "id": "59dcefcc",
   "metadata": {},
   "outputs": [],
   "source": []
  },
  {
   "cell_type": "code",
   "execution_count": null,
   "id": "73ee09a9",
   "metadata": {},
   "outputs": [],
   "source": []
  },
  {
   "cell_type": "code",
   "execution_count": null,
   "id": "968bf68a",
   "metadata": {},
   "outputs": [],
   "source": []
  },
  {
   "cell_type": "code",
   "execution_count": null,
   "id": "6a689af4",
   "metadata": {},
   "outputs": [],
   "source": []
  },
  {
   "cell_type": "code",
   "execution_count": null,
   "id": "d186e2e3",
   "metadata": {},
   "outputs": [],
   "source": []
  },
  {
   "cell_type": "code",
   "execution_count": null,
   "id": "9ee6a00c",
   "metadata": {},
   "outputs": [],
   "source": []
  }
 ],
 "metadata": {
  "kernelspec": {
   "display_name": "Python 3",
   "language": "python",
   "name": "python3"
  },
  "language_info": {
   "codemirror_mode": {
    "name": "ipython",
    "version": 3
   },
   "file_extension": ".py",
   "mimetype": "text/x-python",
   "name": "python",
   "nbconvert_exporter": "python",
   "pygments_lexer": "ipython3",
   "version": "3.8.8"
  },
  "toc": {
   "base_numbering": 1,
   "nav_menu": {},
   "number_sections": true,
   "sideBar": true,
   "skip_h1_title": false,
   "title_cell": "Table of Contents",
   "title_sidebar": "Contents",
   "toc_cell": false,
   "toc_position": {},
   "toc_section_display": true,
   "toc_window_display": false
  }
 },
 "nbformat": 4,
 "nbformat_minor": 5
}
