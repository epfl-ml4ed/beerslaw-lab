{
 "cells": [
  {
   "cell_type": "code",
   "execution_count": 1,
   "id": "d6739465",
   "metadata": {
    "ExecuteTime": {
     "end_time": "2022-02-27T16:27:19.411984Z",
     "start_time": "2022-02-27T16:27:18.467428Z"
    }
   },
   "outputs": [],
   "source": [
    "import os\n",
    "import pickle\n",
    "\n",
    "import numpy as np\n",
    "import pandas as pd\n",
    "import seaborn as sns\n",
    "from matplotlib import pyplot as plt\n",
    "\n",
    "%load_ext autoreload"
   ]
  },
  {
   "cell_type": "code",
   "execution_count": 2,
   "id": "32b3c2e7",
   "metadata": {
    "ExecuteTime": {
     "end_time": "2022-02-27T16:27:21.100113Z",
     "start_time": "2022-02-27T16:27:20.743429Z"
    },
    "scrolled": false
   },
   "outputs": [
    {
     "name": "stdout",
     "output_type": "stream",
     "text": [
      "   pred  truth\n",
      "0     1      1\n",
      "1     1      1\n",
      "2     0      1\n",
      "3     1      1\n",
      "4     1      1\n",
      "5     1      1\n",
      "\n",
      "   pred  truth\n",
      "0     1      1\n",
      "1     1      1\n",
      "2     1      1\n",
      "3     1      0\n",
      "\n",
      "   pred  truth\n",
      "0     1      1\n",
      "1     1      0\n",
      "2     0      1\n",
      "3     1      0\n",
      "4     1      1\n",
      "5     1      1\n",
      "\n",
      "   pred  truth\n",
      "0     1      1\n",
      "1     1      0\n",
      "2     1      1\n",
      "3     1      1\n",
      "4     1      1\n",
      "\n",
      "   pred  truth\n",
      "0     0      1\n",
      "1     1      1\n",
      "2     1      1\n",
      "3     1      1\n",
      "4     0      0\n",
      "\n",
      "   pred  truth\n",
      "0     1      1\n",
      "1     1      1\n",
      "2     1      1\n",
      "3     1      1\n",
      "4     0      0\n",
      "5     1      1\n",
      "6     1      1\n",
      "\n",
      "   pred  truth\n",
      "0     1      1\n",
      "1     1      1\n",
      "2     1      1\n",
      "3     1      0\n",
      "4     1      1\n",
      "5     1      1\n",
      "6     1      0\n",
      "7     1      1\n",
      "8     1      1\n",
      "\n",
      "   pred  truth\n",
      "0     1      1\n",
      "1     1      1\n",
      "2     1      1\n",
      "3     1      1\n",
      "4     0      0\n",
      "5     1      1\n",
      "\n",
      "   pred  truth\n",
      "0     1      1\n",
      "1     1      1\n",
      "2     1      1\n",
      "3     1      1\n",
      "4     1      1\n",
      "5     0      0\n",
      "\n",
      "   pred  truth\n",
      "0     1      1\n",
      "1     1      1\n",
      "2     0      0\n",
      "3     1      1\n",
      "4     1      1\n",
      "5     1      0\n",
      "6     0      1\n",
      "7     1      1\n",
      "\n"
     ]
    }
   ],
   "source": [
    "path60 = '/Users/cock/kDrive/PhD/Projects/Labs/beerslaw-lab/experiments/early-capacitor-lab/no-seed-search/binary_edm2021/2classes/lstm/raw_full/2022_02_25_1/results/early_nested_xval_mlstm_l60.pkl'\n",
    "\n",
    "with open(path60, 'rb') as fp:\n",
    "    early60 = pickle.load(fp)\n",
    "id_indices = early60['id_indices']\n",
    "\n",
    "for i in range(10):\n",
    "    indexes = [id_indices.index(idx) for idx in early60[i]['longenough_test_indices']]\n",
    "    y_test = [early60['y'][yy] for yy in indexes]\n",
    "    \n",
    "    a = (pd.DataFrame([early60[i]['y_pred'], y_test]).transpose())\n",
    "    a.columns = ['pred', 'truth']\n",
    "    print(a)\n",
    "    print()\n",
    "    "
   ]
  },
  {
   "cell_type": "code",
   "execution_count": 3,
   "id": "8cfb57ce",
   "metadata": {
    "ExecuteTime": {
     "end_time": "2022-02-27T16:27:22.996978Z",
     "start_time": "2022-02-27T16:27:22.526352Z"
    }
   },
   "outputs": [
    {
     "name": "stdout",
     "output_type": "stream",
     "text": [
      "precision -1\n",
      "   pred  truth\n",
      "0     1      1\n",
      "1     0      1\n",
      "2     1      1\n",
      "3     1      1\n",
      "\n",
      "precision 1.0\n",
      "   pred  truth\n",
      "0     1      1\n",
      "1     1      1\n",
      "2     0      0\n",
      "\n",
      "precision -1\n",
      "   pred  truth\n",
      "0     1      1\n",
      "1     1      1\n",
      "\n",
      "precision -1\n",
      "   pred  truth\n",
      "0     1      1\n",
      "1     1      1\n",
      "2     1      1\n",
      "3     1      1\n",
      "\n",
      "precision -1\n",
      "   pred  truth\n",
      "0     1      1\n",
      "\n",
      "precision -1\n",
      "   pred  truth\n",
      "0     1      1\n",
      "1     1      1\n",
      "\n",
      "precision 1.0\n",
      "   pred  truth\n",
      "0     1      1\n",
      "1     1      1\n",
      "2     1      1\n",
      "3     1      0\n",
      "\n",
      "precision -1\n",
      "   pred  truth\n",
      "0     1      1\n",
      "1     1      1\n",
      "\n",
      "precision -1\n",
      "   pred  truth\n",
      "0     1      1\n",
      "1     1      1\n",
      "\n",
      "precision -1\n",
      "   pred  truth\n",
      "0     1      1\n",
      "1     1      1\n",
      "\n"
     ]
    }
   ],
   "source": [
    "path90 = '/Users/cock/kDrive/PhD/Projects/Labs/beerslaw-lab/experiments/early-capacitor-lab/no-seed-search/binary_edm2021/2classes/lstm/raw_full/2022_02_25_1/results/early_nested_xval_mlstm_l90.pkl'\n",
    "\n",
    "with open(path90, 'rb') as fp:\n",
    "    early90 = pickle.load(fp)\n",
    "id_indices = early90['id_indices']\n",
    "\n",
    "for i in range(10):\n",
    "    indexes = [id_indices.index(idx) for idx in early90[i]['longenough_test_indices']]\n",
    "    y_test = [early90['y'][yy] for yy in indexes]\n",
    "    \n",
    "    a = (pd.DataFrame([early90[i]['y_pred'], y_test]).transpose())\n",
    "    a.columns = ['pred', 'truth']\n",
    "    print('precision', early90[i]['roc'])\n",
    "    print(a)\n",
    "    print()\n",
    "    "
   ]
  },
  {
   "cell_type": "markdown",
   "id": "17a6b1f8",
   "metadata": {},
   "source": [
    "# investigate scores"
   ]
  },
  {
   "cell_type": "code",
   "execution_count": 4,
   "id": "7d163d6c",
   "metadata": {
    "ExecuteTime": {
     "end_time": "2022-02-27T16:27:24.570196Z",
     "start_time": "2022-02-27T16:27:24.566051Z"
    }
   },
   "outputs": [
    {
     "name": "stdout",
     "output_type": "stream",
     "text": [
      "/Users/cock/kDrive/PhD/Projects/Labs/beerslaw-lab/src\n"
     ]
    }
   ],
   "source": [
    "cd ../../src"
   ]
  },
  {
   "cell_type": "code",
   "execution_count": 6,
   "id": "1f9f220a",
   "metadata": {
    "ExecuteTime": {
     "end_time": "2022-02-27T16:28:06.890862Z",
     "start_time": "2022-02-27T16:28:06.815794Z"
    }
   },
   "outputs": [],
   "source": [
    "%autoreload"
   ]
  },
  {
   "cell_type": "code",
   "execution_count": 7,
   "id": "5107bedf",
   "metadata": {
    "ExecuteTime": {
     "end_time": "2022-02-27T16:28:07.310373Z",
     "start_time": "2022-02-27T16:28:07.299783Z"
    }
   },
   "outputs": [],
   "source": [
    "from ml.xval_maker import XValMaker"
   ]
  },
  {
   "cell_type": "code",
   "execution_count": 8,
   "id": "9e91f88f",
   "metadata": {
    "ExecuteTime": {
     "end_time": "2022-02-27T16:28:09.823939Z",
     "start_time": "2022-02-27T16:28:09.820292Z"
    }
   },
   "outputs": [],
   "source": [
    "path_l60 = '/Users/cock/kDrive/PhD/Projects/Labs/beerslaw-lab/experiments/early-capacitor-lab/no-seed-search/binary_edm2021/2classes/lstm/raw_full/2022_02_25_1/l_60config.yaml'\n",
    "with open(path_l60, 'rb') as fp:\n",
    "    config_l60 = pickle.load(fp)"
   ]
  },
  {
   "cell_type": "code",
   "execution_count": 9,
   "id": "ea70f5c7",
   "metadata": {
    "ExecuteTime": {
     "end_time": "2022-02-27T16:28:11.109522Z",
     "start_time": "2022-02-27T16:28:11.102106Z"
    }
   },
   "outputs": [
    {
     "name": "stdout",
     "output_type": "stream",
     "text": [
      "precision -1\n",
      "   pred  truth\n",
      "0     1      1\n",
      "1     1      1\n",
      "2     0      1\n",
      "3     1      1\n",
      "4     1      1\n",
      "5     1      1\n",
      "\n"
     ]
    }
   ],
   "source": [
    "indexes = [id_indices.index(idx) for idx in early60[0]['longenough_test_indices']]\n",
    "y_test = [early60['y'][yy] for yy in indexes]\n",
    "\n",
    "a = (pd.DataFrame([early60[0]['y_pred'], y_test]).transpose())\n",
    "a.columns = ['pred', 'truth']\n",
    "print('precision', early60[0]['roc'])\n",
    "print(a)\n",
    "print()\n",
    "    "
   ]
  },
  {
   "cell_type": "code",
   "execution_count": 12,
   "id": "dd9ca51e",
   "metadata": {
    "ExecuteTime": {
     "end_time": "2022-02-27T16:29:25.029370Z",
     "start_time": "2022-02-27T16:29:25.026474Z"
    }
   },
   "outputs": [],
   "source": [
    "config_l60['data']['pipeline']['sequencer'] = 'simplestate_secondslstm'"
   ]
  },
  {
   "cell_type": "code",
   "execution_count": 13,
   "id": "443356c9",
   "metadata": {
    "ExecuteTime": {
     "end_time": "2022-02-27T16:29:26.559095Z",
     "start_time": "2022-02-27T16:29:26.535504Z"
    }
   },
   "outputs": [
    {
     "name": "stdout",
     "output_type": "stream",
     "text": [
      "{'seed': [193], 'batch_size': [16], 'cell_type': ['GRU'], 'dropout': [0], 'early_stopping': [True], 'epochs': [1], 'loss': ['auc'], 'n_cells': [[32]], 'n_layers': [1], 'optimiser': ['adam'], 'padding_value': [-1], 'shuffle': [True], 'verbose': [1], 'attention': {'dropout': [0.05]}, 'flatten': ['average']}\n"
     ]
    },
    {
     "ename": "KeyError",
     "evalue": "'concatenator'",
     "output_type": "error",
     "traceback": [
      "\u001b[0;31m---------------------------------------------------------------------------\u001b[0m",
      "\u001b[0;31mKeyError\u001b[0m                                  Traceback (most recent call last)",
      "\u001b[0;32m/var/folders/jy/0pp1md9x1358dt8g8k69srhr0000gp/T/ipykernel_13200/1229073085.py\u001b[0m in \u001b[0;36m<module>\u001b[0;34m\u001b[0m\n\u001b[0;32m----> 1\u001b[0;31m \u001b[0mxval\u001b[0m \u001b[0;34m=\u001b[0m \u001b[0mXValMaker\u001b[0m\u001b[0;34m(\u001b[0m\u001b[0mconfig_l60\u001b[0m\u001b[0;34m)\u001b[0m\u001b[0;34m\u001b[0m\u001b[0;34m\u001b[0m\u001b[0m\n\u001b[0m",
      "\u001b[0;32m~/kDrive/PhD/Projects/Labs/beerslaw-lab/src/ml/xval_maker.py\u001b[0m in \u001b[0;36m__init__\u001b[0;34m(self, settings)\u001b[0m\n\u001b[1;32m     79\u001b[0m         \u001b[0mself\u001b[0m\u001b[0;34m.\u001b[0m\u001b[0m_pipeline_settings\u001b[0m \u001b[0;34m=\u001b[0m \u001b[0mself\u001b[0m\u001b[0;34m.\u001b[0m\u001b[0m_settings\u001b[0m\u001b[0;34m[\u001b[0m\u001b[0;34m'ML'\u001b[0m\u001b[0;34m]\u001b[0m\u001b[0;34m[\u001b[0m\u001b[0;34m'pipeline'\u001b[0m\u001b[0;34m]\u001b[0m\u001b[0;34m\u001b[0m\u001b[0;34m\u001b[0m\u001b[0m\n\u001b[1;32m     80\u001b[0m \u001b[0;34m\u001b[0m\u001b[0m\n\u001b[0;32m---> 81\u001b[0;31m         \u001b[0mself\u001b[0m\u001b[0;34m.\u001b[0m\u001b[0m_build_pipeline\u001b[0m\u001b[0;34m(\u001b[0m\u001b[0;34m)\u001b[0m\u001b[0;34m\u001b[0m\u001b[0;34m\u001b[0m\u001b[0m\n\u001b[0m\u001b[1;32m     82\u001b[0m \u001b[0;34m\u001b[0m\u001b[0m\n\u001b[1;32m     83\u001b[0m     \u001b[0;31m# def _choose_splitter(self):\u001b[0m\u001b[0;34m\u001b[0m\u001b[0;34m\u001b[0m\u001b[0;34m\u001b[0m\u001b[0m\n",
      "\u001b[0;32m~/kDrive/PhD/Projects/Labs/beerslaw-lab/src/ml/xval_maker.py\u001b[0m in \u001b[0;36m_build_pipeline\u001b[0;34m(self)\u001b[0m\n\u001b[1;32m    270\u001b[0m         \u001b[0mself\u001b[0m\u001b[0;34m.\u001b[0m\u001b[0m_choose_model\u001b[0m\u001b[0;34m(\u001b[0m\u001b[0;34m)\u001b[0m\u001b[0;34m\u001b[0m\u001b[0;34m\u001b[0m\u001b[0m\n\u001b[1;32m    271\u001b[0m         \u001b[0mself\u001b[0m\u001b[0;34m.\u001b[0m\u001b[0m_choose_scorer\u001b[0m\u001b[0;34m(\u001b[0m\u001b[0;34m)\u001b[0m\u001b[0;34m\u001b[0m\u001b[0;34m\u001b[0m\u001b[0m\n\u001b[0;32m--> 272\u001b[0;31m         \u001b[0mself\u001b[0m\u001b[0;34m.\u001b[0m\u001b[0m_choose_xvalidator\u001b[0m\u001b[0;34m(\u001b[0m\u001b[0;34m)\u001b[0m\u001b[0;34m\u001b[0m\u001b[0;34m\u001b[0m\u001b[0m\n\u001b[0m\u001b[1;32m    273\u001b[0m \u001b[0;34m\u001b[0m\u001b[0m\n\u001b[1;32m    274\u001b[0m     \u001b[0;32mdef\u001b[0m \u001b[0mtrain\u001b[0m\u001b[0;34m(\u001b[0m\u001b[0mself\u001b[0m\u001b[0;34m,\u001b[0m \u001b[0mX\u001b[0m\u001b[0;34m:\u001b[0m\u001b[0mlist\u001b[0m\u001b[0;34m,\u001b[0m \u001b[0my\u001b[0m\u001b[0;34m:\u001b[0m\u001b[0mlist\u001b[0m\u001b[0;34m,\u001b[0m \u001b[0mindices\u001b[0m\u001b[0;34m:\u001b[0m\u001b[0mlist\u001b[0m\u001b[0;34m)\u001b[0m\u001b[0;34m:\u001b[0m\u001b[0;34m\u001b[0m\u001b[0;34m\u001b[0m\u001b[0m\n",
      "\u001b[0;32m~/kDrive/PhD/Projects/Labs/beerslaw-lab/src/ml/xval_maker.py\u001b[0m in \u001b[0;36m_choose_xvalidator\u001b[0;34m(self)\u001b[0m\n\u001b[1;32m    260\u001b[0m             \u001b[0mself\u001b[0m\u001b[0;34m.\u001b[0m\u001b[0m_choose_gridsearcher\u001b[0m\u001b[0;34m(\u001b[0m\u001b[0;34m)\u001b[0m\u001b[0;34m\u001b[0m\u001b[0;34m\u001b[0m\u001b[0m\n\u001b[1;32m    261\u001b[0m             \u001b[0mself\u001b[0m\u001b[0;34m.\u001b[0m\u001b[0m_xval\u001b[0m \u001b[0;34m=\u001b[0m \u001b[0mRankingSeedXVal\u001b[0m\u001b[0;34m\u001b[0m\u001b[0;34m\u001b[0m\u001b[0m\n\u001b[0;32m--> 262\u001b[0;31m         \u001b[0mself\u001b[0m\u001b[0;34m.\u001b[0m\u001b[0m_xval\u001b[0m \u001b[0;34m=\u001b[0m \u001b[0mself\u001b[0m\u001b[0;34m.\u001b[0m\u001b[0m_xval\u001b[0m\u001b[0;34m(\u001b[0m\u001b[0mself\u001b[0m\u001b[0;34m.\u001b[0m\u001b[0m_settings\u001b[0m\u001b[0;34m,\u001b[0m \u001b[0mself\u001b[0m\u001b[0;34m.\u001b[0m\u001b[0m_gridsearch\u001b[0m\u001b[0;34m,\u001b[0m \u001b[0mself\u001b[0m\u001b[0;34m.\u001b[0m\u001b[0m_inner_splitter\u001b[0m\u001b[0;34m,\u001b[0m \u001b[0mself\u001b[0m\u001b[0;34m.\u001b[0m\u001b[0m_gs_splitter\u001b[0m\u001b[0;34m,\u001b[0m \u001b[0mself\u001b[0m\u001b[0;34m.\u001b[0m\u001b[0m_outer_splitter\u001b[0m\u001b[0;34m,\u001b[0m \u001b[0mself\u001b[0m\u001b[0;34m.\u001b[0m\u001b[0m_sampler\u001b[0m\u001b[0;34m,\u001b[0m \u001b[0mself\u001b[0m\u001b[0;34m.\u001b[0m\u001b[0m_model\u001b[0m\u001b[0;34m,\u001b[0m \u001b[0mself\u001b[0m\u001b[0;34m.\u001b[0m\u001b[0m_scorer\u001b[0m\u001b[0;34m)\u001b[0m\u001b[0;34m\u001b[0m\u001b[0;34m\u001b[0m\u001b[0m\n\u001b[0m\u001b[1;32m    263\u001b[0m \u001b[0;34m\u001b[0m\u001b[0m\n\u001b[1;32m    264\u001b[0m     \u001b[0;32mdef\u001b[0m \u001b[0m_build_pipeline\u001b[0m\u001b[0;34m(\u001b[0m\u001b[0mself\u001b[0m\u001b[0;34m)\u001b[0m\u001b[0;34m:\u001b[0m\u001b[0;34m\u001b[0m\u001b[0;34m\u001b[0m\u001b[0m\n",
      "\u001b[0;32m~/kDrive/PhD/Projects/Labs/beerslaw-lab/src/ml/xvalidators/ranking_early_nested_xval.py\u001b[0m in \u001b[0;36m__init__\u001b[0;34m(self, settings, gridsearch, inner_splitter, gridsearch_splitter, outer_splitter, sampler, model, scorer)\u001b[0m\n\u001b[1;32m     33\u001b[0m \u001b[0;34m\u001b[0m\u001b[0m\n\u001b[1;32m     34\u001b[0m     \u001b[0;32mdef\u001b[0m \u001b[0m__init__\u001b[0m\u001b[0;34m(\u001b[0m\u001b[0mself\u001b[0m\u001b[0;34m,\u001b[0m \u001b[0msettings\u001b[0m\u001b[0;34m:\u001b[0m\u001b[0mdict\u001b[0m\u001b[0;34m,\u001b[0m \u001b[0mgridsearch\u001b[0m\u001b[0;34m:\u001b[0m\u001b[0mGridSearch\u001b[0m\u001b[0;34m,\u001b[0m \u001b[0minner_splitter\u001b[0m\u001b[0;34m:\u001b[0m\u001b[0mSplitter\u001b[0m\u001b[0;34m,\u001b[0m \u001b[0mgridsearch_splitter\u001b[0m\u001b[0;34m:\u001b[0m\u001b[0mSplitter\u001b[0m\u001b[0;34m,\u001b[0m \u001b[0mouter_splitter\u001b[0m\u001b[0;34m:\u001b[0m\u001b[0mSplitter\u001b[0m\u001b[0;34m,\u001b[0m \u001b[0msampler\u001b[0m\u001b[0;34m:\u001b[0m\u001b[0mSampler\u001b[0m\u001b[0;34m,\u001b[0m \u001b[0mmodel\u001b[0m\u001b[0;34m:\u001b[0m\u001b[0mModel\u001b[0m\u001b[0;34m,\u001b[0m \u001b[0mscorer\u001b[0m\u001b[0;34m:\u001b[0m\u001b[0mScorer\u001b[0m\u001b[0;34m)\u001b[0m\u001b[0;34m:\u001b[0m\u001b[0;34m\u001b[0m\u001b[0;34m\u001b[0m\u001b[0m\n\u001b[0;32m---> 35\u001b[0;31m         \u001b[0msuper\u001b[0m\u001b[0;34m(\u001b[0m\u001b[0;34m)\u001b[0m\u001b[0;34m.\u001b[0m\u001b[0m__init__\u001b[0m\u001b[0;34m(\u001b[0m\u001b[0msettings\u001b[0m\u001b[0;34m,\u001b[0m \u001b[0minner_splitter\u001b[0m\u001b[0;34m,\u001b[0m \u001b[0mmodel\u001b[0m\u001b[0;34m,\u001b[0m \u001b[0mscorer\u001b[0m\u001b[0;34m)\u001b[0m\u001b[0;34m\u001b[0m\u001b[0;34m\u001b[0m\u001b[0m\n\u001b[0m\u001b[1;32m     36\u001b[0m         \u001b[0mself\u001b[0m\u001b[0;34m.\u001b[0m\u001b[0m_name\u001b[0m \u001b[0;34m=\u001b[0m \u001b[0;34m'early nested cross validator'\u001b[0m\u001b[0;34m\u001b[0m\u001b[0;34m\u001b[0m\u001b[0m\n\u001b[1;32m     37\u001b[0m         \u001b[0mself\u001b[0m\u001b[0;34m.\u001b[0m\u001b[0m_notation\u001b[0m \u001b[0;34m=\u001b[0m \u001b[0;34m'early_nested_xval'\u001b[0m\u001b[0;34m\u001b[0m\u001b[0;34m\u001b[0m\u001b[0m\n",
      "\u001b[0;32m~/kDrive/PhD/Projects/Labs/beerslaw-lab/src/ml/xvalidators/xvalidator.py\u001b[0m in \u001b[0;36m__init__\u001b[0;34m(self, settings, splitter, model, scorer)\u001b[0m\n\u001b[1;32m     23\u001b[0m         \u001b[0mself\u001b[0m\u001b[0;34m.\u001b[0m\u001b[0m_n_folds\u001b[0m \u001b[0;34m=\u001b[0m \u001b[0msettings\u001b[0m\u001b[0;34m[\u001b[0m\u001b[0;34m'experiment'\u001b[0m\u001b[0;34m]\u001b[0m\u001b[0;34m[\u001b[0m\u001b[0;34m'n_folds'\u001b[0m\u001b[0;34m]\u001b[0m\u001b[0;34m\u001b[0m\u001b[0;34m\u001b[0m\u001b[0m\n\u001b[1;32m     24\u001b[0m \u001b[0;34m\u001b[0m\u001b[0m\n\u001b[0;32m---> 25\u001b[0;31m         \u001b[0mself\u001b[0m\u001b[0;34m.\u001b[0m\u001b[0m_pipeline\u001b[0m \u001b[0;34m=\u001b[0m \u001b[0mPipelineMaker\u001b[0m\u001b[0;34m(\u001b[0m\u001b[0msettings\u001b[0m\u001b[0;34m)\u001b[0m\u001b[0;34m\u001b[0m\u001b[0;34m\u001b[0m\u001b[0m\n\u001b[0m\u001b[1;32m     26\u001b[0m \u001b[0;34m\u001b[0m\u001b[0m\n\u001b[1;32m     27\u001b[0m         \u001b[0mself\u001b[0m\u001b[0;34m.\u001b[0m\u001b[0m_splitter\u001b[0m \u001b[0;34m=\u001b[0m \u001b[0msplitter\u001b[0m\u001b[0;34m\u001b[0m\u001b[0;34m\u001b[0m\u001b[0m\n",
      "\u001b[0;32m~/kDrive/PhD/Projects/Labs/beerslaw-lab/src/extractors/pipeline_maker.py\u001b[0m in \u001b[0;36m__init__\u001b[0;34m(self, settings)\u001b[0m\n\u001b[1;32m    105\u001b[0m \u001b[0;34m\u001b[0m\u001b[0m\n\u001b[1;32m    106\u001b[0m         \u001b[0mself\u001b[0m\u001b[0;34m.\u001b[0m\u001b[0m_pipeline_name\u001b[0m \u001b[0;34m=\u001b[0m \u001b[0mself\u001b[0m\u001b[0;34m.\u001b[0m\u001b[0m_settings\u001b[0m\u001b[0;34m[\u001b[0m\u001b[0;34m'experiment'\u001b[0m\u001b[0;34m]\u001b[0m\u001b[0;34m[\u001b[0m\u001b[0;34m'class_name'\u001b[0m\u001b[0;34m]\u001b[0m \u001b[0;34m+\u001b[0m \u001b[0;34m'_'\u001b[0m\u001b[0;34m\u001b[0m\u001b[0;34m\u001b[0m\u001b[0m\n\u001b[0;32m--> 107\u001b[0;31m         \u001b[0mself\u001b[0m\u001b[0;34m.\u001b[0m\u001b[0m_build_pipeline\u001b[0m\u001b[0;34m(\u001b[0m\u001b[0;34m)\u001b[0m\u001b[0;34m\u001b[0m\u001b[0;34m\u001b[0m\u001b[0m\n\u001b[0m\u001b[1;32m    108\u001b[0m \u001b[0;34m\u001b[0m\u001b[0m\n\u001b[1;32m    109\u001b[0m         \u001b[0mself\u001b[0m\u001b[0;34m.\u001b[0m\u001b[0m_get_label_map\u001b[0m\u001b[0;34m(\u001b[0m\u001b[0;34m)\u001b[0m\u001b[0;34m\u001b[0m\u001b[0;34m\u001b[0m\u001b[0m\n",
      "\u001b[0;32m~/kDrive/PhD/Projects/Labs/beerslaw-lab/src/extractors/pipeline_maker.py\u001b[0m in \u001b[0;36m_build_pipeline\u001b[0;34m(self)\u001b[0m\n\u001b[1;32m    515\u001b[0m     \u001b[0;32mdef\u001b[0m \u001b[0m_build_pipeline\u001b[0m\u001b[0;34m(\u001b[0m\u001b[0mself\u001b[0m\u001b[0;34m)\u001b[0m\u001b[0;34m:\u001b[0m\u001b[0;34m\u001b[0m\u001b[0;34m\u001b[0m\u001b[0m\n\u001b[1;32m    516\u001b[0m         \u001b[0mself\u001b[0m\u001b[0;34m.\u001b[0m\u001b[0m_choose_sequencer\u001b[0m\u001b[0;34m(\u001b[0m\u001b[0;34m)\u001b[0m\u001b[0;34m\u001b[0m\u001b[0;34m\u001b[0m\u001b[0m\n\u001b[0;32m--> 517\u001b[0;31m         \u001b[0mself\u001b[0m\u001b[0;34m.\u001b[0m\u001b[0m_concatenate_sequences\u001b[0m\u001b[0;34m(\u001b[0m\u001b[0;34m)\u001b[0m\u001b[0;34m\u001b[0m\u001b[0;34m\u001b[0m\u001b[0m\n\u001b[0m\u001b[1;32m    518\u001b[0m         \u001b[0mself\u001b[0m\u001b[0;34m.\u001b[0m\u001b[0m_load_sequences\u001b[0m\u001b[0;34m(\u001b[0m\u001b[0;34m)\u001b[0m\u001b[0;34m\u001b[0m\u001b[0;34m\u001b[0m\u001b[0m\n\u001b[1;32m    519\u001b[0m         \u001b[0mself\u001b[0m\u001b[0;34m.\u001b[0m\u001b[0m_filter_data\u001b[0m\u001b[0;34m(\u001b[0m\u001b[0;34m)\u001b[0m\u001b[0;34m\u001b[0m\u001b[0;34m\u001b[0m\u001b[0m\n",
      "\u001b[0;32m~/kDrive/PhD/Projects/Labs/beerslaw-lab/src/extractors/pipeline_maker.py\u001b[0m in \u001b[0;36m_concatenate_sequences\u001b[0;34m(self)\u001b[0m\n\u001b[1;32m    412\u001b[0m \u001b[0;34m\u001b[0m\u001b[0m\n\u001b[1;32m    413\u001b[0m     \u001b[0;32mdef\u001b[0m \u001b[0m_concatenate_sequences\u001b[0m\u001b[0;34m(\u001b[0m\u001b[0mself\u001b[0m\u001b[0;34m)\u001b[0m\u001b[0;34m:\u001b[0m\u001b[0;34m\u001b[0m\u001b[0;34m\u001b[0m\u001b[0m\n\u001b[0;32m--> 414\u001b[0;31m         \u001b[0;32mif\u001b[0m \u001b[0mself\u001b[0m\u001b[0;34m.\u001b[0m\u001b[0m_data_settings\u001b[0m\u001b[0;34m[\u001b[0m\u001b[0;34m'pipeline'\u001b[0m\u001b[0;34m]\u001b[0m\u001b[0;34m[\u001b[0m\u001b[0;34m'concatenator'\u001b[0m\u001b[0;34m]\u001b[0m\u001b[0;34m[\u001b[0m\u001b[0;34m'type'\u001b[0m\u001b[0;34m]\u001b[0m \u001b[0;34m==\u001b[0m \u001b[0;34m'chemconcat'\u001b[0m\u001b[0;34m:\u001b[0m\u001b[0;34m\u001b[0m\u001b[0;34m\u001b[0m\u001b[0m\n\u001b[0m\u001b[1;32m    415\u001b[0m             concat = ChemlabConcatenate(self._sequenced_directory, \n\u001b[1;32m    416\u001b[0m                                         \u001b[0mself\u001b[0m\u001b[0;34m.\u001b[0m\u001b[0m_data_settings\u001b[0m\u001b[0;34m[\u001b[0m\u001b[0;34m'pipeline'\u001b[0m\u001b[0;34m]\u001b[0m\u001b[0;34m[\u001b[0m\u001b[0;34m'concatenator'\u001b[0m\u001b[0;34m]\u001b[0m\u001b[0;34m[\u001b[0m\u001b[0;34m'tasks'\u001b[0m\u001b[0;34m]\u001b[0m\u001b[0;34m,\u001b[0m\u001b[0;34m\u001b[0m\u001b[0;34m\u001b[0m\u001b[0m\n",
      "\u001b[0;31mKeyError\u001b[0m: 'concatenator'"
     ]
    }
   ],
   "source": [
    "xval = XValMaker(config_l60)"
   ]
  },
  {
   "cell_type": "code",
   "execution_count": null,
   "id": "eec60c9a",
   "metadata": {},
   "outputs": [],
   "source": []
  },
  {
   "cell_type": "code",
   "execution_count": null,
   "id": "1c910d63",
   "metadata": {},
   "outputs": [],
   "source": []
  },
  {
   "cell_type": "code",
   "execution_count": null,
   "id": "ab27d14d",
   "metadata": {},
   "outputs": [],
   "source": []
  },
  {
   "cell_type": "code",
   "execution_count": null,
   "id": "eaf2efb5",
   "metadata": {},
   "outputs": [],
   "source": []
  },
  {
   "cell_type": "code",
   "execution_count": null,
   "id": "b6f5a927",
   "metadata": {},
   "outputs": [],
   "source": []
  },
  {
   "cell_type": "code",
   "execution_count": null,
   "id": "415b6c6e",
   "metadata": {},
   "outputs": [],
   "source": []
  },
  {
   "cell_type": "code",
   "execution_count": null,
   "id": "77651d20",
   "metadata": {},
   "outputs": [],
   "source": []
  },
  {
   "cell_type": "code",
   "execution_count": null,
   "id": "15007994",
   "metadata": {},
   "outputs": [],
   "source": []
  },
  {
   "cell_type": "code",
   "execution_count": null,
   "id": "6adb0904",
   "metadata": {},
   "outputs": [],
   "source": []
  },
  {
   "cell_type": "code",
   "execution_count": null,
   "id": "ef1f43d9",
   "metadata": {},
   "outputs": [],
   "source": []
  },
  {
   "cell_type": "code",
   "execution_count": null,
   "id": "8a7ea6b4",
   "metadata": {},
   "outputs": [],
   "source": []
  },
  {
   "cell_type": "code",
   "execution_count": null,
   "id": "c3c7c177",
   "metadata": {},
   "outputs": [],
   "source": []
  },
  {
   "cell_type": "code",
   "execution_count": null,
   "id": "33e8c86d",
   "metadata": {},
   "outputs": [],
   "source": []
  },
  {
   "cell_type": "code",
   "execution_count": null,
   "id": "bb006e94",
   "metadata": {},
   "outputs": [],
   "source": []
  },
  {
   "cell_type": "code",
   "execution_count": null,
   "id": "6d78ece0",
   "metadata": {},
   "outputs": [],
   "source": []
  },
  {
   "cell_type": "code",
   "execution_count": null,
   "id": "4bec9352",
   "metadata": {},
   "outputs": [],
   "source": []
  },
  {
   "cell_type": "code",
   "execution_count": null,
   "id": "37794583",
   "metadata": {},
   "outputs": [],
   "source": []
  },
  {
   "cell_type": "code",
   "execution_count": null,
   "id": "96d890fc",
   "metadata": {},
   "outputs": [],
   "source": []
  }
 ],
 "metadata": {
  "kernelspec": {
   "display_name": "Python 3 (ipykernel)",
   "language": "python",
   "name": "python3"
  },
  "language_info": {
   "codemirror_mode": {
    "name": "ipython",
    "version": 3
   },
   "file_extension": ".py",
   "mimetype": "text/x-python",
   "name": "python",
   "nbconvert_exporter": "python",
   "pygments_lexer": "ipython3",
   "version": "3.8.12"
  },
  "toc": {
   "base_numbering": 1,
   "nav_menu": {},
   "number_sections": true,
   "sideBar": true,
   "skip_h1_title": false,
   "title_cell": "Table of Contents",
   "title_sidebar": "Contents",
   "toc_cell": false,
   "toc_position": {},
   "toc_section_display": true,
   "toc_window_display": false
  }
 },
 "nbformat": 4,
 "nbformat_minor": 5
}
