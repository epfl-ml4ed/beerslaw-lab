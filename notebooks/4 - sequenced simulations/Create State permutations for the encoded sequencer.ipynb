{
 "cells": [
  {
   "cell_type": "code",
   "execution_count": 1,
   "id": "ce5b8c4f",
   "metadata": {
    "ExecuteTime": {
     "end_time": "2021-12-06T14:06:59.495403Z",
     "start_time": "2021-12-06T14:06:59.411172Z"
    }
   },
   "outputs": [],
   "source": [
    "import itertools\n",
    "import numpy"
   ]
  },
  {
   "cell_type": "code",
   "execution_count": 2,
   "id": "8f79652d",
   "metadata": {
    "ExecuteTime": {
     "end_time": "2021-12-06T14:13:05.281884Z",
     "start_time": "2021-12-06T14:13:05.278669Z"
    }
   },
   "outputs": [],
   "source": [
    "measures = ['absobserved', 'notobserved']\n",
    "solutions = ['red', 'green', 'wrongcol']\n",
    "wavelengths = ['wl', 'no_wl']\n",
    "actions = ['other', 'wavelength', 'solution', 'concentration', 'flask']\n",
    "independent_actions = ['break', 'pdf', 'concentrationlab']"
   ]
  },
  {
   "cell_type": "code",
   "execution_count": 5,
   "id": "d55bcae1",
   "metadata": {
    "ExecuteTime": {
     "end_time": "2021-12-06T14:16:03.184435Z",
     "start_time": "2021-12-06T14:16:03.179220Z"
    }
   },
   "outputs": [
    {
     "name": "stdout",
     "output_type": "stream",
     "text": [
      "'absobserved_red_wl_other'\n",
      "'absobserved_red_wl_wavelength'\n",
      "'absobserved_red_wl_solution'\n",
      "'absobserved_red_wl_concentration'\n",
      "'absobserved_red_wl_flask'\n",
      "'absobserved_red_no_wl_other'\n",
      "'absobserved_red_no_wl_wavelength'\n",
      "'absobserved_red_no_wl_solution'\n",
      "'absobserved_red_no_wl_concentration'\n",
      "'absobserved_red_no_wl_flask'\n",
      "'absobserved_green_wl_other'\n",
      "'absobserved_green_wl_wavelength'\n",
      "'absobserved_green_wl_solution'\n",
      "'absobserved_green_wl_concentration'\n",
      "'absobserved_green_wl_flask'\n",
      "'absobserved_green_no_wl_other'\n",
      "'absobserved_green_no_wl_wavelength'\n",
      "'absobserved_green_no_wl_solution'\n",
      "'absobserved_green_no_wl_concentration'\n",
      "'absobserved_green_no_wl_flask'\n",
      "'absobserved_wrongcol_wl_other'\n",
      "'absobserved_wrongcol_wl_wavelength'\n",
      "'absobserved_wrongcol_wl_solution'\n",
      "'absobserved_wrongcol_wl_concentration'\n",
      "'absobserved_wrongcol_wl_flask'\n",
      "'absobserved_wrongcol_no_wl_other'\n",
      "'absobserved_wrongcol_no_wl_wavelength'\n",
      "'absobserved_wrongcol_no_wl_solution'\n",
      "'absobserved_wrongcol_no_wl_concentration'\n",
      "'absobserved_wrongcol_no_wl_flask'\n",
      "'notobserved_red_wl_other'\n",
      "'notobserved_red_wl_wavelength'\n",
      "'notobserved_red_wl_solution'\n",
      "'notobserved_red_wl_concentration'\n",
      "'notobserved_red_wl_flask'\n",
      "'notobserved_red_no_wl_other'\n",
      "'notobserved_red_no_wl_wavelength'\n",
      "'notobserved_red_no_wl_solution'\n",
      "'notobserved_red_no_wl_concentration'\n",
      "'notobserved_red_no_wl_flask'\n",
      "'notobserved_green_wl_other'\n",
      "'notobserved_green_wl_wavelength'\n",
      "'notobserved_green_wl_solution'\n",
      "'notobserved_green_wl_concentration'\n",
      "'notobserved_green_wl_flask'\n",
      "'notobserved_green_no_wl_other'\n",
      "'notobserved_green_no_wl_wavelength'\n",
      "'notobserved_green_no_wl_solution'\n",
      "'notobserved_green_no_wl_concentration'\n",
      "'notobserved_green_no_wl_flask'\n",
      "'notobserved_wrongcol_wl_other'\n",
      "'notobserved_wrongcol_wl_wavelength'\n",
      "'notobserved_wrongcol_wl_solution'\n",
      "'notobserved_wrongcol_wl_concentration'\n",
      "'notobserved_wrongcol_wl_flask'\n",
      "'notobserved_wrongcol_no_wl_other'\n",
      "'notobserved_wrongcol_no_wl_wavelength'\n",
      "'notobserved_wrongcol_no_wl_solution'\n",
      "'notobserved_wrongcol_no_wl_concentration'\n",
      "'notobserved_wrongcol_no_wl_flask'\n"
     ]
    }
   ],
   "source": [
    "new_labels = []\n",
    "for m in measures:\n",
    "    for s in solutions:\n",
    "        for w in wavelengths:\n",
    "            for a in actions:\n",
    "                label = m + '_' + s + '_' + w + '_' + a\n",
    "                new_labels.append(label)\n",
    "                print(\"'{}'\".format(label))"
   ]
  },
  {
   "cell_type": "code",
   "execution_count": 4,
   "id": "4e82d2a8",
   "metadata": {
    "ExecuteTime": {
     "end_time": "2021-12-06T14:15:25.784106Z",
     "start_time": "2021-12-06T14:15:25.774799Z"
    }
   },
   "outputs": [
    {
     "data": {
      "text/plain": [
       "60"
      ]
     },
     "execution_count": 4,
     "metadata": {},
     "output_type": "execute_result"
    }
   ],
   "source": [
    "len(new_labels)"
   ]
  },
  {
   "cell_type": "code",
   "execution_count": null,
   "id": "0174944a",
   "metadata": {},
   "outputs": [],
   "source": []
  },
  {
   "cell_type": "code",
   "execution_count": null,
   "id": "42fb55bb",
   "metadata": {},
   "outputs": [],
   "source": []
  },
  {
   "cell_type": "code",
   "execution_count": null,
   "id": "a0f4cd3f",
   "metadata": {},
   "outputs": [],
   "source": []
  },
  {
   "cell_type": "code",
   "execution_count": null,
   "id": "434026ba",
   "metadata": {},
   "outputs": [],
   "source": []
  },
  {
   "cell_type": "code",
   "execution_count": null,
   "id": "8fa39c3e",
   "metadata": {},
   "outputs": [],
   "source": []
  },
  {
   "cell_type": "code",
   "execution_count": null,
   "id": "332d1e02",
   "metadata": {},
   "outputs": [],
   "source": []
  },
  {
   "cell_type": "code",
   "execution_count": null,
   "id": "6cf35215",
   "metadata": {},
   "outputs": [],
   "source": []
  },
  {
   "cell_type": "code",
   "execution_count": null,
   "id": "f1ee7172",
   "metadata": {},
   "outputs": [],
   "source": []
  },
  {
   "cell_type": "code",
   "execution_count": null,
   "id": "ba4d7149",
   "metadata": {},
   "outputs": [],
   "source": []
  },
  {
   "cell_type": "code",
   "execution_count": null,
   "id": "bc8a907e",
   "metadata": {},
   "outputs": [],
   "source": []
  },
  {
   "cell_type": "code",
   "execution_count": null,
   "id": "c99b36a0",
   "metadata": {},
   "outputs": [],
   "source": []
  },
  {
   "cell_type": "code",
   "execution_count": null,
   "id": "04ee7c42",
   "metadata": {},
   "outputs": [],
   "source": []
  },
  {
   "cell_type": "code",
   "execution_count": null,
   "id": "d413cd0b",
   "metadata": {},
   "outputs": [],
   "source": []
  },
  {
   "cell_type": "code",
   "execution_count": null,
   "id": "05005844",
   "metadata": {},
   "outputs": [],
   "source": []
  },
  {
   "cell_type": "code",
   "execution_count": null,
   "id": "0349f805",
   "metadata": {},
   "outputs": [],
   "source": []
  },
  {
   "cell_type": "code",
   "execution_count": null,
   "id": "db97fdbb",
   "metadata": {},
   "outputs": [],
   "source": []
  },
  {
   "cell_type": "code",
   "execution_count": null,
   "id": "77631eba",
   "metadata": {},
   "outputs": [],
   "source": []
  },
  {
   "cell_type": "code",
   "execution_count": null,
   "id": "d9528397",
   "metadata": {},
   "outputs": [],
   "source": []
  },
  {
   "cell_type": "code",
   "execution_count": null,
   "id": "0bcc5803",
   "metadata": {},
   "outputs": [],
   "source": []
  }
 ],
 "metadata": {
  "kernelspec": {
   "display_name": "Python 3 (ipykernel)",
   "language": "python",
   "name": "python3"
  },
  "language_info": {
   "codemirror_mode": {
    "name": "ipython",
    "version": 3
   },
   "file_extension": ".py",
   "mimetype": "text/x-python",
   "name": "python",
   "nbconvert_exporter": "python",
   "pygments_lexer": "ipython3",
   "version": "3.8.12"
  },
  "toc": {
   "base_numbering": 1,
   "nav_menu": {},
   "number_sections": true,
   "sideBar": true,
   "skip_h1_title": false,
   "title_cell": "Table of Contents",
   "title_sidebar": "Contents",
   "toc_cell": false,
   "toc_position": {},
   "toc_section_display": true,
   "toc_window_display": false
  }
 },
 "nbformat": 4,
 "nbformat_minor": 5
}
