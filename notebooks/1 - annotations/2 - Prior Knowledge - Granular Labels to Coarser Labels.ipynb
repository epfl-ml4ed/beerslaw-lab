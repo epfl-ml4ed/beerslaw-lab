{
 "cells": [
  {
   "cell_type": "markdown",
   "id": "a1dd8a3a",
   "metadata": {},
   "source": [
    "In this notebook, we change the granular labels into more general labels"
   ]
  },
  {
   "cell_type": "code",
   "execution_count": 1,
   "id": "a83d49cf",
   "metadata": {
    "ExecuteTime": {
     "end_time": "2021-11-22T15:09:13.545924Z",
     "start_time": "2021-11-22T15:09:13.091552Z"
    }
   },
   "outputs": [],
   "source": [
    "import pickle\n",
    "import numpy as np\n",
    "import pandas as pd"
   ]
  },
  {
   "cell_type": "markdown",
   "id": "b56273ff",
   "metadata": {},
   "source": [
    "# Completed annotations"
   ]
  },
  {
   "cell_type": "code",
   "execution_count": 2,
   "id": "7b26ed64",
   "metadata": {
    "ExecuteTime": {
     "end_time": "2021-11-22T15:09:14.844966Z",
     "start_time": "2021-11-22T15:09:14.816100Z"
    }
   },
   "outputs": [],
   "source": [
    "with open('../../data/post_test/some_annotated.pkl', 'rb') as fp:\n",
    "    some = pickle.load(fp)\n",
    "    \n",
    "with open('../../data/post_test/some_questions_annotated.pkl', 'rb') as fp:\n",
    "    some_questions = pickle.load(fp)\n",
    "    \n",
    "with open('../../data/post_test/questions_annotated.pkl', 'rb') as fp:\n",
    "    questions = pickle.load(fp)\n",
    "    \n",
    "with open('../../data/post_test/rankings_annotated.pkl', 'rb') as fp:\n",
    "    rankings = pickle.load(fp)"
   ]
  },
  {
   "cell_type": "code",
   "execution_count": 3,
   "id": "471d4fe5",
   "metadata": {
    "ExecuteTime": {
     "end_time": "2021-11-22T15:09:15.317781Z",
     "start_time": "2021-11-22T15:09:15.311308Z"
    }
   },
   "outputs": [],
   "source": [
    "def change_label_to3(labels:str) -> str:\n",
    "    labels = str(labels)\n",
    "    labels = labels.split(',')\n",
    "    label_map = {\n",
    "        \"don't know\": '0',\n",
    "        'forgot': '0',\n",
    "        'heard about': '1',\n",
    "        'rusty': '1',\n",
    "        'overestimate': '1',\n",
    "        'yes': '2',\n",
    "        'know': '2',\n",
    "        'can use': '2',\n",
    "        'no mention': 'no mention',\n",
    "        'in class': 'in class',\n",
    "        'at work': 'at work',\n",
    "        'unknown': 'unknown',\n",
    "        'nan': 'none'\n",
    "    }\n",
    "    labs = [label_map[str(lab)] for lab in labels]\n",
    "    labs = list(np.unique(labs))\n",
    "    labs = ','.join(labs)\n",
    "    return labs\n",
    "    \n",
    "\n",
    "def change_label_to4(labels:str) -> str:\n",
    "    labels = str(labels)\n",
    "    labels = labels.split(',')\n",
    "    label_map = {\n",
    "        \"don't know\": '0',\n",
    "        \"don’t know\": '0',\n",
    "        'forgot': '1',\n",
    "        'heard about': '1',\n",
    "        'rusty': '2',\n",
    "        'overestimate': '2',\n",
    "        'yes': '3',\n",
    "        'know': '3',\n",
    "        'can use': '3',\n",
    "        'no mention': 'no mention',\n",
    "        'in class': 'in class',\n",
    "        'at work': 'at work',\n",
    "        'unknown': 'unknown',\n",
    "        'nan': 'none'\n",
    "    }\n",
    "    labs = [label_map[str(lab)] for lab in labels]\n",
    "    labs = list(np.unique(labs))\n",
    "    labs = ','.join(labs)\n",
    "    return labs\n",
    "    "
   ]
  },
  {
   "cell_type": "code",
   "execution_count": 4,
   "id": "14f9f9b0",
   "metadata": {
    "ExecuteTime": {
     "end_time": "2021-11-22T15:09:19.227108Z",
     "start_time": "2021-11-22T15:09:19.149913Z"
    }
   },
   "outputs": [],
   "source": [
    "some['prior_3cat'] = some['prior_knowledge'].apply(change_label_to3)\n",
    "some['prior_4cat'] = some['prior_knowledge'].apply(change_label_to4)\n",
    "some_questions['prior_3cat'] = some_questions['prior_knowledge'].apply(change_label_to3)\n",
    "some_questions['prior_4cat'] = some_questions['prior_knowledge'].apply(change_label_to4)\n",
    "questions['prior_3cat'] = questions['prior_knowledge'].apply(change_label_to3)\n",
    "questions['prior_4cat'] = questions['prior_knowledge'].apply(change_label_to4)\n",
    "rankings['prior_3cat'] = rankings['prior_knowledge'].apply(change_label_to3)\n",
    "rankings['prior_4cat'] = rankings['prior_knowledge'].apply(change_label_to4)"
   ]
  },
  {
   "cell_type": "code",
   "execution_count": 5,
   "id": "05f9f165",
   "metadata": {
    "ExecuteTime": {
     "end_time": "2021-11-22T15:09:19.668565Z",
     "start_time": "2021-11-22T15:09:19.650290Z"
    }
   },
   "outputs": [],
   "source": [
    "with open('../../data/post_test/some_annotated.pkl', 'wb') as fp:\n",
    "    pickle.dump(some, fp)\n",
    "    \n",
    "with open('../../data/post_test/some_questions_annotated.pkl', 'wb') as fp:\n",
    "    pickle.dump(some_questions, fp)\n",
    "    \n",
    "with open('../../data/post_test/questions_annotated.pkl', 'wb') as fp:\n",
    "    pickle.dump(questions, fp)\n",
    "    \n",
    "with open('../../data/post_test/rankings_annotated.pkl', 'wb') as fp:\n",
    "    pickle.dump(rankings, fp)"
   ]
  },
  {
   "cell_type": "code",
   "execution_count": null,
   "id": "bf899b08",
   "metadata": {},
   "outputs": [],
   "source": []
  },
  {
   "cell_type": "code",
   "execution_count": null,
   "id": "52fdf752",
   "metadata": {},
   "outputs": [],
   "source": []
  },
  {
   "cell_type": "code",
   "execution_count": null,
   "id": "acb8f82b",
   "metadata": {},
   "outputs": [],
   "source": []
  },
  {
   "cell_type": "code",
   "execution_count": null,
   "id": "edb33a40",
   "metadata": {},
   "outputs": [],
   "source": []
  },
  {
   "cell_type": "code",
   "execution_count": null,
   "id": "78057a38",
   "metadata": {},
   "outputs": [],
   "source": []
  },
  {
   "cell_type": "code",
   "execution_count": null,
   "id": "ca1b9f13",
   "metadata": {},
   "outputs": [],
   "source": []
  },
  {
   "cell_type": "code",
   "execution_count": null,
   "id": "5eea0e47",
   "metadata": {},
   "outputs": [],
   "source": []
  },
  {
   "cell_type": "code",
   "execution_count": null,
   "id": "c985bbb9",
   "metadata": {},
   "outputs": [],
   "source": []
  },
  {
   "cell_type": "code",
   "execution_count": null,
   "id": "4248c312",
   "metadata": {},
   "outputs": [],
   "source": []
  },
  {
   "cell_type": "code",
   "execution_count": null,
   "id": "6495f0c1",
   "metadata": {},
   "outputs": [],
   "source": []
  },
  {
   "cell_type": "code",
   "execution_count": null,
   "id": "5dd60ec5",
   "metadata": {},
   "outputs": [],
   "source": []
  },
  {
   "cell_type": "code",
   "execution_count": null,
   "id": "a5984ecc",
   "metadata": {},
   "outputs": [],
   "source": []
  },
  {
   "cell_type": "code",
   "execution_count": null,
   "id": "4e6fac8c",
   "metadata": {},
   "outputs": [],
   "source": []
  },
  {
   "cell_type": "markdown",
   "id": "971c5b75",
   "metadata": {},
   "source": [
    "# Old version"
   ]
  },
  {
   "cell_type": "code",
   "execution_count": 2,
   "id": "3888e12d",
   "metadata": {
    "ExecuteTime": {
     "end_time": "2021-11-15T09:21:28.757892Z",
     "start_time": "2021-11-15T09:21:28.754768Z"
    }
   },
   "outputs": [],
   "source": [
    "root = '../../annotated/chemlab/prior-posterior/prior version 6/'"
   ]
  },
  {
   "cell_type": "code",
   "execution_count": 3,
   "id": "4e35edaa",
   "metadata": {
    "ExecuteTime": {
     "end_time": "2021-11-15T09:21:28.771651Z",
     "start_time": "2021-11-15T09:21:28.761165Z"
    }
   },
   "outputs": [],
   "source": [
    "chris = pd.read_csv(root + 'chris_prior_s4.csv', sep='\\t', index_col=0)\n",
    "jade = pd.read_csv(root + 'jade_prior_yestoknow.csv', sep='\\t', index_col=0)"
   ]
  },
  {
   "cell_type": "code",
   "execution_count": 4,
   "id": "40b5e824",
   "metadata": {
    "ExecuteTime": {
     "end_time": "2021-11-15T09:21:29.535691Z",
     "start_time": "2021-11-15T09:21:29.518953Z"
    }
   },
   "outputs": [
    {
     "data": {
      "text/html": [
       "<div>\n",
       "<style scoped>\n",
       "    .dataframe tbody tr th:only-of-type {\n",
       "        vertical-align: middle;\n",
       "    }\n",
       "\n",
       "    .dataframe tbody tr th {\n",
       "        vertical-align: top;\n",
       "    }\n",
       "\n",
       "    .dataframe thead th {\n",
       "        text-align: right;\n",
       "    }\n",
       "</style>\n",
       "<table border=\"1\" class=\"dataframe\">\n",
       "  <thead>\n",
       "    <tr style=\"text-align: right;\">\n",
       "      <th></th>\n",
       "      <th>index</th>\n",
       "      <th>username</th>\n",
       "      <th>gender</th>\n",
       "      <th>year</th>\n",
       "      <th>field</th>\n",
       "      <th>beerslaw</th>\n",
       "      <th>chris_label</th>\n",
       "      <th>flag_chris_label</th>\n",
       "    </tr>\n",
       "  </thead>\n",
       "  <tbody>\n",
       "    <tr>\n",
       "      <th>0</th>\n",
       "      <td>307</td>\n",
       "      <td>tcnba4ca</td>\n",
       "      <td>3.0</td>\n",
       "      <td>3rd</td>\n",
       "      <td>Chemistry, Textiles</td>\n",
       "      <td>Ich habe schon einiges davon gehört</td>\n",
       "      <td>heard about,no mention</td>\n",
       "      <td>NaN</td>\n",
       "    </tr>\n",
       "    <tr>\n",
       "      <th>1</th>\n",
       "      <td>30</td>\n",
       "      <td>xau6wapw</td>\n",
       "      <td>1.0</td>\n",
       "      <td>1st</td>\n",
       "      <td>Chemistry</td>\n",
       "      <td>Nein</td>\n",
       "      <td>don't know</td>\n",
       "      <td>NaN</td>\n",
       "    </tr>\n",
       "    <tr>\n",
       "      <th>2</th>\n",
       "      <td>180</td>\n",
       "      <td>jamrhf3h</td>\n",
       "      <td>1.0</td>\n",
       "      <td>1st</td>\n",
       "      <td>Chemistry</td>\n",
       "      <td>hatten im Uek schon einmal Lambert-Beer'schen ...</td>\n",
       "      <td>rusty,in class</td>\n",
       "      <td>NaN</td>\n",
       "    </tr>\n",
       "    <tr>\n",
       "      <th>3</th>\n",
       "      <td>196</td>\n",
       "      <td>unkrat9w</td>\n",
       "      <td>1.0</td>\n",
       "      <td>1st</td>\n",
       "      <td>Pharma Chemistry</td>\n",
       "      <td>Logisch!</td>\n",
       "      <td>don't know,no mention</td>\n",
       "      <td>NaN</td>\n",
       "    </tr>\n",
       "    <tr>\n",
       "      <th>4</th>\n",
       "      <td>170</td>\n",
       "      <td>39htvmt5</td>\n",
       "      <td>2.0</td>\n",
       "      <td>1st</td>\n",
       "      <td>Chemistry</td>\n",
       "      <td>Ich habe davor nichts mit diesem Gesetz zu tun...</td>\n",
       "      <td>don't know</td>\n",
       "      <td>NaN</td>\n",
       "    </tr>\n",
       "  </tbody>\n",
       "</table>\n",
       "</div>"
      ],
      "text/plain": [
       "   index  username  gender year                field  \\\n",
       "0    307  tcnba4ca     3.0  3rd  Chemistry, Textiles   \n",
       "1     30  xau6wapw     1.0  1st            Chemistry   \n",
       "2    180  jamrhf3h     1.0  1st            Chemistry   \n",
       "3    196  unkrat9w     1.0  1st     Pharma Chemistry   \n",
       "4    170  39htvmt5     2.0  1st            Chemistry   \n",
       "\n",
       "                                            beerslaw             chris_label  \\\n",
       "0                Ich habe schon einiges davon gehört  heard about,no mention   \n",
       "1                                               Nein              don't know   \n",
       "2  hatten im Uek schon einmal Lambert-Beer'schen ...          rusty,in class   \n",
       "3                                           Logisch!   don't know,no mention   \n",
       "4  Ich habe davor nichts mit diesem Gesetz zu tun...              don't know   \n",
       "\n",
       "   flag_chris_label  \n",
       "0               NaN  \n",
       "1               NaN  \n",
       "2               NaN  \n",
       "3               NaN  \n",
       "4               NaN  "
      ]
     },
     "execution_count": 4,
     "metadata": {},
     "output_type": "execute_result"
    }
   ],
   "source": [
    "chris.head()"
   ]
  },
  {
   "cell_type": "code",
   "execution_count": 5,
   "id": "a1ab8e0b",
   "metadata": {
    "ExecuteTime": {
     "end_time": "2021-11-15T09:21:29.896345Z",
     "start_time": "2021-11-15T09:21:29.886774Z"
    }
   },
   "outputs": [
    {
     "data": {
      "text/html": [
       "<div>\n",
       "<style scoped>\n",
       "    .dataframe tbody tr th:only-of-type {\n",
       "        vertical-align: middle;\n",
       "    }\n",
       "\n",
       "    .dataframe tbody tr th {\n",
       "        vertical-align: top;\n",
       "    }\n",
       "\n",
       "    .dataframe thead th {\n",
       "        text-align: right;\n",
       "    }\n",
       "</style>\n",
       "<table border=\"1\" class=\"dataframe\">\n",
       "  <thead>\n",
       "    <tr style=\"text-align: right;\">\n",
       "      <th></th>\n",
       "      <th>index</th>\n",
       "      <th>username</th>\n",
       "      <th>gender</th>\n",
       "      <th>year</th>\n",
       "      <th>field</th>\n",
       "      <th>beerslaw</th>\n",
       "      <th>jade_label</th>\n",
       "      <th>flag_jade_label</th>\n",
       "    </tr>\n",
       "  </thead>\n",
       "  <tbody>\n",
       "    <tr>\n",
       "      <th>0</th>\n",
       "      <td>307</td>\n",
       "      <td>tcnba4ca</td>\n",
       "      <td>3.0</td>\n",
       "      <td>3rd</td>\n",
       "      <td>Chemistry, Textiles</td>\n",
       "      <td>Ich habe schon einiges davon gehört</td>\n",
       "      <td>heard about,no mention</td>\n",
       "      <td>NaN</td>\n",
       "    </tr>\n",
       "    <tr>\n",
       "      <th>1</th>\n",
       "      <td>30</td>\n",
       "      <td>xau6wapw</td>\n",
       "      <td>1.0</td>\n",
       "      <td>1st</td>\n",
       "      <td>Chemistry</td>\n",
       "      <td>Nein</td>\n",
       "      <td>don't know</td>\n",
       "      <td>NaN</td>\n",
       "    </tr>\n",
       "    <tr>\n",
       "      <th>2</th>\n",
       "      <td>180</td>\n",
       "      <td>jamrhf3h</td>\n",
       "      <td>1.0</td>\n",
       "      <td>1st</td>\n",
       "      <td>Chemistry</td>\n",
       "      <td>hatten im Uek schon einmal Lambert-Beer'schen ...</td>\n",
       "      <td>forgot,in class</td>\n",
       "      <td>NaN</td>\n",
       "    </tr>\n",
       "    <tr>\n",
       "      <th>3</th>\n",
       "      <td>196</td>\n",
       "      <td>unkrat9w</td>\n",
       "      <td>1.0</td>\n",
       "      <td>1st</td>\n",
       "      <td>Pharma Chemistry</td>\n",
       "      <td>Logisch!</td>\n",
       "      <td>know,no mention</td>\n",
       "      <td>NaN</td>\n",
       "    </tr>\n",
       "    <tr>\n",
       "      <th>4</th>\n",
       "      <td>170</td>\n",
       "      <td>39htvmt5</td>\n",
       "      <td>2.0</td>\n",
       "      <td>1st</td>\n",
       "      <td>Chemistry</td>\n",
       "      <td>Ich habe davor nichts mit diesem Gesetz zu tun...</td>\n",
       "      <td>don't know</td>\n",
       "      <td>NaN</td>\n",
       "    </tr>\n",
       "  </tbody>\n",
       "</table>\n",
       "</div>"
      ],
      "text/plain": [
       "   index  username  gender year                field  \\\n",
       "0    307  tcnba4ca     3.0  3rd  Chemistry, Textiles   \n",
       "1     30  xau6wapw     1.0  1st            Chemistry   \n",
       "2    180  jamrhf3h     1.0  1st            Chemistry   \n",
       "3    196  unkrat9w     1.0  1st     Pharma Chemistry   \n",
       "4    170  39htvmt5     2.0  1st            Chemistry   \n",
       "\n",
       "                                            beerslaw              jade_label  \\\n",
       "0                Ich habe schon einiges davon gehört  heard about,no mention   \n",
       "1                                               Nein              don't know   \n",
       "2  hatten im Uek schon einmal Lambert-Beer'schen ...         forgot,in class   \n",
       "3                                           Logisch!         know,no mention   \n",
       "4  Ich habe davor nichts mit diesem Gesetz zu tun...              don't know   \n",
       "\n",
       "   flag_jade_label  \n",
       "0              NaN  \n",
       "1              NaN  \n",
       "2              NaN  \n",
       "3              NaN  \n",
       "4              NaN  "
      ]
     },
     "execution_count": 5,
     "metadata": {},
     "output_type": "execute_result"
    }
   ],
   "source": [
    "jade.head()"
   ]
  },
  {
   "cell_type": "markdown",
   "id": "156a1afc",
   "metadata": {},
   "source": [
    "# Granular to 4 Labels\n",
    "Chaging the labels to the 4 categories defined in https://www.notion.so/version-2-0-3-0-deea04e89c83477ca27c2bc2ef857a60"
   ]
  },
  {
   "cell_type": "code",
   "execution_count": 6,
   "id": "05019b3d",
   "metadata": {
    "ExecuteTime": {
     "end_time": "2021-11-15T09:21:34.451937Z",
     "start_time": "2021-11-15T09:21:34.447473Z"
    }
   },
   "outputs": [
    {
     "data": {
      "text/plain": [
       "array(['can use,at work', \"can use,don't know,at work\",\n",
       "       'can use,no mention', \"don't know\", \"don't know,no mention\",\n",
       "       'forgot,in class', 'forgot,no mention', 'heard about,at work',\n",
       "       'heard about,can use,at work', 'heard about,in class',\n",
       "       'heard about,no mention', 'heard about,rusty,forgot,in class',\n",
       "       'know,at work', 'know,can use,in class,at work', 'know,in class',\n",
       "       'know,in class,at work', 'know,no mention', 'rusty,at work',\n",
       "       'rusty,in class', 'rusty,no mention', 'yes,in class',\n",
       "       'yes,no mention'], dtype='<U33')"
      ]
     },
     "execution_count": 6,
     "metadata": {},
     "output_type": "execute_result"
    }
   ],
   "source": [
    "np.unique(list(chris['chris_label'].unique()) + list(jade['jade_label'].unique()))"
   ]
  },
  {
   "cell_type": "code",
   "execution_count": 7,
   "id": "b1428136",
   "metadata": {
    "ExecuteTime": {
     "end_time": "2021-11-15T09:21:43.464681Z",
     "start_time": "2021-11-15T09:21:43.461015Z"
    }
   },
   "outputs": [],
   "source": [
    "def change_label(labels:str) -> str:\n",
    "    labels = labels.split(',')\n",
    "    label_map = {\n",
    "        \"don't know\": '0',\n",
    "        'forgot': '1',\n",
    "        'heard about': '1',\n",
    "        'rusty': '2',\n",
    "        'overestimate': '2',\n",
    "        'yes': '3',\n",
    "        'know': '3',\n",
    "        'can use': '3',\n",
    "        'no mention': 'no mention',\n",
    "        'in class': 'in class',\n",
    "        'at work': 'at work'\n",
    "    }\n",
    "    labs = [label_map[lab] for lab in labels]\n",
    "    labs = list(np.unique(labs))\n",
    "    labs = ','.join(labs)\n",
    "    return labs\n",
    "    "
   ]
  },
  {
   "cell_type": "code",
   "execution_count": 8,
   "id": "5e0d3068",
   "metadata": {
    "ExecuteTime": {
     "end_time": "2021-11-15T09:21:44.594006Z",
     "start_time": "2021-11-15T09:21:44.584488Z"
    }
   },
   "outputs": [],
   "source": [
    "chris['new_labels'] = chris['chris_label'].apply(change_label)\n",
    "jade['new_labels'] = jade['jade_label'].apply(change_label)"
   ]
  },
  {
   "cell_type": "code",
   "execution_count": 9,
   "id": "84decdbc",
   "metadata": {
    "ExecuteTime": {
     "end_time": "2021-11-15T09:21:44.741423Z",
     "start_time": "2021-11-15T09:21:44.736698Z"
    }
   },
   "outputs": [],
   "source": [
    "chris = chris.rename(columns={'chris_label': 'old_labels', 'new_labels':'chris_label'})\n",
    "jade = jade.rename(columns={'jade_label': 'old_labels', 'new_labels': 'jade_label'})"
   ]
  },
  {
   "cell_type": "code",
   "execution_count": 10,
   "id": "18e60b1c",
   "metadata": {
    "ExecuteTime": {
     "end_time": "2021-11-15T09:21:44.887878Z",
     "start_time": "2021-11-15T09:21:44.880035Z"
    }
   },
   "outputs": [],
   "source": [
    "chris.to_csv(root + '4 categories/chris_prior_s4.csv', sep='\\t')\n",
    "jade.to_csv(root + '4 categories/jade_prior_s4.csv', sep='\\t')"
   ]
  },
  {
   "cell_type": "markdown",
   "id": "8e4b211d",
   "metadata": {},
   "source": [
    "# Change to 3 Labels\n",
    "Changing the labels to the 3 categories defined in https://www.notion.so/version-2-0-3-0-deea04e89c83477ca27c2bc2ef857a60"
   ]
  },
  {
   "cell_type": "code",
   "execution_count": 12,
   "id": "e0546507",
   "metadata": {
    "ExecuteTime": {
     "end_time": "2021-11-15T09:22:05.982117Z",
     "start_time": "2021-11-15T09:22:05.978632Z"
    }
   },
   "outputs": [],
   "source": [
    "def change_label(labels:str) -> str:\n",
    "    labels = labels.split(',')\n",
    "    label_map = {\n",
    "        \"don't know\": '0',\n",
    "        'forgot': '0',\n",
    "        'heard about': '1',\n",
    "        'rusty': '1',\n",
    "        'overestimate': '1',\n",
    "        'yes': '3',\n",
    "        'know': '3',\n",
    "        'can use': '3',\n",
    "        'no mention': 'no mention',\n",
    "        'in class': 'in class',\n",
    "        'at work': 'at work'\n",
    "    }\n",
    "    labs = [label_map[lab] for lab in labels]\n",
    "    labs = list(np.unique(labs))\n",
    "    labs = ','.join(labs)\n",
    "    return labs\n",
    "    "
   ]
  },
  {
   "cell_type": "code",
   "execution_count": 13,
   "id": "da300748",
   "metadata": {
    "ExecuteTime": {
     "end_time": "2021-11-15T09:22:07.828440Z",
     "start_time": "2021-11-15T09:22:07.818244Z"
    }
   },
   "outputs": [],
   "source": [
    "chris['new_labels'] = chris['old_labels'].apply(change_label)\n",
    "jade['new_labels'] = jade['old_labels'].apply(change_label)\n",
    "\n",
    "chris = chris.rename(columns={'new_labels':'chris_label'})\n",
    "jade = jade.rename(columns={'new_labels': 'jade_label'})"
   ]
  },
  {
   "cell_type": "code",
   "execution_count": 14,
   "id": "6b2e5176",
   "metadata": {
    "ExecuteTime": {
     "end_time": "2021-11-15T09:22:08.029452Z",
     "start_time": "2021-11-15T09:22:08.023944Z"
    }
   },
   "outputs": [],
   "source": [
    "chris.to_csv(root + '3 categories/chris_prior_s4.csv', sep='\\t')\n",
    "jade.to_csv(root + '3 categories/jade_prior_s4.csv', sep='\\t')"
   ]
  },
  {
   "cell_type": "markdown",
   "id": "c51c3547",
   "metadata": {},
   "source": [
    "# Check"
   ]
  },
  {
   "cell_type": "code",
   "execution_count": 15,
   "id": "c5867328",
   "metadata": {
    "ExecuteTime": {
     "end_time": "2021-11-15T09:22:13.180674Z",
     "start_time": "2021-11-15T09:22:13.172411Z"
    }
   },
   "outputs": [],
   "source": [
    "chris = pd.read_csv(root + '4 categories/chris_prior_s4.csv', sep='\\t', index_col=0)\n",
    "jade = pd.read_csv(root + '4 categories/jade_prior_s4.csv', sep='\\t', index_col=0)"
   ]
  },
  {
   "cell_type": "code",
   "execution_count": 16,
   "id": "3d74db6f",
   "metadata": {
    "ExecuteTime": {
     "end_time": "2021-11-15T09:22:14.062209Z",
     "start_time": "2021-11-15T09:22:14.057807Z"
    }
   },
   "outputs": [
    {
     "data": {
      "text/plain": [
       "array(['1,no mention', '0', '2,in class', '0,no mention', '2,no mention',\n",
       "       '1,in class', '0,3,at work', '3,no mention', '2,at work',\n",
       "       '3,in class', '1,3,at work', '3,at work,in class', '3,at work',\n",
       "       '1,at work'], dtype=object)"
      ]
     },
     "execution_count": 16,
     "metadata": {},
     "output_type": "execute_result"
    }
   ],
   "source": [
    "chris['chris_label'].unique()"
   ]
  },
  {
   "cell_type": "code",
   "execution_count": null,
   "id": "4b6eb539",
   "metadata": {},
   "outputs": [],
   "source": []
  },
  {
   "cell_type": "code",
   "execution_count": null,
   "id": "b3fffc61",
   "metadata": {},
   "outputs": [],
   "source": []
  },
  {
   "cell_type": "code",
   "execution_count": null,
   "id": "02a5e8a6",
   "metadata": {},
   "outputs": [],
   "source": []
  },
  {
   "cell_type": "code",
   "execution_count": null,
   "id": "7145b813",
   "metadata": {},
   "outputs": [],
   "source": []
  },
  {
   "cell_type": "code",
   "execution_count": null,
   "id": "2c82a586",
   "metadata": {},
   "outputs": [],
   "source": []
  },
  {
   "cell_type": "code",
   "execution_count": null,
   "id": "bfb9877f",
   "metadata": {},
   "outputs": [],
   "source": []
  },
  {
   "cell_type": "code",
   "execution_count": null,
   "id": "523b4ec5",
   "metadata": {},
   "outputs": [],
   "source": []
  },
  {
   "cell_type": "code",
   "execution_count": null,
   "id": "29ab2039",
   "metadata": {},
   "outputs": [],
   "source": []
  },
  {
   "cell_type": "code",
   "execution_count": null,
   "id": "cc19a157",
   "metadata": {},
   "outputs": [],
   "source": []
  }
 ],
 "metadata": {
  "kernelspec": {
   "display_name": "Python 3 (ipykernel)",
   "language": "python",
   "name": "python3"
  },
  "language_info": {
   "codemirror_mode": {
    "name": "ipython",
    "version": 3
   },
   "file_extension": ".py",
   "mimetype": "text/x-python",
   "name": "python",
   "nbconvert_exporter": "python",
   "pygments_lexer": "ipython3",
   "version": "3.7.11"
  },
  "toc": {
   "base_numbering": 1,
   "nav_menu": {},
   "number_sections": true,
   "sideBar": true,
   "skip_h1_title": false,
   "title_cell": "Table of Contents",
   "title_sidebar": "Contents",
   "toc_cell": false,
   "toc_position": {},
   "toc_section_display": true,
   "toc_window_display": false
  }
 },
 "nbformat": 4,
 "nbformat_minor": 5
}
