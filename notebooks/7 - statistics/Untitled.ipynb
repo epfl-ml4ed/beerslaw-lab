{
 "cells": [
  {
   "cell_type": "code",
   "execution_count": 1,
   "id": "b0ac671d",
   "metadata": {
    "ExecuteTime": {
     "end_time": "2022-03-01T13:48:43.518964Z",
     "start_time": "2022-03-01T13:48:41.938851Z"
    }
   },
   "outputs": [],
   "source": [
    "import seaborn as plt\n",
    "import pickle\n",
    "import os\n",
    "\n",
    "from matplotlib import pyplot as plt\n",
    "import seaborn as sns\n",
    "\n",
    "import pandas as pd\n",
    "import numpy as np"
   ]
  },
  {
   "cell_type": "code",
   "execution_count": 2,
   "id": "234973ce",
   "metadata": {
    "ExecuteTime": {
     "end_time": "2022-03-01T13:48:52.490520Z",
     "start_time": "2022-03-01T13:48:52.488178Z"
    }
   },
   "outputs": [],
   "source": [
    "path = '/Users/cock/kDrive/PhD/Projects/Labs/beerslaw-lab/experiments/lstm_cnn/simplestate_secondslstm/binconcepts/lstmcnn/raw_full/2022_02_22_0/config.yaml'\n"
   ]
  },
  {
   "cell_type": "code",
   "execution_count": 3,
   "id": "885c226e",
   "metadata": {
    "ExecuteTime": {
     "end_time": "2022-03-01T13:49:04.105408Z",
     "start_time": "2022-03-01T13:49:04.100962Z"
    }
   },
   "outputs": [],
   "source": [
    "with open(path, 'rb') as fp:\n",
    "    config = pickle.load(fp)"
   ]
  },
  {
   "cell_type": "code",
   "execution_count": 8,
   "id": "81e80451",
   "metadata": {
    "ExecuteTime": {
     "end_time": "2022-03-01T13:50:15.830585Z",
     "start_time": "2022-03-01T13:50:15.825674Z"
    }
   },
   "outputs": [
    {
     "name": "stdout",
     "output_type": "stream",
     "text": [
      "/Users/cock/kDrive/PhD/Projects/Labs/beerslaw-lab/src\n"
     ]
    }
   ],
   "source": [
    "cd ../../src"
   ]
  },
  {
   "cell_type": "code",
   "execution_count": 10,
   "id": "02561676",
   "metadata": {
    "ExecuteTime": {
     "end_time": "2022-03-01T13:53:15.725436Z",
     "start_time": "2022-03-01T13:53:15.591017Z"
    }
   },
   "outputs": [],
   "source": [
    "permutations = []\n",
    "for idx in config['id_dictionary']['sequences']:\n",
    "    simpath = config['id_dictionary']['sequences'][idx]['path']\n",
    "    with open(simpath, 'rb') as fp:\n",
    "        sim = pickle.load(fp)\n",
    "        permutations.append(sim['permutation'])"
   ]
  },
  {
   "cell_type": "code",
   "execution_count": 12,
   "id": "fe830c89",
   "metadata": {
    "ExecuteTime": {
     "end_time": "2022-03-01T13:53:24.336072Z",
     "start_time": "2022-03-01T13:53:24.333832Z"
    }
   },
   "outputs": [],
   "source": [
    "from collections import Counter"
   ]
  },
  {
   "cell_type": "code",
   "execution_count": 14,
   "id": "d5926b7c",
   "metadata": {
    "ExecuteTime": {
     "end_time": "2022-03-01T13:53:48.329107Z",
     "start_time": "2022-03-01T13:53:48.326711Z"
    }
   },
   "outputs": [],
   "source": [
    "a = Counter(permutations)"
   ]
  },
  {
   "cell_type": "code",
   "execution_count": 40,
   "id": "a86eab21",
   "metadata": {
    "ExecuteTime": {
     "end_time": "2022-03-01T14:04:23.206920Z",
     "start_time": "2022-03-01T14:04:23.203199Z"
    }
   },
   "outputs": [
    {
     "data": {
      "text/plain": [
       "29"
      ]
     },
     "execution_count": 40,
     "metadata": {},
     "output_type": "execute_result"
    }
   ],
   "source": [
    "a['2031']"
   ]
  },
  {
   "cell_type": "code",
   "execution_count": null,
   "id": "79040d07",
   "metadata": {},
   "outputs": [],
   "source": []
  },
  {
   "cell_type": "code",
   "execution_count": null,
   "id": "23996889",
   "metadata": {},
   "outputs": [],
   "source": []
  },
  {
   "cell_type": "code",
   "execution_count": null,
   "id": "0f321785",
   "metadata": {},
   "outputs": [],
   "source": []
  },
  {
   "cell_type": "code",
   "execution_count": null,
   "id": "4348f503",
   "metadata": {},
   "outputs": [],
   "source": []
  }
 ],
 "metadata": {
  "kernelspec": {
   "display_name": "Python 3 (ipykernel)",
   "language": "python",
   "name": "python3"
  },
  "language_info": {
   "codemirror_mode": {
    "name": "ipython",
    "version": 3
   },
   "file_extension": ".py",
   "mimetype": "text/x-python",
   "name": "python",
   "nbconvert_exporter": "python",
   "pygments_lexer": "ipython3",
   "version": "3.8.12"
  },
  "toc": {
   "base_numbering": 1,
   "nav_menu": {},
   "number_sections": true,
   "sideBar": true,
   "skip_h1_title": false,
   "title_cell": "Table of Contents",
   "title_sidebar": "Contents",
   "toc_cell": false,
   "toc_position": {},
   "toc_section_display": true,
   "toc_window_display": false
  }
 },
 "nbformat": 4,
 "nbformat_minor": 5
}
