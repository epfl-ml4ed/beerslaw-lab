{
 "cells": [
  {
   "cell_type": "code",
   "execution_count": 26,
   "metadata": {
    "ExecuteTime": {
     "end_time": "2021-09-07T16:45:35.213968Z",
     "start_time": "2021-09-07T16:45:34.347241Z"
    }
   },
   "outputs": [],
   "source": [
    "import os\n",
    "import re\n",
    "import json\n",
    "import yaml\n",
    "import numpy as np\n",
    "import pandas as pd\n",
    "\n",
    "from bokeh.plotting import figure, output_file, show\n",
    "from bokeh.models import ColumnDataSource, HoverTool, Whisker\n",
    "from bokeh.sampledata.autompg import autompg as df\n",
    "from bokeh.io import output_file, show\n",
    "from bokeh.palettes import Spectral6\n",
    "from bokeh.transform import factor_cmap\n"
   ]
  },
  {
   "cell_type": "markdown",
   "metadata": {},
   "source": [
    "# functions"
   ]
  },
  {
   "cell_type": "code",
   "execution_count": 14,
   "metadata": {
    "ExecuteTime": {
     "end_time": "2021-09-07T16:39:24.058138Z",
     "start_time": "2021-09-07T16:39:24.038154Z"
    }
   },
   "outputs": [],
   "source": [
    "def get_embeddings(path: str) -> str:\n",
    "    em = re.compile('e([0-9]+)')\n",
    "    return em.findall(path)[0]\n",
    "\n",
    "def get_windows(path: str) -> str:\n",
    "    win = re.compile('w([0-9]+)')\n",
    "    return win.findall(path)[0]\n",
    "\n",
    "def get_epochs(path: str) -> str:\n",
    "    epochs = re.compile('ep([0-9]+)')\n",
    "    return epochs.findall(path)[0]\n",
    "\n",
    "def plot_skipgram_results()"
   ]
  },
  {
   "cell_type": "code",
   "execution_count": 2,
   "metadata": {
    "ExecuteTime": {
     "end_time": "2021-09-07T16:34:10.834293Z",
     "start_time": "2021-09-07T16:34:10.827314Z"
    }
   },
   "outputs": [],
   "source": [
    "experiment_name = 'pw training minimise'"
   ]
  },
  {
   "cell_type": "code",
   "execution_count": 3,
   "metadata": {
    "ExecuteTime": {
     "end_time": "2021-09-07T16:35:16.303440Z",
     "start_time": "2021-09-07T16:35:16.289450Z"
    }
   },
   "outputs": [],
   "source": [
    "path = '../../experiments/' + experiment_name + '/'"
   ]
  },
  {
   "cell_type": "code",
   "execution_count": 6,
   "metadata": {
    "ExecuteTime": {
     "end_time": "2021-09-07T16:35:45.923724Z",
     "start_time": "2021-09-07T16:35:45.902749Z"
    }
   },
   "outputs": [],
   "source": [
    "result_files = []\n",
    "for r, d, f in os.walk(path):\n",
    "    for file in f:\n",
    "        if file.endswith(\".csv\"):\n",
    "            result_files.append(os.path.join(r, file))"
   ]
  },
  {
   "cell_type": "code",
   "execution_count": 43,
   "metadata": {
    "ExecuteTime": {
     "end_time": "2021-09-07T16:48:47.456949Z",
     "start_time": "2021-09-07T16:48:47.425023Z"
    }
   },
   "outputs": [],
   "source": [
    "results = {}\n",
    "for i, file in enumerate(result_files):\n",
    "    f = pd.read_csv(file, sep=';')\n",
    "    results[i] = {\n",
    "        'embeddings': get_embeddings(file),\n",
    "        'windows': get_windows(file),\n",
    "        'epochs': get_epochs(file),\n",
    "        'accuracy': f.iloc[-1]['accuracy'],\n",
    "        'loss': f.iloc[-1]['loss'],\n",
    "        'val_accuracy': f.iloc[-1]['val_accuracy'],\n",
    "        'val_loss': f.iloc[-1]['val_loss'],\n",
    "    }\n",
    "results_df = pd.DataFrame(results).transpose().reset_index()"
   ]
  },
  {
   "cell_type": "code",
   "execution_count": 44,
   "metadata": {
    "ExecuteTime": {
     "end_time": "2021-09-07T16:48:47.752078Z",
     "start_time": "2021-09-07T16:48:47.727173Z"
    }
   },
   "outputs": [
    {
     "data": {
      "text/html": [
       "<div>\n",
       "<style scoped>\n",
       "    .dataframe tbody tr th:only-of-type {\n",
       "        vertical-align: middle;\n",
       "    }\n",
       "\n",
       "    .dataframe tbody tr th {\n",
       "        vertical-align: top;\n",
       "    }\n",
       "\n",
       "    .dataframe thead th {\n",
       "        text-align: right;\n",
       "    }\n",
       "</style>\n",
       "<table border=\"1\" class=\"dataframe\">\n",
       "  <thead>\n",
       "    <tr style=\"text-align: right;\">\n",
       "      <th></th>\n",
       "      <th>index</th>\n",
       "      <th>embeddings</th>\n",
       "      <th>windows</th>\n",
       "      <th>epochs</th>\n",
       "      <th>accuracy</th>\n",
       "      <th>loss</th>\n",
       "      <th>val_accuracy</th>\n",
       "      <th>val_loss</th>\n",
       "    </tr>\n",
       "  </thead>\n",
       "  <tbody>\n",
       "    <tr>\n",
       "      <th>0</th>\n",
       "      <td>0</td>\n",
       "      <td>10</td>\n",
       "      <td>4</td>\n",
       "      <td>1</td>\n",
       "      <td>0.6561</td>\n",
       "      <td>1.2773</td>\n",
       "      <td>0.737802</td>\n",
       "      <td>0.869313</td>\n",
       "    </tr>\n",
       "    <tr>\n",
       "      <th>1</th>\n",
       "      <td>1</td>\n",
       "      <td>10</td>\n",
       "      <td>4</td>\n",
       "      <td>1</td>\n",
       "      <td>0.6525</td>\n",
       "      <td>1.26593</td>\n",
       "      <td>0.752052</td>\n",
       "      <td>0.862462</td>\n",
       "    </tr>\n",
       "    <tr>\n",
       "      <th>2</th>\n",
       "      <td>2</td>\n",
       "      <td>10</td>\n",
       "      <td>6</td>\n",
       "      <td>1</td>\n",
       "      <td>0.66557</td>\n",
       "      <td>1.19478</td>\n",
       "      <td>0.741946</td>\n",
       "      <td>0.877774</td>\n",
       "    </tr>\n",
       "  </tbody>\n",
       "</table>\n",
       "</div>"
      ],
      "text/plain": [
       "   index embeddings windows epochs accuracy     loss val_accuracy  val_loss\n",
       "0      0         10       4      1   0.6561   1.2773     0.737802  0.869313\n",
       "1      1         10       4      1   0.6525  1.26593     0.752052  0.862462\n",
       "2      2         10       6      1  0.66557  1.19478     0.741946  0.877774"
      ]
     },
     "execution_count": 44,
     "metadata": {},
     "output_type": "execute_result"
    }
   ],
   "source": [
    "results_df"
   ]
  },
  {
   "cell_type": "code",
   "execution_count": 46,
   "metadata": {
    "ExecuteTime": {
     "end_time": "2021-09-07T16:49:48.680901Z",
     "start_time": "2021-09-07T16:49:48.476449Z"
    }
   },
   "outputs": [],
   "source": [
    "p = figure(\n",
    "    title='Parameter Comparison',\n",
    "    sizing_mode='stretch_both'\n",
    ")\n",
    "p.title.text_font_size = '15pt'\n",
    "p.xaxis.axis_label_text_font_size  = '2pt'\n",
    "p.yaxis.axis_label_text_font_size  = '2pt'\n",
    "\n",
    "p.vbar(x='index', top='accuracy',source=results_df, width=0.9, color='dodgerblue')\n",
    "p.add_tools(HoverTool(tooltips=[\n",
    "    ('embeddings', '@embeddings'), \n",
    "    ('windows', '@windows'),\n",
    "    ('epochs', '@epochs')\n",
    "]))\n",
    "show(p)"
   ]
  },
  {
   "cell_type": "code",
   "execution_count": null,
   "metadata": {},
   "outputs": [],
   "source": []
  },
  {
   "cell_type": "code",
   "execution_count": null,
   "metadata": {},
   "outputs": [],
   "source": []
  },
  {
   "cell_type": "code",
   "execution_count": null,
   "metadata": {},
   "outputs": [],
   "source": []
  },
  {
   "cell_type": "code",
   "execution_count": null,
   "metadata": {},
   "outputs": [],
   "source": []
  },
  {
   "cell_type": "code",
   "execution_count": null,
   "metadata": {},
   "outputs": [],
   "source": []
  },
  {
   "cell_type": "code",
   "execution_count": null,
   "metadata": {},
   "outputs": [],
   "source": []
  },
  {
   "cell_type": "code",
   "execution_count": null,
   "metadata": {},
   "outputs": [],
   "source": []
  },
  {
   "cell_type": "code",
   "execution_count": null,
   "metadata": {},
   "outputs": [],
   "source": []
  },
  {
   "cell_type": "code",
   "execution_count": null,
   "metadata": {},
   "outputs": [],
   "source": []
  },
  {
   "cell_type": "code",
   "execution_count": null,
   "metadata": {},
   "outputs": [],
   "source": []
  },
  {
   "cell_type": "code",
   "execution_count": null,
   "metadata": {},
   "outputs": [],
   "source": []
  },
  {
   "cell_type": "code",
   "execution_count": null,
   "metadata": {},
   "outputs": [],
   "source": []
  },
  {
   "cell_type": "code",
   "execution_count": null,
   "metadata": {},
   "outputs": [],
   "source": []
  },
  {
   "cell_type": "code",
   "execution_count": null,
   "metadata": {},
   "outputs": [],
   "source": []
  },
  {
   "cell_type": "code",
   "execution_count": null,
   "metadata": {},
   "outputs": [],
   "source": []
  },
  {
   "cell_type": "code",
   "execution_count": null,
   "metadata": {},
   "outputs": [],
   "source": []
  },
  {
   "cell_type": "code",
   "execution_count": null,
   "metadata": {},
   "outputs": [],
   "source": []
  },
  {
   "cell_type": "code",
   "execution_count": null,
   "metadata": {},
   "outputs": [],
   "source": []
  },
  {
   "cell_type": "code",
   "execution_count": null,
   "metadata": {},
   "outputs": [],
   "source": []
  },
  {
   "cell_type": "code",
   "execution_count": null,
   "metadata": {},
   "outputs": [],
   "source": []
  },
  {
   "cell_type": "code",
   "execution_count": null,
   "metadata": {},
   "outputs": [],
   "source": []
  },
  {
   "cell_type": "code",
   "execution_count": null,
   "metadata": {},
   "outputs": [],
   "source": []
  },
  {
   "cell_type": "code",
   "execution_count": null,
   "metadata": {},
   "outputs": [],
   "source": []
  }
 ],
 "metadata": {
  "kernelspec": {
   "display_name": "Python 3",
   "language": "python",
   "name": "python3"
  },
  "language_info": {
   "codemirror_mode": {
    "name": "ipython",
    "version": 3
   },
   "file_extension": ".py",
   "mimetype": "text/x-python",
   "name": "python",
   "nbconvert_exporter": "python",
   "pygments_lexer": "ipython3",
   "version": "3.6.12"
  },
  "toc": {
   "base_numbering": 1,
   "nav_menu": {},
   "number_sections": true,
   "sideBar": true,
   "skip_h1_title": false,
   "title_cell": "Table of Contents",
   "title_sidebar": "Contents",
   "toc_cell": false,
   "toc_position": {},
   "toc_section_display": true,
   "toc_window_display": false
  }
 },
 "nbformat": 4,
 "nbformat_minor": 4
}
